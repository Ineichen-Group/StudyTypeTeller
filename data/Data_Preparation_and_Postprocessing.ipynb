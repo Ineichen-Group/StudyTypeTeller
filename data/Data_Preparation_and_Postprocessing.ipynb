{
 "cells": [
  {
   "cell_type": "code",
   "execution_count": 1,
   "id": "1d584d9d-9694-4736-840d-ba08441acaf3",
   "metadata": {},
   "outputs": [],
   "source": [
    "import csv\n",
    "import pandas as pd\n",
    "import numpy as np \n",
    "import matplotlib.pyplot as plt\n",
    "import os"
   ]
  },
  {
   "cell_type": "code",
   "execution_count": 2,
   "id": "a5ff28a9-5243-4314-8376-487d0a2f9717",
   "metadata": {},
   "outputs": [],
   "source": [
    "import json\n",
    "import random"
   ]
  },
  {
   "cell_type": "markdown",
   "id": "99e8d47f-aeac-408e-b896-5947b4398c3c",
   "metadata": {},
   "source": [
    "# Prepare for annotation"
   ]
  },
  {
   "cell_type": "markdown",
   "id": "bc6582ee-ec15-4834-933c-ec999a141083",
   "metadata": {},
   "source": [
    "### Sample PMIDs"
   ]
  },
  {
   "cell_type": "code",
   "execution_count": 18,
   "id": "05ff51b4-d378-4473-b5d4-16e06f29d701",
   "metadata": {},
   "outputs": [
    {
     "data": {
      "text/plain": [
       "(2788345, 1)"
      ]
     },
     "execution_count": 18,
     "metadata": {},
     "output_type": "execute_result"
    }
   ],
   "source": [
    "file_path = \"./pubmed/cns_psychiatric_diseases_mesh.txt\"\n",
    "\n",
    "df_pmids = pd.read_csv(file_path, header=None)\n",
    "df_pmids.columns = ['PMID']\n",
    "df_pmids.shape"
   ]
  },
  {
   "cell_type": "code",
   "execution_count": null,
   "id": "4f2ee897-2cf8-47e2-8414-8eb8fcd1fc48",
   "metadata": {},
   "outputs": [
    {
     "data": {
      "text/html": [
       "<div>\n",
       "<style scoped>\n",
       "    .dataframe tbody tr th:only-of-type {\n",
       "        vertical-align: middle;\n",
       "    }\n",
       "\n",
       "    .dataframe tbody tr th {\n",
       "        vertical-align: top;\n",
       "    }\n",
       "\n",
       "    .dataframe thead th {\n",
       "        text-align: right;\n",
       "    }\n",
       "</style>\n",
       "<table border=\"1\" class=\"dataframe\">\n",
       "  <thead>\n",
       "    <tr style=\"text-align: right;\">\n",
       "      <th></th>\n",
       "      <th>PMID</th>\n",
       "    </tr>\n",
       "  </thead>\n",
       "  <tbody>\n",
       "    <tr>\n",
       "      <th>0</th>\n",
       "      <td>4</td>\n",
       "    </tr>\n",
       "    <tr>\n",
       "      <th>1</th>\n",
       "      <td>7</td>\n",
       "    </tr>\n",
       "    <tr>\n",
       "      <th>2</th>\n",
       "      <td>110</td>\n",
       "    </tr>\n",
       "    <tr>\n",
       "      <th>3</th>\n",
       "      <td>126</td>\n",
       "    </tr>\n",
       "    <tr>\n",
       "      <th>4</th>\n",
       "      <td>152</td>\n",
       "    </tr>\n",
       "  </tbody>\n",
       "</table>\n",
       "</div>"
      ],
      "text/plain": [
       "   PMID\n",
       "0     4\n",
       "1     7\n",
       "2   110\n",
       "3   126\n",
       "4   152"
      ]
     },
     "execution_count": 11,
     "metadata": {},
     "output_type": "execute_result"
    }
   ],
   "source": [
    "df_pmids.head()"
   ]
  },
  {
   "cell_type": "code",
   "execution_count": 12,
   "id": "7c2528fc-8611-4465-8500-549431dd6255",
   "metadata": {},
   "outputs": [],
   "source": [
    "# Set a fixed seed for reproducibility\n",
    "seed_value = 42\n",
    "# Use the sample method to obtain a random sample of 5000 rows\n",
    "df_sample = df_pmids.sample(n=5000, random_state=seed_value)"
   ]
  },
  {
   "cell_type": "code",
   "execution_count": 14,
   "id": "7a482baa-2e88-4b2c-b66d-f5b92ef70eec",
   "metadata": {},
   "outputs": [
    {
     "data": {
      "text/html": [
       "<div>\n",
       "<style scoped>\n",
       "    .dataframe tbody tr th:only-of-type {\n",
       "        vertical-align: middle;\n",
       "    }\n",
       "\n",
       "    .dataframe tbody tr th {\n",
       "        vertical-align: top;\n",
       "    }\n",
       "\n",
       "    .dataframe thead th {\n",
       "        text-align: right;\n",
       "    }\n",
       "</style>\n",
       "<table border=\"1\" class=\"dataframe\">\n",
       "  <thead>\n",
       "    <tr style=\"text-align: right;\">\n",
       "      <th></th>\n",
       "      <th>PMID</th>\n",
       "    </tr>\n",
       "  </thead>\n",
       "  <tbody>\n",
       "    <tr>\n",
       "      <th>2475761</th>\n",
       "      <td>32576286</td>\n",
       "    </tr>\n",
       "    <tr>\n",
       "      <th>577415</th>\n",
       "      <td>7442988</td>\n",
       "    </tr>\n",
       "    <tr>\n",
       "      <th>1170420</th>\n",
       "      <td>15115064</td>\n",
       "    </tr>\n",
       "    <tr>\n",
       "      <th>1887165</th>\n",
       "      <td>24517058</td>\n",
       "    </tr>\n",
       "    <tr>\n",
       "      <th>2685241</th>\n",
       "      <td>35894918</td>\n",
       "    </tr>\n",
       "  </tbody>\n",
       "</table>\n",
       "</div>"
      ],
      "text/plain": [
       "             PMID\n",
       "2475761  32576286\n",
       "577415    7442988\n",
       "1170420  15115064\n",
       "1887165  24517058\n",
       "2685241  35894918"
      ]
     },
     "execution_count": 14,
     "metadata": {},
     "output_type": "execute_result"
    }
   ],
   "source": [
    "df_sample.head()"
   ]
  },
  {
   "cell_type": "code",
   "execution_count": 19,
   "id": "671da12e-c9b5-4ab1-bc4d-a0806b39ae30",
   "metadata": {},
   "outputs": [],
   "source": [
    "# Save the sampled DataFrame as a tab-separated text file\n",
    "output_file_path = \"./pubmed/cns_psychiatric_diseases_mesh_5000_sample_pmids.txt\"\n",
    "df_sample.to_csv(output_file_path, index=False)"
   ]
  },
  {
   "cell_type": "code",
   "execution_count": 32,
   "id": "225e2cf9-5efa-44cd-a30e-b4c5ca4e62e0",
   "metadata": {},
   "outputs": [],
   "source": [
    "# NOTE: based on those IDs the contents will be fetched via the PubMed API, see README for details"
   ]
  },
  {
   "cell_type": "markdown",
   "id": "d53dd577-2c52-46a1-a22c-38337f15d1cb",
   "metadata": {},
   "source": [
    "### Read PubMed EDirect Outputs"
   ]
  },
  {
   "cell_type": "code",
   "execution_count": 20,
   "id": "89a018f6-95cc-4f88-b875-26d9fde266e7",
   "metadata": {},
   "outputs": [],
   "source": [
    "file_path = \"./pubmed/pmid_contents_mesh_query.txt\"\n",
    "\n",
    "df = pd.read_csv(file_path, sep='^')\n",
    "df.columns = ['PMID', 'PubDate/Year', 'Journal/Title', 'ArticleTitle', 'AbstractText', 'doi']"
   ]
  },
  {
   "cell_type": "code",
   "execution_count": 21,
   "id": "ebd1bdba-9a94-410f-a785-9fb3623bea65",
   "metadata": {},
   "outputs": [
    {
     "data": {
      "text/plain": [
       "(4999, 6)"
      ]
     },
     "execution_count": 21,
     "metadata": {},
     "output_type": "execute_result"
    }
   ],
   "source": [
    "df.shape"
   ]
  },
  {
   "cell_type": "code",
   "execution_count": 22,
   "id": "7be0b56f-5a16-4a71-a8ed-d7a116623d75",
   "metadata": {},
   "outputs": [
    {
     "data": {
      "text/html": [
       "<div>\n",
       "<style scoped>\n",
       "    .dataframe tbody tr th:only-of-type {\n",
       "        vertical-align: middle;\n",
       "    }\n",
       "\n",
       "    .dataframe tbody tr th {\n",
       "        vertical-align: top;\n",
       "    }\n",
       "\n",
       "    .dataframe thead th {\n",
       "        text-align: right;\n",
       "    }\n",
       "</style>\n",
       "<table border=\"1\" class=\"dataframe\">\n",
       "  <thead>\n",
       "    <tr style=\"text-align: right;\">\n",
       "      <th></th>\n",
       "      <th>PMID</th>\n",
       "      <th>PubDate/Year</th>\n",
       "      <th>Journal/Title</th>\n",
       "      <th>ArticleTitle</th>\n",
       "      <th>AbstractText</th>\n",
       "      <th>doi</th>\n",
       "    </tr>\n",
       "  </thead>\n",
       "  <tbody>\n",
       "    <tr>\n",
       "      <th>0</th>\n",
       "      <td>18753</td>\n",
       "      <td>1977.0</td>\n",
       "      <td>Psychopharmacology bulletin</td>\n",
       "      <td>An uncontrolled clinical study with piperaceta...</td>\n",
       "      <td>NaN</td>\n",
       "      <td>NaN</td>\n",
       "    </tr>\n",
       "    <tr>\n",
       "      <th>1</th>\n",
       "      <td>26201</td>\n",
       "      <td>1978.0</td>\n",
       "      <td>Acta virologica</td>\n",
       "      <td>Transmissible virus dementia. II. Neurohistolo...</td>\n",
       "      <td>Histopathological findings in three temporo-sp...</td>\n",
       "      <td>NaN</td>\n",
       "    </tr>\n",
       "    <tr>\n",
       "      <th>2</th>\n",
       "      <td>50412</td>\n",
       "      <td>1975.0</td>\n",
       "      <td>Journal of neurology</td>\n",
       "      <td>Iophendylate cisternography in diagnosis of ce...</td>\n",
       "      <td>60 cases of bilateral cerebellopontine angle p...</td>\n",
       "      <td>10.1007/BF00312802</td>\n",
       "    </tr>\n",
       "    <tr>\n",
       "      <th>3</th>\n",
       "      <td>61390</td>\n",
       "      <td>1976.0</td>\n",
       "      <td>Lancet (London, England)</td>\n",
       "      <td>Cardiopulmonary resuscitation by lay people.</td>\n",
       "      <td>The survival-rate in 75 of 631 patients with c...</td>\n",
       "      <td>10.1016/s0140-6736(76)90002-7</td>\n",
       "    </tr>\n",
       "    <tr>\n",
       "      <th>4</th>\n",
       "      <td>63356</td>\n",
       "      <td>1976.0</td>\n",
       "      <td>Child psychiatry and human development</td>\n",
       "      <td>Negotiating educational programs for children ...</td>\n",
       "      <td>An approach to negotiating educational program...</td>\n",
       "      <td>10.1007/BF01464418</td>\n",
       "    </tr>\n",
       "  </tbody>\n",
       "</table>\n",
       "</div>"
      ],
      "text/plain": [
       "    PMID  PubDate/Year                           Journal/Title  \\\n",
       "0  18753        1977.0             Psychopharmacology bulletin   \n",
       "1  26201        1978.0                         Acta virologica   \n",
       "2  50412        1975.0                    Journal of neurology   \n",
       "3  61390        1976.0                Lancet (London, England)   \n",
       "4  63356        1976.0  Child psychiatry and human development   \n",
       "\n",
       "                                        ArticleTitle  \\\n",
       "0  An uncontrolled clinical study with piperaceta...   \n",
       "1  Transmissible virus dementia. II. Neurohistolo...   \n",
       "2  Iophendylate cisternography in diagnosis of ce...   \n",
       "3       Cardiopulmonary resuscitation by lay people.   \n",
       "4  Negotiating educational programs for children ...   \n",
       "\n",
       "                                        AbstractText  \\\n",
       "0                                                NaN   \n",
       "1  Histopathological findings in three temporo-sp...   \n",
       "2  60 cases of bilateral cerebellopontine angle p...   \n",
       "3  The survival-rate in 75 of 631 patients with c...   \n",
       "4  An approach to negotiating educational program...   \n",
       "\n",
       "                             doi  \n",
       "0                            NaN  \n",
       "1                            NaN  \n",
       "2             10.1007/BF00312802  \n",
       "3  10.1016/s0140-6736(76)90002-7  \n",
       "4             10.1007/BF01464418  "
      ]
     },
     "execution_count": 22,
     "metadata": {},
     "output_type": "execute_result"
    }
   ],
   "source": [
    "df.head()"
   ]
  },
  {
   "cell_type": "code",
   "execution_count": 24,
   "id": "dad15595-0374-4c52-b872-e7403d98a9e9",
   "metadata": {},
   "outputs": [
    {
     "data": {
      "image/png": "[encoded data removed]",
      "text/plain": [
       "<Figure size 864x576 with 1 Axes>"
      ]
     },
     "metadata": {
      "needs_background": "light"
     },
     "output_type": "display_data"
    }
   ],
   "source": [
    "import matplotlib.pyplot as plt\n",
    "\n",
    "# Increase the figure size\n",
    "plt.figure(figsize=(12, 8))\n",
    "\n",
    "# Assuming df is your DataFrame\n",
    "# Plot the distribution of values in PubDate/Year\n",
    "df['PubDate/Year'].value_counts().plot(kind='bar')\n",
    "\n",
    "plt.xlabel('PubDate/Year')\n",
    "plt.ylabel('Count')\n",
    "plt.title('Distribution of PubDate/Year')\n",
    "\n",
    "# Display the plot\n",
    "plt.show()\n"
   ]
  },
  {
   "cell_type": "code",
   "execution_count": 25,
   "id": "941d91f9-590f-4a21-b109-dd11b87112aa",
   "metadata": {},
   "outputs": [],
   "source": [
    "df_cleaned = df.dropna(subset=['AbstractText'])"
   ]
  },
  {
   "cell_type": "code",
   "execution_count": 26,
   "id": "04b75425-2301-4ca5-918b-a0d0f8e3009f",
   "metadata": {},
   "outputs": [
    {
     "data": {
      "text/plain": [
       "(3560, 6)"
      ]
     },
     "execution_count": 26,
     "metadata": {},
     "output_type": "execute_result"
    }
   ],
   "source": [
    "df_cleaned.shape"
   ]
  },
  {
   "cell_type": "code",
   "execution_count": 27,
   "id": "9e0dc5f5-67ee-4ed3-9f57-85699192d923",
   "metadata": {},
   "outputs": [],
   "source": [
    "# Fill NaN values with an empty string\n",
    "df_cleaned = df_cleaned.fillna('')\n",
    "df_cleaned['AbstractText'] = df_cleaned['AbstractText'].str.replace('\"', \"\\'\")\n",
    "df_cleaned['ArticleTitle'] = df_cleaned['ArticleTitle'].str.replace('\"', \"\\'\")\n",
    "\n",
    "# Concatenate the desired columns with ^ separator\n",
    "df_cleaned['text'] = df_cleaned[['Journal/Title', 'ArticleTitle', 'AbstractText']].apply(lambda x: '^\\\\n'.join(map(str, x)), axis=1)\n",
    "\n",
    "# Create a new DataFrame with only the required columns\n",
    "result_df = df_cleaned[['PMID', 'text']]\n",
    "result_df.to_csv(\"./prodigy/input/all_{}_pubmed_with_abstracts.csv\".format(len(result_df)))"
   ]
  },
  {
   "cell_type": "markdown",
   "id": "19244425-c43e-490b-8d6e-968016680486",
   "metadata": {},
   "source": [
    "### Prepare in JSONL format for Prodigy"
   ]
  },
  {
   "cell_type": "code",
   "execution_count": 28,
   "id": "dd86dcfa-f2c1-4824-9355-b6c8173e8be2",
   "metadata": {},
   "outputs": [],
   "source": [
    "# Set a seed for reproducibility\n",
    "np.random.seed(42)\n",
    "\n",
    "# Randomly sample 2000 rows\n",
    "sampled_df = result_df.sample(n=2000)\n",
    "\n",
    "# Split into two DataFrames\n",
    "pilot_df = sampled_df.head(500)\n",
    "postpilot_df = sampled_df.tail(1500)\n",
    "\n",
    "# Convert the DataFrames to JSONL format\n",
    "pilot_jsonl_data = pilot_df.to_dict(orient='records')\n",
    "postpilot_jsonl_data = postpilot_df.to_dict(orient='records')\n",
    "\n",
    "# Save the sampled data to JSONL files\n",
    "with open('./prodigy/input/pilot_500_pubmed_abstracts.jsonl', 'w') as pilot_file:\n",
    "    for line in pilot_jsonl_data:\n",
    "        pilot_file.write(f'{{\"pmid\": \"{line[\"PMID\"]}\", \"text\": \"{line[\"text\"]}\"}}\\n')\n",
    "\n",
    "with open('./prodigy/input/postpilot_1500_pubmed_abstracts.jsonl', 'w') as postpilot_file:\n",
    "    for line in postpilot_jsonl_data:\n",
    "        postpilot_file.write(f'{{\"pmid\": \"{line[\"PMID\"]}\", \"text\": \"{line[\"text\"]}\"}}\\n')\n"
   ]
  },
  {
   "cell_type": "code",
   "execution_count": 29,
   "id": "1f43580c-2c5c-4ad7-9fa0-8263f75cfdb1",
   "metadata": {},
   "outputs": [],
   "source": [
    "# Convert the DataFrame to JSONL format\n",
    "jsonl_data = result_df.to_dict(orient='records')\n",
    "\n",
    "# Save the JSONL data to a file\n",
    "with open('./prodigy/pubmed_abstracts.jsonl', 'w') as jsonl_file:\n",
    "    for line in jsonl_data:\n",
    "        jsonl_file.write(f'{{\"pmid\": \"{line[\"PMID\"]}\", \"text\": \"{line[\"text\"]}\"}}\\n')"
   ]
  },
  {
   "cell_type": "code",
   "execution_count": 30,
   "id": "7d5735fd-410b-4f89-99c2-2042d607f012",
   "metadata": {},
   "outputs": [
    {
     "data": {
      "text/html": [
       "<div>\n",
       "<style scoped>\n",
       "    .dataframe tbody tr th:only-of-type {\n",
       "        vertical-align: middle;\n",
       "    }\n",
       "\n",
       "    .dataframe tbody tr th {\n",
       "        vertical-align: top;\n",
       "    }\n",
       "\n",
       "    .dataframe thead th {\n",
       "        text-align: right;\n",
       "    }\n",
       "</style>\n",
       "<table border=\"1\" class=\"dataframe\">\n",
       "  <thead>\n",
       "    <tr style=\"text-align: right;\">\n",
       "      <th></th>\n",
       "      <th>PMID</th>\n",
       "      <th>text</th>\n",
       "    </tr>\n",
       "  </thead>\n",
       "  <tbody>\n",
       "    <tr>\n",
       "      <th>1</th>\n",
       "      <td>26201</td>\n",
       "      <td>Acta virologica^\\nTransmissible virus dementia...</td>\n",
       "    </tr>\n",
       "    <tr>\n",
       "      <th>2</th>\n",
       "      <td>50412</td>\n",
       "      <td>Journal of neurology^\\nIophendylate cisternogr...</td>\n",
       "    </tr>\n",
       "    <tr>\n",
       "      <th>3</th>\n",
       "      <td>61390</td>\n",
       "      <td>Lancet (London, England)^\\nCardiopulmonary res...</td>\n",
       "    </tr>\n",
       "    <tr>\n",
       "      <th>4</th>\n",
       "      <td>63356</td>\n",
       "      <td>Child psychiatry and human development^\\nNegot...</td>\n",
       "    </tr>\n",
       "    <tr>\n",
       "      <th>8</th>\n",
       "      <td>78395</td>\n",
       "      <td>Lancet (London, England)^\\nHaemophilus meningi...</td>\n",
       "    </tr>\n",
       "    <tr>\n",
       "      <th>...</th>\n",
       "      <td>...</td>\n",
       "      <td>...</td>\n",
       "    </tr>\n",
       "    <tr>\n",
       "      <th>4994</th>\n",
       "      <td>37860852</td>\n",
       "      <td>European journal of psychotraumatology^\\nTreat...</td>\n",
       "    </tr>\n",
       "    <tr>\n",
       "      <th>4995</th>\n",
       "      <td>37900065</td>\n",
       "      <td>Journal of medicine and life^\\nA retrospective...</td>\n",
       "    </tr>\n",
       "    <tr>\n",
       "      <th>4996</th>\n",
       "      <td>37905374</td>\n",
       "      <td>Cognitive science^\\nRepeat After Me? Both Chil...</td>\n",
       "    </tr>\n",
       "    <tr>\n",
       "      <th>4997</th>\n",
       "      <td>37951702</td>\n",
       "      <td>Neuroimaging clinics of North America^\\nTreatm...</td>\n",
       "    </tr>\n",
       "    <tr>\n",
       "      <th>4998</th>\n",
       "      <td>37955900</td>\n",
       "      <td>JAMA network open^\\nNeighborhood Disadvantage,...</td>\n",
       "    </tr>\n",
       "  </tbody>\n",
       "</table>\n",
       "<p>3560 rows × 2 columns</p>\n",
       "</div>"
      ],
      "text/plain": [
       "          PMID                                               text\n",
       "1        26201  Acta virologica^\\nTransmissible virus dementia...\n",
       "2        50412  Journal of neurology^\\nIophendylate cisternogr...\n",
       "3        61390  Lancet (London, England)^\\nCardiopulmonary res...\n",
       "4        63356  Child psychiatry and human development^\\nNegot...\n",
       "8        78395  Lancet (London, England)^\\nHaemophilus meningi...\n",
       "...        ...                                                ...\n",
       "4994  37860852  European journal of psychotraumatology^\\nTreat...\n",
       "4995  37900065  Journal of medicine and life^\\nA retrospective...\n",
       "4996  37905374  Cognitive science^\\nRepeat After Me? Both Chil...\n",
       "4997  37951702  Neuroimaging clinics of North America^\\nTreatm...\n",
       "4998  37955900  JAMA network open^\\nNeighborhood Disadvantage,...\n",
       "\n",
       "[3560 rows x 2 columns]"
      ]
     },
     "execution_count": 30,
     "metadata": {},
     "output_type": "execute_result"
    }
   ],
   "source": [
    "result_df"
   ]
  },
  {
   "cell_type": "markdown",
   "id": "4ff5a28b-4eb3-4f9b-8429-10cc4ed86044",
   "metadata": {},
   "source": [
    "## Second Pilot"
   ]
  },
  {
   "cell_type": "code",
   "execution_count": 4,
   "id": "2fd70977-9a4a-4af4-ae18-7541a55f4361",
   "metadata": {},
   "outputs": [],
   "source": [
    "input_file_path = './prodigy/input/postpilot_1500_pubmed_abstracts.jsonl'\n",
    "sampled_file_path = './prodigy/input/pilot_2_sampled_200.jsonl'\n",
    "remaining_file_path = './prodigy/input/remaining_1300.jsonl'\n",
    "\n",
    "# Read the JSONL file\n",
    "with open(input_file_path, 'r') as file:\n",
    "    lines = file.readlines()\n",
    "\n",
    "# Randomly sample 200 lines\n",
    "sampled_lines = random.sample(lines, 200)\n",
    "\n",
    "# Save the sampled lines to one file\n",
    "with open(sampled_file_path, 'w') as sampled_file:\n",
    "    sampled_file.writelines(sampled_lines)\n",
    "\n",
    "# Save the remaining lines to another file\n",
    "remaining_lines = [line for line in lines if line not in sampled_lines]\n",
    "with open(remaining_file_path, 'w') as remaining_file:\n",
    "    remaining_file.writelines(remaining_lines)"
   ]
  },
  {
   "cell_type": "markdown",
   "id": "3f7376fe-2e87-4903-95ef-c36ee5059758",
   "metadata": {},
   "source": [
    "## Set prodigy ids"
   ]
  },
  {
   "cell_type": "code",
   "execution_count": 1,
   "id": "edd62f1e-8c09-4117-9024-9777625f43aa",
   "metadata": {},
   "outputs": [],
   "source": [
    "import json\n",
    "\n",
    "# Read the JSONL file\n",
    "with open(\"./prodigy/annotated_output/pilot_500_pubmed_abstracts_shirin.jsonl\", 'r') as file:\n",
    "    lines = file.readlines()\n",
    "\n",
    "# Process each line\n",
    "for i, line in enumerate(lines):\n",
    "    data = json.loads(line)\n",
    "\n",
    "    # Replace values\n",
    "    data['_session_id'] = 'pilot-500-shirin'\n",
    "    data['_annotator_id'] = 'shirin'\n",
    "\n",
    "    # Convert back to JSON string\n",
    "    lines[i] = json.dumps(data) + '\\n'\n",
    "\n",
    "# Write the modified data back to the file\n",
    "with open('./prodigy/annotated_output/pilot_500_pubmed_abstracts_shirin_correct_id.jsonl', 'w') as file:\n",
    "    file.writelines(lines)"
   ]
  },
  {
   "cell_type": "markdown",
   "id": "c291cdca-f9a1-4187-8e38-a92db1890bd5",
   "metadata": {},
   "source": [
    "# Read and combine annotated data"
   ]
  },
  {
   "cell_type": "code",
   "execution_count": 3,
   "id": "16c85c12-b648-443d-b3b0-986cae855216",
   "metadata": {},
   "outputs": [],
   "source": [
    "def visualize_label_frequencies(df, annotator_name, save_path='./prodigy/viz'):\n",
    "    # Mapping labels to numerical values\n",
    "    labels = [\"Human-systematic-review\", \"Human-RCT-drug-intervention\", \"Human-RCT-non-drug-intervention\", \"Human-RCT-non-intervention\", \"Human-case-report\", \"Human-non-RCT-drug-intervention\", \"Human-non-RCT-non-drug-intervention\", \"Animal-systematic-review\", \"Animal-drug-intervention\", \"Animal-non-drug-intervention\", \"Animal-other\", \"Non-systematic-review\", \"In-vitro-study\", \"Clinical-study-protocol\", \"Remaining\"]\n",
    "\n",
    "    label_to_numerical = {label: i for i, label in enumerate(labels)}\n",
    "\n",
    "    # Create a new column with mapped values\n",
    "    label_title = 'accepted_label'\n",
    "\n",
    "    # Plotting the frequency of each label with inverted y-axis and values on bars\n",
    "    plt.figure(figsize=(10, 6))\n",
    "    ax = df[label_title].value_counts().sort_values(ascending=True).plot(kind='barh', color='skyblue')\n",
    "    plt.title(f'Label Frequency')\n",
    "    plt.xlabel('Frequency')\n",
    "    plt.ylabel('Label')\n",
    "\n",
    "    # Display the frequency values on the bars\n",
    "    for i, value in enumerate(df[label_title].value_counts().sort_values(ascending=True)):\n",
    "        ax.text(value, i, str(value), va='center', ha='left')\n",
    "\n",
    "    # Ensure the 'viz' folder exists\n",
    "    os.makedirs(save_path, exist_ok=True)\n",
    "\n",
    "    # Save the plot as an image\n",
    "    save_filename = os.path.join(save_path, f'label_frequency_{annotator_name}_{len(df)}.png')\n",
    "    plt.savefig(save_filename, bbox_inches='tight')\n",
    "    plt.show()"
   ]
  },
  {
   "cell_type": "code",
   "execution_count": 4,
   "id": "12b5d86c-43bc-4489-a1fc-7b021f5717a3",
   "metadata": {},
   "outputs": [],
   "source": [
    "def read_and_process_jsonl_to_df(file_path):\n",
    "    data_list = []\n",
    "\n",
    "    # Read the JSONL file line by line\n",
    "    with open(file_path, 'r') as file:\n",
    "        for line in file:\n",
    "            # Parse each line as a JSON object\n",
    "            data = json.loads(line.strip())\n",
    "\n",
    "            # Check if _view_id is \"review\"\n",
    "            if data.get(\"_view_id\") == \"review\":\n",
    "                answer = data.get(\"answer\")\n",
    "                if answer != \"accept\":\n",
    "                    print(answer)\n",
    "                    if answer == \"reject\":\n",
    "                        continue\n",
    "                # Split text into journal_name, title, and abstract based on ^\\n symbol\n",
    "                text = data.get(\"text\", \"\")\n",
    "                parts = text.split(\"^\\n\", 2)  # Split into three parts based on first two ^\\n occurrences\n",
    "                \n",
    "                journal_name = parts[0].strip() if len(parts) > 0 else \"\"\n",
    "                title = parts[1].strip() if len(parts) > 1 else \"\"\n",
    "                abstract = parts[2].strip() if len(parts) > 2 else \"\"\n",
    "                \n",
    "                # Extract other required fields\n",
    "                pmid = data.get(\"pmid\", \"\")\n",
    "                accept = data.get(\"accept\", [])\n",
    "                \n",
    "                # Append to the list\n",
    "                data_list.append({\n",
    "                    \"pmid\": pmid,\n",
    "                    \"journal_name\": journal_name,\n",
    "                    \"title\": title,\n",
    "                    \"abstract\": abstract,\n",
    "                    \"accepted_label\": accept\n",
    "                })\n",
    "            else:\n",
    "                print(\"review id was: \", data.get(\"_view_id\"))\n",
    "\n",
    "    # Convert the list of dictionaries to a pandas DataFrame\n",
    "    df = pd.DataFrame(data_list)\n",
    "    return df"
   ]
  },
  {
   "cell_type": "code",
   "execution_count": 5,
   "id": "6a13b882-ddf1-476a-96f2-7c65e7ecd5b5",
   "metadata": {},
   "outputs": [
    {
     "data": {
      "text/plain": [
       "(1299, 5)"
      ]
     },
     "execution_count": 5,
     "metadata": {},
     "output_type": "execute_result"
    }
   ],
   "source": [
    "file_name_1 = './prodigy/annotated_output/final/1300_remaining_abstracts_merged.jsonl'\n",
    "result_df_1 = read_and_process_jsonl_to_df(file_name_1)\n",
    "result_df_1.shape"
   ]
  },
  {
   "cell_type": "code",
   "execution_count": 6,
   "id": "4aab35ad-4866-4161-a659-311bd9e789d4",
   "metadata": {},
   "outputs": [
    {
     "data": {
      "text/html": [
       "<div>\n",
       "<style scoped>\n",
       "    .dataframe tbody tr th:only-of-type {\n",
       "        vertical-align: middle;\n",
       "    }\n",
       "\n",
       "    .dataframe tbody tr th {\n",
       "        vertical-align: top;\n",
       "    }\n",
       "\n",
       "    .dataframe thead th {\n",
       "        text-align: right;\n",
       "    }\n",
       "</style>\n",
       "<table border=\"1\" class=\"dataframe\">\n",
       "  <thead>\n",
       "    <tr style=\"text-align: right;\">\n",
       "      <th></th>\n",
       "      <th>pmid</th>\n",
       "      <th>journal_name</th>\n",
       "      <th>title</th>\n",
       "      <th>abstract</th>\n",
       "      <th>accepted_label</th>\n",
       "    </tr>\n",
       "  </thead>\n",
       "  <tbody>\n",
       "    <tr>\n",
       "      <th>0</th>\n",
       "      <td>18379746</td>\n",
       "      <td>Der Radiologe</td>\n",
       "      <td>[Pediatric stroke].</td>\n",
       "      <td>Stroke in childhood has gained increasingly mo...</td>\n",
       "      <td>[Non-systematic-review]</td>\n",
       "    </tr>\n",
       "    <tr>\n",
       "      <th>1</th>\n",
       "      <td>24660674</td>\n",
       "      <td>Journal of consulting and clinical psychology</td>\n",
       "      <td>Treatment engagement and response to CBT among...</td>\n",
       "      <td>In the current study, we compared measures of ...</td>\n",
       "      <td>[Human-RCT-non-drug-intervention]</td>\n",
       "    </tr>\n",
       "    <tr>\n",
       "      <th>2</th>\n",
       "      <td>20159133</td>\n",
       "      <td>Archives of physical medicine and rehabilitation</td>\n",
       "      <td>Relationship between perceived exertion and ph...</td>\n",
       "      <td>To investigate the strength of the relationshi...</td>\n",
       "      <td>[Remaining]</td>\n",
       "    </tr>\n",
       "    <tr>\n",
       "      <th>3</th>\n",
       "      <td>11781147</td>\n",
       "      <td>Biochimica et biophysica acta</td>\n",
       "      <td>Characterization of a missense mutation at his...</td>\n",
       "      <td>Genetic defects in pyruvate dehydrogenase comp...</td>\n",
       "      <td>[Remaining]</td>\n",
       "    </tr>\n",
       "    <tr>\n",
       "      <th>4</th>\n",
       "      <td>31706919</td>\n",
       "      <td>Epilepsy &amp; behavior : E&amp;B</td>\n",
       "      <td>The role of P-glycoprotein (P-gp) and inwardly...</td>\n",
       "      <td>Sudden unexpected death in epilepsy (SUDEP) is...</td>\n",
       "      <td>[Non-systematic-review]</td>\n",
       "    </tr>\n",
       "  </tbody>\n",
       "</table>\n",
       "</div>"
      ],
      "text/plain": [
       "       pmid                                      journal_name  \\\n",
       "0  18379746                                     Der Radiologe   \n",
       "1  24660674     Journal of consulting and clinical psychology   \n",
       "2  20159133  Archives of physical medicine and rehabilitation   \n",
       "3  11781147                     Biochimica et biophysica acta   \n",
       "4  31706919                         Epilepsy & behavior : E&B   \n",
       "\n",
       "                                               title  \\\n",
       "0                                [Pediatric stroke].   \n",
       "1  Treatment engagement and response to CBT among...   \n",
       "2  Relationship between perceived exertion and ph...   \n",
       "3  Characterization of a missense mutation at his...   \n",
       "4  The role of P-glycoprotein (P-gp) and inwardly...   \n",
       "\n",
       "                                            abstract  \\\n",
       "0  Stroke in childhood has gained increasingly mo...   \n",
       "1  In the current study, we compared measures of ...   \n",
       "2  To investigate the strength of the relationshi...   \n",
       "3  Genetic defects in pyruvate dehydrogenase comp...   \n",
       "4  Sudden unexpected death in epilepsy (SUDEP) is...   \n",
       "\n",
       "                      accepted_label  \n",
       "0            [Non-systematic-review]  \n",
       "1  [Human-RCT-non-drug-intervention]  \n",
       "2                        [Remaining]  \n",
       "3                        [Remaining]  \n",
       "4            [Non-systematic-review]  "
      ]
     },
     "execution_count": 6,
     "metadata": {},
     "output_type": "execute_result"
    }
   ],
   "source": [
    "result_df_1.head()"
   ]
  },
  {
   "cell_type": "code",
   "execution_count": 7,
   "id": "03783849-3aae-4e8a-ae9d-18bf8ab6f6dd",
   "metadata": {},
   "outputs": [
    {
     "name": "stdout",
     "output_type": "stream",
     "text": [
      "reject\n",
      "reject\n",
      "reject\n"
     ]
    },
    {
     "data": {
      "text/plain": [
       "(497, 5)"
      ]
     },
     "execution_count": 7,
     "metadata": {},
     "output_type": "execute_result"
    }
   ],
   "source": [
    "file_name_2 = './prodigy/annotated_output/final/pilot1_re-annotated_merged.jsonl'\n",
    "result_df_2 = read_and_process_jsonl_to_df(file_name_2)\n",
    "result_df_2.shape"
   ]
  },
  {
   "cell_type": "code",
   "execution_count": 8,
   "id": "4c208158-fd9e-4aba-868c-32380b0d3a40",
   "metadata": {},
   "outputs": [
    {
     "data": {
      "text/html": [
       "<div>\n",
       "<style scoped>\n",
       "    .dataframe tbody tr th:only-of-type {\n",
       "        vertical-align: middle;\n",
       "    }\n",
       "\n",
       "    .dataframe tbody tr th {\n",
       "        vertical-align: top;\n",
       "    }\n",
       "\n",
       "    .dataframe thead th {\n",
       "        text-align: right;\n",
       "    }\n",
       "</style>\n",
       "<table border=\"1\" class=\"dataframe\">\n",
       "  <thead>\n",
       "    <tr style=\"text-align: right;\">\n",
       "      <th></th>\n",
       "      <th>pmid</th>\n",
       "      <th>journal_name</th>\n",
       "      <th>title</th>\n",
       "      <th>abstract</th>\n",
       "      <th>accepted_label</th>\n",
       "    </tr>\n",
       "  </thead>\n",
       "  <tbody>\n",
       "    <tr>\n",
       "      <th>0</th>\n",
       "      <td>37550718</td>\n",
       "      <td>Trials</td>\n",
       "      <td>Can dexamethasone improve postoperative sleep ...</td>\n",
       "      <td>Perioperative sleep disorders (PSD) are an ind...</td>\n",
       "      <td>[Human-RCT-drug-intervention]</td>\n",
       "    </tr>\n",
       "    <tr>\n",
       "      <th>1</th>\n",
       "      <td>2500373</td>\n",
       "      <td>Developmental medicine and child neurology</td>\n",
       "      <td>Effects of puberty on seizure frequency.</td>\n",
       "      <td>Seizure frequency was documented before, durin...</td>\n",
       "      <td>[Remaining]</td>\n",
       "    </tr>\n",
       "    <tr>\n",
       "      <th>2</th>\n",
       "      <td>36189588</td>\n",
       "      <td>Journal of Alzheimer's disease : JAD</td>\n",
       "      <td>Characterization of Mild Cognitive Impairment ...</td>\n",
       "      <td>Despite tremendous advancements in the field, ...</td>\n",
       "      <td>[Remaining]</td>\n",
       "    </tr>\n",
       "    <tr>\n",
       "      <th>3</th>\n",
       "      <td>36314672</td>\n",
       "      <td>Journal of vector ecology : journal of the Soc...</td>\n",
       "      <td>Effects of woody plant encroachment by eastern...</td>\n",
       "      <td>Woody plant encroachment into grasslands is oc...</td>\n",
       "      <td>[Remaining]</td>\n",
       "    </tr>\n",
       "    <tr>\n",
       "      <th>4</th>\n",
       "      <td>29172241</td>\n",
       "      <td>Depression and anxiety</td>\n",
       "      <td>The impact of resilience and subsequent stress...</td>\n",
       "      <td>There remains a dearth of research examining t...</td>\n",
       "      <td>[Remaining]</td>\n",
       "    </tr>\n",
       "  </tbody>\n",
       "</table>\n",
       "</div>"
      ],
      "text/plain": [
       "       pmid                                       journal_name  \\\n",
       "0  37550718                                             Trials   \n",
       "1   2500373         Developmental medicine and child neurology   \n",
       "2  36189588               Journal of Alzheimer's disease : JAD   \n",
       "3  36314672  Journal of vector ecology : journal of the Soc...   \n",
       "4  29172241                             Depression and anxiety   \n",
       "\n",
       "                                               title  \\\n",
       "0  Can dexamethasone improve postoperative sleep ...   \n",
       "1           Effects of puberty on seizure frequency.   \n",
       "2  Characterization of Mild Cognitive Impairment ...   \n",
       "3  Effects of woody plant encroachment by eastern...   \n",
       "4  The impact of resilience and subsequent stress...   \n",
       "\n",
       "                                            abstract  \\\n",
       "0  Perioperative sleep disorders (PSD) are an ind...   \n",
       "1  Seizure frequency was documented before, durin...   \n",
       "2  Despite tremendous advancements in the field, ...   \n",
       "3  Woody plant encroachment into grasslands is oc...   \n",
       "4  There remains a dearth of research examining t...   \n",
       "\n",
       "                  accepted_label  \n",
       "0  [Human-RCT-drug-intervention]  \n",
       "1                    [Remaining]  \n",
       "2                    [Remaining]  \n",
       "3                    [Remaining]  \n",
       "4                    [Remaining]  "
      ]
     },
     "execution_count": 8,
     "metadata": {},
     "output_type": "execute_result"
    }
   ],
   "source": [
    "result_df_2.head()"
   ]
  },
  {
   "cell_type": "code",
   "execution_count": 9,
   "id": "de09d0bd-afa6-413a-8084-69fa3fb76012",
   "metadata": {},
   "outputs": [
    {
     "data": {
      "text/plain": [
       "(200, 5)"
      ]
     },
     "execution_count": 9,
     "metadata": {},
     "output_type": "execute_result"
    }
   ],
   "source": [
    "file_name_3 = './prodigy/annotated_output/final/pilot_2_reviewed_merged.jsonl'\n",
    "result_df_3 = read_and_process_jsonl_to_df(file_name_3)\n",
    "result_df_3.shape"
   ]
  },
  {
   "cell_type": "code",
   "execution_count": 10,
   "id": "4a57928c-f74f-4554-86ae-fcbf9da6fd23",
   "metadata": {},
   "outputs": [
    {
     "data": {
      "text/html": [
       "<div>\n",
       "<style scoped>\n",
       "    .dataframe tbody tr th:only-of-type {\n",
       "        vertical-align: middle;\n",
       "    }\n",
       "\n",
       "    .dataframe tbody tr th {\n",
       "        vertical-align: top;\n",
       "    }\n",
       "\n",
       "    .dataframe thead th {\n",
       "        text-align: right;\n",
       "    }\n",
       "</style>\n",
       "<table border=\"1\" class=\"dataframe\">\n",
       "  <thead>\n",
       "    <tr style=\"text-align: right;\">\n",
       "      <th></th>\n",
       "      <th>pmid</th>\n",
       "      <th>journal_name</th>\n",
       "      <th>title</th>\n",
       "      <th>abstract</th>\n",
       "      <th>accepted_label</th>\n",
       "    </tr>\n",
       "  </thead>\n",
       "  <tbody>\n",
       "    <tr>\n",
       "      <th>0</th>\n",
       "      <td>2420691</td>\n",
       "      <td>Fortschritte der Neurologie-Psychiatrie</td>\n",
       "      <td>[Aphasia in children].</td>\n",
       "      <td>The acquired aphasia in children is a rarely s...</td>\n",
       "      <td>[Non-systematic-review]</td>\n",
       "    </tr>\n",
       "    <tr>\n",
       "      <th>1</th>\n",
       "      <td>23027099</td>\n",
       "      <td>Journal of clinical neurophysiology : official...</td>\n",
       "      <td>Epileptic encephalopathies in infants and chil...</td>\n",
       "      <td>The term epileptic encephalopathy is used to d...</td>\n",
       "      <td>[Non-systematic-review]</td>\n",
       "    </tr>\n",
       "    <tr>\n",
       "      <th>2</th>\n",
       "      <td>17018553</td>\n",
       "      <td>Journal of pediatric psychology</td>\n",
       "      <td>Family socialization of adolescent's self-repo...</td>\n",
       "      <td>To examine the main and interactive effects of...</td>\n",
       "      <td>[Remaining]</td>\n",
       "    </tr>\n",
       "    <tr>\n",
       "      <th>3</th>\n",
       "      <td>27935389</td>\n",
       "      <td>Journal of mental health (Abingdon, England)</td>\n",
       "      <td>The effect of Interaction Anxiousness Scale an...</td>\n",
       "      <td>Social anxiety disorder (SAD) is one of the mo...</td>\n",
       "      <td>[Remaining]</td>\n",
       "    </tr>\n",
       "    <tr>\n",
       "      <th>4</th>\n",
       "      <td>29101712</td>\n",
       "      <td>Journal of cancer survivorship : research and ...</td>\n",
       "      <td>Posttraumatic stress-related psychological fun...</td>\n",
       "      <td>The majority of research examining posttraumat...</td>\n",
       "      <td>[Non-systematic-review]</td>\n",
       "    </tr>\n",
       "  </tbody>\n",
       "</table>\n",
       "</div>"
      ],
      "text/plain": [
       "       pmid                                       journal_name  \\\n",
       "0   2420691            Fortschritte der Neurologie-Psychiatrie   \n",
       "1  23027099  Journal of clinical neurophysiology : official...   \n",
       "2  17018553                    Journal of pediatric psychology   \n",
       "3  27935389       Journal of mental health (Abingdon, England)   \n",
       "4  29101712  Journal of cancer survivorship : research and ...   \n",
       "\n",
       "                                               title  \\\n",
       "0                             [Aphasia in children].   \n",
       "1  Epileptic encephalopathies in infants and chil...   \n",
       "2  Family socialization of adolescent's self-repo...   \n",
       "3  The effect of Interaction Anxiousness Scale an...   \n",
       "4  Posttraumatic stress-related psychological fun...   \n",
       "\n",
       "                                            abstract           accepted_label  \n",
       "0  The acquired aphasia in children is a rarely s...  [Non-systematic-review]  \n",
       "1  The term epileptic encephalopathy is used to d...  [Non-systematic-review]  \n",
       "2  To examine the main and interactive effects of...              [Remaining]  \n",
       "3  Social anxiety disorder (SAD) is one of the mo...              [Remaining]  \n",
       "4  The majority of research examining posttraumat...  [Non-systematic-review]  "
      ]
     },
     "execution_count": 10,
     "metadata": {},
     "output_type": "execute_result"
    }
   ],
   "source": [
    "result_df_3.head()"
   ]
  },
  {
   "cell_type": "code",
   "execution_count": 11,
   "id": "f8168ab9-bc39-44f2-8f3b-24af93ef9221",
   "metadata": {},
   "outputs": [
    {
     "data": {
      "text/plain": [
       "(1996, 5)"
      ]
     },
     "execution_count": 11,
     "metadata": {},
     "output_type": "execute_result"
    }
   ],
   "source": [
    "df_concatenated = pd.concat([result_df_1, result_df_2, result_df_3], ignore_index=True)\n",
    "df_concatenated = df_concatenated.explode('accepted_label')\n",
    "df_concatenated.shape"
   ]
  },
  {
   "cell_type": "code",
   "execution_count": 12,
   "id": "2581097e-94ff-48e8-9165-7ce04921e30c",
   "metadata": {},
   "outputs": [
    {
     "data": {
      "text/plain": [
       "1996"
      ]
     },
     "execution_count": 12,
     "metadata": {},
     "output_type": "execute_result"
    }
   ],
   "source": [
    "len(set(df_concatenated['pmid']))"
   ]
  },
  {
   "cell_type": "code",
   "execution_count": 13,
   "id": "20829971-9685-4010-96a2-695a5c31121c",
   "metadata": {},
   "outputs": [
    {
     "data": {
      "image/png": "[encoded data removed]",
      "text/plain": [
       "<Figure size 1000x600 with 1 Axes>"
      ]
     },
     "metadata": {},
     "output_type": "display_data"
    }
   ],
   "source": [
    "visualize_label_frequencies(df_concatenated, 'final_merged', save_path='./prodigy/viz')"
   ]
  },
  {
   "cell_type": "code",
   "execution_count": 14,
   "id": "82712ddb-81b8-4a4f-b5db-31fd634d5caf",
   "metadata": {},
   "outputs": [
    {
     "data": {
      "text/html": [
       "<div>\n",
       "<style scoped>\n",
       "    .dataframe tbody tr th:only-of-type {\n",
       "        vertical-align: middle;\n",
       "    }\n",
       "\n",
       "    .dataframe tbody tr th {\n",
       "        vertical-align: top;\n",
       "    }\n",
       "\n",
       "    .dataframe thead th {\n",
       "        text-align: right;\n",
       "    }\n",
       "</style>\n",
       "<table border=\"1\" class=\"dataframe\">\n",
       "  <thead>\n",
       "    <tr style=\"text-align: right;\">\n",
       "      <th></th>\n",
       "      <th>pmid</th>\n",
       "      <th>journal_name</th>\n",
       "      <th>title</th>\n",
       "      <th>abstract</th>\n",
       "      <th>accepted_label</th>\n",
       "    </tr>\n",
       "  </thead>\n",
       "  <tbody>\n",
       "    <tr>\n",
       "      <th>0</th>\n",
       "      <td>18379746</td>\n",
       "      <td>Der Radiologe</td>\n",
       "      <td>[Pediatric stroke].</td>\n",
       "      <td>Stroke in childhood has gained increasingly mo...</td>\n",
       "      <td>Non-systematic-review</td>\n",
       "    </tr>\n",
       "    <tr>\n",
       "      <th>1</th>\n",
       "      <td>24660674</td>\n",
       "      <td>Journal of consulting and clinical psychology</td>\n",
       "      <td>Treatment engagement and response to CBT among...</td>\n",
       "      <td>In the current study, we compared measures of ...</td>\n",
       "      <td>Human-RCT-non-drug-intervention</td>\n",
       "    </tr>\n",
       "    <tr>\n",
       "      <th>2</th>\n",
       "      <td>20159133</td>\n",
       "      <td>Archives of physical medicine and rehabilitation</td>\n",
       "      <td>Relationship between perceived exertion and ph...</td>\n",
       "      <td>To investigate the strength of the relationshi...</td>\n",
       "      <td>Remaining</td>\n",
       "    </tr>\n",
       "    <tr>\n",
       "      <th>3</th>\n",
       "      <td>11781147</td>\n",
       "      <td>Biochimica et biophysica acta</td>\n",
       "      <td>Characterization of a missense mutation at his...</td>\n",
       "      <td>Genetic defects in pyruvate dehydrogenase comp...</td>\n",
       "      <td>Remaining</td>\n",
       "    </tr>\n",
       "    <tr>\n",
       "      <th>4</th>\n",
       "      <td>31706919</td>\n",
       "      <td>Epilepsy &amp; behavior : E&amp;B</td>\n",
       "      <td>The role of P-glycoprotein (P-gp) and inwardly...</td>\n",
       "      <td>Sudden unexpected death in epilepsy (SUDEP) is...</td>\n",
       "      <td>Non-systematic-review</td>\n",
       "    </tr>\n",
       "  </tbody>\n",
       "</table>\n",
       "</div>"
      ],
      "text/plain": [
       "       pmid                                      journal_name  \\\n",
       "0  18379746                                     Der Radiologe   \n",
       "1  24660674     Journal of consulting and clinical psychology   \n",
       "2  20159133  Archives of physical medicine and rehabilitation   \n",
       "3  11781147                     Biochimica et biophysica acta   \n",
       "4  31706919                         Epilepsy & behavior : E&B   \n",
       "\n",
       "                                               title  \\\n",
       "0                                [Pediatric stroke].   \n",
       "1  Treatment engagement and response to CBT among...   \n",
       "2  Relationship between perceived exertion and ph...   \n",
       "3  Characterization of a missense mutation at his...   \n",
       "4  The role of P-glycoprotein (P-gp) and inwardly...   \n",
       "\n",
       "                                            abstract  \\\n",
       "0  Stroke in childhood has gained increasingly mo...   \n",
       "1  In the current study, we compared measures of ...   \n",
       "2  To investigate the strength of the relationshi...   \n",
       "3  Genetic defects in pyruvate dehydrogenase comp...   \n",
       "4  Sudden unexpected death in epilepsy (SUDEP) is...   \n",
       "\n",
       "                    accepted_label  \n",
       "0            Non-systematic-review  \n",
       "1  Human-RCT-non-drug-intervention  \n",
       "2                        Remaining  \n",
       "3                        Remaining  \n",
       "4            Non-systematic-review  "
      ]
     },
     "execution_count": 14,
     "metadata": {},
     "output_type": "execute_result"
    }
   ],
   "source": [
    "df_concatenated.head()"
   ]
  },
  {
   "cell_type": "code",
   "execution_count": 15,
   "id": "8ecaedd1-578b-419d-815c-781a6062cc74",
   "metadata": {},
   "outputs": [],
   "source": [
    "df_concatenated.to_csv(\"./prodigy/annotated_output/final/full_combined_dataset_{}.csv\".format(len(df_concatenated)))"
   ]
  },
  {
   "cell_type": "code",
   "execution_count": 17,
   "id": "fd8d8117-6ba2-49d8-9ae0-98563b3c50a0",
   "metadata": {},
   "outputs": [
    {
     "data": {
      "text/plain": [
       "(1996, 5)"
      ]
     },
     "execution_count": 17,
     "metadata": {},
     "output_type": "execute_result"
    }
   ],
   "source": [
    "df_concatenated.shape"
   ]
  },
  {
   "cell_type": "code",
   "execution_count": 16,
   "id": "b8e02a54-903c-4995-aa07-c825e6e39a46",
   "metadata": {},
   "outputs": [],
   "source": [
    "# Path to save the JSONL file\n",
    "file_path = './prodigy/annotated_output/final/full_combined_dataset_{}.jsonl'.format(len(df_concatenated))\n",
    "\n",
    "# Convert DataFrame to JSONL and save\n",
    "with open(file_path, 'w') as file:\n",
    "    for _, row in df_concatenated.iterrows():\n",
    "        json.dump(row.to_dict(), file)\n",
    "        file.write('\\n')"
   ]
  },
  {
   "cell_type": "code",
   "execution_count": null,
   "id": "72d85bef-6b7f-4646-ab98-ac210f24bf97",
   "metadata": {},
   "outputs": [],
   "source": []
  }
 ],
 "metadata": {
  "kernelspec": {
   "display_name": "Python 3 (ipykernel)",
   "language": "python",
   "name": "python3"
  },
  "language_info": {
   "codemirror_mode": {
    "name": "ipython",
    "version": 3
   },
   "file_extension": ".py",
   "mimetype": "text/x-python",
   "name": "python",
   "nbconvert_exporter": "python",
   "pygments_lexer": "ipython3",
   "version": "3.11.7"
  }
 },
 "nbformat": 4,
 "nbformat_minor": 5
}
