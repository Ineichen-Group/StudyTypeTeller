{
 "cells": [
  {
   "cell_type": "code",
   "execution_count": 3,
   "id": "29d0e540-2677-4ee7-b61f-5b3d95666610",
   "metadata": {},
   "outputs": [],
   "source": [
    "import csv\n",
    "import pandas as pd\n",
    "import numpy as np \n",
    "import matplotlib.pyplot as plt\n",
    "import json\n",
    "import itertools\n",
    "from sklearn.metrics import cohen_kappa_score, confusion_matrix, ConfusionMatrixDisplay\n",
    "import os"
   ]
  },
  {
   "cell_type": "code",
   "execution_count": 4,
   "id": "c80ce65a-fa8c-459d-a69e-fc29fe718170",
   "metadata": {},
   "outputs": [],
   "source": [
    "def create_dataframe_from_jsonl(file_name, label_prefix):\n",
    "    # Read the JSONL file line by line\n",
    "    data = []\n",
    "    with open(file_name, 'r') as file:\n",
    "        for line in file:\n",
    "            json_data = json.loads(line)\n",
    "            #print(json_data)\n",
    "            pmid = json_data['pmid']\n",
    "            #accept = json_data['accept'][0]\n",
    "            accept = json_data['accept'][0] if json_data['accept'] else \"label missing\"\n",
    "            label_title = '{}_label'.format(label_prefix)\n",
    "            data.append({'pmid': pmid, label_title: accept})\n",
    "\n",
    "    # Create a DataFrame\n",
    "    df = pd.DataFrame(data)\n",
    "    \n",
    "    return df\n"
   ]
  },
  {
   "cell_type": "code",
   "execution_count": 24,
   "id": "dfa1b4b3-a164-4d47-abdf-df8c8257143f",
   "metadata": {},
   "outputs": [],
   "source": [
    "def visualize_label_frequencies(df, annotator_name, save_path='./prodigy/viz'):\n",
    "    # Mapping labels to numerical values\n",
    "    labels = [\"Human-systematic-review\", \"Human-RCT-drug-intervention\", \"Human-RCT-non-drug-intervention\", \"Human-RCT-non-intervention\", \"Human-case-report\", \"Human-non-RCT-drug-intervention\", \"Human-non-RCT-non-drug-intervention\", \"Animal-systematic-review\", \"Animal-drug-intervention\", \"Animal-non-drug-intervention\", \"Animal-other\", \"Non-systematic-review\", \"In-vitro-study\", \"Clinical-study-protocol\", \"Remaining\"]\n",
    "\n",
    "    label_to_numerical = {label: i for i, label in enumerate(labels)}\n",
    "\n",
    "    # Create a new column with mapped values\n",
    "    label_title = '{}_label'.format(annotator_name)\n",
    "\n",
    "    # Plotting the frequency of each label with inverted y-axis and values on bars\n",
    "    plt.figure(figsize=(10, 6))\n",
    "    ax = df[label_title].value_counts().sort_values(ascending=True).plot(kind='barh', color='skyblue')\n",
    "    plt.title(f'Label Frequency by Annotator {annotator_name}')\n",
    "    plt.xlabel('Frequency')\n",
    "    plt.ylabel('Label')\n",
    "\n",
    "    # Display the frequency values on the bars\n",
    "    for i, value in enumerate(df[label_title].value_counts().sort_values(ascending=True)):\n",
    "        ax.text(value, i, str(value), va='center', ha='left')\n",
    "\n",
    "    # Ensure the 'viz' folder exists\n",
    "    os.makedirs(save_path, exist_ok=True)\n",
    "\n",
    "    # Save the plot as an image\n",
    "    save_filename = os.path.join(save_path, f'label_frequency_{annotator_name}_{len(df)}.png')\n",
    "    plt.savefig(save_filename, bbox_inches='tight')\n",
    "    plt.show()"
   ]
  },
  {
   "cell_type": "code",
   "execution_count": 32,
   "id": "3a19b991-54bd-47b5-ab0e-c0d9848d5e25",
   "metadata": {},
   "outputs": [],
   "source": [
    "labels = [\"Human-systematic-review\", \"Human-RCT-drug-intervention\", \"Human-RCT-non-drug-intervention\", \"Human-RCT-non-intervention\", \"Human-case-report\", \"Human-non-RCT-drug-intervention\", \"Human-non-RCT-non-drug-intervention\", \"Animal-systematic-review\", \"Animal-drug-intervention\", \"Animal-non-drug-intervention\", \"Animal-other\", \"Non-systematic-review\", \"In-vitro-study\", \"Clinical-study-protocol\", \"Remaining\"]\n",
    "\n",
    "label_to_numerical = {label: i for i, label in enumerate(labels)}\n",
    "label_to_numerical[\"label missing\"] = -1"
   ]
  },
  {
   "cell_type": "code",
   "execution_count": 33,
   "id": "3115fb9a-847e-4500-aba6-23cdf2c6d540",
   "metadata": {},
   "outputs": [
    {
     "name": "stdout",
     "output_type": "stream",
     "text": [
      "{'Human-systematic-review': 0, 'Human-RCT-drug-intervention': 1, 'Human-RCT-non-drug-intervention': 2, 'Human-RCT-non-intervention': 3, 'Human-case-report': 4, 'Human-non-RCT-drug-intervention': 5, 'Human-non-RCT-non-drug-intervention': 6, 'Animal-systematic-review': 7, 'Animal-drug-intervention': 8, 'Animal-non-drug-intervention': 9, 'Animal-other': 10, 'Non-systematic-review': 11, 'In-vitro-study': 12, 'Clinical-study-protocol': 13, 'Remaining': 14, 'label missing': -1}\n"
     ]
    }
   ],
   "source": [
    "print(label_to_numerical)"
   ]
  },
  {
   "cell_type": "code",
   "execution_count": 34,
   "id": "ea6e8c95-47e1-4449-8696-75c6870d9dab",
   "metadata": {},
   "outputs": [],
   "source": [
    "annotator1 = \"shirin\"\n",
    "annotator2 = \"ben\""
   ]
  },
  {
   "cell_type": "markdown",
   "id": "3260ca46-5095-4d12-99b2-1b725334a067",
   "metadata": {},
   "source": [
    "### Load Annotator 1"
   ]
  },
  {
   "cell_type": "code",
   "execution_count": 35,
   "id": "0cfd9f8e-e557-47e6-a8bb-d4508ac81208",
   "metadata": {},
   "outputs": [],
   "source": [
    "#file_name = './prodigy/annotated_output/pilot_500_pubmed_abstracts_shirin_test_review.jsonl'\n",
    "file_name = './prodigy/annotated_output/pilot_2_200_pubmed_abstracts_shirin.jsonl'\n",
    "\n",
    "result_df_1 = create_dataframe_from_jsonl(file_name, annotator1)\n",
    "# label column names\n",
    "label_title = '{}_label'.format(annotator1)\n",
    "numeric_label_title = 'annotations_array_numeric_{}'.format(annotator1)\n",
    "# Create a new column with mapped values\n",
    "result_df_1[numeric_label_title] = result_df_1[label_title].map(label_to_numerical)"
   ]
  },
  {
   "cell_type": "code",
   "execution_count": 36,
   "id": "9cc07acc-48b9-48df-b9d2-bd56d30f0dee",
   "metadata": {},
   "outputs": [
    {
     "data": {
      "text/html": [
       "<div>\n",
       "<style scoped>\n",
       "    .dataframe tbody tr th:only-of-type {\n",
       "        vertical-align: middle;\n",
       "    }\n",
       "\n",
       "    .dataframe tbody tr th {\n",
       "        vertical-align: top;\n",
       "    }\n",
       "\n",
       "    .dataframe thead th {\n",
       "        text-align: right;\n",
       "    }\n",
       "</style>\n",
       "<table border=\"1\" class=\"dataframe\">\n",
       "  <thead>\n",
       "    <tr style=\"text-align: right;\">\n",
       "      <th></th>\n",
       "      <th>pmid</th>\n",
       "      <th>shirin_label</th>\n",
       "      <th>annotations_array_numeric_shirin</th>\n",
       "    </tr>\n",
       "  </thead>\n",
       "  <tbody>\n",
       "    <tr>\n",
       "      <th>0</th>\n",
       "      <td>27935389</td>\n",
       "      <td>Remaining</td>\n",
       "      <td>14</td>\n",
       "    </tr>\n",
       "    <tr>\n",
       "      <th>1</th>\n",
       "      <td>2420691</td>\n",
       "      <td>Non-systematic-review</td>\n",
       "      <td>11</td>\n",
       "    </tr>\n",
       "    <tr>\n",
       "      <th>2</th>\n",
       "      <td>23027099</td>\n",
       "      <td>Non-systematic-review</td>\n",
       "      <td>11</td>\n",
       "    </tr>\n",
       "    <tr>\n",
       "      <th>3</th>\n",
       "      <td>17018553</td>\n",
       "      <td>Remaining</td>\n",
       "      <td>14</td>\n",
       "    </tr>\n",
       "    <tr>\n",
       "      <th>4</th>\n",
       "      <td>29101712</td>\n",
       "      <td>Non-systematic-review</td>\n",
       "      <td>11</td>\n",
       "    </tr>\n",
       "    <tr>\n",
       "      <th>...</th>\n",
       "      <td>...</td>\n",
       "      <td>...</td>\n",
       "      <td>...</td>\n",
       "    </tr>\n",
       "    <tr>\n",
       "      <th>195</th>\n",
       "      <td>7565833</td>\n",
       "      <td>Human-case-report</td>\n",
       "      <td>4</td>\n",
       "    </tr>\n",
       "    <tr>\n",
       "      <th>196</th>\n",
       "      <td>8689350</td>\n",
       "      <td>Human-case-report</td>\n",
       "      <td>4</td>\n",
       "    </tr>\n",
       "    <tr>\n",
       "      <th>197</th>\n",
       "      <td>25237937</td>\n",
       "      <td>Human-systematic-review</td>\n",
       "      <td>0</td>\n",
       "    </tr>\n",
       "    <tr>\n",
       "      <th>198</th>\n",
       "      <td>33771822</td>\n",
       "      <td>Remaining</td>\n",
       "      <td>14</td>\n",
       "    </tr>\n",
       "    <tr>\n",
       "      <th>199</th>\n",
       "      <td>21550668</td>\n",
       "      <td>Remaining</td>\n",
       "      <td>14</td>\n",
       "    </tr>\n",
       "  </tbody>\n",
       "</table>\n",
       "<p>200 rows × 3 columns</p>\n",
       "</div>"
      ],
      "text/plain": [
       "         pmid             shirin_label  annotations_array_numeric_shirin\n",
       "0    27935389                Remaining                                14\n",
       "1     2420691    Non-systematic-review                                11\n",
       "2    23027099    Non-systematic-review                                11\n",
       "3    17018553                Remaining                                14\n",
       "4    29101712    Non-systematic-review                                11\n",
       "..        ...                      ...                               ...\n",
       "195   7565833        Human-case-report                                 4\n",
       "196   8689350        Human-case-report                                 4\n",
       "197  25237937  Human-systematic-review                                 0\n",
       "198  33771822                Remaining                                14\n",
       "199  21550668                Remaining                                14\n",
       "\n",
       "[200 rows x 3 columns]"
      ]
     },
     "execution_count": 36,
     "metadata": {},
     "output_type": "execute_result"
    }
   ],
   "source": [
    "result_df_1"
   ]
  },
  {
   "cell_type": "code",
   "execution_count": 37,
   "id": "ea76528e-a548-4aa6-85a3-4121090eef11",
   "metadata": {},
   "outputs": [
    {
     "data": {
      "image/png": "[encoded data removed]",
      "text/plain": [
       "<Figure size 720x432 with 1 Axes>"
      ]
     },
     "metadata": {
      "needs_background": "light"
     },
     "output_type": "display_data"
    }
   ],
   "source": [
    "visualize_label_frequencies(result_df_1, annotator_name=annotator1)"
   ]
  },
  {
   "cell_type": "markdown",
   "id": "02190b55-a1dc-42a2-9f4a-4c2d586492fc",
   "metadata": {},
   "source": [
    "### Load Annotator 2"
   ]
  },
  {
   "cell_type": "code",
   "execution_count": 38,
   "id": "b39928f9-4b8a-4c21-97f9-d0a7fd6b30b3",
   "metadata": {},
   "outputs": [],
   "source": [
    "#file_name = './prodigy/annotated_output/pubmed_abstracts_pilot_ben.jsonl'\n",
    "file_name = './prodigy/annotated_output/pilot_2_200_pubmed_abstracts_ben.jsonl'\n",
    "\n",
    "result_df_2 = create_dataframe_from_jsonl(file_name, annotator2)\n",
    "# label column names\n",
    "label_title = '{}_label'.format(annotator2)\n",
    "numeric_label_title = 'annotations_array_numeric_{}'.format(annotator2)\n",
    "# Create a new column with mapped values\n",
    "result_df_2[numeric_label_title] = result_df_2[label_title].map(label_to_numerical)"
   ]
  },
  {
   "cell_type": "code",
   "execution_count": 39,
   "id": "984a73ec-b325-46b8-8330-402f4d222102",
   "metadata": {},
   "outputs": [
    {
     "data": {
      "text/html": [
       "<div>\n",
       "<style scoped>\n",
       "    .dataframe tbody tr th:only-of-type {\n",
       "        vertical-align: middle;\n",
       "    }\n",
       "\n",
       "    .dataframe tbody tr th {\n",
       "        vertical-align: top;\n",
       "    }\n",
       "\n",
       "    .dataframe thead th {\n",
       "        text-align: right;\n",
       "    }\n",
       "</style>\n",
       "<table border=\"1\" class=\"dataframe\">\n",
       "  <thead>\n",
       "    <tr style=\"text-align: right;\">\n",
       "      <th></th>\n",
       "      <th>pmid</th>\n",
       "      <th>ben_label</th>\n",
       "      <th>annotations_array_numeric_ben</th>\n",
       "    </tr>\n",
       "  </thead>\n",
       "  <tbody>\n",
       "    <tr>\n",
       "      <th>0</th>\n",
       "      <td>27935389</td>\n",
       "      <td>Remaining</td>\n",
       "      <td>14</td>\n",
       "    </tr>\n",
       "    <tr>\n",
       "      <th>1</th>\n",
       "      <td>2420691</td>\n",
       "      <td>Non-systematic-review</td>\n",
       "      <td>11</td>\n",
       "    </tr>\n",
       "    <tr>\n",
       "      <th>2</th>\n",
       "      <td>23027099</td>\n",
       "      <td>Non-systematic-review</td>\n",
       "      <td>11</td>\n",
       "    </tr>\n",
       "    <tr>\n",
       "      <th>3</th>\n",
       "      <td>17018553</td>\n",
       "      <td>Remaining</td>\n",
       "      <td>14</td>\n",
       "    </tr>\n",
       "    <tr>\n",
       "      <th>4</th>\n",
       "      <td>29101712</td>\n",
       "      <td>Remaining</td>\n",
       "      <td>14</td>\n",
       "    </tr>\n",
       "  </tbody>\n",
       "</table>\n",
       "</div>"
      ],
      "text/plain": [
       "       pmid              ben_label  annotations_array_numeric_ben\n",
       "0  27935389              Remaining                             14\n",
       "1   2420691  Non-systematic-review                             11\n",
       "2  23027099  Non-systematic-review                             11\n",
       "3  17018553              Remaining                             14\n",
       "4  29101712              Remaining                             14"
      ]
     },
     "execution_count": 39,
     "metadata": {},
     "output_type": "execute_result"
    }
   ],
   "source": [
    "result_df_2.head()"
   ]
  },
  {
   "cell_type": "code",
   "execution_count": 40,
   "id": "7bc1922b-4fcd-4c3f-84c3-e0bca0f32759",
   "metadata": {},
   "outputs": [
    {
     "data": {
      "image/png": "[encoded data removed]",
      "text/plain": [
       "<Figure size 720x432 with 1 Axes>"
      ]
     },
     "metadata": {
      "needs_background": "light"
     },
     "output_type": "display_data"
    }
   ],
   "source": [
    "visualize_label_frequencies(result_df_2, annotator_name=annotator2)"
   ]
  },
  {
   "cell_type": "markdown",
   "id": "c2b1b509-c3ee-4805-a555-b44962319ba6",
   "metadata": {},
   "source": [
    "### IAA Calculation"
   ]
  },
  {
   "cell_type": "code",
   "execution_count": 41,
   "id": "8f8fcea4-2f9f-46d4-a730-f9237a0bc134",
   "metadata": {},
   "outputs": [],
   "source": [
    "def calculate_cohen_kappa_from_cfm_with_ci(confusion, print_result=False):\n",
    "    # COPIED FROM SKLEARN METRICS\n",
    "    # Sample size\n",
    "    n = np.sum(confusion)\n",
    "    # Number of classes\n",
    "    n_classes = confusion.shape[0]\n",
    "    # Expected matrix\n",
    "    sum0 = np.sum(confusion, axis=0)\n",
    "    sum1 = np.sum(confusion, axis=1)\n",
    "    expected = np.outer(sum0, sum1) / np.sum(sum0)\n",
    "\n",
    "    # Calculate p_o (the observed proportionate agreement) and\n",
    "    # p_e (the probability of random agreement)\n",
    "    identity = np.identity(n_classes)\n",
    "    p_o = np.sum((identity * confusion) / n)\n",
    "    p_e = np.sum((identity * expected) / n)\n",
    "    # Calculate Cohen's kappa\n",
    "    kappa = (p_o - p_e) / (1 - p_e)\n",
    "    # Confidence intervals\n",
    "    se = np.sqrt((p_o * (1 - p_o)) / (n * (1 - p_e) ** 2))\n",
    "    ci = 1.96 * se * 2\n",
    "    ci_boundary_limits = 1.96 * se\n",
    "    lower = kappa - ci_boundary_limits\n",
    "    upper = kappa + ci_boundary_limits\n",
    "\n",
    "    if print_result:\n",
    "        print(\n",
    "            f'p_o = {p_o}, p_e = {p_e}, lower={lower:.2f}, kappa = {kappa:.2f}, upper={upper:.2f}, boundary = {ci_boundary_limits:.3f}\\n',\n",
    "            f'standard error = {se:.3f}\\n',\n",
    "            f'lower confidence interval = {lower:.3f}\\n',\n",
    "            f'kappa score = {kappa:.3f}\\n',\n",
    "            f'upper confidence interval = {upper:.3f}', sep=''\n",
    "        )\n",
    "\n",
    "    return kappa, ci_boundary_limits"
   ]
  },
  {
   "cell_type": "code",
   "execution_count": 42,
   "id": "983a69ad-dcee-4395-a92a-0964c3785928",
   "metadata": {},
   "outputs": [],
   "source": [
    "def calculate_overall_cohen_kappa_with_ci(df, annotators, single_annotatoins_case=False):\n",
    "    # see implementation and explanation in https://rowannicholls.github.io/python/statistics/agreement/cohens_kappa.html\n",
    "\n",
    "    for annotator1, annotator2 in itertools.combinations(annotators, 2):\n",
    "        annotations1 = df[f'annotations_array_numeric_{annotator1}']  # ast.literal_eval(\n",
    "        annotations2 = df[f'annotations_array_numeric_{annotator2}']\n",
    "        \n",
    "        if single_annotatoins_case:\n",
    "            combined_array_1 = annotations1.values\n",
    "            combined_array_2 = annotations2.values\n",
    "        else:\n",
    "            # Combine all rows into a single array\n",
    "            combined_array_1 = np.concatenate([eval(row) for row in annotations1]).tolist()\n",
    "            combined_array_2 = np.concatenate([eval(row) for row in annotations2]).tolist()\n",
    "\n",
    "        confusion = confusion_matrix(combined_array_1, combined_array_2)\n",
    "        print(f\"Cohen-Kappa with Confidence intervals {annotator1} vs {annotator2}\")\n",
    "        calculate_cohen_kappa_from_cfm_with_ci(confusion, print_result=True)"
   ]
  },
  {
   "cell_type": "code",
   "execution_count": 43,
   "id": "2e49a93b-2b1e-481a-a08d-e6c633ce6307",
   "metadata": {},
   "outputs": [
    {
     "data": {
      "text/plain": [
       "['shirin', 'ben']"
      ]
     },
     "execution_count": 43,
     "metadata": {},
     "output_type": "execute_result"
    }
   ],
   "source": [
    "annotators = [annotator1, annotator2]\n",
    "annotators"
   ]
  },
  {
   "cell_type": "code",
   "execution_count": 44,
   "id": "1be04576-28e3-460e-91e2-61fc8ddaa46d",
   "metadata": {},
   "outputs": [
    {
     "data": {
      "text/plain": [
       "(200, 5)"
      ]
     },
     "execution_count": 44,
     "metadata": {},
     "output_type": "execute_result"
    }
   ],
   "source": [
    "# Merge the two DataFrames on the 'pmid' column\n",
    "result_df = pd.merge(result_df_1, result_df_2, on='pmid')\n",
    "\n",
    "# Display the result DataFrame\n",
    "result_df.shape"
   ]
  },
  {
   "cell_type": "code",
   "execution_count": 45,
   "id": "eee03f57-1b65-4d88-8cfb-2466e215195a",
   "metadata": {},
   "outputs": [],
   "source": [
    "#result_df['annotations_array_numeric_shirin'] = result_df['annotations_array_numeric_shirin'].fillna(-1).astype(int)\n"
   ]
  },
  {
   "cell_type": "code",
   "execution_count": 46,
   "id": "2aa92b21-fa5b-446a-a0e7-c5a34aa41695",
   "metadata": {},
   "outputs": [
    {
     "data": {
      "text/html": [
       "<div>\n",
       "<style scoped>\n",
       "    .dataframe tbody tr th:only-of-type {\n",
       "        vertical-align: middle;\n",
       "    }\n",
       "\n",
       "    .dataframe tbody tr th {\n",
       "        vertical-align: top;\n",
       "    }\n",
       "\n",
       "    .dataframe thead th {\n",
       "        text-align: right;\n",
       "    }\n",
       "</style>\n",
       "<table border=\"1\" class=\"dataframe\">\n",
       "  <thead>\n",
       "    <tr style=\"text-align: right;\">\n",
       "      <th></th>\n",
       "      <th>pmid</th>\n",
       "      <th>shirin_label</th>\n",
       "      <th>annotations_array_numeric_shirin</th>\n",
       "      <th>ben_label</th>\n",
       "      <th>annotations_array_numeric_ben</th>\n",
       "    </tr>\n",
       "  </thead>\n",
       "  <tbody>\n",
       "    <tr>\n",
       "      <th>0</th>\n",
       "      <td>27935389</td>\n",
       "      <td>Remaining</td>\n",
       "      <td>14</td>\n",
       "      <td>Remaining</td>\n",
       "      <td>14</td>\n",
       "    </tr>\n",
       "    <tr>\n",
       "      <th>1</th>\n",
       "      <td>2420691</td>\n",
       "      <td>Non-systematic-review</td>\n",
       "      <td>11</td>\n",
       "      <td>Non-systematic-review</td>\n",
       "      <td>11</td>\n",
       "    </tr>\n",
       "    <tr>\n",
       "      <th>2</th>\n",
       "      <td>23027099</td>\n",
       "      <td>Non-systematic-review</td>\n",
       "      <td>11</td>\n",
       "      <td>Non-systematic-review</td>\n",
       "      <td>11</td>\n",
       "    </tr>\n",
       "    <tr>\n",
       "      <th>3</th>\n",
       "      <td>17018553</td>\n",
       "      <td>Remaining</td>\n",
       "      <td>14</td>\n",
       "      <td>Remaining</td>\n",
       "      <td>14</td>\n",
       "    </tr>\n",
       "    <tr>\n",
       "      <th>4</th>\n",
       "      <td>29101712</td>\n",
       "      <td>Non-systematic-review</td>\n",
       "      <td>11</td>\n",
       "      <td>Remaining</td>\n",
       "      <td>14</td>\n",
       "    </tr>\n",
       "  </tbody>\n",
       "</table>\n",
       "</div>"
      ],
      "text/plain": [
       "       pmid           shirin_label  annotations_array_numeric_shirin  \\\n",
       "0  27935389              Remaining                                14   \n",
       "1   2420691  Non-systematic-review                                11   \n",
       "2  23027099  Non-systematic-review                                11   \n",
       "3  17018553              Remaining                                14   \n",
       "4  29101712  Non-systematic-review                                11   \n",
       "\n",
       "               ben_label  annotations_array_numeric_ben  \n",
       "0              Remaining                             14  \n",
       "1  Non-systematic-review                             11  \n",
       "2  Non-systematic-review                             11  \n",
       "3              Remaining                             14  \n",
       "4              Remaining                             14  "
      ]
     },
     "execution_count": 46,
     "metadata": {},
     "output_type": "execute_result"
    }
   ],
   "source": [
    "result_df.head()"
   ]
  },
  {
   "cell_type": "code",
   "execution_count": 47,
   "id": "ca533497-8485-4b28-9c78-c1939595506c",
   "metadata": {},
   "outputs": [
    {
     "name": "stdout",
     "output_type": "stream",
     "text": [
      "Cohen-Kappa with Confidence intervals shirin vs ben\n",
      "p_o = 0.7800000000000001, p_e = 0.24025, lower=0.63, kappa = 0.71, upper=0.79, boundary = 0.076\n",
      "standard error = 0.039\n",
      "lower confidence interval = 0.635\n",
      "kappa score = 0.710\n",
      "upper confidence interval = 0.786\n"
     ]
    }
   ],
   "source": [
    "calculate_overall_cohen_kappa_with_ci(result_df, annotators, single_annotatoins_case=True)"
   ]
  },
  {
   "cell_type": "code",
   "execution_count": 47,
   "id": "47dfcc64-b686-4d52-864a-1b6541aebf0d",
   "metadata": {},
   "outputs": [
    {
     "name": "stdout",
     "output_type": "stream",
     "text": [
      "Cohen-Kappa with Confidence intervals shirin vs ben\n",
      "p_o = 0.69, p_e = 0.307696, lower=0.49, kappa = 0.55, upper=0.61, boundary = 0.059\n",
      "standard error = 0.030\n",
      "lower confidence interval = 0.494\n",
      "kappa score = 0.552\n",
      "upper confidence interval = 0.611\n"
     ]
    }
   ],
   "source": [
    "calculate_overall_cohen_kappa_with_ci(result_df, annotators, single_annotatoins_case=True)"
   ]
  },
  {
   "cell_type": "code",
   "execution_count": null,
   "id": "d0c02c8b-b7ef-4418-8e3a-daa3171423dc",
   "metadata": {},
   "outputs": [],
   "source": []
  }
 ],
 "metadata": {
  "kernelspec": {
   "display_name": "Python 3 (ipykernel)",
   "language": "python",
   "name": "python3"
  },
  "language_info": {
   "codemirror_mode": {
    "name": "ipython",
    "version": 3
   },
   "file_extension": ".py",
   "mimetype": "text/x-python",
   "name": "python",
   "nbconvert_exporter": "python",
   "pygments_lexer": "ipython3",
   "version": "3.11.7"
  }
 },
 "nbformat": 4,
 "nbformat_minor": 5
}
