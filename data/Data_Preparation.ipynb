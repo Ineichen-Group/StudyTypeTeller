{
 "cells": [
  {
   "cell_type": "code",
   "execution_count": 1,
   "id": "1d584d9d-9694-4736-840d-ba08441acaf3",
   "metadata": {},
   "outputs": [],
   "source": [
    "import csv\n",
    "import pandas as pd\n",
    "import numpy as np \n",
    "import matplotlib.pyplot as plt"
   ]
  },
  {
   "cell_type": "markdown",
   "id": "d53dd577-2c52-46a1-a22c-38337f15d1cb",
   "metadata": {},
   "source": [
    "### Read PubMed EDirect Outputs"
   ]
  },
  {
   "cell_type": "code",
   "execution_count": null,
   "id": "89a018f6-95cc-4f88-b875-26d9fde266e7",
   "metadata": {},
   "outputs": [],
   "source": [
    "file_path = \"./pubmed/pmid_contents_v5.txt\"\n",
    "\n",
    "df = pd.read_csv(file_path, sep='^')\n",
    "df.columns = ['PMID', 'PubDate/Year', 'Journal/Title', 'ArticleTitle', 'AbstractText', 'doi']"
   ]
  },
  {
   "cell_type": "code",
   "execution_count": 3,
   "id": "ebd1bdba-9a94-410f-a785-9fb3623bea65",
   "metadata": {},
   "outputs": [
    {
     "data": {
      "text/plain": [
       "(4999, 6)"
      ]
     },
     "execution_count": 3,
     "metadata": {},
     "output_type": "execute_result"
    }
   ],
   "source": [
    "df.shape"
   ]
  },
  {
   "cell_type": "code",
   "execution_count": 4,
   "id": "7be0b56f-5a16-4a71-a8ed-d7a116623d75",
   "metadata": {},
   "outputs": [
    {
     "data": {
      "text/html": [
       "<div>\n",
       "<style scoped>\n",
       "    .dataframe tbody tr th:only-of-type {\n",
       "        vertical-align: middle;\n",
       "    }\n",
       "\n",
       "    .dataframe tbody tr th {\n",
       "        vertical-align: top;\n",
       "    }\n",
       "\n",
       "    .dataframe thead th {\n",
       "        text-align: right;\n",
       "    }\n",
       "</style>\n",
       "<table border=\"1\" class=\"dataframe\">\n",
       "  <thead>\n",
       "    <tr style=\"text-align: right;\">\n",
       "      <th></th>\n",
       "      <th>PMID</th>\n",
       "      <th>PubDate/Year</th>\n",
       "      <th>Journal/Title</th>\n",
       "      <th>ArticleTitle</th>\n",
       "      <th>AbstractText</th>\n",
       "      <th>doi</th>\n",
       "    </tr>\n",
       "  </thead>\n",
       "  <tbody>\n",
       "    <tr>\n",
       "      <th>0</th>\n",
       "      <td>7472468</td>\n",
       "      <td>1995.0</td>\n",
       "      <td>The Journal of neuroscience : the official jou...</td>\n",
       "      <td>Basic fibroblast growth factor increases divis...</td>\n",
       "      <td>Growth factors have been shown to be involved ...</td>\n",
       "      <td>10.1523/JNEUROSCI.15-11-07141.1995</td>\n",
       "    </tr>\n",
       "    <tr>\n",
       "      <th>1</th>\n",
       "      <td>7473348</td>\n",
       "      <td>1995.0</td>\n",
       "      <td>Journal of radiation research</td>\n",
       "      <td>Effect of antihistamines, disodium cromoglycat...</td>\n",
       "      <td>Exposure to ionizing radiation causes hypotens...</td>\n",
       "      <td>10.1269/jrr.36.77</td>\n",
       "    </tr>\n",
       "    <tr>\n",
       "      <th>2</th>\n",
       "      <td>7473807</td>\n",
       "      <td>1995.0</td>\n",
       "      <td>Journal of neurotrauma</td>\n",
       "      <td>A new model for rapid stretch-induced injury o...</td>\n",
       "      <td>The purpose of this study was to develop a sim...</td>\n",
       "      <td>10.1089/neu.1995.12.325</td>\n",
       "    </tr>\n",
       "    <tr>\n",
       "      <th>3</th>\n",
       "      <td>7475922</td>\n",
       "      <td>1995.0</td>\n",
       "      <td>Life sciences</td>\n",
       "      <td>Antagonizing effects of VA-045 on reduced acti...</td>\n",
       "      <td>Based on the finding that VA-045, a novel apov...</td>\n",
       "      <td>10.1016/0024-3205(95)02158-f</td>\n",
       "    </tr>\n",
       "    <tr>\n",
       "      <th>4</th>\n",
       "      <td>7477741</td>\n",
       "      <td>1995.0</td>\n",
       "      <td>Neurological research</td>\n",
       "      <td>Diffusion weighted imaging for acute cerebral ...</td>\n",
       "      <td>The diagnosis of acute cerebral ischemia remai...</td>\n",
       "      <td>10.1080/01616412.1995.11740325</td>\n",
       "    </tr>\n",
       "  </tbody>\n",
       "</table>\n",
       "</div>"
      ],
      "text/plain": [
       "      PMID  PubDate/Year                                      Journal/Title  \\\n",
       "0  7472468        1995.0  The Journal of neuroscience : the official jou...   \n",
       "1  7473348        1995.0                      Journal of radiation research   \n",
       "2  7473807        1995.0                             Journal of neurotrauma   \n",
       "3  7475922        1995.0                                      Life sciences   \n",
       "4  7477741        1995.0                              Neurological research   \n",
       "\n",
       "                                        ArticleTitle  \\\n",
       "0  Basic fibroblast growth factor increases divis...   \n",
       "1  Effect of antihistamines, disodium cromoglycat...   \n",
       "2  A new model for rapid stretch-induced injury o...   \n",
       "3  Antagonizing effects of VA-045 on reduced acti...   \n",
       "4  Diffusion weighted imaging for acute cerebral ...   \n",
       "\n",
       "                                        AbstractText  \\\n",
       "0  Growth factors have been shown to be involved ...   \n",
       "1  Exposure to ionizing radiation causes hypotens...   \n",
       "2  The purpose of this study was to develop a sim...   \n",
       "3  Based on the finding that VA-045, a novel apov...   \n",
       "4  The diagnosis of acute cerebral ischemia remai...   \n",
       "\n",
       "                                  doi  \n",
       "0  10.1523/JNEUROSCI.15-11-07141.1995  \n",
       "1                   10.1269/jrr.36.77  \n",
       "2             10.1089/neu.1995.12.325  \n",
       "3        10.1016/0024-3205(95)02158-f  \n",
       "4      10.1080/01616412.1995.11740325  "
      ]
     },
     "execution_count": 4,
     "metadata": {},
     "output_type": "execute_result"
    }
   ],
   "source": [
    "df.head()"
   ]
  },
  {
   "cell_type": "code",
   "execution_count": 5,
   "id": "dad15595-0374-4c52-b872-e7403d98a9e9",
   "metadata": {},
   "outputs": [
    {
     "data": {
      "image/png": "[encoded data removed]",
      "text/plain": [
       "<Figure size 432x288 with 1 Axes>"
      ]
     },
     "metadata": {
      "needs_background": "light"
     },
     "output_type": "display_data"
    }
   ],
   "source": [
    "# Plot the distribution of values in PubDate/Year\n",
    "df['PubDate/Year'].value_counts().plot(kind='bar')\n",
    "plt.xlabel('PubDate/Year')\n",
    "plt.ylabel('Count')\n",
    "plt.title('Distribution of PubDate/Year')\n",
    "plt.show()\n"
   ]
  },
  {
   "cell_type": "code",
   "execution_count": 6,
   "id": "941d91f9-590f-4a21-b109-dd11b87112aa",
   "metadata": {},
   "outputs": [],
   "source": [
    "df_cleaned = df.dropna(subset=['AbstractText'])"
   ]
  },
  {
   "cell_type": "code",
   "execution_count": 7,
   "id": "04b75425-2301-4ca5-918b-a0d0f8e3009f",
   "metadata": {},
   "outputs": [
    {
     "data": {
      "text/plain": [
       "(4861, 6)"
      ]
     },
     "execution_count": 7,
     "metadata": {},
     "output_type": "execute_result"
    }
   ],
   "source": [
    "df_cleaned.shape"
   ]
  },
  {
   "cell_type": "code",
   "execution_count": 8,
   "id": "9e0dc5f5-67ee-4ed3-9f57-85699192d923",
   "metadata": {},
   "outputs": [],
   "source": [
    "# Fill NaN values with an empty string\n",
    "df_cleaned = df_cleaned.fillna('')\n",
    "df_cleaned['AbstractText'] = df_cleaned['AbstractText'].str.replace('\"', \"\\'\")\n",
    "df_cleaned['ArticleTitle'] = df_cleaned['ArticleTitle'].str.replace('\"', \"\\'\")\n",
    "\n",
    "# Concatenate the desired columns with ^ separator\n",
    "df_cleaned['text'] = df_cleaned[['Journal/Title', 'ArticleTitle', 'AbstractText']].apply(lambda x: '^\\\\n'.join(map(str, x)), axis=1)\n",
    "\n",
    "# Create a new DataFrame with only the required columns\n",
    "result_df = df_cleaned[['PMID', 'text']]\n",
    "result_df.to_csv(\"./prodigy/input/all_{}_pubmed_with_abstracts.csv\".format(len(result_df)))"
   ]
  },
  {
   "cell_type": "markdown",
   "id": "19244425-c43e-490b-8d6e-968016680486",
   "metadata": {},
   "source": [
    "### Prepare in JSONL format for Prodigy"
   ]
  },
  {
   "cell_type": "code",
   "execution_count": 10,
   "id": "dd86dcfa-f2c1-4824-9355-b6c8173e8be2",
   "metadata": {},
   "outputs": [],
   "source": [
    "# Set a seed for reproducibility\n",
    "np.random.seed(42)\n",
    "\n",
    "# Randomly sample 2000 rows\n",
    "sampled_df = result_df.sample(n=2000)\n",
    "\n",
    "# Split into two DataFrames\n",
    "pilot_df = sampled_df.head(500)\n",
    "postpilot_df = sampled_df.tail(1500)\n",
    "\n",
    "# Convert the DataFrames to JSONL format\n",
    "pilot_jsonl_data = pilot_df.to_dict(orient='records')\n",
    "postpilot_jsonl_data = postpilot_df.to_dict(orient='records')\n",
    "\n",
    "# Save the sampled data to JSONL files\n",
    "with open('./prodigy/input/pilot_500_pubmed_abstracts.jsonl', 'w') as pilot_file:\n",
    "    for line in pilot_jsonl_data:\n",
    "        pilot_file.write(f'{{\"pmid\": \"{line[\"PMID\"]}\", \"text\": \"{line[\"text\"]}\"}}\\n')\n",
    "\n",
    "with open('./prodigy/input/postpilot_1500_pubmed_abstracts.jsonl', 'w') as postpilot_file:\n",
    "    for line in postpilot_jsonl_data:\n",
    "        postpilot_file.write(f'{{\"pmid\": \"{line[\"PMID\"]}\", \"text\": \"{line[\"text\"]}\"}}\\n')\n"
   ]
  },
  {
   "cell_type": "code",
   "execution_count": 11,
   "id": "1f43580c-2c5c-4ad7-9fa0-8263f75cfdb1",
   "metadata": {},
   "outputs": [],
   "source": [
    "# Convert the DataFrame to JSONL format\n",
    "jsonl_data = result_df.to_dict(orient='records')\n",
    "\n",
    "# Save the JSONL data to a file\n",
    "with open('./prodigy/pubmed_abstracts.jsonl', 'w') as jsonl_file:\n",
    "    for line in jsonl_data:\n",
    "        jsonl_file.write(f'{{\"pmid\": \"{line[\"PMID\"]}\", \"text\": \"{line[\"text\"]}\"}}\\n')"
   ]
  },
  {
   "cell_type": "code",
   "execution_count": 12,
   "id": "7d5735fd-410b-4f89-99c2-2042d607f012",
   "metadata": {},
   "outputs": [
    {
     "data": {
      "text/html": [
       "<div>\n",
       "<style scoped>\n",
       "    .dataframe tbody tr th:only-of-type {\n",
       "        vertical-align: middle;\n",
       "    }\n",
       "\n",
       "    .dataframe tbody tr th {\n",
       "        vertical-align: top;\n",
       "    }\n",
       "\n",
       "    .dataframe thead th {\n",
       "        text-align: right;\n",
       "    }\n",
       "</style>\n",
       "<table border=\"1\" class=\"dataframe\">\n",
       "  <thead>\n",
       "    <tr style=\"text-align: right;\">\n",
       "      <th></th>\n",
       "      <th>PMID</th>\n",
       "      <th>text</th>\n",
       "    </tr>\n",
       "  </thead>\n",
       "  <tbody>\n",
       "    <tr>\n",
       "      <th>0</th>\n",
       "      <td>7472468</td>\n",
       "      <td>The Journal of neuroscience : the official jou...</td>\n",
       "    </tr>\n",
       "    <tr>\n",
       "      <th>1</th>\n",
       "      <td>7473348</td>\n",
       "      <td>Journal of radiation research^\\nEffect of anti...</td>\n",
       "    </tr>\n",
       "    <tr>\n",
       "      <th>2</th>\n",
       "      <td>7473807</td>\n",
       "      <td>Journal of neurotrauma^\\nA new model for rapid...</td>\n",
       "    </tr>\n",
       "    <tr>\n",
       "      <th>3</th>\n",
       "      <td>7475922</td>\n",
       "      <td>Life sciences^\\nAntagonizing effects of VA-045...</td>\n",
       "    </tr>\n",
       "    <tr>\n",
       "      <th>4</th>\n",
       "      <td>7477741</td>\n",
       "      <td>Neurological research^\\nDiffusion weighted ima...</td>\n",
       "    </tr>\n",
       "    <tr>\n",
       "      <th>...</th>\n",
       "      <td>...</td>\n",
       "      <td>...</td>\n",
       "    </tr>\n",
       "    <tr>\n",
       "      <th>4994</th>\n",
       "      <td>31429777</td>\n",
       "      <td>Journal of neuroinflammation^\\nLysophosphatidi...</td>\n",
       "    </tr>\n",
       "    <tr>\n",
       "      <th>4995</th>\n",
       "      <td>31439642</td>\n",
       "      <td>Diabetes^\\nSarm1 Gene Deficiency Attenuates Di...</td>\n",
       "    </tr>\n",
       "    <tr>\n",
       "      <th>4996</th>\n",
       "      <td>31444473</td>\n",
       "      <td>Molecular psychiatry^\\nThree-dimensional model...</td>\n",
       "    </tr>\n",
       "    <tr>\n",
       "      <th>4997</th>\n",
       "      <td>31523119</td>\n",
       "      <td>Molecular vision^\\nTherapeutic efficacy of mes...</td>\n",
       "    </tr>\n",
       "    <tr>\n",
       "      <th>4998</th>\n",
       "      <td>31682375</td>\n",
       "      <td>Journal of traditional Chinese medicine = Chun...</td>\n",
       "    </tr>\n",
       "  </tbody>\n",
       "</table>\n",
       "<p>4861 rows × 2 columns</p>\n",
       "</div>"
      ],
      "text/plain": [
       "          PMID                                               text\n",
       "0      7472468  The Journal of neuroscience : the official jou...\n",
       "1      7473348  Journal of radiation research^\\nEffect of anti...\n",
       "2      7473807  Journal of neurotrauma^\\nA new model for rapid...\n",
       "3      7475922  Life sciences^\\nAntagonizing effects of VA-045...\n",
       "4      7477741  Neurological research^\\nDiffusion weighted ima...\n",
       "...        ...                                                ...\n",
       "4994  31429777  Journal of neuroinflammation^\\nLysophosphatidi...\n",
       "4995  31439642  Diabetes^\\nSarm1 Gene Deficiency Attenuates Di...\n",
       "4996  31444473  Molecular psychiatry^\\nThree-dimensional model...\n",
       "4997  31523119  Molecular vision^\\nTherapeutic efficacy of mes...\n",
       "4998  31682375  Journal of traditional Chinese medicine = Chun...\n",
       "\n",
       "[4861 rows x 2 columns]"
      ]
     },
     "execution_count": 12,
     "metadata": {},
     "output_type": "execute_result"
    }
   ],
   "source": [
    "result_df"
   ]
  }
 ],
 "metadata": {
  "kernelspec": {
   "display_name": "Python 3 (ipykernel)",
   "language": "python",
   "name": "python3"
  },
  "language_info": {
   "codemirror_mode": {
    "name": "ipython",
    "version": 3
   },
   "file_extension": ".py",
   "mimetype": "text/x-python",
   "name": "python",
   "nbconvert_exporter": "python",
   "pygments_lexer": "ipython3",
   "version": "3.9.1"
  }
 },
 "nbformat": 4,
 "nbformat_minor": 5
}
