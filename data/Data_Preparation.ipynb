{
 "cells": [
  {
   "cell_type": "code",
   "execution_count": 2,
   "id": "1d584d9d-9694-4736-840d-ba08441acaf3",
   "metadata": {},
   "outputs": [],
   "source": [
    "import csv\n",
    "import pandas as pd\n",
    "import numpy as np \n",
    "import matplotlib.pyplot as plt"
   ]
  },
  {
   "cell_type": "code",
   "execution_count": 2,
   "id": "a5ff28a9-5243-4314-8376-487d0a2f9717",
   "metadata": {},
   "outputs": [],
   "source": [
    "import json\n",
    "import random"
   ]
  },
  {
   "cell_type": "markdown",
   "id": "bc6582ee-ec15-4834-933c-ec999a141083",
   "metadata": {},
   "source": [
    "### Sample PMIDs"
   ]
  },
  {
   "cell_type": "code",
   "execution_count": 18,
   "id": "05ff51b4-d378-4473-b5d4-16e06f29d701",
   "metadata": {},
   "outputs": [
    {
     "data": {
      "text/plain": [
       "(2788345, 1)"
      ]
     },
     "execution_count": 18,
     "metadata": {},
     "output_type": "execute_result"
    }
   ],
   "source": [
    "file_path = \"./pubmed/cns_psychiatric_diseases_mesh.txt\"\n",
    "\n",
    "df_pmids = pd.read_csv(file_path, header=None)\n",
    "df_pmids.columns = ['PMID']\n",
    "df_pmids.shape"
   ]
  },
  {
   "cell_type": "code",
   "execution_count": null,
   "id": "4f2ee897-2cf8-47e2-8414-8eb8fcd1fc48",
   "metadata": {},
   "outputs": [
    {
     "data": {
      "text/html": [
       "<div>\n",
       "<style scoped>\n",
       "    .dataframe tbody tr th:only-of-type {\n",
       "        vertical-align: middle;\n",
       "    }\n",
       "\n",
       "    .dataframe tbody tr th {\n",
       "        vertical-align: top;\n",
       "    }\n",
       "\n",
       "    .dataframe thead th {\n",
       "        text-align: right;\n",
       "    }\n",
       "</style>\n",
       "<table border=\"1\" class=\"dataframe\">\n",
       "  <thead>\n",
       "    <tr style=\"text-align: right;\">\n",
       "      <th></th>\n",
       "      <th>PMID</th>\n",
       "    </tr>\n",
       "  </thead>\n",
       "  <tbody>\n",
       "    <tr>\n",
       "      <th>0</th>\n",
       "      <td>4</td>\n",
       "    </tr>\n",
       "    <tr>\n",
       "      <th>1</th>\n",
       "      <td>7</td>\n",
       "    </tr>\n",
       "    <tr>\n",
       "      <th>2</th>\n",
       "      <td>110</td>\n",
       "    </tr>\n",
       "    <tr>\n",
       "      <th>3</th>\n",
       "      <td>126</td>\n",
       "    </tr>\n",
       "    <tr>\n",
       "      <th>4</th>\n",
       "      <td>152</td>\n",
       "    </tr>\n",
       "  </tbody>\n",
       "</table>\n",
       "</div>"
      ],
      "text/plain": [
       "   PMID\n",
       "0     4\n",
       "1     7\n",
       "2   110\n",
       "3   126\n",
       "4   152"
      ]
     },
     "execution_count": 11,
     "metadata": {},
     "output_type": "execute_result"
    }
   ],
   "source": [
    "df_pmids.head()"
   ]
  },
  {
   "cell_type": "code",
   "execution_count": 12,
   "id": "7c2528fc-8611-4465-8500-549431dd6255",
   "metadata": {},
   "outputs": [],
   "source": [
    "# Set a fixed seed for reproducibility\n",
    "seed_value = 42\n",
    "# Use the sample method to obtain a random sample of 5000 rows\n",
    "df_sample = df_pmids.sample(n=5000, random_state=seed_value)"
   ]
  },
  {
   "cell_type": "code",
   "execution_count": 14,
   "id": "7a482baa-2e88-4b2c-b66d-f5b92ef70eec",
   "metadata": {},
   "outputs": [
    {
     "data": {
      "text/html": [
       "<div>\n",
       "<style scoped>\n",
       "    .dataframe tbody tr th:only-of-type {\n",
       "        vertical-align: middle;\n",
       "    }\n",
       "\n",
       "    .dataframe tbody tr th {\n",
       "        vertical-align: top;\n",
       "    }\n",
       "\n",
       "    .dataframe thead th {\n",
       "        text-align: right;\n",
       "    }\n",
       "</style>\n",
       "<table border=\"1\" class=\"dataframe\">\n",
       "  <thead>\n",
       "    <tr style=\"text-align: right;\">\n",
       "      <th></th>\n",
       "      <th>PMID</th>\n",
       "    </tr>\n",
       "  </thead>\n",
       "  <tbody>\n",
       "    <tr>\n",
       "      <th>2475761</th>\n",
       "      <td>32576286</td>\n",
       "    </tr>\n",
       "    <tr>\n",
       "      <th>577415</th>\n",
       "      <td>7442988</td>\n",
       "    </tr>\n",
       "    <tr>\n",
       "      <th>1170420</th>\n",
       "      <td>15115064</td>\n",
       "    </tr>\n",
       "    <tr>\n",
       "      <th>1887165</th>\n",
       "      <td>24517058</td>\n",
       "    </tr>\n",
       "    <tr>\n",
       "      <th>2685241</th>\n",
       "      <td>35894918</td>\n",
       "    </tr>\n",
       "  </tbody>\n",
       "</table>\n",
       "</div>"
      ],
      "text/plain": [
       "             PMID\n",
       "2475761  32576286\n",
       "577415    7442988\n",
       "1170420  15115064\n",
       "1887165  24517058\n",
       "2685241  35894918"
      ]
     },
     "execution_count": 14,
     "metadata": {},
     "output_type": "execute_result"
    }
   ],
   "source": [
    "df_sample.head()"
   ]
  },
  {
   "cell_type": "code",
   "execution_count": 19,
   "id": "671da12e-c9b5-4ab1-bc4d-a0806b39ae30",
   "metadata": {},
   "outputs": [],
   "source": [
    "# Save the sampled DataFrame as a tab-separated text file\n",
    "output_file_path = \"./pubmed/cns_psychiatric_diseases_mesh_5000_sample_pmids.txt\"\n",
    "df_sample.to_csv(output_file_path, index=False)"
   ]
  },
  {
   "cell_type": "code",
   "execution_count": 32,
   "id": "225e2cf9-5efa-44cd-a30e-b4c5ca4e62e0",
   "metadata": {},
   "outputs": [],
   "source": [
    "# NOTE: based on those IDs the contents will be fetched via the PubMed API, wee README for details"
   ]
  },
  {
   "cell_type": "markdown",
   "id": "d53dd577-2c52-46a1-a22c-38337f15d1cb",
   "metadata": {},
   "source": [
    "### Read PubMed EDirect Outputs"
   ]
  },
  {
   "cell_type": "code",
   "execution_count": 20,
   "id": "89a018f6-95cc-4f88-b875-26d9fde266e7",
   "metadata": {},
   "outputs": [],
   "source": [
    "file_path = \"./pubmed/pmid_contents_mesh_query.txt\"\n",
    "\n",
    "df = pd.read_csv(file_path, sep='^')\n",
    "df.columns = ['PMID', 'PubDate/Year', 'Journal/Title', 'ArticleTitle', 'AbstractText', 'doi']"
   ]
  },
  {
   "cell_type": "code",
   "execution_count": 21,
   "id": "ebd1bdba-9a94-410f-a785-9fb3623bea65",
   "metadata": {},
   "outputs": [
    {
     "data": {
      "text/plain": [
       "(4999, 6)"
      ]
     },
     "execution_count": 21,
     "metadata": {},
     "output_type": "execute_result"
    }
   ],
   "source": [
    "df.shape"
   ]
  },
  {
   "cell_type": "code",
   "execution_count": 22,
   "id": "7be0b56f-5a16-4a71-a8ed-d7a116623d75",
   "metadata": {},
   "outputs": [
    {
     "data": {
      "text/html": [
       "<div>\n",
       "<style scoped>\n",
       "    .dataframe tbody tr th:only-of-type {\n",
       "        vertical-align: middle;\n",
       "    }\n",
       "\n",
       "    .dataframe tbody tr th {\n",
       "        vertical-align: top;\n",
       "    }\n",
       "\n",
       "    .dataframe thead th {\n",
       "        text-align: right;\n",
       "    }\n",
       "</style>\n",
       "<table border=\"1\" class=\"dataframe\">\n",
       "  <thead>\n",
       "    <tr style=\"text-align: right;\">\n",
       "      <th></th>\n",
       "      <th>PMID</th>\n",
       "      <th>PubDate/Year</th>\n",
       "      <th>Journal/Title</th>\n",
       "      <th>ArticleTitle</th>\n",
       "      <th>AbstractText</th>\n",
       "      <th>doi</th>\n",
       "    </tr>\n",
       "  </thead>\n",
       "  <tbody>\n",
       "    <tr>\n",
       "      <th>0</th>\n",
       "      <td>18753</td>\n",
       "      <td>1977.0</td>\n",
       "      <td>Psychopharmacology bulletin</td>\n",
       "      <td>An uncontrolled clinical study with piperaceta...</td>\n",
       "      <td>NaN</td>\n",
       "      <td>NaN</td>\n",
       "    </tr>\n",
       "    <tr>\n",
       "      <th>1</th>\n",
       "      <td>26201</td>\n",
       "      <td>1978.0</td>\n",
       "      <td>Acta virologica</td>\n",
       "      <td>Transmissible virus dementia. II. Neurohistolo...</td>\n",
       "      <td>Histopathological findings in three temporo-sp...</td>\n",
       "      <td>NaN</td>\n",
       "    </tr>\n",
       "    <tr>\n",
       "      <th>2</th>\n",
       "      <td>50412</td>\n",
       "      <td>1975.0</td>\n",
       "      <td>Journal of neurology</td>\n",
       "      <td>Iophendylate cisternography in diagnosis of ce...</td>\n",
       "      <td>60 cases of bilateral cerebellopontine angle p...</td>\n",
       "      <td>10.1007/BF00312802</td>\n",
       "    </tr>\n",
       "    <tr>\n",
       "      <th>3</th>\n",
       "      <td>61390</td>\n",
       "      <td>1976.0</td>\n",
       "      <td>Lancet (London, England)</td>\n",
       "      <td>Cardiopulmonary resuscitation by lay people.</td>\n",
       "      <td>The survival-rate in 75 of 631 patients with c...</td>\n",
       "      <td>10.1016/s0140-6736(76)90002-7</td>\n",
       "    </tr>\n",
       "    <tr>\n",
       "      <th>4</th>\n",
       "      <td>63356</td>\n",
       "      <td>1976.0</td>\n",
       "      <td>Child psychiatry and human development</td>\n",
       "      <td>Negotiating educational programs for children ...</td>\n",
       "      <td>An approach to negotiating educational program...</td>\n",
       "      <td>10.1007/BF01464418</td>\n",
       "    </tr>\n",
       "  </tbody>\n",
       "</table>\n",
       "</div>"
      ],
      "text/plain": [
       "    PMID  PubDate/Year                           Journal/Title  \\\n",
       "0  18753        1977.0             Psychopharmacology bulletin   \n",
       "1  26201        1978.0                         Acta virologica   \n",
       "2  50412        1975.0                    Journal of neurology   \n",
       "3  61390        1976.0                Lancet (London, England)   \n",
       "4  63356        1976.0  Child psychiatry and human development   \n",
       "\n",
       "                                        ArticleTitle  \\\n",
       "0  An uncontrolled clinical study with piperaceta...   \n",
       "1  Transmissible virus dementia. II. Neurohistolo...   \n",
       "2  Iophendylate cisternography in diagnosis of ce...   \n",
       "3       Cardiopulmonary resuscitation by lay people.   \n",
       "4  Negotiating educational programs for children ...   \n",
       "\n",
       "                                        AbstractText  \\\n",
       "0                                                NaN   \n",
       "1  Histopathological findings in three temporo-sp...   \n",
       "2  60 cases of bilateral cerebellopontine angle p...   \n",
       "3  The survival-rate in 75 of 631 patients with c...   \n",
       "4  An approach to negotiating educational program...   \n",
       "\n",
       "                             doi  \n",
       "0                            NaN  \n",
       "1                            NaN  \n",
       "2             10.1007/BF00312802  \n",
       "3  10.1016/s0140-6736(76)90002-7  \n",
       "4             10.1007/BF01464418  "
      ]
     },
     "execution_count": 22,
     "metadata": {},
     "output_type": "execute_result"
    }
   ],
   "source": [
    "df.head()"
   ]
  },
  {
   "cell_type": "code",
   "execution_count": 24,
   "id": "dad15595-0374-4c52-b872-e7403d98a9e9",
   "metadata": {},
   "outputs": [
    {
     "data": {
      "image/png": "[encoded data removed]",
      "text/plain": [
       "<Figure size 864x576 with 1 Axes>"
      ]
     },
     "metadata": {
      "needs_background": "light"
     },
     "output_type": "display_data"
    }
   ],
   "source": [
    "import matplotlib.pyplot as plt\n",
    "\n",
    "# Increase the figure size\n",
    "plt.figure(figsize=(12, 8))\n",
    "\n",
    "# Assuming df is your DataFrame\n",
    "# Plot the distribution of values in PubDate/Year\n",
    "df['PubDate/Year'].value_counts().plot(kind='bar')\n",
    "\n",
    "plt.xlabel('PubDate/Year')\n",
    "plt.ylabel('Count')\n",
    "plt.title('Distribution of PubDate/Year')\n",
    "\n",
    "# Display the plot\n",
    "plt.show()\n"
   ]
  },
  {
   "cell_type": "code",
   "execution_count": 25,
   "id": "941d91f9-590f-4a21-b109-dd11b87112aa",
   "metadata": {},
   "outputs": [],
   "source": [
    "df_cleaned = df.dropna(subset=['AbstractText'])"
   ]
  },
  {
   "cell_type": "code",
   "execution_count": 26,
   "id": "04b75425-2301-4ca5-918b-a0d0f8e3009f",
   "metadata": {},
   "outputs": [
    {
     "data": {
      "text/plain": [
       "(3560, 6)"
      ]
     },
     "execution_count": 26,
     "metadata": {},
     "output_type": "execute_result"
    }
   ],
   "source": [
    "df_cleaned.shape"
   ]
  },
  {
   "cell_type": "code",
   "execution_count": 27,
   "id": "9e0dc5f5-67ee-4ed3-9f57-85699192d923",
   "metadata": {},
   "outputs": [],
   "source": [
    "# Fill NaN values with an empty string\n",
    "df_cleaned = df_cleaned.fillna('')\n",
    "df_cleaned['AbstractText'] = df_cleaned['AbstractText'].str.replace('\"', \"\\'\")\n",
    "df_cleaned['ArticleTitle'] = df_cleaned['ArticleTitle'].str.replace('\"', \"\\'\")\n",
    "\n",
    "# Concatenate the desired columns with ^ separator\n",
    "df_cleaned['text'] = df_cleaned[['Journal/Title', 'ArticleTitle', 'AbstractText']].apply(lambda x: '^\\\\n'.join(map(str, x)), axis=1)\n",
    "\n",
    "# Create a new DataFrame with only the required columns\n",
    "result_df = df_cleaned[['PMID', 'text']]\n",
    "result_df.to_csv(\"./prodigy/input/all_{}_pubmed_with_abstracts.csv\".format(len(result_df)))"
   ]
  },
  {
   "cell_type": "markdown",
   "id": "19244425-c43e-490b-8d6e-968016680486",
   "metadata": {},
   "source": [
    "### Prepare in JSONL format for Prodigy"
   ]
  },
  {
   "cell_type": "code",
   "execution_count": 28,
   "id": "dd86dcfa-f2c1-4824-9355-b6c8173e8be2",
   "metadata": {},
   "outputs": [],
   "source": [
    "# Set a seed for reproducibility\n",
    "np.random.seed(42)\n",
    "\n",
    "# Randomly sample 2000 rows\n",
    "sampled_df = result_df.sample(n=2000)\n",
    "\n",
    "# Split into two DataFrames\n",
    "pilot_df = sampled_df.head(500)\n",
    "postpilot_df = sampled_df.tail(1500)\n",
    "\n",
    "# Convert the DataFrames to JSONL format\n",
    "pilot_jsonl_data = pilot_df.to_dict(orient='records')\n",
    "postpilot_jsonl_data = postpilot_df.to_dict(orient='records')\n",
    "\n",
    "# Save the sampled data to JSONL files\n",
    "with open('./prodigy/input/pilot_500_pubmed_abstracts.jsonl', 'w') as pilot_file:\n",
    "    for line in pilot_jsonl_data:\n",
    "        pilot_file.write(f'{{\"pmid\": \"{line[\"PMID\"]}\", \"text\": \"{line[\"text\"]}\"}}\\n')\n",
    "\n",
    "with open('./prodigy/input/postpilot_1500_pubmed_abstracts.jsonl', 'w') as postpilot_file:\n",
    "    for line in postpilot_jsonl_data:\n",
    "        postpilot_file.write(f'{{\"pmid\": \"{line[\"PMID\"]}\", \"text\": \"{line[\"text\"]}\"}}\\n')\n"
   ]
  },
  {
   "cell_type": "code",
   "execution_count": 29,
   "id": "1f43580c-2c5c-4ad7-9fa0-8263f75cfdb1",
   "metadata": {},
   "outputs": [],
   "source": [
    "# Convert the DataFrame to JSONL format\n",
    "jsonl_data = result_df.to_dict(orient='records')\n",
    "\n",
    "# Save the JSONL data to a file\n",
    "with open('./prodigy/pubmed_abstracts.jsonl', 'w') as jsonl_file:\n",
    "    for line in jsonl_data:\n",
    "        jsonl_file.write(f'{{\"pmid\": \"{line[\"PMID\"]}\", \"text\": \"{line[\"text\"]}\"}}\\n')"
   ]
  },
  {
   "cell_type": "code",
   "execution_count": 30,
   "id": "7d5735fd-410b-4f89-99c2-2042d607f012",
   "metadata": {},
   "outputs": [
    {
     "data": {
      "text/html": [
       "<div>\n",
       "<style scoped>\n",
       "    .dataframe tbody tr th:only-of-type {\n",
       "        vertical-align: middle;\n",
       "    }\n",
       "\n",
       "    .dataframe tbody tr th {\n",
       "        vertical-align: top;\n",
       "    }\n",
       "\n",
       "    .dataframe thead th {\n",
       "        text-align: right;\n",
       "    }\n",
       "</style>\n",
       "<table border=\"1\" class=\"dataframe\">\n",
       "  <thead>\n",
       "    <tr style=\"text-align: right;\">\n",
       "      <th></th>\n",
       "      <th>PMID</th>\n",
       "      <th>text</th>\n",
       "    </tr>\n",
       "  </thead>\n",
       "  <tbody>\n",
       "    <tr>\n",
       "      <th>1</th>\n",
       "      <td>26201</td>\n",
       "      <td>Acta virologica^\\nTransmissible virus dementia...</td>\n",
       "    </tr>\n",
       "    <tr>\n",
       "      <th>2</th>\n",
       "      <td>50412</td>\n",
       "      <td>Journal of neurology^\\nIophendylate cisternogr...</td>\n",
       "    </tr>\n",
       "    <tr>\n",
       "      <th>3</th>\n",
       "      <td>61390</td>\n",
       "      <td>Lancet (London, England)^\\nCardiopulmonary res...</td>\n",
       "    </tr>\n",
       "    <tr>\n",
       "      <th>4</th>\n",
       "      <td>63356</td>\n",
       "      <td>Child psychiatry and human development^\\nNegot...</td>\n",
       "    </tr>\n",
       "    <tr>\n",
       "      <th>8</th>\n",
       "      <td>78395</td>\n",
       "      <td>Lancet (London, England)^\\nHaemophilus meningi...</td>\n",
       "    </tr>\n",
       "    <tr>\n",
       "      <th>...</th>\n",
       "      <td>...</td>\n",
       "      <td>...</td>\n",
       "    </tr>\n",
       "    <tr>\n",
       "      <th>4994</th>\n",
       "      <td>37860852</td>\n",
       "      <td>European journal of psychotraumatology^\\nTreat...</td>\n",
       "    </tr>\n",
       "    <tr>\n",
       "      <th>4995</th>\n",
       "      <td>37900065</td>\n",
       "      <td>Journal of medicine and life^\\nA retrospective...</td>\n",
       "    </tr>\n",
       "    <tr>\n",
       "      <th>4996</th>\n",
       "      <td>37905374</td>\n",
       "      <td>Cognitive science^\\nRepeat After Me? Both Chil...</td>\n",
       "    </tr>\n",
       "    <tr>\n",
       "      <th>4997</th>\n",
       "      <td>37951702</td>\n",
       "      <td>Neuroimaging clinics of North America^\\nTreatm...</td>\n",
       "    </tr>\n",
       "    <tr>\n",
       "      <th>4998</th>\n",
       "      <td>37955900</td>\n",
       "      <td>JAMA network open^\\nNeighborhood Disadvantage,...</td>\n",
       "    </tr>\n",
       "  </tbody>\n",
       "</table>\n",
       "<p>3560 rows × 2 columns</p>\n",
       "</div>"
      ],
      "text/plain": [
       "          PMID                                               text\n",
       "1        26201  Acta virologica^\\nTransmissible virus dementia...\n",
       "2        50412  Journal of neurology^\\nIophendylate cisternogr...\n",
       "3        61390  Lancet (London, England)^\\nCardiopulmonary res...\n",
       "4        63356  Child psychiatry and human development^\\nNegot...\n",
       "8        78395  Lancet (London, England)^\\nHaemophilus meningi...\n",
       "...        ...                                                ...\n",
       "4994  37860852  European journal of psychotraumatology^\\nTreat...\n",
       "4995  37900065  Journal of medicine and life^\\nA retrospective...\n",
       "4996  37905374  Cognitive science^\\nRepeat After Me? Both Chil...\n",
       "4997  37951702  Neuroimaging clinics of North America^\\nTreatm...\n",
       "4998  37955900  JAMA network open^\\nNeighborhood Disadvantage,...\n",
       "\n",
       "[3560 rows x 2 columns]"
      ]
     },
     "execution_count": 30,
     "metadata": {},
     "output_type": "execute_result"
    }
   ],
   "source": [
    "result_df"
   ]
  },
  {
   "cell_type": "markdown",
   "id": "4ff5a28b-4eb3-4f9b-8429-10cc4ed86044",
   "metadata": {},
   "source": [
    "## Second Pilot"
   ]
  },
  {
   "cell_type": "code",
   "execution_count": 4,
   "id": "2fd70977-9a4a-4af4-ae18-7541a55f4361",
   "metadata": {},
   "outputs": [],
   "source": [
    "input_file_path = './prodigy/input/postpilot_1500_pubmed_abstracts.jsonl'\n",
    "sampled_file_path = './prodigy/input/pilot_2_sampled_200.jsonl'\n",
    "remaining_file_path = './prodigy/input/remaining_1300.jsonl'\n",
    "\n",
    "# Read the JSONL file\n",
    "with open(input_file_path, 'r') as file:\n",
    "    lines = file.readlines()\n",
    "\n",
    "# Randomly sample 200 lines\n",
    "sampled_lines = random.sample(lines, 200)\n",
    "\n",
    "# Save the sampled lines to one file\n",
    "with open(sampled_file_path, 'w') as sampled_file:\n",
    "    sampled_file.writelines(sampled_lines)\n",
    "\n",
    "# Save the remaining lines to another file\n",
    "remaining_lines = [line for line in lines if line not in sampled_lines]\n",
    "with open(remaining_file_path, 'w') as remaining_file:\n",
    "    remaining_file.writelines(remaining_lines)"
   ]
  },
  {
   "cell_type": "markdown",
   "id": "3f7376fe-2e87-4903-95ef-c36ee5059758",
   "metadata": {},
   "source": [
    "## Set prodigy ids"
   ]
  },
  {
   "cell_type": "code",
   "execution_count": 1,
   "id": "edd62f1e-8c09-4117-9024-9777625f43aa",
   "metadata": {},
   "outputs": [],
   "source": [
    "import json\n",
    "\n",
    "# Read the JSONL file\n",
    "with open(\"./prodigy/annotated_output/pilot_500_pubmed_abstracts_shirin.jsonl\", 'r') as file:\n",
    "    lines = file.readlines()\n",
    "\n",
    "# Process each line\n",
    "for i, line in enumerate(lines):\n",
    "    data = json.loads(line)\n",
    "\n",
    "    # Replace values\n",
    "    data['_session_id'] = 'pilot-500-shirin'\n",
    "    data['_annotator_id'] = 'shirin'\n",
    "\n",
    "    # Convert back to JSON string\n",
    "    lines[i] = json.dumps(data) + '\\n'\n",
    "\n",
    "# Write the modified data back to the file\n",
    "with open('./prodigy/annotated_output/pilot_500_pubmed_abstracts_shirin_correct_id.jsonl', 'w') as file:\n",
    "    file.writelines(lines)"
   ]
  },
  {
   "cell_type": "code",
   "execution_count": null,
   "id": "fae97bf2-871f-4253-94e9-9f0bacdbd63e",
   "metadata": {},
   "outputs": [],
   "source": []
  }
 ],
 "metadata": {
  "kernelspec": {
   "display_name": "Python 3 (ipykernel)",
   "language": "python",
   "name": "python3"
  },
  "language_info": {
   "codemirror_mode": {
    "name": "ipython",
    "version": 3
   },
   "file_extension": ".py",
   "mimetype": "text/x-python",
   "name": "python",
   "nbconvert_exporter": "python",
   "pygments_lexer": "ipython3",
   "version": "3.11.7"
  }
 },
 "nbformat": 4,
 "nbformat_minor": 5
}
