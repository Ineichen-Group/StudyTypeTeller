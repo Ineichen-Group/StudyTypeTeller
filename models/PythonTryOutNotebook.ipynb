{
 "cells": [
  {
   "cell_type": "code",
   "execution_count": 29,
   "id": "967a4e8c-5ff2-436e-9f9c-93c4399dc4c7",
   "metadata": {
    "scrolled": true
   },
   "outputs": [
    {
     "ename": "FileNotFoundError",
     "evalue": "[Errno 2] No such file or directory: 'data/annotation_guidelines_shortened.pdf'",
     "output_type": "error",
     "traceback": [
      "\u001b[0;31m---------------------------------------------------------------------------\u001b[0m",
      "\u001b[0;31mFileNotFoundError\u001b[0m                         Traceback (most recent call last)",
      "Cell \u001b[0;32mIn[29], line 14\u001b[0m\n\u001b[1;32m     11\u001b[0m     \u001b[38;5;28;01mreturn\u001b[39;00m text\n\u001b[1;32m     13\u001b[0m \u001b[38;5;66;03m# Provide the path to your PDF file\u001b[39;00m\n\u001b[0;32m---> 14\u001b[0m pdf_text \u001b[38;5;241m=\u001b[39m \u001b[43mextract_text_from_pdf\u001b[49m\u001b[43m(\u001b[49m\u001b[38;5;124;43m\"\u001b[39;49m\u001b[38;5;124;43mdata/annotation_guidelines_shortened.pdf\u001b[39;49m\u001b[38;5;124;43m\"\u001b[39;49m\u001b[43m)\u001b[49m\n\u001b[1;32m     15\u001b[0m \u001b[38;5;28mprint\u001b[39m(pdf_text)\n",
      "Cell \u001b[0;32mIn[29], line 5\u001b[0m, in \u001b[0;36mextract_text_from_pdf\u001b[0;34m(pdf_path)\u001b[0m\n\u001b[1;32m      3\u001b[0m \u001b[38;5;28;01mdef\u001b[39;00m \u001b[38;5;21mextract_text_from_pdf\u001b[39m(pdf_path):\n\u001b[1;32m      4\u001b[0m     text \u001b[38;5;241m=\u001b[39m \u001b[38;5;124m\"\u001b[39m\u001b[38;5;124m\"\u001b[39m\n\u001b[0;32m----> 5\u001b[0m     \u001b[38;5;28;01mwith\u001b[39;00m \u001b[38;5;28;43mopen\u001b[39;49m\u001b[43m(\u001b[49m\u001b[43mpdf_path\u001b[49m\u001b[43m,\u001b[49m\u001b[43m \u001b[49m\u001b[38;5;124;43m\"\u001b[39;49m\u001b[38;5;124;43mrb\u001b[39;49m\u001b[38;5;124;43m\"\u001b[39;49m\u001b[43m)\u001b[49m \u001b[38;5;28;01mas\u001b[39;00m file:\n\u001b[1;32m      6\u001b[0m         reader \u001b[38;5;241m=\u001b[39m PyPDF2\u001b[38;5;241m.\u001b[39mPdfFileReader(file)\n\u001b[1;32m      7\u001b[0m         num_pages \u001b[38;5;241m=\u001b[39m reader\u001b[38;5;241m.\u001b[39mnumPages\n",
      "File \u001b[0;32m/Library/Frameworks/Python.framework/Versions/3.12/lib/python3.12/site-packages/IPython/core/interactiveshell.py:286\u001b[0m, in \u001b[0;36m_modified_open\u001b[0;34m(file, *args, **kwargs)\u001b[0m\n\u001b[1;32m    279\u001b[0m \u001b[38;5;28;01mif\u001b[39;00m file \u001b[38;5;129;01min\u001b[39;00m {\u001b[38;5;241m0\u001b[39m, \u001b[38;5;241m1\u001b[39m, \u001b[38;5;241m2\u001b[39m}:\n\u001b[1;32m    280\u001b[0m     \u001b[38;5;28;01mraise\u001b[39;00m \u001b[38;5;167;01mValueError\u001b[39;00m(\n\u001b[1;32m    281\u001b[0m         \u001b[38;5;124mf\u001b[39m\u001b[38;5;124m\"\u001b[39m\u001b[38;5;124mIPython won\u001b[39m\u001b[38;5;124m'\u001b[39m\u001b[38;5;124mt let you open fd=\u001b[39m\u001b[38;5;132;01m{\u001b[39;00mfile\u001b[38;5;132;01m}\u001b[39;00m\u001b[38;5;124m by default \u001b[39m\u001b[38;5;124m\"\u001b[39m\n\u001b[1;32m    282\u001b[0m         \u001b[38;5;124m\"\u001b[39m\u001b[38;5;124mas it is likely to crash IPython. If you know what you are doing, \u001b[39m\u001b[38;5;124m\"\u001b[39m\n\u001b[1;32m    283\u001b[0m         \u001b[38;5;124m\"\u001b[39m\u001b[38;5;124myou can use builtins\u001b[39m\u001b[38;5;124m'\u001b[39m\u001b[38;5;124m open.\u001b[39m\u001b[38;5;124m\"\u001b[39m\n\u001b[1;32m    284\u001b[0m     )\n\u001b[0;32m--> 286\u001b[0m \u001b[38;5;28;01mreturn\u001b[39;00m \u001b[43mio_open\u001b[49m\u001b[43m(\u001b[49m\u001b[43mfile\u001b[49m\u001b[43m,\u001b[49m\u001b[43m \u001b[49m\u001b[38;5;241;43m*\u001b[39;49m\u001b[43margs\u001b[49m\u001b[43m,\u001b[49m\u001b[43m \u001b[49m\u001b[38;5;241;43m*\u001b[39;49m\u001b[38;5;241;43m*\u001b[39;49m\u001b[43mkwargs\u001b[49m\u001b[43m)\u001b[49m\n",
      "\u001b[0;31mFileNotFoundError\u001b[0m: [Errno 2] No such file or directory: 'data/annotation_guidelines_shortened.pdf'"
     ]
    }
   ],
   "source": [
    "#real code (what you see below is a hallucination from GPT) ist too complicated (for me, see https://stackoverflow.com/questions/55461041/how-to-convert-whole-pdf-to-text-in-python)\n",
    "import PyPDF2\n",
    "\n",
    "def extract_text_from_pdf(pdf_path):\n",
    "    text = \"\"\n",
    "    with open(pdf_path, \"rb\") as file:\n",
    "        reader = PyPDF2.PdfFileReader(file)\n",
    "        num_pages = reader.numPages\n",
    "        for page_num in range(num_pages):\n",
    "            page = reader.getPage(page_num)\n",
    "            text += page.extractText()\n",
    "    return text\n",
    "\n",
    "# Provide the path to your PDF file\n",
    "pdf_text = extract_text_from_pdf(\"../data/annotation_guidelines_shortened.pdf\")\n",
    "print(pdf_text)"
   ]
  },
  {
   "cell_type": "code",
   "execution_count": 34,
   "id": "ac5562cd-996b-4b21-b03c-f053a5693b5d",
   "metadata": {},
   "outputs": [
    {
     "name": "stdout",
     "output_type": "stream",
     "text": [
      "1.   Deﬁnition of Interventions: \n",
      "\n",
      "- \n",
      "\n",
      "- \n",
      "\n",
      "\"Intervention\" includes treatments, procedures, or actions to prevent or \n",
      "treat disease. \n",
      "\"Non-drug-interventions\" encompass therapies without a speciﬁc \n",
      "molecular structure. \n",
      "\n",
      "2.   Guidelines for Clinical Trials: \n",
      "\n",
      "-  Studies re-analyzing clinical trial data labeled as respective clinical trials. \n",
      "-  Pharmakokinetic studies labeled as drug-intervention studies. \n",
      "-  Long-term adverse events studies labeled as clinical trials if the therapy is \n",
      "\n",
      "mentioned speciﬁcally. \n",
      "\n",
      "3.   General Annotation Guidelines: \n",
      "\n",
      "-  Labels are hierarchical; select the highest applicable label. Refer to the \n",
      "\n",
      "- \n",
      "\n",
      "accompanying table for the hierarchy. \n",
      "\"Remaining\" is used for studies outside neuroscience/psychiatry, clinical \n",
      "trials with unspeciﬁc therapies, and uncertainties. \n",
      "\n",
      "4.  Study Labels: \n",
      "\n",
      "-  Labels deﬁned for diPerent study types; choose the most speciﬁc \n",
      "\n",
      "applicable label. \n",
      "\n",
      " \n",
      " \n",
      " \n",
      " \n",
      "\f",
      "ﬁrstwordlabelworkingdeﬁnitionused(appliestotitleand/orabstractofstudy)hier-archyStudypro-tocolAstudyprotocolforaclinicaltrialorsystematicreview.1human,systematicreviewAstructuredresearchsummaryincludinghumandata.2non-systematicreviewAtextreviewingacertaintopicinanon-systematicway.3human,RCTnon-drug-interventionArandomizedcontrolledtrialofanon-drugtherapeuticinterventioninhumanpar-ticipants.4RCTdrug-interventionArandomizedcontrolledtrialofadruginterventioninhumanparticipants.5RCTnon-interventionArandomizedcontrolledtrialnottestingandtherapeuticintervention.6casereportAclinicalstudyreportingﬁndingsofonesinglehumanindividual.7non-RCTnon-drug-interventionAnynon-RCTclinicalstudyofanon-drugtherapeuticinterventioninhumanpar-ticipants.8non-RCTdrug-interventionAnynon-RCTclinicalstudyofadruginterventioninhumanparticipants.9animal,systematicreviewAstructuredresearchsummaryincludinganimaldata.10non-drug-interventionAnanimalstudytestinganon-drugtherapeuticintervention.11drug-interventionAnanimalstudytestingadrug12otherAnyanimalstudynottestingatherapeuticintervention.13in-vitro-studyAnexperimentalstudyconductedoutsidealivingorganism.14remainingAnyremainingstudytype.15Table2:Annotationguidelinesshortenedversion[ToamendtoGPT-4APIprompts]6\f",
      "\n"
     ]
    }
   ],
   "source": [
    "#don't use, unusable results\n",
    "from pdfminer.high_level import extract_text\n",
    "\n",
    "text = extract_text(\"../data/annotation_guidelines_shortened.pdf\")\n",
    "print(text)"
   ]
  },
  {
   "cell_type": "code",
   "execution_count": null,
   "id": "2a66a019-49b9-4fa9-a920-a8ae3dac4f00",
   "metadata": {},
   "outputs": [],
   "source": []
  }
 ],
 "metadata": {
  "kernelspec": {
   "display_name": "Python 3 (ipykernel)",
   "language": "python",
   "name": "python3"
  },
  "language_info": {
   "codemirror_mode": {
    "name": "ipython",
    "version": 3
   },
   "file_extension": ".py",
   "mimetype": "text/x-python",
   "name": "python",
   "nbconvert_exporter": "python",
   "pygments_lexer": "ipython3",
   "version": "3.12.0"
  }
 },
 "nbformat": 4,
 "nbformat_minor": 5
}
