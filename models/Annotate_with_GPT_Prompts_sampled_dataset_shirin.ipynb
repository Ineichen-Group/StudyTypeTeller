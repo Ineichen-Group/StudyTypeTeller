{
 "cells": [
  {
   "cell_type": "code",
   "execution_count": 1,
   "id": "5292809a-a6bf-45b8-bfd6-1589ee42a7b1",
   "metadata": {},
   "outputs": [],
   "source": [
    "import pandas as pd\n",
    "import openai\n",
    "import json\n",
    "import time\n",
    "import matplotlib.pyplot as plt\n",
    "from tqdm import tqdm  # Import tqdm for the progress bar\n",
    "from sklearn.metrics import accuracy_score, classification_report, balanced_accuracy_score\n",
    "from sklearn.metrics import balanced_accuracy_score\n",
    "import numpy as np"
   ]
  },
  {
   "cell_type": "code",
   "execution_count": 2,
   "id": "0cc1bdb6-331d-4c67-b2ef-055af90ddfbf",
   "metadata": {},
   "outputs": [],
   "source": [
    "#pip install openai"
   ]
  },
  {
   "cell_type": "code",
   "execution_count": 3,
   "id": "1ffebb73-a46a-4783-99fe-cb5ce0a5508a",
   "metadata": {},
   "outputs": [],
   "source": [
    "from openai import OpenAI"
   ]
  },
  {
   "cell_type": "code",
   "execution_count": 4,
   "id": "4fb4ab9c-6f1e-4989-8e89-0b84993330d2",
   "metadata": {},
   "outputs": [
    {
     "data": {
      "text/plain": [
       "'1.1.1'"
      ]
     },
     "execution_count": 4,
     "metadata": {},
     "output_type": "execute_result"
    }
   ],
   "source": [
    "openai.__version__\n"
   ]
  },
  {
   "cell_type": "markdown",
   "id": "c461bf8d-2acf-4c37-b11d-a638e88b9b65",
   "metadata": {},
   "source": [
    "### Read in annotated data"
   ]
  },
  {
   "cell_type": "code",
   "execution_count": 5,
   "id": "bd722fee-330e-4583-a1da-a775195d280c",
   "metadata": {},
   "outputs": [],
   "source": [
    "df = pd.read_csv(\"../data/prodigy/annotated_output/final/full_combined_dataset_1996.csv\", index_col=0)"
   ]
  },
  {
   "cell_type": "code",
   "execution_count": 6,
   "id": "d30ae2c9-5f93-407e-93d6-3317f99072f2",
   "metadata": {},
   "outputs": [
    {
     "data": {
      "text/html": [
       "<div>\n",
       "<style scoped>\n",
       "    .dataframe tbody tr th:only-of-type {\n",
       "        vertical-align: middle;\n",
       "    }\n",
       "\n",
       "    .dataframe tbody tr th {\n",
       "        vertical-align: top;\n",
       "    }\n",
       "\n",
       "    .dataframe thead th {\n",
       "        text-align: right;\n",
       "    }\n",
       "</style>\n",
       "<table border=\"1\" class=\"dataframe\">\n",
       "  <thead>\n",
       "    <tr style=\"text-align: right;\">\n",
       "      <th></th>\n",
       "      <th>pmid</th>\n",
       "      <th>journal_name</th>\n",
       "      <th>title</th>\n",
       "      <th>abstract</th>\n",
       "      <th>accepted_label</th>\n",
       "    </tr>\n",
       "  </thead>\n",
       "  <tbody>\n",
       "    <tr>\n",
       "      <th>0</th>\n",
       "      <td>18379746</td>\n",
       "      <td>Der Radiologe</td>\n",
       "      <td>[Pediatric stroke].</td>\n",
       "      <td>Stroke in childhood has gained increasingly mo...</td>\n",
       "      <td>Non-systematic-review</td>\n",
       "    </tr>\n",
       "    <tr>\n",
       "      <th>1</th>\n",
       "      <td>24660674</td>\n",
       "      <td>Journal of consulting and clinical psychology</td>\n",
       "      <td>Treatment engagement and response to CBT among...</td>\n",
       "      <td>In the current study, we compared measures of ...</td>\n",
       "      <td>Human-RCT-non-drug-intervention</td>\n",
       "    </tr>\n",
       "    <tr>\n",
       "      <th>2</th>\n",
       "      <td>20159133</td>\n",
       "      <td>Archives of physical medicine and rehabilitation</td>\n",
       "      <td>Relationship between perceived exertion and ph...</td>\n",
       "      <td>To investigate the strength of the relationshi...</td>\n",
       "      <td>Remaining</td>\n",
       "    </tr>\n",
       "    <tr>\n",
       "      <th>3</th>\n",
       "      <td>11781147</td>\n",
       "      <td>Biochimica et biophysica acta</td>\n",
       "      <td>Characterization of a missense mutation at his...</td>\n",
       "      <td>Genetic defects in pyruvate dehydrogenase comp...</td>\n",
       "      <td>Remaining</td>\n",
       "    </tr>\n",
       "    <tr>\n",
       "      <th>4</th>\n",
       "      <td>31706919</td>\n",
       "      <td>Epilepsy &amp; behavior : E&amp;B</td>\n",
       "      <td>The role of P-glycoprotein (P-gp) and inwardly...</td>\n",
       "      <td>Sudden unexpected death in epilepsy (SUDEP) is...</td>\n",
       "      <td>Non-systematic-review</td>\n",
       "    </tr>\n",
       "  </tbody>\n",
       "</table>\n",
       "</div>"
      ],
      "text/plain": [
       "       pmid                                      journal_name  \\\n",
       "0  18379746                                     Der Radiologe   \n",
       "1  24660674     Journal of consulting and clinical psychology   \n",
       "2  20159133  Archives of physical medicine and rehabilitation   \n",
       "3  11781147                     Biochimica et biophysica acta   \n",
       "4  31706919                         Epilepsy & behavior : E&B   \n",
       "\n",
       "                                               title  \\\n",
       "0                                [Pediatric stroke].   \n",
       "1  Treatment engagement and response to CBT among...   \n",
       "2  Relationship between perceived exertion and ph...   \n",
       "3  Characterization of a missense mutation at his...   \n",
       "4  The role of P-glycoprotein (P-gp) and inwardly...   \n",
       "\n",
       "                                            abstract  \\\n",
       "0  Stroke in childhood has gained increasingly mo...   \n",
       "1  In the current study, we compared measures of ...   \n",
       "2  To investigate the strength of the relationshi...   \n",
       "3  Genetic defects in pyruvate dehydrogenase comp...   \n",
       "4  Sudden unexpected death in epilepsy (SUDEP) is...   \n",
       "\n",
       "                    accepted_label  \n",
       "0            Non-systematic-review  \n",
       "1  Human-RCT-non-drug-intervention  \n",
       "2                        Remaining  \n",
       "3                        Remaining  \n",
       "4            Non-systematic-review  "
      ]
     },
     "execution_count": 6,
     "metadata": {},
     "output_type": "execute_result"
    }
   ],
   "source": [
    "df.head()"
   ]
  },
  {
   "cell_type": "code",
   "execution_count": 7,
   "id": "bbe461a0-164b-4201-a93d-12e1df9193bb",
   "metadata": {},
   "outputs": [],
   "source": [
    "# Combine the columns\n",
    "# Implementing custom tags for the combination of journal name, title, and abstract\n",
    "df['input_journal_title_abstract'] = '<journal>' + df['journal_name'] + '</journal>' + \\\n",
    "                                     '<title>' + df['title'] + '</title>' + \\\n",
    "                                     '<abstract>' + df['abstract'] + '</abstract>'\n",
    "\n",
    "# Implementing custom tags for the combination of title and abstract only\n",
    "df['input_title_abstract'] = '<title>' + df['title'] + '</title>' + \\\n",
    "                             '<abstract>' + df['abstract'] + '</abstract>'"
   ]
  },
  {
   "cell_type": "code",
   "execution_count": 8,
   "id": "b8623523-3916-4522-9999-18931e017571",
   "metadata": {},
   "outputs": [
    {
     "data": {
      "text/html": [
       "<div>\n",
       "<style scoped>\n",
       "    .dataframe tbody tr th:only-of-type {\n",
       "        vertical-align: middle;\n",
       "    }\n",
       "\n",
       "    .dataframe tbody tr th {\n",
       "        vertical-align: top;\n",
       "    }\n",
       "\n",
       "    .dataframe thead th {\n",
       "        text-align: right;\n",
       "    }\n",
       "</style>\n",
       "<table border=\"1\" class=\"dataframe\">\n",
       "  <thead>\n",
       "    <tr style=\"text-align: right;\">\n",
       "      <th></th>\n",
       "      <th>pmid</th>\n",
       "      <th>journal_name</th>\n",
       "      <th>title</th>\n",
       "      <th>abstract</th>\n",
       "      <th>accepted_label</th>\n",
       "      <th>input_journal_title_abstract</th>\n",
       "      <th>input_title_abstract</th>\n",
       "    </tr>\n",
       "  </thead>\n",
       "  <tbody>\n",
       "    <tr>\n",
       "      <th>0</th>\n",
       "      <td>18379746</td>\n",
       "      <td>Der Radiologe</td>\n",
       "      <td>[Pediatric stroke].</td>\n",
       "      <td>Stroke in childhood has gained increasingly mo...</td>\n",
       "      <td>Non-systematic-review</td>\n",
       "      <td>&lt;journal&gt;Der Radiologe&lt;/journal&gt;&lt;title&gt;[Pediat...</td>\n",
       "      <td>&lt;title&gt;[Pediatric stroke].&lt;/title&gt;&lt;abstract&gt;St...</td>\n",
       "    </tr>\n",
       "    <tr>\n",
       "      <th>1</th>\n",
       "      <td>24660674</td>\n",
       "      <td>Journal of consulting and clinical psychology</td>\n",
       "      <td>Treatment engagement and response to CBT among...</td>\n",
       "      <td>In the current study, we compared measures of ...</td>\n",
       "      <td>Human-RCT-non-drug-intervention</td>\n",
       "      <td>&lt;journal&gt;Journal of consulting and clinical ps...</td>\n",
       "      <td>&lt;title&gt;Treatment engagement and response to CB...</td>\n",
       "    </tr>\n",
       "    <tr>\n",
       "      <th>2</th>\n",
       "      <td>20159133</td>\n",
       "      <td>Archives of physical medicine and rehabilitation</td>\n",
       "      <td>Relationship between perceived exertion and ph...</td>\n",
       "      <td>To investigate the strength of the relationshi...</td>\n",
       "      <td>Remaining</td>\n",
       "      <td>&lt;journal&gt;Archives of physical medicine and reh...</td>\n",
       "      <td>&lt;title&gt;Relationship between perceived exertion...</td>\n",
       "    </tr>\n",
       "    <tr>\n",
       "      <th>3</th>\n",
       "      <td>11781147</td>\n",
       "      <td>Biochimica et biophysica acta</td>\n",
       "      <td>Characterization of a missense mutation at his...</td>\n",
       "      <td>Genetic defects in pyruvate dehydrogenase comp...</td>\n",
       "      <td>Remaining</td>\n",
       "      <td>&lt;journal&gt;Biochimica et biophysica acta&lt;/journa...</td>\n",
       "      <td>&lt;title&gt;Characterization of a missense mutation...</td>\n",
       "    </tr>\n",
       "    <tr>\n",
       "      <th>4</th>\n",
       "      <td>31706919</td>\n",
       "      <td>Epilepsy &amp; behavior : E&amp;B</td>\n",
       "      <td>The role of P-glycoprotein (P-gp) and inwardly...</td>\n",
       "      <td>Sudden unexpected death in epilepsy (SUDEP) is...</td>\n",
       "      <td>Non-systematic-review</td>\n",
       "      <td>&lt;journal&gt;Epilepsy &amp; behavior : E&amp;B&lt;/journal&gt;&lt;t...</td>\n",
       "      <td>&lt;title&gt;The role of P-glycoprotein (P-gp) and i...</td>\n",
       "    </tr>\n",
       "  </tbody>\n",
       "</table>\n",
       "</div>"
      ],
      "text/plain": [
       "       pmid                                      journal_name  \\\n",
       "0  18379746                                     Der Radiologe   \n",
       "1  24660674     Journal of consulting and clinical psychology   \n",
       "2  20159133  Archives of physical medicine and rehabilitation   \n",
       "3  11781147                     Biochimica et biophysica acta   \n",
       "4  31706919                         Epilepsy & behavior : E&B   \n",
       "\n",
       "                                               title  \\\n",
       "0                                [Pediatric stroke].   \n",
       "1  Treatment engagement and response to CBT among...   \n",
       "2  Relationship between perceived exertion and ph...   \n",
       "3  Characterization of a missense mutation at his...   \n",
       "4  The role of P-glycoprotein (P-gp) and inwardly...   \n",
       "\n",
       "                                            abstract  \\\n",
       "0  Stroke in childhood has gained increasingly mo...   \n",
       "1  In the current study, we compared measures of ...   \n",
       "2  To investigate the strength of the relationshi...   \n",
       "3  Genetic defects in pyruvate dehydrogenase comp...   \n",
       "4  Sudden unexpected death in epilepsy (SUDEP) is...   \n",
       "\n",
       "                    accepted_label  \\\n",
       "0            Non-systematic-review   \n",
       "1  Human-RCT-non-drug-intervention   \n",
       "2                        Remaining   \n",
       "3                        Remaining   \n",
       "4            Non-systematic-review   \n",
       "\n",
       "                        input_journal_title_abstract  \\\n",
       "0  <journal>Der Radiologe</journal><title>[Pediat...   \n",
       "1  <journal>Journal of consulting and clinical ps...   \n",
       "2  <journal>Archives of physical medicine and reh...   \n",
       "3  <journal>Biochimica et biophysica acta</journa...   \n",
       "4  <journal>Epilepsy & behavior : E&B</journal><t...   \n",
       "\n",
       "                                input_title_abstract  \n",
       "0  <title>[Pediatric stroke].</title><abstract>St...  \n",
       "1  <title>Treatment engagement and response to CB...  \n",
       "2  <title>Relationship between perceived exertion...  \n",
       "3  <title>Characterization of a missense mutation...  \n",
       "4  <title>The role of P-glycoprotein (P-gp) and i...  "
      ]
     },
     "execution_count": 8,
     "metadata": {},
     "output_type": "execute_result"
    }
   ],
   "source": [
    "df.head(5)"
   ]
  },
  {
   "cell_type": "markdown",
   "id": "e0725592-c308-4ec2-a4d3-a8bc89d11878",
   "metadata": {},
   "source": [
    "### Load key for the OpenAI API "
   ]
  },
  {
   "cell_type": "code",
   "execution_count": 9,
   "id": "5410c439-9e4e-4878-90c0-e8ca1d25c2ef",
   "metadata": {},
   "outputs": [],
   "source": [
    "def load_pass(file_path, key_to_find):\n",
    "    with open(file_path, 'r') as file:\n",
    "        for line in file:\n",
    "            parts = line.strip().split(\"=\")\n",
    "            if len(parts) == 2 and parts[0] == key_to_find:\n",
    "                found_password = parts[1]\n",
    "                break\n",
    "    if found_password:\n",
    "        print(\"Found password.\")\n",
    "        return found_password\n",
    "    else:\n",
    "        print(\"Password not found for key:\", key_to_find)"
   ]
  },
  {
   "cell_type": "markdown",
   "id": "7a5933e6-3cb4-4e37-aa85-51ea968919f8",
   "metadata": {},
   "source": [
    "Note: You need to create a credentials.txt file with the following content:  \n",
    "OPENAI=sk-77QXXXXXXXXXXXXXXXXXXXXXXXXXXX  \n",
    "replace the value after the = sign with your API key.  \n",
    "Make sure the credentials.txt is added to .gitignore, you don't want to put your password on Git!"
   ]
  },
  {
   "cell_type": "code",
   "execution_count": 10,
   "id": "7156eb84-1813-4ae3-8dbc-d4084f66afa3",
   "metadata": {},
   "outputs": [
    {
     "name": "stdout",
     "output_type": "stream",
     "text": [
      "Found password.\n"
     ]
    }
   ],
   "source": [
    "openai.api_key = load_pass(\"./credentials.txt\", \"OPENAI\")"
   ]
  },
  {
   "cell_type": "code",
   "execution_count": 11,
   "id": "0c11b84b-e9c2-44df-9c6c-ef084bf261f4",
   "metadata": {},
   "outputs": [],
   "source": [
    "client = OpenAI(api_key=openai.api_key)"
   ]
  },
  {
   "cell_type": "markdown",
   "id": "3ad13134-f6eb-491e-b59b-6a705e820619",
   "metadata": {},
   "source": [
    "### Query GPT"
   ]
  },
  {
   "cell_type": "markdown",
   "id": "ebd02c0b-d4bc-4f23-aaf8-e125821e7c87",
   "metadata": {},
   "source": [
    "To change the task the model is solving, you need to change the text of the prompt and the content text of the system role.  \n",
    "To change the GPT model used, you need to change the text of the model name when initiating the openai API.  \n",
    "The function gets as input the input_raw_text, that will be text for information extraction or classification."
   ]
  },
  {
   "cell_type": "code",
   "execution_count": 12,
   "id": "3ea3f587-8b26-4b55-a423-cad38eb7bad1",
   "metadata": {},
   "outputs": [],
   "source": [
    "import time\n",
    "\n",
    "DEFAULT_TEMPERATURE = 0\n",
    "DEFAULT_MAX_TOKENS = 500\n",
    "DEFAULT_MODEL = \"gpt-3.5-turbo\"\n",
    "\n",
    "def query_gpt(input_raw_text, prompt_text, gpt_model=\"gpt-3.5-turbo\", temperature=0, max_retries=5, retry_delay=3):\n",
    "    # CHANGE gpt_model to the desired model name, see https://platform.openai.com/docs/models (gpt-3.5-turbo and gpt-4-turbo-preview)\n",
    "    \n",
    "    # Add a delay at the beginning of the function to avoid overloading the API if there are multiple calls\n",
    "    # time.sleep(10)  \n",
    "\n",
    "    system_msg = f\"\"\"\n",
    "    You are an expert assistant specialized in text classification of PubMed abstracts. \"\"\"\n",
    "\n",
    "    retries = 0\n",
    "    while retries < max_retries:\n",
    "        print(\"Trying to call OpenAI API...\")\n",
    "        try:\n",
    "            completion = client.chat.completions.create(\n",
    "                model=gpt_model,  \n",
    "                response_format={\"type\": \"json_object\"},\n",
    "                temperature=temperature,\n",
    "                #max_tokens=2000,\n",
    "                messages=[\n",
    "                    {\"role\": \"system\", \"content\": system_msg},\n",
    "                    {\"role\": \"user\", \"content\": prompt_text + input_raw_text}\n",
    "                ]\n",
    "            )\n",
    "            return completion.choices[0].message.content\n",
    "        except Exception as e:\n",
    "            # Handle API error, e.g., retry or log\n",
    "            print(f\"OpenAI API returned an error: {e}\")\n",
    "            time.sleep(retry_delay)  # Wait before retrying\n",
    "            retries += 1\n",
    "\n",
    "    raise RuntimeError(\"Max retries reached. Unable to complete the API call.\")\n"
   ]
  },
  {
   "cell_type": "code",
   "execution_count": 13,
   "id": "f0a2857a-0537-4f94-b755-f1b449d994df",
   "metadata": {},
   "outputs": [],
   "source": [
    "# Define a function to apply GPT queries with a progress bar\n",
    "def apply_gpt_with_progress(data_series, prompt_text, model=\"gpt-3.5-turbo\"):\n",
    "    results = []\n",
    "    total_items = len(data_series)\n",
    "    # Create a tqdm progress bar\n",
    "    with tqdm(total=total_items, desc=f\"Processing dataset\") as pbar:\n",
    "        for text in data_series:\n",
    "            result = query_gpt(text, prompt_text, model)\n",
    "            results.append(result)\n",
    "            pbar.update(1)  # Update the progress bar\n",
    "\n",
    "    return results"
   ]
  },
  {
   "cell_type": "markdown",
   "id": "22120aed-0d00-4677-b0d8-0838e26bc2a2",
   "metadata": {},
   "source": [
    "# Read prompts from file and query GPT"
   ]
  },
  {
   "cell_type": "code",
   "execution_count": 14,
   "id": "b15b1a3e-4a26-4939-b804-86b3a6e54197",
   "metadata": {},
   "outputs": [],
   "source": [
    "json_file_path = \"./prompt_strategies_shirin.json\"\n",
    "# Load the JSON file\n",
    "with open(json_file_path, 'r') as file:\n",
    "    prompts_data = json.load(file)"
   ]
  },
  {
   "cell_type": "code",
   "execution_count": 15,
   "id": "8becc798-2d1e-4235-a46a-7b5b70dd3777",
   "metadata": {},
   "outputs": [],
   "source": [
    "# Take the first half of the dataframe\n",
    "#sampled_df = df.head(len(df) // 2)\n",
    "#sampled_df.head()  # Show first few lines of sampled_df\n",
    "#print(sampled_df)  # Shows whole sampled_df"
   ]
  },
  {
   "cell_type": "code",
   "execution_count": 16,
   "id": "56a7605b-6b38-43f0-8474-e1395e502b22",
   "metadata": {},
   "outputs": [],
   "source": [
    "# Take the second half of the dataframe\n",
    "#sampled_df = df.tail(len(df) // 2)\n",
    "#sampled_df.head()  # Show first few lines of remaining_df\n",
    "#print(sampled_df)  # Shows whole remaining_df"
   ]
  },
  {
   "cell_type": "code",
   "execution_count": 17,
   "id": "b4993ff4-c59f-4150-a977-e2990a111cf5",
   "metadata": {
    "scrolled": true
   },
   "outputs": [
    {
     "name": "stdout",
     "output_type": "stream",
     "text": [
      "          pmid                                       journal_name  \\\n",
      "608   18540779       Experimental and clinical psychopharmacology   \n",
      "1695  29052307                              Developmental science   \n",
      "790   23337006                                Pediatric neurology   \n",
      "650   24619358                           Human molecular genetics   \n",
      "1634  36563534  Journal of behavior therapy and experimental p...   \n",
      "625   19397425                             Journal of neurotrauma   \n",
      "763   30900693  Zhurnal voprosy neirokhirurgii imeni N. N. Bur...   \n",
      "447    8038960         Meditsina truda i promyshlennaia ekologiia   \n",
      "1499  13680082                                 Psychopharmacology   \n",
      "888    3610529     The International journal of social psychiatry   \n",
      "1494    721341        The International journal of the addictions   \n",
      "1856  11905606                               The Lancet. Oncology   \n",
      "1678   2441955  Electroencephalography and clinical neurophysi...   \n",
      "1147  26190166                Suicide & life-threatening behavior   \n",
      "442   35547565  Computational and mathematical methods in medi...   \n",
      "1070  25956897                             Schizophrenia bulletin   \n",
      "1304  18810322        Cellular and molecular life sciences : CMLS   \n",
      "1262  16476809                              Archives of neurology   \n",
      "1453   2047094    Oral surgery, oral medicine, and oral pathology   \n",
      "852   30552780  Diabetic medicine : a journal of the British D...   \n",
      "231   10562114  Nursing standard (Royal College of Nursing (Gr...   \n",
      "1889   7625228                             Acta medica portuguesa   \n",
      "761   20513660                     Brain : a journal of neurology   \n",
      "1702  22810096               Journal of Alzheimer's disease : JAD   \n",
      "1809  35085001  Journal of child and adolescent psychopharmaco...   \n",
      "375   26419846                                    Molecular brain   \n",
      "661   35322402                     Acta psychiatrica Scandinavica   \n",
      "367   33164945                     Journal of Parkinson's disease   \n",
      "768   23274740                      Biochimica et biophysica acta   \n",
      "275   10753687  European journal of vascular and endovascular ...   \n",
      "1402  32664104                                           Medicine   \n",
      "1298  14711492                                          Cognition   \n",
      "464   34500626                     Molecules (Basel, Switzerland)   \n",
      "729   24101041  Journal of clinical oncology : official journa...   \n",
      "572    7467939                       Zentralblatt fur Gynakologie   \n",
      "870   18346734                             Experimental neurology   \n",
      "1775   2768094                Health care for women international   \n",
      "56     6394993                                 Neurologic clinics   \n",
      "1365   6780021    British medical journal (Clinical research ed.)   \n",
      "1676  30094777  International journal of computer assisted rad...   \n",
      "186   26260352  Journal of neurology, neurosurgery, and psychi...   \n",
      "282   11775071                Cellular and molecular neurobiology   \n",
      "1220  18470841                       Tijdschrift voor psychiatrie   \n",
      "1043  37041092                       Journal of pediatric surgery   \n",
      "1157  22880116                                           PloS one   \n",
      "1728  20309621      Journal of autism and developmental disorders   \n",
      "674    8827171                                 Neurologic clinics   \n",
      "1697  24524869  Journal of neuroradiology = Journal de neurora...   \n",
      "1579  22745378      Journal of immunology (Baltimore, Md. : 1950)   \n",
      "1870   6625984                              Archives of neurology   \n",
      "\n",
      "                                                  title  \\\n",
      "608   Triacetyluridine (TAU) decreases depressive sy...   \n",
      "1695  Instrumental learning and cognitive flexibilit...   \n",
      "790   Progressive intracranial fusiform aneurysms an...   \n",
      "650   Overexpression of the calpain-specific inhibit...   \n",
      "1634  Does fear reduction predict treatment response...   \n",
      "625   Dose and chemical modification considerations ...   \n",
      "763   [Evaluation of transsphenoidal adenomectomy ou...   \n",
      "447   [Ecological psychiatry--a current problem of c...   \n",
      "1499  The sleep-improving effects of doxepin are par...   \n",
      "888           Greece: the transition to community care.   \n",
      "1494  Alcohol use in the opiate use cycle of the her...   \n",
      "1856  The seed and soil hypothesis: vascularisation ...   \n",
      "1678  Effects of sleep loss on delta (0.3-3 Hz) EEG ...   \n",
      "1147  Sexual Self-Concept Ambiguity and the Interper...   \n",
      "442   Effect of New Nursing on Patients with Acute C...   \n",
      "1070  Increased Cerebellar Functional Connectivity W...   \n",
      "1304           Crystallin proteins and amyloid fibrils.   \n",
      "1262  A randomized controlled trial of etilevodopa i...   \n",
      "1453  Carotid cavernous fistula after minimal facial...   \n",
      "852   Variability in sleep disturbance, physical act...   \n",
      "231                               Psychosexual therapy.   \n",
      "1889  [An analysis of plasma histaminase in schizoph...   \n",
      "761   Bone morphogenetic protein-7 release from endo...   \n",
      "1702  Age-related cognitive decline in hypercholeste...   \n",
      "1809  Association of Lithium and Second-Generation A...   \n",
      "375   Understanding the molecular basis of autism in...   \n",
      "661   Influence of mental health professionals' atti...   \n",
      "367   Continuous Subcutaneous Levodopa Delivery for ...   \n",
      "768   Magnolol attenuates neointima formation by ind...   \n",
      "275   Non-operative treatment of advanced limb ischa...   \n",
      "1402  Case report: narcolepsy type 2 due to temporal...   \n",
      "1298  Is there a causal link from phonological aware...   \n",
      "464   Apigenin Ameliorates Scopolamine-Induced Cogni...   \n",
      "729   Psychosocial problems of teenagers who have a ...   \n",
      "572   [Medicamentous enzyme induction and hormonal c...   \n",
      "870   AAV2-mediated gene transfer of GDNF to the str...   \n",
      "1775  Experience of nervousness and anxiety disorder...   \n",
      "56    Noninvasive diagnosis of extracranial cerebrov...   \n",
      "1365  Electric convulsion therapy in depression: a d...   \n",
      "1676  Development and internal validation of an aneu...   \n",
      "186   Cerebrovascular injury as a risk factor for am...   \n",
      "282   Establishment and partial characterization of ...   \n",
      "1220  [Filicide; psychiatric disorders in parents wh...   \n",
      "1043  Comparative Analysis of Solifenacin Plus Desmo...   \n",
      "1157  The cortical signature of amyotrophic lateral ...   \n",
      "1728  The heavy burden of psychiatric comorbidity in...   \n",
      "674              Epidemiology of primary CNS neoplasms.   \n",
      "1697  Comparison of ADC values of intracranial heman...   \n",
      "1579  Transcriptional regulator Id2 is required for ...   \n",
      "1870      Language in the nondominant right hemisphere.   \n",
      "\n",
      "                                               abstract  \\\n",
      "608   Eleven patients with bipolar depression were g...   \n",
      "1695  Children who experience severe early life stre...   \n",
      "790   In the pediatric population, intracranial fusi...   \n",
      "650   Lewy bodies, a pathological hallmark of Parkin...   \n",
      "1634  Fear activation and reduction have traditional...   \n",
      "625   In this investigation, two cell-permeable synt...   \n",
      "763   For a long time, surgical removal of somatotro...   \n",
      "447   The conception of the integrated approach to s...   \n",
      "1499  In primary care, sedating antidepressants are ...   \n",
      "888   The system of psychiatric care in Greece is de...   \n",
      "1494  Ninety-six methadone maintained patients selec...   \n",
      "1856  The development of a relevant mouse model for ...   \n",
      "1678  One night's sleep loss in young adults increas...   \n",
      "1147  Mechanisms (i.e., thwarted belongingness, perc...   \n",
      "442   To explore the effect of the comfortable inter...   \n",
      "1070  The default-mode network (DMN) is vital in the...   \n",
      "1304  Improper protein folding (misfolding) can lead...   \n",
      "1262  Motor fluctuations are a common complication i...   \n",
      "1453  The carotid cavernous fistula has historically...   \n",
      "852   To examine (1) the prevalence of depressive sy...   \n",
      "231   Sexual problems are more likely to originate f...   \n",
      "1889  Previous studies have investigated putative al...   \n",
      "761   Glioblastoma cells with stem-like properties c...   \n",
      "1702  There is increasing evidence that hypercholest...   \n",
      "1809  Objective: Numerous studies have examined the ...   \n",
      "375   Autism spectrum disorder (ASD) is a complex ne...   \n",
      "661   Research on coercion in mental healthcare has ...   \n",
      "367   ND0612 is a continuous, subcutaneous levodopa/...   \n",
      "768   Endovascular injury induces switching of contr...   \n",
      "275   to identify and describe patients with advance...   \n",
      "1402  The orexin projection system includes the late...   \n",
      "1298  In this review, we re-assess the evidence that...   \n",
      "464   We investigated the protective effect and mech...   \n",
      "729   High prevalence of psychosocial problems has b...   \n",
      "572   The effects of phenobarbital and phenylbutazon...   \n",
      "870   Neural transplantation offers the potential of...   \n",
      "1775  Analyses of case materials describe variations...   \n",
      "56    Noninvasive methods for diagnosis of carotid a...   \n",
      "1365  The therapeutic effect of simulated and real b...   \n",
      "1676  Unruptured cerebral aneurysms pose a dilemma f...   \n",
      "186   To use an unbiased method to test a previously...   \n",
      "282   1. A human glioma cell line, NG97, was establi...   \n",
      "1220  In the Netherlands between 1992 and 2001 there...   \n",
      "1043  To compare the efficacy and tolerability of So...   \n",
      "1157  The aim of this study was to explore the patte...   \n",
      "1728  The objective of the study was to systematical...   \n",
      "674   Heritable syndromes and ionizing radiation, th...   \n",
      "1697  This study aimed to determine whether the use ...   \n",
      "1579  An effective immune response to Ag challenge i...   \n",
      "1870  Language function was evaluated in the right n...   \n",
      "\n",
      "                           accepted_label  \\\n",
      "608       Human-non-RCT-drug-intervention   \n",
      "1695                            Remaining   \n",
      "790                             Remaining   \n",
      "650              Animal-drug-intervention   \n",
      "1634  Human-non-RCT-non-drug-intervention   \n",
      "625              Animal-drug-intervention   \n",
      "763   Human-non-RCT-non-drug-intervention   \n",
      "447                             Remaining   \n",
      "1499          Human-RCT-drug-intervention   \n",
      "888                             Remaining   \n",
      "1494                            Remaining   \n",
      "1856                Non-systematic-review   \n",
      "1678                            Remaining   \n",
      "1147                            Remaining   \n",
      "442   Human-non-RCT-non-drug-intervention   \n",
      "1070                            Remaining   \n",
      "1304                Non-systematic-review   \n",
      "1262          Human-RCT-drug-intervention   \n",
      "1453                    Human-case-report   \n",
      "852                             Remaining   \n",
      "231                             Remaining   \n",
      "1889                            Remaining   \n",
      "761                          Animal-other   \n",
      "1702                         Animal-other   \n",
      "1809      Human-non-RCT-drug-intervention   \n",
      "375                 Non-systematic-review   \n",
      "661                             Remaining   \n",
      "367           Human-RCT-drug-intervention   \n",
      "768              Animal-drug-intervention   \n",
      "275   Human-non-RCT-non-drug-intervention   \n",
      "1402                    Human-case-report   \n",
      "1298                Non-systematic-review   \n",
      "464              Animal-drug-intervention   \n",
      "729                             Remaining   \n",
      "572       Human-non-RCT-drug-intervention   \n",
      "870              Animal-drug-intervention   \n",
      "1775                            Remaining   \n",
      "56                  Non-systematic-review   \n",
      "1365      Human-RCT-non-drug-intervention   \n",
      "1676                            Remaining   \n",
      "186                             Remaining   \n",
      "282                        In-vitro-study   \n",
      "1220                Non-systematic-review   \n",
      "1043          Human-RCT-drug-intervention   \n",
      "1157                            Remaining   \n",
      "1728                            Remaining   \n",
      "674                 Non-systematic-review   \n",
      "1697                            Remaining   \n",
      "1579                         Animal-other   \n",
      "1870                            Remaining   \n",
      "\n",
      "                           input_journal_title_abstract  \\\n",
      "608   <journal>Experimental and clinical psychopharm...   \n",
      "1695  <journal>Developmental science</journal><title...   \n",
      "790   <journal>Pediatric neurology</journal><title>P...   \n",
      "650   <journal>Human molecular genetics</journal><ti...   \n",
      "1634  <journal>Journal of behavior therapy and exper...   \n",
      "625   <journal>Journal of neurotrauma</journal><titl...   \n",
      "763   <journal>Zhurnal voprosy neirokhirurgii imeni ...   \n",
      "447   <journal>Meditsina truda i promyshlennaia ekol...   \n",
      "1499  <journal>Psychopharmacology</journal><title>Th...   \n",
      "888   <journal>The International journal of social p...   \n",
      "1494  <journal>The International journal of the addi...   \n",
      "1856  <journal>The Lancet. Oncology</journal><title>...   \n",
      "1678  <journal>Electroencephalography and clinical n...   \n",
      "1147  <journal>Suicide & life-threatening behavior</...   \n",
      "442   <journal>Computational and mathematical method...   \n",
      "1070  <journal>Schizophrenia bulletin</journal><titl...   \n",
      "1304  <journal>Cellular and molecular life sciences ...   \n",
      "1262  <journal>Archives of neurology</journal><title...   \n",
      "1453  <journal>Oral surgery, oral medicine, and oral...   \n",
      "852   <journal>Diabetic medicine : a journal of the ...   \n",
      "231   <journal>Nursing standard (Royal College of Nu...   \n",
      "1889  <journal>Acta medica portuguesa</journal><titl...   \n",
      "761   <journal>Brain : a journal of neurology</journ...   \n",
      "1702  <journal>Journal of Alzheimer's disease : JAD<...   \n",
      "1809  <journal>Journal of child and adolescent psych...   \n",
      "375   <journal>Molecular brain</journal><title>Under...   \n",
      "661   <journal>Acta psychiatrica Scandinavica</journ...   \n",
      "367   <journal>Journal of Parkinson's disease</journ...   \n",
      "768   <journal>Biochimica et biophysica acta</journa...   \n",
      "275   <journal>European journal of vascular and endo...   \n",
      "1402  <journal>Medicine</journal><title>Case report:...   \n",
      "1298  <journal>Cognition</journal><title>Is there a ...   \n",
      "464   <journal>Molecules (Basel, Switzerland)</journ...   \n",
      "729   <journal>Journal of clinical oncology : offici...   \n",
      "572   <journal>Zentralblatt fur Gynakologie</journal...   \n",
      "870   <journal>Experimental neurology</journal><titl...   \n",
      "1775  <journal>Health care for women international</...   \n",
      "56    <journal>Neurologic clinics</journal><title>No...   \n",
      "1365  <journal>British medical journal (Clinical res...   \n",
      "1676  <journal>International journal of computer ass...   \n",
      "186   <journal>Journal of neurology, neurosurgery, a...   \n",
      "282   <journal>Cellular and molecular neurobiology</...   \n",
      "1220  <journal>Tijdschrift voor psychiatrie</journal...   \n",
      "1043  <journal>Journal of pediatric surgery</journal...   \n",
      "1157  <journal>PloS one</journal><title>The cortical...   \n",
      "1728  <journal>Journal of autism and developmental d...   \n",
      "674   <journal>Neurologic clinics</journal><title>Ep...   \n",
      "1697  <journal>Journal of neuroradiology = Journal d...   \n",
      "1579  <journal>Journal of immunology (Baltimore, Md....   \n",
      "1870  <journal>Archives of neurology</journal><title...   \n",
      "\n",
      "                                   input_title_abstract  \n",
      "608   <title>Triacetyluridine (TAU) decreases depres...  \n",
      "1695  <title>Instrumental learning and cognitive fle...  \n",
      "790   <title>Progressive intracranial fusiform aneur...  \n",
      "650   <title>Overexpression of the calpain-specific ...  \n",
      "1634  <title>Does fear reduction predict treatment r...  \n",
      "625   <title>Dose and chemical modification consider...  \n",
      "763   <title>[Evaluation of transsphenoidal adenomec...  \n",
      "447   <title>[Ecological psychiatry--a current probl...  \n",
      "1499  <title>The sleep-improving effects of doxepin ...  \n",
      "888   <title>Greece: the transition to community car...  \n",
      "1494  <title>Alcohol use in the opiate use cycle of ...  \n",
      "1856  <title>The seed and soil hypothesis: vasculari...  \n",
      "1678  <title>Effects of sleep loss on delta (0.3-3 H...  \n",
      "1147  <title>Sexual Self-Concept Ambiguity and the I...  \n",
      "442   <title>Effect of New Nursing on Patients with ...  \n",
      "1070  <title>Increased Cerebellar Functional Connect...  \n",
      "1304  <title>Crystallin proteins and amyloid fibrils...  \n",
      "1262  <title>A randomized controlled trial of etilev...  \n",
      "1453  <title>Carotid cavernous fistula after minimal...  \n",
      "852   <title>Variability in sleep disturbance, physi...  \n",
      "231   <title>Psychosexual therapy.</title><abstract>...  \n",
      "1889  <title>[An analysis of plasma histaminase in s...  \n",
      "761   <title>Bone morphogenetic protein-7 release fr...  \n",
      "1702  <title>Age-related cognitive decline in hyperc...  \n",
      "1809  <title>Association of Lithium and Second-Gener...  \n",
      "375   <title>Understanding the molecular basis of au...  \n",
      "661   <title>Influence of mental health professional...  \n",
      "367   <title>Continuous Subcutaneous Levodopa Delive...  \n",
      "768   <title>Magnolol attenuates neointima formation...  \n",
      "275   <title>Non-operative treatment of advanced lim...  \n",
      "1402  <title>Case report: narcolepsy type 2 due to t...  \n",
      "1298  <title>Is there a causal link from phonologica...  \n",
      "464   <title>Apigenin Ameliorates Scopolamine-Induce...  \n",
      "729   <title>Psychosocial problems of teenagers who ...  \n",
      "572   <title>[Medicamentous enzyme induction and hor...  \n",
      "870   <title>AAV2-mediated gene transfer of GDNF to ...  \n",
      "1775  <title>Experience of nervousness and anxiety d...  \n",
      "56    <title>Noninvasive diagnosis of extracranial c...  \n",
      "1365  <title>Electric convulsion therapy in depressi...  \n",
      "1676  <title>Development and internal validation of ...  \n",
      "186   <title>Cerebrovascular injury as a risk factor...  \n",
      "282   <title>Establishment and partial characterizat...  \n",
      "1220  <title>[Filicide; psychiatric disorders in par...  \n",
      "1043  <title>Comparative Analysis of Solifenacin Plu...  \n",
      "1157  <title>The cortical signature of amyotrophic l...  \n",
      "1728  <title>The heavy burden of psychiatric comorbi...  \n",
      "674   <title>Epidemiology of primary CNS neoplasms.<...  \n",
      "1697  <title>Comparison of ADC values of intracrania...  \n",
      "1579  <title>Transcriptional regulator Id2 is requir...  \n",
      "1870  <title>Language in the nondominant right hemis...  \n"
     ]
    }
   ],
   "source": [
    "# Sample 50 elements randomly in a reproducible way\n",
    "sampled_df = df.sample(n=50, random_state=1)\n",
    "sampled_df.head() #show first few lines of sampled_df\n",
    "print(sampled_df) #shows whole sampled_df"
   ]
  },
  {
   "cell_type": "markdown",
   "id": "2f4b2967-0b34-4f06-8a2b-e7b6631eed8c",
   "metadata": {},
   "source": [
    "## Run different prompts over the data"
   ]
  },
  {
   "cell_type": "code",
   "execution_count": 18,
   "id": "13f33c08-807c-40f2-808c-f2ec1c25e772",
   "metadata": {},
   "outputs": [
    {
     "name": "stdout",
     "output_type": "stream",
     "text": [
      "Skipping prompt P1\n",
      "Skipping prompt P2\n",
      "Skipping prompt P2_1\n",
      "Skipping prompt P3\n",
      "Skipping prompt P3_1\n",
      "Skipping prompt P3_2\n",
      "Skipping prompt P3_3\n",
      "Skipping prompt P3_4\n",
      "Skipping prompt P4\n",
      "Skipping prompt P4_1\n",
      "Skipping prompt P4_2\n",
      "Skipping prompt P5\n",
      "Skipping prompt P6\n",
      "Skipping prompt P7\n",
      "Skipping prompt P8\n",
      "Skipping prompt P8_1_1\n",
      "Skipping prompt P8_1_2\n",
      "Skipping prompt P8_1_3\n",
      "Skipping prompt P9\n"
     ]
    },
    {
     "name": "stderr",
     "output_type": "stream",
     "text": [
      "Processing dataset:   0%|                                | 0/50 [00:00<?, ?it/s]"
     ]
    },
    {
     "name": "stdout",
     "output_type": "stream",
     "text": [
      "Trying to call OpenAI API...\n"
     ]
    },
    {
     "name": "stderr",
     "output_type": "stream",
     "text": [
      "Processing dataset:   2%|▍                       | 1/50 [00:01<01:32,  1.89s/it]"
     ]
    },
    {
     "name": "stdout",
     "output_type": "stream",
     "text": [
      "Trying to call OpenAI API...\n"
     ]
    },
    {
     "name": "stderr",
     "output_type": "stream",
     "text": [
      "Processing dataset:   4%|▉                       | 2/50 [00:03<01:20,  1.68s/it]"
     ]
    },
    {
     "name": "stdout",
     "output_type": "stream",
     "text": [
      "Trying to call OpenAI API...\n"
     ]
    },
    {
     "name": "stderr",
     "output_type": "stream",
     "text": [
      "Processing dataset:   6%|█▍                      | 3/50 [00:04<01:15,  1.61s/it]"
     ]
    },
    {
     "name": "stdout",
     "output_type": "stream",
     "text": [
      "Trying to call OpenAI API...\n"
     ]
    },
    {
     "name": "stderr",
     "output_type": "stream",
     "text": [
      "Processing dataset:   8%|█▉                      | 4/50 [00:06<01:14,  1.62s/it]"
     ]
    },
    {
     "name": "stdout",
     "output_type": "stream",
     "text": [
      "Trying to call OpenAI API...\n"
     ]
    },
    {
     "name": "stderr",
     "output_type": "stream",
     "text": [
      "Processing dataset:  10%|██▍                     | 5/50 [00:08<01:17,  1.73s/it]"
     ]
    },
    {
     "name": "stdout",
     "output_type": "stream",
     "text": [
      "Trying to call OpenAI API...\n"
     ]
    },
    {
     "name": "stderr",
     "output_type": "stream",
     "text": [
      "Processing dataset:  12%|██▉                     | 6/50 [00:09<01:12,  1.64s/it]"
     ]
    },
    {
     "name": "stdout",
     "output_type": "stream",
     "text": [
      "Trying to call OpenAI API...\n"
     ]
    },
    {
     "name": "stderr",
     "output_type": "stream",
     "text": [
      "Processing dataset:  14%|███▎                    | 7/50 [00:11<01:11,  1.67s/it]"
     ]
    },
    {
     "name": "stdout",
     "output_type": "stream",
     "text": [
      "Trying to call OpenAI API...\n"
     ]
    },
    {
     "name": "stderr",
     "output_type": "stream",
     "text": [
      "Processing dataset:  16%|███▊                    | 8/50 [00:13<01:09,  1.66s/it]"
     ]
    },
    {
     "name": "stdout",
     "output_type": "stream",
     "text": [
      "Trying to call OpenAI API...\n"
     ]
    },
    {
     "name": "stderr",
     "output_type": "stream",
     "text": [
      "Processing dataset:  18%|████▎                   | 9/50 [00:15<01:09,  1.69s/it]"
     ]
    },
    {
     "name": "stdout",
     "output_type": "stream",
     "text": [
      "Trying to call OpenAI API...\n"
     ]
    },
    {
     "name": "stderr",
     "output_type": "stream",
     "text": [
      "Processing dataset:  20%|████▌                  | 10/50 [00:16<01:04,  1.61s/it]"
     ]
    },
    {
     "name": "stdout",
     "output_type": "stream",
     "text": [
      "Trying to call OpenAI API...\n"
     ]
    },
    {
     "name": "stderr",
     "output_type": "stream",
     "text": [
      "Processing dataset:  22%|█████                  | 11/50 [00:17<00:58,  1.49s/it]"
     ]
    },
    {
     "name": "stdout",
     "output_type": "stream",
     "text": [
      "Trying to call OpenAI API...\n"
     ]
    },
    {
     "name": "stderr",
     "output_type": "stream",
     "text": [
      "Processing dataset:  24%|█████▌                 | 12/50 [00:19<01:03,  1.66s/it]"
     ]
    },
    {
     "name": "stdout",
     "output_type": "stream",
     "text": [
      "Trying to call OpenAI API...\n"
     ]
    },
    {
     "name": "stderr",
     "output_type": "stream",
     "text": [
      "Processing dataset:  26%|█████▉                 | 13/50 [00:21<01:01,  1.65s/it]"
     ]
    },
    {
     "name": "stdout",
     "output_type": "stream",
     "text": [
      "Trying to call OpenAI API...\n"
     ]
    },
    {
     "name": "stderr",
     "output_type": "stream",
     "text": [
      "Processing dataset:  28%|██████▍                | 14/50 [00:23<01:01,  1.71s/it]"
     ]
    },
    {
     "name": "stdout",
     "output_type": "stream",
     "text": [
      "Trying to call OpenAI API...\n"
     ]
    },
    {
     "name": "stderr",
     "output_type": "stream",
     "text": [
      "Processing dataset:  30%|██████▉                | 15/50 [00:25<01:02,  1.78s/it]"
     ]
    },
    {
     "name": "stdout",
     "output_type": "stream",
     "text": [
      "Trying to call OpenAI API...\n"
     ]
    },
    {
     "name": "stderr",
     "output_type": "stream",
     "text": [
      "Processing dataset:  32%|███████▎               | 16/50 [00:26<00:57,  1.68s/it]"
     ]
    },
    {
     "name": "stdout",
     "output_type": "stream",
     "text": [
      "Trying to call OpenAI API...\n"
     ]
    },
    {
     "name": "stderr",
     "output_type": "stream",
     "text": [
      "Processing dataset:  34%|███████▊               | 17/50 [00:28<00:58,  1.76s/it]"
     ]
    },
    {
     "name": "stdout",
     "output_type": "stream",
     "text": [
      "Trying to call OpenAI API...\n"
     ]
    },
    {
     "name": "stderr",
     "output_type": "stream",
     "text": [
      "Processing dataset:  36%|████████▎              | 18/50 [00:32<01:20,  2.52s/it]"
     ]
    },
    {
     "name": "stdout",
     "output_type": "stream",
     "text": [
      "Trying to call OpenAI API...\n"
     ]
    },
    {
     "name": "stderr",
     "output_type": "stream",
     "text": [
      "Processing dataset:  38%|████████▋              | 19/50 [00:34<01:08,  2.20s/it]"
     ]
    },
    {
     "name": "stdout",
     "output_type": "stream",
     "text": [
      "Trying to call OpenAI API...\n"
     ]
    },
    {
     "name": "stderr",
     "output_type": "stream",
     "text": [
      "Processing dataset:  40%|█████████▏             | 20/50 [00:35<01:00,  2.03s/it]"
     ]
    },
    {
     "name": "stdout",
     "output_type": "stream",
     "text": [
      "Trying to call OpenAI API...\n"
     ]
    },
    {
     "name": "stderr",
     "output_type": "stream",
     "text": [
      "Processing dataset:  42%|█████████▋             | 21/50 [00:38<01:04,  2.22s/it]"
     ]
    },
    {
     "name": "stdout",
     "output_type": "stream",
     "text": [
      "Trying to call OpenAI API...\n"
     ]
    },
    {
     "name": "stderr",
     "output_type": "stream",
     "text": [
      "Processing dataset:  44%|██████████             | 22/50 [00:42<01:13,  2.63s/it]"
     ]
    },
    {
     "name": "stdout",
     "output_type": "stream",
     "text": [
      "Trying to call OpenAI API...\n"
     ]
    },
    {
     "name": "stderr",
     "output_type": "stream",
     "text": [
      "Processing dataset:  46%|██████████▌            | 23/50 [00:43<01:03,  2.36s/it]"
     ]
    },
    {
     "name": "stdout",
     "output_type": "stream",
     "text": [
      "Trying to call OpenAI API...\n"
     ]
    },
    {
     "name": "stderr",
     "output_type": "stream",
     "text": [
      "Processing dataset:  48%|███████████            | 24/50 [00:45<00:54,  2.11s/it]"
     ]
    },
    {
     "name": "stdout",
     "output_type": "stream",
     "text": [
      "Trying to call OpenAI API...\n"
     ]
    },
    {
     "name": "stderr",
     "output_type": "stream",
     "text": [
      "Processing dataset:  50%|███████████▌           | 25/50 [00:47<00:48,  1.94s/it]"
     ]
    },
    {
     "name": "stdout",
     "output_type": "stream",
     "text": [
      "Trying to call OpenAI API...\n"
     ]
    },
    {
     "name": "stderr",
     "output_type": "stream",
     "text": [
      "Processing dataset:  52%|███████████▉           | 26/50 [00:48<00:44,  1.85s/it]"
     ]
    },
    {
     "name": "stdout",
     "output_type": "stream",
     "text": [
      "Trying to call OpenAI API...\n"
     ]
    },
    {
     "name": "stderr",
     "output_type": "stream",
     "text": [
      "Processing dataset:  54%|████████████▍          | 27/50 [00:50<00:42,  1.85s/it]"
     ]
    },
    {
     "name": "stdout",
     "output_type": "stream",
     "text": [
      "Trying to call OpenAI API...\n"
     ]
    },
    {
     "name": "stderr",
     "output_type": "stream",
     "text": [
      "Processing dataset:  56%|████████████▉          | 28/50 [00:52<00:39,  1.82s/it]"
     ]
    },
    {
     "name": "stdout",
     "output_type": "stream",
     "text": [
      "Trying to call OpenAI API...\n"
     ]
    },
    {
     "name": "stderr",
     "output_type": "stream",
     "text": [
      "Processing dataset:  58%|█████████████▎         | 29/50 [00:54<00:38,  1.85s/it]"
     ]
    },
    {
     "name": "stdout",
     "output_type": "stream",
     "text": [
      "Trying to call OpenAI API...\n"
     ]
    },
    {
     "name": "stderr",
     "output_type": "stream",
     "text": [
      "Processing dataset:  60%|█████████████▊         | 30/50 [00:56<00:37,  1.85s/it]"
     ]
    },
    {
     "name": "stdout",
     "output_type": "stream",
     "text": [
      "Trying to call OpenAI API...\n"
     ]
    },
    {
     "name": "stderr",
     "output_type": "stream",
     "text": [
      "Processing dataset:  62%|██████████████▎        | 31/50 [00:57<00:32,  1.73s/it]"
     ]
    },
    {
     "name": "stdout",
     "output_type": "stream",
     "text": [
      "Trying to call OpenAI API...\n"
     ]
    },
    {
     "name": "stderr",
     "output_type": "stream",
     "text": [
      "Processing dataset:  64%|██████████████▋        | 32/50 [00:59<00:31,  1.76s/it]"
     ]
    },
    {
     "name": "stdout",
     "output_type": "stream",
     "text": [
      "Trying to call OpenAI API...\n"
     ]
    },
    {
     "name": "stderr",
     "output_type": "stream",
     "text": [
      "Processing dataset:  66%|███████████████▏       | 33/50 [01:01<00:29,  1.76s/it]"
     ]
    },
    {
     "name": "stdout",
     "output_type": "stream",
     "text": [
      "Trying to call OpenAI API...\n"
     ]
    },
    {
     "name": "stderr",
     "output_type": "stream",
     "text": [
      "Processing dataset:  68%|███████████████▋       | 34/50 [01:02<00:26,  1.66s/it]"
     ]
    },
    {
     "name": "stdout",
     "output_type": "stream",
     "text": [
      "Trying to call OpenAI API...\n"
     ]
    },
    {
     "name": "stderr",
     "output_type": "stream",
     "text": [
      "Processing dataset:  70%|████████████████       | 35/50 [01:04<00:25,  1.70s/it]"
     ]
    },
    {
     "name": "stdout",
     "output_type": "stream",
     "text": [
      "Trying to call OpenAI API...\n"
     ]
    },
    {
     "name": "stderr",
     "output_type": "stream",
     "text": [
      "Processing dataset:  72%|████████████████▌      | 36/50 [01:06<00:24,  1.76s/it]"
     ]
    },
    {
     "name": "stdout",
     "output_type": "stream",
     "text": [
      "Trying to call OpenAI API...\n"
     ]
    },
    {
     "name": "stderr",
     "output_type": "stream",
     "text": [
      "Processing dataset:  74%|█████████████████      | 37/50 [01:07<00:22,  1.74s/it]"
     ]
    },
    {
     "name": "stdout",
     "output_type": "stream",
     "text": [
      "Trying to call OpenAI API...\n"
     ]
    },
    {
     "name": "stderr",
     "output_type": "stream",
     "text": [
      "Processing dataset:  76%|█████████████████▍     | 38/50 [01:09<00:20,  1.72s/it]"
     ]
    },
    {
     "name": "stdout",
     "output_type": "stream",
     "text": [
      "Trying to call OpenAI API...\n"
     ]
    },
    {
     "name": "stderr",
     "output_type": "stream",
     "text": [
      "Processing dataset:  78%|█████████████████▉     | 39/50 [01:11<00:20,  1.88s/it]"
     ]
    },
    {
     "name": "stdout",
     "output_type": "stream",
     "text": [
      "Trying to call OpenAI API...\n"
     ]
    },
    {
     "name": "stderr",
     "output_type": "stream",
     "text": [
      "Processing dataset:  80%|██████████████████▍    | 40/50 [01:13<00:18,  1.87s/it]"
     ]
    },
    {
     "name": "stdout",
     "output_type": "stream",
     "text": [
      "Trying to call OpenAI API...\n"
     ]
    },
    {
     "name": "stderr",
     "output_type": "stream",
     "text": [
      "Processing dataset:  82%|██████████████████▊    | 41/50 [01:15<00:15,  1.77s/it]"
     ]
    },
    {
     "name": "stdout",
     "output_type": "stream",
     "text": [
      "Trying to call OpenAI API...\n"
     ]
    },
    {
     "name": "stderr",
     "output_type": "stream",
     "text": [
      "Processing dataset:  84%|███████████████████▎   | 42/50 [01:16<00:13,  1.70s/it]"
     ]
    },
    {
     "name": "stdout",
     "output_type": "stream",
     "text": [
      "Trying to call OpenAI API...\n"
     ]
    },
    {
     "name": "stderr",
     "output_type": "stream",
     "text": [
      "Processing dataset:  86%|███████████████████▊   | 43/50 [01:18<00:11,  1.65s/it]"
     ]
    },
    {
     "name": "stdout",
     "output_type": "stream",
     "text": [
      "Trying to call OpenAI API...\n"
     ]
    },
    {
     "name": "stderr",
     "output_type": "stream",
     "text": [
      "Processing dataset:  88%|████████████████████▏  | 44/50 [01:20<00:10,  1.80s/it]"
     ]
    },
    {
     "name": "stdout",
     "output_type": "stream",
     "text": [
      "Trying to call OpenAI API...\n"
     ]
    },
    {
     "name": "stderr",
     "output_type": "stream",
     "text": [
      "Processing dataset:  90%|████████████████████▋  | 45/50 [01:22<00:09,  1.81s/it]"
     ]
    },
    {
     "name": "stdout",
     "output_type": "stream",
     "text": [
      "Trying to call OpenAI API...\n"
     ]
    },
    {
     "name": "stderr",
     "output_type": "stream",
     "text": [
      "Processing dataset:  92%|█████████████████████▏ | 46/50 [01:23<00:06,  1.70s/it]"
     ]
    },
    {
     "name": "stdout",
     "output_type": "stream",
     "text": [
      "Trying to call OpenAI API...\n"
     ]
    },
    {
     "name": "stderr",
     "output_type": "stream",
     "text": [
      "Processing dataset:  94%|█████████████████████▌ | 47/50 [01:25<00:05,  1.80s/it]"
     ]
    },
    {
     "name": "stdout",
     "output_type": "stream",
     "text": [
      "Trying to call OpenAI API...\n"
     ]
    },
    {
     "name": "stderr",
     "output_type": "stream",
     "text": [
      "Processing dataset:  96%|██████████████████████ | 48/50 [01:27<00:03,  1.90s/it]"
     ]
    },
    {
     "name": "stdout",
     "output_type": "stream",
     "text": [
      "Trying to call OpenAI API...\n"
     ]
    },
    {
     "name": "stderr",
     "output_type": "stream",
     "text": [
      "Processing dataset:  98%|██████████████████████▌| 49/50 [01:29<00:01,  1.89s/it]"
     ]
    },
    {
     "name": "stdout",
     "output_type": "stream",
     "text": [
      "Trying to call OpenAI API...\n"
     ]
    },
    {
     "name": "stderr",
     "output_type": "stream",
     "text": [
      "Processing dataset: 100%|███████████████████████| 50/50 [01:31<00:00,  1.83s/it]"
     ]
    },
    {
     "name": "stdout",
     "output_type": "stream",
     "text": [
      "Skipping prompt P10\n",
      "Skipping prompt P11\n",
      "Skipping prompt P11_1\n",
      "Skipping prompt P11_2\n",
      "Skipping prompt P11_3\n",
      "Skipping prompt P11_4\n",
      "Skipping prompt P11_5\n",
      "Skipping prompt P12\n"
     ]
    },
    {
     "name": "stderr",
     "output_type": "stream",
     "text": [
      "\n"
     ]
    }
   ],
   "source": [
    "# Add the IDs of Prompts that you want to test\n",
    "prompt_ids_to_test = [\"P9_1\"] #, \"P2\", \"P3\", \"P4\"\n",
    "model = \"gpt-3.5-turbo\"\n",
    "\n",
    "for prompt in prompts_data[\"prompts\"]:\n",
    "    prompt_id = prompt[\"id\"]\n",
    "    prompt_text = prompt[\"text\"]\n",
    "\n",
    "    if prompt_id in prompt_ids_to_test:\n",
    "        # Apply GPT predictions\n",
    "        sampled_df[f'gpt_predictions_{prompt_id}_raw'] = apply_gpt_with_progress(sampled_df['input_journal_title_abstract'], prompt_text, model)\n",
    "        ## the below includes error handling in case the json formatting did not work as expected\n",
    "        sampled_df[f'gpt_predictions_{prompt_id}'] = sampled_df[f'gpt_predictions_{prompt_id}_raw'].apply(\n",
    "            lambda x: json.loads(x)['gpt_explanation'] if isinstance(x, str) and 'gpt_explanation' in json.loads(x) else x\n",
    "        )\n",
    "        sampled_df.to_csv(f\"predictions/{model}_test50_outputs_{'_'.join(prompt_ids_to_test)}.csv\") # saving after each prompt strategy has been run, in order not to loose information in case a later strategy fails\n",
    "    else:\n",
    "        print(f\"Skipping prompt {prompt_id}\")\n",
    "        "
   ]
  },
  {
   "cell_type": "code",
   "execution_count": 19,
   "id": "66a02541-40ee-4351-b7b2-ea676b3a40c7",
   "metadata": {},
   "outputs": [],
   "source": [
    "#prompts_data #shows contents of prompt file it reads in"
   ]
  },
  {
   "cell_type": "code",
   "execution_count": 20,
   "id": "86a3d121-24d6-418c-abbd-406cbb9c3ce9",
   "metadata": {},
   "outputs": [
    {
     "data": {
      "text/html": [
       "<div>\n",
       "<style scoped>\n",
       "    .dataframe tbody tr th:only-of-type {\n",
       "        vertical-align: middle;\n",
       "    }\n",
       "\n",
       "    .dataframe tbody tr th {\n",
       "        vertical-align: top;\n",
       "    }\n",
       "\n",
       "    .dataframe thead th {\n",
       "        text-align: right;\n",
       "    }\n",
       "</style>\n",
       "<table border=\"1\" class=\"dataframe\">\n",
       "  <thead>\n",
       "    <tr style=\"text-align: right;\">\n",
       "      <th></th>\n",
       "      <th>pmid</th>\n",
       "      <th>journal_name</th>\n",
       "      <th>title</th>\n",
       "      <th>abstract</th>\n",
       "      <th>accepted_label</th>\n",
       "      <th>input_journal_title_abstract</th>\n",
       "      <th>input_title_abstract</th>\n",
       "      <th>gpt_predictions_P9_1_raw</th>\n",
       "      <th>gpt_predictions_P9_1</th>\n",
       "    </tr>\n",
       "  </thead>\n",
       "  <tbody>\n",
       "    <tr>\n",
       "      <th>608</th>\n",
       "      <td>18540779</td>\n",
       "      <td>Experimental and clinical psychopharmacology</td>\n",
       "      <td>Triacetyluridine (TAU) decreases depressive sy...</td>\n",
       "      <td>Eleven patients with bipolar depression were g...</td>\n",
       "      <td>Human-non-RCT-drug-intervention</td>\n",
       "      <td>&lt;journal&gt;Experimental and clinical psychopharm...</td>\n",
       "      <td>&lt;title&gt;Triacetyluridine (TAU) decreases depres...</td>\n",
       "      <td>{\\n    \"gpt_label\": \"Human-non-RCT-drug-interv...</td>\n",
       "      <td>The study involves administering triacetylurid...</td>\n",
       "    </tr>\n",
       "    <tr>\n",
       "      <th>1695</th>\n",
       "      <td>29052307</td>\n",
       "      <td>Developmental science</td>\n",
       "      <td>Instrumental learning and cognitive flexibilit...</td>\n",
       "      <td>Children who experience severe early life stre...</td>\n",
       "      <td>Remaining</td>\n",
       "      <td>&lt;journal&gt;Developmental science&lt;/journal&gt;&lt;title...</td>\n",
       "      <td>&lt;title&gt;Instrumental learning and cognitive fle...</td>\n",
       "      <td>{\\n    \"gpt_label\": \"Human-case-report\",\\n    ...</td>\n",
       "      <td>The study focuses on examining the difficultie...</td>\n",
       "    </tr>\n",
       "    <tr>\n",
       "      <th>790</th>\n",
       "      <td>23337006</td>\n",
       "      <td>Pediatric neurology</td>\n",
       "      <td>Progressive intracranial fusiform aneurysms an...</td>\n",
       "      <td>In the pediatric population, intracranial fusi...</td>\n",
       "      <td>Remaining</td>\n",
       "      <td>&lt;journal&gt;Pediatric neurology&lt;/journal&gt;&lt;title&gt;P...</td>\n",
       "      <td>&lt;title&gt;Progressive intracranial fusiform aneur...</td>\n",
       "      <td>{\\n    \"gpt_label\": \"Human-case-report\",\\n    ...</td>\n",
       "      <td>The text presents findings of one single human...</td>\n",
       "    </tr>\n",
       "    <tr>\n",
       "      <th>650</th>\n",
       "      <td>24619358</td>\n",
       "      <td>Human molecular genetics</td>\n",
       "      <td>Overexpression of the calpain-specific inhibit...</td>\n",
       "      <td>Lewy bodies, a pathological hallmark of Parkin...</td>\n",
       "      <td>Animal-drug-intervention</td>\n",
       "      <td>&lt;journal&gt;Human molecular genetics&lt;/journal&gt;&lt;ti...</td>\n",
       "      <td>&lt;title&gt;Overexpression of the calpain-specific ...</td>\n",
       "      <td>{\\n    \"gpt_label\": \"Animal-other\",\\n    \"gpt_...</td>\n",
       "      <td>The study involves investigating the role of c...</td>\n",
       "    </tr>\n",
       "    <tr>\n",
       "      <th>1634</th>\n",
       "      <td>36563534</td>\n",
       "      <td>Journal of behavior therapy and experimental p...</td>\n",
       "      <td>Does fear reduction predict treatment response...</td>\n",
       "      <td>Fear activation and reduction have traditional...</td>\n",
       "      <td>Human-non-RCT-non-drug-intervention</td>\n",
       "      <td>&lt;journal&gt;Journal of behavior therapy and exper...</td>\n",
       "      <td>&lt;title&gt;Does fear reduction predict treatment r...</td>\n",
       "      <td>{\\n    \"gpt_label\": \"Human-RCT-drug-interventi...</td>\n",
       "      <td>The study is a randomized controlled trial (RC...</td>\n",
       "    </tr>\n",
       "  </tbody>\n",
       "</table>\n",
       "</div>"
      ],
      "text/plain": [
       "          pmid                                       journal_name  \\\n",
       "608   18540779       Experimental and clinical psychopharmacology   \n",
       "1695  29052307                              Developmental science   \n",
       "790   23337006                                Pediatric neurology   \n",
       "650   24619358                           Human molecular genetics   \n",
       "1634  36563534  Journal of behavior therapy and experimental p...   \n",
       "\n",
       "                                                  title  \\\n",
       "608   Triacetyluridine (TAU) decreases depressive sy...   \n",
       "1695  Instrumental learning and cognitive flexibilit...   \n",
       "790   Progressive intracranial fusiform aneurysms an...   \n",
       "650   Overexpression of the calpain-specific inhibit...   \n",
       "1634  Does fear reduction predict treatment response...   \n",
       "\n",
       "                                               abstract  \\\n",
       "608   Eleven patients with bipolar depression were g...   \n",
       "1695  Children who experience severe early life stre...   \n",
       "790   In the pediatric population, intracranial fusi...   \n",
       "650   Lewy bodies, a pathological hallmark of Parkin...   \n",
       "1634  Fear activation and reduction have traditional...   \n",
       "\n",
       "                           accepted_label  \\\n",
       "608       Human-non-RCT-drug-intervention   \n",
       "1695                            Remaining   \n",
       "790                             Remaining   \n",
       "650              Animal-drug-intervention   \n",
       "1634  Human-non-RCT-non-drug-intervention   \n",
       "\n",
       "                           input_journal_title_abstract  \\\n",
       "608   <journal>Experimental and clinical psychopharm...   \n",
       "1695  <journal>Developmental science</journal><title...   \n",
       "790   <journal>Pediatric neurology</journal><title>P...   \n",
       "650   <journal>Human molecular genetics</journal><ti...   \n",
       "1634  <journal>Journal of behavior therapy and exper...   \n",
       "\n",
       "                                   input_title_abstract  \\\n",
       "608   <title>Triacetyluridine (TAU) decreases depres...   \n",
       "1695  <title>Instrumental learning and cognitive fle...   \n",
       "790   <title>Progressive intracranial fusiform aneur...   \n",
       "650   <title>Overexpression of the calpain-specific ...   \n",
       "1634  <title>Does fear reduction predict treatment r...   \n",
       "\n",
       "                               gpt_predictions_P9_1_raw  \\\n",
       "608   {\\n    \"gpt_label\": \"Human-non-RCT-drug-interv...   \n",
       "1695  {\\n    \"gpt_label\": \"Human-case-report\",\\n    ...   \n",
       "790   {\\n    \"gpt_label\": \"Human-case-report\",\\n    ...   \n",
       "650   {\\n    \"gpt_label\": \"Animal-other\",\\n    \"gpt_...   \n",
       "1634  {\\n    \"gpt_label\": \"Human-RCT-drug-interventi...   \n",
       "\n",
       "                                   gpt_predictions_P9_1  \n",
       "608   The study involves administering triacetylurid...  \n",
       "1695  The study focuses on examining the difficultie...  \n",
       "790   The text presents findings of one single human...  \n",
       "650   The study involves investigating the role of c...  \n",
       "1634  The study is a randomized controlled trial (RC...  "
      ]
     },
     "execution_count": 20,
     "metadata": {},
     "output_type": "execute_result"
    }
   ],
   "source": [
    "sampled_df.head()"
   ]
  },
  {
   "cell_type": "markdown",
   "id": "fbde6b31-1d28-4a33-afef-729531690a77",
   "metadata": {},
   "source": [
    "## Evaluate each prompt"
   ]
  },
  {
   "cell_type": "code",
   "execution_count": 21,
   "id": "6ba1db0d-828b-41d2-9e04-ef987a53d36a",
   "metadata": {},
   "outputs": [],
   "source": [
    "labels = [\"Human-systematic-review\", \"Human-RCT-drug-intervention\", \"Human-RCT-non-drug-intervention\", \"Human-RCT-non-intervention\", \"Human-case-report\", \"Human-non-RCT-drug-intervention\", \"Human-non-RCT-non-drug-intervention\", \"Animal-systematic-review\", \"Animal-drug-intervention\", \"Animal-non-drug-intervention\", \"Animal-other\", \"Non-systematic-review\", \"In-vitro-study\", \"Clinical-study-protocol\", \"Remaining\"]\n",
    "\n",
    "label_to_numerical = {label: i for i, label in enumerate(labels)}\n",
    "label_to_numerical[\"label missing\"] = -1"
   ]
  },
  {
   "cell_type": "code",
   "execution_count": 22,
   "id": "c998614a-10db-42cd-95f3-89973dcd9671",
   "metadata": {},
   "outputs": [
    {
     "name": "stdout",
     "output_type": "stream",
     "text": [
      "Evaluating  P9_1\n"
     ]
    },
    {
     "name": "stderr",
     "output_type": "stream",
     "text": [
      "/Library/Frameworks/Python.framework/Versions/3.12/lib/python3.12/site-packages/sklearn/metrics/_classification.py:2394: UserWarning: y_pred contains classes not in y_true\n",
      "  warnings.warn(\"y_pred contains classes not in y_true\")\n"
     ]
    }
   ],
   "source": [
    "def map_label_to_numerical(label):\n",
    "    # Check if label is a dictionary\n",
    "    if isinstance(label, dict):\n",
    "        # Extract the label with the highest score/probability\n",
    "        highest_label = max(label, key=label.get)\n",
    "        return label_to_numerical.get(highest_label, -1)\n",
    "    else:\n",
    "        # Directly map string labels to numerical IDs\n",
    "        return label_to_numerical.get(label, -1)\n",
    "        \n",
    "# Convert accepted labels to numerical\n",
    "sampled_df['accepted_label_numerical'] = sampled_df['accepted_label'].apply(lambda x: label_to_numerical.get(x, -1))\n",
    "\n",
    "# Initialize a list to hold DataFrame for each report and summary statistics\n",
    "report_dfs = []\n",
    "summary_stats = []\n",
    "\n",
    "# Iterate over each GPT prediction column\n",
    "for prompt_id in prompt_ids_to_test:\n",
    "    print(\"Evaluating \", prompt_id)\n",
    "    prediction_col = f'gpt_predictions_{prompt_id}'\n",
    "    \n",
    "    # Map GPT predictions to numerical values\n",
    "    sampled_df[f'{prediction_col}_numerical'] = sampled_df[prediction_col].apply(map_label_to_numerical)\n",
    "    \n",
    "    # Extract arrays for evaluation\n",
    "    y_true = sampled_df['accepted_label_numerical'].values\n",
    "    y_pred = sampled_df[f'{prediction_col}_numerical'].values\n",
    "    \n",
    "    # Calculate metrics\n",
    "    accuracy = accuracy_score(y_true, y_pred)\n",
    "    accuracy_balanced = balanced_accuracy_score(y_true, y_pred)\n",
    "    report = classification_report(y_true, y_pred, output_dict=True, zero_division=0, labels=range(len(labels)), target_names=labels)\n",
    "    \n",
    "    # Create DataFrame from report\n",
    "    report_df = pd.DataFrame(report).transpose()\n",
    "    report_df['Prompt ID'] = prompt_id  # Add column to indicate the prompt ID\n",
    "    report_dfs.append(report_df)\n",
    "    \n",
    "    # Extract summary statistics (average precision, recall, F1)\n",
    "    summary = report_df.loc['weighted avg', ['precision', 'recall', 'f1-score']].to_dict()\n",
    "    summary['Prompt ID'] = prompt_id\n",
    "    summary_stats.append(summary)\n",
    "\n",
    "# Combine all report DataFrames\n",
    "all_reports_df = pd.concat(report_dfs)\n",
    "\n",
    "# Create a summary table for average precision, recall, and F1-score\n",
    "summary_df = pd.DataFrame(summary_stats)"
   ]
  },
  {
   "cell_type": "code",
   "execution_count": 23,
   "id": "882459cd-4aaf-432c-b6b4-63024f1e4d6c",
   "metadata": {},
   "outputs": [
    {
     "data": {
      "text/html": [
       "<div>\n",
       "<style scoped>\n",
       "    .dataframe tbody tr th:only-of-type {\n",
       "        vertical-align: middle;\n",
       "    }\n",
       "\n",
       "    .dataframe tbody tr th {\n",
       "        vertical-align: top;\n",
       "    }\n",
       "\n",
       "    .dataframe thead th {\n",
       "        text-align: right;\n",
       "    }\n",
       "</style>\n",
       "<table border=\"1\" class=\"dataframe\">\n",
       "  <thead>\n",
       "    <tr style=\"text-align: right;\">\n",
       "      <th></th>\n",
       "      <th>precision</th>\n",
       "      <th>recall</th>\n",
       "      <th>f1-score</th>\n",
       "      <th>Prompt ID</th>\n",
       "    </tr>\n",
       "  </thead>\n",
       "  <tbody>\n",
       "    <tr>\n",
       "      <th>0</th>\n",
       "      <td>0.0</td>\n",
       "      <td>0.0</td>\n",
       "      <td>0.0</td>\n",
       "      <td>P9_1</td>\n",
       "    </tr>\n",
       "  </tbody>\n",
       "</table>\n",
       "</div>"
      ],
      "text/plain": [
       "   precision  recall  f1-score Prompt ID\n",
       "0        0.0     0.0       0.0      P9_1"
      ]
     },
     "execution_count": 23,
     "metadata": {},
     "output_type": "execute_result"
    }
   ],
   "source": [
    "summary_df"
   ]
  },
  {
   "cell_type": "code",
   "execution_count": 24,
   "id": "9a7e2026-67a0-42cd-a994-561f39d07154",
   "metadata": {},
   "outputs": [],
   "source": [
    "all_reports_df.to_csv(f\"evaluations/{model}_test50_per_class_{'_'.join(prompt_ids_to_test)}.csv\") # saving after each prompt strategy has been run, in order not to loose information in case a later strategy fails\n",
    "summary_df.to_csv(f\"evaluations/{model}_test50_summary_{'_'.join(prompt_ids_to_test)}.csv\") # saving after each prompt strategy has been run, in order not to loose information in case a later strategy fails"
   ]
  },
  {
   "cell_type": "code",
   "execution_count": 25,
   "id": "b0d3726f-e071-4aa5-b6d6-bd47fbc6c732",
   "metadata": {},
   "outputs": [
    {
     "data": {
      "text/html": [
       "<div>\n",
       "<style scoped>\n",
       "    .dataframe tbody tr th:only-of-type {\n",
       "        vertical-align: middle;\n",
       "    }\n",
       "\n",
       "    .dataframe tbody tr th {\n",
       "        vertical-align: top;\n",
       "    }\n",
       "\n",
       "    .dataframe thead th {\n",
       "        text-align: right;\n",
       "    }\n",
       "</style>\n",
       "<table border=\"1\" class=\"dataframe\">\n",
       "  <thead>\n",
       "    <tr style=\"text-align: right;\">\n",
       "      <th></th>\n",
       "      <th>precision</th>\n",
       "      <th>recall</th>\n",
       "      <th>f1-score</th>\n",
       "      <th>support</th>\n",
       "      <th>Prompt ID</th>\n",
       "    </tr>\n",
       "  </thead>\n",
       "  <tbody>\n",
       "    <tr>\n",
       "      <th>Human-systematic-review</th>\n",
       "      <td>0.0</td>\n",
       "      <td>0.0</td>\n",
       "      <td>0.0</td>\n",
       "      <td>0.0</td>\n",
       "      <td>P9_1</td>\n",
       "    </tr>\n",
       "    <tr>\n",
       "      <th>Human-RCT-drug-intervention</th>\n",
       "      <td>0.0</td>\n",
       "      <td>0.0</td>\n",
       "      <td>0.0</td>\n",
       "      <td>4.0</td>\n",
       "      <td>P9_1</td>\n",
       "    </tr>\n",
       "    <tr>\n",
       "      <th>Human-RCT-non-drug-intervention</th>\n",
       "      <td>0.0</td>\n",
       "      <td>0.0</td>\n",
       "      <td>0.0</td>\n",
       "      <td>1.0</td>\n",
       "      <td>P9_1</td>\n",
       "    </tr>\n",
       "    <tr>\n",
       "      <th>Human-RCT-non-intervention</th>\n",
       "      <td>0.0</td>\n",
       "      <td>0.0</td>\n",
       "      <td>0.0</td>\n",
       "      <td>0.0</td>\n",
       "      <td>P9_1</td>\n",
       "    </tr>\n",
       "    <tr>\n",
       "      <th>Human-case-report</th>\n",
       "      <td>0.0</td>\n",
       "      <td>0.0</td>\n",
       "      <td>0.0</td>\n",
       "      <td>2.0</td>\n",
       "      <td>P9_1</td>\n",
       "    </tr>\n",
       "    <tr>\n",
       "      <th>Human-non-RCT-drug-intervention</th>\n",
       "      <td>0.0</td>\n",
       "      <td>0.0</td>\n",
       "      <td>0.0</td>\n",
       "      <td>3.0</td>\n",
       "      <td>P9_1</td>\n",
       "    </tr>\n",
       "    <tr>\n",
       "      <th>Human-non-RCT-non-drug-intervention</th>\n",
       "      <td>0.0</td>\n",
       "      <td>0.0</td>\n",
       "      <td>0.0</td>\n",
       "      <td>4.0</td>\n",
       "      <td>P9_1</td>\n",
       "    </tr>\n",
       "    <tr>\n",
       "      <th>Animal-systematic-review</th>\n",
       "      <td>0.0</td>\n",
       "      <td>0.0</td>\n",
       "      <td>0.0</td>\n",
       "      <td>0.0</td>\n",
       "      <td>P9_1</td>\n",
       "    </tr>\n",
       "    <tr>\n",
       "      <th>Animal-drug-intervention</th>\n",
       "      <td>0.0</td>\n",
       "      <td>0.0</td>\n",
       "      <td>0.0</td>\n",
       "      <td>5.0</td>\n",
       "      <td>P9_1</td>\n",
       "    </tr>\n",
       "    <tr>\n",
       "      <th>Animal-non-drug-intervention</th>\n",
       "      <td>0.0</td>\n",
       "      <td>0.0</td>\n",
       "      <td>0.0</td>\n",
       "      <td>0.0</td>\n",
       "      <td>P9_1</td>\n",
       "    </tr>\n",
       "    <tr>\n",
       "      <th>Animal-other</th>\n",
       "      <td>0.0</td>\n",
       "      <td>0.0</td>\n",
       "      <td>0.0</td>\n",
       "      <td>3.0</td>\n",
       "      <td>P9_1</td>\n",
       "    </tr>\n",
       "    <tr>\n",
       "      <th>Non-systematic-review</th>\n",
       "      <td>0.0</td>\n",
       "      <td>0.0</td>\n",
       "      <td>0.0</td>\n",
       "      <td>7.0</td>\n",
       "      <td>P9_1</td>\n",
       "    </tr>\n",
       "    <tr>\n",
       "      <th>In-vitro-study</th>\n",
       "      <td>0.0</td>\n",
       "      <td>0.0</td>\n",
       "      <td>0.0</td>\n",
       "      <td>1.0</td>\n",
       "      <td>P9_1</td>\n",
       "    </tr>\n",
       "    <tr>\n",
       "      <th>Clinical-study-protocol</th>\n",
       "      <td>0.0</td>\n",
       "      <td>0.0</td>\n",
       "      <td>0.0</td>\n",
       "      <td>0.0</td>\n",
       "      <td>P9_1</td>\n",
       "    </tr>\n",
       "    <tr>\n",
       "      <th>Remaining</th>\n",
       "      <td>0.0</td>\n",
       "      <td>0.0</td>\n",
       "      <td>0.0</td>\n",
       "      <td>20.0</td>\n",
       "      <td>P9_1</td>\n",
       "    </tr>\n",
       "    <tr>\n",
       "      <th>micro avg</th>\n",
       "      <td>0.0</td>\n",
       "      <td>0.0</td>\n",
       "      <td>0.0</td>\n",
       "      <td>50.0</td>\n",
       "      <td>P9_1</td>\n",
       "    </tr>\n",
       "    <tr>\n",
       "      <th>macro avg</th>\n",
       "      <td>0.0</td>\n",
       "      <td>0.0</td>\n",
       "      <td>0.0</td>\n",
       "      <td>50.0</td>\n",
       "      <td>P9_1</td>\n",
       "    </tr>\n",
       "    <tr>\n",
       "      <th>weighted avg</th>\n",
       "      <td>0.0</td>\n",
       "      <td>0.0</td>\n",
       "      <td>0.0</td>\n",
       "      <td>50.0</td>\n",
       "      <td>P9_1</td>\n",
       "    </tr>\n",
       "  </tbody>\n",
       "</table>\n",
       "</div>"
      ],
      "text/plain": [
       "                                     precision  recall  f1-score  support  \\\n",
       "Human-systematic-review                    0.0     0.0       0.0      0.0   \n",
       "Human-RCT-drug-intervention                0.0     0.0       0.0      4.0   \n",
       "Human-RCT-non-drug-intervention            0.0     0.0       0.0      1.0   \n",
       "Human-RCT-non-intervention                 0.0     0.0       0.0      0.0   \n",
       "Human-case-report                          0.0     0.0       0.0      2.0   \n",
       "Human-non-RCT-drug-intervention            0.0     0.0       0.0      3.0   \n",
       "Human-non-RCT-non-drug-intervention        0.0     0.0       0.0      4.0   \n",
       "Animal-systematic-review                   0.0     0.0       0.0      0.0   \n",
       "Animal-drug-intervention                   0.0     0.0       0.0      5.0   \n",
       "Animal-non-drug-intervention               0.0     0.0       0.0      0.0   \n",
       "Animal-other                               0.0     0.0       0.0      3.0   \n",
       "Non-systematic-review                      0.0     0.0       0.0      7.0   \n",
       "In-vitro-study                             0.0     0.0       0.0      1.0   \n",
       "Clinical-study-protocol                    0.0     0.0       0.0      0.0   \n",
       "Remaining                                  0.0     0.0       0.0     20.0   \n",
       "micro avg                                  0.0     0.0       0.0     50.0   \n",
       "macro avg                                  0.0     0.0       0.0     50.0   \n",
       "weighted avg                               0.0     0.0       0.0     50.0   \n",
       "\n",
       "                                    Prompt ID  \n",
       "Human-systematic-review                  P9_1  \n",
       "Human-RCT-drug-intervention              P9_1  \n",
       "Human-RCT-non-drug-intervention          P9_1  \n",
       "Human-RCT-non-intervention               P9_1  \n",
       "Human-case-report                        P9_1  \n",
       "Human-non-RCT-drug-intervention          P9_1  \n",
       "Human-non-RCT-non-drug-intervention      P9_1  \n",
       "Animal-systematic-review                 P9_1  \n",
       "Animal-drug-intervention                 P9_1  \n",
       "Animal-non-drug-intervention             P9_1  \n",
       "Animal-other                             P9_1  \n",
       "Non-systematic-review                    P9_1  \n",
       "In-vitro-study                           P9_1  \n",
       "Clinical-study-protocol                  P9_1  \n",
       "Remaining                                P9_1  \n",
       "micro avg                                P9_1  \n",
       "macro avg                                P9_1  \n",
       "weighted avg                             P9_1  "
      ]
     },
     "execution_count": 25,
     "metadata": {},
     "output_type": "execute_result"
    }
   ],
   "source": [
    "all_reports_df"
   ]
  },
  {
   "cell_type": "code",
   "execution_count": null,
   "id": "d5d95236-565b-43ed-8442-8b499c92a955",
   "metadata": {},
   "outputs": [],
   "source": []
  },
  {
   "cell_type": "code",
   "execution_count": null,
   "id": "e260a28c-33b7-4c98-93e2-259a573ea435",
   "metadata": {},
   "outputs": [],
   "source": []
  }
 ],
 "metadata": {
  "kernelspec": {
   "display_name": "Python 3 (ipykernel)",
   "language": "python",
   "name": "python3"
  },
  "language_info": {
   "codemirror_mode": {
    "name": "ipython",
    "version": 3
   },
   "file_extension": ".py",
   "mimetype": "text/x-python",
   "name": "python",
   "nbconvert_exporter": "python",
   "pygments_lexer": "ipython3",
   "version": "3.12.0"
  }
 },
 "nbformat": 4,
 "nbformat_minor": 5
}
