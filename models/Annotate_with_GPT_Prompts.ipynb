{
 "cells": [
  {
   "cell_type": "code",
   "execution_count": 3,
   "id": "5292809a-a6bf-45b8-bfd6-1589ee42a7b1",
   "metadata": {},
   "outputs": [],
   "source": [
    "import pandas as pd\n",
    "import openai\n",
    "import json\n",
    "import time\n",
    "import matplotlib.pyplot as plt\n",
    "from tqdm import tqdm  # Import tqdm for the progress bar\n",
    "from sklearn.metrics import accuracy_score, classification_report, balanced_accuracy_score\n",
    "from sklearn.metrics import balanced_accuracy_score\n",
    "import numpy as np"
   ]
  },
  {
   "cell_type": "code",
   "execution_count": 4,
   "id": "0cc1bdb6-331d-4c67-b2ef-055af90ddfbf",
   "metadata": {},
   "outputs": [],
   "source": [
    "#pip install openai"
   ]
  },
  {
   "cell_type": "code",
   "execution_count": 5,
   "id": "1ffebb73-a46a-4783-99fe-cb5ce0a5508a",
   "metadata": {},
   "outputs": [],
   "source": [
    "from openai import OpenAI"
   ]
  },
  {
   "cell_type": "code",
   "execution_count": 6,
   "id": "4fb4ab9c-6f1e-4989-8e89-0b84993330d2",
   "metadata": {},
   "outputs": [
    {
     "data": {
      "text/plain": [
       "'1.14.0'"
      ]
     },
     "execution_count": 6,
     "metadata": {},
     "output_type": "execute_result"
    }
   ],
   "source": [
    "openai.__version__\n"
   ]
  },
  {
   "cell_type": "markdown",
   "id": "c461bf8d-2acf-4c37-b11d-a638e88b9b65",
   "metadata": {},
   "source": [
    "### Read in data"
   ]
  },
  {
   "cell_type": "code",
   "execution_count": 73,
   "id": "bbe461a0-164b-4201-a93d-12e1df9193bb",
   "metadata": {},
   "outputs": [],
   "source": [
    "# Initialize an empty list to store the parsed data\n",
    "data_list = []\n",
    "\n",
    "# Read the JSONL file line by line\n",
    "with open('../data/prodigy/annotated_output/pilot_500_pubmed_abstracts_shirin_correct_id.jsonl', 'r') as file:\n",
    "    for line in file:\n",
    "        # Parse each line as a JSON object\n",
    "        data = json.loads(line.strip())\n",
    "        \n",
    "        # Check if _view_id is \"choice\"// should be review if this was coming from a review prodigy session\n",
    "        if data.get(\"_view_id\") == \"choice\":\n",
    "            # Split text into journal_name, title, and abstract based on ^\\n symbol\n",
    "            text = data.get(\"text\", \"\")\n",
    "            \n",
    "            # Splitting text based on ^\\n for journal_name, title, and abstract\n",
    "            parts = text.split(\"^\\n\", 2)  # Split into three parts based on first two ^\\n occurrences\n",
    "            \n",
    "            journal_name = parts[0].strip() if len(parts) > 0 else \"\"\n",
    "            title = parts[1].strip() if len(parts) > 1 else \"\"\n",
    "            abstract = parts[2].strip() if len(parts) > 2 else \"\"\n",
    "            \n",
    "            # Extract other required fields\n",
    "            pmid = data.get(\"pmid\", \"\")\n",
    "            accept = data.get(\"accept\", [])\n",
    "            \n",
    "            # Append to the list\n",
    "            data_list.append({\n",
    "                \"pmid\": pmid,\n",
    "                \"journal_name\": journal_name,\n",
    "                \"title\": title,\n",
    "                \"abstract\": abstract,\n",
    "                \"accepted_label\": accept\n",
    "            })\n",
    "\n",
    "# Convert the list of dictionaries to a pandas DataFrame\n",
    "df = pd.DataFrame(data_list)\n",
    "df = df.explode('accepted_label')\n",
    "\n",
    "# Combine the columns\n",
    "# Implementing custom tags for the combination of journal name, title, and abstract\n",
    "df['input_journal_title_abstract'] = '<journal>' + df['journal_name'] + '</journal>' + \\\n",
    "                                     '<title>' + df['title'] + '</title>' + \\\n",
    "                                     '<abstract>' + df['abstract'] + '</abstract>'\n",
    "\n",
    "# Implementing custom tags for the combination of title and abstract only\n",
    "df['input_title_abstract'] = '<title>' + df['title'] + '</title>' + \\\n",
    "                             '<abstract>' + df['abstract'] + '</abstract>'"
   ]
  },
  {
   "cell_type": "code",
   "execution_count": 74,
   "id": "b8623523-3916-4522-9999-18931e017571",
   "metadata": {},
   "outputs": [
    {
     "data": {
      "text/html": [
       "<div>\n",
       "<style scoped>\n",
       "    .dataframe tbody tr th:only-of-type {\n",
       "        vertical-align: middle;\n",
       "    }\n",
       "\n",
       "    .dataframe tbody tr th {\n",
       "        vertical-align: top;\n",
       "    }\n",
       "\n",
       "    .dataframe thead th {\n",
       "        text-align: right;\n",
       "    }\n",
       "</style>\n",
       "<table border=\"1\" class=\"dataframe\">\n",
       "  <thead>\n",
       "    <tr style=\"text-align: right;\">\n",
       "      <th></th>\n",
       "      <th>pmid</th>\n",
       "      <th>journal_name</th>\n",
       "      <th>title</th>\n",
       "      <th>abstract</th>\n",
       "      <th>accepted_label</th>\n",
       "      <th>input_journal_title_abstract</th>\n",
       "      <th>input_title_abstract</th>\n",
       "    </tr>\n",
       "  </thead>\n",
       "  <tbody>\n",
       "    <tr>\n",
       "      <th>0</th>\n",
       "      <td>37550718</td>\n",
       "      <td>Trials</td>\n",
       "      <td>Can dexamethasone improve postoperative sleep ...</td>\n",
       "      <td>Perioperative sleep disorders (PSD) are an ind...</td>\n",
       "      <td>Human-RCT-drug-intervention</td>\n",
       "      <td>&lt;journal&gt;Trials&lt;/journal&gt;&lt;title&gt;Can dexamethas...</td>\n",
       "      <td>&lt;title&gt;Can dexamethasone improve postoperative...</td>\n",
       "    </tr>\n",
       "    <tr>\n",
       "      <th>1</th>\n",
       "      <td>2500373</td>\n",
       "      <td>Developmental medicine and child neurology</td>\n",
       "      <td>Effects of puberty on seizure frequency.</td>\n",
       "      <td>Seizure frequency was documented before, durin...</td>\n",
       "      <td>Remaining</td>\n",
       "      <td>&lt;journal&gt;Developmental medicine and child neur...</td>\n",
       "      <td>&lt;title&gt;Effects of puberty on seizure frequency...</td>\n",
       "    </tr>\n",
       "    <tr>\n",
       "      <th>2</th>\n",
       "      <td>36189588</td>\n",
       "      <td>Journal of Alzheimer's disease : JAD</td>\n",
       "      <td>Characterization of Mild Cognitive Impairment ...</td>\n",
       "      <td>Despite tremendous advancements in the field, ...</td>\n",
       "      <td>Remaining</td>\n",
       "      <td>&lt;journal&gt;Journal of Alzheimer's disease : JAD&lt;...</td>\n",
       "      <td>&lt;title&gt;Characterization of Mild Cognitive Impa...</td>\n",
       "    </tr>\n",
       "    <tr>\n",
       "      <th>3</th>\n",
       "      <td>36314672</td>\n",
       "      <td>Journal of vector ecology : journal of the Soc...</td>\n",
       "      <td>Effects of woody plant encroachment by eastern...</td>\n",
       "      <td>Woody plant encroachment into grasslands is oc...</td>\n",
       "      <td>Remaining</td>\n",
       "      <td>&lt;journal&gt;Journal of vector ecology : journal o...</td>\n",
       "      <td>&lt;title&gt;Effects of woody plant encroachment by ...</td>\n",
       "    </tr>\n",
       "    <tr>\n",
       "      <th>4</th>\n",
       "      <td>29172241</td>\n",
       "      <td>Depression and anxiety</td>\n",
       "      <td>The impact of resilience and subsequent stress...</td>\n",
       "      <td>There remains a dearth of research examining t...</td>\n",
       "      <td>Remaining</td>\n",
       "      <td>&lt;journal&gt;Depression and anxiety&lt;/journal&gt;&lt;titl...</td>\n",
       "      <td>&lt;title&gt;The impact of resilience and subsequent...</td>\n",
       "    </tr>\n",
       "  </tbody>\n",
       "</table>\n",
       "</div>"
      ],
      "text/plain": [
       "       pmid                                       journal_name  \\\n",
       "0  37550718                                             Trials   \n",
       "1   2500373         Developmental medicine and child neurology   \n",
       "2  36189588               Journal of Alzheimer's disease : JAD   \n",
       "3  36314672  Journal of vector ecology : journal of the Soc...   \n",
       "4  29172241                             Depression and anxiety   \n",
       "\n",
       "                                               title  \\\n",
       "0  Can dexamethasone improve postoperative sleep ...   \n",
       "1           Effects of puberty on seizure frequency.   \n",
       "2  Characterization of Mild Cognitive Impairment ...   \n",
       "3  Effects of woody plant encroachment by eastern...   \n",
       "4  The impact of resilience and subsequent stress...   \n",
       "\n",
       "                                            abstract  \\\n",
       "0  Perioperative sleep disorders (PSD) are an ind...   \n",
       "1  Seizure frequency was documented before, durin...   \n",
       "2  Despite tremendous advancements in the field, ...   \n",
       "3  Woody plant encroachment into grasslands is oc...   \n",
       "4  There remains a dearth of research examining t...   \n",
       "\n",
       "                accepted_label  \\\n",
       "0  Human-RCT-drug-intervention   \n",
       "1                    Remaining   \n",
       "2                    Remaining   \n",
       "3                    Remaining   \n",
       "4                    Remaining   \n",
       "\n",
       "                        input_journal_title_abstract  \\\n",
       "0  <journal>Trials</journal><title>Can dexamethas...   \n",
       "1  <journal>Developmental medicine and child neur...   \n",
       "2  <journal>Journal of Alzheimer's disease : JAD<...   \n",
       "3  <journal>Journal of vector ecology : journal o...   \n",
       "4  <journal>Depression and anxiety</journal><titl...   \n",
       "\n",
       "                                input_title_abstract  \n",
       "0  <title>Can dexamethasone improve postoperative...  \n",
       "1  <title>Effects of puberty on seizure frequency...  \n",
       "2  <title>Characterization of Mild Cognitive Impa...  \n",
       "3  <title>Effects of woody plant encroachment by ...  \n",
       "4  <title>The impact of resilience and subsequent...  "
      ]
     },
     "execution_count": 74,
     "metadata": {},
     "output_type": "execute_result"
    }
   ],
   "source": [
    "df.head(5)"
   ]
  },
  {
   "cell_type": "markdown",
   "id": "e0725592-c308-4ec2-a4d3-a8bc89d11878",
   "metadata": {},
   "source": [
    "### Load key for the OpenAI API "
   ]
  },
  {
   "cell_type": "code",
   "execution_count": 57,
   "id": "5410c439-9e4e-4878-90c0-e8ca1d25c2ef",
   "metadata": {},
   "outputs": [],
   "source": [
    "def load_pass(file_path, key_to_find):\n",
    "    with open(file_path, 'r') as file:\n",
    "        for line in file:\n",
    "            parts = line.strip().split(\"=\")\n",
    "            if len(parts) == 2 and parts[0] == key_to_find:\n",
    "                found_password = parts[1]\n",
    "                break\n",
    "    if found_password:\n",
    "        print(\"Found password.\")\n",
    "        return found_password\n",
    "    else:\n",
    "        print(\"Password not found for key:\", key_to_find)"
   ]
  },
  {
   "cell_type": "markdown",
   "id": "7a5933e6-3cb4-4e37-aa85-51ea968919f8",
   "metadata": {},
   "source": [
    "Note: You need to create a credentials.txt file with the following content:  \n",
    "OPENAI=sk-77QXXXXXXXXXXXXXXXXXXXXXXXXXXX  \n",
    "replace the value after the = sign with your API key.  \n",
    "Make sure the credentials.txt is added to .gitignore, you don't want to put your password on Git!"
   ]
  },
  {
   "cell_type": "code",
   "execution_count": 58,
   "id": "7156eb84-1813-4ae3-8dbc-d4084f66afa3",
   "metadata": {},
   "outputs": [
    {
     "name": "stdout",
     "output_type": "stream",
     "text": [
      "Found password.\n"
     ]
    }
   ],
   "source": [
    "openai.api_key = load_pass(\"../credentials.txt\", \"OPENAI\")\n"
   ]
  },
  {
   "cell_type": "code",
   "execution_count": 59,
   "id": "0c11b84b-e9c2-44df-9c6c-ef084bf261f4",
   "metadata": {},
   "outputs": [],
   "source": [
    "client = OpenAI(api_key=openai.api_key)"
   ]
  },
  {
   "cell_type": "markdown",
   "id": "3ad13134-f6eb-491e-b59b-6a705e820619",
   "metadata": {},
   "source": [
    "### Query GPT"
   ]
  },
  {
   "cell_type": "markdown",
   "id": "ebd02c0b-d4bc-4f23-aaf8-e125821e7c87",
   "metadata": {},
   "source": [
    "To change the task the model is solving, you need to change the text of the prompt and the content text of the system role.  \n",
    "To change the GPT model used, you need to change the text of the model name when initiating the openai API.  \n",
    "The function gets as input the input_raw_text, that will be text for information extraction or classification."
   ]
  },
  {
   "cell_type": "code",
   "execution_count": 75,
   "id": "3ea3f587-8b26-4b55-a423-cad38eb7bad1",
   "metadata": {},
   "outputs": [],
   "source": [
    "import time\n",
    "\n",
    "DEFAULT_TEMPERATURE = 0\n",
    "DEFAULT_MAX_TOKENS = 500\n",
    "DEFAULT_MODEL = \"gpt-3.5-turbo\"\n",
    "\n",
    "def query_gpt(input_raw_text, prompt_text, gpt_model=\"gpt-3.5-turbo\", temperature=0, max_retries=5, retry_delay=3):\n",
    "    # CHANGE gpt_model to the desired model name, see https://platform.openai.com/docs/models (gpt-3.5-turbo and gpt-4-turbo-preview)\n",
    "    \n",
    "    # Add a delay at the beginning of the function to avoid overloading the API if there are multiple calls\n",
    "    # time.sleep(10)  \n",
    "\n",
    "    system_msg = f\"\"\"\n",
    "    You are an expert assistant specialized in text classification of PubMed abstracts. \"\"\"\n",
    "\n",
    "    retries = 0\n",
    "    while retries < max_retries:\n",
    "        print(\"Trying to call OpenAI API...\")\n",
    "        try:\n",
    "            completion = client.chat.completions.create(\n",
    "                model=gpt_model,  \n",
    "                response_format={\"type\": \"json_object\"},\n",
    "                temperature=temperature,\n",
    "                #max_tokens=2000,\n",
    "                messages=[\n",
    "                    {\"role\": \"system\", \"content\": system_msg},\n",
    "                    {\"role\": \"user\", \"content\": prompt_text + input_raw_text}\n",
    "                ]\n",
    "            )\n",
    "            return completion.choices[0].message.content\n",
    "        except Exception as e:\n",
    "            # Handle API error, e.g., retry or log\n",
    "            print(f\"OpenAI API returned an error: {e}\")\n",
    "            time.sleep(retry_delay)  # Wait before retrying\n",
    "            retries += 1\n",
    "\n",
    "    raise RuntimeError(\"Max retries reached. Unable to complete the API call.\")\n"
   ]
  },
  {
   "cell_type": "code",
   "execution_count": 76,
   "id": "f0a2857a-0537-4f94-b755-f1b449d994df",
   "metadata": {},
   "outputs": [],
   "source": [
    "# Define a function to apply GPT queries with a progress bar\n",
    "def apply_gpt_with_progress(data_series, prompt_text, model=\"gpt-3.5-turbo\"):\n",
    "    results = []\n",
    "    total_items = len(data_series)\n",
    "    # Create a tqdm progress bar\n",
    "    with tqdm(total=total_items, desc=f\"Processing dataset\") as pbar:\n",
    "        for text in data_series:\n",
    "            result = query_gpt(text, prompt_text, model)\n",
    "            results.append(result)\n",
    "            pbar.update(1)  # Update the progress bar\n",
    "\n",
    "    return results"
   ]
  },
  {
   "cell_type": "markdown",
   "id": "22120aed-0d00-4677-b0d8-0838e26bc2a2",
   "metadata": {},
   "source": [
    "# Read prompts from file and query GPT"
   ]
  },
  {
   "cell_type": "code",
   "execution_count": 77,
   "id": "b15b1a3e-4a26-4939-b804-86b3a6e54197",
   "metadata": {},
   "outputs": [],
   "source": [
    "json_file_path = \"./prompt_strategies.json\"\n",
    "# Load the JSON file\n",
    "with open(json_file_path, 'r') as file:\n",
    "    prompts_data = json.load(file)"
   ]
  },
  {
   "cell_type": "code",
   "execution_count": 78,
   "id": "b4993ff4-c59f-4150-a977-e2990a111cf5",
   "metadata": {},
   "outputs": [
    {
     "data": {
      "text/html": [
       "<div>\n",
       "<style scoped>\n",
       "    .dataframe tbody tr th:only-of-type {\n",
       "        vertical-align: middle;\n",
       "    }\n",
       "\n",
       "    .dataframe tbody tr th {\n",
       "        vertical-align: top;\n",
       "    }\n",
       "\n",
       "    .dataframe thead th {\n",
       "        text-align: right;\n",
       "    }\n",
       "</style>\n",
       "<table border=\"1\" class=\"dataframe\">\n",
       "  <thead>\n",
       "    <tr style=\"text-align: right;\">\n",
       "      <th></th>\n",
       "      <th>pmid</th>\n",
       "      <th>journal_name</th>\n",
       "      <th>title</th>\n",
       "      <th>abstract</th>\n",
       "      <th>accepted_label</th>\n",
       "      <th>input_journal_title_abstract</th>\n",
       "      <th>input_title_abstract</th>\n",
       "    </tr>\n",
       "  </thead>\n",
       "  <tbody>\n",
       "    <tr>\n",
       "      <th>304</th>\n",
       "      <td>12905582</td>\n",
       "      <td>Fa yi xue za zhi</td>\n",
       "      <td>[The research of the heroin and its metabolite...</td>\n",
       "      <td>Heroin can be metabolized easily in body and t...</td>\n",
       "      <td>Remaining</td>\n",
       "      <td>&lt;journal&gt;Fa yi xue za zhi&lt;/journal&gt;&lt;title&gt;[The...</td>\n",
       "      <td>&lt;title&gt;[The research of the heroin and its met...</td>\n",
       "    </tr>\n",
       "    <tr>\n",
       "      <th>340</th>\n",
       "      <td>28645717</td>\n",
       "      <td>Vaccine</td>\n",
       "      <td>Surveillance of pneumococcal colonization and ...</td>\n",
       "      <td>Following the introduction of pneumococcal con...</td>\n",
       "      <td>Human-non-RCT-drug-intervention</td>\n",
       "      <td>&lt;journal&gt;Vaccine&lt;/journal&gt;&lt;title&gt;Surveillance ...</td>\n",
       "      <td>&lt;title&gt;Surveillance of pneumococcal colonizati...</td>\n",
       "    </tr>\n",
       "    <tr>\n",
       "      <th>47</th>\n",
       "      <td>11482695</td>\n",
       "      <td>Acta neurochirurgica</td>\n",
       "      <td>Carotid endarterectomy: a new technique replac...</td>\n",
       "      <td>Carotid endarterectomy has been reported to in...</td>\n",
       "      <td>Human-non-RCT-non-drug-intervention</td>\n",
       "      <td>&lt;journal&gt;Acta neurochirurgica&lt;/journal&gt;&lt;title&gt;...</td>\n",
       "      <td>&lt;title&gt;Carotid endarterectomy: a new technique...</td>\n",
       "    </tr>\n",
       "    <tr>\n",
       "      <th>67</th>\n",
       "      <td>15065953</td>\n",
       "      <td>Journal of consulting and clinical psychology</td>\n",
       "      <td>Traditional versus integrative behavioral coup...</td>\n",
       "      <td>A randomized clinical trial compared the effec...</td>\n",
       "      <td>Human-RCT-non-drug-intervention</td>\n",
       "      <td>&lt;journal&gt;Journal of consulting and clinical ps...</td>\n",
       "      <td>&lt;title&gt;Traditional versus integrative behavior...</td>\n",
       "    </tr>\n",
       "    <tr>\n",
       "      <th>479</th>\n",
       "      <td>9578881</td>\n",
       "      <td>The Journal of laryngology and otology</td>\n",
       "      <td>Vocal fold abductor paralysis as a solitary an...</td>\n",
       "      <td>A patient is presented who had bilateral abduc...</td>\n",
       "      <td>Remaining</td>\n",
       "      <td>&lt;journal&gt;The Journal of laryngology and otolog...</td>\n",
       "      <td>&lt;title&gt;Vocal fold abductor paralysis as a soli...</td>\n",
       "    </tr>\n",
       "  </tbody>\n",
       "</table>\n",
       "</div>"
      ],
      "text/plain": [
       "         pmid                                   journal_name  \\\n",
       "304  12905582                               Fa yi xue za zhi   \n",
       "340  28645717                                        Vaccine   \n",
       "47   11482695                           Acta neurochirurgica   \n",
       "67   15065953  Journal of consulting and clinical psychology   \n",
       "479   9578881         The Journal of laryngology and otology   \n",
       "\n",
       "                                                 title  \\\n",
       "304  [The research of the heroin and its metabolite...   \n",
       "340  Surveillance of pneumococcal colonization and ...   \n",
       "47   Carotid endarterectomy: a new technique replac...   \n",
       "67   Traditional versus integrative behavioral coup...   \n",
       "479  Vocal fold abductor paralysis as a solitary an...   \n",
       "\n",
       "                                              abstract  \\\n",
       "304  Heroin can be metabolized easily in body and t...   \n",
       "340  Following the introduction of pneumococcal con...   \n",
       "47   Carotid endarterectomy has been reported to in...   \n",
       "67   A randomized clinical trial compared the effec...   \n",
       "479  A patient is presented who had bilateral abduc...   \n",
       "\n",
       "                          accepted_label  \\\n",
       "304                            Remaining   \n",
       "340      Human-non-RCT-drug-intervention   \n",
       "47   Human-non-RCT-non-drug-intervention   \n",
       "67       Human-RCT-non-drug-intervention   \n",
       "479                            Remaining   \n",
       "\n",
       "                          input_journal_title_abstract  \\\n",
       "304  <journal>Fa yi xue za zhi</journal><title>[The...   \n",
       "340  <journal>Vaccine</journal><title>Surveillance ...   \n",
       "47   <journal>Acta neurochirurgica</journal><title>...   \n",
       "67   <journal>Journal of consulting and clinical ps...   \n",
       "479  <journal>The Journal of laryngology and otolog...   \n",
       "\n",
       "                                  input_title_abstract  \n",
       "304  <title>[The research of the heroin and its met...  \n",
       "340  <title>Surveillance of pneumococcal colonizati...  \n",
       "47   <title>Carotid endarterectomy: a new technique...  \n",
       "67   <title>Traditional versus integrative behavior...  \n",
       "479  <title>Vocal fold abductor paralysis as a soli...  "
      ]
     },
     "execution_count": 78,
     "metadata": {},
     "output_type": "execute_result"
    }
   ],
   "source": [
    "sampled_df = df.sample(n=10, random_state=1)\n",
    "sampled_df.head()"
   ]
  },
  {
   "cell_type": "markdown",
   "id": "2f4b2967-0b34-4f06-8a2b-e7b6631eed8c",
   "metadata": {},
   "source": [
    "## Run different prompts over the data"
   ]
  },
  {
   "cell_type": "code",
   "execution_count": 81,
   "id": "13f33c08-807c-40f2-808c-f2ec1c25e772",
   "metadata": {},
   "outputs": [
    {
     "name": "stderr",
     "output_type": "stream",
     "text": [
      "Processing dataset:   0%|                                                                                                                                                                    | 0/10 [00:00<?, ?it/s]"
     ]
    },
    {
     "name": "stdout",
     "output_type": "stream",
     "text": [
      "Trying to call OpenAI API...\n"
     ]
    },
    {
     "name": "stderr",
     "output_type": "stream",
     "text": [
      "Processing dataset:  10%|███████████████▌                                                                                                                                            | 1/10 [00:01<00:11,  1.27s/it]"
     ]
    },
    {
     "name": "stdout",
     "output_type": "stream",
     "text": [
      "Trying to call OpenAI API...\n"
     ]
    },
    {
     "name": "stderr",
     "output_type": "stream",
     "text": [
      "Processing dataset:  20%|███████████████████████████████▏                                                                                                                            | 2/10 [00:01<00:07,  1.07it/s]"
     ]
    },
    {
     "name": "stdout",
     "output_type": "stream",
     "text": [
      "Trying to call OpenAI API...\n"
     ]
    },
    {
     "name": "stderr",
     "output_type": "stream",
     "text": [
      "Processing dataset:  30%|██████████████████████████████████████████████▊                                                                                                             | 3/10 [00:02<00:06,  1.03it/s]"
     ]
    },
    {
     "name": "stdout",
     "output_type": "stream",
     "text": [
      "Trying to call OpenAI API...\n"
     ]
    },
    {
     "name": "stderr",
     "output_type": "stream",
     "text": [
      "Processing dataset:  40%|██████████████████████████████████████████████████████████████▍                                                                                             | 4/10 [00:04<00:05,  1.01it/s]"
     ]
    },
    {
     "name": "stdout",
     "output_type": "stream",
     "text": [
      "Trying to call OpenAI API...\n"
     ]
    },
    {
     "name": "stderr",
     "output_type": "stream",
     "text": [
      "Processing dataset:  50%|██████████████████████████████████████████████████████████████████████████████                                                                              | 5/10 [00:04<00:04,  1.07it/s]"
     ]
    },
    {
     "name": "stdout",
     "output_type": "stream",
     "text": [
      "Trying to call OpenAI API...\n"
     ]
    },
    {
     "name": "stderr",
     "output_type": "stream",
     "text": [
      "Processing dataset:  60%|█████████████████████████████████████████████████████████████████████████████████████████████▌                                                              | 6/10 [00:05<00:03,  1.16it/s]"
     ]
    },
    {
     "name": "stdout",
     "output_type": "stream",
     "text": [
      "Trying to call OpenAI API...\n"
     ]
    },
    {
     "name": "stderr",
     "output_type": "stream",
     "text": [
      "Processing dataset:  70%|█████████████████████████████████████████████████████████████████████████████████████████████████████████████▏                                              | 7/10 [00:06<00:02,  1.29it/s]"
     ]
    },
    {
     "name": "stdout",
     "output_type": "stream",
     "text": [
      "Trying to call OpenAI API...\n"
     ]
    },
    {
     "name": "stderr",
     "output_type": "stream",
     "text": [
      "Processing dataset:  80%|████████████████████████████████████████████████████████████████████████████████████████████████████████████████████████████▊                               | 8/10 [00:06<00:01,  1.26it/s]"
     ]
    },
    {
     "name": "stdout",
     "output_type": "stream",
     "text": [
      "Trying to call OpenAI API...\n"
     ]
    },
    {
     "name": "stderr",
     "output_type": "stream",
     "text": [
      "Processing dataset:  90%|████████████████████████████████████████████████████████████████████████████████████████████████████████████████████████████████████████████▍               | 9/10 [00:07<00:00,  1.30it/s]"
     ]
    },
    {
     "name": "stdout",
     "output_type": "stream",
     "text": [
      "Trying to call OpenAI API...\n"
     ]
    },
    {
     "name": "stderr",
     "output_type": "stream",
     "text": [
      "Processing dataset: 100%|███████████████████████████████████████████████████████████████████████████████████████████████████████████████████████████████████████████████████████████| 10/10 [00:08<00:00,  1.17it/s]\n",
      "Processing dataset:   0%|                                                                                                                                                                    | 0/10 [00:00<?, ?it/s]"
     ]
    },
    {
     "name": "stdout",
     "output_type": "stream",
     "text": [
      "Trying to call OpenAI API...\n"
     ]
    },
    {
     "name": "stderr",
     "output_type": "stream",
     "text": [
      "Processing dataset:  10%|███████████████▌                                                                                                                                            | 1/10 [00:01<00:10,  1.12s/it]"
     ]
    },
    {
     "name": "stdout",
     "output_type": "stream",
     "text": [
      "Trying to call OpenAI API...\n"
     ]
    },
    {
     "name": "stderr",
     "output_type": "stream",
     "text": [
      "Processing dataset:  20%|███████████████████████████████▏                                                                                                                            | 2/10 [00:01<00:07,  1.10it/s]"
     ]
    },
    {
     "name": "stdout",
     "output_type": "stream",
     "text": [
      "Trying to call OpenAI API...\n"
     ]
    },
    {
     "name": "stderr",
     "output_type": "stream",
     "text": [
      "Processing dataset:  30%|██████████████████████████████████████████████▊                                                                                                             | 3/10 [00:02<00:06,  1.11it/s]"
     ]
    },
    {
     "name": "stdout",
     "output_type": "stream",
     "text": [
      "Trying to call OpenAI API...\n"
     ]
    },
    {
     "name": "stderr",
     "output_type": "stream",
     "text": [
      "Processing dataset:  40%|██████████████████████████████████████████████████████████████▍                                                                                             | 4/10 [00:03<00:05,  1.17it/s]"
     ]
    },
    {
     "name": "stdout",
     "output_type": "stream",
     "text": [
      "Trying to call OpenAI API...\n"
     ]
    },
    {
     "name": "stderr",
     "output_type": "stream",
     "text": [
      "Processing dataset:  50%|██████████████████████████████████████████████████████████████████████████████                                                                              | 5/10 [00:04<00:04,  1.04it/s]"
     ]
    },
    {
     "name": "stdout",
     "output_type": "stream",
     "text": [
      "Trying to call OpenAI API...\n"
     ]
    },
    {
     "name": "stderr",
     "output_type": "stream",
     "text": [
      "Processing dataset:  60%|█████████████████████████████████████████████████████████████████████████████████████████████▌                                                              | 6/10 [00:05<00:04,  1.02s/it]"
     ]
    },
    {
     "name": "stdout",
     "output_type": "stream",
     "text": [
      "Trying to call OpenAI API...\n"
     ]
    },
    {
     "name": "stderr",
     "output_type": "stream",
     "text": [
      "Processing dataset:  70%|█████████████████████████████████████████████████████████████████████████████████████████████████████████████▏                                              | 7/10 [00:06<00:02,  1.05it/s]"
     ]
    },
    {
     "name": "stdout",
     "output_type": "stream",
     "text": [
      "Trying to call OpenAI API...\n"
     ]
    },
    {
     "name": "stderr",
     "output_type": "stream",
     "text": [
      "Processing dataset:  80%|████████████████████████████████████████████████████████████████████████████████████████████████████████████████████████████▊                               | 8/10 [00:07<00:01,  1.11it/s]"
     ]
    },
    {
     "name": "stdout",
     "output_type": "stream",
     "text": [
      "Trying to call OpenAI API...\n"
     ]
    },
    {
     "name": "stderr",
     "output_type": "stream",
     "text": [
      "Processing dataset:  90%|████████████████████████████████████████████████████████████████████████████████████████████████████████████████████████████████████████████▍               | 9/10 [00:08<00:00,  1.02it/s]"
     ]
    },
    {
     "name": "stdout",
     "output_type": "stream",
     "text": [
      "Trying to call OpenAI API...\n"
     ]
    },
    {
     "name": "stderr",
     "output_type": "stream",
     "text": [
      "Processing dataset: 100%|███████████████████████████████████████████████████████████████████████████████████████████████████████████████████████████████████████████████████████████| 10/10 [00:09<00:00,  1.09it/s]"
     ]
    },
    {
     "name": "stdout",
     "output_type": "stream",
     "text": [
      "Skipping prompt P3\n",
      "Skipping prompt P4\n",
      "Skipping prompt P5\n"
     ]
    },
    {
     "name": "stderr",
     "output_type": "stream",
     "text": [
      "\n"
     ]
    }
   ],
   "source": [
    "# Add the IDs of Prompts that you want to test\n",
    "prompt_ids_to_test = [\"P1\", \"P2\"] #, \"P2\", \"P3\", \"P4\"\n",
    "model = \"gpt-3.5-turbo\"\n",
    "\n",
    "for prompt in prompts_data[\"prompts\"]:\n",
    "    prompt_id = prompt[\"id\"]\n",
    "    prompt_text = prompt[\"text\"]\n",
    "\n",
    "    if prompt_id in prompt_ids_to_test:\n",
    "        # Apply GPT predictions\n",
    "        sampled_df[f'gpt_predictions_{prompt_id}_raw'] = apply_gpt_with_progress(sampled_df['input_journal_title_abstract'], prompt_text, model)\n",
    "        ## the below includes error handling in case the json formatting did not work as expected\n",
    "        sampled_df[f'gpt_predictions_{prompt_id}'] = sampled_df[f'gpt_predictions_{prompt_id}_raw'].apply(\n",
    "            lambda x: json.loads(x)['gpt_label'] if isinstance(x, str) and 'gpt_label' in json.loads(x) else x\n",
    "        )\n",
    "        sampled_df.to_csv(f\"predictions/{model}_outputs_{'_'.join(prompt_ids_to_test)}.csv\") # saving after each prompt strategy has been run, in order not to loose information in case a later strategy fails\n",
    "    else:\n",
    "        print(f\"Skipping prompt {prompt_id}\")\n",
    "        "
   ]
  },
  {
   "cell_type": "code",
   "execution_count": 82,
   "id": "86a3d121-24d6-418c-abbd-406cbb9c3ce9",
   "metadata": {},
   "outputs": [
    {
     "data": {
      "text/html": [
       "<div>\n",
       "<style scoped>\n",
       "    .dataframe tbody tr th:only-of-type {\n",
       "        vertical-align: middle;\n",
       "    }\n",
       "\n",
       "    .dataframe tbody tr th {\n",
       "        vertical-align: top;\n",
       "    }\n",
       "\n",
       "    .dataframe thead th {\n",
       "        text-align: right;\n",
       "    }\n",
       "</style>\n",
       "<table border=\"1\" class=\"dataframe\">\n",
       "  <thead>\n",
       "    <tr style=\"text-align: right;\">\n",
       "      <th></th>\n",
       "      <th>pmid</th>\n",
       "      <th>journal_name</th>\n",
       "      <th>title</th>\n",
       "      <th>abstract</th>\n",
       "      <th>accepted_label</th>\n",
       "      <th>input_journal_title_abstract</th>\n",
       "      <th>input_title_abstract</th>\n",
       "      <th>gpt_predictions_P1</th>\n",
       "      <th>gpt_predictions_P2</th>\n",
       "      <th>gpt_predictions_P1_raw</th>\n",
       "      <th>gpt_predictions_P2_raw</th>\n",
       "    </tr>\n",
       "  </thead>\n",
       "  <tbody>\n",
       "    <tr>\n",
       "      <th>304</th>\n",
       "      <td>12905582</td>\n",
       "      <td>Fa yi xue za zhi</td>\n",
       "      <td>[The research of the heroin and its metabolite...</td>\n",
       "      <td>Heroin can be metabolized easily in body and t...</td>\n",
       "      <td>Remaining</td>\n",
       "      <td>&lt;journal&gt;Fa yi xue za zhi&lt;/journal&gt;&lt;title&gt;[The...</td>\n",
       "      <td>&lt;title&gt;[The research of the heroin and its met...</td>\n",
       "      <td>Human-non-RCT-non-drug-intervention</td>\n",
       "      <td>Human-case-report</td>\n",
       "      <td>{\\n    \"gpt_label\": \"Human-non-RCT-non-drug-in...</td>\n",
       "      <td>{\\n    \"gpt_label\": \"Human-case-report\"\\n}</td>\n",
       "    </tr>\n",
       "    <tr>\n",
       "      <th>340</th>\n",
       "      <td>28645717</td>\n",
       "      <td>Vaccine</td>\n",
       "      <td>Surveillance of pneumococcal colonization and ...</td>\n",
       "      <td>Following the introduction of pneumococcal con...</td>\n",
       "      <td>Human-non-RCT-drug-intervention</td>\n",
       "      <td>&lt;journal&gt;Vaccine&lt;/journal&gt;&lt;title&gt;Surveillance ...</td>\n",
       "      <td>&lt;title&gt;Surveillance of pneumococcal colonizati...</td>\n",
       "      <td>Human-systematic-review</td>\n",
       "      <td>Human-systematic-review</td>\n",
       "      <td>{\\n    \"gpt_label\": \"Human-systematic-review\"\\n}</td>\n",
       "      <td>{\\n    \"gpt_label\": \"Human-systematic-review\"\\n}</td>\n",
       "    </tr>\n",
       "    <tr>\n",
       "      <th>47</th>\n",
       "      <td>11482695</td>\n",
       "      <td>Acta neurochirurgica</td>\n",
       "      <td>Carotid endarterectomy: a new technique replac...</td>\n",
       "      <td>Carotid endarterectomy has been reported to in...</td>\n",
       "      <td>Human-non-RCT-non-drug-intervention</td>\n",
       "      <td>&lt;journal&gt;Acta neurochirurgica&lt;/journal&gt;&lt;title&gt;...</td>\n",
       "      <td>&lt;title&gt;Carotid endarterectomy: a new technique...</td>\n",
       "      <td>Human-case-report</td>\n",
       "      <td>Human-case-report</td>\n",
       "      <td>{\\n    \"gpt_label\": \"Human-case-report\"\\n}</td>\n",
       "      <td>{\\n    \"gpt_label\": \"Human-case-report\"\\n}</td>\n",
       "    </tr>\n",
       "    <tr>\n",
       "      <th>67</th>\n",
       "      <td>15065953</td>\n",
       "      <td>Journal of consulting and clinical psychology</td>\n",
       "      <td>Traditional versus integrative behavioral coup...</td>\n",
       "      <td>A randomized clinical trial compared the effec...</td>\n",
       "      <td>Human-RCT-non-drug-intervention</td>\n",
       "      <td>&lt;journal&gt;Journal of consulting and clinical ps...</td>\n",
       "      <td>&lt;title&gt;Traditional versus integrative behavior...</td>\n",
       "      <td>Human-RCT-non-drug-intervention</td>\n",
       "      <td>Human-RCT-non-drug-intervention</td>\n",
       "      <td>{\\n    \"gpt_label\": \"Human-RCT-non-drug-interv...</td>\n",
       "      <td>{\\n    \"gpt_label\": \"Human-RCT-non-drug-interv...</td>\n",
       "    </tr>\n",
       "    <tr>\n",
       "      <th>479</th>\n",
       "      <td>9578881</td>\n",
       "      <td>The Journal of laryngology and otology</td>\n",
       "      <td>Vocal fold abductor paralysis as a solitary an...</td>\n",
       "      <td>A patient is presented who had bilateral abduc...</td>\n",
       "      <td>Remaining</td>\n",
       "      <td>&lt;journal&gt;The Journal of laryngology and otolog...</td>\n",
       "      <td>&lt;title&gt;Vocal fold abductor paralysis as a soli...</td>\n",
       "      <td>Human-case-report</td>\n",
       "      <td>Human-case-report</td>\n",
       "      <td>{\\n    \"gpt_label\": \"Human-case-report\"\\n}</td>\n",
       "      <td>{\\n    \"gpt_label\": \"Human-case-report\"\\n}</td>\n",
       "    </tr>\n",
       "  </tbody>\n",
       "</table>\n",
       "</div>"
      ],
      "text/plain": [
       "         pmid                                   journal_name  \\\n",
       "304  12905582                               Fa yi xue za zhi   \n",
       "340  28645717                                        Vaccine   \n",
       "47   11482695                           Acta neurochirurgica   \n",
       "67   15065953  Journal of consulting and clinical psychology   \n",
       "479   9578881         The Journal of laryngology and otology   \n",
       "\n",
       "                                                 title  \\\n",
       "304  [The research of the heroin and its metabolite...   \n",
       "340  Surveillance of pneumococcal colonization and ...   \n",
       "47   Carotid endarterectomy: a new technique replac...   \n",
       "67   Traditional versus integrative behavioral coup...   \n",
       "479  Vocal fold abductor paralysis as a solitary an...   \n",
       "\n",
       "                                              abstract  \\\n",
       "304  Heroin can be metabolized easily in body and t...   \n",
       "340  Following the introduction of pneumococcal con...   \n",
       "47   Carotid endarterectomy has been reported to in...   \n",
       "67   A randomized clinical trial compared the effec...   \n",
       "479  A patient is presented who had bilateral abduc...   \n",
       "\n",
       "                          accepted_label  \\\n",
       "304                            Remaining   \n",
       "340      Human-non-RCT-drug-intervention   \n",
       "47   Human-non-RCT-non-drug-intervention   \n",
       "67       Human-RCT-non-drug-intervention   \n",
       "479                            Remaining   \n",
       "\n",
       "                          input_journal_title_abstract  \\\n",
       "304  <journal>Fa yi xue za zhi</journal><title>[The...   \n",
       "340  <journal>Vaccine</journal><title>Surveillance ...   \n",
       "47   <journal>Acta neurochirurgica</journal><title>...   \n",
       "67   <journal>Journal of consulting and clinical ps...   \n",
       "479  <journal>The Journal of laryngology and otolog...   \n",
       "\n",
       "                                  input_title_abstract  \\\n",
       "304  <title>[The research of the heroin and its met...   \n",
       "340  <title>Surveillance of pneumococcal colonizati...   \n",
       "47   <title>Carotid endarterectomy: a new technique...   \n",
       "67   <title>Traditional versus integrative behavior...   \n",
       "479  <title>Vocal fold abductor paralysis as a soli...   \n",
       "\n",
       "                      gpt_predictions_P1               gpt_predictions_P2  \\\n",
       "304  Human-non-RCT-non-drug-intervention                Human-case-report   \n",
       "340              Human-systematic-review          Human-systematic-review   \n",
       "47                     Human-case-report                Human-case-report   \n",
       "67       Human-RCT-non-drug-intervention  Human-RCT-non-drug-intervention   \n",
       "479                    Human-case-report                Human-case-report   \n",
       "\n",
       "                                gpt_predictions_P1_raw  \\\n",
       "304  {\\n    \"gpt_label\": \"Human-non-RCT-non-drug-in...   \n",
       "340   {\\n    \"gpt_label\": \"Human-systematic-review\"\\n}   \n",
       "47          {\\n    \"gpt_label\": \"Human-case-report\"\\n}   \n",
       "67   {\\n    \"gpt_label\": \"Human-RCT-non-drug-interv...   \n",
       "479         {\\n    \"gpt_label\": \"Human-case-report\"\\n}   \n",
       "\n",
       "                                gpt_predictions_P2_raw  \n",
       "304         {\\n    \"gpt_label\": \"Human-case-report\"\\n}  \n",
       "340   {\\n    \"gpt_label\": \"Human-systematic-review\"\\n}  \n",
       "47          {\\n    \"gpt_label\": \"Human-case-report\"\\n}  \n",
       "67   {\\n    \"gpt_label\": \"Human-RCT-non-drug-interv...  \n",
       "479         {\\n    \"gpt_label\": \"Human-case-report\"\\n}  "
      ]
     },
     "execution_count": 82,
     "metadata": {},
     "output_type": "execute_result"
    }
   ],
   "source": [
    "sampled_df.head()"
   ]
  },
  {
   "cell_type": "markdown",
   "id": "fbde6b31-1d28-4a33-afef-729531690a77",
   "metadata": {},
   "source": [
    "## Evaluate each prompt"
   ]
  },
  {
   "cell_type": "code",
   "execution_count": 83,
   "id": "6ba1db0d-828b-41d2-9e04-ef987a53d36a",
   "metadata": {},
   "outputs": [],
   "source": [
    "labels = [\"Human-systematic-review\", \"Human-RCT-drug-intervention\", \"Human-RCT-non-drug-intervention\", \"Human-RCT-non-intervention\", \"Human-case-report\", \"Human-non-RCT-drug-intervention\", \"Human-non-RCT-non-drug-intervention\", \"Animal-systematic-review\", \"Animal-drug-intervention\", \"Animal-non-drug-intervention\", \"Animal-other\", \"Non-systematic-review\", \"In-vitro-study\", \"Clinical-study-protocol\", \"Remaining\"]\n",
    "\n",
    "label_to_numerical = {label: i for i, label in enumerate(labels)}\n",
    "label_to_numerical[\"label missing\"] = -1"
   ]
  },
  {
   "cell_type": "code",
   "execution_count": 84,
   "id": "c998614a-10db-42cd-95f3-89973dcd9671",
   "metadata": {},
   "outputs": [
    {
     "name": "stdout",
     "output_type": "stream",
     "text": [
      "Evaluating  P1\n",
      "Evaluating  P2\n"
     ]
    },
    {
     "name": "stderr",
     "output_type": "stream",
     "text": [
      "/opt/anaconda3/lib/python3.11/site-packages/sklearn/metrics/_classification.py:2184: UserWarning: y_pred contains classes not in y_true\n",
      "  warnings.warn(\"y_pred contains classes not in y_true\")\n",
      "/opt/anaconda3/lib/python3.11/site-packages/sklearn/metrics/_classification.py:2184: UserWarning: y_pred contains classes not in y_true\n",
      "  warnings.warn(\"y_pred contains classes not in y_true\")\n"
     ]
    }
   ],
   "source": [
    "def map_label_to_numerical(label):\n",
    "    # Check if label is a dictionary\n",
    "    if isinstance(label, dict):\n",
    "        # Extract the label with the highest score/probability\n",
    "        highest_label = max(label, key=label.get)\n",
    "        return label_to_numerical.get(highest_label, -1)\n",
    "    else:\n",
    "        # Directly map string labels to numerical IDs\n",
    "        return label_to_numerical.get(label, -1)\n",
    "        \n",
    "# Convert accepted labels to numerical\n",
    "sampled_df['accepted_label_numerical'] = sampled_df['accepted_label'].apply(lambda x: label_to_numerical.get(x, -1))\n",
    "\n",
    "# Initialize a list to hold DataFrame for each report and summary statistics\n",
    "report_dfs = []\n",
    "summary_stats = []\n",
    "\n",
    "# Iterate over each GPT prediction column\n",
    "for prompt_id in prompt_ids_to_test:\n",
    "    print(\"Evaluating \", prompt_id)\n",
    "    prediction_col = f'gpt_predictions_{prompt_id}'\n",
    "    \n",
    "    # Map GPT predictions to numerical values\n",
    "    sampled_df[f'{prediction_col}_numerical'] = sampled_df[prediction_col].apply(map_label_to_numerical)\n",
    "    \n",
    "    # Extract arrays for evaluation\n",
    "    y_true = sampled_df['accepted_label_numerical'].values\n",
    "    y_pred = sampled_df[f'{prediction_col}_numerical'].values\n",
    "    \n",
    "    # Calculate metrics\n",
    "    accuracy = accuracy_score(y_true, y_pred)\n",
    "    accuracy_balanced = balanced_accuracy_score(y_true, y_pred)\n",
    "    report = classification_report(y_true, y_pred, output_dict=True, zero_division=0, labels=range(len(labels)), target_names=labels)\n",
    "    \n",
    "    # Create DataFrame from report\n",
    "    report_df = pd.DataFrame(report).transpose()\n",
    "    report_df['Prompt ID'] = prompt_id  # Add column to indicate the prompt ID\n",
    "    report_dfs.append(report_df)\n",
    "    \n",
    "    # Extract summary statistics (average precision, recall, F1)\n",
    "    summary = report_df.loc['weighted avg', ['precision', 'recall', 'f1-score']].to_dict()\n",
    "    summary['Prompt ID'] = prompt_id\n",
    "    summary_stats.append(summary)\n",
    "\n",
    "# Combine all report DataFrames\n",
    "all_reports_df = pd.concat(report_dfs)\n",
    "\n",
    "# Create a summary table for average precision, recall, and F1-score\n",
    "summary_df = pd.DataFrame(summary_stats)"
   ]
  },
  {
   "cell_type": "code",
   "execution_count": 85,
   "id": "882459cd-4aaf-432c-b6b4-63024f1e4d6c",
   "metadata": {},
   "outputs": [
    {
     "data": {
      "text/html": [
       "<div>\n",
       "<style scoped>\n",
       "    .dataframe tbody tr th:only-of-type {\n",
       "        vertical-align: middle;\n",
       "    }\n",
       "\n",
       "    .dataframe tbody tr th {\n",
       "        vertical-align: top;\n",
       "    }\n",
       "\n",
       "    .dataframe thead th {\n",
       "        text-align: right;\n",
       "    }\n",
       "</style>\n",
       "<table border=\"1\" class=\"dataframe\">\n",
       "  <thead>\n",
       "    <tr style=\"text-align: right;\">\n",
       "      <th></th>\n",
       "      <th>precision</th>\n",
       "      <th>recall</th>\n",
       "      <th>f1-score</th>\n",
       "      <th>Prompt ID</th>\n",
       "    </tr>\n",
       "  </thead>\n",
       "  <tbody>\n",
       "    <tr>\n",
       "      <th>0</th>\n",
       "      <td>0.1</td>\n",
       "      <td>0.1</td>\n",
       "      <td>0.1</td>\n",
       "      <td>P1</td>\n",
       "    </tr>\n",
       "    <tr>\n",
       "      <th>1</th>\n",
       "      <td>0.2</td>\n",
       "      <td>0.2</td>\n",
       "      <td>0.2</td>\n",
       "      <td>P2</td>\n",
       "    </tr>\n",
       "  </tbody>\n",
       "</table>\n",
       "</div>"
      ],
      "text/plain": [
       "   precision  recall  f1-score Prompt ID\n",
       "0        0.1     0.1       0.1        P1\n",
       "1        0.2     0.2       0.2        P2"
      ]
     },
     "execution_count": 85,
     "metadata": {},
     "output_type": "execute_result"
    }
   ],
   "source": [
    "summary_df"
   ]
  },
  {
   "cell_type": "code",
   "execution_count": 86,
   "id": "9a7e2026-67a0-42cd-a994-561f39d07154",
   "metadata": {},
   "outputs": [],
   "source": [
    "all_reports_df.to_csv(f\"evaluations/{model}_per_class_{'_'.join(prompt_ids_to_test)}.csv\") # saving after each prompt strategy has been run, in order not to loose information in case a later strategy fails\n",
    "summary_df.to_csv(f\"evaluations/{model}_summary_{'_'.join(prompt_ids_to_test)}.csv\") # saving after each prompt strategy has been run, in order not to loose information in case a later strategy fails\n"
   ]
  },
  {
   "cell_type": "code",
   "execution_count": 87,
   "id": "b0d3726f-e071-4aa5-b6d6-bd47fbc6c732",
   "metadata": {},
   "outputs": [
    {
     "data": {
      "text/html": [
       "<div>\n",
       "<style scoped>\n",
       "    .dataframe tbody tr th:only-of-type {\n",
       "        vertical-align: middle;\n",
       "    }\n",
       "\n",
       "    .dataframe tbody tr th {\n",
       "        vertical-align: top;\n",
       "    }\n",
       "\n",
       "    .dataframe thead th {\n",
       "        text-align: right;\n",
       "    }\n",
       "</style>\n",
       "<table border=\"1\" class=\"dataframe\">\n",
       "  <thead>\n",
       "    <tr style=\"text-align: right;\">\n",
       "      <th></th>\n",
       "      <th>precision</th>\n",
       "      <th>recall</th>\n",
       "      <th>f1-score</th>\n",
       "      <th>support</th>\n",
       "      <th>Prompt ID</th>\n",
       "    </tr>\n",
       "  </thead>\n",
       "  <tbody>\n",
       "    <tr>\n",
       "      <th>Human-systematic-review</th>\n",
       "      <td>0.000000</td>\n",
       "      <td>0.000000</td>\n",
       "      <td>0.000000</td>\n",
       "      <td>0.0</td>\n",
       "      <td>P1</td>\n",
       "    </tr>\n",
       "    <tr>\n",
       "      <th>Human-RCT-drug-intervention</th>\n",
       "      <td>0.000000</td>\n",
       "      <td>0.000000</td>\n",
       "      <td>0.000000</td>\n",
       "      <td>0.0</td>\n",
       "      <td>P1</td>\n",
       "    </tr>\n",
       "    <tr>\n",
       "      <th>Human-RCT-non-drug-intervention</th>\n",
       "      <td>1.000000</td>\n",
       "      <td>1.000000</td>\n",
       "      <td>1.000000</td>\n",
       "      <td>1.0</td>\n",
       "      <td>P1</td>\n",
       "    </tr>\n",
       "    <tr>\n",
       "      <th>Human-RCT-non-intervention</th>\n",
       "      <td>0.000000</td>\n",
       "      <td>0.000000</td>\n",
       "      <td>0.000000</td>\n",
       "      <td>0.0</td>\n",
       "      <td>P1</td>\n",
       "    </tr>\n",
       "    <tr>\n",
       "      <th>Human-case-report</th>\n",
       "      <td>0.000000</td>\n",
       "      <td>0.000000</td>\n",
       "      <td>0.000000</td>\n",
       "      <td>0.0</td>\n",
       "      <td>P1</td>\n",
       "    </tr>\n",
       "    <tr>\n",
       "      <th>Human-non-RCT-drug-intervention</th>\n",
       "      <td>0.000000</td>\n",
       "      <td>0.000000</td>\n",
       "      <td>0.000000</td>\n",
       "      <td>1.0</td>\n",
       "      <td>P1</td>\n",
       "    </tr>\n",
       "    <tr>\n",
       "      <th>Human-non-RCT-non-drug-intervention</th>\n",
       "      <td>0.000000</td>\n",
       "      <td>0.000000</td>\n",
       "      <td>0.000000</td>\n",
       "      <td>1.0</td>\n",
       "      <td>P1</td>\n",
       "    </tr>\n",
       "    <tr>\n",
       "      <th>Animal-systematic-review</th>\n",
       "      <td>0.000000</td>\n",
       "      <td>0.000000</td>\n",
       "      <td>0.000000</td>\n",
       "      <td>0.0</td>\n",
       "      <td>P1</td>\n",
       "    </tr>\n",
       "    <tr>\n",
       "      <th>Animal-drug-intervention</th>\n",
       "      <td>0.000000</td>\n",
       "      <td>0.000000</td>\n",
       "      <td>0.000000</td>\n",
       "      <td>0.0</td>\n",
       "      <td>P1</td>\n",
       "    </tr>\n",
       "    <tr>\n",
       "      <th>Animal-non-drug-intervention</th>\n",
       "      <td>0.000000</td>\n",
       "      <td>0.000000</td>\n",
       "      <td>0.000000</td>\n",
       "      <td>0.0</td>\n",
       "      <td>P1</td>\n",
       "    </tr>\n",
       "    <tr>\n",
       "      <th>Animal-other</th>\n",
       "      <td>0.000000</td>\n",
       "      <td>0.000000</td>\n",
       "      <td>0.000000</td>\n",
       "      <td>1.0</td>\n",
       "      <td>P1</td>\n",
       "    </tr>\n",
       "    <tr>\n",
       "      <th>Non-systematic-review</th>\n",
       "      <td>0.000000</td>\n",
       "      <td>0.000000</td>\n",
       "      <td>0.000000</td>\n",
       "      <td>0.0</td>\n",
       "      <td>P1</td>\n",
       "    </tr>\n",
       "    <tr>\n",
       "      <th>In-vitro-study</th>\n",
       "      <td>0.000000</td>\n",
       "      <td>0.000000</td>\n",
       "      <td>0.000000</td>\n",
       "      <td>0.0</td>\n",
       "      <td>P1</td>\n",
       "    </tr>\n",
       "    <tr>\n",
       "      <th>Clinical-study-protocol</th>\n",
       "      <td>0.000000</td>\n",
       "      <td>0.000000</td>\n",
       "      <td>0.000000</td>\n",
       "      <td>0.0</td>\n",
       "      <td>P1</td>\n",
       "    </tr>\n",
       "    <tr>\n",
       "      <th>Remaining</th>\n",
       "      <td>0.000000</td>\n",
       "      <td>0.000000</td>\n",
       "      <td>0.000000</td>\n",
       "      <td>6.0</td>\n",
       "      <td>P1</td>\n",
       "    </tr>\n",
       "    <tr>\n",
       "      <th>micro avg</th>\n",
       "      <td>0.100000</td>\n",
       "      <td>0.100000</td>\n",
       "      <td>0.100000</td>\n",
       "      <td>10.0</td>\n",
       "      <td>P1</td>\n",
       "    </tr>\n",
       "    <tr>\n",
       "      <th>macro avg</th>\n",
       "      <td>0.066667</td>\n",
       "      <td>0.066667</td>\n",
       "      <td>0.066667</td>\n",
       "      <td>10.0</td>\n",
       "      <td>P1</td>\n",
       "    </tr>\n",
       "    <tr>\n",
       "      <th>weighted avg</th>\n",
       "      <td>0.100000</td>\n",
       "      <td>0.100000</td>\n",
       "      <td>0.100000</td>\n",
       "      <td>10.0</td>\n",
       "      <td>P1</td>\n",
       "    </tr>\n",
       "    <tr>\n",
       "      <th>Human-systematic-review</th>\n",
       "      <td>0.000000</td>\n",
       "      <td>0.000000</td>\n",
       "      <td>0.000000</td>\n",
       "      <td>0.0</td>\n",
       "      <td>P2</td>\n",
       "    </tr>\n",
       "    <tr>\n",
       "      <th>Human-RCT-drug-intervention</th>\n",
       "      <td>0.000000</td>\n",
       "      <td>0.000000</td>\n",
       "      <td>0.000000</td>\n",
       "      <td>0.0</td>\n",
       "      <td>P2</td>\n",
       "    </tr>\n",
       "    <tr>\n",
       "      <th>Human-RCT-non-drug-intervention</th>\n",
       "      <td>1.000000</td>\n",
       "      <td>1.000000</td>\n",
       "      <td>1.000000</td>\n",
       "      <td>1.0</td>\n",
       "      <td>P2</td>\n",
       "    </tr>\n",
       "    <tr>\n",
       "      <th>Human-RCT-non-intervention</th>\n",
       "      <td>0.000000</td>\n",
       "      <td>0.000000</td>\n",
       "      <td>0.000000</td>\n",
       "      <td>0.0</td>\n",
       "      <td>P2</td>\n",
       "    </tr>\n",
       "    <tr>\n",
       "      <th>Human-case-report</th>\n",
       "      <td>0.000000</td>\n",
       "      <td>0.000000</td>\n",
       "      <td>0.000000</td>\n",
       "      <td>0.0</td>\n",
       "      <td>P2</td>\n",
       "    </tr>\n",
       "    <tr>\n",
       "      <th>Human-non-RCT-drug-intervention</th>\n",
       "      <td>0.000000</td>\n",
       "      <td>0.000000</td>\n",
       "      <td>0.000000</td>\n",
       "      <td>1.0</td>\n",
       "      <td>P2</td>\n",
       "    </tr>\n",
       "    <tr>\n",
       "      <th>Human-non-RCT-non-drug-intervention</th>\n",
       "      <td>0.000000</td>\n",
       "      <td>0.000000</td>\n",
       "      <td>0.000000</td>\n",
       "      <td>1.0</td>\n",
       "      <td>P2</td>\n",
       "    </tr>\n",
       "    <tr>\n",
       "      <th>Animal-systematic-review</th>\n",
       "      <td>0.000000</td>\n",
       "      <td>0.000000</td>\n",
       "      <td>0.000000</td>\n",
       "      <td>0.0</td>\n",
       "      <td>P2</td>\n",
       "    </tr>\n",
       "    <tr>\n",
       "      <th>Animal-drug-intervention</th>\n",
       "      <td>0.000000</td>\n",
       "      <td>0.000000</td>\n",
       "      <td>0.000000</td>\n",
       "      <td>0.0</td>\n",
       "      <td>P2</td>\n",
       "    </tr>\n",
       "    <tr>\n",
       "      <th>Animal-non-drug-intervention</th>\n",
       "      <td>0.000000</td>\n",
       "      <td>0.000000</td>\n",
       "      <td>0.000000</td>\n",
       "      <td>0.0</td>\n",
       "      <td>P2</td>\n",
       "    </tr>\n",
       "    <tr>\n",
       "      <th>Animal-other</th>\n",
       "      <td>1.000000</td>\n",
       "      <td>1.000000</td>\n",
       "      <td>1.000000</td>\n",
       "      <td>1.0</td>\n",
       "      <td>P2</td>\n",
       "    </tr>\n",
       "    <tr>\n",
       "      <th>Non-systematic-review</th>\n",
       "      <td>0.000000</td>\n",
       "      <td>0.000000</td>\n",
       "      <td>0.000000</td>\n",
       "      <td>0.0</td>\n",
       "      <td>P2</td>\n",
       "    </tr>\n",
       "    <tr>\n",
       "      <th>In-vitro-study</th>\n",
       "      <td>0.000000</td>\n",
       "      <td>0.000000</td>\n",
       "      <td>0.000000</td>\n",
       "      <td>0.0</td>\n",
       "      <td>P2</td>\n",
       "    </tr>\n",
       "    <tr>\n",
       "      <th>Clinical-study-protocol</th>\n",
       "      <td>0.000000</td>\n",
       "      <td>0.000000</td>\n",
       "      <td>0.000000</td>\n",
       "      <td>0.0</td>\n",
       "      <td>P2</td>\n",
       "    </tr>\n",
       "    <tr>\n",
       "      <th>Remaining</th>\n",
       "      <td>0.000000</td>\n",
       "      <td>0.000000</td>\n",
       "      <td>0.000000</td>\n",
       "      <td>6.0</td>\n",
       "      <td>P2</td>\n",
       "    </tr>\n",
       "    <tr>\n",
       "      <th>micro avg</th>\n",
       "      <td>0.200000</td>\n",
       "      <td>0.200000</td>\n",
       "      <td>0.200000</td>\n",
       "      <td>10.0</td>\n",
       "      <td>P2</td>\n",
       "    </tr>\n",
       "    <tr>\n",
       "      <th>macro avg</th>\n",
       "      <td>0.133333</td>\n",
       "      <td>0.133333</td>\n",
       "      <td>0.133333</td>\n",
       "      <td>10.0</td>\n",
       "      <td>P2</td>\n",
       "    </tr>\n",
       "    <tr>\n",
       "      <th>weighted avg</th>\n",
       "      <td>0.200000</td>\n",
       "      <td>0.200000</td>\n",
       "      <td>0.200000</td>\n",
       "      <td>10.0</td>\n",
       "      <td>P2</td>\n",
       "    </tr>\n",
       "  </tbody>\n",
       "</table>\n",
       "</div>"
      ],
      "text/plain": [
       "                                     precision    recall  f1-score  support  \\\n",
       "Human-systematic-review               0.000000  0.000000  0.000000      0.0   \n",
       "Human-RCT-drug-intervention           0.000000  0.000000  0.000000      0.0   \n",
       "Human-RCT-non-drug-intervention       1.000000  1.000000  1.000000      1.0   \n",
       "Human-RCT-non-intervention            0.000000  0.000000  0.000000      0.0   \n",
       "Human-case-report                     0.000000  0.000000  0.000000      0.0   \n",
       "Human-non-RCT-drug-intervention       0.000000  0.000000  0.000000      1.0   \n",
       "Human-non-RCT-non-drug-intervention   0.000000  0.000000  0.000000      1.0   \n",
       "Animal-systematic-review              0.000000  0.000000  0.000000      0.0   \n",
       "Animal-drug-intervention              0.000000  0.000000  0.000000      0.0   \n",
       "Animal-non-drug-intervention          0.000000  0.000000  0.000000      0.0   \n",
       "Animal-other                          0.000000  0.000000  0.000000      1.0   \n",
       "Non-systematic-review                 0.000000  0.000000  0.000000      0.0   \n",
       "In-vitro-study                        0.000000  0.000000  0.000000      0.0   \n",
       "Clinical-study-protocol               0.000000  0.000000  0.000000      0.0   \n",
       "Remaining                             0.000000  0.000000  0.000000      6.0   \n",
       "micro avg                             0.100000  0.100000  0.100000     10.0   \n",
       "macro avg                             0.066667  0.066667  0.066667     10.0   \n",
       "weighted avg                          0.100000  0.100000  0.100000     10.0   \n",
       "Human-systematic-review               0.000000  0.000000  0.000000      0.0   \n",
       "Human-RCT-drug-intervention           0.000000  0.000000  0.000000      0.0   \n",
       "Human-RCT-non-drug-intervention       1.000000  1.000000  1.000000      1.0   \n",
       "Human-RCT-non-intervention            0.000000  0.000000  0.000000      0.0   \n",
       "Human-case-report                     0.000000  0.000000  0.000000      0.0   \n",
       "Human-non-RCT-drug-intervention       0.000000  0.000000  0.000000      1.0   \n",
       "Human-non-RCT-non-drug-intervention   0.000000  0.000000  0.000000      1.0   \n",
       "Animal-systematic-review              0.000000  0.000000  0.000000      0.0   \n",
       "Animal-drug-intervention              0.000000  0.000000  0.000000      0.0   \n",
       "Animal-non-drug-intervention          0.000000  0.000000  0.000000      0.0   \n",
       "Animal-other                          1.000000  1.000000  1.000000      1.0   \n",
       "Non-systematic-review                 0.000000  0.000000  0.000000      0.0   \n",
       "In-vitro-study                        0.000000  0.000000  0.000000      0.0   \n",
       "Clinical-study-protocol               0.000000  0.000000  0.000000      0.0   \n",
       "Remaining                             0.000000  0.000000  0.000000      6.0   \n",
       "micro avg                             0.200000  0.200000  0.200000     10.0   \n",
       "macro avg                             0.133333  0.133333  0.133333     10.0   \n",
       "weighted avg                          0.200000  0.200000  0.200000     10.0   \n",
       "\n",
       "                                    Prompt ID  \n",
       "Human-systematic-review                    P1  \n",
       "Human-RCT-drug-intervention                P1  \n",
       "Human-RCT-non-drug-intervention            P1  \n",
       "Human-RCT-non-intervention                 P1  \n",
       "Human-case-report                          P1  \n",
       "Human-non-RCT-drug-intervention            P1  \n",
       "Human-non-RCT-non-drug-intervention        P1  \n",
       "Animal-systematic-review                   P1  \n",
       "Animal-drug-intervention                   P1  \n",
       "Animal-non-drug-intervention               P1  \n",
       "Animal-other                               P1  \n",
       "Non-systematic-review                      P1  \n",
       "In-vitro-study                             P1  \n",
       "Clinical-study-protocol                    P1  \n",
       "Remaining                                  P1  \n",
       "micro avg                                  P1  \n",
       "macro avg                                  P1  \n",
       "weighted avg                               P1  \n",
       "Human-systematic-review                    P2  \n",
       "Human-RCT-drug-intervention                P2  \n",
       "Human-RCT-non-drug-intervention            P2  \n",
       "Human-RCT-non-intervention                 P2  \n",
       "Human-case-report                          P2  \n",
       "Human-non-RCT-drug-intervention            P2  \n",
       "Human-non-RCT-non-drug-intervention        P2  \n",
       "Animal-systematic-review                   P2  \n",
       "Animal-drug-intervention                   P2  \n",
       "Animal-non-drug-intervention               P2  \n",
       "Animal-other                               P2  \n",
       "Non-systematic-review                      P2  \n",
       "In-vitro-study                             P2  \n",
       "Clinical-study-protocol                    P2  \n",
       "Remaining                                  P2  \n",
       "micro avg                                  P2  \n",
       "macro avg                                  P2  \n",
       "weighted avg                               P2  "
      ]
     },
     "execution_count": 87,
     "metadata": {},
     "output_type": "execute_result"
    }
   ],
   "source": [
    "all_reports_df"
   ]
  },
  {
   "cell_type": "code",
   "execution_count": null,
   "id": "d5d95236-565b-43ed-8442-8b499c92a955",
   "metadata": {},
   "outputs": [],
   "source": []
  }
 ],
 "metadata": {
  "kernelspec": {
   "display_name": "Python 3 (ipykernel)",
   "language": "python",
   "name": "python3"
  },
  "language_info": {
   "codemirror_mode": {
    "name": "ipython",
    "version": 3
   },
   "file_extension": ".py",
   "mimetype": "text/x-python",
   "name": "python",
   "nbconvert_exporter": "python",
   "pygments_lexer": "ipython3",
   "version": "3.11.7"
  }
 },
 "nbformat": 4,
 "nbformat_minor": 5
}
