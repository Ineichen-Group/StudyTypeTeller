{
 "cells": [
  {
   "cell_type": "code",
   "execution_count": 1,
   "id": "5292809a-a6bf-45b8-bfd6-1589ee42a7b1",
   "metadata": {},
   "outputs": [],
   "source": [
    "import pandas as pd\n",
    "import openai\n",
    "import json\n",
    "import time\n",
    "import matplotlib.pyplot as plt\n",
    "from tqdm import tqdm  # Import tqdm for the progress bar\n",
    "from sklearn.metrics import accuracy_score, classification_report, balanced_accuracy_score\n",
    "from sklearn.metrics import balanced_accuracy_score\n",
    "import numpy as np"
   ]
  },
  {
   "cell_type": "code",
   "execution_count": 2,
   "id": "0cc1bdb6-331d-4c67-b2ef-055af90ddfbf",
   "metadata": {},
   "outputs": [],
   "source": [
    "#pip install openai"
   ]
  },
  {
   "cell_type": "code",
   "execution_count": 3,
   "id": "1ffebb73-a46a-4783-99fe-cb5ce0a5508a",
   "metadata": {},
   "outputs": [],
   "source": [
    "from openai import OpenAI"
   ]
  },
  {
   "cell_type": "code",
   "execution_count": 4,
   "id": "4fb4ab9c-6f1e-4989-8e89-0b84993330d2",
   "metadata": {},
   "outputs": [
    {
     "data": {
      "text/plain": [
       "'1.1.1'"
      ]
     },
     "execution_count": 4,
     "metadata": {},
     "output_type": "execute_result"
    }
   ],
   "source": [
    "openai.__version__\n"
   ]
  },
  {
   "cell_type": "markdown",
   "id": "c461bf8d-2acf-4c37-b11d-a638e88b9b65",
   "metadata": {},
   "source": [
    "### Read in annotated data"
   ]
  },
  {
   "cell_type": "code",
   "execution_count": 5,
   "id": "bd722fee-330e-4583-a1da-a775195d280c",
   "metadata": {},
   "outputs": [],
   "source": [
    "df = pd.read_csv(\"../data/data_splits_stratified/6-2-2_all_classes_enriched_with_kw/test.csv\", index_col=0)\n",
    "#df = pd.read_csv(\"../data/data_splits_stratified/6-2-2_all_classes_enriched/test.csv\", index_col=0)"
   ]
  },
  {
   "cell_type": "code",
   "execution_count": 6,
   "id": "3705db1d-315f-4a20-b8bd-15b1fee1b50e",
   "metadata": {},
   "outputs": [
    {
     "data": {
      "text/plain": [
       "(534, 8)"
      ]
     },
     "execution_count": 6,
     "metadata": {},
     "output_type": "execute_result"
    }
   ],
   "source": [
    "df.shape"
   ]
  },
  {
   "cell_type": "code",
   "execution_count": 7,
   "id": "d30ae2c9-5f93-407e-93d6-3317f99072f2",
   "metadata": {},
   "outputs": [
    {
     "data": {
      "text/html": [
       "<div>\n",
       "<style scoped>\n",
       "    .dataframe tbody tr th:only-of-type {\n",
       "        vertical-align: middle;\n",
       "    }\n",
       "\n",
       "    .dataframe tbody tr th {\n",
       "        vertical-align: top;\n",
       "    }\n",
       "\n",
       "    .dataframe thead th {\n",
       "        text-align: right;\n",
       "    }\n",
       "</style>\n",
       "<table border=\"1\" class=\"dataframe\">\n",
       "  <thead>\n",
       "    <tr style=\"text-align: right;\">\n",
       "      <th></th>\n",
       "      <th>pmid</th>\n",
       "      <th>journal_name</th>\n",
       "      <th>title</th>\n",
       "      <th>abstract</th>\n",
       "      <th>keywords</th>\n",
       "      <th>accepted_label</th>\n",
       "      <th>multi_label</th>\n",
       "      <th>binary_label</th>\n",
       "    </tr>\n",
       "    <tr>\n",
       "      <th>idx</th>\n",
       "      <th></th>\n",
       "      <th></th>\n",
       "      <th></th>\n",
       "      <th></th>\n",
       "      <th></th>\n",
       "      <th></th>\n",
       "      <th></th>\n",
       "      <th></th>\n",
       "    </tr>\n",
       "  </thead>\n",
       "  <tbody>\n",
       "    <tr>\n",
       "      <th>1</th>\n",
       "      <td>12047012</td>\n",
       "      <td>Schizophrenia bulletin</td>\n",
       "      <td>Can clinical practice guide a research agenda?</td>\n",
       "      <td>Articles from this issue of the Bulletin indic...</td>\n",
       "      <td>NaN</td>\n",
       "      <td>Non-systematic-review</td>\n",
       "      <td>1</td>\n",
       "      <td>0</td>\n",
       "    </tr>\n",
       "    <tr>\n",
       "      <th>2</th>\n",
       "      <td>28832188</td>\n",
       "      <td>Future medicinal chemistry</td>\n",
       "      <td>Dual/multitargeted xanthone derivatives for Al...</td>\n",
       "      <td>To date, the current therapy for Alzheimer's d...</td>\n",
       "      <td>Alzheimer's disease| Aβ aggregation| anticholi...</td>\n",
       "      <td>Non-systematic-review</td>\n",
       "      <td>1</td>\n",
       "      <td>0</td>\n",
       "    </tr>\n",
       "    <tr>\n",
       "      <th>3</th>\n",
       "      <td>17678496</td>\n",
       "      <td>Expert review of neurotherapeutics</td>\n",
       "      <td>Benefits of occupational therapy in stroke reh...</td>\n",
       "      <td>Stroke is the largest single cause of severe p...</td>\n",
       "      <td>NaN</td>\n",
       "      <td>Non-systematic-review</td>\n",
       "      <td>1</td>\n",
       "      <td>0</td>\n",
       "    </tr>\n",
       "    <tr>\n",
       "      <th>4</th>\n",
       "      <td>25649308</td>\n",
       "      <td>Annals of the New York Academy of Sciences</td>\n",
       "      <td>The promise of ketamine for treatment-resistan...</td>\n",
       "      <td>Major depressive disorder (MDD) is one of the ...</td>\n",
       "      <td>antidepressant| bipolar disorder| ketamine| ma...</td>\n",
       "      <td>Non-systematic-review</td>\n",
       "      <td>1</td>\n",
       "      <td>0</td>\n",
       "    </tr>\n",
       "    <tr>\n",
       "      <th>5</th>\n",
       "      <td>6312596</td>\n",
       "      <td>La semaine des hopitaux : organe fonde par l'A...</td>\n",
       "      <td>[Clinical and pathogenic aspects of secondary ...</td>\n",
       "      <td>The secondary hyperlipoproteinemias are freque...</td>\n",
       "      <td>NaN</td>\n",
       "      <td>Non-systematic-review</td>\n",
       "      <td>1</td>\n",
       "      <td>0</td>\n",
       "    </tr>\n",
       "  </tbody>\n",
       "</table>\n",
       "</div>"
      ],
      "text/plain": [
       "         pmid                                       journal_name  \\\n",
       "idx                                                                \n",
       "1    12047012                             Schizophrenia bulletin   \n",
       "2    28832188                         Future medicinal chemistry   \n",
       "3    17678496                 Expert review of neurotherapeutics   \n",
       "4    25649308         Annals of the New York Academy of Sciences   \n",
       "5     6312596  La semaine des hopitaux : organe fonde par l'A...   \n",
       "\n",
       "                                                 title  \\\n",
       "idx                                                      \n",
       "1       Can clinical practice guide a research agenda?   \n",
       "2    Dual/multitargeted xanthone derivatives for Al...   \n",
       "3    Benefits of occupational therapy in stroke reh...   \n",
       "4    The promise of ketamine for treatment-resistan...   \n",
       "5    [Clinical and pathogenic aspects of secondary ...   \n",
       "\n",
       "                                              abstract  \\\n",
       "idx                                                      \n",
       "1    Articles from this issue of the Bulletin indic...   \n",
       "2    To date, the current therapy for Alzheimer's d...   \n",
       "3    Stroke is the largest single cause of severe p...   \n",
       "4    Major depressive disorder (MDD) is one of the ...   \n",
       "5    The secondary hyperlipoproteinemias are freque...   \n",
       "\n",
       "                                              keywords         accepted_label  \\\n",
       "idx                                                                             \n",
       "1                                                  NaN  Non-systematic-review   \n",
       "2    Alzheimer's disease| Aβ aggregation| anticholi...  Non-systematic-review   \n",
       "3                                                  NaN  Non-systematic-review   \n",
       "4    antidepressant| bipolar disorder| ketamine| ma...  Non-systematic-review   \n",
       "5                                                  NaN  Non-systematic-review   \n",
       "\n",
       "     multi_label  binary_label  \n",
       "idx                             \n",
       "1              1             0  \n",
       "2              1             0  \n",
       "3              1             0  \n",
       "4              1             0  \n",
       "5              1             0  "
      ]
     },
     "execution_count": 7,
     "metadata": {},
     "output_type": "execute_result"
    }
   ],
   "source": [
    "df.head()"
   ]
  },
  {
   "cell_type": "code",
   "execution_count": 8,
   "id": "bbe461a0-164b-4201-a93d-12e1df9193bb",
   "metadata": {},
   "outputs": [],
   "source": [
    "# Combine the columns\n",
    "# Implementing custom tags for the combination of journal name, title, and abstract\n",
    "df['input_journal_title_abstract'] = '<journal>' + df['journal_name'] + '</journal>' + \\\n",
    "                                     '<title>' + df['title'] + '</title>' + \\\n",
    "                                     '<abstract>' + df['abstract'] + '</abstract>'\n",
    "\n",
    "# Implementing custom tags for the combination of title and abstract only\n",
    "df['input_title_abstract'] = '<title>' + df['title'] + '</title>' + \\\n",
    "                             '<abstract>' + df['abstract'] + '</abstract>'"
   ]
  },
  {
   "cell_type": "code",
   "execution_count": 9,
   "id": "b8623523-3916-4522-9999-18931e017571",
   "metadata": {},
   "outputs": [
    {
     "data": {
      "text/html": [
       "<div>\n",
       "<style scoped>\n",
       "    .dataframe tbody tr th:only-of-type {\n",
       "        vertical-align: middle;\n",
       "    }\n",
       "\n",
       "    .dataframe tbody tr th {\n",
       "        vertical-align: top;\n",
       "    }\n",
       "\n",
       "    .dataframe thead th {\n",
       "        text-align: right;\n",
       "    }\n",
       "</style>\n",
       "<table border=\"1\" class=\"dataframe\">\n",
       "  <thead>\n",
       "    <tr style=\"text-align: right;\">\n",
       "      <th></th>\n",
       "      <th>pmid</th>\n",
       "      <th>journal_name</th>\n",
       "      <th>title</th>\n",
       "      <th>abstract</th>\n",
       "      <th>keywords</th>\n",
       "      <th>accepted_label</th>\n",
       "      <th>multi_label</th>\n",
       "      <th>binary_label</th>\n",
       "      <th>input_journal_title_abstract</th>\n",
       "      <th>input_title_abstract</th>\n",
       "    </tr>\n",
       "    <tr>\n",
       "      <th>idx</th>\n",
       "      <th></th>\n",
       "      <th></th>\n",
       "      <th></th>\n",
       "      <th></th>\n",
       "      <th></th>\n",
       "      <th></th>\n",
       "      <th></th>\n",
       "      <th></th>\n",
       "      <th></th>\n",
       "      <th></th>\n",
       "    </tr>\n",
       "  </thead>\n",
       "  <tbody>\n",
       "    <tr>\n",
       "      <th>1</th>\n",
       "      <td>12047012</td>\n",
       "      <td>Schizophrenia bulletin</td>\n",
       "      <td>Can clinical practice guide a research agenda?</td>\n",
       "      <td>Articles from this issue of the Bulletin indic...</td>\n",
       "      <td>NaN</td>\n",
       "      <td>Non-systematic-review</td>\n",
       "      <td>1</td>\n",
       "      <td>0</td>\n",
       "      <td>&lt;journal&gt;Schizophrenia bulletin&lt;/journal&gt;&lt;titl...</td>\n",
       "      <td>&lt;title&gt;Can clinical practice guide a research ...</td>\n",
       "    </tr>\n",
       "    <tr>\n",
       "      <th>2</th>\n",
       "      <td>28832188</td>\n",
       "      <td>Future medicinal chemistry</td>\n",
       "      <td>Dual/multitargeted xanthone derivatives for Al...</td>\n",
       "      <td>To date, the current therapy for Alzheimer's d...</td>\n",
       "      <td>Alzheimer's disease| Aβ aggregation| anticholi...</td>\n",
       "      <td>Non-systematic-review</td>\n",
       "      <td>1</td>\n",
       "      <td>0</td>\n",
       "      <td>&lt;journal&gt;Future medicinal chemistry&lt;/journal&gt;&lt;...</td>\n",
       "      <td>&lt;title&gt;Dual/multitargeted xanthone derivatives...</td>\n",
       "    </tr>\n",
       "    <tr>\n",
       "      <th>3</th>\n",
       "      <td>17678496</td>\n",
       "      <td>Expert review of neurotherapeutics</td>\n",
       "      <td>Benefits of occupational therapy in stroke reh...</td>\n",
       "      <td>Stroke is the largest single cause of severe p...</td>\n",
       "      <td>NaN</td>\n",
       "      <td>Non-systematic-review</td>\n",
       "      <td>1</td>\n",
       "      <td>0</td>\n",
       "      <td>&lt;journal&gt;Expert review of neurotherapeutics&lt;/j...</td>\n",
       "      <td>&lt;title&gt;Benefits of occupational therapy in str...</td>\n",
       "    </tr>\n",
       "    <tr>\n",
       "      <th>4</th>\n",
       "      <td>25649308</td>\n",
       "      <td>Annals of the New York Academy of Sciences</td>\n",
       "      <td>The promise of ketamine for treatment-resistan...</td>\n",
       "      <td>Major depressive disorder (MDD) is one of the ...</td>\n",
       "      <td>antidepressant| bipolar disorder| ketamine| ma...</td>\n",
       "      <td>Non-systematic-review</td>\n",
       "      <td>1</td>\n",
       "      <td>0</td>\n",
       "      <td>&lt;journal&gt;Annals of the New York Academy of Sci...</td>\n",
       "      <td>&lt;title&gt;The promise of ketamine for treatment-r...</td>\n",
       "    </tr>\n",
       "    <tr>\n",
       "      <th>5</th>\n",
       "      <td>6312596</td>\n",
       "      <td>La semaine des hopitaux : organe fonde par l'A...</td>\n",
       "      <td>[Clinical and pathogenic aspects of secondary ...</td>\n",
       "      <td>The secondary hyperlipoproteinemias are freque...</td>\n",
       "      <td>NaN</td>\n",
       "      <td>Non-systematic-review</td>\n",
       "      <td>1</td>\n",
       "      <td>0</td>\n",
       "      <td>&lt;journal&gt;La semaine des hopitaux : organe fond...</td>\n",
       "      <td>&lt;title&gt;[Clinical and pathogenic aspects of sec...</td>\n",
       "    </tr>\n",
       "  </tbody>\n",
       "</table>\n",
       "</div>"
      ],
      "text/plain": [
       "         pmid                                       journal_name  \\\n",
       "idx                                                                \n",
       "1    12047012                             Schizophrenia bulletin   \n",
       "2    28832188                         Future medicinal chemistry   \n",
       "3    17678496                 Expert review of neurotherapeutics   \n",
       "4    25649308         Annals of the New York Academy of Sciences   \n",
       "5     6312596  La semaine des hopitaux : organe fonde par l'A...   \n",
       "\n",
       "                                                 title  \\\n",
       "idx                                                      \n",
       "1       Can clinical practice guide a research agenda?   \n",
       "2    Dual/multitargeted xanthone derivatives for Al...   \n",
       "3    Benefits of occupational therapy in stroke reh...   \n",
       "4    The promise of ketamine for treatment-resistan...   \n",
       "5    [Clinical and pathogenic aspects of secondary ...   \n",
       "\n",
       "                                              abstract  \\\n",
       "idx                                                      \n",
       "1    Articles from this issue of the Bulletin indic...   \n",
       "2    To date, the current therapy for Alzheimer's d...   \n",
       "3    Stroke is the largest single cause of severe p...   \n",
       "4    Major depressive disorder (MDD) is one of the ...   \n",
       "5    The secondary hyperlipoproteinemias are freque...   \n",
       "\n",
       "                                              keywords         accepted_label  \\\n",
       "idx                                                                             \n",
       "1                                                  NaN  Non-systematic-review   \n",
       "2    Alzheimer's disease| Aβ aggregation| anticholi...  Non-systematic-review   \n",
       "3                                                  NaN  Non-systematic-review   \n",
       "4    antidepressant| bipolar disorder| ketamine| ma...  Non-systematic-review   \n",
       "5                                                  NaN  Non-systematic-review   \n",
       "\n",
       "     multi_label  binary_label  \\\n",
       "idx                              \n",
       "1              1             0   \n",
       "2              1             0   \n",
       "3              1             0   \n",
       "4              1             0   \n",
       "5              1             0   \n",
       "\n",
       "                          input_journal_title_abstract  \\\n",
       "idx                                                      \n",
       "1    <journal>Schizophrenia bulletin</journal><titl...   \n",
       "2    <journal>Future medicinal chemistry</journal><...   \n",
       "3    <journal>Expert review of neurotherapeutics</j...   \n",
       "4    <journal>Annals of the New York Academy of Sci...   \n",
       "5    <journal>La semaine des hopitaux : organe fond...   \n",
       "\n",
       "                                  input_title_abstract  \n",
       "idx                                                     \n",
       "1    <title>Can clinical practice guide a research ...  \n",
       "2    <title>Dual/multitargeted xanthone derivatives...  \n",
       "3    <title>Benefits of occupational therapy in str...  \n",
       "4    <title>The promise of ketamine for treatment-r...  \n",
       "5    <title>[Clinical and pathogenic aspects of sec...  "
      ]
     },
     "execution_count": 9,
     "metadata": {},
     "output_type": "execute_result"
    }
   ],
   "source": [
    "df.head(5)"
   ]
  },
  {
   "cell_type": "markdown",
   "id": "e0725592-c308-4ec2-a4d3-a8bc89d11878",
   "metadata": {},
   "source": [
    "### Load key for the OpenAI API "
   ]
  },
  {
   "cell_type": "code",
   "execution_count": 10,
   "id": "5410c439-9e4e-4878-90c0-e8ca1d25c2ef",
   "metadata": {},
   "outputs": [],
   "source": [
    "def load_pass(file_path, key_to_find):\n",
    "    with open(file_path, 'r') as file:\n",
    "        for line in file:\n",
    "            parts = line.strip().split(\"=\")\n",
    "            if len(parts) == 2 and parts[0] == key_to_find:\n",
    "                found_password = parts[1]\n",
    "                break\n",
    "    if found_password:\n",
    "        print(\"Found password.\")\n",
    "        return found_password\n",
    "    else:\n",
    "        print(\"Password not found for key:\", key_to_find)"
   ]
  },
  {
   "cell_type": "markdown",
   "id": "7a5933e6-3cb4-4e37-aa85-51ea968919f8",
   "metadata": {},
   "source": [
    "Note: You need to create a credentials.txt file with the following content:  \n",
    "OPENAI=sk-77QXXXXXXXXXXXXXXXXXXXXXXXXXXX  \n",
    "replace the value after the = sign with your API key.  \n",
    "Make sure the credentials.txt is added to .gitignore, you don't want to put your password on Git!"
   ]
  },
  {
   "cell_type": "code",
   "execution_count": 11,
   "id": "7156eb84-1813-4ae3-8dbc-d4084f66afa3",
   "metadata": {},
   "outputs": [
    {
     "name": "stdout",
     "output_type": "stream",
     "text": [
      "Found password.\n"
     ]
    }
   ],
   "source": [
    "openai.api_key = load_pass(\"./credentials.txt\", \"OPENAI\")\n"
   ]
  },
  {
   "cell_type": "code",
   "execution_count": 12,
   "id": "0c11b84b-e9c2-44df-9c6c-ef084bf261f4",
   "metadata": {},
   "outputs": [],
   "source": [
    "client = OpenAI(api_key=openai.api_key)"
   ]
  },
  {
   "cell_type": "markdown",
   "id": "3ad13134-f6eb-491e-b59b-6a705e820619",
   "metadata": {},
   "source": [
    "### Query GPT"
   ]
  },
  {
   "cell_type": "markdown",
   "id": "ebd02c0b-d4bc-4f23-aaf8-e125821e7c87",
   "metadata": {},
   "source": [
    "To change the task the model is solving, you need to change the text of the prompt and the content text of the system role.  \n",
    "To change the GPT model used, you need to change the text of the model name when initiating the openai API.  \n",
    "The function gets as input the input_raw_text, that will be text for information extraction or classification."
   ]
  },
  {
   "cell_type": "code",
   "execution_count": 13,
   "id": "3ea3f587-8b26-4b55-a423-cad38eb7bad1",
   "metadata": {},
   "outputs": [],
   "source": [
    "import time\n",
    "\n",
    "DEFAULT_TEMPERATURE = 0\n",
    "DEFAULT_MAX_TOKENS = 500\n",
    "DEFAULT_MODEL = \"gpt-3.5-turbo\"\n",
    "\n",
    "def query_gpt(input_raw_text, prompt_text, gpt_model=\"gpt-3.5-turbo\", temperature=0, max_retries=5, retry_delay=3):\n",
    "    # CHANGE gpt_model to the desired model name, see https://platform.openai.com/docs/models (gpt-3.5-turbo and gpt-4-turbo-preview)\n",
    "    \n",
    "    # Add a delay at the beginning of the function to avoid overloading the API if there are multiple calls\n",
    "    # time.sleep(10)  \n",
    "\n",
    "    system_msg = f\"\"\"\n",
    "    You are an expert assistant specialized in text classification of PubMed abstracts. \"\"\"\n",
    "\n",
    "    retries = 0\n",
    "    while retries < max_retries:\n",
    "        print(\"Trying to call OpenAI API...\")\n",
    "        try:\n",
    "            completion = client.chat.completions.create(\n",
    "                model=gpt_model,  \n",
    "                response_format={\"type\": \"json_object\"},\n",
    "                temperature=temperature,\n",
    "                #max_tokens=2000,\n",
    "                messages=[\n",
    "                    {\"role\": \"system\", \"content\": system_msg},\n",
    "                    {\"role\": \"user\", \"content\": prompt_text + input_raw_text}\n",
    "                ]\n",
    "            )\n",
    "            return completion.choices[0].message.content\n",
    "        except Exception as e:\n",
    "            # Handle API error, e.g., retry or log\n",
    "            print(f\"OpenAI API returned an error: {e}\")\n",
    "            time.sleep(retry_delay)  # Wait before retrying\n",
    "            retries += 1\n",
    "\n",
    "    raise RuntimeError(\"Max retries reached. Unable to complete the API call.\")\n"
   ]
  },
  {
   "cell_type": "code",
   "execution_count": 14,
   "id": "f0a2857a-0537-4f94-b755-f1b449d994df",
   "metadata": {},
   "outputs": [],
   "source": [
    "# Define a function to apply GPT queries with a progress bar\n",
    "def apply_gpt_with_progress(data_series, prompt_text, model=\"gpt-3.5-turbo\"):\n",
    "    results = []\n",
    "    total_items = len(data_series)\n",
    "    # Create a tqdm progress bar\n",
    "    with tqdm(total=total_items, desc=f\"Processing dataset\") as pbar:\n",
    "        for text in data_series:\n",
    "            result = query_gpt(text, prompt_text, model)\n",
    "            results.append(result)\n",
    "            pbar.update(1)  # Update the progress bar\n",
    "\n",
    "    return results"
   ]
  },
  {
   "cell_type": "markdown",
   "id": "8fc4895f-3a19-40e0-aa44-6483fed31968",
   "metadata": {},
   "source": [
    "# Binary: Read prompts from file and query GPT"
   ]
  },
  {
   "cell_type": "code",
   "execution_count": 15,
   "id": "c5bcc846-7c2f-4f8a-a236-72aa5b554001",
   "metadata": {},
   "outputs": [
    {
     "data": {
      "text/html": [
       "<div>\n",
       "<style scoped>\n",
       "    .dataframe tbody tr th:only-of-type {\n",
       "        vertical-align: middle;\n",
       "    }\n",
       "\n",
       "    .dataframe tbody tr th {\n",
       "        vertical-align: top;\n",
       "    }\n",
       "\n",
       "    .dataframe thead th {\n",
       "        text-align: right;\n",
       "    }\n",
       "</style>\n",
       "<table border=\"1\" class=\"dataframe\">\n",
       "  <thead>\n",
       "    <tr style=\"text-align: right;\">\n",
       "      <th></th>\n",
       "      <th>pmid</th>\n",
       "      <th>journal_name</th>\n",
       "      <th>title</th>\n",
       "      <th>abstract</th>\n",
       "      <th>keywords</th>\n",
       "      <th>accepted_label</th>\n",
       "      <th>multi_label</th>\n",
       "      <th>binary_label</th>\n",
       "      <th>input_journal_title_abstract</th>\n",
       "      <th>input_title_abstract</th>\n",
       "    </tr>\n",
       "    <tr>\n",
       "      <th>idx</th>\n",
       "      <th></th>\n",
       "      <th></th>\n",
       "      <th></th>\n",
       "      <th></th>\n",
       "      <th></th>\n",
       "      <th></th>\n",
       "      <th></th>\n",
       "      <th></th>\n",
       "      <th></th>\n",
       "      <th></th>\n",
       "    </tr>\n",
       "  </thead>\n",
       "  <tbody>\n",
       "    <tr>\n",
       "      <th>1</th>\n",
       "      <td>12047012</td>\n",
       "      <td>Schizophrenia bulletin</td>\n",
       "      <td>Can clinical practice guide a research agenda?</td>\n",
       "      <td>Articles from this issue of the Bulletin indic...</td>\n",
       "      <td>NaN</td>\n",
       "      <td>Non-systematic-review</td>\n",
       "      <td>1</td>\n",
       "      <td>0</td>\n",
       "      <td>&lt;journal&gt;Schizophrenia bulletin&lt;/journal&gt;&lt;titl...</td>\n",
       "      <td>&lt;title&gt;Can clinical practice guide a research ...</td>\n",
       "    </tr>\n",
       "    <tr>\n",
       "      <th>2</th>\n",
       "      <td>28832188</td>\n",
       "      <td>Future medicinal chemistry</td>\n",
       "      <td>Dual/multitargeted xanthone derivatives for Al...</td>\n",
       "      <td>To date, the current therapy for Alzheimer's d...</td>\n",
       "      <td>Alzheimer's disease| Aβ aggregation| anticholi...</td>\n",
       "      <td>Non-systematic-review</td>\n",
       "      <td>1</td>\n",
       "      <td>0</td>\n",
       "      <td>&lt;journal&gt;Future medicinal chemistry&lt;/journal&gt;&lt;...</td>\n",
       "      <td>&lt;title&gt;Dual/multitargeted xanthone derivatives...</td>\n",
       "    </tr>\n",
       "    <tr>\n",
       "      <th>3</th>\n",
       "      <td>17678496</td>\n",
       "      <td>Expert review of neurotherapeutics</td>\n",
       "      <td>Benefits of occupational therapy in stroke reh...</td>\n",
       "      <td>Stroke is the largest single cause of severe p...</td>\n",
       "      <td>NaN</td>\n",
       "      <td>Non-systematic-review</td>\n",
       "      <td>1</td>\n",
       "      <td>0</td>\n",
       "      <td>&lt;journal&gt;Expert review of neurotherapeutics&lt;/j...</td>\n",
       "      <td>&lt;title&gt;Benefits of occupational therapy in str...</td>\n",
       "    </tr>\n",
       "    <tr>\n",
       "      <th>4</th>\n",
       "      <td>25649308</td>\n",
       "      <td>Annals of the New York Academy of Sciences</td>\n",
       "      <td>The promise of ketamine for treatment-resistan...</td>\n",
       "      <td>Major depressive disorder (MDD) is one of the ...</td>\n",
       "      <td>antidepressant| bipolar disorder| ketamine| ma...</td>\n",
       "      <td>Non-systematic-review</td>\n",
       "      <td>1</td>\n",
       "      <td>0</td>\n",
       "      <td>&lt;journal&gt;Annals of the New York Academy of Sci...</td>\n",
       "      <td>&lt;title&gt;The promise of ketamine for treatment-r...</td>\n",
       "    </tr>\n",
       "    <tr>\n",
       "      <th>5</th>\n",
       "      <td>6312596</td>\n",
       "      <td>La semaine des hopitaux : organe fonde par l'A...</td>\n",
       "      <td>[Clinical and pathogenic aspects of secondary ...</td>\n",
       "      <td>The secondary hyperlipoproteinemias are freque...</td>\n",
       "      <td>NaN</td>\n",
       "      <td>Non-systematic-review</td>\n",
       "      <td>1</td>\n",
       "      <td>0</td>\n",
       "      <td>&lt;journal&gt;La semaine des hopitaux : organe fond...</td>\n",
       "      <td>&lt;title&gt;[Clinical and pathogenic aspects of sec...</td>\n",
       "    </tr>\n",
       "  </tbody>\n",
       "</table>\n",
       "</div>"
      ],
      "text/plain": [
       "         pmid                                       journal_name  \\\n",
       "idx                                                                \n",
       "1    12047012                             Schizophrenia bulletin   \n",
       "2    28832188                         Future medicinal chemistry   \n",
       "3    17678496                 Expert review of neurotherapeutics   \n",
       "4    25649308         Annals of the New York Academy of Sciences   \n",
       "5     6312596  La semaine des hopitaux : organe fonde par l'A...   \n",
       "\n",
       "                                                 title  \\\n",
       "idx                                                      \n",
       "1       Can clinical practice guide a research agenda?   \n",
       "2    Dual/multitargeted xanthone derivatives for Al...   \n",
       "3    Benefits of occupational therapy in stroke reh...   \n",
       "4    The promise of ketamine for treatment-resistan...   \n",
       "5    [Clinical and pathogenic aspects of secondary ...   \n",
       "\n",
       "                                              abstract  \\\n",
       "idx                                                      \n",
       "1    Articles from this issue of the Bulletin indic...   \n",
       "2    To date, the current therapy for Alzheimer's d...   \n",
       "3    Stroke is the largest single cause of severe p...   \n",
       "4    Major depressive disorder (MDD) is one of the ...   \n",
       "5    The secondary hyperlipoproteinemias are freque...   \n",
       "\n",
       "                                              keywords         accepted_label  \\\n",
       "idx                                                                             \n",
       "1                                                  NaN  Non-systematic-review   \n",
       "2    Alzheimer's disease| Aβ aggregation| anticholi...  Non-systematic-review   \n",
       "3                                                  NaN  Non-systematic-review   \n",
       "4    antidepressant| bipolar disorder| ketamine| ma...  Non-systematic-review   \n",
       "5                                                  NaN  Non-systematic-review   \n",
       "\n",
       "     multi_label  binary_label  \\\n",
       "idx                              \n",
       "1              1             0   \n",
       "2              1             0   \n",
       "3              1             0   \n",
       "4              1             0   \n",
       "5              1             0   \n",
       "\n",
       "                          input_journal_title_abstract  \\\n",
       "idx                                                      \n",
       "1    <journal>Schizophrenia bulletin</journal><titl...   \n",
       "2    <journal>Future medicinal chemistry</journal><...   \n",
       "3    <journal>Expert review of neurotherapeutics</j...   \n",
       "4    <journal>Annals of the New York Academy of Sci...   \n",
       "5    <journal>La semaine des hopitaux : organe fond...   \n",
       "\n",
       "                                  input_title_abstract  \n",
       "idx                                                     \n",
       "1    <title>Can clinical practice guide a research ...  \n",
       "2    <title>Dual/multitargeted xanthone derivatives...  \n",
       "3    <title>Benefits of occupational therapy in str...  \n",
       "4    <title>The promise of ketamine for treatment-r...  \n",
       "5    <title>[Clinical and pathogenic aspects of sec...  "
      ]
     },
     "execution_count": 15,
     "metadata": {},
     "output_type": "execute_result"
    }
   ],
   "source": [
    "# copy the original dataframe\n",
    "df_for_binary = df.copy()\n",
    "\n",
    "# sample to to test and as demo\n",
    "#sampled_df = df_for_binary.sample(n=50, random_state=1)\n",
    "#sampled_df.head()\n",
    "\n",
    "df_for_binary.head() #shows first few lines of df_for_binary"
   ]
  },
  {
   "cell_type": "code",
   "execution_count": 16,
   "id": "9db5a40f-acb4-4a79-b192-b69eea1507bb",
   "metadata": {},
   "outputs": [],
   "source": [
    "model = \"gpt-3.5-turbo\""
   ]
  },
  {
   "cell_type": "code",
   "execution_count": null,
   "id": "3c641aa2-d93b-4f6e-a481-c21f07e49e57",
   "metadata": {},
   "outputs": [],
   "source": [
    "json_file_path = \"./prompt_strategies_binary_shirin.json\"\n",
    "# Load the JSON file\n",
    "\n",
    "with open(json_file_path, 'r') as file:\n",
    "    prompts_data = json.load(file)"
   ]
  },
  {
   "cell_type": "markdown",
   "id": "4b1290d1-8bd6-420f-95d8-6cc9abf8bda5",
   "metadata": {},
   "source": [
    "# Hierarchical: Read binary and further classify"
   ]
  },
  {
   "cell_type": "code",
   "execution_count": null,
   "id": "14b696d5-9f50-470b-948b-e385c3701cf5",
   "metadata": {},
   "outputs": [],
   "source": [
    "# Parameters to select Binary Predictions file\n",
    "prompt_ids_to_eval = [\"P1\"] #, \"P2\", \"P3\", \"P4\"\n",
    "model = \"gpt-3.5-turbo\"\n",
    "\n",
    "# The predictions based on which prompt to use\n",
    "prompt_id_to_use_for_binary = [\"P1\"]"
   ]
  },
  {
   "cell_type": "code",
   "execution_count": null,
   "id": "10e0f013-1d94-4098-9259-de83930322c2",
   "metadata": {},
   "outputs": [],
   "source": [
    "# Create the list of prediction columns based on the prompt IDs\n",
    "prediction_columns = [f'gpt_predictions_{prompt_id_to_use_for_binary}']\n",
    "# Specify the basic columns to include in the DataFrame\n",
    "basic_columns = ['pmid', 'input_journal_title_abstract', 'accepted_label', 'multi_label', 'binary_label']\n",
    "# Combine basic columns with the dynamically generated prediction columns\n",
    "columns_to_read = basic_columns + prediction_columns"
   ]
  },
  {
   "cell_type": "code",
   "execution_count": null,
   "id": "f865da83-7343-4cb2-a9f0-1bd0dd95f801",
   "metadata": {},
   "outputs": [],
   "source": [
    "target_file_for_eval = f\"predictions/{model}_enriched_kw_test_outputs_{'_'.join(prompt_ids_to_eval)}_binary.csv\"\n",
    "#target_file_for_eval = f\"predictions/{model}_enriched_test_outputs_{'_'.join(prompt_ids_to_eval)}_binary.csv\"\n",
    "df_binary = pd.read_csv(target_file_for_eval)[columns_to_read]\n",
    "col_name_binary = f'{prediction_columns[0]}_binary'\n",
    "df_binary.rename(columns={prediction_columns[0]: col_name_binary}, inplace=True)\n"
   ]
  },
  {
   "cell_type": "code",
   "execution_count": null,
   "id": "00007d50-aee1-4dce-be3a-9f851c412abf",
   "metadata": {},
   "outputs": [],
   "source": [
    "df_binary.head()"
   ]
  },
  {
   "cell_type": "code",
   "execution_count": null,
   "id": "ca3a8d1a-be1b-4c79-8b34-21f7bc9e085e",
   "metadata": {},
   "outputs": [],
   "source": [
    "prediction_columns"
   ]
  },
  {
   "cell_type": "markdown",
   "id": "d70563a4-0f05-4903-ad8f-9d7ed0053ae7",
   "metadata": {},
   "source": [
    "## Further classify studies depending on binary"
   ]
  },
  {
   "cell_type": "code",
   "execution_count": null,
   "id": "92c9e84a-e272-4181-b613-617bb8e9f08d",
   "metadata": {},
   "outputs": [],
   "source": [
    "df_animal = df_binary[df_binary[col_name_binary] == 'ANIMAL'] \n",
    "df_animal.head()"
   ]
  },
  {
   "cell_type": "code",
   "execution_count": null,
   "id": "e55478b2-50e4-4c5f-8e9e-953a6407a4ad",
   "metadata": {},
   "outputs": [],
   "source": [
    "df_other = df_binary[df_binary[col_name_binary] == 'OTHER'] \n",
    "df_other.head()"
   ]
  },
  {
   "cell_type": "code",
   "execution_count": null,
   "id": "72ef0e42-e5d7-4668-a8ff-584a4b3a89bc",
   "metadata": {},
   "outputs": [],
   "source": [
    "json_file_path = \"./prompt_strategies_hierarchical_shirin.json\"\n",
    "# Load the JSON file\n",
    "with open(json_file_path, 'r') as file:\n",
    "    prompts_data = json.load(file)"
   ]
  },
  {
   "cell_type": "code",
   "execution_count": null,
   "id": "b39a2e86-449d-4cd6-bedf-6620c06abf5f",
   "metadata": {
    "scrolled": true
   },
   "outputs": [],
   "source": [
    "# Add the IDs of Prompts that you want to test\n",
    "prompt_ids_to_test = [\"P1_HIERARCHY\", \"P2_HIERARCHY\"] #, \"P2\", \"P3\", \"P4\"\n",
    "model = \"gpt-3.5-turbo\"\n",
    "\n",
    "# PROCESS ANIMAL\n",
    "\n",
    "for prompt in prompts_data[\"prompts\"]:\n",
    "    prompt_id = prompt[\"id\"]\n",
    "    prompt_text = prompt[\"text_animal\"]\n",
    "\n",
    "    if prompt_id in prompt_ids_to_test:\n",
    "        # Apply GPT predictions\n",
    "        df_animal[f'gpt_predictions_{prompt_id}_raw'] = apply_gpt_with_progress(df_animal['input_journal_title_abstract'], prompt_text, model)\n",
    "        ## the below includes error handling in case the json formatting did not work as expected\n",
    "        df_animal[f'gpt_predictions_{prompt_id}'] = df_animal[f'gpt_predictions_{prompt_id}_raw'].apply(\n",
    "            lambda x: json.loads(x)['gpt_label'] if isinstance(x, str) and 'gpt_label' in json.loads(x) else x\n",
    "        )\n",
    "        #sampled_df.to_csv(f\"predictions/{model}_outputs_{'_'.join(prompt_ids_to_test)}_{file_to_save_suffix}.csv\") # saving after each prompt strategy has been run, in order not to loose information in case a later strategy fails\n",
    "    else:\n",
    "        print(f\"Skipping prompt {prompt_id}\")\n",
    "\n",
    "# PROCESS OTHER\n",
    "\n",
    "for prompt in prompts_data[\"prompts\"]:\n",
    "    prompt_id = prompt[\"id\"]\n",
    "    prompt_text = prompt[\"text_other\"]\n",
    "\n",
    "    if prompt_id in prompt_ids_to_test:\n",
    "        # Apply GPT predictions\n",
    "        df_other[f'gpt_predictions_{prompt_id}_raw'] = apply_gpt_with_progress(df_other['input_journal_title_abstract'], prompt_text, model)\n",
    "        ## the below includes error handling in case the json formatting did not work as expected\n",
    "        df_other[f'gpt_predictions_{prompt_id}'] = df_other[f'gpt_predictions_{prompt_id}_raw'].apply(\n",
    "            lambda x: json.loads(x)['gpt_label'] if isinstance(x, str) and 'gpt_label' in json.loads(x) else x\n",
    "        )\n",
    "        #sampled_df.to_csv(f\"predictions/{model}_outputs_{'_'.join(prompt_ids_to_test)}_{file_to_save_suffix}.csv\") # saving after each prompt strategy has been run, in order not to loose information in case a later strategy fails\n",
    "    else:\n",
    "        print(f\"Skipping prompt {prompt_id}\")"
   ]
  },
  {
   "cell_type": "code",
   "execution_count": null,
   "id": "f4dd4549-c6b6-48e4-bc23-8b3dfc3b577b",
   "metadata": {},
   "outputs": [],
   "source": [
    "df_animal.head()"
   ]
  },
  {
   "cell_type": "code",
   "execution_count": null,
   "id": "757aa889-e05c-4cfc-80e4-dd9d583ef5c9",
   "metadata": {},
   "outputs": [],
   "source": [
    "df_other.head()"
   ]
  },
  {
   "cell_type": "code",
   "execution_count": null,
   "id": "2dd0f3df-6be0-4ca3-bd54-2e71ac77a5d9",
   "metadata": {},
   "outputs": [],
   "source": [
    "appended_df = pd.concat([df_animal, df_other], ignore_index=True)\n",
    "appended_df.shape"
   ]
  },
  {
   "cell_type": "code",
   "execution_count": null,
   "id": "819243b4-d98b-43b6-9a55-4264209c52a6",
   "metadata": {},
   "outputs": [],
   "source": [
    "appended_df.head()"
   ]
  },
  {
   "cell_type": "code",
   "execution_count": null,
   "id": "1c061520-0cbd-4b26-a905-19f9045f9385",
   "metadata": {},
   "outputs": [],
   "source": [
    "file_to_save_suffix = \"hierarchical\"\n",
    "\n",
    "appended_df.to_csv(f\"predictions/{model}_enriched_kw_test_outputs_{'_'.join(prompt_ids_to_test)}_{file_to_save_suffix}.csv\") # saving after each prompt strategy has been run, in order not to loose information in case a later strategy fails\n",
    "appended_df.to_csv(f\"predictions/{model}_enriched_test_outputs_{'_'.join(prompt_ids_to_test)}_{file_to_save_suffix}.csv\") # saving after each prompt strategy has been run, in order not to loose information in case a later strategy fails"
   ]
  },
  {
   "cell_type": "code",
   "execution_count": null,
   "id": "346d8420-c145-41e6-a20b-ec68f17e2959",
   "metadata": {},
   "outputs": [],
   "source": []
  }
 ],
 "metadata": {
  "kernelspec": {
   "display_name": "Python 3 (ipykernel)",
   "language": "python",
   "name": "python3"
  },
  "language_info": {
   "codemirror_mode": {
    "name": "ipython",
    "version": 3
   },
   "file_extension": ".py",
   "mimetype": "text/x-python",
   "name": "python",
   "nbconvert_exporter": "python",
   "pygments_lexer": "ipython3",
   "version": "3.12.0"
  }
 },
 "nbformat": 4,
 "nbformat_minor": 5
}
