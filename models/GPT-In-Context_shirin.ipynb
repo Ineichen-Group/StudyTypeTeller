{
 "cells": [
  {
   "cell_type": "code",
   "execution_count": 1,
   "id": "87691ed9-45e2-48ac-a48b-592773cba608",
   "metadata": {},
   "outputs": [],
   "source": [
    "import torch\n",
    "import numpy as np\n",
    "from pathlib import Path\n",
    "\n",
    "from sklearn.metrics.pairwise import pairwise_distances\n",
    "from sklearn.metrics import pairwise\n",
    "import pandas as pd\n",
    "from openai import OpenAI\n",
    "import openai\n",
    "\n",
    "from sklearn.metrics import accuracy_score, classification_report, balanced_accuracy_score\n",
    "from sklearn.metrics import balanced_accuracy_score\n",
    "\n",
    "import random"
   ]
  },
  {
   "cell_type": "code",
   "execution_count": 2,
   "id": "bb91fd8e-52bf-4dc6-bf49-c7021ae94357",
   "metadata": {},
   "outputs": [],
   "source": [
    "embeddings_data_path = Path(\"../data/embeddings/\")\n",
    "input_data_path = Path(\"../data/data_splits_stratified/6-2-2_all_classes_enriched_with_kw\")"
   ]
  },
  {
   "cell_type": "markdown",
   "id": "3b127ebd-a9f3-4a6c-b768-3bb59b524a7d",
   "metadata": {},
   "source": [
    "## Load Embeddings and Calculate Similarities"
   ]
  },
  {
   "cell_type": "markdown",
   "id": "0b71d418-53d7-4a0a-9b45-b0f87b4ce97f",
   "metadata": {},
   "source": [
    "### Load \n",
    "-> each row represents the text from one sample embedded into a 768-demnsional vector"
   ]
  },
  {
   "cell_type": "code",
   "execution_count": 3,
   "id": "8fe85add-9d56-4343-9213-d815c2167b82",
   "metadata": {},
   "outputs": [],
   "source": [
    "embeddings_train = np.load(\n",
    "    embeddings_data_path / \"embeddings_microsoft_BiomedNLP-PubMedBERT-base-uncased-abstract-fulltext_train_ds.npy\"\n",
    ")\n",
    "embeddings_test = np.load(\n",
    "    embeddings_data_path / \"embeddings_microsoft_BiomedNLP-PubMedBERT-base-uncased-abstract-fulltext_test_ds.npy\"\n",
    ")"
   ]
  },
  {
   "cell_type": "code",
   "execution_count": 4,
   "id": "5566771e-fd87-412d-a2f0-46e624f3df4c",
   "metadata": {},
   "outputs": [
    {
     "data": {
      "text/plain": [
       "(1191, 768)"
      ]
     },
     "execution_count": 4,
     "metadata": {},
     "output_type": "execute_result"
    }
   ],
   "source": [
    "embeddings_train.shape"
   ]
  },
  {
   "cell_type": "code",
   "execution_count": 5,
   "id": "36822e6a-fdbc-4bb3-bfa8-66462c6dab31",
   "metadata": {},
   "outputs": [
    {
     "data": {
      "text/plain": [
       "(404, 768)"
      ]
     },
     "execution_count": 5,
     "metadata": {},
     "output_type": "execute_result"
    }
   ],
   "source": [
    "embeddings_test.shape"
   ]
  },
  {
   "cell_type": "markdown",
   "id": "2e35fa86-de31-4708-a0f4-ac95ba1831be",
   "metadata": {},
   "source": [
    "### Compute similarity between test dataset elements to all train elements\n"
   ]
  },
  {
   "cell_type": "code",
   "execution_count": 6,
   "id": "d059aad4-0a35-4e08-b03b-6c79660f10ab",
   "metadata": {},
   "outputs": [
    {
     "data": {
      "text/plain": [
       "(404, 1191)"
      ]
     },
     "execution_count": 6,
     "metadata": {},
     "output_type": "execute_result"
    }
   ],
   "source": [
    "dist_matrix = pairwise_distances(embeddings_test, embeddings_train, metric='sqeuclidean')\n",
    "dist_matrix.shape"
   ]
  },
  {
   "cell_type": "code",
   "execution_count": 7,
   "id": "b878fa42-0d3c-44ee-a2f1-e0d2b7edaf7f",
   "metadata": {},
   "outputs": [
    {
     "data": {
      "text/plain": [
       "(404, 1191)"
      ]
     },
     "execution_count": 7,
     "metadata": {},
     "output_type": "execute_result"
    }
   ],
   "source": [
    "dist_matrix_cosine = pairwise.cosine_similarity(X=embeddings_test, Y=embeddings_train)\n",
    "dist_matrix.shape"
   ]
  },
  {
   "cell_type": "markdown",
   "id": "069776ed-df11-4df0-88c1-22551e65770d",
   "metadata": {},
   "source": [
    "The matrix has the dimensions 404 (test data elements) x 1191 (train data elements). Each of the 1191 values per test row is the similarity score between the test element to the train elements."
   ]
  },
  {
   "cell_type": "code",
   "execution_count": 8,
   "id": "3a1450ee-4ad6-4240-b539-e3704cdd9921",
   "metadata": {},
   "outputs": [
    {
     "data": {
      "text/plain": [
       "array([[0.98506499, 0.98830865, 0.98870777, ..., 0.98741564, 0.98696952,\n",
       "        0.98295794],\n",
       "       [0.99007619, 0.99129481, 0.9916276 , ..., 0.99085124, 0.99138424,\n",
       "        0.98798618],\n",
       "       [0.98900018, 0.99066293, 0.9915621 , ..., 0.98766824, 0.99073964,\n",
       "        0.98834762],\n",
       "       ...,\n",
       "       [0.98882802, 0.9873871 , 0.98857115, ..., 0.9928928 , 0.98869445,\n",
       "        0.98763254],\n",
       "       [0.98709908, 0.987791  , 0.9864768 , ..., 0.9930578 , 0.98749872,\n",
       "        0.98896695],\n",
       "       [0.98904398, 0.98862152, 0.98700841, ..., 0.9863798 , 0.99105832,\n",
       "        0.99154065]])"
      ]
     },
     "execution_count": 8,
     "metadata": {},
     "output_type": "execute_result"
    }
   ],
   "source": [
    "dist_matrix_cosine"
   ]
  },
  {
   "cell_type": "markdown",
   "id": "18626bf4-dd42-4931-8add-bcb419b4021d",
   "metadata": {},
   "source": [
    "### Find closest neighbours from the train dataset to each test example"
   ]
  },
  {
   "cell_type": "code",
   "execution_count": 9,
   "id": "55a8c0be-e671-4192-87f2-fdff8d2855d2",
   "metadata": {},
   "outputs": [],
   "source": [
    "values, indices = torch.topk(-torch.from_numpy(dist_matrix_cosine), k=3, dim=-1)"
   ]
  },
  {
   "cell_type": "code",
   "execution_count": 10,
   "id": "e553bc67-1fbc-4ec7-b6b6-37b70ac78fe6",
   "metadata": {},
   "outputs": [
    {
     "data": {
      "text/plain": [
       "torch.Size([404, 3])"
      ]
     },
     "execution_count": 10,
     "metadata": {},
     "output_type": "execute_result"
    }
   ],
   "source": [
    "indices.shape"
   ]
  },
  {
   "cell_type": "markdown",
   "id": "a7a4190b-4ee2-4971-a9ce-4c63ce49f68f",
   "metadata": {},
   "source": [
    "The indices have the dimension 404 (test data elements) x 3 (top k=3 closest train data elements)."
   ]
  },
  {
   "cell_type": "code",
   "execution_count": 11,
   "id": "ef76c1a3-c30c-4661-8c93-a3e40d882c36",
   "metadata": {},
   "outputs": [
    {
     "data": {
      "text/plain": [
       "tensor([[ 128, 1032,  413],\n",
       "        [ 128, 1032,  413],\n",
       "        [ 128,  413, 1032],\n",
       "        ...,\n",
       "        [ 128,   11, 1032],\n",
       "        [  11,  128,  356],\n",
       "        [ 128,  356, 1032]])"
      ]
     },
     "execution_count": 11,
     "metadata": {},
     "output_type": "execute_result"
    }
   ],
   "source": [
    "indices"
   ]
  },
  {
   "cell_type": "code",
   "execution_count": 12,
   "id": "feb714c0-8c4d-4b80-8556-f0dd42276ba4",
   "metadata": {},
   "outputs": [],
   "source": [
    "df_train = pd.read_csv(input_data_path/ 'train.csv')\n",
    "df_test = pd.read_csv(input_data_path/ 'test.csv')\n"
   ]
  },
  {
   "cell_type": "code",
   "execution_count": 13,
   "id": "3d7080ab-0eb0-425f-bf03-b5471192f542",
   "metadata": {},
   "outputs": [
    {
     "data": {
      "text/html": [
       "<div>\n",
       "<style scoped>\n",
       "    .dataframe tbody tr th:only-of-type {\n",
       "        vertical-align: middle;\n",
       "    }\n",
       "\n",
       "    .dataframe tbody tr th {\n",
       "        vertical-align: top;\n",
       "    }\n",
       "\n",
       "    .dataframe thead th {\n",
       "        text-align: right;\n",
       "    }\n",
       "</style>\n",
       "<table border=\"1\" class=\"dataframe\">\n",
       "  <thead>\n",
       "    <tr style=\"text-align: right;\">\n",
       "      <th></th>\n",
       "      <th>idx</th>\n",
       "      <th>pmid</th>\n",
       "      <th>journal_name</th>\n",
       "      <th>title</th>\n",
       "      <th>abstract</th>\n",
       "      <th>keywords</th>\n",
       "      <th>accepted_label</th>\n",
       "      <th>multi_label</th>\n",
       "      <th>binary_label</th>\n",
       "    </tr>\n",
       "  </thead>\n",
       "  <tbody>\n",
       "    <tr>\n",
       "      <th>265</th>\n",
       "      <td>266</td>\n",
       "      <td>24036210</td>\n",
       "      <td>Cellular signalling</td>\n",
       "      <td>Homer1 knockdown protects dopamine neurons thr...</td>\n",
       "      <td>Homer1 protein is an important scaffold protei...</td>\n",
       "      <td>Calcium channel| Endoplasmic reticulum| Homer|...</td>\n",
       "      <td>In-vitro-study</td>\n",
       "      <td>8</td>\n",
       "      <td>0</td>\n",
       "    </tr>\n",
       "    <tr>\n",
       "      <th>266</th>\n",
       "      <td>267</td>\n",
       "      <td>31852295</td>\n",
       "      <td>Artificial cells, nanomedicine, and biotechnology</td>\n",
       "      <td>Fyn gene silencing reduces oligodendrocytes ap...</td>\n",
       "      <td>This study aimed to investigate the effect of ...</td>\n",
       "      <td>ERK1/2| Epilepsy| Fyn| apoptosis| gene silenci...</td>\n",
       "      <td>In-vitro-study</td>\n",
       "      <td>8</td>\n",
       "      <td>0</td>\n",
       "    </tr>\n",
       "    <tr>\n",
       "      <th>267</th>\n",
       "      <td>268</td>\n",
       "      <td>14655759</td>\n",
       "      <td>Brain pathology (Zurich, Switzerland)</td>\n",
       "      <td>TRAIL triggers apoptosis in human malignant gl...</td>\n",
       "      <td>Many malignant glioma cells express death rece...</td>\n",
       "      <td>NaN</td>\n",
       "      <td>In-vitro-study</td>\n",
       "      <td>8</td>\n",
       "      <td>0</td>\n",
       "    </tr>\n",
       "    <tr>\n",
       "      <th>268</th>\n",
       "      <td>269</td>\n",
       "      <td>1720637</td>\n",
       "      <td>No to shinkei = Brain and nerve</td>\n",
       "      <td>[Immunohistochemical study of glial cytoplasmi...</td>\n",
       "      <td>Recently, glial cytoplasmic inclusion (GCI) ha...</td>\n",
       "      <td>NaN</td>\n",
       "      <td>In-vitro-study</td>\n",
       "      <td>8</td>\n",
       "      <td>0</td>\n",
       "    </tr>\n",
       "    <tr>\n",
       "      <th>269</th>\n",
       "      <td>270</td>\n",
       "      <td>34477946</td>\n",
       "      <td>Journal of cancer research and clinical oncology</td>\n",
       "      <td>Selective induction of rapid cytotoxic effect ...</td>\n",
       "      <td>PURPOSE: The mechanisms underlying anticancer ...</td>\n",
       "      <td>Brain tumor| Cell culture| Noninvasive treatme...</td>\n",
       "      <td>In-vitro-study</td>\n",
       "      <td>8</td>\n",
       "      <td>0</td>\n",
       "    </tr>\n",
       "    <tr>\n",
       "      <th>270</th>\n",
       "      <td>271</td>\n",
       "      <td>28923314</td>\n",
       "      <td>Journal of virological methods</td>\n",
       "      <td>A simple method for isolation of cell-associat...</td>\n",
       "      <td>A common method for cell-associated virus isol...</td>\n",
       "      <td>Cell-associated virus| Cell-free extract| Infe...</td>\n",
       "      <td>In-vitro-study</td>\n",
       "      <td>8</td>\n",
       "      <td>0</td>\n",
       "    </tr>\n",
       "    <tr>\n",
       "      <th>271</th>\n",
       "      <td>272</td>\n",
       "      <td>27030558</td>\n",
       "      <td>Network (Bristol, England)</td>\n",
       "      <td>Molecular interaction studies of green tea cat...</td>\n",
       "      <td>Green tea catechins have extensively been stud...</td>\n",
       "      <td>Catechins| molecular docking| pharmacokinetic ...</td>\n",
       "      <td>In-vitro-study</td>\n",
       "      <td>8</td>\n",
       "      <td>0</td>\n",
       "    </tr>\n",
       "    <tr>\n",
       "      <th>272</th>\n",
       "      <td>273</td>\n",
       "      <td>26568330</td>\n",
       "      <td>Experimental biology and medicine (Maywood, N.J.)</td>\n",
       "      <td>Penetration and intracellular uptake of poly(g...</td>\n",
       "      <td>Nanoparticle (NP) drug delivery systems may po...</td>\n",
       "      <td>Bionanoscience| brain| polymer nanoparticles| ...</td>\n",
       "      <td>In-vitro-study</td>\n",
       "      <td>8</td>\n",
       "      <td>0</td>\n",
       "    </tr>\n",
       "    <tr>\n",
       "      <th>273</th>\n",
       "      <td>274</td>\n",
       "      <td>23926278</td>\n",
       "      <td>Journal of neurology, neurosurgery, and psychi...</td>\n",
       "      <td>Sera from patients with multifocal motor neuro...</td>\n",
       "      <td>In multifocal motor neuropathy (MMN), the dest...</td>\n",
       "      <td>BLOOD-BRAIN BARRIER| IMMUNOLOGY| NEUROCHEMISTR...</td>\n",
       "      <td>In-vitro-study</td>\n",
       "      <td>8</td>\n",
       "      <td>0</td>\n",
       "    </tr>\n",
       "    <tr>\n",
       "      <th>274</th>\n",
       "      <td>275</td>\n",
       "      <td>22975132</td>\n",
       "      <td>Brain research</td>\n",
       "      <td>Expression of CD200 in alternative activation ...</td>\n",
       "      <td>CD200 is a glycoprotein that is expressed on t...</td>\n",
       "      <td>NaN</td>\n",
       "      <td>In-vitro-study</td>\n",
       "      <td>8</td>\n",
       "      <td>0</td>\n",
       "    </tr>\n",
       "    <tr>\n",
       "      <th>275</th>\n",
       "      <td>276</td>\n",
       "      <td>19630956</td>\n",
       "      <td>Molecular brain</td>\n",
       "      <td>Regulation of endosomal motility and degradati...</td>\n",
       "      <td>Dysfunction of alsin, particularly its putativ...</td>\n",
       "      <td>NaN</td>\n",
       "      <td>In-vitro-study</td>\n",
       "      <td>8</td>\n",
       "      <td>0</td>\n",
       "    </tr>\n",
       "    <tr>\n",
       "      <th>276</th>\n",
       "      <td>277</td>\n",
       "      <td>18375019</td>\n",
       "      <td>Neurobiology of aging</td>\n",
       "      <td>Interferon-gamma-dependent cytotoxic activatio...</td>\n",
       "      <td>Astrocytes and microglia become activated in a...</td>\n",
       "      <td>NaN</td>\n",
       "      <td>In-vitro-study</td>\n",
       "      <td>8</td>\n",
       "      <td>0</td>\n",
       "    </tr>\n",
       "    <tr>\n",
       "      <th>277</th>\n",
       "      <td>278</td>\n",
       "      <td>23386689</td>\n",
       "      <td>Clinical cancer research : an official journal...</td>\n",
       "      <td>Hepatocyte growth factor sensitizes brain tumo...</td>\n",
       "      <td>The receptor tyrosine kinase (RTK) c-MET and i...</td>\n",
       "      <td>NaN</td>\n",
       "      <td>In-vitro-study</td>\n",
       "      <td>8</td>\n",
       "      <td>0</td>\n",
       "    </tr>\n",
       "    <tr>\n",
       "      <th>278</th>\n",
       "      <td>279</td>\n",
       "      <td>22420547</td>\n",
       "      <td>Medicinal chemistry (Shariqah (United Arab Emi...</td>\n",
       "      <td>Cytotoxic effects of chemotherapeutic drugs an...</td>\n",
       "      <td>Neuroepithelial tumor cells were cultured in v...</td>\n",
       "      <td>NaN</td>\n",
       "      <td>In-vitro-study</td>\n",
       "      <td>8</td>\n",
       "      <td>0</td>\n",
       "    </tr>\n",
       "    <tr>\n",
       "      <th>279</th>\n",
       "      <td>280</td>\n",
       "      <td>8544909</td>\n",
       "      <td>Neurobiology of aging</td>\n",
       "      <td>Constitutive Alzheimer's-type tau epitopes in ...</td>\n",
       "      <td>Paired helical filaments (PHFs) of Alzheimer's...</td>\n",
       "      <td>NaN</td>\n",
       "      <td>In-vitro-study</td>\n",
       "      <td>8</td>\n",
       "      <td>0</td>\n",
       "    </tr>\n",
       "    <tr>\n",
       "      <th>280</th>\n",
       "      <td>281</td>\n",
       "      <td>19222703</td>\n",
       "      <td>Journal of neurochemistry</td>\n",
       "      <td>In vitro glutaminase regulation and mechanisms...</td>\n",
       "      <td>Mononuclear phagocyte (MP, macrophages and mic...</td>\n",
       "      <td>NaN</td>\n",
       "      <td>In-vitro-study</td>\n",
       "      <td>8</td>\n",
       "      <td>0</td>\n",
       "    </tr>\n",
       "    <tr>\n",
       "      <th>281</th>\n",
       "      <td>282</td>\n",
       "      <td>23047912</td>\n",
       "      <td>Toxicological sciences : an official journal o...</td>\n",
       "      <td>L-BMAA induced ER stress and enhanced caspase ...</td>\n",
       "      <td>The cyanobacterial β-N-methylamino-L-alanine (...</td>\n",
       "      <td>NaN</td>\n",
       "      <td>In-vitro-study</td>\n",
       "      <td>8</td>\n",
       "      <td>0</td>\n",
       "    </tr>\n",
       "    <tr>\n",
       "      <th>282</th>\n",
       "      <td>283</td>\n",
       "      <td>11775071</td>\n",
       "      <td>Cellular and molecular neurobiology</td>\n",
       "      <td>Establishment and partial characterization of ...</td>\n",
       "      <td>1. A human glioma cell line, NG97, was establi...</td>\n",
       "      <td>NaN</td>\n",
       "      <td>In-vitro-study</td>\n",
       "      <td>8</td>\n",
       "      <td>0</td>\n",
       "    </tr>\n",
       "    <tr>\n",
       "      <th>283</th>\n",
       "      <td>284</td>\n",
       "      <td>11494030</td>\n",
       "      <td>International journal of oncology</td>\n",
       "      <td>Elevated levels of cathepsin B in human gliobl...</td>\n",
       "      <td>Degradation of the extracellular matrix is a p...</td>\n",
       "      <td>NaN</td>\n",
       "      <td>In-vitro-study</td>\n",
       "      <td>8</td>\n",
       "      <td>0</td>\n",
       "    </tr>\n",
       "    <tr>\n",
       "      <th>284</th>\n",
       "      <td>285</td>\n",
       "      <td>27983922</td>\n",
       "      <td>Oncology research</td>\n",
       "      <td>Overexpression of Protease Serine 8 Inhibits G...</td>\n",
       "      <td>Protease serine 8 (PRSS8), a serine peptidase,...</td>\n",
       "      <td>NaN</td>\n",
       "      <td>In-vitro-study</td>\n",
       "      <td>8</td>\n",
       "      <td>0</td>\n",
       "    </tr>\n",
       "    <tr>\n",
       "      <th>285</th>\n",
       "      <td>286</td>\n",
       "      <td>16332401</td>\n",
       "      <td>Neurobiology of aging</td>\n",
       "      <td>Increased cholesterol in Abeta-positive nerve ...</td>\n",
       "      <td>Synapse loss in Alzheimer's disease (AD) is po...</td>\n",
       "      <td>NaN</td>\n",
       "      <td>In-vitro-study</td>\n",
       "      <td>8</td>\n",
       "      <td>0</td>\n",
       "    </tr>\n",
       "  </tbody>\n",
       "</table>\n",
       "</div>"
      ],
      "text/plain": [
       "     idx      pmid                                       journal_name  \\\n",
       "265  266  24036210                                Cellular signalling   \n",
       "266  267  31852295  Artificial cells, nanomedicine, and biotechnology   \n",
       "267  268  14655759              Brain pathology (Zurich, Switzerland)   \n",
       "268  269   1720637                    No to shinkei = Brain and nerve   \n",
       "269  270  34477946   Journal of cancer research and clinical oncology   \n",
       "270  271  28923314                     Journal of virological methods   \n",
       "271  272  27030558                         Network (Bristol, England)   \n",
       "272  273  26568330  Experimental biology and medicine (Maywood, N.J.)   \n",
       "273  274  23926278  Journal of neurology, neurosurgery, and psychi...   \n",
       "274  275  22975132                                     Brain research   \n",
       "275  276  19630956                                    Molecular brain   \n",
       "276  277  18375019                              Neurobiology of aging   \n",
       "277  278  23386689  Clinical cancer research : an official journal...   \n",
       "278  279  22420547  Medicinal chemistry (Shariqah (United Arab Emi...   \n",
       "279  280   8544909                              Neurobiology of aging   \n",
       "280  281  19222703                          Journal of neurochemistry   \n",
       "281  282  23047912  Toxicological sciences : an official journal o...   \n",
       "282  283  11775071                Cellular and molecular neurobiology   \n",
       "283  284  11494030                  International journal of oncology   \n",
       "284  285  27983922                                  Oncology research   \n",
       "285  286  16332401                              Neurobiology of aging   \n",
       "\n",
       "                                                 title  \\\n",
       "265  Homer1 knockdown protects dopamine neurons thr...   \n",
       "266  Fyn gene silencing reduces oligodendrocytes ap...   \n",
       "267  TRAIL triggers apoptosis in human malignant gl...   \n",
       "268  [Immunohistochemical study of glial cytoplasmi...   \n",
       "269  Selective induction of rapid cytotoxic effect ...   \n",
       "270  A simple method for isolation of cell-associat...   \n",
       "271  Molecular interaction studies of green tea cat...   \n",
       "272  Penetration and intracellular uptake of poly(g...   \n",
       "273  Sera from patients with multifocal motor neuro...   \n",
       "274  Expression of CD200 in alternative activation ...   \n",
       "275  Regulation of endosomal motility and degradati...   \n",
       "276  Interferon-gamma-dependent cytotoxic activatio...   \n",
       "277  Hepatocyte growth factor sensitizes brain tumo...   \n",
       "278  Cytotoxic effects of chemotherapeutic drugs an...   \n",
       "279  Constitutive Alzheimer's-type tau epitopes in ...   \n",
       "280  In vitro glutaminase regulation and mechanisms...   \n",
       "281  L-BMAA induced ER stress and enhanced caspase ...   \n",
       "282  Establishment and partial characterization of ...   \n",
       "283  Elevated levels of cathepsin B in human gliobl...   \n",
       "284  Overexpression of Protease Serine 8 Inhibits G...   \n",
       "285  Increased cholesterol in Abeta-positive nerve ...   \n",
       "\n",
       "                                              abstract  \\\n",
       "265  Homer1 protein is an important scaffold protei...   \n",
       "266  This study aimed to investigate the effect of ...   \n",
       "267  Many malignant glioma cells express death rece...   \n",
       "268  Recently, glial cytoplasmic inclusion (GCI) ha...   \n",
       "269  PURPOSE: The mechanisms underlying anticancer ...   \n",
       "270  A common method for cell-associated virus isol...   \n",
       "271  Green tea catechins have extensively been stud...   \n",
       "272  Nanoparticle (NP) drug delivery systems may po...   \n",
       "273  In multifocal motor neuropathy (MMN), the dest...   \n",
       "274  CD200 is a glycoprotein that is expressed on t...   \n",
       "275  Dysfunction of alsin, particularly its putativ...   \n",
       "276  Astrocytes and microglia become activated in a...   \n",
       "277  The receptor tyrosine kinase (RTK) c-MET and i...   \n",
       "278  Neuroepithelial tumor cells were cultured in v...   \n",
       "279  Paired helical filaments (PHFs) of Alzheimer's...   \n",
       "280  Mononuclear phagocyte (MP, macrophages and mic...   \n",
       "281  The cyanobacterial β-N-methylamino-L-alanine (...   \n",
       "282  1. A human glioma cell line, NG97, was establi...   \n",
       "283  Degradation of the extracellular matrix is a p...   \n",
       "284  Protease serine 8 (PRSS8), a serine peptidase,...   \n",
       "285  Synapse loss in Alzheimer's disease (AD) is po...   \n",
       "\n",
       "                                              keywords  accepted_label  \\\n",
       "265  Calcium channel| Endoplasmic reticulum| Homer|...  In-vitro-study   \n",
       "266  ERK1/2| Epilepsy| Fyn| apoptosis| gene silenci...  In-vitro-study   \n",
       "267                                                NaN  In-vitro-study   \n",
       "268                                                NaN  In-vitro-study   \n",
       "269  Brain tumor| Cell culture| Noninvasive treatme...  In-vitro-study   \n",
       "270  Cell-associated virus| Cell-free extract| Infe...  In-vitro-study   \n",
       "271  Catechins| molecular docking| pharmacokinetic ...  In-vitro-study   \n",
       "272  Bionanoscience| brain| polymer nanoparticles| ...  In-vitro-study   \n",
       "273  BLOOD-BRAIN BARRIER| IMMUNOLOGY| NEUROCHEMISTR...  In-vitro-study   \n",
       "274                                                NaN  In-vitro-study   \n",
       "275                                                NaN  In-vitro-study   \n",
       "276                                                NaN  In-vitro-study   \n",
       "277                                                NaN  In-vitro-study   \n",
       "278                                                NaN  In-vitro-study   \n",
       "279                                                NaN  In-vitro-study   \n",
       "280                                                NaN  In-vitro-study   \n",
       "281                                                NaN  In-vitro-study   \n",
       "282                                                NaN  In-vitro-study   \n",
       "283                                                NaN  In-vitro-study   \n",
       "284                                                NaN  In-vitro-study   \n",
       "285                                                NaN  In-vitro-study   \n",
       "\n",
       "     multi_label  binary_label  \n",
       "265            8             0  \n",
       "266            8             0  \n",
       "267            8             0  \n",
       "268            8             0  \n",
       "269            8             0  \n",
       "270            8             0  \n",
       "271            8             0  \n",
       "272            8             0  \n",
       "273            8             0  \n",
       "274            8             0  \n",
       "275            8             0  \n",
       "276            8             0  \n",
       "277            8             0  \n",
       "278            8             0  \n",
       "279            8             0  \n",
       "280            8             0  \n",
       "281            8             0  \n",
       "282            8             0  \n",
       "283            8             0  \n",
       "284            8             0  \n",
       "285            8             0  "
      ]
     },
     "execution_count": 13,
     "metadata": {},
     "output_type": "execute_result"
    }
   ],
   "source": [
    "df_test[df_test['accepted_label'] == 'In-vitro-study']"
   ]
  },
  {
   "cell_type": "code",
   "execution_count": 14,
   "id": "f5e246dd-50e5-4e20-9122-a5d377851a72",
   "metadata": {},
   "outputs": [
    {
     "data": {
      "text/plain": [
       "idx                                                             247\n",
       "pmid                                                       37905374\n",
       "journal_name                                      Cognitive science\n",
       "title             Repeat After Me? Both Children With and Withou...\n",
       "abstract          Linguistic repetitions in children are concept...\n",
       "keywords          Autism| Echolalia| Individual differences| Lan...\n",
       "accepted_label                                            Remaining\n",
       "multi_label                                                       0\n",
       "binary_label                                                      0\n",
       "Name: 246, dtype: object"
      ]
     },
     "execution_count": 14,
     "metadata": {},
     "output_type": "execute_result"
    }
   ],
   "source": [
    "df_test.iloc[246]"
   ]
  },
  {
   "cell_type": "code",
   "execution_count": 15,
   "id": "29fc87b3-9d46-45ce-b76e-7fc4a6f653b1",
   "metadata": {},
   "outputs": [
    {
     "data": {
      "text/plain": [
       "tensor([ 128,  356, 1032])"
      ]
     },
     "execution_count": 15,
     "metadata": {},
     "output_type": "execute_result"
    }
   ],
   "source": [
    "indices[246]"
   ]
  },
  {
   "cell_type": "code",
   "execution_count": 16,
   "id": "3d817841-de89-44bb-8068-98341a39bb16",
   "metadata": {},
   "outputs": [
    {
     "data": {
      "text/plain": [
       "idx                                                            1033\n",
       "pmid                                                       21356158\n",
       "journal_name                         International psychogeriatrics\n",
       "title             Animal-assisted activity and emotional status ...\n",
       "abstract          BACKGROUND: Preliminary studies suggest benefi...\n",
       "keywords                                                        NaN\n",
       "accepted_label                  Human-non-RCT-non-drug-intervention\n",
       "multi_label                                                       2\n",
       "binary_label                                                      0\n",
       "Name: 1032, dtype: object"
      ]
     },
     "execution_count": 16,
     "metadata": {},
     "output_type": "execute_result"
    }
   ],
   "source": [
    "df_train.iloc[1032]"
   ]
  },
  {
   "cell_type": "code",
   "execution_count": 17,
   "id": "8ccc00f5-f841-4951-8d39-c733df807620",
   "metadata": {},
   "outputs": [
    {
     "data": {
      "text/plain": [
       "accepted_label\n",
       "Animal-drug-intervention                30\n",
       "Animal-non-drug-intervention            16\n",
       "Animal-other                            31\n",
       "Clinical-study-protocol                 12\n",
       "Human-RCT-drug-intervention             15\n",
       "Human-RCT-non-drug-intervention         18\n",
       "Human-RCT-non-intervention              11\n",
       "Human-case-report                       33\n",
       "Human-non-RCT-drug-intervention         36\n",
       "Human-non-RCT-non-drug-intervention     42\n",
       "Human-systematic-review                 22\n",
       "In-vitro-study                          21\n",
       "Non-systematic-review                   75\n",
       "Remaining                              172\n",
       "dtype: int64"
      ]
     },
     "execution_count": 17,
     "metadata": {},
     "output_type": "execute_result"
    }
   ],
   "source": [
    "df_test.groupby('accepted_label').size()"
   ]
  },
  {
   "cell_type": "markdown",
   "id": "3cee3048-c2c3-42c2-b411-bea8fcf78406",
   "metadata": {},
   "source": [
    "## Init OpenAI API"
   ]
  },
  {
   "cell_type": "code",
   "execution_count": 18,
   "id": "4414af75-5dc8-44d7-b346-10001db3a0b0",
   "metadata": {},
   "outputs": [],
   "source": [
    "def load_pass(file_path, key_to_find):\n",
    "    with open(file_path, 'r') as file:\n",
    "        for line in file:\n",
    "            parts = line.strip().split(\"=\")\n",
    "            if len(parts) == 2 and parts[0] == key_to_find:\n",
    "                found_password = parts[1]\n",
    "                break\n",
    "    if found_password:\n",
    "        print(\"Found password.\")\n",
    "        return found_password\n",
    "    else:\n",
    "        print(\"Password not found for key:\", key_to_find)"
   ]
  },
  {
   "cell_type": "code",
   "execution_count": 19,
   "id": "19a6554c-112c-45a6-9b54-0c33ee01597f",
   "metadata": {},
   "outputs": [
    {
     "name": "stdout",
     "output_type": "stream",
     "text": [
      "Found password.\n"
     ]
    }
   ],
   "source": [
    "openai.api_key = load_pass(\"./credentials.txt\", \"OPENAI\")\n",
    "client = OpenAI(api_key=openai.api_key)"
   ]
  },
  {
   "cell_type": "markdown",
   "id": "98d6cd2e-a6b2-46ef-9165-258325a719d8",
   "metadata": {},
   "source": [
    "## Create Prompts"
   ]
  },
  {
   "cell_type": "code",
   "execution_count": 20,
   "id": "cad7b7b4-6e05-4dfe-a7fc-3f7460f19f37",
   "metadata": {},
   "outputs": [],
   "source": [
    "df_train['input_journal_title_abstract'] = '<journal>' + df_train['journal_name'] + '</journal>' + \\\n",
    "                                         '<title>' + df_train['title'] + '</title>' + \\\n",
    "                                         '<abstract>' + df_train['abstract'] + '</abstract>'\n",
    "df_test['input_journal_title_abstract'] = '<journal>' + df_test['journal_name'] + '</journal>' + \\\n",
    "                                         '<title>' + df_test['title'] + '</title>' + \\\n",
    "                                         '<abstract>' + df_test['abstract'] + '</abstract>'"
   ]
  },
  {
   "cell_type": "code",
   "execution_count": 21,
   "id": "2528c2fb-58e0-48dc-92a2-595ce826da2a",
   "metadata": {},
   "outputs": [
    {
     "data": {
      "text/html": [
       "<div>\n",
       "<style scoped>\n",
       "    .dataframe tbody tr th:only-of-type {\n",
       "        vertical-align: middle;\n",
       "    }\n",
       "\n",
       "    .dataframe tbody tr th {\n",
       "        vertical-align: top;\n",
       "    }\n",
       "\n",
       "    .dataframe thead th {\n",
       "        text-align: right;\n",
       "    }\n",
       "</style>\n",
       "<table border=\"1\" class=\"dataframe\">\n",
       "  <thead>\n",
       "    <tr style=\"text-align: right;\">\n",
       "      <th></th>\n",
       "      <th>idx</th>\n",
       "      <th>pmid</th>\n",
       "      <th>journal_name</th>\n",
       "      <th>title</th>\n",
       "      <th>abstract</th>\n",
       "      <th>keywords</th>\n",
       "      <th>accepted_label</th>\n",
       "      <th>multi_label</th>\n",
       "      <th>binary_label</th>\n",
       "      <th>input_journal_title_abstract</th>\n",
       "    </tr>\n",
       "  </thead>\n",
       "  <tbody>\n",
       "    <tr>\n",
       "      <th>0</th>\n",
       "      <td>1</td>\n",
       "      <td>12047012</td>\n",
       "      <td>Schizophrenia bulletin</td>\n",
       "      <td>Can clinical practice guide a research agenda?</td>\n",
       "      <td>Articles from this issue of the Bulletin indic...</td>\n",
       "      <td>NaN</td>\n",
       "      <td>Non-systematic-review</td>\n",
       "      <td>1</td>\n",
       "      <td>0</td>\n",
       "      <td>&lt;journal&gt;Schizophrenia bulletin&lt;/journal&gt;&lt;titl...</td>\n",
       "    </tr>\n",
       "    <tr>\n",
       "      <th>1</th>\n",
       "      <td>2</td>\n",
       "      <td>28832188</td>\n",
       "      <td>Future medicinal chemistry</td>\n",
       "      <td>Dual/multitargeted xanthone derivatives for Al...</td>\n",
       "      <td>To date, the current therapy for Alzheimer's d...</td>\n",
       "      <td>Alzheimer's disease| Aβ aggregation| anticholi...</td>\n",
       "      <td>Non-systematic-review</td>\n",
       "      <td>1</td>\n",
       "      <td>0</td>\n",
       "      <td>&lt;journal&gt;Future medicinal chemistry&lt;/journal&gt;&lt;...</td>\n",
       "    </tr>\n",
       "    <tr>\n",
       "      <th>2</th>\n",
       "      <td>3</td>\n",
       "      <td>17678496</td>\n",
       "      <td>Expert review of neurotherapeutics</td>\n",
       "      <td>Benefits of occupational therapy in stroke reh...</td>\n",
       "      <td>Stroke is the largest single cause of severe p...</td>\n",
       "      <td>NaN</td>\n",
       "      <td>Non-systematic-review</td>\n",
       "      <td>1</td>\n",
       "      <td>0</td>\n",
       "      <td>&lt;journal&gt;Expert review of neurotherapeutics&lt;/j...</td>\n",
       "    </tr>\n",
       "    <tr>\n",
       "      <th>3</th>\n",
       "      <td>4</td>\n",
       "      <td>25649308</td>\n",
       "      <td>Annals of the New York Academy of Sciences</td>\n",
       "      <td>The promise of ketamine for treatment-resistan...</td>\n",
       "      <td>Major depressive disorder (MDD) is one of the ...</td>\n",
       "      <td>antidepressant| bipolar disorder| ketamine| ma...</td>\n",
       "      <td>Non-systematic-review</td>\n",
       "      <td>1</td>\n",
       "      <td>0</td>\n",
       "      <td>&lt;journal&gt;Annals of the New York Academy of Sci...</td>\n",
       "    </tr>\n",
       "    <tr>\n",
       "      <th>4</th>\n",
       "      <td>5</td>\n",
       "      <td>6312596</td>\n",
       "      <td>La semaine des hopitaux : organe fonde par l'A...</td>\n",
       "      <td>[Clinical and pathogenic aspects of secondary ...</td>\n",
       "      <td>The secondary hyperlipoproteinemias are freque...</td>\n",
       "      <td>NaN</td>\n",
       "      <td>Non-systematic-review</td>\n",
       "      <td>1</td>\n",
       "      <td>0</td>\n",
       "      <td>&lt;journal&gt;La semaine des hopitaux : organe fond...</td>\n",
       "    </tr>\n",
       "    <tr>\n",
       "      <th>...</th>\n",
       "      <td>...</td>\n",
       "      <td>...</td>\n",
       "      <td>...</td>\n",
       "      <td>...</td>\n",
       "      <td>...</td>\n",
       "      <td>...</td>\n",
       "      <td>...</td>\n",
       "      <td>...</td>\n",
       "      <td>...</td>\n",
       "      <td>...</td>\n",
       "    </tr>\n",
       "    <tr>\n",
       "      <th>529</th>\n",
       "      <td>530</td>\n",
       "      <td>24507711</td>\n",
       "      <td>Journal of clinical neuroscience : official jo...</td>\n",
       "      <td>Validation of the Chinese version of the NUCOG...</td>\n",
       "      <td>We aimed to develop and validate a Chinese ver...</td>\n",
       "      <td>Cognition| Dementia| Epilepsy| Mini-Mental Sta...</td>\n",
       "      <td>Human-RCT-non-intervention</td>\n",
       "      <td>13</td>\n",
       "      <td>0</td>\n",
       "      <td>&lt;journal&gt;Journal of clinical neuroscience : of...</td>\n",
       "    </tr>\n",
       "    <tr>\n",
       "      <th>530</th>\n",
       "      <td>531</td>\n",
       "      <td>28063795</td>\n",
       "      <td>The Lancet. Infectious diseases</td>\n",
       "      <td>Effect of new tuberculosis diagnostic technolo...</td>\n",
       "      <td>BACKGROUND: Inadequate case detection results ...</td>\n",
       "      <td>NaN</td>\n",
       "      <td>Human-RCT-non-intervention</td>\n",
       "      <td>13</td>\n",
       "      <td>0</td>\n",
       "      <td>&lt;journal&gt;The Lancet. Infectious diseases&lt;/jour...</td>\n",
       "    </tr>\n",
       "    <tr>\n",
       "      <th>531</th>\n",
       "      <td>532</td>\n",
       "      <td>35488938</td>\n",
       "      <td>European child &amp; adolescent psychiatry</td>\n",
       "      <td>The impact of school-based screening on servic...</td>\n",
       "      <td>Early detection and intervention can counterac...</td>\n",
       "      <td>Adolescents| Mental health problems| Risk beha...</td>\n",
       "      <td>Human-RCT-non-intervention</td>\n",
       "      <td>13</td>\n",
       "      <td>0</td>\n",
       "      <td>&lt;journal&gt;European child &amp; adolescent psychiatr...</td>\n",
       "    </tr>\n",
       "    <tr>\n",
       "      <th>532</th>\n",
       "      <td>533</td>\n",
       "      <td>16158009</td>\n",
       "      <td>Dementia and geriatric cognitive disorders</td>\n",
       "      <td>Validating the DemTect with 18-fluoro-2-deoxy-...</td>\n",
       "      <td>OBJECTIVES: The first study to validate the di...</td>\n",
       "      <td>NaN</td>\n",
       "      <td>Human-RCT-non-intervention</td>\n",
       "      <td>13</td>\n",
       "      <td>0</td>\n",
       "      <td>&lt;journal&gt;Dementia and geriatric cognitive diso...</td>\n",
       "    </tr>\n",
       "    <tr>\n",
       "      <th>533</th>\n",
       "      <td>534</td>\n",
       "      <td>24075291</td>\n",
       "      <td>Journal of clinical epidemiology</td>\n",
       "      <td>The Quick Mild Cognitive Impairment screen cor...</td>\n",
       "      <td>OBJECTIVES: The Alzheimer's Disease Assessment...</td>\n",
       "      <td>Clinical Dementia Rating (CDR) scale| Clinical...</td>\n",
       "      <td>Human-RCT-non-intervention</td>\n",
       "      <td>13</td>\n",
       "      <td>0</td>\n",
       "      <td>&lt;journal&gt;Journal of clinical epidemiology&lt;/jou...</td>\n",
       "    </tr>\n",
       "  </tbody>\n",
       "</table>\n",
       "<p>534 rows × 10 columns</p>\n",
       "</div>"
      ],
      "text/plain": [
       "     idx      pmid                                       journal_name  \\\n",
       "0      1  12047012                             Schizophrenia bulletin   \n",
       "1      2  28832188                         Future medicinal chemistry   \n",
       "2      3  17678496                 Expert review of neurotherapeutics   \n",
       "3      4  25649308         Annals of the New York Academy of Sciences   \n",
       "4      5   6312596  La semaine des hopitaux : organe fonde par l'A...   \n",
       "..   ...       ...                                                ...   \n",
       "529  530  24507711  Journal of clinical neuroscience : official jo...   \n",
       "530  531  28063795                    The Lancet. Infectious diseases   \n",
       "531  532  35488938             European child & adolescent psychiatry   \n",
       "532  533  16158009         Dementia and geriatric cognitive disorders   \n",
       "533  534  24075291                   Journal of clinical epidemiology   \n",
       "\n",
       "                                                 title  \\\n",
       "0       Can clinical practice guide a research agenda?   \n",
       "1    Dual/multitargeted xanthone derivatives for Al...   \n",
       "2    Benefits of occupational therapy in stroke reh...   \n",
       "3    The promise of ketamine for treatment-resistan...   \n",
       "4    [Clinical and pathogenic aspects of secondary ...   \n",
       "..                                                 ...   \n",
       "529  Validation of the Chinese version of the NUCOG...   \n",
       "530  Effect of new tuberculosis diagnostic technolo...   \n",
       "531  The impact of school-based screening on servic...   \n",
       "532  Validating the DemTect with 18-fluoro-2-deoxy-...   \n",
       "533  The Quick Mild Cognitive Impairment screen cor...   \n",
       "\n",
       "                                              abstract  \\\n",
       "0    Articles from this issue of the Bulletin indic...   \n",
       "1    To date, the current therapy for Alzheimer's d...   \n",
       "2    Stroke is the largest single cause of severe p...   \n",
       "3    Major depressive disorder (MDD) is one of the ...   \n",
       "4    The secondary hyperlipoproteinemias are freque...   \n",
       "..                                                 ...   \n",
       "529  We aimed to develop and validate a Chinese ver...   \n",
       "530  BACKGROUND: Inadequate case detection results ...   \n",
       "531  Early detection and intervention can counterac...   \n",
       "532  OBJECTIVES: The first study to validate the di...   \n",
       "533  OBJECTIVES: The Alzheimer's Disease Assessment...   \n",
       "\n",
       "                                              keywords  \\\n",
       "0                                                  NaN   \n",
       "1    Alzheimer's disease| Aβ aggregation| anticholi...   \n",
       "2                                                  NaN   \n",
       "3    antidepressant| bipolar disorder| ketamine| ma...   \n",
       "4                                                  NaN   \n",
       "..                                                 ...   \n",
       "529  Cognition| Dementia| Epilepsy| Mini-Mental Sta...   \n",
       "530                                                NaN   \n",
       "531  Adolescents| Mental health problems| Risk beha...   \n",
       "532                                                NaN   \n",
       "533  Clinical Dementia Rating (CDR) scale| Clinical...   \n",
       "\n",
       "                 accepted_label  multi_label  binary_label  \\\n",
       "0         Non-systematic-review            1             0   \n",
       "1         Non-systematic-review            1             0   \n",
       "2         Non-systematic-review            1             0   \n",
       "3         Non-systematic-review            1             0   \n",
       "4         Non-systematic-review            1             0   \n",
       "..                          ...          ...           ...   \n",
       "529  Human-RCT-non-intervention           13             0   \n",
       "530  Human-RCT-non-intervention           13             0   \n",
       "531  Human-RCT-non-intervention           13             0   \n",
       "532  Human-RCT-non-intervention           13             0   \n",
       "533  Human-RCT-non-intervention           13             0   \n",
       "\n",
       "                          input_journal_title_abstract  \n",
       "0    <journal>Schizophrenia bulletin</journal><titl...  \n",
       "1    <journal>Future medicinal chemistry</journal><...  \n",
       "2    <journal>Expert review of neurotherapeutics</j...  \n",
       "3    <journal>Annals of the New York Academy of Sci...  \n",
       "4    <journal>La semaine des hopitaux : organe fond...  \n",
       "..                                                 ...  \n",
       "529  <journal>Journal of clinical neuroscience : of...  \n",
       "530  <journal>The Lancet. Infectious diseases</jour...  \n",
       "531  <journal>European child & adolescent psychiatr...  \n",
       "532  <journal>Dementia and geriatric cognitive diso...  \n",
       "533  <journal>Journal of clinical epidemiology</jou...  \n",
       "\n",
       "[534 rows x 10 columns]"
      ]
     },
     "execution_count": 21,
     "metadata": {},
     "output_type": "execute_result"
    }
   ],
   "source": [
    "df_test"
   ]
  },
  {
   "cell_type": "code",
   "execution_count": 22,
   "id": "8d427668-7f0c-4417-93e1-edd4781e8af4",
   "metadata": {},
   "outputs": [],
   "source": [
    "def create_prompt(df_train, df_test, test_index, example_indices):\n",
    "    # Start the prompt with a task description (optional)\n",
    "    prompt = \"Classify this text, choosing one of these labels: Clinical-study-protocol, Human-systematic-review, Non-systematic-review, Human-RCT-non-drug-intervention, Human-RCT-drug-intervention, Human-RCT-non-intervention, Human-case-report, Human-non-RCT-non-drug-intervention, Human-non-RCT-drug-intervention, Animal-systematic-review, Animal-drug-intervention, Animal-non-drug-intervention, Animal-other, In-vitro-study, Remaining. Respond in json format with the key: gpt_label.\\n\\n\"\n",
    "    \n",
    "    # Add examples from df_train\n",
    "    for idx in example_indices:\n",
    "        example_text = df_train.loc[idx, 'input_journal_title_abstract']\n",
    "        example_label = df_train.loc[idx, 'accepted_label']\n",
    "        prompt += f\"Text: \\\"{example_text}\\\"\\nCategory: {example_label}\\n\\n\"\n",
    "    \n",
    "    # Add the test text needing classification\n",
    "    test_text = df_test.loc[test_index, 'input_journal_title_abstract']\n",
    "    prompt += f\"Text: \\\"{test_text}\\\"\\nCategory: \"\n",
    "    \n",
    "    return prompt"
   ]
  },
  {
   "cell_type": "code",
   "execution_count": 23,
   "id": "f581a984-8a2d-4f0d-9233-b89e557c56e8",
   "metadata": {},
   "outputs": [],
   "source": [
    "example_i = 0\n",
    "example_prompt = create_prompt(df_train, df_test, example_i, indices[example_i].tolist())\n",
    "#example_prompt"
   ]
  },
  {
   "cell_type": "code",
   "execution_count": 24,
   "id": "f82e2a71-2ebc-4b3b-a9a9-caaf6430d200",
   "metadata": {},
   "outputs": [
    {
     "data": {
      "text/plain": [
       "599"
      ]
     },
     "execution_count": 24,
     "metadata": {},
     "output_type": "execute_result"
    }
   ],
   "source": [
    "len(example_prompt.split())"
   ]
  },
  {
   "cell_type": "code",
   "execution_count": 25,
   "id": "af8b5eec-f852-4c84-b6ef-42e2bc0633b9",
   "metadata": {},
   "outputs": [
    {
     "name": "stderr",
     "output_type": "stream",
     "text": [
      "/Library/Frameworks/Python.framework/Versions/3.12/lib/python3.12/site-packages/tqdm/auto.py:21: TqdmWarning: IProgress not found. Please update jupyter and ipywidgets. See https://ipywidgets.readthedocs.io/en/stable/user_install.html\n",
      "  from .autonotebook import tqdm as notebook_tqdm\n"
     ]
    }
   ],
   "source": [
    "import time\n",
    "from tqdm.auto import tqdm\n",
    "\n",
    "DEFAULT_TEMPERATURE = 0\n",
    "\n",
    "def create_prompt(df_train, example_indices, input_raw_text):\n",
    "    prompt = \"Classify this text, choosing one of these labels: Clinical-study-protocol, Human-systematic-review, Non-systematic-review, Human-RCT-non-drug-intervention, Human-RCT-drug-intervention, Human-RCT-non-intervention, Human-case-report, Human-non-RCT-non-drug-intervention, Human-non-RCT-drug-intervention, Animal-systematic-review, Animal-drug-intervention, Animal-non-drug-intervention, Animal-other, In-vitro-study, Remaining. Respond in json format with the key: gpt_label.\\n\\n\"\n",
    "    for idx in example_indices:\n",
    "        example_text = df_train.loc[idx, 'input_journal_title_abstract']\n",
    "        example_label = df_train.loc[idx, 'accepted_label']\n",
    "        prompt += f\"Text: \\\"{example_text}\\\"\\nCategory: {example_label}\\n\\n\"\n",
    "    prompt += f\"Text: \\\"{input_raw_text}\\\"\\nCategory: \"\n",
    "    return prompt\n",
    "\n",
    "def query_gpt(df_train, input_raw_text, example_indices, gpt_model=\"gpt-3.5-turbo\", temperature=DEFAULT_TEMPERATURE, max_retries=5, retry_delay=3):\n",
    "    prompt_text = create_prompt(df_train, example_indices, input_raw_text)\n",
    "    system_msg = f\"You are an expert assistant specialized in text classification of PubMed abstracts.\"\n",
    "\n",
    "    retries = 0\n",
    "    while retries < max_retries:\n",
    "        print(\"Trying to call OpenAI API...\")\n",
    "        try:\n",
    "            completion = client.chat.completions.create(\n",
    "                model=gpt_model,  \n",
    "                response_format={\"type\": \"json_object\"},\n",
    "                temperature=temperature,\n",
    "                messages=[\n",
    "                    {\"role\": \"system\", \"content\": system_msg},\n",
    "                    {\"role\": \"user\", \"content\": prompt_text}\n",
    "                ]\n",
    "            )\n",
    "            return completion.choices[0].message.content\n",
    "        except Exception as e:\n",
    "            print(f\"OpenAI API returned an error: {e}\")\n",
    "            time.sleep(retry_delay)\n",
    "            retries += 1\n",
    "\n",
    "    raise RuntimeError(\"Max retries reached. Unable to complete the API call.\")\n",
    "\n",
    "def apply_gpt_with_progress(df_train, test_data_series, example_indices_tensor=None, num_samples=3, use_random=False, model=\"gpt-3.5-turbo\"):\n",
    "    results = []\n",
    "    total_items = len(test_data_series)\n",
    "    with tqdm(total=total_items, desc=\"Processing dataset\") as pbar:\n",
    "        for i, text in enumerate(test_data_series):\n",
    "            if use_random:\n",
    "                example_indices = random.sample(range(len(df_train)), num_samples)\n",
    "            else:\n",
    "                example_indices = example_indices_tensor[i].tolist()\n",
    "            print(\"Retrieved in-context learning examples with idx: \", example_indices)\n",
    "            result = query_gpt(df_train, text, example_indices, model)\n",
    "            results.append(result)\n",
    "            pbar.update(1)\n",
    "    return results\n"
   ]
  },
  {
   "cell_type": "code",
   "execution_count": 26,
   "id": "48530511-5390-498a-8b76-e4e2cef2f193",
   "metadata": {},
   "outputs": [
    {
     "name": "stderr",
     "output_type": "stream",
     "text": [
      "Processing dataset:   0%|                               | 0/534 [00:00<?, ?it/s]"
     ]
    },
    {
     "name": "stdout",
     "output_type": "stream",
     "text": [
      "Retrieved in-context learning examples with idx:  [128, 1032, 413]\n",
      "Trying to call OpenAI API...\n"
     ]
    },
    {
     "name": "stderr",
     "output_type": "stream",
     "text": [
      "Processing dataset:   0%|                       | 1/534 [00:02<21:40,  2.44s/it]"
     ]
    },
    {
     "name": "stdout",
     "output_type": "stream",
     "text": [
      "Retrieved in-context learning examples with idx:  [128, 1032, 413]\n",
      "Trying to call OpenAI API...\n"
     ]
    },
    {
     "name": "stderr",
     "output_type": "stream",
     "text": [
      "Processing dataset:   0%|                       | 2/534 [00:03<12:48,  1.44s/it]"
     ]
    },
    {
     "name": "stdout",
     "output_type": "stream",
     "text": [
      "Retrieved in-context learning examples with idx:  [128, 413, 1032]\n",
      "Trying to call OpenAI API...\n"
     ]
    },
    {
     "name": "stderr",
     "output_type": "stream",
     "text": [
      "Processing dataset:   1%|▏                      | 3/534 [00:03<09:54,  1.12s/it]"
     ]
    },
    {
     "name": "stdout",
     "output_type": "stream",
     "text": [
      "Retrieved in-context learning examples with idx:  [128, 1032, 413]\n",
      "Trying to call OpenAI API...\n"
     ]
    },
    {
     "name": "stderr",
     "output_type": "stream",
     "text": [
      "Processing dataset:   1%|▏                      | 4/534 [00:04<09:31,  1.08s/it]"
     ]
    },
    {
     "name": "stdout",
     "output_type": "stream",
     "text": [
      "Retrieved in-context learning examples with idx:  [413, 356, 128]\n",
      "Trying to call OpenAI API...\n"
     ]
    },
    {
     "name": "stderr",
     "output_type": "stream",
     "text": [
      "Processing dataset:   1%|▏                      | 5/534 [00:05<08:39,  1.02it/s]"
     ]
    },
    {
     "name": "stdout",
     "output_type": "stream",
     "text": [
      "Retrieved in-context learning examples with idx:  [128, 413, 11]\n",
      "Trying to call OpenAI API...\n"
     ]
    },
    {
     "name": "stderr",
     "output_type": "stream",
     "text": [
      "Processing dataset:   1%|▎                      | 6/534 [00:06<07:45,  1.13it/s]"
     ]
    },
    {
     "name": "stdout",
     "output_type": "stream",
     "text": [
      "Retrieved in-context learning examples with idx:  [128, 11, 413]\n",
      "Trying to call OpenAI API...\n"
     ]
    },
    {
     "name": "stderr",
     "output_type": "stream",
     "text": [
      "Processing dataset:   1%|▎                      | 7/534 [00:07<07:20,  1.20it/s]"
     ]
    },
    {
     "name": "stdout",
     "output_type": "stream",
     "text": [
      "Retrieved in-context learning examples with idx:  [128, 413, 356]\n",
      "Trying to call OpenAI API...\n"
     ]
    },
    {
     "name": "stderr",
     "output_type": "stream",
     "text": [
      "Processing dataset:   1%|▎                      | 8/534 [00:08<07:17,  1.20it/s]"
     ]
    },
    {
     "name": "stdout",
     "output_type": "stream",
     "text": [
      "Retrieved in-context learning examples with idx:  [128, 413, 356]\n",
      "Trying to call OpenAI API...\n"
     ]
    },
    {
     "name": "stderr",
     "output_type": "stream",
     "text": [
      "Processing dataset:   2%|▍                      | 9/534 [00:08<06:56,  1.26it/s]"
     ]
    },
    {
     "name": "stdout",
     "output_type": "stream",
     "text": [
      "Retrieved in-context learning examples with idx:  [128, 1032, 413]\n",
      "Trying to call OpenAI API...\n"
     ]
    },
    {
     "name": "stderr",
     "output_type": "stream",
     "text": [
      "Processing dataset:   2%|▍                     | 10/534 [00:09<07:31,  1.16it/s]"
     ]
    },
    {
     "name": "stdout",
     "output_type": "stream",
     "text": [
      "Retrieved in-context learning examples with idx:  [356, 128, 11]\n",
      "Trying to call OpenAI API...\n"
     ]
    },
    {
     "name": "stderr",
     "output_type": "stream",
     "text": [
      "Processing dataset:   2%|▍                     | 11/534 [00:10<06:53,  1.26it/s]"
     ]
    },
    {
     "name": "stdout",
     "output_type": "stream",
     "text": [
      "Retrieved in-context learning examples with idx:  [128, 413, 1032]\n",
      "Trying to call OpenAI API...\n"
     ]
    },
    {
     "name": "stderr",
     "output_type": "stream",
     "text": [
      "Processing dataset:   2%|▍                     | 12/534 [00:11<07:29,  1.16it/s]"
     ]
    },
    {
     "name": "stdout",
     "output_type": "stream",
     "text": [
      "Retrieved in-context learning examples with idx:  [128, 413, 1032]\n",
      "Trying to call OpenAI API...\n"
     ]
    },
    {
     "name": "stderr",
     "output_type": "stream",
     "text": [
      "Processing dataset:   2%|▌                     | 13/534 [00:12<07:20,  1.18it/s]"
     ]
    },
    {
     "name": "stdout",
     "output_type": "stream",
     "text": [
      "Retrieved in-context learning examples with idx:  [128, 356, 11]\n",
      "Trying to call OpenAI API...\n"
     ]
    },
    {
     "name": "stderr",
     "output_type": "stream",
     "text": [
      "Processing dataset:   3%|▌                     | 14/534 [00:13<07:21,  1.18it/s]"
     ]
    },
    {
     "name": "stdout",
     "output_type": "stream",
     "text": [
      "Retrieved in-context learning examples with idx:  [128, 1032, 413]\n",
      "Trying to call OpenAI API...\n"
     ]
    },
    {
     "name": "stderr",
     "output_type": "stream",
     "text": [
      "Processing dataset:   3%|▌                     | 15/534 [00:13<07:09,  1.21it/s]"
     ]
    },
    {
     "name": "stdout",
     "output_type": "stream",
     "text": [
      "Retrieved in-context learning examples with idx:  [128, 413, 1032]\n",
      "Trying to call OpenAI API...\n"
     ]
    },
    {
     "name": "stderr",
     "output_type": "stream",
     "text": [
      "Processing dataset:   3%|▋                     | 16/534 [00:14<07:26,  1.16it/s]"
     ]
    },
    {
     "name": "stdout",
     "output_type": "stream",
     "text": [
      "Retrieved in-context learning examples with idx:  [128, 413, 356]\n",
      "Trying to call OpenAI API...\n"
     ]
    },
    {
     "name": "stderr",
     "output_type": "stream",
     "text": [
      "Processing dataset:   3%|▋                     | 17/534 [00:15<07:52,  1.09it/s]"
     ]
    },
    {
     "name": "stdout",
     "output_type": "stream",
     "text": [
      "Retrieved in-context learning examples with idx:  [128, 191, 413]\n",
      "Trying to call OpenAI API...\n"
     ]
    },
    {
     "name": "stderr",
     "output_type": "stream",
     "text": [
      "Processing dataset:   3%|▋                     | 18/534 [00:16<07:26,  1.16it/s]"
     ]
    },
    {
     "name": "stdout",
     "output_type": "stream",
     "text": [
      "Retrieved in-context learning examples with idx:  [128, 413, 11]\n",
      "Trying to call OpenAI API...\n"
     ]
    },
    {
     "name": "stderr",
     "output_type": "stream",
     "text": [
      "Processing dataset:   4%|▊                     | 19/534 [00:17<07:48,  1.10it/s]"
     ]
    },
    {
     "name": "stdout",
     "output_type": "stream",
     "text": [
      "Retrieved in-context learning examples with idx:  [191, 128, 1032]\n",
      "Trying to call OpenAI API...\n"
     ]
    },
    {
     "name": "stderr",
     "output_type": "stream",
     "text": [
      "Processing dataset:   4%|▊                     | 20/534 [00:18<07:32,  1.14it/s]"
     ]
    },
    {
     "name": "stdout",
     "output_type": "stream",
     "text": [
      "Retrieved in-context learning examples with idx:  [128, 413, 356]\n",
      "Trying to call OpenAI API...\n"
     ]
    },
    {
     "name": "stderr",
     "output_type": "stream",
     "text": [
      "Processing dataset:   4%|▊                     | 21/534 [00:19<07:25,  1.15it/s]"
     ]
    },
    {
     "name": "stdout",
     "output_type": "stream",
     "text": [
      "Retrieved in-context learning examples with idx:  [128, 356, 11]\n",
      "Trying to call OpenAI API...\n"
     ]
    },
    {
     "name": "stderr",
     "output_type": "stream",
     "text": [
      "Processing dataset:   4%|▉                     | 22/534 [00:20<07:45,  1.10it/s]"
     ]
    },
    {
     "name": "stdout",
     "output_type": "stream",
     "text": [
      "Retrieved in-context learning examples with idx:  [128, 11, 413]\n",
      "Trying to call OpenAI API...\n"
     ]
    },
    {
     "name": "stderr",
     "output_type": "stream",
     "text": [
      "Processing dataset:   4%|▉                     | 23/534 [00:21<07:45,  1.10it/s]"
     ]
    },
    {
     "name": "stdout",
     "output_type": "stream",
     "text": [
      "Retrieved in-context learning examples with idx:  [128, 1032, 356]\n",
      "Trying to call OpenAI API...\n"
     ]
    },
    {
     "name": "stderr",
     "output_type": "stream",
     "text": [
      "Processing dataset:   4%|▉                     | 24/534 [00:21<07:26,  1.14it/s]"
     ]
    },
    {
     "name": "stdout",
     "output_type": "stream",
     "text": [
      "Retrieved in-context learning examples with idx:  [128, 356, 413]\n",
      "Trying to call OpenAI API...\n"
     ]
    },
    {
     "name": "stderr",
     "output_type": "stream",
     "text": [
      "Processing dataset:   5%|█                     | 25/534 [00:22<07:09,  1.18it/s]"
     ]
    },
    {
     "name": "stdout",
     "output_type": "stream",
     "text": [
      "Retrieved in-context learning examples with idx:  [413, 1032, 128]\n",
      "Trying to call OpenAI API...\n"
     ]
    },
    {
     "name": "stderr",
     "output_type": "stream",
     "text": [
      "Processing dataset:   5%|█                     | 26/534 [00:23<06:48,  1.24it/s]"
     ]
    },
    {
     "name": "stdout",
     "output_type": "stream",
     "text": [
      "Retrieved in-context learning examples with idx:  [128, 1032, 413]\n",
      "Trying to call OpenAI API...\n"
     ]
    },
    {
     "name": "stderr",
     "output_type": "stream",
     "text": [
      "Processing dataset:   5%|█                     | 27/534 [00:24<06:27,  1.31it/s]"
     ]
    },
    {
     "name": "stdout",
     "output_type": "stream",
     "text": [
      "Retrieved in-context learning examples with idx:  [128, 413, 191]\n",
      "Trying to call OpenAI API...\n"
     ]
    },
    {
     "name": "stderr",
     "output_type": "stream",
     "text": [
      "Processing dataset:   5%|█▏                    | 28/534 [00:24<06:19,  1.33it/s]"
     ]
    },
    {
     "name": "stdout",
     "output_type": "stream",
     "text": [
      "Retrieved in-context learning examples with idx:  [128, 356, 413]\n",
      "Trying to call OpenAI API...\n"
     ]
    },
    {
     "name": "stderr",
     "output_type": "stream",
     "text": [
      "Processing dataset:   5%|█▏                    | 29/534 [00:25<06:11,  1.36it/s]"
     ]
    },
    {
     "name": "stdout",
     "output_type": "stream",
     "text": [
      "Retrieved in-context learning examples with idx:  [128, 413, 1032]\n",
      "Trying to call OpenAI API...\n"
     ]
    },
    {
     "name": "stderr",
     "output_type": "stream",
     "text": [
      "Processing dataset:   6%|█▏                    | 30/534 [00:26<06:14,  1.35it/s]"
     ]
    },
    {
     "name": "stdout",
     "output_type": "stream",
     "text": [
      "Retrieved in-context learning examples with idx:  [191, 984, 65]\n",
      "Trying to call OpenAI API...\n"
     ]
    },
    {
     "name": "stderr",
     "output_type": "stream",
     "text": [
      "Processing dataset:   6%|█▎                    | 31/534 [00:27<06:32,  1.28it/s]"
     ]
    },
    {
     "name": "stdout",
     "output_type": "stream",
     "text": [
      "Retrieved in-context learning examples with idx:  [128, 413, 11]\n",
      "Trying to call OpenAI API...\n"
     ]
    },
    {
     "name": "stderr",
     "output_type": "stream",
     "text": [
      "Processing dataset:   6%|█▎                    | 32/534 [00:27<06:24,  1.31it/s]"
     ]
    },
    {
     "name": "stdout",
     "output_type": "stream",
     "text": [
      "Retrieved in-context learning examples with idx:  [128, 1032, 413]\n",
      "Trying to call OpenAI API...\n"
     ]
    },
    {
     "name": "stderr",
     "output_type": "stream",
     "text": [
      "Processing dataset:   6%|█▎                    | 33/534 [00:28<06:21,  1.31it/s]"
     ]
    },
    {
     "name": "stdout",
     "output_type": "stream",
     "text": [
      "Retrieved in-context learning examples with idx:  [128, 413, 1032]\n",
      "Trying to call OpenAI API...\n"
     ]
    },
    {
     "name": "stderr",
     "output_type": "stream",
     "text": [
      "Processing dataset:   6%|█▍                    | 34/534 [00:29<06:26,  1.29it/s]"
     ]
    },
    {
     "name": "stdout",
     "output_type": "stream",
     "text": [
      "Retrieved in-context learning examples with idx:  [128, 356, 413]\n",
      "Trying to call OpenAI API...\n"
     ]
    },
    {
     "name": "stderr",
     "output_type": "stream",
     "text": [
      "Processing dataset:   7%|█▍                    | 35/534 [00:30<06:28,  1.29it/s]"
     ]
    },
    {
     "name": "stdout",
     "output_type": "stream",
     "text": [
      "Retrieved in-context learning examples with idx:  [128, 413, 1032]\n",
      "Trying to call OpenAI API...\n"
     ]
    },
    {
     "name": "stderr",
     "output_type": "stream",
     "text": [
      "Processing dataset:   7%|█▍                    | 36/534 [00:30<06:11,  1.34it/s]"
     ]
    },
    {
     "name": "stdout",
     "output_type": "stream",
     "text": [
      "Retrieved in-context learning examples with idx:  [128, 356, 413]\n",
      "Trying to call OpenAI API...\n"
     ]
    },
    {
     "name": "stderr",
     "output_type": "stream",
     "text": [
      "Processing dataset:   7%|█▌                    | 37/534 [00:31<06:20,  1.31it/s]"
     ]
    },
    {
     "name": "stdout",
     "output_type": "stream",
     "text": [
      "Retrieved in-context learning examples with idx:  [128, 413, 1032]\n",
      "Trying to call OpenAI API...\n"
     ]
    },
    {
     "name": "stderr",
     "output_type": "stream",
     "text": [
      "Processing dataset:   7%|█▌                    | 38/534 [00:32<06:43,  1.23it/s]"
     ]
    },
    {
     "name": "stdout",
     "output_type": "stream",
     "text": [
      "Retrieved in-context learning examples with idx:  [128, 1032, 413]\n",
      "Trying to call OpenAI API...\n"
     ]
    },
    {
     "name": "stderr",
     "output_type": "stream",
     "text": [
      "Processing dataset:   7%|█▌                    | 39/534 [00:33<06:28,  1.27it/s]"
     ]
    },
    {
     "name": "stdout",
     "output_type": "stream",
     "text": [
      "Retrieved in-context learning examples with idx:  [128, 413, 1032]\n",
      "Trying to call OpenAI API...\n"
     ]
    },
    {
     "name": "stderr",
     "output_type": "stream",
     "text": [
      "Processing dataset:   7%|█▋                    | 40/534 [00:33<06:06,  1.35it/s]"
     ]
    },
    {
     "name": "stdout",
     "output_type": "stream",
     "text": [
      "Retrieved in-context learning examples with idx:  [191, 697, 990]\n",
      "Trying to call OpenAI API...\n"
     ]
    },
    {
     "name": "stderr",
     "output_type": "stream",
     "text": [
      "Processing dataset:   8%|█▋                    | 41/534 [00:34<06:31,  1.26it/s]"
     ]
    },
    {
     "name": "stdout",
     "output_type": "stream",
     "text": [
      "Retrieved in-context learning examples with idx:  [128, 413, 1032]\n",
      "Trying to call OpenAI API...\n"
     ]
    },
    {
     "name": "stderr",
     "output_type": "stream",
     "text": [
      "Processing dataset:   8%|█▋                    | 42/534 [00:35<06:14,  1.31it/s]"
     ]
    },
    {
     "name": "stdout",
     "output_type": "stream",
     "text": [
      "Retrieved in-context learning examples with idx:  [128, 11, 413]\n",
      "Trying to call OpenAI API...\n"
     ]
    },
    {
     "name": "stderr",
     "output_type": "stream",
     "text": [
      "Processing dataset:   8%|█▊                    | 43/534 [00:36<06:08,  1.33it/s]"
     ]
    },
    {
     "name": "stdout",
     "output_type": "stream",
     "text": [
      "Retrieved in-context learning examples with idx:  [128, 413, 1032]\n",
      "Trying to call OpenAI API...\n"
     ]
    },
    {
     "name": "stderr",
     "output_type": "stream",
     "text": [
      "Processing dataset:   8%|█▊                    | 44/534 [00:37<06:28,  1.26it/s]"
     ]
    },
    {
     "name": "stdout",
     "output_type": "stream",
     "text": [
      "Retrieved in-context learning examples with idx:  [128, 413, 1032]\n",
      "Trying to call OpenAI API...\n"
     ]
    },
    {
     "name": "stderr",
     "output_type": "stream",
     "text": [
      "Processing dataset:   8%|█▊                    | 45/534 [00:37<06:23,  1.27it/s]"
     ]
    },
    {
     "name": "stdout",
     "output_type": "stream",
     "text": [
      "Retrieved in-context learning examples with idx:  [356, 128, 11]\n",
      "Trying to call OpenAI API...\n"
     ]
    },
    {
     "name": "stderr",
     "output_type": "stream",
     "text": [
      "Processing dataset:   9%|█▉                    | 46/534 [00:38<06:11,  1.31it/s]"
     ]
    },
    {
     "name": "stdout",
     "output_type": "stream",
     "text": [
      "Retrieved in-context learning examples with idx:  [128, 356, 1032]\n",
      "Trying to call OpenAI API...\n"
     ]
    },
    {
     "name": "stderr",
     "output_type": "stream",
     "text": [
      "Processing dataset:   9%|█▉                    | 47/534 [00:39<06:26,  1.26it/s]"
     ]
    },
    {
     "name": "stdout",
     "output_type": "stream",
     "text": [
      "Retrieved in-context learning examples with idx:  [356, 128, 413]\n",
      "Trying to call OpenAI API...\n"
     ]
    },
    {
     "name": "stderr",
     "output_type": "stream",
     "text": [
      "Processing dataset:   9%|█▉                    | 48/534 [00:40<06:20,  1.28it/s]"
     ]
    },
    {
     "name": "stdout",
     "output_type": "stream",
     "text": [
      "Retrieved in-context learning examples with idx:  [128, 1032, 356]\n",
      "Trying to call OpenAI API...\n"
     ]
    },
    {
     "name": "stderr",
     "output_type": "stream",
     "text": [
      "Processing dataset:   9%|██                    | 49/534 [00:40<06:08,  1.32it/s]"
     ]
    },
    {
     "name": "stdout",
     "output_type": "stream",
     "text": [
      "Retrieved in-context learning examples with idx:  [413, 128, 356]\n",
      "Trying to call OpenAI API...\n"
     ]
    },
    {
     "name": "stderr",
     "output_type": "stream",
     "text": [
      "Processing dataset:   9%|██                    | 50/534 [00:41<05:47,  1.39it/s]"
     ]
    },
    {
     "name": "stdout",
     "output_type": "stream",
     "text": [
      "Retrieved in-context learning examples with idx:  [191, 128, 11]\n",
      "Trying to call OpenAI API...\n"
     ]
    },
    {
     "name": "stderr",
     "output_type": "stream",
     "text": [
      "Processing dataset:  10%|██                    | 51/534 [00:42<05:56,  1.36it/s]"
     ]
    },
    {
     "name": "stdout",
     "output_type": "stream",
     "text": [
      "Retrieved in-context learning examples with idx:  [413, 128, 1032]\n",
      "Trying to call OpenAI API...\n"
     ]
    },
    {
     "name": "stderr",
     "output_type": "stream",
     "text": [
      "Processing dataset:  10%|██▏                   | 52/534 [00:43<05:58,  1.34it/s]"
     ]
    },
    {
     "name": "stdout",
     "output_type": "stream",
     "text": [
      "Retrieved in-context learning examples with idx:  [128, 413, 356]\n",
      "Trying to call OpenAI API...\n"
     ]
    },
    {
     "name": "stderr",
     "output_type": "stream",
     "text": [
      "Processing dataset:  10%|██▏                   | 53/534 [00:44<06:23,  1.25it/s]"
     ]
    },
    {
     "name": "stdout",
     "output_type": "stream",
     "text": [
      "Retrieved in-context learning examples with idx:  [128, 1032, 356]\n",
      "Trying to call OpenAI API...\n"
     ]
    },
    {
     "name": "stderr",
     "output_type": "stream",
     "text": [
      "Processing dataset:  10%|██▏                   | 54/534 [00:45<07:18,  1.09it/s]"
     ]
    },
    {
     "name": "stdout",
     "output_type": "stream",
     "text": [
      "Retrieved in-context learning examples with idx:  [128, 413, 11]\n",
      "Trying to call OpenAI API...\n"
     ]
    },
    {
     "name": "stderr",
     "output_type": "stream",
     "text": [
      "Processing dataset:  10%|██▎                   | 55/534 [00:46<06:55,  1.15it/s]"
     ]
    },
    {
     "name": "stdout",
     "output_type": "stream",
     "text": [
      "Retrieved in-context learning examples with idx:  [128, 11, 413]\n",
      "Trying to call OpenAI API...\n"
     ]
    },
    {
     "name": "stderr",
     "output_type": "stream",
     "text": [
      "Processing dataset:  10%|██▎                   | 56/534 [00:46<06:57,  1.15it/s]"
     ]
    },
    {
     "name": "stdout",
     "output_type": "stream",
     "text": [
      "Retrieved in-context learning examples with idx:  [128, 413, 356]\n",
      "Trying to call OpenAI API...\n"
     ]
    },
    {
     "name": "stderr",
     "output_type": "stream",
     "text": [
      "Processing dataset:  11%|██▎                   | 57/534 [00:47<07:03,  1.13it/s]"
     ]
    },
    {
     "name": "stdout",
     "output_type": "stream",
     "text": [
      "Retrieved in-context learning examples with idx:  [128, 11, 413]\n",
      "Trying to call OpenAI API...\n"
     ]
    },
    {
     "name": "stderr",
     "output_type": "stream",
     "text": [
      "Processing dataset:  11%|██▍                   | 58/534 [00:48<06:36,  1.20it/s]"
     ]
    },
    {
     "name": "stdout",
     "output_type": "stream",
     "text": [
      "Retrieved in-context learning examples with idx:  [191, 1032, 413]\n",
      "Trying to call OpenAI API...\n"
     ]
    },
    {
     "name": "stderr",
     "output_type": "stream",
     "text": [
      "Processing dataset:  11%|██▍                   | 59/534 [00:49<06:06,  1.30it/s]"
     ]
    },
    {
     "name": "stdout",
     "output_type": "stream",
     "text": [
      "Retrieved in-context learning examples with idx:  [128, 413, 356]\n",
      "Trying to call OpenAI API...\n"
     ]
    },
    {
     "name": "stderr",
     "output_type": "stream",
     "text": [
      "Processing dataset:  11%|██▍                   | 60/534 [00:49<05:51,  1.35it/s]"
     ]
    },
    {
     "name": "stdout",
     "output_type": "stream",
     "text": [
      "Retrieved in-context learning examples with idx:  [356, 11, 128]\n",
      "Trying to call OpenAI API...\n"
     ]
    },
    {
     "name": "stderr",
     "output_type": "stream",
     "text": [
      "Processing dataset:  11%|██▌                   | 61/534 [00:50<05:54,  1.33it/s]"
     ]
    },
    {
     "name": "stdout",
     "output_type": "stream",
     "text": [
      "Retrieved in-context learning examples with idx:  [356, 128, 413]\n",
      "Trying to call OpenAI API...\n"
     ]
    },
    {
     "name": "stderr",
     "output_type": "stream",
     "text": [
      "Processing dataset:  12%|██▌                   | 62/534 [00:51<05:32,  1.42it/s]"
     ]
    },
    {
     "name": "stdout",
     "output_type": "stream",
     "text": [
      "Retrieved in-context learning examples with idx:  [1032, 128, 413]\n",
      "Trying to call OpenAI API...\n"
     ]
    },
    {
     "name": "stderr",
     "output_type": "stream",
     "text": [
      "Processing dataset:  12%|██▌                   | 63/534 [00:51<05:41,  1.38it/s]"
     ]
    },
    {
     "name": "stdout",
     "output_type": "stream",
     "text": [
      "Retrieved in-context learning examples with idx:  [356, 128, 413]\n",
      "Trying to call OpenAI API...\n"
     ]
    },
    {
     "name": "stderr",
     "output_type": "stream",
     "text": [
      "Processing dataset:  12%|██▋                   | 64/534 [00:52<05:30,  1.42it/s]"
     ]
    },
    {
     "name": "stdout",
     "output_type": "stream",
     "text": [
      "Retrieved in-context learning examples with idx:  [128, 413, 1032]\n",
      "Trying to call OpenAI API...\n"
     ]
    },
    {
     "name": "stderr",
     "output_type": "stream",
     "text": [
      "Processing dataset:  12%|██▋                   | 65/534 [00:53<06:17,  1.24it/s]"
     ]
    },
    {
     "name": "stdout",
     "output_type": "stream",
     "text": [
      "Retrieved in-context learning examples with idx:  [128, 191, 11]\n",
      "Trying to call OpenAI API...\n"
     ]
    },
    {
     "name": "stderr",
     "output_type": "stream",
     "text": [
      "Processing dataset:  12%|██▋                   | 66/534 [00:54<06:23,  1.22it/s]"
     ]
    },
    {
     "name": "stdout",
     "output_type": "stream",
     "text": [
      "Retrieved in-context learning examples with idx:  [128, 356, 413]\n",
      "Trying to call OpenAI API...\n"
     ]
    },
    {
     "name": "stderr",
     "output_type": "stream",
     "text": [
      "Processing dataset:  13%|██▊                   | 67/534 [00:55<06:51,  1.14it/s]"
     ]
    },
    {
     "name": "stdout",
     "output_type": "stream",
     "text": [
      "Retrieved in-context learning examples with idx:  [128, 356, 11]\n",
      "Trying to call OpenAI API...\n"
     ]
    },
    {
     "name": "stderr",
     "output_type": "stream",
     "text": [
      "Processing dataset:  13%|██▊                   | 68/534 [00:56<07:15,  1.07it/s]"
     ]
    },
    {
     "name": "stdout",
     "output_type": "stream",
     "text": [
      "Retrieved in-context learning examples with idx:  [128, 413, 191]\n",
      "Trying to call OpenAI API...\n"
     ]
    },
    {
     "name": "stderr",
     "output_type": "stream",
     "text": [
      "Processing dataset:  13%|██▊                   | 69/534 [00:57<08:07,  1.05s/it]"
     ]
    },
    {
     "name": "stdout",
     "output_type": "stream",
     "text": [
      "Retrieved in-context learning examples with idx:  [128, 11, 191]\n",
      "Trying to call OpenAI API...\n"
     ]
    },
    {
     "name": "stderr",
     "output_type": "stream",
     "text": [
      "Processing dataset:  13%|██▉                   | 70/534 [00:59<09:11,  1.19s/it]"
     ]
    },
    {
     "name": "stdout",
     "output_type": "stream",
     "text": [
      "Retrieved in-context learning examples with idx:  [128, 356, 66]\n",
      "Trying to call OpenAI API...\n"
     ]
    },
    {
     "name": "stderr",
     "output_type": "stream",
     "text": [
      "Processing dataset:  13%|██▉                   | 71/534 [01:00<08:15,  1.07s/it]"
     ]
    },
    {
     "name": "stdout",
     "output_type": "stream",
     "text": [
      "Retrieved in-context learning examples with idx:  [128, 191, 1114]\n",
      "Trying to call OpenAI API...\n"
     ]
    },
    {
     "name": "stderr",
     "output_type": "stream",
     "text": [
      "Processing dataset:  13%|██▉                   | 72/534 [01:00<07:22,  1.04it/s]"
     ]
    },
    {
     "name": "stdout",
     "output_type": "stream",
     "text": [
      "Retrieved in-context learning examples with idx:  [128, 1032, 356]\n",
      "Trying to call OpenAI API...\n"
     ]
    },
    {
     "name": "stderr",
     "output_type": "stream",
     "text": [
      "Processing dataset:  14%|███                   | 73/534 [01:01<06:41,  1.15it/s]"
     ]
    },
    {
     "name": "stdout",
     "output_type": "stream",
     "text": [
      "Retrieved in-context learning examples with idx:  [356, 128, 11]\n",
      "Trying to call OpenAI API...\n"
     ]
    },
    {
     "name": "stderr",
     "output_type": "stream",
     "text": [
      "Processing dataset:  14%|███                   | 74/534 [01:02<06:06,  1.26it/s]"
     ]
    },
    {
     "name": "stdout",
     "output_type": "stream",
     "text": [
      "Retrieved in-context learning examples with idx:  [128, 191, 11]\n",
      "Trying to call OpenAI API...\n"
     ]
    },
    {
     "name": "stderr",
     "output_type": "stream",
     "text": [
      "Processing dataset:  14%|███                   | 75/534 [01:03<06:14,  1.22it/s]"
     ]
    },
    {
     "name": "stdout",
     "output_type": "stream",
     "text": [
      "Retrieved in-context learning examples with idx:  [191, 697, 990]\n",
      "Trying to call OpenAI API...\n"
     ]
    },
    {
     "name": "stderr",
     "output_type": "stream",
     "text": [
      "Processing dataset:  14%|███▏                  | 76/534 [01:04<06:35,  1.16it/s]"
     ]
    },
    {
     "name": "stdout",
     "output_type": "stream",
     "text": [
      "Retrieved in-context learning examples with idx:  [128, 413, 356]\n",
      "Trying to call OpenAI API...\n"
     ]
    },
    {
     "name": "stderr",
     "output_type": "stream",
     "text": [
      "Processing dataset:  14%|███▏                  | 77/534 [01:04<06:34,  1.16it/s]"
     ]
    },
    {
     "name": "stdout",
     "output_type": "stream",
     "text": [
      "Retrieved in-context learning examples with idx:  [128, 356, 413]\n",
      "Trying to call OpenAI API...\n"
     ]
    },
    {
     "name": "stderr",
     "output_type": "stream",
     "text": [
      "Processing dataset:  15%|███▏                  | 78/534 [01:05<07:02,  1.08it/s]"
     ]
    },
    {
     "name": "stdout",
     "output_type": "stream",
     "text": [
      "Retrieved in-context learning examples with idx:  [128, 11, 413]\n",
      "Trying to call OpenAI API...\n"
     ]
    },
    {
     "name": "stderr",
     "output_type": "stream",
     "text": [
      "Processing dataset:  15%|███▎                  | 79/534 [01:07<07:15,  1.05it/s]"
     ]
    },
    {
     "name": "stdout",
     "output_type": "stream",
     "text": [
      "Retrieved in-context learning examples with idx:  [128, 356, 413]\n",
      "Trying to call OpenAI API...\n"
     ]
    },
    {
     "name": "stderr",
     "output_type": "stream",
     "text": [
      "Processing dataset:  15%|███▎                  | 80/534 [01:07<07:09,  1.06it/s]"
     ]
    },
    {
     "name": "stdout",
     "output_type": "stream",
     "text": [
      "Retrieved in-context learning examples with idx:  [128, 11, 191]\n",
      "Trying to call OpenAI API...\n"
     ]
    },
    {
     "name": "stderr",
     "output_type": "stream",
     "text": [
      "Processing dataset:  15%|███▎                  | 81/534 [01:08<06:51,  1.10it/s]"
     ]
    },
    {
     "name": "stdout",
     "output_type": "stream",
     "text": [
      "Retrieved in-context learning examples with idx:  [356, 128, 413]\n",
      "Trying to call OpenAI API...\n"
     ]
    },
    {
     "name": "stderr",
     "output_type": "stream",
     "text": [
      "Processing dataset:  15%|███▍                  | 82/534 [01:09<06:44,  1.12it/s]"
     ]
    },
    {
     "name": "stdout",
     "output_type": "stream",
     "text": [
      "Retrieved in-context learning examples with idx:  [128, 356, 11]\n",
      "Trying to call OpenAI API...\n"
     ]
    },
    {
     "name": "stderr",
     "output_type": "stream",
     "text": [
      "Processing dataset:  16%|███▍                  | 83/534 [01:10<06:27,  1.16it/s]"
     ]
    },
    {
     "name": "stdout",
     "output_type": "stream",
     "text": [
      "Retrieved in-context learning examples with idx:  [128, 11, 356]\n",
      "Trying to call OpenAI API...\n"
     ]
    },
    {
     "name": "stderr",
     "output_type": "stream",
     "text": [
      "Processing dataset:  16%|███▍                  | 84/534 [01:11<06:25,  1.17it/s]"
     ]
    },
    {
     "name": "stdout",
     "output_type": "stream",
     "text": [
      "Retrieved in-context learning examples with idx:  [128, 413, 1032]\n",
      "Trying to call OpenAI API...\n"
     ]
    },
    {
     "name": "stderr",
     "output_type": "stream",
     "text": [
      "Processing dataset:  16%|███▌                  | 85/534 [01:12<06:15,  1.20it/s]"
     ]
    },
    {
     "name": "stdout",
     "output_type": "stream",
     "text": [
      "Retrieved in-context learning examples with idx:  [128, 1032, 413]\n",
      "Trying to call OpenAI API...\n"
     ]
    },
    {
     "name": "stderr",
     "output_type": "stream",
     "text": [
      "Processing dataset:  16%|███▌                  | 86/534 [01:13<06:53,  1.08it/s]"
     ]
    },
    {
     "name": "stdout",
     "output_type": "stream",
     "text": [
      "Retrieved in-context learning examples with idx:  [128, 413, 1032]\n",
      "Trying to call OpenAI API...\n"
     ]
    },
    {
     "name": "stderr",
     "output_type": "stream",
     "text": [
      "Processing dataset:  16%|███▌                  | 87/534 [01:13<06:24,  1.16it/s]"
     ]
    },
    {
     "name": "stdout",
     "output_type": "stream",
     "text": [
      "Retrieved in-context learning examples with idx:  [128, 191, 11]\n",
      "Trying to call OpenAI API...\n"
     ]
    },
    {
     "name": "stderr",
     "output_type": "stream",
     "text": [
      "Processing dataset:  16%|███▋                  | 88/534 [01:14<06:04,  1.22it/s]"
     ]
    },
    {
     "name": "stdout",
     "output_type": "stream",
     "text": [
      "Retrieved in-context learning examples with idx:  [128, 356, 1032]\n",
      "Trying to call OpenAI API...\n"
     ]
    },
    {
     "name": "stderr",
     "output_type": "stream",
     "text": [
      "Processing dataset:  17%|███▋                  | 89/534 [01:15<06:06,  1.22it/s]"
     ]
    },
    {
     "name": "stdout",
     "output_type": "stream",
     "text": [
      "Retrieved in-context learning examples with idx:  [128, 11, 356]\n",
      "Trying to call OpenAI API...\n"
     ]
    },
    {
     "name": "stderr",
     "output_type": "stream",
     "text": [
      "Processing dataset:  17%|███▋                  | 90/534 [01:16<06:03,  1.22it/s]"
     ]
    },
    {
     "name": "stdout",
     "output_type": "stream",
     "text": [
      "Retrieved in-context learning examples with idx:  [128, 191, 11]\n",
      "Trying to call OpenAI API...\n"
     ]
    },
    {
     "name": "stderr",
     "output_type": "stream",
     "text": [
      "Processing dataset:  17%|███▋                  | 91/534 [01:17<06:09,  1.20it/s]"
     ]
    },
    {
     "name": "stdout",
     "output_type": "stream",
     "text": [
      "Retrieved in-context learning examples with idx:  [128, 413, 1032]\n",
      "Trying to call OpenAI API...\n"
     ]
    },
    {
     "name": "stderr",
     "output_type": "stream",
     "text": [
      "Processing dataset:  17%|███▊                  | 92/534 [01:17<05:44,  1.28it/s]"
     ]
    },
    {
     "name": "stdout",
     "output_type": "stream",
     "text": [
      "Retrieved in-context learning examples with idx:  [128, 191, 11]\n",
      "Trying to call OpenAI API...\n"
     ]
    },
    {
     "name": "stderr",
     "output_type": "stream",
     "text": [
      "Processing dataset:  17%|███▊                  | 93/534 [01:18<05:37,  1.31it/s]"
     ]
    },
    {
     "name": "stdout",
     "output_type": "stream",
     "text": [
      "Retrieved in-context learning examples with idx:  [128, 1032, 413]\n",
      "Trying to call OpenAI API...\n"
     ]
    },
    {
     "name": "stderr",
     "output_type": "stream",
     "text": [
      "Processing dataset:  18%|███▊                  | 94/534 [01:19<05:41,  1.29it/s]"
     ]
    },
    {
     "name": "stdout",
     "output_type": "stream",
     "text": [
      "Retrieved in-context learning examples with idx:  [128, 413, 1000]\n",
      "Trying to call OpenAI API...\n"
     ]
    },
    {
     "name": "stderr",
     "output_type": "stream",
     "text": [
      "Processing dataset:  18%|███▉                  | 95/534 [01:20<05:49,  1.26it/s]"
     ]
    },
    {
     "name": "stdout",
     "output_type": "stream",
     "text": [
      "Retrieved in-context learning examples with idx:  [128, 11, 413]\n",
      "Trying to call OpenAI API...\n"
     ]
    },
    {
     "name": "stderr",
     "output_type": "stream",
     "text": [
      "Processing dataset:  18%|███▉                  | 96/534 [01:20<05:38,  1.30it/s]"
     ]
    },
    {
     "name": "stdout",
     "output_type": "stream",
     "text": [
      "Retrieved in-context learning examples with idx:  [128, 413, 191]\n",
      "Trying to call OpenAI API...\n"
     ]
    },
    {
     "name": "stderr",
     "output_type": "stream",
     "text": [
      "Processing dataset:  18%|███▉                  | 97/534 [01:21<05:27,  1.33it/s]"
     ]
    },
    {
     "name": "stdout",
     "output_type": "stream",
     "text": [
      "Retrieved in-context learning examples with idx:  [356, 11, 128]\n",
      "Trying to call OpenAI API...\n"
     ]
    },
    {
     "name": "stderr",
     "output_type": "stream",
     "text": [
      "Processing dataset:  18%|████                  | 98/534 [01:22<05:29,  1.32it/s]"
     ]
    },
    {
     "name": "stdout",
     "output_type": "stream",
     "text": [
      "Retrieved in-context learning examples with idx:  [128, 413, 356]\n",
      "Trying to call OpenAI API...\n"
     ]
    },
    {
     "name": "stderr",
     "output_type": "stream",
     "text": [
      "Processing dataset:  19%|████                  | 99/534 [01:23<05:22,  1.35it/s]"
     ]
    },
    {
     "name": "stdout",
     "output_type": "stream",
     "text": [
      "Retrieved in-context learning examples with idx:  [191, 128, 739]\n",
      "Trying to call OpenAI API...\n"
     ]
    },
    {
     "name": "stderr",
     "output_type": "stream",
     "text": [
      "Processing dataset:  19%|███▉                 | 100/534 [01:23<05:47,  1.25it/s]"
     ]
    },
    {
     "name": "stdout",
     "output_type": "stream",
     "text": [
      "Retrieved in-context learning examples with idx:  [128, 191, 356]\n",
      "Trying to call OpenAI API...\n"
     ]
    },
    {
     "name": "stderr",
     "output_type": "stream",
     "text": [
      "Processing dataset:  19%|███▉                 | 101/534 [01:24<05:21,  1.35it/s]"
     ]
    },
    {
     "name": "stdout",
     "output_type": "stream",
     "text": [
      "Retrieved in-context learning examples with idx:  [191, 128, 356]\n",
      "Trying to call OpenAI API...\n"
     ]
    },
    {
     "name": "stderr",
     "output_type": "stream",
     "text": [
      "Processing dataset:  19%|████                 | 102/534 [01:25<05:26,  1.32it/s]"
     ]
    },
    {
     "name": "stdout",
     "output_type": "stream",
     "text": [
      "Retrieved in-context learning examples with idx:  [128, 191, 1000]\n",
      "Trying to call OpenAI API...\n"
     ]
    },
    {
     "name": "stderr",
     "output_type": "stream",
     "text": [
      "Processing dataset:  19%|████                 | 103/534 [01:26<05:41,  1.26it/s]"
     ]
    },
    {
     "name": "stdout",
     "output_type": "stream",
     "text": [
      "Retrieved in-context learning examples with idx:  [191, 65, 739]\n",
      "Trying to call OpenAI API...\n"
     ]
    },
    {
     "name": "stderr",
     "output_type": "stream",
     "text": [
      "Processing dataset:  19%|████                 | 104/534 [01:27<05:39,  1.27it/s]"
     ]
    },
    {
     "name": "stdout",
     "output_type": "stream",
     "text": [
      "Retrieved in-context learning examples with idx:  [128, 356, 413]\n",
      "Trying to call OpenAI API...\n"
     ]
    },
    {
     "name": "stderr",
     "output_type": "stream",
     "text": [
      "Processing dataset:  20%|████▏                | 105/534 [01:27<05:30,  1.30it/s]"
     ]
    },
    {
     "name": "stdout",
     "output_type": "stream",
     "text": [
      "Retrieved in-context learning examples with idx:  [128, 356, 1032]\n",
      "Trying to call OpenAI API...\n"
     ]
    },
    {
     "name": "stderr",
     "output_type": "stream",
     "text": [
      "Processing dataset:  20%|████▏                | 106/534 [01:28<05:30,  1.30it/s]"
     ]
    },
    {
     "name": "stdout",
     "output_type": "stream",
     "text": [
      "Retrieved in-context learning examples with idx:  [128, 1032, 413]\n",
      "Trying to call OpenAI API...\n"
     ]
    },
    {
     "name": "stderr",
     "output_type": "stream",
     "text": [
      "Processing dataset:  20%|████▏                | 107/534 [01:29<05:26,  1.31it/s]"
     ]
    },
    {
     "name": "stdout",
     "output_type": "stream",
     "text": [
      "Retrieved in-context learning examples with idx:  [128, 356, 1032]\n",
      "Trying to call OpenAI API...\n"
     ]
    },
    {
     "name": "stderr",
     "output_type": "stream",
     "text": [
      "Processing dataset:  20%|████▏                | 108/534 [01:30<05:36,  1.26it/s]"
     ]
    },
    {
     "name": "stdout",
     "output_type": "stream",
     "text": [
      "Retrieved in-context learning examples with idx:  [128, 413, 356]\n",
      "Trying to call OpenAI API...\n"
     ]
    },
    {
     "name": "stderr",
     "output_type": "stream",
     "text": [
      "Processing dataset:  20%|████▎                | 109/534 [01:30<05:18,  1.33it/s]"
     ]
    },
    {
     "name": "stdout",
     "output_type": "stream",
     "text": [
      "Retrieved in-context learning examples with idx:  [128, 191, 11]\n",
      "Trying to call OpenAI API...\n"
     ]
    },
    {
     "name": "stderr",
     "output_type": "stream",
     "text": [
      "Processing dataset:  21%|████▎                | 110/534 [01:31<05:23,  1.31it/s]"
     ]
    },
    {
     "name": "stdout",
     "output_type": "stream",
     "text": [
      "Retrieved in-context learning examples with idx:  [11, 128, 356]\n",
      "Trying to call OpenAI API...\n"
     ]
    },
    {
     "name": "stderr",
     "output_type": "stream",
     "text": [
      "Processing dataset:  21%|████▎                | 111/534 [01:32<05:17,  1.33it/s]"
     ]
    },
    {
     "name": "stdout",
     "output_type": "stream",
     "text": [
      "Retrieved in-context learning examples with idx:  [128, 413, 1032]\n",
      "Trying to call OpenAI API...\n"
     ]
    },
    {
     "name": "stderr",
     "output_type": "stream",
     "text": [
      "Processing dataset:  21%|████▍                | 112/534 [01:33<06:05,  1.15it/s]"
     ]
    },
    {
     "name": "stdout",
     "output_type": "stream",
     "text": [
      "Retrieved in-context learning examples with idx:  [128, 1032, 413]\n",
      "Trying to call OpenAI API...\n"
     ]
    },
    {
     "name": "stderr",
     "output_type": "stream",
     "text": [
      "Processing dataset:  21%|████▍                | 113/534 [01:34<06:00,  1.17it/s]"
     ]
    },
    {
     "name": "stdout",
     "output_type": "stream",
     "text": [
      "Retrieved in-context learning examples with idx:  [128, 413, 356]\n",
      "Trying to call OpenAI API...\n"
     ]
    },
    {
     "name": "stderr",
     "output_type": "stream",
     "text": [
      "Processing dataset:  21%|████▍                | 114/534 [01:34<05:42,  1.23it/s]"
     ]
    },
    {
     "name": "stdout",
     "output_type": "stream",
     "text": [
      "Retrieved in-context learning examples with idx:  [128, 11, 191]\n",
      "Trying to call OpenAI API...\n"
     ]
    },
    {
     "name": "stderr",
     "output_type": "stream",
     "text": [
      "Processing dataset:  22%|████▌                | 115/534 [01:35<05:19,  1.31it/s]"
     ]
    },
    {
     "name": "stdout",
     "output_type": "stream",
     "text": [
      "Retrieved in-context learning examples with idx:  [128, 191, 11]\n",
      "Trying to call OpenAI API...\n"
     ]
    },
    {
     "name": "stderr",
     "output_type": "stream",
     "text": [
      "Processing dataset:  22%|████▌                | 116/534 [01:36<05:21,  1.30it/s]"
     ]
    },
    {
     "name": "stdout",
     "output_type": "stream",
     "text": [
      "Retrieved in-context learning examples with idx:  [128, 413, 1032]\n",
      "Trying to call OpenAI API...\n"
     ]
    },
    {
     "name": "stderr",
     "output_type": "stream",
     "text": [
      "Processing dataset:  22%|████▌                | 117/534 [01:38<07:33,  1.09s/it]"
     ]
    },
    {
     "name": "stdout",
     "output_type": "stream",
     "text": [
      "Retrieved in-context learning examples with idx:  [128, 1032, 191]\n",
      "Trying to call OpenAI API...\n"
     ]
    },
    {
     "name": "stderr",
     "output_type": "stream",
     "text": [
      "Processing dataset:  22%|████▋                | 118/534 [01:39<06:57,  1.00s/it]"
     ]
    },
    {
     "name": "stdout",
     "output_type": "stream",
     "text": [
      "Retrieved in-context learning examples with idx:  [191, 128, 4]\n",
      "Trying to call OpenAI API...\n"
     ]
    },
    {
     "name": "stderr",
     "output_type": "stream",
     "text": [
      "Processing dataset:  22%|████▋                | 119/534 [01:39<06:38,  1.04it/s]"
     ]
    },
    {
     "name": "stdout",
     "output_type": "stream",
     "text": [
      "Retrieved in-context learning examples with idx:  [128, 356, 1032]\n",
      "Trying to call OpenAI API...\n"
     ]
    },
    {
     "name": "stderr",
     "output_type": "stream",
     "text": [
      "Processing dataset:  22%|████▋                | 120/534 [01:40<06:12,  1.11it/s]"
     ]
    },
    {
     "name": "stdout",
     "output_type": "stream",
     "text": [
      "Retrieved in-context learning examples with idx:  [128, 413, 1032]\n",
      "Trying to call OpenAI API...\n"
     ]
    },
    {
     "name": "stderr",
     "output_type": "stream",
     "text": [
      "Processing dataset:  23%|████▊                | 121/534 [01:41<06:08,  1.12it/s]"
     ]
    },
    {
     "name": "stdout",
     "output_type": "stream",
     "text": [
      "Retrieved in-context learning examples with idx:  [128, 11, 191]\n",
      "Trying to call OpenAI API...\n"
     ]
    },
    {
     "name": "stderr",
     "output_type": "stream",
     "text": [
      "Processing dataset:  23%|████▊                | 122/534 [01:42<05:58,  1.15it/s]"
     ]
    },
    {
     "name": "stdout",
     "output_type": "stream",
     "text": [
      "Retrieved in-context learning examples with idx:  [128, 11, 4]\n",
      "Trying to call OpenAI API...\n"
     ]
    },
    {
     "name": "stderr",
     "output_type": "stream",
     "text": [
      "Processing dataset:  23%|████▊                | 123/534 [01:43<06:03,  1.13it/s]"
     ]
    },
    {
     "name": "stdout",
     "output_type": "stream",
     "text": [
      "Retrieved in-context learning examples with idx:  [128, 356, 11]\n",
      "Trying to call OpenAI API...\n"
     ]
    },
    {
     "name": "stderr",
     "output_type": "stream",
     "text": [
      "Processing dataset:  23%|████▉                | 124/534 [01:43<05:41,  1.20it/s]"
     ]
    },
    {
     "name": "stdout",
     "output_type": "stream",
     "text": [
      "Retrieved in-context learning examples with idx:  [128, 11, 356]\n",
      "Trying to call OpenAI API...\n"
     ]
    },
    {
     "name": "stderr",
     "output_type": "stream",
     "text": [
      "Processing dataset:  23%|████▉                | 125/534 [01:44<05:20,  1.27it/s]"
     ]
    },
    {
     "name": "stdout",
     "output_type": "stream",
     "text": [
      "Retrieved in-context learning examples with idx:  [128, 413, 191]\n",
      "Trying to call OpenAI API...\n"
     ]
    },
    {
     "name": "stderr",
     "output_type": "stream",
     "text": [
      "Processing dataset:  24%|████▉                | 126/534 [01:45<05:34,  1.22it/s]"
     ]
    },
    {
     "name": "stdout",
     "output_type": "stream",
     "text": [
      "Retrieved in-context learning examples with idx:  [128, 413, 191]\n",
      "Trying to call OpenAI API...\n"
     ]
    },
    {
     "name": "stderr",
     "output_type": "stream",
     "text": [
      "Processing dataset:  24%|████▉                | 127/534 [01:46<06:06,  1.11it/s]"
     ]
    },
    {
     "name": "stdout",
     "output_type": "stream",
     "text": [
      "Retrieved in-context learning examples with idx:  [128, 191, 1032]\n",
      "Trying to call OpenAI API...\n"
     ]
    },
    {
     "name": "stderr",
     "output_type": "stream",
     "text": [
      "Processing dataset:  24%|█████                | 128/534 [01:47<05:33,  1.22it/s]"
     ]
    },
    {
     "name": "stdout",
     "output_type": "stream",
     "text": [
      "Retrieved in-context learning examples with idx:  [128, 356, 413]\n",
      "Trying to call OpenAI API...\n"
     ]
    },
    {
     "name": "stderr",
     "output_type": "stream",
     "text": [
      "Processing dataset:  24%|█████                | 129/534 [01:47<05:18,  1.27it/s]"
     ]
    },
    {
     "name": "stdout",
     "output_type": "stream",
     "text": [
      "Retrieved in-context learning examples with idx:  [128, 356, 413]\n",
      "Trying to call OpenAI API...\n"
     ]
    },
    {
     "name": "stderr",
     "output_type": "stream",
     "text": [
      "Processing dataset:  24%|█████                | 130/534 [01:48<05:19,  1.26it/s]"
     ]
    },
    {
     "name": "stdout",
     "output_type": "stream",
     "text": [
      "Retrieved in-context learning examples with idx:  [128, 11, 1032]\n",
      "Trying to call OpenAI API...\n"
     ]
    },
    {
     "name": "stderr",
     "output_type": "stream",
     "text": [
      "Processing dataset:  25%|█████▏               | 131/534 [01:49<05:12,  1.29it/s]"
     ]
    },
    {
     "name": "stdout",
     "output_type": "stream",
     "text": [
      "Retrieved in-context learning examples with idx:  [191, 128, 140]\n",
      "Trying to call OpenAI API...\n"
     ]
    },
    {
     "name": "stderr",
     "output_type": "stream",
     "text": [
      "Processing dataset:  25%|█████▏               | 132/534 [01:50<05:14,  1.28it/s]"
     ]
    },
    {
     "name": "stdout",
     "output_type": "stream",
     "text": [
      "Retrieved in-context learning examples with idx:  [128, 356, 413]\n",
      "Trying to call OpenAI API...\n"
     ]
    },
    {
     "name": "stderr",
     "output_type": "stream",
     "text": [
      "Processing dataset:  25%|█████▏               | 133/534 [01:51<05:13,  1.28it/s]"
     ]
    },
    {
     "name": "stdout",
     "output_type": "stream",
     "text": [
      "Retrieved in-context learning examples with idx:  [128, 356, 1032]\n",
      "Trying to call OpenAI API...\n"
     ]
    },
    {
     "name": "stderr",
     "output_type": "stream",
     "text": [
      "Processing dataset:  25%|█████▎               | 134/534 [01:51<04:54,  1.36it/s]"
     ]
    },
    {
     "name": "stdout",
     "output_type": "stream",
     "text": [
      "Retrieved in-context learning examples with idx:  [128, 1032, 356]\n",
      "Trying to call OpenAI API...\n"
     ]
    },
    {
     "name": "stderr",
     "output_type": "stream",
     "text": [
      "Processing dataset:  25%|█████▎               | 135/534 [01:52<05:06,  1.30it/s]"
     ]
    },
    {
     "name": "stdout",
     "output_type": "stream",
     "text": [
      "Retrieved in-context learning examples with idx:  [11, 356, 128]\n",
      "Trying to call OpenAI API...\n"
     ]
    },
    {
     "name": "stderr",
     "output_type": "stream",
     "text": [
      "Processing dataset:  25%|█████▎               | 136/534 [01:53<05:06,  1.30it/s]"
     ]
    },
    {
     "name": "stdout",
     "output_type": "stream",
     "text": [
      "Retrieved in-context learning examples with idx:  [128, 356, 11]\n",
      "Trying to call OpenAI API...\n"
     ]
    },
    {
     "name": "stderr",
     "output_type": "stream",
     "text": [
      "Processing dataset:  26%|█████▍               | 137/534 [01:53<04:50,  1.37it/s]"
     ]
    },
    {
     "name": "stdout",
     "output_type": "stream",
     "text": [
      "Retrieved in-context learning examples with idx:  [128, 1032, 356]\n",
      "Trying to call OpenAI API...\n"
     ]
    },
    {
     "name": "stderr",
     "output_type": "stream",
     "text": [
      "Processing dataset:  26%|█████▍               | 138/534 [01:54<04:46,  1.38it/s]"
     ]
    },
    {
     "name": "stdout",
     "output_type": "stream",
     "text": [
      "Retrieved in-context learning examples with idx:  [128, 191, 356]\n",
      "Trying to call OpenAI API...\n"
     ]
    },
    {
     "name": "stderr",
     "output_type": "stream",
     "text": [
      "Processing dataset:  26%|█████▍               | 139/534 [01:55<04:53,  1.34it/s]"
     ]
    },
    {
     "name": "stdout",
     "output_type": "stream",
     "text": [
      "Retrieved in-context learning examples with idx:  [128, 413, 1032]\n",
      "Trying to call OpenAI API...\n"
     ]
    },
    {
     "name": "stderr",
     "output_type": "stream",
     "text": [
      "Processing dataset:  26%|█████▌               | 140/534 [01:56<04:55,  1.33it/s]"
     ]
    },
    {
     "name": "stdout",
     "output_type": "stream",
     "text": [
      "Retrieved in-context learning examples with idx:  [128, 413, 191]\n",
      "Trying to call OpenAI API...\n"
     ]
    },
    {
     "name": "stderr",
     "output_type": "stream",
     "text": [
      "Processing dataset:  26%|█████▌               | 141/534 [01:57<04:54,  1.33it/s]"
     ]
    },
    {
     "name": "stdout",
     "output_type": "stream",
     "text": [
      "Retrieved in-context learning examples with idx:  [128, 356, 191]\n",
      "Trying to call OpenAI API...\n"
     ]
    },
    {
     "name": "stderr",
     "output_type": "stream",
     "text": [
      "Processing dataset:  27%|█████▌               | 142/534 [01:57<04:46,  1.37it/s]"
     ]
    },
    {
     "name": "stdout",
     "output_type": "stream",
     "text": [
      "Retrieved in-context learning examples with idx:  [128, 191, 413]\n",
      "Trying to call OpenAI API...\n"
     ]
    },
    {
     "name": "stderr",
     "output_type": "stream",
     "text": [
      "Processing dataset:  27%|█████▌               | 143/534 [01:58<04:46,  1.36it/s]"
     ]
    },
    {
     "name": "stdout",
     "output_type": "stream",
     "text": [
      "Retrieved in-context learning examples with idx:  [128, 356, 191]\n",
      "Trying to call OpenAI API...\n"
     ]
    },
    {
     "name": "stderr",
     "output_type": "stream",
     "text": [
      "Processing dataset:  27%|█████▋               | 144/534 [01:59<04:51,  1.34it/s]"
     ]
    },
    {
     "name": "stdout",
     "output_type": "stream",
     "text": [
      "Retrieved in-context learning examples with idx:  [128, 413, 1032]\n",
      "Trying to call OpenAI API...\n"
     ]
    },
    {
     "name": "stderr",
     "output_type": "stream",
     "text": [
      "Processing dataset:  27%|█████▋               | 145/534 [01:59<04:49,  1.34it/s]"
     ]
    },
    {
     "name": "stdout",
     "output_type": "stream",
     "text": [
      "Retrieved in-context learning examples with idx:  [128, 191, 11]\n",
      "Trying to call OpenAI API...\n"
     ]
    },
    {
     "name": "stderr",
     "output_type": "stream",
     "text": [
      "Processing dataset:  27%|█████▋               | 146/534 [02:00<04:58,  1.30it/s]"
     ]
    },
    {
     "name": "stdout",
     "output_type": "stream",
     "text": [
      "Retrieved in-context learning examples with idx:  [128, 11, 413]\n",
      "Trying to call OpenAI API...\n"
     ]
    },
    {
     "name": "stderr",
     "output_type": "stream",
     "text": [
      "Processing dataset:  28%|█████▊               | 147/534 [02:01<05:03,  1.28it/s]"
     ]
    },
    {
     "name": "stdout",
     "output_type": "stream",
     "text": [
      "Retrieved in-context learning examples with idx:  [413, 356, 128]\n",
      "Trying to call OpenAI API...\n"
     ]
    },
    {
     "name": "stderr",
     "output_type": "stream",
     "text": [
      "Processing dataset:  28%|█████▊               | 148/534 [02:02<04:56,  1.30it/s]"
     ]
    },
    {
     "name": "stdout",
     "output_type": "stream",
     "text": [
      "Retrieved in-context learning examples with idx:  [128, 356, 841]\n",
      "Trying to call OpenAI API...\n"
     ]
    },
    {
     "name": "stderr",
     "output_type": "stream",
     "text": [
      "Processing dataset:  28%|█████▊               | 149/534 [02:03<04:48,  1.34it/s]"
     ]
    },
    {
     "name": "stdout",
     "output_type": "stream",
     "text": [
      "Retrieved in-context learning examples with idx:  [128, 413, 191]\n",
      "Trying to call OpenAI API...\n"
     ]
    },
    {
     "name": "stderr",
     "output_type": "stream",
     "text": [
      "Processing dataset:  28%|█████▉               | 150/534 [02:03<04:33,  1.41it/s]"
     ]
    },
    {
     "name": "stdout",
     "output_type": "stream",
     "text": [
      "Retrieved in-context learning examples with idx:  [128, 356, 413]\n",
      "Trying to call OpenAI API...\n"
     ]
    },
    {
     "name": "stderr",
     "output_type": "stream",
     "text": [
      "Processing dataset:  28%|█████▉               | 151/534 [02:04<04:31,  1.41it/s]"
     ]
    },
    {
     "name": "stdout",
     "output_type": "stream",
     "text": [
      "Retrieved in-context learning examples with idx:  [128, 356, 11]\n",
      "Trying to call OpenAI API...\n"
     ]
    },
    {
     "name": "stderr",
     "output_type": "stream",
     "text": [
      "Processing dataset:  28%|█████▉               | 152/534 [02:05<04:31,  1.41it/s]"
     ]
    },
    {
     "name": "stdout",
     "output_type": "stream",
     "text": [
      "Retrieved in-context learning examples with idx:  [191, 11, 356]\n",
      "Trying to call OpenAI API...\n"
     ]
    },
    {
     "name": "stderr",
     "output_type": "stream",
     "text": [
      "Processing dataset:  29%|██████               | 153/534 [02:05<04:31,  1.41it/s]"
     ]
    },
    {
     "name": "stdout",
     "output_type": "stream",
     "text": [
      "Retrieved in-context learning examples with idx:  [128, 356, 191]\n",
      "Trying to call OpenAI API...\n"
     ]
    },
    {
     "name": "stderr",
     "output_type": "stream",
     "text": [
      "Processing dataset:  29%|██████               | 154/534 [02:06<05:20,  1.18it/s]"
     ]
    },
    {
     "name": "stdout",
     "output_type": "stream",
     "text": [
      "Retrieved in-context learning examples with idx:  [128, 413, 1032]\n",
      "Trying to call OpenAI API...\n"
     ]
    },
    {
     "name": "stderr",
     "output_type": "stream",
     "text": [
      "Processing dataset:  29%|██████               | 155/534 [02:07<05:03,  1.25it/s]"
     ]
    },
    {
     "name": "stdout",
     "output_type": "stream",
     "text": [
      "Retrieved in-context learning examples with idx:  [128, 11, 1032]\n",
      "Trying to call OpenAI API...\n"
     ]
    },
    {
     "name": "stderr",
     "output_type": "stream",
     "text": [
      "Processing dataset:  29%|██████▏              | 156/534 [02:08<04:52,  1.29it/s]"
     ]
    },
    {
     "name": "stdout",
     "output_type": "stream",
     "text": [
      "Retrieved in-context learning examples with idx:  [128, 356, 1032]\n",
      "Trying to call OpenAI API...\n"
     ]
    },
    {
     "name": "stderr",
     "output_type": "stream",
     "text": [
      "Processing dataset:  29%|██████▏              | 157/534 [02:09<04:46,  1.32it/s]"
     ]
    },
    {
     "name": "stdout",
     "output_type": "stream",
     "text": [
      "Retrieved in-context learning examples with idx:  [128, 356, 11]\n",
      "Trying to call OpenAI API...\n"
     ]
    },
    {
     "name": "stderr",
     "output_type": "stream",
     "text": [
      "Processing dataset:  30%|██████▏              | 158/534 [02:09<04:42,  1.33it/s]"
     ]
    },
    {
     "name": "stdout",
     "output_type": "stream",
     "text": [
      "Retrieved in-context learning examples with idx:  [128, 11, 356]\n",
      "Trying to call OpenAI API...\n"
     ]
    },
    {
     "name": "stderr",
     "output_type": "stream",
     "text": [
      "Processing dataset:  30%|██████▎              | 159/534 [02:10<04:43,  1.32it/s]"
     ]
    },
    {
     "name": "stdout",
     "output_type": "stream",
     "text": [
      "Retrieved in-context learning examples with idx:  [128, 413, 356]\n",
      "Trying to call OpenAI API...\n"
     ]
    },
    {
     "name": "stderr",
     "output_type": "stream",
     "text": [
      "Processing dataset:  30%|██████▎              | 160/534 [02:11<04:53,  1.27it/s]"
     ]
    },
    {
     "name": "stdout",
     "output_type": "stream",
     "text": [
      "Retrieved in-context learning examples with idx:  [128, 356, 1032]\n",
      "Trying to call OpenAI API...\n"
     ]
    },
    {
     "name": "stderr",
     "output_type": "stream",
     "text": [
      "Processing dataset:  30%|██████▎              | 161/534 [02:12<04:43,  1.32it/s]"
     ]
    },
    {
     "name": "stdout",
     "output_type": "stream",
     "text": [
      "Retrieved in-context learning examples with idx:  [128, 413, 356]\n",
      "Trying to call OpenAI API...\n"
     ]
    },
    {
     "name": "stderr",
     "output_type": "stream",
     "text": [
      "Processing dataset:  30%|██████▎              | 162/534 [02:12<04:42,  1.32it/s]"
     ]
    },
    {
     "name": "stdout",
     "output_type": "stream",
     "text": [
      "Retrieved in-context learning examples with idx:  [128, 413, 1032]\n",
      "Trying to call OpenAI API...\n"
     ]
    },
    {
     "name": "stderr",
     "output_type": "stream",
     "text": [
      "Processing dataset:  31%|██████▍              | 163/534 [02:13<04:27,  1.39it/s]"
     ]
    },
    {
     "name": "stdout",
     "output_type": "stream",
     "text": [
      "Retrieved in-context learning examples with idx:  [128, 356, 413]\n",
      "Trying to call OpenAI API...\n"
     ]
    },
    {
     "name": "stderr",
     "output_type": "stream",
     "text": [
      "Processing dataset:  31%|██████▍              | 164/534 [02:14<04:25,  1.40it/s]"
     ]
    },
    {
     "name": "stdout",
     "output_type": "stream",
     "text": [
      "Retrieved in-context learning examples with idx:  [128, 1032, 413]\n",
      "Trying to call OpenAI API...\n"
     ]
    },
    {
     "name": "stderr",
     "output_type": "stream",
     "text": [
      "Processing dataset:  31%|██████▍              | 165/534 [02:14<04:20,  1.41it/s]"
     ]
    },
    {
     "name": "stdout",
     "output_type": "stream",
     "text": [
      "Retrieved in-context learning examples with idx:  [128, 1032, 356]\n",
      "Trying to call OpenAI API...\n"
     ]
    },
    {
     "name": "stderr",
     "output_type": "stream",
     "text": [
      "Processing dataset:  31%|██████▌              | 166/534 [02:15<04:43,  1.30it/s]"
     ]
    },
    {
     "name": "stdout",
     "output_type": "stream",
     "text": [
      "Retrieved in-context learning examples with idx:  [128, 413, 191]\n",
      "Trying to call OpenAI API...\n"
     ]
    },
    {
     "name": "stderr",
     "output_type": "stream",
     "text": [
      "Processing dataset:  31%|██████▌              | 167/534 [02:16<04:36,  1.33it/s]"
     ]
    },
    {
     "name": "stdout",
     "output_type": "stream",
     "text": [
      "Retrieved in-context learning examples with idx:  [128, 11, 191]\n",
      "Trying to call OpenAI API...\n"
     ]
    },
    {
     "name": "stderr",
     "output_type": "stream",
     "text": [
      "Processing dataset:  31%|██████▌              | 168/534 [02:17<04:32,  1.34it/s]"
     ]
    },
    {
     "name": "stdout",
     "output_type": "stream",
     "text": [
      "Retrieved in-context learning examples with idx:  [128, 356, 191]\n",
      "Trying to call OpenAI API...\n"
     ]
    },
    {
     "name": "stderr",
     "output_type": "stream",
     "text": [
      "Processing dataset:  32%|██████▋              | 169/534 [02:17<04:20,  1.40it/s]"
     ]
    },
    {
     "name": "stdout",
     "output_type": "stream",
     "text": [
      "Retrieved in-context learning examples with idx:  [128, 413, 356]\n",
      "Trying to call OpenAI API...\n"
     ]
    },
    {
     "name": "stderr",
     "output_type": "stream",
     "text": [
      "Processing dataset:  32%|██████▋              | 170/534 [02:18<04:08,  1.46it/s]"
     ]
    },
    {
     "name": "stdout",
     "output_type": "stream",
     "text": [
      "Retrieved in-context learning examples with idx:  [128, 356, 413]\n",
      "Trying to call OpenAI API...\n"
     ]
    },
    {
     "name": "stderr",
     "output_type": "stream",
     "text": [
      "Processing dataset:  32%|██████▋              | 171/534 [02:19<04:31,  1.34it/s]"
     ]
    },
    {
     "name": "stdout",
     "output_type": "stream",
     "text": [
      "Retrieved in-context learning examples with idx:  [128, 356, 11]\n",
      "Trying to call OpenAI API...\n"
     ]
    },
    {
     "name": "stderr",
     "output_type": "stream",
     "text": [
      "Processing dataset:  32%|██████▊              | 172/534 [02:20<04:49,  1.25it/s]"
     ]
    },
    {
     "name": "stdout",
     "output_type": "stream",
     "text": [
      "Retrieved in-context learning examples with idx:  [413, 356, 128]\n",
      "Trying to call OpenAI API...\n"
     ]
    },
    {
     "name": "stderr",
     "output_type": "stream",
     "text": [
      "Processing dataset:  32%|██████▊              | 173/534 [02:20<04:23,  1.37it/s]"
     ]
    },
    {
     "name": "stdout",
     "output_type": "stream",
     "text": [
      "Retrieved in-context learning examples with idx:  [128, 413, 1032]\n",
      "Trying to call OpenAI API...\n"
     ]
    },
    {
     "name": "stderr",
     "output_type": "stream",
     "text": [
      "Processing dataset:  33%|██████▊              | 174/534 [02:21<04:15,  1.41it/s]"
     ]
    },
    {
     "name": "stdout",
     "output_type": "stream",
     "text": [
      "Retrieved in-context learning examples with idx:  [128, 413, 1032]\n",
      "Trying to call OpenAI API...\n"
     ]
    },
    {
     "name": "stderr",
     "output_type": "stream",
     "text": [
      "Processing dataset:  33%|██████▉              | 175/534 [02:22<04:15,  1.40it/s]"
     ]
    },
    {
     "name": "stdout",
     "output_type": "stream",
     "text": [
      "Retrieved in-context learning examples with idx:  [128, 413, 356]\n",
      "Trying to call OpenAI API...\n"
     ]
    },
    {
     "name": "stderr",
     "output_type": "stream",
     "text": [
      "Processing dataset:  33%|██████▉              | 176/534 [02:22<04:09,  1.43it/s]"
     ]
    },
    {
     "name": "stdout",
     "output_type": "stream",
     "text": [
      "Retrieved in-context learning examples with idx:  [128, 1032, 413]\n",
      "Trying to call OpenAI API...\n"
     ]
    },
    {
     "name": "stderr",
     "output_type": "stream",
     "text": [
      "Processing dataset:  33%|██████▉              | 177/534 [02:23<04:37,  1.29it/s]"
     ]
    },
    {
     "name": "stdout",
     "output_type": "stream",
     "text": [
      "Retrieved in-context learning examples with idx:  [128, 11, 356]\n",
      "Trying to call OpenAI API...\n"
     ]
    },
    {
     "name": "stderr",
     "output_type": "stream",
     "text": [
      "Processing dataset:  33%|███████              | 178/534 [02:24<04:35,  1.29it/s]"
     ]
    },
    {
     "name": "stdout",
     "output_type": "stream",
     "text": [
      "Retrieved in-context learning examples with idx:  [128, 191, 413]\n",
      "Trying to call OpenAI API...\n"
     ]
    },
    {
     "name": "stderr",
     "output_type": "stream",
     "text": [
      "Processing dataset:  34%|███████              | 179/534 [02:25<04:22,  1.35it/s]"
     ]
    },
    {
     "name": "stdout",
     "output_type": "stream",
     "text": [
      "Retrieved in-context learning examples with idx:  [128, 1032, 413]\n",
      "Trying to call OpenAI API...\n"
     ]
    },
    {
     "name": "stderr",
     "output_type": "stream",
     "text": [
      "Processing dataset:  34%|███████              | 180/534 [02:26<04:21,  1.35it/s]"
     ]
    },
    {
     "name": "stdout",
     "output_type": "stream",
     "text": [
      "Retrieved in-context learning examples with idx:  [356, 128, 413]\n",
      "Trying to call OpenAI API...\n"
     ]
    },
    {
     "name": "stderr",
     "output_type": "stream",
     "text": [
      "Processing dataset:  34%|███████              | 181/534 [02:28<06:50,  1.16s/it]"
     ]
    },
    {
     "name": "stdout",
     "output_type": "stream",
     "text": [
      "Retrieved in-context learning examples with idx:  [128, 356, 413]\n",
      "Trying to call OpenAI API...\n"
     ]
    },
    {
     "name": "stderr",
     "output_type": "stream",
     "text": [
      "Processing dataset:  34%|███████▏             | 182/534 [02:28<05:51,  1.00it/s]"
     ]
    },
    {
     "name": "stdout",
     "output_type": "stream",
     "text": [
      "Retrieved in-context learning examples with idx:  [128, 191, 984]\n",
      "Trying to call OpenAI API...\n"
     ]
    },
    {
     "name": "stderr",
     "output_type": "stream",
     "text": [
      "Processing dataset:  34%|███████▏             | 183/534 [02:29<05:31,  1.06it/s]"
     ]
    },
    {
     "name": "stdout",
     "output_type": "stream",
     "text": [
      "Retrieved in-context learning examples with idx:  [128, 413, 1032]\n",
      "Trying to call OpenAI API...\n"
     ]
    },
    {
     "name": "stderr",
     "output_type": "stream",
     "text": [
      "Processing dataset:  34%|███████▏             | 184/534 [02:30<05:17,  1.10it/s]"
     ]
    },
    {
     "name": "stdout",
     "output_type": "stream",
     "text": [
      "Retrieved in-context learning examples with idx:  [356, 413, 11]\n",
      "Trying to call OpenAI API...\n"
     ]
    },
    {
     "name": "stderr",
     "output_type": "stream",
     "text": [
      "Processing dataset:  35%|███████▎             | 185/534 [02:31<05:07,  1.14it/s]"
     ]
    },
    {
     "name": "stdout",
     "output_type": "stream",
     "text": [
      "Retrieved in-context learning examples with idx:  [128, 11, 191]\n",
      "Trying to call OpenAI API...\n"
     ]
    },
    {
     "name": "stderr",
     "output_type": "stream",
     "text": [
      "Processing dataset:  35%|███████▎             | 186/534 [02:32<05:03,  1.15it/s]"
     ]
    },
    {
     "name": "stdout",
     "output_type": "stream",
     "text": [
      "Retrieved in-context learning examples with idx:  [128, 356, 11]\n",
      "Trying to call OpenAI API...\n"
     ]
    },
    {
     "name": "stderr",
     "output_type": "stream",
     "text": [
      "Processing dataset:  35%|███████▎             | 187/534 [02:32<04:53,  1.18it/s]"
     ]
    },
    {
     "name": "stdout",
     "output_type": "stream",
     "text": [
      "Retrieved in-context learning examples with idx:  [128, 413, 356]\n",
      "Trying to call OpenAI API...\n"
     ]
    },
    {
     "name": "stderr",
     "output_type": "stream",
     "text": [
      "Processing dataset:  35%|███████▍             | 188/534 [02:33<04:38,  1.24it/s]"
     ]
    },
    {
     "name": "stdout",
     "output_type": "stream",
     "text": [
      "Retrieved in-context learning examples with idx:  [128, 11, 356]\n",
      "Trying to call OpenAI API...\n"
     ]
    },
    {
     "name": "stderr",
     "output_type": "stream",
     "text": [
      "Processing dataset:  35%|███████▍             | 189/534 [02:34<04:32,  1.26it/s]"
     ]
    },
    {
     "name": "stdout",
     "output_type": "stream",
     "text": [
      "Retrieved in-context learning examples with idx:  [128, 356, 413]\n",
      "Trying to call OpenAI API...\n"
     ]
    },
    {
     "name": "stderr",
     "output_type": "stream",
     "text": [
      "Processing dataset:  36%|███████▍             | 190/534 [02:35<04:31,  1.27it/s]"
     ]
    },
    {
     "name": "stdout",
     "output_type": "stream",
     "text": [
      "Retrieved in-context learning examples with idx:  [356, 128, 413]\n",
      "Trying to call OpenAI API...\n"
     ]
    },
    {
     "name": "stderr",
     "output_type": "stream",
     "text": [
      "Processing dataset:  36%|███████▌             | 191/534 [02:35<04:14,  1.35it/s]"
     ]
    },
    {
     "name": "stdout",
     "output_type": "stream",
     "text": [
      "Retrieved in-context learning examples with idx:  [128, 413, 1032]\n",
      "Trying to call OpenAI API...\n"
     ]
    },
    {
     "name": "stderr",
     "output_type": "stream",
     "text": [
      "Processing dataset:  36%|███████▌             | 192/534 [02:36<04:12,  1.35it/s]"
     ]
    },
    {
     "name": "stdout",
     "output_type": "stream",
     "text": [
      "Retrieved in-context learning examples with idx:  [128, 356, 11]\n",
      "Trying to call OpenAI API...\n"
     ]
    },
    {
     "name": "stderr",
     "output_type": "stream",
     "text": [
      "Processing dataset:  36%|███████▌             | 193/534 [02:37<04:16,  1.33it/s]"
     ]
    },
    {
     "name": "stdout",
     "output_type": "stream",
     "text": [
      "Retrieved in-context learning examples with idx:  [128, 1032, 356]\n",
      "Trying to call OpenAI API...\n"
     ]
    },
    {
     "name": "stderr",
     "output_type": "stream",
     "text": [
      "Processing dataset:  36%|███████▋             | 194/534 [02:38<05:35,  1.01it/s]"
     ]
    },
    {
     "name": "stdout",
     "output_type": "stream",
     "text": [
      "Retrieved in-context learning examples with idx:  [128, 191, 356]\n",
      "Trying to call OpenAI API...\n"
     ]
    },
    {
     "name": "stderr",
     "output_type": "stream",
     "text": [
      "Processing dataset:  37%|███████▋             | 195/534 [02:39<04:57,  1.14it/s]"
     ]
    },
    {
     "name": "stdout",
     "output_type": "stream",
     "text": [
      "Retrieved in-context learning examples with idx:  [128, 11, 191]\n",
      "Trying to call OpenAI API...\n"
     ]
    },
    {
     "name": "stderr",
     "output_type": "stream",
     "text": [
      "Processing dataset:  37%|███████▋             | 196/534 [02:40<04:50,  1.16it/s]"
     ]
    },
    {
     "name": "stdout",
     "output_type": "stream",
     "text": [
      "Retrieved in-context learning examples with idx:  [128, 413, 1032]\n",
      "Trying to call OpenAI API...\n"
     ]
    },
    {
     "name": "stderr",
     "output_type": "stream",
     "text": [
      "Processing dataset:  37%|███████▋             | 197/534 [02:41<05:16,  1.06it/s]"
     ]
    },
    {
     "name": "stdout",
     "output_type": "stream",
     "text": [
      "Retrieved in-context learning examples with idx:  [128, 191, 11]\n",
      "Trying to call OpenAI API...\n"
     ]
    },
    {
     "name": "stderr",
     "output_type": "stream",
     "text": [
      "Processing dataset:  37%|███████▊             | 198/534 [02:42<05:03,  1.11it/s]"
     ]
    },
    {
     "name": "stdout",
     "output_type": "stream",
     "text": [
      "Retrieved in-context learning examples with idx:  [128, 356, 413]\n",
      "Trying to call OpenAI API...\n"
     ]
    },
    {
     "name": "stderr",
     "output_type": "stream",
     "text": [
      "Processing dataset:  37%|███████▊             | 199/534 [02:42<04:43,  1.18it/s]"
     ]
    },
    {
     "name": "stdout",
     "output_type": "stream",
     "text": [
      "Retrieved in-context learning examples with idx:  [128, 191, 11]\n",
      "Trying to call OpenAI API...\n"
     ]
    },
    {
     "name": "stderr",
     "output_type": "stream",
     "text": [
      "Processing dataset:  37%|███████▊             | 200/534 [02:43<04:22,  1.27it/s]"
     ]
    },
    {
     "name": "stdout",
     "output_type": "stream",
     "text": [
      "Retrieved in-context learning examples with idx:  [128, 356, 1032]\n",
      "Trying to call OpenAI API...\n"
     ]
    },
    {
     "name": "stderr",
     "output_type": "stream",
     "text": [
      "Processing dataset:  38%|███████▉             | 201/534 [02:44<04:32,  1.22it/s]"
     ]
    },
    {
     "name": "stdout",
     "output_type": "stream",
     "text": [
      "Retrieved in-context learning examples with idx:  [356, 128, 413]\n",
      "Trying to call OpenAI API...\n"
     ]
    },
    {
     "name": "stderr",
     "output_type": "stream",
     "text": [
      "Processing dataset:  38%|███████▉             | 202/534 [02:45<04:30,  1.23it/s]"
     ]
    },
    {
     "name": "stdout",
     "output_type": "stream",
     "text": [
      "Retrieved in-context learning examples with idx:  [1032, 413, 128]\n",
      "Trying to call OpenAI API...\n"
     ]
    },
    {
     "name": "stderr",
     "output_type": "stream",
     "text": [
      "Processing dataset:  38%|███████▉             | 203/534 [02:46<04:40,  1.18it/s]"
     ]
    },
    {
     "name": "stdout",
     "output_type": "stream",
     "text": [
      "Retrieved in-context learning examples with idx:  [128, 356, 413]\n",
      "Trying to call OpenAI API...\n"
     ]
    },
    {
     "name": "stderr",
     "output_type": "stream",
     "text": [
      "Processing dataset:  38%|████████             | 204/534 [02:47<04:57,  1.11it/s]"
     ]
    },
    {
     "name": "stdout",
     "output_type": "stream",
     "text": [
      "Retrieved in-context learning examples with idx:  [128, 1032, 413]\n",
      "Trying to call OpenAI API...\n"
     ]
    },
    {
     "name": "stderr",
     "output_type": "stream",
     "text": [
      "Processing dataset:  38%|████████             | 205/534 [02:48<04:47,  1.15it/s]"
     ]
    },
    {
     "name": "stdout",
     "output_type": "stream",
     "text": [
      "Retrieved in-context learning examples with idx:  [128, 1032, 356]\n",
      "Trying to call OpenAI API...\n"
     ]
    },
    {
     "name": "stderr",
     "output_type": "stream",
     "text": [
      "Processing dataset:  39%|████████             | 206/534 [02:48<04:42,  1.16it/s]"
     ]
    },
    {
     "name": "stdout",
     "output_type": "stream",
     "text": [
      "Retrieved in-context learning examples with idx:  [128, 356, 413]\n",
      "Trying to call OpenAI API...\n"
     ]
    },
    {
     "name": "stderr",
     "output_type": "stream",
     "text": [
      "Processing dataset:  39%|████████▏            | 207/534 [02:49<04:18,  1.27it/s]"
     ]
    },
    {
     "name": "stdout",
     "output_type": "stream",
     "text": [
      "Retrieved in-context learning examples with idx:  [128, 11, 356]\n",
      "Trying to call OpenAI API...\n"
     ]
    },
    {
     "name": "stderr",
     "output_type": "stream",
     "text": [
      "Processing dataset:  39%|████████▏            | 208/534 [02:50<04:09,  1.31it/s]"
     ]
    },
    {
     "name": "stdout",
     "output_type": "stream",
     "text": [
      "Retrieved in-context learning examples with idx:  [128, 356, 1032]\n",
      "Trying to call OpenAI API...\n"
     ]
    },
    {
     "name": "stderr",
     "output_type": "stream",
     "text": [
      "Processing dataset:  39%|████████▏            | 209/534 [02:50<04:08,  1.31it/s]"
     ]
    },
    {
     "name": "stdout",
     "output_type": "stream",
     "text": [
      "Retrieved in-context learning examples with idx:  [128, 356, 1032]\n",
      "Trying to call OpenAI API...\n"
     ]
    },
    {
     "name": "stderr",
     "output_type": "stream",
     "text": [
      "Processing dataset:  39%|████████▎            | 210/534 [02:51<04:07,  1.31it/s]"
     ]
    },
    {
     "name": "stdout",
     "output_type": "stream",
     "text": [
      "Retrieved in-context learning examples with idx:  [128, 356, 413]\n",
      "Trying to call OpenAI API...\n"
     ]
    },
    {
     "name": "stderr",
     "output_type": "stream",
     "text": [
      "Processing dataset:  40%|████████▎            | 211/534 [02:52<04:13,  1.27it/s]"
     ]
    },
    {
     "name": "stdout",
     "output_type": "stream",
     "text": [
      "Retrieved in-context learning examples with idx:  [128, 1032, 356]\n",
      "Trying to call OpenAI API...\n"
     ]
    },
    {
     "name": "stderr",
     "output_type": "stream",
     "text": [
      "Processing dataset:  40%|████████▎            | 212/534 [02:53<04:15,  1.26it/s]"
     ]
    },
    {
     "name": "stdout",
     "output_type": "stream",
     "text": [
      "Retrieved in-context learning examples with idx:  [128, 413, 11]\n",
      "Trying to call OpenAI API...\n"
     ]
    },
    {
     "name": "stderr",
     "output_type": "stream",
     "text": [
      "Processing dataset:  40%|████████▍            | 213/534 [02:54<04:26,  1.20it/s]"
     ]
    },
    {
     "name": "stdout",
     "output_type": "stream",
     "text": [
      "Retrieved in-context learning examples with idx:  [128, 413, 356]\n",
      "Trying to call OpenAI API...\n"
     ]
    },
    {
     "name": "stderr",
     "output_type": "stream",
     "text": [
      "Processing dataset:  40%|████████▍            | 214/534 [02:55<04:19,  1.23it/s]"
     ]
    },
    {
     "name": "stdout",
     "output_type": "stream",
     "text": [
      "Retrieved in-context learning examples with idx:  [128, 356, 1032]\n",
      "Trying to call OpenAI API...\n"
     ]
    },
    {
     "name": "stderr",
     "output_type": "stream",
     "text": [
      "Processing dataset:  40%|████████▍            | 215/534 [02:55<04:19,  1.23it/s]"
     ]
    },
    {
     "name": "stdout",
     "output_type": "stream",
     "text": [
      "Retrieved in-context learning examples with idx:  [128, 356, 413]\n",
      "Trying to call OpenAI API...\n"
     ]
    },
    {
     "name": "stderr",
     "output_type": "stream",
     "text": [
      "Processing dataset:  40%|████████▍            | 216/534 [02:56<04:23,  1.21it/s]"
     ]
    },
    {
     "name": "stdout",
     "output_type": "stream",
     "text": [
      "Retrieved in-context learning examples with idx:  [128, 413, 356]\n",
      "Trying to call OpenAI API...\n"
     ]
    },
    {
     "name": "stderr",
     "output_type": "stream",
     "text": [
      "Processing dataset:  41%|████████▌            | 217/534 [02:57<04:13,  1.25it/s]"
     ]
    },
    {
     "name": "stdout",
     "output_type": "stream",
     "text": [
      "Retrieved in-context learning examples with idx:  [11, 413, 128]\n",
      "Trying to call OpenAI API...\n"
     ]
    },
    {
     "name": "stderr",
     "output_type": "stream",
     "text": [
      "Processing dataset:  41%|████████▌            | 218/534 [02:58<04:03,  1.30it/s]"
     ]
    },
    {
     "name": "stdout",
     "output_type": "stream",
     "text": [
      "Retrieved in-context learning examples with idx:  [128, 356, 11]\n",
      "Trying to call OpenAI API...\n"
     ]
    },
    {
     "name": "stderr",
     "output_type": "stream",
     "text": [
      "Processing dataset:  41%|████████▌            | 219/534 [02:59<04:08,  1.27it/s]"
     ]
    },
    {
     "name": "stdout",
     "output_type": "stream",
     "text": [
      "Retrieved in-context learning examples with idx:  [128, 11, 191]\n",
      "Trying to call OpenAI API...\n"
     ]
    },
    {
     "name": "stderr",
     "output_type": "stream",
     "text": [
      "Processing dataset:  41%|████████▋            | 220/534 [02:59<04:08,  1.27it/s]"
     ]
    },
    {
     "name": "stdout",
     "output_type": "stream",
     "text": [
      "Retrieved in-context learning examples with idx:  [128, 191, 413]\n",
      "Trying to call OpenAI API...\n"
     ]
    },
    {
     "name": "stderr",
     "output_type": "stream",
     "text": [
      "Processing dataset:  41%|████████▋            | 221/534 [03:00<04:12,  1.24it/s]"
     ]
    },
    {
     "name": "stdout",
     "output_type": "stream",
     "text": [
      "Retrieved in-context learning examples with idx:  [128, 356, 413]\n",
      "Trying to call OpenAI API...\n"
     ]
    },
    {
     "name": "stderr",
     "output_type": "stream",
     "text": [
      "Processing dataset:  42%|████████▋            | 222/534 [03:01<04:06,  1.26it/s]"
     ]
    },
    {
     "name": "stdout",
     "output_type": "stream",
     "text": [
      "Retrieved in-context learning examples with idx:  [128, 413, 356]\n",
      "Trying to call OpenAI API...\n"
     ]
    },
    {
     "name": "stderr",
     "output_type": "stream",
     "text": [
      "Processing dataset:  42%|████████▊            | 223/534 [03:02<03:55,  1.32it/s]"
     ]
    },
    {
     "name": "stdout",
     "output_type": "stream",
     "text": [
      "Retrieved in-context learning examples with idx:  [128, 191, 356]\n",
      "Trying to call OpenAI API...\n"
     ]
    },
    {
     "name": "stderr",
     "output_type": "stream",
     "text": [
      "Processing dataset:  42%|████████▊            | 224/534 [03:02<03:51,  1.34it/s]"
     ]
    },
    {
     "name": "stdout",
     "output_type": "stream",
     "text": [
      "Retrieved in-context learning examples with idx:  [11, 128, 4]\n",
      "Trying to call OpenAI API...\n"
     ]
    },
    {
     "name": "stderr",
     "output_type": "stream",
     "text": [
      "Processing dataset:  42%|████████▊            | 225/534 [03:03<03:50,  1.34it/s]"
     ]
    },
    {
     "name": "stdout",
     "output_type": "stream",
     "text": [
      "Retrieved in-context learning examples with idx:  [128, 191, 356]\n",
      "Trying to call OpenAI API...\n"
     ]
    },
    {
     "name": "stderr",
     "output_type": "stream",
     "text": [
      "Processing dataset:  42%|████████▉            | 226/534 [03:04<03:49,  1.34it/s]"
     ]
    },
    {
     "name": "stdout",
     "output_type": "stream",
     "text": [
      "Retrieved in-context learning examples with idx:  [128, 191, 356]\n",
      "Trying to call OpenAI API...\n"
     ]
    },
    {
     "name": "stderr",
     "output_type": "stream",
     "text": [
      "Processing dataset:  43%|████████▉            | 227/534 [03:05<03:50,  1.33it/s]"
     ]
    },
    {
     "name": "stdout",
     "output_type": "stream",
     "text": [
      "Retrieved in-context learning examples with idx:  [356, 128, 11]\n",
      "Trying to call OpenAI API...\n"
     ]
    },
    {
     "name": "stderr",
     "output_type": "stream",
     "text": [
      "Processing dataset:  43%|████████▉            | 228/534 [03:05<03:43,  1.37it/s]"
     ]
    },
    {
     "name": "stdout",
     "output_type": "stream",
     "text": [
      "Retrieved in-context learning examples with idx:  [128, 356, 11]\n",
      "Trying to call OpenAI API...\n"
     ]
    },
    {
     "name": "stderr",
     "output_type": "stream",
     "text": [
      "Processing dataset:  43%|█████████            | 229/534 [03:06<03:35,  1.41it/s]"
     ]
    },
    {
     "name": "stdout",
     "output_type": "stream",
     "text": [
      "Retrieved in-context learning examples with idx:  [128, 413, 356]\n",
      "Trying to call OpenAI API...\n"
     ]
    },
    {
     "name": "stderr",
     "output_type": "stream",
     "text": [
      "Processing dataset:  43%|█████████            | 230/534 [03:07<03:31,  1.44it/s]"
     ]
    },
    {
     "name": "stdout",
     "output_type": "stream",
     "text": [
      "Retrieved in-context learning examples with idx:  [128, 356, 413]\n",
      "Trying to call OpenAI API...\n"
     ]
    },
    {
     "name": "stderr",
     "output_type": "stream",
     "text": [
      "Processing dataset:  43%|█████████            | 231/534 [03:07<03:41,  1.37it/s]"
     ]
    },
    {
     "name": "stdout",
     "output_type": "stream",
     "text": [
      "Retrieved in-context learning examples with idx:  [128, 356, 1032]\n",
      "Trying to call OpenAI API...\n"
     ]
    },
    {
     "name": "stderr",
     "output_type": "stream",
     "text": [
      "Processing dataset:  43%|█████████            | 232/534 [03:08<03:43,  1.35it/s]"
     ]
    },
    {
     "name": "stdout",
     "output_type": "stream",
     "text": [
      "Retrieved in-context learning examples with idx:  [128, 356, 413]\n",
      "Trying to call OpenAI API...\n"
     ]
    },
    {
     "name": "stderr",
     "output_type": "stream",
     "text": [
      "Processing dataset:  44%|█████████▏           | 233/534 [03:09<03:40,  1.36it/s]"
     ]
    },
    {
     "name": "stdout",
     "output_type": "stream",
     "text": [
      "Retrieved in-context learning examples with idx:  [128, 191, 356]\n",
      "Trying to call OpenAI API...\n"
     ]
    },
    {
     "name": "stderr",
     "output_type": "stream",
     "text": [
      "Processing dataset:  44%|█████████▏           | 234/534 [03:10<03:35,  1.39it/s]"
     ]
    },
    {
     "name": "stdout",
     "output_type": "stream",
     "text": [
      "Retrieved in-context learning examples with idx:  [191, 128, 413]\n",
      "Trying to call OpenAI API...\n"
     ]
    },
    {
     "name": "stderr",
     "output_type": "stream",
     "text": [
      "Processing dataset:  44%|█████████▏           | 235/534 [03:10<03:28,  1.43it/s]"
     ]
    },
    {
     "name": "stdout",
     "output_type": "stream",
     "text": [
      "Retrieved in-context learning examples with idx:  [128, 356, 413]\n",
      "Trying to call OpenAI API...\n"
     ]
    },
    {
     "name": "stderr",
     "output_type": "stream",
     "text": [
      "Processing dataset:  44%|█████████▎           | 236/534 [03:11<03:26,  1.44it/s]"
     ]
    },
    {
     "name": "stdout",
     "output_type": "stream",
     "text": [
      "Retrieved in-context learning examples with idx:  [128, 11, 356]\n",
      "Trying to call OpenAI API...\n"
     ]
    },
    {
     "name": "stderr",
     "output_type": "stream",
     "text": [
      "Processing dataset:  44%|█████████▎           | 237/534 [03:12<03:35,  1.38it/s]"
     ]
    },
    {
     "name": "stdout",
     "output_type": "stream",
     "text": [
      "Retrieved in-context learning examples with idx:  [128, 413, 1032]\n",
      "Trying to call OpenAI API...\n"
     ]
    },
    {
     "name": "stderr",
     "output_type": "stream",
     "text": [
      "Processing dataset:  45%|█████████▎           | 238/534 [03:12<03:29,  1.41it/s]"
     ]
    },
    {
     "name": "stdout",
     "output_type": "stream",
     "text": [
      "Retrieved in-context learning examples with idx:  [128, 413, 356]\n",
      "Trying to call OpenAI API...\n"
     ]
    },
    {
     "name": "stderr",
     "output_type": "stream",
     "text": [
      "Processing dataset:  45%|█████████▍           | 239/534 [03:13<03:21,  1.47it/s]"
     ]
    },
    {
     "name": "stdout",
     "output_type": "stream",
     "text": [
      "Retrieved in-context learning examples with idx:  [128, 356, 11]\n",
      "Trying to call OpenAI API...\n"
     ]
    },
    {
     "name": "stderr",
     "output_type": "stream",
     "text": [
      "Processing dataset:  45%|█████████▍           | 240/534 [03:14<03:23,  1.45it/s]"
     ]
    },
    {
     "name": "stdout",
     "output_type": "stream",
     "text": [
      "Retrieved in-context learning examples with idx:  [128, 356, 413]\n",
      "Trying to call OpenAI API...\n"
     ]
    },
    {
     "name": "stderr",
     "output_type": "stream",
     "text": [
      "Processing dataset:  45%|█████████▍           | 241/534 [03:15<03:33,  1.37it/s]"
     ]
    },
    {
     "name": "stdout",
     "output_type": "stream",
     "text": [
      "Retrieved in-context learning examples with idx:  [128, 191, 413]\n",
      "Trying to call OpenAI API...\n"
     ]
    },
    {
     "name": "stderr",
     "output_type": "stream",
     "text": [
      "Processing dataset:  45%|█████████▌           | 242/534 [03:16<04:07,  1.18it/s]"
     ]
    },
    {
     "name": "stdout",
     "output_type": "stream",
     "text": [
      "Retrieved in-context learning examples with idx:  [128, 191, 356]\n",
      "Trying to call OpenAI API...\n"
     ]
    },
    {
     "name": "stderr",
     "output_type": "stream",
     "text": [
      "Processing dataset:  46%|█████████▌           | 243/534 [03:16<03:50,  1.26it/s]"
     ]
    },
    {
     "name": "stdout",
     "output_type": "stream",
     "text": [
      "Retrieved in-context learning examples with idx:  [128, 1032, 356]\n",
      "Trying to call OpenAI API...\n"
     ]
    },
    {
     "name": "stderr",
     "output_type": "stream",
     "text": [
      "Processing dataset:  46%|█████████▌           | 244/534 [03:17<03:47,  1.27it/s]"
     ]
    },
    {
     "name": "stdout",
     "output_type": "stream",
     "text": [
      "Retrieved in-context learning examples with idx:  [191, 356, 11]\n",
      "Trying to call OpenAI API...\n"
     ]
    },
    {
     "name": "stderr",
     "output_type": "stream",
     "text": [
      "Processing dataset:  46%|█████████▋           | 245/534 [03:18<03:59,  1.21it/s]"
     ]
    },
    {
     "name": "stdout",
     "output_type": "stream",
     "text": [
      "Retrieved in-context learning examples with idx:  [128, 11, 356]\n",
      "Trying to call OpenAI API...\n"
     ]
    },
    {
     "name": "stderr",
     "output_type": "stream",
     "text": [
      "Processing dataset:  46%|█████████▋           | 246/534 [03:19<03:49,  1.25it/s]"
     ]
    },
    {
     "name": "stdout",
     "output_type": "stream",
     "text": [
      "Retrieved in-context learning examples with idx:  [128, 356, 1032]\n",
      "Trying to call OpenAI API...\n"
     ]
    },
    {
     "name": "stderr",
     "output_type": "stream",
     "text": [
      "Processing dataset:  46%|█████████▋           | 247/534 [03:19<03:32,  1.35it/s]"
     ]
    },
    {
     "name": "stdout",
     "output_type": "stream",
     "text": [
      "Retrieved in-context learning examples with idx:  [128, 11, 413]\n",
      "Trying to call OpenAI API...\n"
     ]
    },
    {
     "name": "stderr",
     "output_type": "stream",
     "text": [
      "Processing dataset:  46%|█████████▊           | 248/534 [03:20<03:23,  1.41it/s]"
     ]
    },
    {
     "name": "stdout",
     "output_type": "stream",
     "text": [
      "Retrieved in-context learning examples with idx:  [191, 128, 413]\n",
      "Trying to call OpenAI API...\n"
     ]
    },
    {
     "name": "stderr",
     "output_type": "stream",
     "text": [
      "Processing dataset:  47%|█████████▊           | 249/534 [03:21<03:15,  1.45it/s]"
     ]
    },
    {
     "name": "stdout",
     "output_type": "stream",
     "text": [
      "Retrieved in-context learning examples with idx:  [128, 1032, 413]\n",
      "Trying to call OpenAI API...\n"
     ]
    },
    {
     "name": "stderr",
     "output_type": "stream",
     "text": [
      "Processing dataset:  47%|█████████▊           | 250/534 [03:24<06:25,  1.36s/it]"
     ]
    },
    {
     "name": "stdout",
     "output_type": "stream",
     "text": [
      "Retrieved in-context learning examples with idx:  [128, 11, 356]\n",
      "Trying to call OpenAI API...\n"
     ]
    },
    {
     "name": "stderr",
     "output_type": "stream",
     "text": [
      "Processing dataset:  47%|█████████▊           | 251/534 [03:24<05:29,  1.16s/it]"
     ]
    },
    {
     "name": "stdout",
     "output_type": "stream",
     "text": [
      "Retrieved in-context learning examples with idx:  [128, 356, 11]\n",
      "Trying to call OpenAI API...\n"
     ]
    },
    {
     "name": "stderr",
     "output_type": "stream",
     "text": [
      "Processing dataset:  47%|█████████▉           | 252/534 [03:25<04:56,  1.05s/it]"
     ]
    },
    {
     "name": "stdout",
     "output_type": "stream",
     "text": [
      "Retrieved in-context learning examples with idx:  [128, 356, 1032]\n",
      "Trying to call OpenAI API...\n"
     ]
    },
    {
     "name": "stderr",
     "output_type": "stream",
     "text": [
      "Processing dataset:  47%|█████████▉           | 253/534 [03:26<04:21,  1.08it/s]"
     ]
    },
    {
     "name": "stdout",
     "output_type": "stream",
     "text": [
      "Retrieved in-context learning examples with idx:  [128, 413, 11]\n",
      "Trying to call OpenAI API...\n"
     ]
    },
    {
     "name": "stderr",
     "output_type": "stream",
     "text": [
      "Processing dataset:  48%|█████████▉           | 254/534 [03:26<04:02,  1.16it/s]"
     ]
    },
    {
     "name": "stdout",
     "output_type": "stream",
     "text": [
      "Retrieved in-context learning examples with idx:  [128, 11, 356]\n",
      "Trying to call OpenAI API...\n"
     ]
    },
    {
     "name": "stderr",
     "output_type": "stream",
     "text": [
      "Processing dataset:  48%|██████████           | 255/534 [03:27<03:59,  1.17it/s]"
     ]
    },
    {
     "name": "stdout",
     "output_type": "stream",
     "text": [
      "Retrieved in-context learning examples with idx:  [128, 11, 191]\n",
      "Trying to call OpenAI API...\n"
     ]
    },
    {
     "name": "stderr",
     "output_type": "stream",
     "text": [
      "Processing dataset:  48%|██████████           | 256/534 [03:28<03:51,  1.20it/s]"
     ]
    },
    {
     "name": "stdout",
     "output_type": "stream",
     "text": [
      "Retrieved in-context learning examples with idx:  [128, 11, 413]\n",
      "Trying to call OpenAI API...\n"
     ]
    },
    {
     "name": "stderr",
     "output_type": "stream",
     "text": [
      "Processing dataset:  48%|██████████           | 257/534 [03:29<03:51,  1.20it/s]"
     ]
    },
    {
     "name": "stdout",
     "output_type": "stream",
     "text": [
      "Retrieved in-context learning examples with idx:  [128, 356, 1032]\n",
      "Trying to call OpenAI API...\n"
     ]
    },
    {
     "name": "stderr",
     "output_type": "stream",
     "text": [
      "Processing dataset:  48%|██████████▏          | 258/534 [03:30<03:35,  1.28it/s]"
     ]
    },
    {
     "name": "stdout",
     "output_type": "stream",
     "text": [
      "Retrieved in-context learning examples with idx:  [128, 11, 356]\n",
      "Trying to call OpenAI API...\n"
     ]
    },
    {
     "name": "stderr",
     "output_type": "stream",
     "text": [
      "Processing dataset:  49%|██████████▏          | 259/534 [03:31<04:00,  1.15it/s]"
     ]
    },
    {
     "name": "stdout",
     "output_type": "stream",
     "text": [
      "Retrieved in-context learning examples with idx:  [128, 413, 11]\n",
      "Trying to call OpenAI API...\n"
     ]
    },
    {
     "name": "stderr",
     "output_type": "stream",
     "text": [
      "Processing dataset:  49%|██████████▏          | 260/534 [03:31<03:42,  1.23it/s]"
     ]
    },
    {
     "name": "stdout",
     "output_type": "stream",
     "text": [
      "Retrieved in-context learning examples with idx:  [128, 11, 191]\n",
      "Trying to call OpenAI API...\n"
     ]
    },
    {
     "name": "stderr",
     "output_type": "stream",
     "text": [
      "Processing dataset:  49%|██████████▎          | 261/534 [03:32<03:37,  1.25it/s]"
     ]
    },
    {
     "name": "stdout",
     "output_type": "stream",
     "text": [
      "Retrieved in-context learning examples with idx:  [128, 356, 11]\n",
      "Trying to call OpenAI API...\n"
     ]
    },
    {
     "name": "stderr",
     "output_type": "stream",
     "text": [
      "Processing dataset:  49%|██████████▎          | 262/534 [03:33<03:28,  1.30it/s]"
     ]
    },
    {
     "name": "stdout",
     "output_type": "stream",
     "text": [
      "Retrieved in-context learning examples with idx:  [128, 413, 1114]\n",
      "Trying to call OpenAI API...\n"
     ]
    },
    {
     "name": "stderr",
     "output_type": "stream",
     "text": [
      "Processing dataset:  49%|██████████▎          | 263/534 [03:33<03:27,  1.31it/s]"
     ]
    },
    {
     "name": "stdout",
     "output_type": "stream",
     "text": [
      "Retrieved in-context learning examples with idx:  [128, 1114, 1000]\n",
      "Trying to call OpenAI API...\n"
     ]
    },
    {
     "name": "stderr",
     "output_type": "stream",
     "text": [
      "Processing dataset:  49%|██████████▍          | 264/534 [03:34<03:35,  1.25it/s]"
     ]
    },
    {
     "name": "stdout",
     "output_type": "stream",
     "text": [
      "Retrieved in-context learning examples with idx:  [128, 356, 65]\n",
      "Trying to call OpenAI API...\n"
     ]
    },
    {
     "name": "stderr",
     "output_type": "stream",
     "text": [
      "Processing dataset:  50%|██████████▍          | 265/534 [03:35<03:21,  1.33it/s]"
     ]
    },
    {
     "name": "stdout",
     "output_type": "stream",
     "text": [
      "Retrieved in-context learning examples with idx:  [128, 1114, 356]\n",
      "Trying to call OpenAI API...\n"
     ]
    },
    {
     "name": "stderr",
     "output_type": "stream",
     "text": [
      "Processing dataset:  50%|██████████▍          | 266/534 [03:36<03:26,  1.30it/s]"
     ]
    },
    {
     "name": "stdout",
     "output_type": "stream",
     "text": [
      "Retrieved in-context learning examples with idx:  [128, 11, 191]\n",
      "Trying to call OpenAI API...\n"
     ]
    },
    {
     "name": "stderr",
     "output_type": "stream",
     "text": [
      "Processing dataset:  50%|██████████▌          | 267/534 [03:37<03:28,  1.28it/s]"
     ]
    },
    {
     "name": "stdout",
     "output_type": "stream",
     "text": [
      "Retrieved in-context learning examples with idx:  [128, 191, 1114]\n",
      "Trying to call OpenAI API...\n"
     ]
    },
    {
     "name": "stderr",
     "output_type": "stream",
     "text": [
      "Processing dataset:  50%|██████████▌          | 268/534 [03:37<03:32,  1.25it/s]"
     ]
    },
    {
     "name": "stdout",
     "output_type": "stream",
     "text": [
      "Retrieved in-context learning examples with idx:  [128, 11, 356]\n",
      "Trying to call OpenAI API...\n"
     ]
    },
    {
     "name": "stderr",
     "output_type": "stream",
     "text": [
      "Processing dataset:  50%|██████████▌          | 269/534 [03:38<03:24,  1.30it/s]"
     ]
    },
    {
     "name": "stdout",
     "output_type": "stream",
     "text": [
      "Retrieved in-context learning examples with idx:  [128, 356, 1032]\n",
      "Trying to call OpenAI API...\n"
     ]
    },
    {
     "name": "stderr",
     "output_type": "stream",
     "text": [
      "Processing dataset:  51%|██████████▌          | 270/534 [03:39<03:23,  1.30it/s]"
     ]
    },
    {
     "name": "stdout",
     "output_type": "stream",
     "text": [
      "Retrieved in-context learning examples with idx:  [128, 191, 413]\n",
      "Trying to call OpenAI API...\n"
     ]
    },
    {
     "name": "stderr",
     "output_type": "stream",
     "text": [
      "Processing dataset:  51%|██████████▋          | 271/534 [03:40<03:22,  1.30it/s]"
     ]
    },
    {
     "name": "stdout",
     "output_type": "stream",
     "text": [
      "Retrieved in-context learning examples with idx:  [11, 128, 140]\n",
      "Trying to call OpenAI API...\n"
     ]
    },
    {
     "name": "stderr",
     "output_type": "stream",
     "text": [
      "Processing dataset:  51%|██████████▋          | 272/534 [03:40<03:18,  1.32it/s]"
     ]
    },
    {
     "name": "stdout",
     "output_type": "stream",
     "text": [
      "Retrieved in-context learning examples with idx:  [128, 191, 31]\n",
      "Trying to call OpenAI API...\n"
     ]
    },
    {
     "name": "stderr",
     "output_type": "stream",
     "text": [
      "Processing dataset:  51%|██████████▋          | 273/534 [03:41<03:21,  1.29it/s]"
     ]
    },
    {
     "name": "stdout",
     "output_type": "stream",
     "text": [
      "Retrieved in-context learning examples with idx:  [191, 128, 984]\n",
      "Trying to call OpenAI API...\n"
     ]
    },
    {
     "name": "stderr",
     "output_type": "stream",
     "text": [
      "Processing dataset:  51%|██████████▊          | 274/534 [03:42<03:24,  1.27it/s]"
     ]
    },
    {
     "name": "stdout",
     "output_type": "stream",
     "text": [
      "Retrieved in-context learning examples with idx:  [128, 356, 11]\n",
      "Trying to call OpenAI API...\n"
     ]
    },
    {
     "name": "stderr",
     "output_type": "stream",
     "text": [
      "Processing dataset:  51%|██████████▊          | 275/534 [03:43<03:14,  1.33it/s]"
     ]
    },
    {
     "name": "stdout",
     "output_type": "stream",
     "text": [
      "Retrieved in-context learning examples with idx:  [128, 413, 356]\n",
      "Trying to call OpenAI API...\n"
     ]
    },
    {
     "name": "stderr",
     "output_type": "stream",
     "text": [
      "Processing dataset:  52%|██████████▊          | 276/534 [03:43<03:14,  1.32it/s]"
     ]
    },
    {
     "name": "stdout",
     "output_type": "stream",
     "text": [
      "Retrieved in-context learning examples with idx:  [128, 356, 413]\n",
      "Trying to call OpenAI API...\n"
     ]
    },
    {
     "name": "stderr",
     "output_type": "stream",
     "text": [
      "Processing dataset:  52%|██████████▉          | 277/534 [03:44<03:10,  1.35it/s]"
     ]
    },
    {
     "name": "stdout",
     "output_type": "stream",
     "text": [
      "Retrieved in-context learning examples with idx:  [128, 413, 11]\n",
      "Trying to call OpenAI API...\n"
     ]
    },
    {
     "name": "stderr",
     "output_type": "stream",
     "text": [
      "Processing dataset:  52%|██████████▉          | 278/534 [03:45<03:14,  1.32it/s]"
     ]
    },
    {
     "name": "stdout",
     "output_type": "stream",
     "text": [
      "Retrieved in-context learning examples with idx:  [128, 11, 413]\n",
      "Trying to call OpenAI API...\n"
     ]
    },
    {
     "name": "stderr",
     "output_type": "stream",
     "text": [
      "Processing dataset:  52%|██████████▉          | 279/534 [03:46<03:12,  1.33it/s]"
     ]
    },
    {
     "name": "stdout",
     "output_type": "stream",
     "text": [
      "Retrieved in-context learning examples with idx:  [128, 11, 356]\n",
      "Trying to call OpenAI API...\n"
     ]
    },
    {
     "name": "stderr",
     "output_type": "stream",
     "text": [
      "Processing dataset:  52%|███████████          | 280/534 [03:47<04:11,  1.01it/s]"
     ]
    },
    {
     "name": "stdout",
     "output_type": "stream",
     "text": [
      "Retrieved in-context learning examples with idx:  [128, 191, 140]\n",
      "Trying to call OpenAI API...\n"
     ]
    },
    {
     "name": "stderr",
     "output_type": "stream",
     "text": [
      "Processing dataset:  53%|███████████          | 281/534 [03:48<04:13,  1.00s/it]"
     ]
    },
    {
     "name": "stdout",
     "output_type": "stream",
     "text": [
      "Retrieved in-context learning examples with idx:  [128, 413, 1032]\n",
      "Trying to call OpenAI API...\n"
     ]
    },
    {
     "name": "stderr",
     "output_type": "stream",
     "text": [
      "Processing dataset:  53%|███████████          | 282/534 [03:50<04:29,  1.07s/it]"
     ]
    },
    {
     "name": "stdout",
     "output_type": "stream",
     "text": [
      "Retrieved in-context learning examples with idx:  [128, 356, 984]\n",
      "Trying to call OpenAI API...\n"
     ]
    },
    {
     "name": "stderr",
     "output_type": "stream",
     "text": [
      "Processing dataset:  53%|███████████▏         | 283/534 [03:50<04:01,  1.04it/s]"
     ]
    },
    {
     "name": "stdout",
     "output_type": "stream",
     "text": [
      "Retrieved in-context learning examples with idx:  [128, 413, 356]\n",
      "Trying to call OpenAI API...\n"
     ]
    },
    {
     "name": "stderr",
     "output_type": "stream",
     "text": [
      "Processing dataset:  53%|███████████▏         | 284/534 [03:51<03:34,  1.17it/s]"
     ]
    },
    {
     "name": "stdout",
     "output_type": "stream",
     "text": [
      "Retrieved in-context learning examples with idx:  [11, 191, 739]\n",
      "Trying to call OpenAI API...\n"
     ]
    },
    {
     "name": "stderr",
     "output_type": "stream",
     "text": [
      "Processing dataset:  53%|███████████▏         | 285/534 [03:52<03:20,  1.24it/s]"
     ]
    },
    {
     "name": "stdout",
     "output_type": "stream",
     "text": [
      "Retrieved in-context learning examples with idx:  [128, 356, 1032]\n",
      "Trying to call OpenAI API...\n"
     ]
    },
    {
     "name": "stderr",
     "output_type": "stream",
     "text": [
      "Processing dataset:  54%|███████████▏         | 286/534 [03:52<03:16,  1.26it/s]"
     ]
    },
    {
     "name": "stdout",
     "output_type": "stream",
     "text": [
      "Retrieved in-context learning examples with idx:  [128, 356, 1032]\n",
      "Trying to call OpenAI API...\n"
     ]
    },
    {
     "name": "stderr",
     "output_type": "stream",
     "text": [
      "Processing dataset:  54%|███████████▎         | 287/534 [03:53<03:22,  1.22it/s]"
     ]
    },
    {
     "name": "stdout",
     "output_type": "stream",
     "text": [
      "Retrieved in-context learning examples with idx:  [128, 11, 191]\n",
      "Trying to call OpenAI API...\n"
     ]
    },
    {
     "name": "stderr",
     "output_type": "stream",
     "text": [
      "Processing dataset:  54%|███████████▎         | 288/534 [03:54<03:20,  1.23it/s]"
     ]
    },
    {
     "name": "stdout",
     "output_type": "stream",
     "text": [
      "Retrieved in-context learning examples with idx:  [356, 11, 413]\n",
      "Trying to call OpenAI API...\n"
     ]
    },
    {
     "name": "stderr",
     "output_type": "stream",
     "text": [
      "Processing dataset:  54%|███████████▎         | 289/534 [03:55<03:30,  1.16it/s]"
     ]
    },
    {
     "name": "stdout",
     "output_type": "stream",
     "text": [
      "Retrieved in-context learning examples with idx:  [128, 356, 11]\n",
      "Trying to call OpenAI API...\n"
     ]
    },
    {
     "name": "stderr",
     "output_type": "stream",
     "text": [
      "Processing dataset:  54%|███████████▍         | 290/534 [03:56<03:41,  1.10it/s]"
     ]
    },
    {
     "name": "stdout",
     "output_type": "stream",
     "text": [
      "Retrieved in-context learning examples with idx:  [128, 191, 11]\n",
      "Trying to call OpenAI API...\n"
     ]
    },
    {
     "name": "stderr",
     "output_type": "stream",
     "text": [
      "Processing dataset:  54%|███████████▍         | 291/534 [03:57<03:31,  1.15it/s]"
     ]
    },
    {
     "name": "stdout",
     "output_type": "stream",
     "text": [
      "Retrieved in-context learning examples with idx:  [128, 356, 11]\n",
      "Trying to call OpenAI API...\n"
     ]
    },
    {
     "name": "stderr",
     "output_type": "stream",
     "text": [
      "Processing dataset:  55%|███████████▍         | 292/534 [03:58<03:42,  1.09it/s]"
     ]
    },
    {
     "name": "stdout",
     "output_type": "stream",
     "text": [
      "Retrieved in-context learning examples with idx:  [128, 1032, 11]\n",
      "Trying to call OpenAI API...\n"
     ]
    },
    {
     "name": "stderr",
     "output_type": "stream",
     "text": [
      "Processing dataset:  55%|███████████▌         | 293/534 [03:58<03:21,  1.20it/s]"
     ]
    },
    {
     "name": "stdout",
     "output_type": "stream",
     "text": [
      "Retrieved in-context learning examples with idx:  [128, 11, 1032]\n",
      "Trying to call OpenAI API...\n"
     ]
    },
    {
     "name": "stderr",
     "output_type": "stream",
     "text": [
      "Processing dataset:  55%|███████████▌         | 294/534 [03:59<03:12,  1.25it/s]"
     ]
    },
    {
     "name": "stdout",
     "output_type": "stream",
     "text": [
      "Retrieved in-context learning examples with idx:  [128, 413, 11]\n",
      "Trying to call OpenAI API...\n"
     ]
    },
    {
     "name": "stderr",
     "output_type": "stream",
     "text": [
      "Processing dataset:  55%|███████████▌         | 295/534 [04:00<03:08,  1.27it/s]"
     ]
    },
    {
     "name": "stdout",
     "output_type": "stream",
     "text": [
      "Retrieved in-context learning examples with idx:  [128, 11, 356]\n",
      "Trying to call OpenAI API...\n"
     ]
    },
    {
     "name": "stderr",
     "output_type": "stream",
     "text": [
      "Processing dataset:  55%|███████████▋         | 296/534 [04:01<03:06,  1.28it/s]"
     ]
    },
    {
     "name": "stdout",
     "output_type": "stream",
     "text": [
      "Retrieved in-context learning examples with idx:  [11, 128, 413]\n",
      "Trying to call OpenAI API...\n"
     ]
    },
    {
     "name": "stderr",
     "output_type": "stream",
     "text": [
      "Processing dataset:  56%|███████████▋         | 297/534 [04:02<03:15,  1.21it/s]"
     ]
    },
    {
     "name": "stdout",
     "output_type": "stream",
     "text": [
      "Retrieved in-context learning examples with idx:  [128, 413, 191]\n",
      "Trying to call OpenAI API...\n"
     ]
    },
    {
     "name": "stderr",
     "output_type": "stream",
     "text": [
      "Processing dataset:  56%|███████████▋         | 298/534 [04:02<03:09,  1.25it/s]"
     ]
    },
    {
     "name": "stdout",
     "output_type": "stream",
     "text": [
      "Retrieved in-context learning examples with idx:  [128, 1032, 413]\n",
      "Trying to call OpenAI API...\n"
     ]
    },
    {
     "name": "stderr",
     "output_type": "stream",
     "text": [
      "Processing dataset:  56%|███████████▊         | 299/534 [04:03<03:04,  1.27it/s]"
     ]
    },
    {
     "name": "stdout",
     "output_type": "stream",
     "text": [
      "Retrieved in-context learning examples with idx:  [191, 65, 436]\n",
      "Trying to call OpenAI API...\n"
     ]
    },
    {
     "name": "stderr",
     "output_type": "stream",
     "text": [
      "Processing dataset:  56%|███████████▊         | 300/534 [04:04<03:09,  1.24it/s]"
     ]
    },
    {
     "name": "stdout",
     "output_type": "stream",
     "text": [
      "Retrieved in-context learning examples with idx:  [128, 413, 11]\n",
      "Trying to call OpenAI API...\n"
     ]
    },
    {
     "name": "stderr",
     "output_type": "stream",
     "text": [
      "Processing dataset:  56%|███████████▊         | 301/534 [04:05<03:01,  1.28it/s]"
     ]
    },
    {
     "name": "stdout",
     "output_type": "stream",
     "text": [
      "Retrieved in-context learning examples with idx:  [128, 1032, 413]\n",
      "Trying to call OpenAI API...\n"
     ]
    },
    {
     "name": "stderr",
     "output_type": "stream",
     "text": [
      "Processing dataset:  57%|███████████▉         | 302/534 [04:06<03:14,  1.19it/s]"
     ]
    },
    {
     "name": "stdout",
     "output_type": "stream",
     "text": [
      "Retrieved in-context learning examples with idx:  [128, 356, 413]\n",
      "Trying to call OpenAI API...\n"
     ]
    },
    {
     "name": "stderr",
     "output_type": "stream",
     "text": [
      "Processing dataset:  57%|███████████▉         | 303/534 [04:06<03:03,  1.26it/s]"
     ]
    },
    {
     "name": "stdout",
     "output_type": "stream",
     "text": [
      "Retrieved in-context learning examples with idx:  [128, 11, 191]\n",
      "Trying to call OpenAI API...\n"
     ]
    },
    {
     "name": "stderr",
     "output_type": "stream",
     "text": [
      "Processing dataset:  57%|███████████▉         | 304/534 [04:07<02:55,  1.31it/s]"
     ]
    },
    {
     "name": "stdout",
     "output_type": "stream",
     "text": [
      "Retrieved in-context learning examples with idx:  [128, 1032, 413]\n",
      "Trying to call OpenAI API...\n"
     ]
    },
    {
     "name": "stderr",
     "output_type": "stream",
     "text": [
      "Processing dataset:  57%|███████████▉         | 305/534 [04:08<02:58,  1.28it/s]"
     ]
    },
    {
     "name": "stdout",
     "output_type": "stream",
     "text": [
      "Retrieved in-context learning examples with idx:  [128, 356, 11]\n",
      "Trying to call OpenAI API...\n"
     ]
    },
    {
     "name": "stderr",
     "output_type": "stream",
     "text": [
      "Processing dataset:  57%|████████████         | 306/534 [04:09<02:53,  1.31it/s]"
     ]
    },
    {
     "name": "stdout",
     "output_type": "stream",
     "text": [
      "Retrieved in-context learning examples with idx:  [128, 11, 413]\n",
      "Trying to call OpenAI API...\n"
     ]
    },
    {
     "name": "stderr",
     "output_type": "stream",
     "text": [
      "Processing dataset:  57%|████████████         | 307/534 [04:09<02:42,  1.39it/s]"
     ]
    },
    {
     "name": "stdout",
     "output_type": "stream",
     "text": [
      "Retrieved in-context learning examples with idx:  [128, 1032, 11]\n",
      "Trying to call OpenAI API...\n"
     ]
    },
    {
     "name": "stderr",
     "output_type": "stream",
     "text": [
      "Processing dataset:  58%|████████████         | 308/534 [04:10<03:02,  1.24it/s]"
     ]
    },
    {
     "name": "stdout",
     "output_type": "stream",
     "text": [
      "Retrieved in-context learning examples with idx:  [128, 413, 1032]\n",
      "Trying to call OpenAI API...\n"
     ]
    },
    {
     "name": "stderr",
     "output_type": "stream",
     "text": [
      "Processing dataset:  58%|████████████▏        | 309/534 [04:11<02:55,  1.28it/s]"
     ]
    },
    {
     "name": "stdout",
     "output_type": "stream",
     "text": [
      "Retrieved in-context learning examples with idx:  [128, 413, 11]\n",
      "Trying to call OpenAI API...\n"
     ]
    },
    {
     "name": "stderr",
     "output_type": "stream",
     "text": [
      "Processing dataset:  58%|████████████▏        | 310/534 [04:12<02:53,  1.29it/s]"
     ]
    },
    {
     "name": "stdout",
     "output_type": "stream",
     "text": [
      "Retrieved in-context learning examples with idx:  [128, 413, 1032]\n",
      "Trying to call OpenAI API...\n"
     ]
    },
    {
     "name": "stderr",
     "output_type": "stream",
     "text": [
      "Processing dataset:  58%|████████████▏        | 311/534 [04:13<03:06,  1.19it/s]"
     ]
    },
    {
     "name": "stdout",
     "output_type": "stream",
     "text": [
      "Retrieved in-context learning examples with idx:  [128, 191, 65]\n",
      "Trying to call OpenAI API...\n"
     ]
    },
    {
     "name": "stderr",
     "output_type": "stream",
     "text": [
      "Processing dataset:  58%|████████████▎        | 312/534 [04:13<02:51,  1.30it/s]"
     ]
    },
    {
     "name": "stdout",
     "output_type": "stream",
     "text": [
      "Retrieved in-context learning examples with idx:  [128, 11, 356]\n",
      "Trying to call OpenAI API...\n"
     ]
    },
    {
     "name": "stderr",
     "output_type": "stream",
     "text": [
      "Processing dataset:  59%|████████████▎        | 313/534 [04:14<02:55,  1.26it/s]"
     ]
    },
    {
     "name": "stdout",
     "output_type": "stream",
     "text": [
      "Retrieved in-context learning examples with idx:  [128, 191, 11]\n",
      "Trying to call OpenAI API...\n"
     ]
    },
    {
     "name": "stderr",
     "output_type": "stream",
     "text": [
      "Processing dataset:  59%|████████████▎        | 314/534 [04:15<02:56,  1.25it/s]"
     ]
    },
    {
     "name": "stdout",
     "output_type": "stream",
     "text": [
      "Retrieved in-context learning examples with idx:  [128, 356, 11]\n",
      "Trying to call OpenAI API...\n"
     ]
    },
    {
     "name": "stderr",
     "output_type": "stream",
     "text": [
      "Processing dataset:  59%|████████████▍        | 315/534 [04:16<02:50,  1.28it/s]"
     ]
    },
    {
     "name": "stdout",
     "output_type": "stream",
     "text": [
      "Retrieved in-context learning examples with idx:  [128, 356, 413]\n",
      "Trying to call OpenAI API...\n"
     ]
    },
    {
     "name": "stderr",
     "output_type": "stream",
     "text": [
      "Processing dataset:  59%|████████████▍        | 316/534 [04:16<02:44,  1.33it/s]"
     ]
    },
    {
     "name": "stdout",
     "output_type": "stream",
     "text": [
      "Retrieved in-context learning examples with idx:  [128, 1032, 11]\n",
      "Trying to call OpenAI API...\n"
     ]
    },
    {
     "name": "stderr",
     "output_type": "stream",
     "text": [
      "Processing dataset:  59%|████████████▍        | 317/534 [04:17<03:00,  1.21it/s]"
     ]
    },
    {
     "name": "stdout",
     "output_type": "stream",
     "text": [
      "Retrieved in-context learning examples with idx:  [128, 11, 65]\n",
      "Trying to call OpenAI API...\n"
     ]
    },
    {
     "name": "stderr",
     "output_type": "stream",
     "text": [
      "Processing dataset:  60%|████████████▌        | 318/534 [04:18<02:51,  1.26it/s]"
     ]
    },
    {
     "name": "stdout",
     "output_type": "stream",
     "text": [
      "Retrieved in-context learning examples with idx:  [128, 11, 1032]\n",
      "Trying to call OpenAI API...\n"
     ]
    },
    {
     "name": "stderr",
     "output_type": "stream",
     "text": [
      "Processing dataset:  60%|████████████▌        | 319/534 [04:19<02:41,  1.33it/s]"
     ]
    },
    {
     "name": "stdout",
     "output_type": "stream",
     "text": [
      "Retrieved in-context learning examples with idx:  [128, 191, 11]\n",
      "Trying to call OpenAI API...\n"
     ]
    },
    {
     "name": "stderr",
     "output_type": "stream",
     "text": [
      "Processing dataset:  60%|████████████▌        | 320/534 [04:20<02:43,  1.31it/s]"
     ]
    },
    {
     "name": "stdout",
     "output_type": "stream",
     "text": [
      "Retrieved in-context learning examples with idx:  [128, 11, 413]\n",
      "Trying to call OpenAI API...\n"
     ]
    },
    {
     "name": "stderr",
     "output_type": "stream",
     "text": [
      "Processing dataset:  60%|████████████▌        | 321/534 [04:20<02:51,  1.24it/s]"
     ]
    },
    {
     "name": "stdout",
     "output_type": "stream",
     "text": [
      "Retrieved in-context learning examples with idx:  [356, 11, 128]\n",
      "Trying to call OpenAI API...\n"
     ]
    },
    {
     "name": "stderr",
     "output_type": "stream",
     "text": [
      "Processing dataset:  60%|████████████▋        | 322/534 [04:21<02:52,  1.23it/s]"
     ]
    },
    {
     "name": "stdout",
     "output_type": "stream",
     "text": [
      "Retrieved in-context learning examples with idx:  [11, 356, 413]\n",
      "Trying to call OpenAI API...\n"
     ]
    },
    {
     "name": "stderr",
     "output_type": "stream",
     "text": [
      "Processing dataset:  60%|████████████▋        | 323/534 [04:22<02:52,  1.23it/s]"
     ]
    },
    {
     "name": "stdout",
     "output_type": "stream",
     "text": [
      "Retrieved in-context learning examples with idx:  [128, 413, 356]\n",
      "Trying to call OpenAI API...\n"
     ]
    },
    {
     "name": "stderr",
     "output_type": "stream",
     "text": [
      "Processing dataset:  61%|████████████▋        | 324/534 [04:24<04:15,  1.22s/it]"
     ]
    },
    {
     "name": "stdout",
     "output_type": "stream",
     "text": [
      "Retrieved in-context learning examples with idx:  [128, 413, 11]\n",
      "Trying to call OpenAI API...\n"
     ]
    },
    {
     "name": "stderr",
     "output_type": "stream",
     "text": [
      "Processing dataset:  61%|████████████▊        | 325/534 [04:25<04:02,  1.16s/it]"
     ]
    },
    {
     "name": "stdout",
     "output_type": "stream",
     "text": [
      "Retrieved in-context learning examples with idx:  [413, 356, 1032]\n",
      "Trying to call OpenAI API...\n"
     ]
    },
    {
     "name": "stderr",
     "output_type": "stream",
     "text": [
      "Processing dataset:  61%|████████████▊        | 326/534 [04:26<03:34,  1.03s/it]"
     ]
    },
    {
     "name": "stdout",
     "output_type": "stream",
     "text": [
      "Retrieved in-context learning examples with idx:  [128, 356, 413]\n",
      "Trying to call OpenAI API...\n"
     ]
    },
    {
     "name": "stderr",
     "output_type": "stream",
     "text": [
      "Processing dataset:  61%|████████████▊        | 327/534 [04:27<03:18,  1.04it/s]"
     ]
    },
    {
     "name": "stdout",
     "output_type": "stream",
     "text": [
      "Retrieved in-context learning examples with idx:  [356, 413, 128]\n",
      "Trying to call OpenAI API...\n"
     ]
    },
    {
     "name": "stderr",
     "output_type": "stream",
     "text": [
      "Processing dataset:  61%|████████████▉        | 328/534 [04:28<03:11,  1.07it/s]"
     ]
    },
    {
     "name": "stdout",
     "output_type": "stream",
     "text": [
      "Retrieved in-context learning examples with idx:  [11, 128, 356]\n",
      "Trying to call OpenAI API...\n"
     ]
    },
    {
     "name": "stderr",
     "output_type": "stream",
     "text": [
      "Processing dataset:  62%|████████████▉        | 329/534 [04:28<03:01,  1.13it/s]"
     ]
    },
    {
     "name": "stdout",
     "output_type": "stream",
     "text": [
      "Retrieved in-context learning examples with idx:  [356, 11, 413]\n",
      "Trying to call OpenAI API...\n"
     ]
    },
    {
     "name": "stderr",
     "output_type": "stream",
     "text": [
      "Processing dataset:  62%|████████████▉        | 330/534 [04:29<02:56,  1.15it/s]"
     ]
    },
    {
     "name": "stdout",
     "output_type": "stream",
     "text": [
      "Retrieved in-context learning examples with idx:  [11, 413, 1032]\n",
      "Trying to call OpenAI API...\n"
     ]
    },
    {
     "name": "stderr",
     "output_type": "stream",
     "text": [
      "Processing dataset:  62%|█████████████        | 331/534 [04:30<02:57,  1.15it/s]"
     ]
    },
    {
     "name": "stdout",
     "output_type": "stream",
     "text": [
      "Retrieved in-context learning examples with idx:  [356, 413, 128]\n",
      "Trying to call OpenAI API...\n"
     ]
    },
    {
     "name": "stderr",
     "output_type": "stream",
     "text": [
      "Processing dataset:  62%|█████████████        | 332/534 [04:31<02:55,  1.15it/s]"
     ]
    },
    {
     "name": "stdout",
     "output_type": "stream",
     "text": [
      "Retrieved in-context learning examples with idx:  [128, 413, 356]\n",
      "Trying to call OpenAI API...\n"
     ]
    },
    {
     "name": "stderr",
     "output_type": "stream",
     "text": [
      "Processing dataset:  62%|█████████████        | 333/534 [04:32<02:45,  1.22it/s]"
     ]
    },
    {
     "name": "stdout",
     "output_type": "stream",
     "text": [
      "Retrieved in-context learning examples with idx:  [191, 31, 336]\n",
      "Trying to call OpenAI API...\n"
     ]
    },
    {
     "name": "stderr",
     "output_type": "stream",
     "text": [
      "Processing dataset:  63%|█████████████▏       | 334/534 [04:33<02:44,  1.22it/s]"
     ]
    },
    {
     "name": "stdout",
     "output_type": "stream",
     "text": [
      "Retrieved in-context learning examples with idx:  [1032, 413, 356]\n",
      "Trying to call OpenAI API...\n"
     ]
    },
    {
     "name": "stderr",
     "output_type": "stream",
     "text": [
      "Processing dataset:  63%|█████████████▏       | 335/534 [04:33<02:48,  1.18it/s]"
     ]
    },
    {
     "name": "stdout",
     "output_type": "stream",
     "text": [
      "Retrieved in-context learning examples with idx:  [11, 356, 413]\n",
      "Trying to call OpenAI API...\n"
     ]
    },
    {
     "name": "stderr",
     "output_type": "stream",
     "text": [
      "Processing dataset:  63%|█████████████▏       | 336/534 [04:34<02:47,  1.19it/s]"
     ]
    },
    {
     "name": "stdout",
     "output_type": "stream",
     "text": [
      "Retrieved in-context learning examples with idx:  [413, 128, 1032]\n",
      "Trying to call OpenAI API...\n"
     ]
    },
    {
     "name": "stderr",
     "output_type": "stream",
     "text": [
      "Processing dataset:  63%|█████████████▎       | 337/534 [04:35<02:38,  1.24it/s]"
     ]
    },
    {
     "name": "stdout",
     "output_type": "stream",
     "text": [
      "Retrieved in-context learning examples with idx:  [413, 356, 191]\n",
      "Trying to call OpenAI API...\n"
     ]
    },
    {
     "name": "stderr",
     "output_type": "stream",
     "text": [
      "Processing dataset:  63%|█████████████▎       | 338/534 [04:36<02:33,  1.28it/s]"
     ]
    },
    {
     "name": "stdout",
     "output_type": "stream",
     "text": [
      "Retrieved in-context learning examples with idx:  [128, 413, 356]\n",
      "Trying to call OpenAI API...\n"
     ]
    },
    {
     "name": "stderr",
     "output_type": "stream",
     "text": [
      "Processing dataset:  63%|█████████████▎       | 339/534 [04:36<02:28,  1.32it/s]"
     ]
    },
    {
     "name": "stdout",
     "output_type": "stream",
     "text": [
      "Retrieved in-context learning examples with idx:  [191, 128, 356]\n",
      "Trying to call OpenAI API...\n"
     ]
    },
    {
     "name": "stderr",
     "output_type": "stream",
     "text": [
      "Processing dataset:  64%|█████████████▎       | 340/534 [04:37<02:32,  1.27it/s]"
     ]
    },
    {
     "name": "stdout",
     "output_type": "stream",
     "text": [
      "Retrieved in-context learning examples with idx:  [128, 413, 1032]\n",
      "Trying to call OpenAI API...\n"
     ]
    },
    {
     "name": "stderr",
     "output_type": "stream",
     "text": [
      "Processing dataset:  64%|█████████████▍       | 341/534 [04:38<02:31,  1.27it/s]"
     ]
    },
    {
     "name": "stdout",
     "output_type": "stream",
     "text": [
      "Retrieved in-context learning examples with idx:  [128, 356, 413]\n",
      "Trying to call OpenAI API...\n"
     ]
    },
    {
     "name": "stderr",
     "output_type": "stream",
     "text": [
      "Processing dataset:  64%|█████████████▍       | 342/534 [04:39<02:32,  1.26it/s]"
     ]
    },
    {
     "name": "stdout",
     "output_type": "stream",
     "text": [
      "Retrieved in-context learning examples with idx:  [191, 128, 413]\n",
      "Trying to call OpenAI API...\n"
     ]
    },
    {
     "name": "stderr",
     "output_type": "stream",
     "text": [
      "Processing dataset:  64%|█████████████▍       | 343/534 [04:40<02:31,  1.26it/s]"
     ]
    },
    {
     "name": "stdout",
     "output_type": "stream",
     "text": [
      "Retrieved in-context learning examples with idx:  [128, 191, 1000]\n",
      "Trying to call OpenAI API...\n"
     ]
    },
    {
     "name": "stderr",
     "output_type": "stream",
     "text": [
      "Processing dataset:  64%|█████████████▌       | 344/534 [04:41<02:34,  1.23it/s]"
     ]
    },
    {
     "name": "stdout",
     "output_type": "stream",
     "text": [
      "Retrieved in-context learning examples with idx:  [128, 11, 413]\n",
      "Trying to call OpenAI API...\n"
     ]
    },
    {
     "name": "stderr",
     "output_type": "stream",
     "text": [
      "Processing dataset:  65%|█████████████▌       | 345/534 [04:41<02:33,  1.23it/s]"
     ]
    },
    {
     "name": "stdout",
     "output_type": "stream",
     "text": [
      "Retrieved in-context learning examples with idx:  [128, 413, 11]\n",
      "Trying to call OpenAI API...\n"
     ]
    },
    {
     "name": "stderr",
     "output_type": "stream",
     "text": [
      "Processing dataset:  65%|█████████████▌       | 346/534 [04:42<02:44,  1.14it/s]"
     ]
    },
    {
     "name": "stdout",
     "output_type": "stream",
     "text": [
      "Retrieved in-context learning examples with idx:  [128, 413, 356]\n",
      "Trying to call OpenAI API...\n"
     ]
    },
    {
     "name": "stderr",
     "output_type": "stream",
     "text": [
      "Processing dataset:  65%|█████████████▋       | 347/534 [04:43<02:31,  1.24it/s]"
     ]
    },
    {
     "name": "stdout",
     "output_type": "stream",
     "text": [
      "Retrieved in-context learning examples with idx:  [128, 413, 356]\n",
      "Trying to call OpenAI API...\n"
     ]
    },
    {
     "name": "stderr",
     "output_type": "stream",
     "text": [
      "Processing dataset:  65%|█████████████▋       | 348/534 [04:44<02:28,  1.25it/s]"
     ]
    },
    {
     "name": "stdout",
     "output_type": "stream",
     "text": [
      "Retrieved in-context learning examples with idx:  [128, 356, 11]\n",
      "Trying to call OpenAI API...\n"
     ]
    },
    {
     "name": "stderr",
     "output_type": "stream",
     "text": [
      "Processing dataset:  65%|█████████████▋       | 349/534 [04:45<02:40,  1.15it/s]"
     ]
    },
    {
     "name": "stdout",
     "output_type": "stream",
     "text": [
      "Retrieved in-context learning examples with idx:  [128, 413, 1032]\n",
      "Trying to call OpenAI API...\n"
     ]
    },
    {
     "name": "stderr",
     "output_type": "stream",
     "text": [
      "Processing dataset:  66%|█████████████▊       | 350/534 [04:46<02:36,  1.18it/s]"
     ]
    },
    {
     "name": "stdout",
     "output_type": "stream",
     "text": [
      "Retrieved in-context learning examples with idx:  [128, 191, 356]\n",
      "Trying to call OpenAI API...\n"
     ]
    },
    {
     "name": "stderr",
     "output_type": "stream",
     "text": [
      "Processing dataset:  66%|█████████████▊       | 351/534 [04:47<02:45,  1.10it/s]"
     ]
    },
    {
     "name": "stdout",
     "output_type": "stream",
     "text": [
      "Retrieved in-context learning examples with idx:  [128, 11, 356]\n",
      "Trying to call OpenAI API...\n"
     ]
    },
    {
     "name": "stderr",
     "output_type": "stream",
     "text": [
      "Processing dataset:  66%|█████████████▊       | 352/534 [04:47<02:32,  1.19it/s]"
     ]
    },
    {
     "name": "stdout",
     "output_type": "stream",
     "text": [
      "Retrieved in-context learning examples with idx:  [128, 413, 356]\n",
      "Trying to call OpenAI API...\n"
     ]
    },
    {
     "name": "stderr",
     "output_type": "stream",
     "text": [
      "Processing dataset:  66%|█████████████▉       | 353/534 [04:48<02:39,  1.14it/s]"
     ]
    },
    {
     "name": "stdout",
     "output_type": "stream",
     "text": [
      "Retrieved in-context learning examples with idx:  [128, 11, 191]\n",
      "Trying to call OpenAI API...\n"
     ]
    },
    {
     "name": "stderr",
     "output_type": "stream",
     "text": [
      "Processing dataset:  66%|█████████████▉       | 354/534 [04:49<02:28,  1.21it/s]"
     ]
    },
    {
     "name": "stdout",
     "output_type": "stream",
     "text": [
      "Retrieved in-context learning examples with idx:  [128, 697, 739]\n",
      "Trying to call OpenAI API...\n"
     ]
    },
    {
     "name": "stderr",
     "output_type": "stream",
     "text": [
      "Processing dataset:  66%|█████████████▉       | 355/534 [04:50<02:32,  1.17it/s]"
     ]
    },
    {
     "name": "stdout",
     "output_type": "stream",
     "text": [
      "Retrieved in-context learning examples with idx:  [128, 1114, 321]\n",
      "Trying to call OpenAI API...\n"
     ]
    },
    {
     "name": "stderr",
     "output_type": "stream",
     "text": [
      "Processing dataset:  67%|██████████████       | 356/534 [04:51<02:25,  1.22it/s]"
     ]
    },
    {
     "name": "stdout",
     "output_type": "stream",
     "text": [
      "Retrieved in-context learning examples with idx:  [191, 4, 984]\n",
      "Trying to call OpenAI API...\n"
     ]
    },
    {
     "name": "stderr",
     "output_type": "stream",
     "text": [
      "Processing dataset:  67%|██████████████       | 357/534 [04:51<02:23,  1.23it/s]"
     ]
    },
    {
     "name": "stdout",
     "output_type": "stream",
     "text": [
      "Retrieved in-context learning examples with idx:  [128, 356, 413]\n",
      "Trying to call OpenAI API...\n"
     ]
    },
    {
     "name": "stderr",
     "output_type": "stream",
     "text": [
      "Processing dataset:  67%|██████████████       | 358/534 [04:52<02:15,  1.30it/s]"
     ]
    },
    {
     "name": "stdout",
     "output_type": "stream",
     "text": [
      "Retrieved in-context learning examples with idx:  [128, 413, 11]\n",
      "Trying to call OpenAI API...\n"
     ]
    },
    {
     "name": "stderr",
     "output_type": "stream",
     "text": [
      "Processing dataset:  67%|██████████████       | 359/534 [04:53<02:19,  1.25it/s]"
     ]
    },
    {
     "name": "stdout",
     "output_type": "stream",
     "text": [
      "Retrieved in-context learning examples with idx:  [128, 413, 356]\n",
      "Trying to call OpenAI API...\n"
     ]
    },
    {
     "name": "stderr",
     "output_type": "stream",
     "text": [
      "Processing dataset:  67%|██████████████▏      | 360/534 [04:54<02:20,  1.24it/s]"
     ]
    },
    {
     "name": "stdout",
     "output_type": "stream",
     "text": [
      "Retrieved in-context learning examples with idx:  [128, 356, 413]\n",
      "Trying to call OpenAI API...\n"
     ]
    },
    {
     "name": "stderr",
     "output_type": "stream",
     "text": [
      "Processing dataset:  68%|██████████████▏      | 361/534 [04:55<02:19,  1.24it/s]"
     ]
    },
    {
     "name": "stdout",
     "output_type": "stream",
     "text": [
      "Retrieved in-context learning examples with idx:  [128, 356, 11]\n",
      "Trying to call OpenAI API...\n"
     ]
    },
    {
     "name": "stderr",
     "output_type": "stream",
     "text": [
      "Processing dataset:  68%|██████████████▏      | 362/534 [04:56<02:35,  1.11it/s]"
     ]
    },
    {
     "name": "stdout",
     "output_type": "stream",
     "text": [
      "Retrieved in-context learning examples with idx:  [128, 1114, 191]\n",
      "Trying to call OpenAI API...\n"
     ]
    },
    {
     "name": "stderr",
     "output_type": "stream",
     "text": [
      "Processing dataset:  68%|██████████████▎      | 363/534 [04:57<02:30,  1.14it/s]"
     ]
    },
    {
     "name": "stdout",
     "output_type": "stream",
     "text": [
      "Retrieved in-context learning examples with idx:  [128, 413, 356]\n",
      "Trying to call OpenAI API...\n"
     ]
    },
    {
     "name": "stderr",
     "output_type": "stream",
     "text": [
      "Processing dataset:  68%|██████████████▎      | 364/534 [04:57<02:26,  1.16it/s]"
     ]
    },
    {
     "name": "stdout",
     "output_type": "stream",
     "text": [
      "Retrieved in-context learning examples with idx:  [128, 413, 11]\n",
      "Trying to call OpenAI API...\n"
     ]
    },
    {
     "name": "stderr",
     "output_type": "stream",
     "text": [
      "Processing dataset:  68%|██████████████▎      | 365/534 [04:58<02:23,  1.18it/s]"
     ]
    },
    {
     "name": "stdout",
     "output_type": "stream",
     "text": [
      "Retrieved in-context learning examples with idx:  [128, 413, 356]\n",
      "Trying to call OpenAI API...\n"
     ]
    },
    {
     "name": "stderr",
     "output_type": "stream",
     "text": [
      "Processing dataset:  69%|██████████████▍      | 366/534 [04:59<02:17,  1.22it/s]"
     ]
    },
    {
     "name": "stdout",
     "output_type": "stream",
     "text": [
      "Retrieved in-context learning examples with idx:  [128, 191, 356]\n",
      "Trying to call OpenAI API...\n"
     ]
    },
    {
     "name": "stderr",
     "output_type": "stream",
     "text": [
      "Processing dataset:  69%|██████████████▍      | 367/534 [05:00<02:15,  1.24it/s]"
     ]
    },
    {
     "name": "stdout",
     "output_type": "stream",
     "text": [
      "Retrieved in-context learning examples with idx:  [128, 356, 11]\n",
      "Trying to call OpenAI API...\n"
     ]
    },
    {
     "name": "stderr",
     "output_type": "stream",
     "text": [
      "Processing dataset:  69%|██████████████▍      | 368/534 [05:01<02:35,  1.07it/s]"
     ]
    },
    {
     "name": "stdout",
     "output_type": "stream",
     "text": [
      "Retrieved in-context learning examples with idx:  [128, 356, 1032]\n",
      "Trying to call OpenAI API...\n"
     ]
    },
    {
     "name": "stderr",
     "output_type": "stream",
     "text": [
      "Processing dataset:  69%|██████████████▌      | 369/534 [05:02<02:33,  1.07it/s]"
     ]
    },
    {
     "name": "stdout",
     "output_type": "stream",
     "text": [
      "Retrieved in-context learning examples with idx:  [128, 11, 413]\n",
      "Trying to call OpenAI API...\n"
     ]
    },
    {
     "name": "stderr",
     "output_type": "stream",
     "text": [
      "Processing dataset:  69%|██████████████▌      | 370/534 [05:03<02:21,  1.16it/s]"
     ]
    },
    {
     "name": "stdout",
     "output_type": "stream",
     "text": [
      "Retrieved in-context learning examples with idx:  [128, 191, 413]\n",
      "Trying to call OpenAI API...\n"
     ]
    },
    {
     "name": "stderr",
     "output_type": "stream",
     "text": [
      "Processing dataset:  69%|██████████████▌      | 371/534 [05:03<02:13,  1.22it/s]"
     ]
    },
    {
     "name": "stdout",
     "output_type": "stream",
     "text": [
      "Retrieved in-context learning examples with idx:  [128, 191, 65]\n",
      "Trying to call OpenAI API...\n"
     ]
    },
    {
     "name": "stderr",
     "output_type": "stream",
     "text": [
      "Processing dataset:  70%|██████████████▋      | 372/534 [05:04<02:08,  1.27it/s]"
     ]
    },
    {
     "name": "stdout",
     "output_type": "stream",
     "text": [
      "Retrieved in-context learning examples with idx:  [128, 356, 413]\n",
      "Trying to call OpenAI API...\n"
     ]
    },
    {
     "name": "stderr",
     "output_type": "stream",
     "text": [
      "Processing dataset:  70%|██████████████▋      | 373/534 [05:05<02:05,  1.29it/s]"
     ]
    },
    {
     "name": "stdout",
     "output_type": "stream",
     "text": [
      "Retrieved in-context learning examples with idx:  [128, 11, 356]\n",
      "Trying to call OpenAI API...\n"
     ]
    },
    {
     "name": "stderr",
     "output_type": "stream",
     "text": [
      "Processing dataset:  70%|██████████████▋      | 374/534 [05:06<02:04,  1.28it/s]"
     ]
    },
    {
     "name": "stdout",
     "output_type": "stream",
     "text": [
      "Retrieved in-context learning examples with idx:  [128, 11, 356]\n",
      "Trying to call OpenAI API...\n"
     ]
    },
    {
     "name": "stderr",
     "output_type": "stream",
     "text": [
      "Processing dataset:  70%|██████████████▋      | 375/534 [05:06<02:01,  1.31it/s]"
     ]
    },
    {
     "name": "stdout",
     "output_type": "stream",
     "text": [
      "Retrieved in-context learning examples with idx:  [128, 1032, 413]\n",
      "Trying to call OpenAI API...\n"
     ]
    },
    {
     "name": "stderr",
     "output_type": "stream",
     "text": [
      "Processing dataset:  70%|██████████████▊      | 376/534 [05:07<01:59,  1.33it/s]"
     ]
    },
    {
     "name": "stdout",
     "output_type": "stream",
     "text": [
      "Retrieved in-context learning examples with idx:  [128, 191, 1032]\n",
      "Trying to call OpenAI API...\n"
     ]
    },
    {
     "name": "stderr",
     "output_type": "stream",
     "text": [
      "Processing dataset:  71%|██████████████▊      | 377/534 [05:08<02:00,  1.30it/s]"
     ]
    },
    {
     "name": "stdout",
     "output_type": "stream",
     "text": [
      "Retrieved in-context learning examples with idx:  [128, 11, 356]\n",
      "Trying to call OpenAI API...\n"
     ]
    },
    {
     "name": "stderr",
     "output_type": "stream",
     "text": [
      "Processing dataset:  71%|██████████████▊      | 378/534 [05:09<01:57,  1.33it/s]"
     ]
    },
    {
     "name": "stdout",
     "output_type": "stream",
     "text": [
      "Retrieved in-context learning examples with idx:  [128, 356, 413]\n",
      "Trying to call OpenAI API...\n"
     ]
    },
    {
     "name": "stderr",
     "output_type": "stream",
     "text": [
      "Processing dataset:  71%|██████████████▉      | 379/534 [05:09<01:59,  1.30it/s]"
     ]
    },
    {
     "name": "stdout",
     "output_type": "stream",
     "text": [
      "Retrieved in-context learning examples with idx:  [128, 1032, 413]\n",
      "Trying to call OpenAI API...\n"
     ]
    },
    {
     "name": "stderr",
     "output_type": "stream",
     "text": [
      "Processing dataset:  71%|██████████████▉      | 380/534 [05:10<02:05,  1.23it/s]"
     ]
    },
    {
     "name": "stdout",
     "output_type": "stream",
     "text": [
      "Retrieved in-context learning examples with idx:  [128, 1032, 413]\n",
      "Trying to call OpenAI API...\n"
     ]
    },
    {
     "name": "stderr",
     "output_type": "stream",
     "text": [
      "Processing dataset:  71%|██████████████▉      | 381/534 [05:11<02:15,  1.13it/s]"
     ]
    },
    {
     "name": "stdout",
     "output_type": "stream",
     "text": [
      "Retrieved in-context learning examples with idx:  [128, 413, 1032]\n",
      "Trying to call OpenAI API...\n"
     ]
    },
    {
     "name": "stderr",
     "output_type": "stream",
     "text": [
      "Processing dataset:  72%|███████████████      | 382/534 [05:12<02:02,  1.24it/s]"
     ]
    },
    {
     "name": "stdout",
     "output_type": "stream",
     "text": [
      "Retrieved in-context learning examples with idx:  [128, 1032, 413]\n",
      "Trying to call OpenAI API...\n"
     ]
    },
    {
     "name": "stderr",
     "output_type": "stream",
     "text": [
      "Processing dataset:  72%|███████████████      | 383/534 [05:13<02:00,  1.25it/s]"
     ]
    },
    {
     "name": "stdout",
     "output_type": "stream",
     "text": [
      "Retrieved in-context learning examples with idx:  [128, 1032, 356]\n",
      "Trying to call OpenAI API...\n"
     ]
    },
    {
     "name": "stderr",
     "output_type": "stream",
     "text": [
      "Processing dataset:  72%|███████████████      | 384/534 [05:14<01:58,  1.27it/s]"
     ]
    },
    {
     "name": "stdout",
     "output_type": "stream",
     "text": [
      "Retrieved in-context learning examples with idx:  [128, 191, 1032]\n",
      "Trying to call OpenAI API...\n"
     ]
    },
    {
     "name": "stderr",
     "output_type": "stream",
     "text": [
      "Processing dataset:  72%|███████████████▏     | 385/534 [05:14<02:00,  1.23it/s]"
     ]
    },
    {
     "name": "stdout",
     "output_type": "stream",
     "text": [
      "Retrieved in-context learning examples with idx:  [128, 413, 356]\n",
      "Trying to call OpenAI API...\n"
     ]
    },
    {
     "name": "stderr",
     "output_type": "stream",
     "text": [
      "Processing dataset:  72%|███████████████▏     | 386/534 [05:15<01:56,  1.27it/s]"
     ]
    },
    {
     "name": "stdout",
     "output_type": "stream",
     "text": [
      "Retrieved in-context learning examples with idx:  [191, 128, 65]\n",
      "Trying to call OpenAI API...\n"
     ]
    },
    {
     "name": "stderr",
     "output_type": "stream",
     "text": [
      "Processing dataset:  72%|███████████████▏     | 387/534 [05:16<01:57,  1.25it/s]"
     ]
    },
    {
     "name": "stdout",
     "output_type": "stream",
     "text": [
      "Retrieved in-context learning examples with idx:  [128, 1032, 413]\n",
      "Trying to call OpenAI API...\n"
     ]
    },
    {
     "name": "stderr",
     "output_type": "stream",
     "text": [
      "Processing dataset:  73%|███████████████▎     | 388/534 [05:17<01:51,  1.31it/s]"
     ]
    },
    {
     "name": "stdout",
     "output_type": "stream",
     "text": [
      "Retrieved in-context learning examples with idx:  [128, 356, 11]\n",
      "Trying to call OpenAI API...\n"
     ]
    },
    {
     "name": "stderr",
     "output_type": "stream",
     "text": [
      "Processing dataset:  73%|███████████████▎     | 389/534 [05:17<01:46,  1.36it/s]"
     ]
    },
    {
     "name": "stdout",
     "output_type": "stream",
     "text": [
      "Retrieved in-context learning examples with idx:  [128, 1032, 356]\n",
      "Trying to call OpenAI API...\n"
     ]
    },
    {
     "name": "stderr",
     "output_type": "stream",
     "text": [
      "Processing dataset:  73%|███████████████▎     | 390/534 [05:18<01:53,  1.27it/s]"
     ]
    },
    {
     "name": "stdout",
     "output_type": "stream",
     "text": [
      "Retrieved in-context learning examples with idx:  [128, 191, 11]\n",
      "Trying to call OpenAI API...\n"
     ]
    },
    {
     "name": "stderr",
     "output_type": "stream",
     "text": [
      "Processing dataset:  73%|███████████████▍     | 391/534 [05:19<01:49,  1.30it/s]"
     ]
    },
    {
     "name": "stdout",
     "output_type": "stream",
     "text": [
      "Retrieved in-context learning examples with idx:  [128, 11, 413]\n",
      "Trying to call OpenAI API...\n"
     ]
    },
    {
     "name": "stderr",
     "output_type": "stream",
     "text": [
      "Processing dataset:  73%|███████████████▍     | 392/534 [05:20<01:59,  1.19it/s]"
     ]
    },
    {
     "name": "stdout",
     "output_type": "stream",
     "text": [
      "Retrieved in-context learning examples with idx:  [128, 11, 356]\n",
      "Trying to call OpenAI API...\n"
     ]
    },
    {
     "name": "stderr",
     "output_type": "stream",
     "text": [
      "Processing dataset:  74%|███████████████▍     | 393/534 [05:21<02:06,  1.12it/s]"
     ]
    },
    {
     "name": "stdout",
     "output_type": "stream",
     "text": [
      "Retrieved in-context learning examples with idx:  [128, 11, 191]\n",
      "Trying to call OpenAI API...\n"
     ]
    },
    {
     "name": "stderr",
     "output_type": "stream",
     "text": [
      "Processing dataset:  74%|███████████████▍     | 394/534 [05:22<02:06,  1.11it/s]"
     ]
    },
    {
     "name": "stdout",
     "output_type": "stream",
     "text": [
      "Retrieved in-context learning examples with idx:  [128, 191, 11]\n",
      "Trying to call OpenAI API...\n"
     ]
    },
    {
     "name": "stderr",
     "output_type": "stream",
     "text": [
      "Processing dataset:  74%|███████████████▌     | 395/534 [05:23<01:57,  1.19it/s]"
     ]
    },
    {
     "name": "stdout",
     "output_type": "stream",
     "text": [
      "Retrieved in-context learning examples with idx:  [128, 11, 413]\n",
      "Trying to call OpenAI API...\n"
     ]
    },
    {
     "name": "stderr",
     "output_type": "stream",
     "text": [
      "Processing dataset:  74%|███████████████▌     | 396/534 [05:23<01:49,  1.26it/s]"
     ]
    },
    {
     "name": "stdout",
     "output_type": "stream",
     "text": [
      "Retrieved in-context learning examples with idx:  [191, 128, 11]\n",
      "Trying to call OpenAI API...\n"
     ]
    },
    {
     "name": "stderr",
     "output_type": "stream",
     "text": [
      "Processing dataset:  74%|███████████████▌     | 397/534 [05:24<01:51,  1.22it/s]"
     ]
    },
    {
     "name": "stdout",
     "output_type": "stream",
     "text": [
      "Retrieved in-context learning examples with idx:  [191, 65, 140]\n",
      "Trying to call OpenAI API...\n"
     ]
    },
    {
     "name": "stderr",
     "output_type": "stream",
     "text": [
      "Processing dataset:  75%|███████████████▋     | 398/534 [05:25<01:47,  1.27it/s]"
     ]
    },
    {
     "name": "stdout",
     "output_type": "stream",
     "text": [
      "Retrieved in-context learning examples with idx:  [128, 11, 413]\n",
      "Trying to call OpenAI API...\n"
     ]
    },
    {
     "name": "stderr",
     "output_type": "stream",
     "text": [
      "Processing dataset:  75%|███████████████▋     | 399/534 [05:26<01:43,  1.30it/s]"
     ]
    },
    {
     "name": "stdout",
     "output_type": "stream",
     "text": [
      "Retrieved in-context learning examples with idx:  [11, 128, 191]\n",
      "Trying to call OpenAI API...\n"
     ]
    },
    {
     "name": "stderr",
     "output_type": "stream",
     "text": [
      "Processing dataset:  75%|███████████████▋     | 400/534 [05:26<01:42,  1.31it/s]"
     ]
    },
    {
     "name": "stdout",
     "output_type": "stream",
     "text": [
      "Retrieved in-context learning examples with idx:  [128, 356, 11]\n",
      "Trying to call OpenAI API...\n"
     ]
    },
    {
     "name": "stderr",
     "output_type": "stream",
     "text": [
      "Processing dataset:  75%|███████████████▊     | 401/534 [05:27<01:41,  1.31it/s]"
     ]
    },
    {
     "name": "stdout",
     "output_type": "stream",
     "text": [
      "Retrieved in-context learning examples with idx:  [128, 11, 1032]\n",
      "Trying to call OpenAI API...\n"
     ]
    },
    {
     "name": "stderr",
     "output_type": "stream",
     "text": [
      "Processing dataset:  75%|███████████████▊     | 402/534 [05:28<01:39,  1.33it/s]"
     ]
    },
    {
     "name": "stdout",
     "output_type": "stream",
     "text": [
      "Retrieved in-context learning examples with idx:  [11, 128, 356]\n",
      "Trying to call OpenAI API...\n"
     ]
    },
    {
     "name": "stderr",
     "output_type": "stream",
     "text": [
      "Processing dataset:  75%|███████████████▊     | 403/534 [05:29<01:45,  1.25it/s]"
     ]
    },
    {
     "name": "stdout",
     "output_type": "stream",
     "text": [
      "Retrieved in-context learning examples with idx:  [128, 356, 1032]\n",
      "Trying to call OpenAI API...\n"
     ]
    },
    {
     "name": "stderr",
     "output_type": "stream",
     "text": [
      "Processing dataset:  76%|███████████████▉     | 404/534 [05:30<01:46,  1.22it/s]\n"
     ]
    },
    {
     "ename": "IndexError",
     "evalue": "index 404 is out of bounds for dimension 0 with size 404",
     "output_type": "error",
     "traceback": [
      "\u001b[0;31m---------------------------------------------------------------------------\u001b[0m",
      "\u001b[0;31mIndexError\u001b[0m                                Traceback (most recent call last)",
      "Cell \u001b[0;32mIn[26], line 2\u001b[0m\n\u001b[1;32m      1\u001b[0m \u001b[38;5;66;03m# Example usage:\u001b[39;00m\n\u001b[0;32m----> 2\u001b[0m df_test[\u001b[38;5;124mf\u001b[39m\u001b[38;5;124m'\u001b[39m\u001b[38;5;124mgpt_predictions_in_context\u001b[39m\u001b[38;5;124m'\u001b[39m] \u001b[38;5;241m=\u001b[39m \u001b[43mapply_gpt_with_progress\u001b[49m\u001b[43m(\u001b[49m\u001b[43mdf_train\u001b[49m\u001b[43m,\u001b[49m\u001b[43m \u001b[49m\u001b[43mdf_test\u001b[49m\u001b[43m[\u001b[49m\u001b[38;5;124;43m'\u001b[39;49m\u001b[38;5;124;43minput_journal_title_abstract\u001b[39;49m\u001b[38;5;124;43m'\u001b[39;49m\u001b[43m]\u001b[49m\u001b[43m,\u001b[49m\u001b[43m \u001b[49m\u001b[43mindices\u001b[49m\u001b[43m)\u001b[49m\n",
      "Cell \u001b[0;32mIn[25], line 48\u001b[0m, in \u001b[0;36mapply_gpt_with_progress\u001b[0;34m(df_train, test_data_series, example_indices_tensor, num_samples, use_random, model)\u001b[0m\n\u001b[1;32m     46\u001b[0m     example_indices \u001b[38;5;241m=\u001b[39m random\u001b[38;5;241m.\u001b[39msample(\u001b[38;5;28mrange\u001b[39m(\u001b[38;5;28mlen\u001b[39m(df_train)), num_samples)\n\u001b[1;32m     47\u001b[0m \u001b[38;5;28;01melse\u001b[39;00m:\n\u001b[0;32m---> 48\u001b[0m     example_indices \u001b[38;5;241m=\u001b[39m \u001b[43mexample_indices_tensor\u001b[49m\u001b[43m[\u001b[49m\u001b[43mi\u001b[49m\u001b[43m]\u001b[49m\u001b[38;5;241m.\u001b[39mtolist()\n\u001b[1;32m     49\u001b[0m \u001b[38;5;28mprint\u001b[39m(\u001b[38;5;124m\"\u001b[39m\u001b[38;5;124mRetrieved in-context learning examples with idx: \u001b[39m\u001b[38;5;124m\"\u001b[39m, example_indices)\n\u001b[1;32m     50\u001b[0m result \u001b[38;5;241m=\u001b[39m query_gpt(df_train, text, example_indices, model)\n",
      "\u001b[0;31mIndexError\u001b[0m: index 404 is out of bounds for dimension 0 with size 404"
     ]
    }
   ],
   "source": [
    "# Example usage:\n",
    "df_test[f'gpt_predictions_in_context'] = apply_gpt_with_progress(df_train, df_test['input_journal_title_abstract'], indices)"
   ]
  },
  {
   "cell_type": "code",
   "execution_count": null,
   "id": "ffc995dd-0672-4e38-855d-f6951a52463b",
   "metadata": {},
   "outputs": [],
   "source": [
    "df_test.to_csv(f\"predictions/{model}_enriched_kw_test_outputs_in_context_ICL.csv\") #save k-nearest-neihgbor_ICL to csv\n",
    "\n",
    "df_test[f'gpt_predictions_in_context_random'] = apply_gpt_with_progress(df_train, df_test['input_journal_title_abstract'], use_random=True)"
   ]
  },
  {
   "cell_type": "code",
   "execution_count": null,
   "id": "831d3138-eb29-4520-a14e-cd70166ee848",
   "metadata": {},
   "outputs": [],
   "source": [
    "df_test.to_csv(f\"predictions/{model}_enriched_kw_test_outputs_random_ICL.csv\") #save random_ICL to csv"
   ]
  },
  {
   "cell_type": "markdown",
   "id": "ac0c5dc0-f6e8-4254-a64d-e61e44916dd0",
   "metadata": {},
   "source": [
    "## Evaluate"
   ]
  },
  {
   "cell_type": "code",
   "execution_count": null,
   "id": "0b214fd7-4b5e-401f-be72-3e61f3335eee",
   "metadata": {},
   "outputs": [],
   "source": [
    "df_test_to_eval = df_test.copy()\n",
    "df_test_to_eval.head()"
   ]
  },
  {
   "cell_type": "code",
   "execution_count": null,
   "id": "1c8bb4b1-2f9c-4fcd-be0a-e7b78afb479f",
   "metadata": {},
   "outputs": [],
   "source": [
    "prompt_ids_to_test = [\"in_context\", \"in_context_random\"]"
   ]
  },
  {
   "cell_type": "code",
   "execution_count": null,
   "id": "7c195170-c8c0-4cef-b6a7-d1911f6dabf8",
   "metadata": {},
   "outputs": [],
   "source": [
    "labels = [\"Human-systematic-review\", \"Human-RCT-drug-intervention\", \"Human-RCT-non-drug-intervention\", \"Human-RCT-non-intervention\", \"Human-case-report\", \"Human-non-RCT-drug-intervention\", \"Human-non-RCT-non-drug-intervention\", \"Animal-systematic-review\", \"Animal-drug-intervention\", \"Animal-non-drug-intervention\", \"Animal-other\", \"Non-systematic-review\", \"In-vitro-study\", \"Clinical-study-protocol\", \"Remaining\"]\n",
    "\n",
    "label_to_numerical = {label: i for i, label in enumerate(labels)}\n",
    "label_to_numerical[\"label missing\"] = -1"
   ]
  },
  {
   "cell_type": "code",
   "execution_count": null,
   "id": "ad6715a1-eec8-4365-b224-9778fd17c36f",
   "metadata": {},
   "outputs": [],
   "source": [
    "Map predictions to numerical"
   ]
  },
  {
   "cell_type": "code",
   "execution_count": null,
   "id": "740e3b5c-80f5-470e-9f75-102763f60a11",
   "metadata": {},
   "outputs": [],
   "source": [
    "label_to_numerical = {\n",
    "    'Remaining': 0,\n",
    "    'Non-systematic-review': 1,\n",
    "    'Human-non-RCT-non-drug-intervention': 2,\n",
    "    'Human-non-RCT-drug-intervention': 3,\n",
    "    'Human-case-report': 4,\n",
    "    'Animal-other': 5,\n",
    "    'Animal-drug-intervention': 6,\n",
    "    'Human-systematic-review': 7,\n",
    "    'In-vitro-study': 8,\n",
    "    'Human-RCT-non-drug-intervention': 9,\n",
    "    'Animal-non-drug-intervention': 10,\n",
    "    'Human-RCT-drug-intervention': 11,\n",
    "    'Clinical-study-protocol': 12,\n",
    "    'Human-RCT-non-intervention': 13\n",
    "}"
   ]
  },
  {
   "cell_type": "code",
   "execution_count": null,
   "id": "c9b16fe1-3bcd-4780-91f9-37e41ec8ba36",
   "metadata": {},
   "outputs": [],
   "source": [
    "numerical_to_label = {v: f\"{v} - {k}\" for k, v in label_to_numerical.items()}"
   ]
  },
  {
   "cell_type": "code",
   "execution_count": null,
   "id": "1bb9f44a-acd2-40e5-b0fd-663eaa9c728a",
   "metadata": {},
   "outputs": [],
   "source": [
    "import difflib\n",
    "\n",
    "def map_label_fuzzy(label, label_dict):\n",
    "    #label = label.lower().replace('-', '').replace('_', ' ').strip()\n",
    "    best_match = difflib.get_close_matches(label, label_dict.keys(), n=1, cutoff=0.6)\n",
    "    if best_match:\n",
    "        #print(f'{label} matched to {best_match[0]}')\n",
    "        return label_dict[best_match[0]]\n",
    "    return -1"
   ]
  },
  {
   "cell_type": "code",
   "execution_count": null,
   "id": "9350833e-925f-40dd-9fc0-ddc47f06eb63",
   "metadata": {},
   "outputs": [],
   "source": [
    "map_label_fuzzy(\"RCT-drug-intervention\", label_to_numerical)"
   ]
  },
  {
   "cell_type": "code",
   "execution_count": null,
   "id": "6018e679-151b-49d6-b193-078bc7319a74",
   "metadata": {},
   "outputs": [],
   "source": [
    "def map_label_to_numerical(label, label_dict):\n",
    "    # Check if label is a dictionary\n",
    "    if isinstance(label, dict):\n",
    "        # Extract the label with the highest score/probability\n",
    "        highest_label = max(normalized_label, key=label.get)\n",
    "        return label_dict.get(highest_label, -1)\n",
    "    else:\n",
    "         # Normalize label\n",
    "        normalized_label = label.replace(',', '').strip().replace(' ', '-')#.strip()\n",
    "        # Directly map string labels to numerical IDs\n",
    "        numerical_label = label_dict.get(label, -1)\n",
    "        # Fuzzy match if no direct mapping possible\n",
    "        if numerical_label == -1:\n",
    "            numerical_label = map_label_fuzzy(normalized_label, label_dict)\n",
    "        # If fuzzy match did not work, check if the label string contains the key 'label' and use it to split the string; keep everything to the right as the potential label\n",
    "        if numerical_label == -1:\n",
    "            if 'label' in label:\n",
    "                label_part = label.split('label')[1]\n",
    "                numerical_label = map_label_fuzzy(label_part, label_dict)\n",
    "        return numerical_label\n",
    "        \n",
    "# Convert accepted labels to numerical\n",
    "df['accepted_label_numerical'] = df['accepted_label'].apply(lambda x: map_label_to_numerical(x, label_to_numerical))\n",
    "\n",
    "\n",
    "for col in prediction_columns:\n",
    "    df[f'{col}_numerical'] = df[col].apply(lambda x: map_label_to_numerical(x, label_to_numerical))\n",
    "\n",
    "df.head()"
   ]
  },
  {
   "cell_type": "code",
   "execution_count": null,
   "id": "a89cbce1-d8b6-41ee-9e1f-d4d0489894fb",
   "metadata": {},
   "outputs": [],
   "source": [
    "Important: some labels from GPT could not be mapped to a target label"
   ]
  },
  {
   "cell_type": "code",
   "execution_count": null,
   "id": "d88f0e6c-fc41-4762-b5e9-757770cc4f0e",
   "metadata": {},
   "outputs": [],
   "source": [
    "rows_with_minus_one = df[(df == -1).any(axis=1)]\n",
    "rows_with_minus_one"
   ]
  },
  {
   "cell_type": "code",
   "execution_count": null,
   "id": "2a43e783-c4a2-4acd-b3f1-a114d57c781d",
   "metadata": {},
   "outputs": [],
   "source": []
  },
  {
   "cell_type": "code",
   "execution_count": null,
   "id": "8a6c402b-ecd8-4968-903b-9304fc1052f1",
   "metadata": {},
   "outputs": [],
   "source": [
    "def evaluate_predictions(df, target_label_col, prompt_ids_to_eval, model, eval_type, label_to_numerical, numerical_to_label): ## Initialize a list to hold DataFrame for each report and summary statistics\n",
    "    report_dfs = []\n",
    "    summary_stats = []\n",
    "\n",
    "    # Iterate over each GPT prediction column\n",
    "    for prompt_id in prompt_ids_to_eval:\n",
    "        print(\"Evaluating \", prompt_id)\n",
    "        prediction_col = f'gpt_predictions_{prompt_id}_clean'\n",
    "\n",
    "    df_test_to_eval[prediction_col] = df_test_to_eval[f'gpt_predictions_{prompt_id}'].apply(\n",
    "            lambda x: json.loads(x)['gpt_label'] if isinstance(x, str) and 'gpt_label' in json.loads(x) else x)\n",
    "    \n",
    "        # Map GPT predictions to numerical values\n",
    "        df_test_to_eval[f'{prediction_col}_numerical'] = df_test_to_eval[prediction_col].apply(map_label_to_numerical)\n",
    "\n",
    "        # Extract arrays for evaluation\n",
    "        y_true = df_test_to_eval['accepted_label_numerical'].values\n",
    "        y_pred = df_test_to_eval[f'{prediction_col}_numerical'].values\n",
    "    \n",
    "        # Calculate metrics\n",
    "        accuracy = accuracy_score(y_true, y_pred)\n",
    "        accuracy_balanced = balanced_accuracy_score(y_true, y_pred)\n",
    "        report = classification_report(y_true, y_pred, output_dict=True, zero_division=0, labels=range(len(labels)), target_names=labels)\n",
    "    \n",
    "        # Create DataFrame from report\n",
    "        report_df = pd.DataFrame(report).transpose()\n",
    "        report_df['Prompt ID'] = prompt_id  # Add column to indicate the prompt ID\n",
    "        report_dfs.append(report_df)\n",
    "    \n",
    "        # Extract summary statistics (average precision, recall, F1)\n",
    "        summary = report_df.loc['weighted avg', ['precision', 'recall', 'f1-score']].to_dict()\n",
    "        summary['Prompt ID'] = prompt_id\n",
    "        summary_stats.append(summary)\n",
    "\n",
    "        # Plotting confusion matrix\n",
    "        plt.figure(figsize=(10, 6))\n",
    "        ax = sns.heatmap(cm, annot=True, fmt='d', cmap='Blues', xticklabels=range(len(label_to_numerical)), yticklabels=range(len(label_to_numerical)))\n",
    "        ax.set_yticklabels(ax.get_yticklabels(), rotation=0, fontsize=13)\n",
    "        ax.set_xticklabels(ax.get_xticklabels(), rotation=0, fontsize=13)\n",
    "        plt.title(f'Confusion Matrix for Model {model} and ICL-Prompt {prompt_id}', fontsize=14)\n",
    "        plt.xlabel('Predicted Labels', fontsize=13)\n",
    "        plt.ylabel('True Labels', fontsize=13)\n",
    "\n",
    "        # Add an inset with label mapping\n",
    "        textstr = '\\n'.join([f'{v}: {k}' for k, v in label_to_numerical.items()])\n",
    "        props = dict(boxstyle='round', facecolor='wheat', alpha=0.5)\n",
    "        ax.text(1.16, 1.0, textstr, transform=ax.transAxes, fontsize=10, verticalalignment='top', bbox=props)\n",
    "        plt.tight_layout()\n",
    "        plt.savefig(f'plots/confusion_matrix_{model}_enriched_kw_test_{prompt_id}_{eval_type}_ICL.pdf')  # Save to PDF\n",
    "\n",
    "        # Combine all report DataFrames\n",
    "        all_reports_df = pd.concat(report_dfs)\n",
    "\n",
    "        # Create a summary table for average precision, recall, and F1-score\n",
    "        summary_df = pd.DataFrame(summary_stats)\n",
    "\n",
    "        # Save results to CSV files\n",
    "        all_reports_df.to_csv(f\"evaluations/{model}_enriched_kw_test_per_class_{'_'.join(prompt_ids_to_eval)}_{eval_type}_ICL.csv\")\n",
    "        summary_df.to_csv(f\"evaluations/{model}_enriched_kw_test_summary_{'_'.join(prompt_ids_to_eval)}_{eval_type}_ICL.csv\")"
   ]
  },
  {
   "cell_type": "code",
   "execution_count": null,
   "id": "c7212c04-38e3-457e-a1b4-683a2c54eb7b",
   "metadata": {},
   "outputs": [],
   "source": [
    "all_reports_df"
   ]
  },
  {
   "cell_type": "code",
   "execution_count": null,
   "id": "575268f0-d42b-45f5-9727-09369d76389e",
   "metadata": {},
   "outputs": [],
   "source": [
    "summary_df"
   ]
  },
  {
   "cell_type": "code",
   "execution_count": null,
   "id": "5d1b9b81-4947-4de0-87ea-df06f3b4270a",
   "metadata": {},
   "outputs": [],
   "source": [
    "print(summary_df)"
   ]
  },
  {
   "cell_type": "code",
   "execution_count": null,
   "id": "7c3424e5-fdb1-48dc-b468-7a77224bf664",
   "metadata": {},
   "outputs": [],
   "source": []
  }
 ],
 "metadata": {
  "kernelspec": {
   "display_name": "Python 3 (ipykernel)",
   "language": "python",
   "name": "python3"
  },
  "language_info": {
   "codemirror_mode": {
    "name": "ipython",
    "version": 3
   },
   "file_extension": ".py",
   "mimetype": "text/x-python",
   "name": "python",
   "nbconvert_exporter": "python",
   "pygments_lexer": "ipython3",
   "version": "3.12.0"
  }
 },
 "nbformat": 4,
 "nbformat_minor": 5
}
