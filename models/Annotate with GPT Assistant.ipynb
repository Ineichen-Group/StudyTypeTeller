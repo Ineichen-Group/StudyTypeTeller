{
 "cells": [
  {
   "cell_type": "code",
   "execution_count": 2,
   "id": "5292809a-a6bf-45b8-bfd6-1589ee42a7b1",
   "metadata": {},
   "outputs": [],
   "source": [
    "import pandas as pd\n",
    "import openai\n",
    "import json\n",
    "import time\n",
    "import matplotlib.pyplot as plt\n",
    "from tqdm import tqdm  # Import tqdm for the progress bar\n"
   ]
  },
  {
   "cell_type": "code",
   "execution_count": 3,
   "id": "0cc1bdb6-331d-4c67-b2ef-055af90ddfbf",
   "metadata": {},
   "outputs": [],
   "source": [
    "#pip install openai"
   ]
  },
  {
   "cell_type": "code",
   "execution_count": 4,
   "id": "1ffebb73-a46a-4783-99fe-cb5ce0a5508a",
   "metadata": {},
   "outputs": [],
   "source": [
    "from openai import OpenAI"
   ]
  },
  {
   "cell_type": "code",
   "execution_count": 5,
   "id": "4fb4ab9c-6f1e-4989-8e89-0b84993330d2",
   "metadata": {},
   "outputs": [
    {
     "data": {
      "text/plain": [
       "'1.14.0'"
      ]
     },
     "execution_count": 5,
     "metadata": {},
     "output_type": "execute_result"
    }
   ],
   "source": [
    "openai.__version__\n"
   ]
  },
  {
   "cell_type": "code",
   "execution_count": 6,
   "id": "ec118a75-721d-4f9d-b59b-c12b714b281e",
   "metadata": {},
   "outputs": [],
   "source": [
    "# IDEA: check https://platform.openai.com/docs/assistants/tools/knowledge-retrieval"
   ]
  },
  {
   "cell_type": "markdown",
   "id": "c461bf8d-2acf-4c37-b11d-a638e88b9b65",
   "metadata": {},
   "source": [
    "### Read in data"
   ]
  },
  {
   "cell_type": "code",
   "execution_count": 7,
   "id": "bbe461a0-164b-4201-a93d-12e1df9193bb",
   "metadata": {},
   "outputs": [],
   "source": [
    "# Initialize an empty list to store the parsed data\n",
    "data_list = []\n",
    "\n",
    "# Read the JSONL file line by line\n",
    "with open('../data/prodigy/annotated_output/pilot_500_pubmed_abstracts_shirin_correct_id.jsonl', 'r') as file:\n",
    "    for line in file:\n",
    "        # Parse each line as a JSON object\n",
    "        data = json.loads(line.strip())\n",
    "        \n",
    "        # Check if _view_id is \"choice\"// should be review if this was coming from a review prodigy session\n",
    "        if data.get(\"_view_id\") == \"choice\":\n",
    "            # Split text into journal_name, title, and abstract based on ^\\n symbol\n",
    "            text = data.get(\"text\", \"\")\n",
    "            \n",
    "            # Splitting text based on ^\\n for journal_name, title, and abstract\n",
    "            parts = text.split(\"^\\n\", 2)  # Split into three parts based on first two ^\\n occurrences\n",
    "            \n",
    "            journal_name = parts[0].strip() if len(parts) > 0 else \"\"\n",
    "            title = parts[1].strip() if len(parts) > 1 else \"\"\n",
    "            abstract = parts[2].strip() if len(parts) > 2 else \"\"\n",
    "            \n",
    "            # Extract other required fields\n",
    "            pmid = data.get(\"pmid\", \"\")\n",
    "            accept = data.get(\"accept\", [])\n",
    "            \n",
    "            # Append to the list\n",
    "            data_list.append({\n",
    "                \"pmid\": pmid,\n",
    "                \"journal_name\": journal_name,\n",
    "                \"title\": title,\n",
    "                \"abstract\": abstract,\n",
    "                \"accepted_label\": accept\n",
    "            })\n",
    "\n",
    "# Convert the list of dictionaries to a pandas DataFrame\n",
    "df = pd.DataFrame(data_list)"
   ]
  },
  {
   "cell_type": "code",
   "execution_count": 8,
   "id": "b8623523-3916-4522-9999-18931e017571",
   "metadata": {},
   "outputs": [
    {
     "data": {
      "text/html": [
       "<div>\n",
       "<style scoped>\n",
       "    .dataframe tbody tr th:only-of-type {\n",
       "        vertical-align: middle;\n",
       "    }\n",
       "\n",
       "    .dataframe tbody tr th {\n",
       "        vertical-align: top;\n",
       "    }\n",
       "\n",
       "    .dataframe thead th {\n",
       "        text-align: right;\n",
       "    }\n",
       "</style>\n",
       "<table border=\"1\" class=\"dataframe\">\n",
       "  <thead>\n",
       "    <tr style=\"text-align: right;\">\n",
       "      <th></th>\n",
       "      <th>pmid</th>\n",
       "      <th>journal_name</th>\n",
       "      <th>title</th>\n",
       "      <th>abstract</th>\n",
       "      <th>accepted_label</th>\n",
       "    </tr>\n",
       "  </thead>\n",
       "  <tbody>\n",
       "    <tr>\n",
       "      <th>0</th>\n",
       "      <td>37550718</td>\n",
       "      <td>Trials</td>\n",
       "      <td>Can dexamethasone improve postoperative sleep ...</td>\n",
       "      <td>Perioperative sleep disorders (PSD) are an ind...</td>\n",
       "      <td>[Human-RCT-drug-intervention]</td>\n",
       "    </tr>\n",
       "    <tr>\n",
       "      <th>1</th>\n",
       "      <td>2500373</td>\n",
       "      <td>Developmental medicine and child neurology</td>\n",
       "      <td>Effects of puberty on seizure frequency.</td>\n",
       "      <td>Seizure frequency was documented before, durin...</td>\n",
       "      <td>[Remaining]</td>\n",
       "    </tr>\n",
       "    <tr>\n",
       "      <th>2</th>\n",
       "      <td>36189588</td>\n",
       "      <td>Journal of Alzheimer's disease : JAD</td>\n",
       "      <td>Characterization of Mild Cognitive Impairment ...</td>\n",
       "      <td>Despite tremendous advancements in the field, ...</td>\n",
       "      <td>[Remaining]</td>\n",
       "    </tr>\n",
       "    <tr>\n",
       "      <th>3</th>\n",
       "      <td>36314672</td>\n",
       "      <td>Journal of vector ecology : journal of the Soc...</td>\n",
       "      <td>Effects of woody plant encroachment by eastern...</td>\n",
       "      <td>Woody plant encroachment into grasslands is oc...</td>\n",
       "      <td>[Remaining]</td>\n",
       "    </tr>\n",
       "    <tr>\n",
       "      <th>4</th>\n",
       "      <td>29172241</td>\n",
       "      <td>Depression and anxiety</td>\n",
       "      <td>The impact of resilience and subsequent stress...</td>\n",
       "      <td>There remains a dearth of research examining t...</td>\n",
       "      <td>[Remaining]</td>\n",
       "    </tr>\n",
       "  </tbody>\n",
       "</table>\n",
       "</div>"
      ],
      "text/plain": [
       "       pmid                                       journal_name  \\\n",
       "0  37550718                                             Trials   \n",
       "1   2500373         Developmental medicine and child neurology   \n",
       "2  36189588               Journal of Alzheimer's disease : JAD   \n",
       "3  36314672  Journal of vector ecology : journal of the Soc...   \n",
       "4  29172241                             Depression and anxiety   \n",
       "\n",
       "                                               title  \\\n",
       "0  Can dexamethasone improve postoperative sleep ...   \n",
       "1           Effects of puberty on seizure frequency.   \n",
       "2  Characterization of Mild Cognitive Impairment ...   \n",
       "3  Effects of woody plant encroachment by eastern...   \n",
       "4  The impact of resilience and subsequent stress...   \n",
       "\n",
       "                                            abstract  \\\n",
       "0  Perioperative sleep disorders (PSD) are an ind...   \n",
       "1  Seizure frequency was documented before, durin...   \n",
       "2  Despite tremendous advancements in the field, ...   \n",
       "3  Woody plant encroachment into grasslands is oc...   \n",
       "4  There remains a dearth of research examining t...   \n",
       "\n",
       "                  accepted_label  \n",
       "0  [Human-RCT-drug-intervention]  \n",
       "1                    [Remaining]  \n",
       "2                    [Remaining]  \n",
       "3                    [Remaining]  \n",
       "4                    [Remaining]  "
      ]
     },
     "execution_count": 8,
     "metadata": {},
     "output_type": "execute_result"
    }
   ],
   "source": [
    "df.head(5)"
   ]
  },
  {
   "cell_type": "markdown",
   "id": "e0725592-c308-4ec2-a4d3-a8bc89d11878",
   "metadata": {},
   "source": [
    "### Load key for the OpenAI API "
   ]
  },
  {
   "cell_type": "code",
   "execution_count": 9,
   "id": "5410c439-9e4e-4878-90c0-e8ca1d25c2ef",
   "metadata": {},
   "outputs": [],
   "source": [
    "def load_pass(file_path, key_to_find):\n",
    "    with open(file_path, 'r') as file:\n",
    "        for line in file:\n",
    "            parts = line.strip().split(\"=\")\n",
    "            if len(parts) == 2 and parts[0] == key_to_find:\n",
    "                found_password = parts[1]\n",
    "                break\n",
    "    if found_password:\n",
    "        print(\"Found password.\")\n",
    "        return found_password\n",
    "    else:\n",
    "        print(\"Password not found for key:\", key_to_find)"
   ]
  },
  {
   "cell_type": "markdown",
   "id": "7a5933e6-3cb4-4e37-aa85-51ea968919f8",
   "metadata": {},
   "source": [
    "Note: You need to create a credentials.txt file with the following content:  \n",
    "OPENAI=sk-77QXXXXXXXXXXXXXXXXXXXXXXXXXXX  \n",
    "replace the value after the = sign with your API key.  \n",
    "Make sure the credentials.txt is added to .gitignore, you don't want to put your password on Git!"
   ]
  },
  {
   "cell_type": "code",
   "execution_count": 10,
   "id": "7156eb84-1813-4ae3-8dbc-d4084f66afa3",
   "metadata": {},
   "outputs": [
    {
     "name": "stdout",
     "output_type": "stream",
     "text": [
      "Found password.\n"
     ]
    }
   ],
   "source": [
    "openai.api_key = load_pass(\"../credentials.txt\", \"OPENAI\")\n"
   ]
  },
  {
   "cell_type": "code",
   "execution_count": 11,
   "id": "0c11b84b-e9c2-44df-9c6c-ef084bf261f4",
   "metadata": {},
   "outputs": [],
   "source": [
    "client = OpenAI(api_key=openai.api_key)"
   ]
  },
  {
   "cell_type": "markdown",
   "id": "7e2ce32e-f9f1-4e92-8478-d4e89342cae2",
   "metadata": {},
   "source": [
    "# Test GPT Assistant tool"
   ]
  },
  {
   "cell_type": "code",
   "execution_count": 17,
   "id": "108659ac-aa04-4a0b-bab3-28ac96db6747",
   "metadata": {},
   "outputs": [
    {
     "name": "stdout",
     "output_type": "stream",
     "text": [
      "Annotate with GPT Assistant.ipynb  \u001b[34mpredictions\u001b[m\u001b[m/\n",
      "Annotate with GPT.ipynb            prompt_strategies.json\n",
      "\u001b[34mevaluations\u001b[m\u001b[m/\n"
     ]
    }
   ],
   "source": [
    "ls"
   ]
  },
  {
   "cell_type": "code",
   "execution_count": 29,
   "id": "f0208883-dba7-4097-8541-a8c9edc7dd01",
   "metadata": {},
   "outputs": [],
   "source": [
    "# Upload a file with an \"assistants\" purpose\n",
    "file = client.files.create(\n",
    "  file=open(\"../data/annotation_guidelines.pdf\", \"rb\"),\n",
    "  purpose='assistants'\n",
    ")\n",
    "\n",
    "# Add the file to the assistant\n",
    "assistant = client.beta.assistants.create(\n",
    "  instructions=\"You are classification support tool. Please review the contents of the uploaded file before answering.\",\n",
    "  model=\"gpt-3.5-turbo\",\n",
    "  tools=[{\"type\": \"retrieval\"}],\n",
    "  file_ids=[file.id]\n",
    ")"
   ]
  },
  {
   "cell_type": "code",
   "execution_count": 30,
   "id": "581ce444-9281-482c-9883-228e79ac2970",
   "metadata": {},
   "outputs": [
    {
     "data": {
      "text/plain": [
       "\"Perioperative sleep disorders (PSD) are an independent risk factor for postoperative delirium (POD), which is a common complication after surgery. Elderly patients who undergo robot-assisted radical prostatectomy (RARP) often experience perioperative sleep disorders (PSD). Dexamethasone, a medication that works by inhibiting the hypothalamic-pituitary-suprarenal cortical axis, can reduce the negative effects of surgical stress. The objective of this study was to determine whether intravenous administration of dexamethasone at the time of anesthesia induction could improve postoperative sleep quality in elderly patients, thereby indirectly reducing the risk of postoperative cognitive impairment and accelerating postoperative rehabilitation.\\tThis study is a randomized, double-blind, placebo-controlled trial that was conducted at a single center. A sample size of 116 patients was determined through calculation, and these patients were randomly assigned to either the dexamethasone group (group D, n\\u2009=\\u200958) or the blank control group (group C, n\\u2009=\\u200958). On the day of surgery, the anesthesia nurse prepared either diluted dexamethasone or saline in advance, according to the patient's assigned group. The blinded anesthesiologist administered the medication during induction, and a dedicated person followed up with the patient for three consecutive postoperative days. All other aspects of care were managed equally between the two groups. The primary outcome measure was sleep quality, while secondary outcome measures included postoperative sleep time, postoperative delirium (POD), pain scores, and other complications. Relevant test measures were recorded for analysis.\\tThis study aims to investigate the impact of intravenous dexamethasone on sleep quality and duration of patients undergoing robot-assisted radical prostatectomy (RARP). If the findings of this study protocol are affirmative, it could enhance the sleep quality of elderly patients after surgery, thereby minimizing the risk of postoperative delirium (POD), and providing substantial evidence for the perioperative enhanced recovery management of elderly patients.\\tChinese clinical trial registry: ChiCTR2200063488, Registered on 5 October 2022.\""
      ]
     },
     "execution_count": 30,
     "metadata": {},
     "output_type": "execute_result"
    }
   ],
   "source": [
    "df['abstract'][0]"
   ]
  },
  {
   "cell_type": "code",
   "execution_count": 31,
   "id": "546aadad-c872-4800-b8bc-a85fb4810fb2",
   "metadata": {},
   "outputs": [],
   "source": [
    "# Create a thread where the conversation will happen\n",
    "thread = client.beta.threads.create()\n"
   ]
  },
  {
   "cell_type": "code",
   "execution_count": 32,
   "id": "a102e1da-bc46-486d-8f92-2daa7584b87b",
   "metadata": {},
   "outputs": [],
   "source": [
    "user_request_prompt = (\n",
    "    \"Classify this text, choosing one of these labels: \"\n",
    "    \"Clinical-study-protocol, Human-systematic-review, Non-systematic-review, \"\n",
    "    \"Human-RCT-non-drug-intervention, Human-RCT-drug-intervention, Human-RCT-non-intervention, \"\n",
    "    \"Human-case-report, Human-non-RCT-non-drug-intervention, Human-non-RCT-drug-intervention, \"\n",
    "    \"Animal-systematic-review, Animal-drug-intervention, Animal-non-drug-intervention, \"\n",
    "    \"Animal-other, In-vitro-study, Remaining. \"\n",
    ")"
   ]
  },
  {
   "cell_type": "code",
   "execution_count": 33,
   "id": "4280adf1-d841-4284-bf70-871b3ac88e30",
   "metadata": {},
   "outputs": [],
   "source": [
    "message = client.beta.threads.messages.create(\n",
    "  thread_id=thread.id,\n",
    "  role=\"user\",\n",
    "  content=f\"{user_request_prompt} TEXT TO CLASSIFY: {df['abstract'][0]}.\",\n",
    "  file_ids=[file.id]\n",
    ")"
   ]
  },
  {
   "cell_type": "code",
   "execution_count": 34,
   "id": "8cc65093-14a5-4534-a71b-7d651e918037",
   "metadata": {},
   "outputs": [
    {
     "name": "stdout",
     "output_type": "stream",
     "text": [
      "Run status: in_progress\n",
      "Run status: in_progress\n",
      "Run status: in_progress\n",
      "Run status: in_progress\n",
      "Run status: in_progress\n",
      "Run status: in_progress\n",
      "Run status: in_progress\n",
      "Run status: in_progress\n",
      "Run status: in_progress\n",
      "Run status: in_progress\n",
      "Run status: in_progress\n",
      "Run status: in_progress\n",
      "Run status: in_progress\n",
      "Run status: in_progress\n",
      "Run status: in_progress\n",
      "Run status: completed\n",
      "\n",
      "\n",
      "###################################################### \n",
      "\n",
      "USER: Classify this text, choosing one of these labels: Clinical-study-protocol, Human-systematic-review, Non-systematic-review, Human-RCT-non-drug-intervention, Human-RCT-drug-intervention, Human-RCT-non-intervention, Human-case-report, Human-non-RCT-non-drug-intervention, Human-non-RCT-drug-intervention, Animal-systematic-review, Animal-drug-intervention, Animal-non-drug-intervention, Animal-other, In-vitro-study, Remaining.  TEXT TO CLASSIFY: Perioperative sleep disorders (PSD) are an independent risk factor for postoperative delirium (POD), which is a common complication after surgery. Elderly patients who undergo robot-assisted radical prostatectomy (RARP) often experience perioperative sleep disorders (PSD). Dexamethasone, a medication that works by inhibiting the hypothalamic-pituitary-suprarenal cortical axis, can reduce the negative effects of surgical stress. The objective of this study was to determine whether intravenous administration of dexamethasone at the time of anesthesia induction could improve postoperative sleep quality in elderly patients, thereby indirectly reducing the risk of postoperative cognitive impairment and accelerating postoperative rehabilitation.\tThis study is a randomized, double-blind, placebo-controlled trial that was conducted at a single center. A sample size of 116 patients was determined through calculation, and these patients were randomly assigned to either the dexamethasone group (group D, n = 58) or the blank control group (group C, n = 58). On the day of surgery, the anesthesia nurse prepared either diluted dexamethasone or saline in advance, according to the patient's assigned group. The blinded anesthesiologist administered the medication during induction, and a dedicated person followed up with the patient for three consecutive postoperative days. All other aspects of care were managed equally between the two groups. The primary outcome measure was sleep quality, while secondary outcome measures included postoperative sleep time, postoperative delirium (POD), pain scores, and other complications. Relevant test measures were recorded for analysis.\tThis study aims to investigate the impact of intravenous dexamethasone on sleep quality and duration of patients undergoing robot-assisted radical prostatectomy (RARP). If the findings of this study protocol are affirmative, it could enhance the sleep quality of elderly patients after surgery, thereby minimizing the risk of postoperative delirium (POD), and providing substantial evidence for the perioperative enhanced recovery management of elderly patients.\tChinese clinical trial registry: ChiCTR2200063488, Registered on 5 October 2022..\n",
      "ASSISTANT: The text provided seems to be a description of a clinical trial protocol aimed at investigating the impact of intravenous dexamethasone on sleep quality and duration in elderly patients undergoing robot-assisted radical prostatectomy (RARP). The study is designed as a randomized, double-blind, placebo-controlled trial conducted at a single center, with the objective of improving postoperative sleep quality in elderly patients to indirectly reduce the risk of postoperative cognitive impairment and accelerate postoperative rehabilitation.\n",
      "\n",
      "Based on the content of the text, the appropriate classification for this document would be **Human-RCT-drug-intervention**.\n"
     ]
    }
   ],
   "source": [
    "# Create the Run, passing in the thread and the assistant\n",
    "run = client.beta.threads.runs.create(\n",
    "  thread_id=thread.id,\n",
    "  assistant_id=assistant.id\n",
    ")\n",
    "\n",
    "# Periodically retrieve the Run to check status and see if it has completed\n",
    "# Should print \"in_progress\" several times before completing\n",
    "while run.status != \"completed\":\n",
    "    keep_retrieving_run = client.beta.threads.runs.retrieve(\n",
    "        thread_id=thread.id,\n",
    "        run_id=run.id\n",
    "    )\n",
    "    print(f\"Run status: {keep_retrieving_run.status}\")\n",
    "\n",
    "    if keep_retrieving_run.status == \"completed\":\n",
    "        print(\"\\n\")\n",
    "        break\n",
    "\n",
    "# Retrieve messages added by the Assistant to the thread\n",
    "all_messages = client.beta.threads.messages.list(\n",
    "    thread_id=thread.id\n",
    ")\n",
    "\n",
    "# Print the messages from the user and the assistant\n",
    "print(\"###################################################### \\n\")\n",
    "print(f\"USER: {message.content[0].text.value}\")\n",
    "print(f\"ASSISTANT: {all_messages.data[0].content[0].text.value}\")"
   ]
  },
  {
   "cell_type": "markdown",
   "id": "3ad13134-f6eb-491e-b59b-6a705e820619",
   "metadata": {},
   "source": [
    "### Query GPT models"
   ]
  },
  {
   "cell_type": "markdown",
   "id": "ebd02c0b-d4bc-4f23-aaf8-e125821e7c87",
   "metadata": {},
   "source": [
    "To change the task the model is solving, you need to change the text of the prompt and the content text of the system role.  \n",
    "To change the GPT model used, you need to change the text of the model name when initiating the openai API.  \n",
    "The function gets as input the input_raw_text, that will be text for information extraction or classification."
   ]
  },
  {
   "cell_type": "code",
   "execution_count": 12,
   "id": "3ea3f587-8b26-4b55-a423-cad38eb7bad1",
   "metadata": {},
   "outputs": [],
   "source": [
    "import time\n",
    "\n",
    "DEFAULT_TEMPERATURE = 0\n",
    "DEFAULT_MAX_TOKENS = 500\n",
    "DEFAULT_MODEL = \"gpt-3.5-turbo\"\n",
    "\n",
    "def query_gpt(input_raw_text, prompt_text, gpt_model=\"gpt-3.5-turbo\", temperature=0, max_retries=5, retry_delay=3):\n",
    "\n",
    "    # Add a delay at the beginning of the function to avoid overloading the API if there are multiple calls\n",
    "    # time.sleep(10)  \n",
    "\n",
    "    system_msg = f\"\"\"\n",
    "    You are an assistant that classifies PubMed abstracts. \n",
    "    \"\"\"\n",
    "\n",
    "    retries = 0\n",
    "    while retries < max_retries:\n",
    "        print(\"Trying to call OpenAI API...\")\n",
    "        try:\n",
    "            completion = client.chat.completions.create(\n",
    "                model=gpt_model,  # CHANGE this to the desired model name, see https://platform.openai.com/docs/models (gpt-3.5-turbo and gpt-4-turbo-preview)\n",
    "                response_format={\"type\": \"json_object\"},\n",
    "                temperature=temperature,\n",
    "                #max_tokens=2000,\n",
    "                messages=[\n",
    "                    {\"role\": \"system\", \"content\": system_msg},\n",
    "                    {\"role\": \"user\", \"content\": prompt_text + input_raw_text}\n",
    "                ]\n",
    "            )\n",
    "            return completion.choices[0].message.content\n",
    "        except Exception as e:\n",
    "            # Handle API error, e.g., retry or log\n",
    "            print(f\"OpenAI API returned an error: {e}\")\n",
    "            time.sleep(retry_delay)  # Wait before retrying\n",
    "            retries += 1\n",
    "\n",
    "    raise RuntimeError(\"Max retries reached. Unable to complete the API call.\")\n"
   ]
  },
  {
   "cell_type": "code",
   "execution_count": 13,
   "id": "7a71e4d0-1294-403a-9f88-79315921f2df",
   "metadata": {},
   "outputs": [
    {
     "data": {
      "text/plain": [
       "\"Perioperative sleep disorders (PSD) are an independent risk factor for postoperative delirium (POD), which is a common complication after surgery. Elderly patients who undergo robot-assisted radical prostatectomy (RARP) often experience perioperative sleep disorders (PSD). Dexamethasone, a medication that works by inhibiting the hypothalamic-pituitary-suprarenal cortical axis, can reduce the negative effects of surgical stress. The objective of this study was to determine whether intravenous administration of dexamethasone at the time of anesthesia induction could improve postoperative sleep quality in elderly patients, thereby indirectly reducing the risk of postoperative cognitive impairment and accelerating postoperative rehabilitation.\\tThis study is a randomized, double-blind, placebo-controlled trial that was conducted at a single center. A sample size of 116 patients was determined through calculation, and these patients were randomly assigned to either the dexamethasone group (group D, n\\u2009=\\u200958) or the blank control group (group C, n\\u2009=\\u200958). On the day of surgery, the anesthesia nurse prepared either diluted dexamethasone or saline in advance, according to the patient's assigned group. The blinded anesthesiologist administered the medication during induction, and a dedicated person followed up with the patient for three consecutive postoperative days. All other aspects of care were managed equally between the two groups. The primary outcome measure was sleep quality, while secondary outcome measures included postoperative sleep time, postoperative delirium (POD), pain scores, and other complications. Relevant test measures were recorded for analysis.\\tThis study aims to investigate the impact of intravenous dexamethasone on sleep quality and duration of patients undergoing robot-assisted radical prostatectomy (RARP). If the findings of this study protocol are affirmative, it could enhance the sleep quality of elderly patients after surgery, thereby minimizing the risk of postoperative delirium (POD), and providing substantial evidence for the perioperative enhanced recovery management of elderly patients.\\tChinese clinical trial registry: ChiCTR2200063488, Registered on 5 October 2022.\""
      ]
     },
     "execution_count": 13,
     "metadata": {},
     "output_type": "execute_result"
    }
   ],
   "source": [
    "df['abstract'][0]"
   ]
  },
  {
   "cell_type": "markdown",
   "id": "1db96c0d-eab9-4bed-a7aa-d5396f1b3cc3",
   "metadata": {},
   "source": [
    "## Single prompt example"
   ]
  },
  {
   "cell_type": "code",
   "execution_count": 14,
   "id": "491999ea-5200-4233-bafb-cce9972621d0",
   "metadata": {},
   "outputs": [],
   "source": [
    "prompt = (\n",
    "    \"Classify this text, choosing one of these labels: \"\n",
    "    \"Clinical-study-protocol, Human-systematic-review, Non-systematic-review, \"\n",
    "    \"Human-RCT-non-drug-intervention, Human-RCT-drug-intervention, Human-RCT-non-intervention, \"\n",
    "    \"Human-case-report, Human-non-RCT-non-drug-intervention, Human-non-RCT-drug-intervention, \"\n",
    "    \"Animal-systematic-review, Animal-drug-intervention, Animal-non-drug-intervention, \"\n",
    "    \"Animal-other, In-vitro-study, Remaining. \"\n",
    "    \"Respond in json format with the keys: gpt_label and gpt_explanation. \\\n",
    "    The value for gpt_explanation should be a very short explanation for why gpt chose the label.\"\n",
    ")"
   ]
  },
  {
   "cell_type": "code",
   "execution_count": 122,
   "id": "1b46f103-e12e-42e3-8b5c-5e19d6b5401c",
   "metadata": {},
   "outputs": [
    {
     "name": "stdout",
     "output_type": "stream",
     "text": [
      "Classify this text, choosing one of these labels: Clinical-study-protocol, Human-systematic-review, Non-systematic-review, Human-RCT-non-drug-intervention, Human-RCT-drug-intervention, Human-RCT-non-intervention, Human-case-report, Human-non-RCT-non-drug-intervention, Human-non-RCT-drug-intervention, Animal-systematic-review, Animal-drug-intervention, Animal-non-drug-intervention, Animal-other, In-vitro-study, Remaining. Respond in json format with the keys: gpt_label and gpt_explanation.     The value for gpt_explanation should be a very short explanation for why gpt chose the label.\n",
      "Perioperative sleep disorders (PSD) are an independent risk factor for postoperative delirium (POD), which is a common complication after surgery. Elderly patients who undergo robot-assisted radical prostatectomy (RARP) often experience perioperative sleep disorders (PSD). Dexamethasone, a medication that works by inhibiting the hypothalamic-pituitary-suprarenal cortical axis, can reduce the negative effects of surgical stress. The objective of this study was to determine whether intravenous administration of dexamethasone at the time of anesthesia induction could improve postoperative sleep quality in elderly patients, thereby indirectly reducing the risk of postoperative cognitive impairment and accelerating postoperative rehabilitation.\tThis study is a randomized, double-blind, placebo-controlled trial that was conducted at a single center. A sample size of 116 patients was determined through calculation, and these patients were randomly assigned to either the dexamethasone group (group D, n = 58) or the blank control group (group C, n = 58). On the day of surgery, the anesthesia nurse prepared either diluted dexamethasone or saline in advance, according to the patient's assigned group. The blinded anesthesiologist administered the medication during induction, and a dedicated person followed up with the patient for three consecutive postoperative days. All other aspects of care were managed equally between the two groups. The primary outcome measure was sleep quality, while secondary outcome measures included postoperative sleep time, postoperative delirium (POD), pain scores, and other complications. Relevant test measures were recorded for analysis.\tThis study aims to investigate the impact of intravenous dexamethasone on sleep quality and duration of patients undergoing robot-assisted radical prostatectomy (RARP). If the findings of this study protocol are affirmative, it could enhance the sleep quality of elderly patients after surgery, thereby minimizing the risk of postoperative delirium (POD), and providing substantial evidence for the perioperative enhanced recovery management of elderly patients.\tChinese clinical trial registry: ChiCTR2200063488, Registered on 5 October 2022.\n",
      "Trying to call OpenAI API...\n"
     ]
    },
    {
     "data": {
      "text/plain": [
       "'{\\n    \"gpt_label\": \"Human-RCT-drug-intervention\",\\n    \"gpt_explanation\": \"The text describes a randomized, double-blind, placebo-controlled trial investigating the impact of intravenous dexamethasone on sleep quality in elderly patients undergoing robot-assisted radical prostatectomy.\"\\n}'"
      ]
     },
     "execution_count": 122,
     "metadata": {},
     "output_type": "execute_result"
    }
   ],
   "source": [
    "example_input = df['abstract'][0]\n",
    "query_gpt(example_input, prompt)"
   ]
  },
  {
   "cell_type": "markdown",
   "id": "91630249-3734-4659-a003-613d2bfd137c",
   "metadata": {},
   "source": [
    "### Random data sample"
   ]
  },
  {
   "cell_type": "code",
   "execution_count": 107,
   "id": "31e07ac6-90c3-45e6-b7d9-2aee15890eb1",
   "metadata": {},
   "outputs": [],
   "source": [
    "# Sample 50 elements randomly in a reproducible way\n",
    "sampled_df = df.sample(n=10, random_state=1)"
   ]
  },
  {
   "cell_type": "code",
   "execution_count": 108,
   "id": "161bd375-9dbb-415f-a783-0b319402e9f0",
   "metadata": {},
   "outputs": [
    {
     "data": {
      "text/html": [
       "<div>\n",
       "<style scoped>\n",
       "    .dataframe tbody tr th:only-of-type {\n",
       "        vertical-align: middle;\n",
       "    }\n",
       "\n",
       "    .dataframe tbody tr th {\n",
       "        vertical-align: top;\n",
       "    }\n",
       "\n",
       "    .dataframe thead th {\n",
       "        text-align: right;\n",
       "    }\n",
       "</style>\n",
       "<table border=\"1\" class=\"dataframe\">\n",
       "  <thead>\n",
       "    <tr style=\"text-align: right;\">\n",
       "      <th></th>\n",
       "      <th>pmid</th>\n",
       "      <th>journal_name</th>\n",
       "      <th>title</th>\n",
       "      <th>abstract</th>\n",
       "      <th>accepted_label</th>\n",
       "    </tr>\n",
       "  </thead>\n",
       "  <tbody>\n",
       "    <tr>\n",
       "      <th>304</th>\n",
       "      <td>12905582</td>\n",
       "      <td>Fa yi xue za zhi</td>\n",
       "      <td>[The research of the heroin and its metabolite...</td>\n",
       "      <td>Heroin can be metabolized easily in body and t...</td>\n",
       "      <td>[Remaining]</td>\n",
       "    </tr>\n",
       "    <tr>\n",
       "      <th>340</th>\n",
       "      <td>28645717</td>\n",
       "      <td>Vaccine</td>\n",
       "      <td>Surveillance of pneumococcal colonization and ...</td>\n",
       "      <td>Following the introduction of pneumococcal con...</td>\n",
       "      <td>[Human-non-RCT-drug-intervention]</td>\n",
       "    </tr>\n",
       "    <tr>\n",
       "      <th>47</th>\n",
       "      <td>11482695</td>\n",
       "      <td>Acta neurochirurgica</td>\n",
       "      <td>Carotid endarterectomy: a new technique replac...</td>\n",
       "      <td>Carotid endarterectomy has been reported to in...</td>\n",
       "      <td>[Human-non-RCT-non-drug-intervention]</td>\n",
       "    </tr>\n",
       "    <tr>\n",
       "      <th>67</th>\n",
       "      <td>15065953</td>\n",
       "      <td>Journal of consulting and clinical psychology</td>\n",
       "      <td>Traditional versus integrative behavioral coup...</td>\n",
       "      <td>A randomized clinical trial compared the effec...</td>\n",
       "      <td>[Human-RCT-non-drug-intervention]</td>\n",
       "    </tr>\n",
       "    <tr>\n",
       "      <th>479</th>\n",
       "      <td>9578881</td>\n",
       "      <td>The Journal of laryngology and otology</td>\n",
       "      <td>Vocal fold abductor paralysis as a solitary an...</td>\n",
       "      <td>A patient is presented who had bilateral abduc...</td>\n",
       "      <td>[Remaining]</td>\n",
       "    </tr>\n",
       "  </tbody>\n",
       "</table>\n",
       "</div>"
      ],
      "text/plain": [
       "         pmid                                   journal_name  \\\n",
       "304  12905582                               Fa yi xue za zhi   \n",
       "340  28645717                                        Vaccine   \n",
       "47   11482695                           Acta neurochirurgica   \n",
       "67   15065953  Journal of consulting and clinical psychology   \n",
       "479   9578881         The Journal of laryngology and otology   \n",
       "\n",
       "                                                 title  \\\n",
       "304  [The research of the heroin and its metabolite...   \n",
       "340  Surveillance of pneumococcal colonization and ...   \n",
       "47   Carotid endarterectomy: a new technique replac...   \n",
       "67   Traditional versus integrative behavioral coup...   \n",
       "479  Vocal fold abductor paralysis as a solitary an...   \n",
       "\n",
       "                                              abstract  \\\n",
       "304  Heroin can be metabolized easily in body and t...   \n",
       "340  Following the introduction of pneumococcal con...   \n",
       "47   Carotid endarterectomy has been reported to in...   \n",
       "67   A randomized clinical trial compared the effec...   \n",
       "479  A patient is presented who had bilateral abduc...   \n",
       "\n",
       "                            accepted_label  \n",
       "304                            [Remaining]  \n",
       "340      [Human-non-RCT-drug-intervention]  \n",
       "47   [Human-non-RCT-non-drug-intervention]  \n",
       "67       [Human-RCT-non-drug-intervention]  \n",
       "479                            [Remaining]  "
      ]
     },
     "execution_count": 108,
     "metadata": {},
     "output_type": "execute_result"
    }
   ],
   "source": [
    "sampled_df.head()"
   ]
  },
  {
   "cell_type": "code",
   "execution_count": 93,
   "id": "00585cd3-6bb4-431a-805e-1a095a95642d",
   "metadata": {},
   "outputs": [
    {
     "data": {
      "image/png": "[encoded data removed]",
      "text/plain": [
       "<Figure size 640x480 with 1 Axes>"
      ]
     },
     "metadata": {},
     "output_type": "display_data"
    }
   ],
   "source": [
    "# Explode the 'accepted_label' column to have each label as a separate row\n",
    "df_exploded = sampled_df.explode('accepted_label')\n",
    "\n",
    "# Count the occurrences of each label\n",
    "label_counts = sampled_df['accepted_label'].value_counts()\n",
    "\n",
    "# Plot the distribution\n",
    "label_counts.plot(kind='barh')\n",
    "plt.title('Distribution of Accepted Labels')\n",
    "plt.xlabel('Accepted Label')\n",
    "plt.ylabel('Frequency')\n",
    "plt.xticks(rotation=45)\n",
    "plt.show()"
   ]
  },
  {
   "cell_type": "code",
   "execution_count": 142,
   "id": "f085dda8-96aa-4735-8f08-cfc2e096cedb",
   "metadata": {},
   "outputs": [],
   "source": [
    "# Define a function to apply GPT queries with a progress bar\n",
    "def apply_gpt_with_progress(data_series, prompt_text, model=\"gpt-3.5-turbo\"):\n",
    "    results = []\n",
    "    total_items = len(data_series)\n",
    "    # Create a tqdm progress bar\n",
    "    with tqdm(total=total_items, desc=f\"Processing dataset\") as pbar:\n",
    "        for text in data_series:\n",
    "            result = query_gpt(text, prompt_text, model)\n",
    "            results.append(result)\n",
    "            pbar.update(1)  # Update the progress bar\n",
    "\n",
    "    return results"
   ]
  },
  {
   "cell_type": "markdown",
   "id": "117065d5-def1-4b51-ba20-5d64ca9265d7",
   "metadata": {},
   "source": [
    "### Run GPT"
   ]
  },
  {
   "cell_type": "code",
   "execution_count": null,
   "id": "efb13710-91c1-4f39-b8ef-cc4e1cfddeba",
   "metadata": {},
   "outputs": [],
   "source": [
    "sampled_df['gpt_predictions'] = apply_gpt_with_progress(sampled_df['abstract'], prompt)"
   ]
  },
  {
   "cell_type": "code",
   "execution_count": 100,
   "id": "91a5ebc3-780f-4fd3-bbff-90690d3c3e7d",
   "metadata": {},
   "outputs": [],
   "source": [
    "labels = [\"Human-systematic-review\", \"Human-RCT-drug-intervention\", \"Human-RCT-non-drug-intervention\", \"Human-RCT-non-intervention\", \"Human-case-report\", \"Human-non-RCT-drug-intervention\", \"Human-non-RCT-non-drug-intervention\", \"Animal-systematic-review\", \"Animal-drug-intervention\", \"Animal-non-drug-intervention\", \"Animal-other\", \"Non-systematic-review\", \"In-vitro-study\", \"Clinical-study-protocol\", \"Remaining\"]\n",
    "\n",
    "label_to_numerical = {label: i for i, label in enumerate(labels)}\n",
    "label_to_numerical[\"label missing\"] = -1"
   ]
  },
  {
   "cell_type": "code",
   "execution_count": 101,
   "id": "b06a7462-9acf-4018-a02b-b4b3e9261e69",
   "metadata": {},
   "outputs": [
    {
     "data": {
      "text/plain": [
       "{'Human-systematic-review': 0,\n",
       " 'Human-RCT-drug-intervention': 1,\n",
       " 'Human-RCT-non-drug-intervention': 2,\n",
       " 'Human-RCT-non-intervention': 3,\n",
       " 'Human-case-report': 4,\n",
       " 'Human-non-RCT-drug-intervention': 5,\n",
       " 'Human-non-RCT-non-drug-intervention': 6,\n",
       " 'Animal-systematic-review': 7,\n",
       " 'Animal-drug-intervention': 8,\n",
       " 'Animal-non-drug-intervention': 9,\n",
       " 'Animal-other': 10,\n",
       " 'Non-systematic-review': 11,\n",
       " 'In-vitro-study': 12,\n",
       " 'Clinical-study-protocol': 13,\n",
       " 'Remaining': 14,\n",
       " 'label missing': -1}"
      ]
     },
     "execution_count": 101,
     "metadata": {},
     "output_type": "execute_result"
    }
   ],
   "source": [
    "label_to_numerical"
   ]
  },
  {
   "cell_type": "code",
   "execution_count": 103,
   "id": "56f1b14b-d788-481a-9f0e-3eeb51ea74f3",
   "metadata": {},
   "outputs": [
    {
     "data": {
      "text/html": [
       "<div>\n",
       "<style scoped>\n",
       "    .dataframe tbody tr th:only-of-type {\n",
       "        vertical-align: middle;\n",
       "    }\n",
       "\n",
       "    .dataframe tbody tr th {\n",
       "        vertical-align: top;\n",
       "    }\n",
       "\n",
       "    .dataframe thead th {\n",
       "        text-align: right;\n",
       "    }\n",
       "</style>\n",
       "<table border=\"1\" class=\"dataframe\">\n",
       "  <thead>\n",
       "    <tr style=\"text-align: right;\">\n",
       "      <th></th>\n",
       "      <th>pmid</th>\n",
       "      <th>journal_name</th>\n",
       "      <th>title</th>\n",
       "      <th>abstract</th>\n",
       "      <th>accepted_label</th>\n",
       "      <th>gpt_predictions</th>\n",
       "      <th>gpt_label</th>\n",
       "    </tr>\n",
       "  </thead>\n",
       "  <tbody>\n",
       "    <tr>\n",
       "      <th>304</th>\n",
       "      <td>12905582</td>\n",
       "      <td>Fa yi xue za zhi</td>\n",
       "      <td>[The research of the heroin and its metabolite...</td>\n",
       "      <td>Heroin can be metabolized easily in body and t...</td>\n",
       "      <td>Remaining</td>\n",
       "      <td>{\\n    \"gpt_label\": \"Human-case-report\",\\n    ...</td>\n",
       "      <td>Human-case-report</td>\n",
       "    </tr>\n",
       "    <tr>\n",
       "      <th>340</th>\n",
       "      <td>28645717</td>\n",
       "      <td>Vaccine</td>\n",
       "      <td>Surveillance of pneumococcal colonization and ...</td>\n",
       "      <td>Following the introduction of pneumococcal con...</td>\n",
       "      <td>Human-non-RCT-drug-intervention</td>\n",
       "      <td>{\\n    \"gpt_label\": \"Human-systematic-review\",...</td>\n",
       "      <td>Human-systematic-review</td>\n",
       "    </tr>\n",
       "    <tr>\n",
       "      <th>47</th>\n",
       "      <td>11482695</td>\n",
       "      <td>Acta neurochirurgica</td>\n",
       "      <td>Carotid endarterectomy: a new technique replac...</td>\n",
       "      <td>Carotid endarterectomy has been reported to in...</td>\n",
       "      <td>Human-non-RCT-non-drug-intervention</td>\n",
       "      <td>{\\n    \"gpt_label\": \"Human-case-report\",\\n    ...</td>\n",
       "      <td>Human-case-report</td>\n",
       "    </tr>\n",
       "  </tbody>\n",
       "</table>\n",
       "</div>"
      ],
      "text/plain": [
       "         pmid          journal_name  \\\n",
       "304  12905582      Fa yi xue za zhi   \n",
       "340  28645717               Vaccine   \n",
       "47   11482695  Acta neurochirurgica   \n",
       "\n",
       "                                                 title  \\\n",
       "304  [The research of the heroin and its metabolite...   \n",
       "340  Surveillance of pneumococcal colonization and ...   \n",
       "47   Carotid endarterectomy: a new technique replac...   \n",
       "\n",
       "                                              abstract  \\\n",
       "304  Heroin can be metabolized easily in body and t...   \n",
       "340  Following the introduction of pneumococcal con...   \n",
       "47   Carotid endarterectomy has been reported to in...   \n",
       "\n",
       "                          accepted_label  \\\n",
       "304                            Remaining   \n",
       "340      Human-non-RCT-drug-intervention   \n",
       "47   Human-non-RCT-non-drug-intervention   \n",
       "\n",
       "                                       gpt_predictions  \\\n",
       "304  {\\n    \"gpt_label\": \"Human-case-report\",\\n    ...   \n",
       "340  {\\n    \"gpt_label\": \"Human-systematic-review\",...   \n",
       "47   {\\n    \"gpt_label\": \"Human-case-report\",\\n    ...   \n",
       "\n",
       "                   gpt_label  \n",
       "304        Human-case-report  \n",
       "340  Human-systematic-review  \n",
       "47         Human-case-report  "
      ]
     },
     "execution_count": 103,
     "metadata": {},
     "output_type": "execute_result"
    }
   ],
   "source": [
    "df_exploded = sampled_df.explode('accepted_label')\n",
    "df_exploded['gpt_label'] = df_exploded['gpt_predictions'].apply(lambda x: json.loads(x)['gpt_label'])\n",
    "\n",
    "df_exploded.head(3)"
   ]
  },
  {
   "cell_type": "markdown",
   "id": "ddfd6deb-f323-4f98-99b9-adee3c670b51",
   "metadata": {},
   "source": [
    "### Evaluate performance"
   ]
  },
  {
   "cell_type": "code",
   "execution_count": 58,
   "id": "9d537053-f45e-40f1-8fbe-565bd4b8a3ca",
   "metadata": {},
   "outputs": [],
   "source": [
    "from sklearn.metrics import accuracy_score, classification_report\n",
    "from sklearn.metrics import balanced_accuracy_score\n"
   ]
  },
  {
   "cell_type": "code",
   "execution_count": 59,
   "id": "f7290947-87db-42d5-b30b-81612333f5f2",
   "metadata": {},
   "outputs": [],
   "source": [
    "# Adjust mapping to return -1 for labels not found in the map\n",
    "df_exploded['accepted_label_numerical'] = df_exploded['accepted_label'].apply(lambda x: label_to_numerical.get(x, -1))\n",
    "df_exploded['gpt_predictions_numerical'] = df_exploded['gpt_predictions'].apply(lambda x: label_to_numerical.get(x, -1))"
   ]
  },
  {
   "cell_type": "code",
   "execution_count": 60,
   "id": "7ce2f01c-d1f5-4739-9060-2457af6a44f9",
   "metadata": {},
   "outputs": [
    {
     "data": {
      "text/plain": [
       "15"
      ]
     },
     "execution_count": 60,
     "metadata": {},
     "output_type": "execute_result"
    }
   ],
   "source": [
    "len(labels)"
   ]
  },
  {
   "cell_type": "code",
   "execution_count": 61,
   "id": "de7f2e34-1b27-4a10-b54f-ab43a73ad564",
   "metadata": {},
   "outputs": [
    {
     "name": "stderr",
     "output_type": "stream",
     "text": [
      "/Users/donevas/Library/Caches/pypoetry/virtualenvs/pubmed-abstract-classifier-wiYN7Q0G-py3.9/lib/python3.9/site-packages/sklearn/metrics/_classification.py:2458: UserWarning: y_pred contains classes not in y_true\n",
      "  warnings.warn(\"y_pred contains classes not in y_true\")\n"
     ]
    },
    {
     "data": {
      "text/plain": [
       "(0.2, 0.37575757575757573)"
      ]
     },
     "execution_count": 61,
     "metadata": {},
     "output_type": "execute_result"
    }
   ],
   "source": [
    "# Extract arrays for evaluation\n",
    "y_true = df_exploded['accepted_label_numerical'].values\n",
    "y_pred = df_exploded['gpt_predictions_numerical'].values\n",
    "\n",
    "# Evaluation\n",
    "accuracy = accuracy_score(y_true, y_pred)\n",
    "#report = classification_report(y_true, y_pred,output_dict=True, zero_division=0)\n",
    "accuracy_balanced = balanced_accuracy_score(y_true, y_pred)\n",
    "\n",
    "# Adjusting the classification report to only include relevant labels\n",
    "unique_labels = sorted(set(y_true) | set(y_pred))\n",
    "target_names_adjusted = [labels[i] for i in unique_labels]\n",
    "\n",
    "# Recalculate classification report with adjusted target names\n",
    "report_adjusted = classification_report(y_true, y_pred, output_dict=True, labels=unique_labels, target_names=target_names_adjusted, zero_division=0)\n",
    "\n",
    "accuracy, accuracy_balanced # Note: proportion of correctly predicted observations to the total observations. It's most useful when the classes are balanced but can be misleading when dealing with imbalanced classes."
   ]
  },
  {
   "cell_type": "code",
   "execution_count": 63,
   "id": "897044af-35fb-4d02-8753-52987685166d",
   "metadata": {},
   "outputs": [
    {
     "data": {
      "text/html": [
       "<div>\n",
       "<style scoped>\n",
       "    .dataframe tbody tr th:only-of-type {\n",
       "        vertical-align: middle;\n",
       "    }\n",
       "\n",
       "    .dataframe tbody tr th {\n",
       "        vertical-align: top;\n",
       "    }\n",
       "\n",
       "    .dataframe thead th {\n",
       "        text-align: right;\n",
       "    }\n",
       "</style>\n",
       "<table border=\"1\" class=\"dataframe\">\n",
       "  <thead>\n",
       "    <tr style=\"text-align: right;\">\n",
       "      <th></th>\n",
       "      <th>precision</th>\n",
       "      <th>recall</th>\n",
       "      <th>f1-score</th>\n",
       "      <th>support</th>\n",
       "    </tr>\n",
       "  </thead>\n",
       "  <tbody>\n",
       "    <tr>\n",
       "      <th>Remaining</th>\n",
       "      <td>0.000000</td>\n",
       "      <td>0.000000</td>\n",
       "      <td>0.000000</td>\n",
       "      <td>21.0</td>\n",
       "    </tr>\n",
       "    <tr>\n",
       "      <th>Human-systematic-review</th>\n",
       "      <td>0.333333</td>\n",
       "      <td>1.000000</td>\n",
       "      <td>0.500000</td>\n",
       "      <td>2.0</td>\n",
       "    </tr>\n",
       "    <tr>\n",
       "      <th>Human-RCT-drug-intervention</th>\n",
       "      <td>0.500000</td>\n",
       "      <td>1.000000</td>\n",
       "      <td>0.666667</td>\n",
       "      <td>1.0</td>\n",
       "    </tr>\n",
       "    <tr>\n",
       "      <th>Human-RCT-non-drug-intervention</th>\n",
       "      <td>0.500000</td>\n",
       "      <td>0.333333</td>\n",
       "      <td>0.400000</td>\n",
       "      <td>3.0</td>\n",
       "    </tr>\n",
       "    <tr>\n",
       "      <th>Human-case-report</th>\n",
       "      <td>0.166667</td>\n",
       "      <td>0.500000</td>\n",
       "      <td>0.250000</td>\n",
       "      <td>2.0</td>\n",
       "    </tr>\n",
       "    <tr>\n",
       "      <th>Human-non-RCT-drug-intervention</th>\n",
       "      <td>0.000000</td>\n",
       "      <td>0.000000</td>\n",
       "      <td>0.000000</td>\n",
       "      <td>1.0</td>\n",
       "    </tr>\n",
       "    <tr>\n",
       "      <th>Human-non-RCT-non-drug-intervention</th>\n",
       "      <td>0.166667</td>\n",
       "      <td>0.200000</td>\n",
       "      <td>0.181818</td>\n",
       "      <td>5.0</td>\n",
       "    </tr>\n",
       "    <tr>\n",
       "      <th>Animal-drug-intervention</th>\n",
       "      <td>0.750000</td>\n",
       "      <td>0.600000</td>\n",
       "      <td>0.666667</td>\n",
       "      <td>5.0</td>\n",
       "    </tr>\n",
       "    <tr>\n",
       "      <th>Animal-non-drug-intervention</th>\n",
       "      <td>1.000000</td>\n",
       "      <td>0.500000</td>\n",
       "      <td>0.666667</td>\n",
       "      <td>2.0</td>\n",
       "    </tr>\n",
       "    <tr>\n",
       "      <th>Non-systematic-review</th>\n",
       "      <td>0.000000</td>\n",
       "      <td>0.000000</td>\n",
       "      <td>0.000000</td>\n",
       "      <td>6.0</td>\n",
       "    </tr>\n",
       "    <tr>\n",
       "      <th>In-vitro-study</th>\n",
       "      <td>0.000000</td>\n",
       "      <td>0.000000</td>\n",
       "      <td>0.000000</td>\n",
       "      <td>2.0</td>\n",
       "    </tr>\n",
       "    <tr>\n",
       "      <th>accuracy</th>\n",
       "      <td>0.200000</td>\n",
       "      <td>0.200000</td>\n",
       "      <td>0.200000</td>\n",
       "      <td>0.2</td>\n",
       "    </tr>\n",
       "    <tr>\n",
       "      <th>macro avg</th>\n",
       "      <td>0.284722</td>\n",
       "      <td>0.344444</td>\n",
       "      <td>0.277652</td>\n",
       "      <td>50.0</td>\n",
       "    </tr>\n",
       "    <tr>\n",
       "      <th>weighted avg</th>\n",
       "      <td>0.191667</td>\n",
       "      <td>0.200000</td>\n",
       "      <td>0.178848</td>\n",
       "      <td>50.0</td>\n",
       "    </tr>\n",
       "  </tbody>\n",
       "</table>\n",
       "</div>"
      ],
      "text/plain": [
       "                                     precision    recall  f1-score  support\n",
       "Remaining                             0.000000  0.000000  0.000000     21.0\n",
       "Human-systematic-review               0.333333  1.000000  0.500000      2.0\n",
       "Human-RCT-drug-intervention           0.500000  1.000000  0.666667      1.0\n",
       "Human-RCT-non-drug-intervention       0.500000  0.333333  0.400000      3.0\n",
       "Human-case-report                     0.166667  0.500000  0.250000      2.0\n",
       "Human-non-RCT-drug-intervention       0.000000  0.000000  0.000000      1.0\n",
       "Human-non-RCT-non-drug-intervention   0.166667  0.200000  0.181818      5.0\n",
       "Animal-drug-intervention              0.750000  0.600000  0.666667      5.0\n",
       "Animal-non-drug-intervention          1.000000  0.500000  0.666667      2.0\n",
       "Non-systematic-review                 0.000000  0.000000  0.000000      6.0\n",
       "In-vitro-study                        0.000000  0.000000  0.000000      2.0\n",
       "accuracy                              0.200000  0.200000  0.200000      0.2\n",
       "macro avg                             0.284722  0.344444  0.277652     50.0\n",
       "weighted avg                          0.191667  0.200000  0.178848     50.0"
      ]
     },
     "execution_count": 63,
     "metadata": {},
     "output_type": "execute_result"
    }
   ],
   "source": [
    "# Convert the report to a DataFrame for visualization\n",
    "report_df = pd.DataFrame(report_adjusted).transpose()\n",
    "\n",
    "report_df"
   ]
  },
  {
   "cell_type": "code",
   "execution_count": 64,
   "id": "0771ef2e-f92f-4d6f-9d66-098e0f17f613",
   "metadata": {},
   "outputs": [
    {
     "data": {
      "text/plain": [
       "{'Remaining': {'precision': 0.0,\n",
       "  'recall': 0.0,\n",
       "  'f1-score': 0.0,\n",
       "  'support': 21.0},\n",
       " 'Human-systematic-review': {'precision': 0.3333333333333333,\n",
       "  'recall': 1.0,\n",
       "  'f1-score': 0.5,\n",
       "  'support': 2.0},\n",
       " 'Human-RCT-drug-intervention': {'precision': 0.5,\n",
       "  'recall': 1.0,\n",
       "  'f1-score': 0.6666666666666666,\n",
       "  'support': 1.0},\n",
       " 'Human-RCT-non-drug-intervention': {'precision': 0.5,\n",
       "  'recall': 0.3333333333333333,\n",
       "  'f1-score': 0.4,\n",
       "  'support': 3.0},\n",
       " 'Human-case-report': {'precision': 0.16666666666666666,\n",
       "  'recall': 0.5,\n",
       "  'f1-score': 0.25,\n",
       "  'support': 2.0},\n",
       " 'Human-non-RCT-drug-intervention': {'precision': 0.0,\n",
       "  'recall': 0.0,\n",
       "  'f1-score': 0.0,\n",
       "  'support': 1.0},\n",
       " 'Human-non-RCT-non-drug-intervention': {'precision': 0.16666666666666666,\n",
       "  'recall': 0.2,\n",
       "  'f1-score': 0.18181818181818182,\n",
       "  'support': 5.0},\n",
       " 'Animal-drug-intervention': {'precision': 0.75,\n",
       "  'recall': 0.6,\n",
       "  'f1-score': 0.6666666666666666,\n",
       "  'support': 5.0},\n",
       " 'Animal-non-drug-intervention': {'precision': 1.0,\n",
       "  'recall': 0.5,\n",
       "  'f1-score': 0.6666666666666666,\n",
       "  'support': 2.0},\n",
       " 'Non-systematic-review': {'precision': 0.0,\n",
       "  'recall': 0.0,\n",
       "  'f1-score': 0.0,\n",
       "  'support': 6.0},\n",
       " 'In-vitro-study': {'precision': 0.0,\n",
       "  'recall': 0.0,\n",
       "  'f1-score': 0.0,\n",
       "  'support': 2.0},\n",
       " 'accuracy': 0.2,\n",
       " 'macro avg': {'precision': 0.2847222222222222,\n",
       "  'recall': 0.3444444444444444,\n",
       "  'f1-score': 0.27765151515151515,\n",
       "  'support': 50.0},\n",
       " 'weighted avg': {'precision': 0.19166666666666665,\n",
       "  'recall': 0.2,\n",
       "  'f1-score': 0.17884848484848487,\n",
       "  'support': 50.0}}"
      ]
     },
     "execution_count": 64,
     "metadata": {},
     "output_type": "execute_result"
    }
   ],
   "source": [
    "# note: The support is the number of occurrences of each class in y_true.\n",
    "report_adjusted"
   ]
  },
  {
   "cell_type": "markdown",
   "id": "22120aed-0d00-4677-b0d8-0838e26bc2a2",
   "metadata": {},
   "source": [
    "# Read prompts from file and query GPT"
   ]
  },
  {
   "cell_type": "code",
   "execution_count": 156,
   "id": "b15b1a3e-4a26-4939-b804-86b3a6e54197",
   "metadata": {},
   "outputs": [],
   "source": [
    "json_file_path = \"./prompt_strategies.json\"\n",
    "# Load the JSON file\n",
    "with open(json_file_path, 'r') as file:\n",
    "    prompts_data = json.load(file)"
   ]
  },
  {
   "cell_type": "code",
   "execution_count": 157,
   "id": "b4993ff4-c59f-4150-a977-e2990a111cf5",
   "metadata": {},
   "outputs": [
    {
     "data": {
      "text/html": [
       "<div>\n",
       "<style scoped>\n",
       "    .dataframe tbody tr th:only-of-type {\n",
       "        vertical-align: middle;\n",
       "    }\n",
       "\n",
       "    .dataframe tbody tr th {\n",
       "        vertical-align: top;\n",
       "    }\n",
       "\n",
       "    .dataframe thead th {\n",
       "        text-align: right;\n",
       "    }\n",
       "</style>\n",
       "<table border=\"1\" class=\"dataframe\">\n",
       "  <thead>\n",
       "    <tr style=\"text-align: right;\">\n",
       "      <th></th>\n",
       "      <th>pmid</th>\n",
       "      <th>journal_name</th>\n",
       "      <th>title</th>\n",
       "      <th>abstract</th>\n",
       "      <th>accepted_label</th>\n",
       "    </tr>\n",
       "  </thead>\n",
       "  <tbody>\n",
       "    <tr>\n",
       "      <th>304</th>\n",
       "      <td>12905582</td>\n",
       "      <td>Fa yi xue za zhi</td>\n",
       "      <td>[The research of the heroin and its metabolite...</td>\n",
       "      <td>Heroin can be metabolized easily in body and t...</td>\n",
       "      <td>Remaining</td>\n",
       "    </tr>\n",
       "    <tr>\n",
       "      <th>340</th>\n",
       "      <td>28645717</td>\n",
       "      <td>Vaccine</td>\n",
       "      <td>Surveillance of pneumococcal colonization and ...</td>\n",
       "      <td>Following the introduction of pneumococcal con...</td>\n",
       "      <td>Human-non-RCT-drug-intervention</td>\n",
       "    </tr>\n",
       "    <tr>\n",
       "      <th>47</th>\n",
       "      <td>11482695</td>\n",
       "      <td>Acta neurochirurgica</td>\n",
       "      <td>Carotid endarterectomy: a new technique replac...</td>\n",
       "      <td>Carotid endarterectomy has been reported to in...</td>\n",
       "      <td>Human-non-RCT-non-drug-intervention</td>\n",
       "    </tr>\n",
       "    <tr>\n",
       "      <th>67</th>\n",
       "      <td>15065953</td>\n",
       "      <td>Journal of consulting and clinical psychology</td>\n",
       "      <td>Traditional versus integrative behavioral coup...</td>\n",
       "      <td>A randomized clinical trial compared the effec...</td>\n",
       "      <td>Human-RCT-non-drug-intervention</td>\n",
       "    </tr>\n",
       "    <tr>\n",
       "      <th>479</th>\n",
       "      <td>9578881</td>\n",
       "      <td>The Journal of laryngology and otology</td>\n",
       "      <td>Vocal fold abductor paralysis as a solitary an...</td>\n",
       "      <td>A patient is presented who had bilateral abduc...</td>\n",
       "      <td>Remaining</td>\n",
       "    </tr>\n",
       "    <tr>\n",
       "      <th>485</th>\n",
       "      <td>2115207</td>\n",
       "      <td>Scandinavian journal of infectious diseases. S...</td>\n",
       "      <td>Childhood acute bacterial meningitis in the Su...</td>\n",
       "      <td>The aims of the present study were to document...</td>\n",
       "      <td>Remaining</td>\n",
       "    </tr>\n",
       "    <tr>\n",
       "      <th>310</th>\n",
       "      <td>2946351</td>\n",
       "      <td>The British journal of psychiatry : the journa...</td>\n",
       "      <td>Psychiatric disorders in mildly and severely m...</td>\n",
       "      <td>A total of 149 children aged 13-17 years were ...</td>\n",
       "      <td>Remaining</td>\n",
       "    </tr>\n",
       "    <tr>\n",
       "      <th>31</th>\n",
       "      <td>12045804</td>\n",
       "      <td>Revista de saude publica</td>\n",
       "      <td>Assessment of a consultation-liaison psychiatr...</td>\n",
       "      <td>To investigate the relevance of subjective cri...</td>\n",
       "      <td>Remaining</td>\n",
       "    </tr>\n",
       "    <tr>\n",
       "      <th>249</th>\n",
       "      <td>18084303</td>\n",
       "      <td>Nature structural &amp; molecular biology</td>\n",
       "      <td>Structural basis for synaptic adhesion mediate...</td>\n",
       "      <td>The heterophilic synaptic adhesion molecules n...</td>\n",
       "      <td>Animal-other</td>\n",
       "    </tr>\n",
       "    <tr>\n",
       "      <th>90</th>\n",
       "      <td>16332401</td>\n",
       "      <td>Neurobiology of aging</td>\n",
       "      <td>Increased cholesterol in Abeta-positive nerve ...</td>\n",
       "      <td>Synapse loss in Alzheimer's disease (AD) is po...</td>\n",
       "      <td>Remaining</td>\n",
       "    </tr>\n",
       "    <tr>\n",
       "      <th>322</th>\n",
       "      <td>32594193</td>\n",
       "      <td>Experimental brain research</td>\n",
       "      <td>Dopamine boosts intention and action awareness...</td>\n",
       "      <td>Dopaminergic deficiency in Parkinson's disease...</td>\n",
       "      <td>Remaining</td>\n",
       "    </tr>\n",
       "    <tr>\n",
       "      <th>168</th>\n",
       "      <td>11214683</td>\n",
       "      <td>Pediatric radiology</td>\n",
       "      <td>Asymptomatic intraventricular lipid leak from ...</td>\n",
       "      <td>We present a case of pineal teratoma in a symp...</td>\n",
       "      <td>Human-case-report</td>\n",
       "    </tr>\n",
       "    <tr>\n",
       "      <th>119</th>\n",
       "      <td>23594430</td>\n",
       "      <td>Neurological research</td>\n",
       "      <td>Effects of comprehensive education protocol in...</td>\n",
       "      <td>Studies have shown that awareness of early str...</td>\n",
       "      <td>Remaining</td>\n",
       "    </tr>\n",
       "    <tr>\n",
       "      <th>66</th>\n",
       "      <td>23037610</td>\n",
       "      <td>Swiss medical weekly</td>\n",
       "      <td>Anticoagulant treatment: the end of the old ag...</td>\n",
       "      <td>New oral anticoagulants used as single target ...</td>\n",
       "      <td>Non-systematic-review</td>\n",
       "    </tr>\n",
       "    <tr>\n",
       "      <th>305</th>\n",
       "      <td>19491314</td>\n",
       "      <td>Schizophrenia bulletin</td>\n",
       "      <td>Disengagement from mental health treatment amo...</td>\n",
       "      <td>Disengagement from mental health services can ...</td>\n",
       "      <td>Non-systematic-review</td>\n",
       "    </tr>\n",
       "    <tr>\n",
       "      <th>189</th>\n",
       "      <td>30952413</td>\n",
       "      <td>Neurologic clinics</td>\n",
       "      <td>Polyarteritis Nodosa Neurologic Manifestations.</td>\n",
       "      <td>Polyarteritis nodosa (PAN) is a necrotizing va...</td>\n",
       "      <td>Remaining</td>\n",
       "    </tr>\n",
       "    <tr>\n",
       "      <th>434</th>\n",
       "      <td>21450262</td>\n",
       "      <td>Journal of behavior therapy and experimental p...</td>\n",
       "      <td>Become more optimistic by imagining a best pos...</td>\n",
       "      <td>Optimism is a personality trait which has repe...</td>\n",
       "      <td>Human-non-RCT-non-drug-intervention</td>\n",
       "    </tr>\n",
       "    <tr>\n",
       "      <th>289</th>\n",
       "      <td>35083609</td>\n",
       "      <td>Molecular and cellular biochemistry</td>\n",
       "      <td>Protein degradation-associated mechanisms that...</td>\n",
       "      <td>Alzheimer's disease (AD) is the most common ty...</td>\n",
       "      <td>Non-systematic-review</td>\n",
       "    </tr>\n",
       "    <tr>\n",
       "      <th>142</th>\n",
       "      <td>9745353</td>\n",
       "      <td>Seishin shinkeigaku zasshi = Psychiatria et ne...</td>\n",
       "      <td>[A study of neuroleptic malignant syndrome in ...</td>\n",
       "      <td>Recently, with the increase in elderly populat...</td>\n",
       "      <td>Remaining</td>\n",
       "    </tr>\n",
       "    <tr>\n",
       "      <th>146</th>\n",
       "      <td>25189791</td>\n",
       "      <td>Psychopharmacology</td>\n",
       "      <td>The effect of acute morphine on delay discount...</td>\n",
       "      <td>Chronic opiate use is associated with increase...</td>\n",
       "      <td>Animal-drug-intervention</td>\n",
       "    </tr>\n",
       "    <tr>\n",
       "      <th>293</th>\n",
       "      <td>2940377</td>\n",
       "      <td>Journal of vascular surgery</td>\n",
       "      <td>Quantitative common carotid artery blood flow:...</td>\n",
       "      <td>Common carotid artery (CCA) blood flow was mea...</td>\n",
       "      <td>Remaining</td>\n",
       "    </tr>\n",
       "    <tr>\n",
       "      <th>312</th>\n",
       "      <td>26419196</td>\n",
       "      <td>European journal of clinical nutrition</td>\n",
       "      <td>Unprocessed red meat and processed meat consum...</td>\n",
       "      <td>High intakes of unprocessed red or processed m...</td>\n",
       "      <td>Remaining</td>\n",
       "    </tr>\n",
       "    <tr>\n",
       "      <th>311</th>\n",
       "      <td>11725215</td>\n",
       "      <td>Neuropsychiatry, neuropsychology, and behavior...</td>\n",
       "      <td>Behavioral changes in Huntington Disease.</td>\n",
       "      <td>This study aimed to gain a better understandin...</td>\n",
       "      <td>NaN</td>\n",
       "    </tr>\n",
       "    <tr>\n",
       "      <th>492</th>\n",
       "      <td>35617623</td>\n",
       "      <td>Journal of patient safety</td>\n",
       "      <td>Lessons Learned in Implementing a Chronic Opio...</td>\n",
       "      <td>Opioid misuse has resulted in significant morb...</td>\n",
       "      <td>Human-non-RCT-drug-intervention</td>\n",
       "    </tr>\n",
       "    <tr>\n",
       "      <th>65</th>\n",
       "      <td>36370926</td>\n",
       "      <td>The Journal of nutritional biochemistry</td>\n",
       "      <td>Intermittent fasting protects the nigral dopam...</td>\n",
       "      <td>Dietary restriction through low-calorie intake...</td>\n",
       "      <td>Animal-non-drug-intervention</td>\n",
       "    </tr>\n",
       "    <tr>\n",
       "      <th>374</th>\n",
       "      <td>3069749</td>\n",
       "      <td>International journal of clinical pharmacology...</td>\n",
       "      <td>Cortisol responses to cholinergic drugs in Alz...</td>\n",
       "      <td>Patients with Alzheimer's disease participated...</td>\n",
       "      <td>Human-non-RCT-drug-intervention</td>\n",
       "    </tr>\n",
       "    <tr>\n",
       "      <th>34</th>\n",
       "      <td>8197410</td>\n",
       "      <td>Schizophrenia bulletin</td>\n",
       "      <td>Psychometric high-risk paradigm, perceptual ab...</td>\n",
       "      <td>The psychometric high-risk strategy represents...</td>\n",
       "      <td>Remaining</td>\n",
       "    </tr>\n",
       "    <tr>\n",
       "      <th>342</th>\n",
       "      <td>30691779</td>\n",
       "      <td>Pediatric neurology</td>\n",
       "      <td>Prognostic Value of Electroencephalography in ...</td>\n",
       "      <td>Electroencephalography (EEG) background activi...</td>\n",
       "      <td>Human-systematic-review</td>\n",
       "    </tr>\n",
       "    <tr>\n",
       "      <th>173</th>\n",
       "      <td>20058555</td>\n",
       "      <td>Stapp car crash journal</td>\n",
       "      <td>A finite element model of region-specific resp...</td>\n",
       "      <td>It is well known that rotational loading is re...</td>\n",
       "      <td>Animal-other</td>\n",
       "    </tr>\n",
       "    <tr>\n",
       "      <th>201</th>\n",
       "      <td>11429087</td>\n",
       "      <td>Brain injury</td>\n",
       "      <td>A computer system for continuous long-term rec...</td>\n",
       "      <td>The objective of this project was to assemble ...</td>\n",
       "      <td>Remaining</td>\n",
       "    </tr>\n",
       "    <tr>\n",
       "      <th>179</th>\n",
       "      <td>28317947</td>\n",
       "      <td>NeuroImage. Clinical</td>\n",
       "      <td>Parietal operculum and motor cortex activities...</td>\n",
       "      <td>While motor recovery following mild stroke has...</td>\n",
       "      <td>NaN</td>\n",
       "    </tr>\n",
       "    <tr>\n",
       "      <th>306</th>\n",
       "      <td>26000815</td>\n",
       "      <td>The International journal of neuroscience</td>\n",
       "      <td>Neural overexpression of multidrug resistance-...</td>\n",
       "      <td>Overexpression of adenosine triphosphate-bindi...</td>\n",
       "      <td>Non-systematic-review</td>\n",
       "    </tr>\n",
       "    <tr>\n",
       "      <th>233</th>\n",
       "      <td>29380072</td>\n",
       "      <td>Current neurology and neuroscience reports</td>\n",
       "      <td>Sleep Disturbance and Cognitive Dysfunction in...</td>\n",
       "      <td>The present review summarizes recent research ...</td>\n",
       "      <td>Human-systematic-review</td>\n",
       "    </tr>\n",
       "    <tr>\n",
       "      <th>442</th>\n",
       "      <td>15608095</td>\n",
       "      <td>Journal of transcultural nursing : official jo...</td>\n",
       "      <td>Baridi: a culture-bound syndrome among the Ben...</td>\n",
       "      <td>The aim of this ethnographic study is to descr...</td>\n",
       "      <td>Remaining</td>\n",
       "    </tr>\n",
       "    <tr>\n",
       "      <th>345</th>\n",
       "      <td>27785533</td>\n",
       "      <td>Social psychiatry and psychiatric epidemiology</td>\n",
       "      <td>Who is going to rescue the rescuers? Post-trau...</td>\n",
       "      <td>During the European refugee crisis, numerous G...</td>\n",
       "      <td>Remaining</td>\n",
       "    </tr>\n",
       "    <tr>\n",
       "      <th>128</th>\n",
       "      <td>18787971</td>\n",
       "      <td>International urology and nephrology</td>\n",
       "      <td>Promoting functioning and well-being in older ...</td>\n",
       "      <td>Osteoporosis, falls, sleep difficulty, cogniti...</td>\n",
       "      <td>Non-systematic-review</td>\n",
       "    </tr>\n",
       "    <tr>\n",
       "      <th>277</th>\n",
       "      <td>33604879</td>\n",
       "      <td>Neurocritical care</td>\n",
       "      <td>To Decompress or Not? An Expected Utility Insp...</td>\n",
       "      <td>Patients with large territorial supratentorial...</td>\n",
       "      <td>Human-non-RCT-non-drug-intervention</td>\n",
       "    </tr>\n",
       "    <tr>\n",
       "      <th>4</th>\n",
       "      <td>29172241</td>\n",
       "      <td>Depression and anxiety</td>\n",
       "      <td>The impact of resilience and subsequent stress...</td>\n",
       "      <td>There remains a dearth of research examining t...</td>\n",
       "      <td>Remaining</td>\n",
       "    </tr>\n",
       "    <tr>\n",
       "      <th>401</th>\n",
       "      <td>2388643</td>\n",
       "      <td>Movement disorders : official journal of the M...</td>\n",
       "      <td>Adrenal to caudate transplantation--postmortem...</td>\n",
       "      <td>A patient with Parkinson's disease who had und...</td>\n",
       "      <td>Human-case-report</td>\n",
       "    </tr>\n",
       "    <tr>\n",
       "      <th>361</th>\n",
       "      <td>21860044</td>\n",
       "      <td>Schizophrenia bulletin</td>\n",
       "      <td>Negative symptoms and social cognition: identi...</td>\n",
       "      <td>How to improve treatment for negative symptoms...</td>\n",
       "      <td>Remaining</td>\n",
       "    </tr>\n",
       "    <tr>\n",
       "      <th>326</th>\n",
       "      <td>31075661</td>\n",
       "      <td>Gait &amp; posture</td>\n",
       "      <td>Comparable walking gait performance during exe...</td>\n",
       "      <td>Falls are a serious problem among stroke survi...</td>\n",
       "      <td>Remaining</td>\n",
       "    </tr>\n",
       "    <tr>\n",
       "      <th>430</th>\n",
       "      <td>3060558</td>\n",
       "      <td>Journal of forensic sciences</td>\n",
       "      <td>Incidence of cannabinoids in medical examiner ...</td>\n",
       "      <td>Cannabinoid use was studied in a nonspecific p...</td>\n",
       "      <td>Remaining</td>\n",
       "    </tr>\n",
       "    <tr>\n",
       "      <th>467</th>\n",
       "      <td>33484326</td>\n",
       "      <td>Journal of neurology</td>\n",
       "      <td>Contribution of nuclear and mitochondrial gene...</td>\n",
       "      <td>Mitochondrial disorders are clinically complex...</td>\n",
       "      <td>Remaining</td>\n",
       "    </tr>\n",
       "    <tr>\n",
       "      <th>213</th>\n",
       "      <td>2366164</td>\n",
       "      <td>Journal of child and adolescent psychiatric an...</td>\n",
       "      <td>Anorexia nervosa. Fluid-electrolyte and acid-b...</td>\n",
       "      <td>Psychiatric nurses need to know about the biol...</td>\n",
       "      <td>Remaining</td>\n",
       "    </tr>\n",
       "    <tr>\n",
       "      <th>330</th>\n",
       "      <td>18519870</td>\n",
       "      <td>Neurology</td>\n",
       "      <td>Relation of NSAIDs to incident AD, change in c...</td>\n",
       "      <td>To examine the relation of nonsteroidal anti-i...</td>\n",
       "      <td>NaN</td>\n",
       "    </tr>\n",
       "    <tr>\n",
       "      <th>329</th>\n",
       "      <td>8288140</td>\n",
       "      <td>Health &amp; social work</td>\n",
       "      <td>Assessment of dementia patients and their fami...</td>\n",
       "      <td>Demand for assessment and treatment of dementi...</td>\n",
       "      <td>Non-systematic-review</td>\n",
       "    </tr>\n",
       "    <tr>\n",
       "      <th>295</th>\n",
       "      <td>19432386</td>\n",
       "      <td>Dialogues in clinical neuroscience</td>\n",
       "      <td>Multiple rare variants in the etiology of auti...</td>\n",
       "      <td>Recent studies in autism spectrum disorders (A...</td>\n",
       "      <td>Remaining</td>\n",
       "    </tr>\n",
       "    <tr>\n",
       "      <th>416</th>\n",
       "      <td>22939118</td>\n",
       "      <td>The Journal of clinical psychiatry</td>\n",
       "      <td>Depressive symptoms and suicidal thoughts amon...</td>\n",
       "      <td>Finasteride, a commonly prescribed medication ...</td>\n",
       "      <td>NaN</td>\n",
       "    </tr>\n",
       "    <tr>\n",
       "      <th>406</th>\n",
       "      <td>24524869</td>\n",
       "      <td>Journal of neuroradiology = Journal de neurora...</td>\n",
       "      <td>Comparison of ADC values of intracranial heman...</td>\n",
       "      <td>This study aimed to determine whether the use ...</td>\n",
       "      <td>Remaining</td>\n",
       "    </tr>\n",
       "    <tr>\n",
       "      <th>102</th>\n",
       "      <td>11324179</td>\n",
       "      <td>Journal of palliative care</td>\n",
       "      <td>Demoralization syndrome--a relevant psychiatri...</td>\n",
       "      <td>Hopelessness, loss of meaning, and existential...</td>\n",
       "      <td>Remaining</td>\n",
       "    </tr>\n",
       "  </tbody>\n",
       "</table>\n",
       "</div>"
      ],
      "text/plain": [
       "         pmid                                       journal_name  \\\n",
       "304  12905582                                   Fa yi xue za zhi   \n",
       "340  28645717                                            Vaccine   \n",
       "47   11482695                               Acta neurochirurgica   \n",
       "67   15065953      Journal of consulting and clinical psychology   \n",
       "479   9578881             The Journal of laryngology and otology   \n",
       "485   2115207  Scandinavian journal of infectious diseases. S...   \n",
       "310   2946351  The British journal of psychiatry : the journa...   \n",
       "31   12045804                           Revista de saude publica   \n",
       "249  18084303              Nature structural & molecular biology   \n",
       "90   16332401                              Neurobiology of aging   \n",
       "322  32594193                        Experimental brain research   \n",
       "168  11214683                                Pediatric radiology   \n",
       "119  23594430                              Neurological research   \n",
       "66   23037610                               Swiss medical weekly   \n",
       "305  19491314                             Schizophrenia bulletin   \n",
       "189  30952413                                 Neurologic clinics   \n",
       "434  21450262  Journal of behavior therapy and experimental p...   \n",
       "289  35083609                Molecular and cellular biochemistry   \n",
       "142   9745353  Seishin shinkeigaku zasshi = Psychiatria et ne...   \n",
       "146  25189791                                 Psychopharmacology   \n",
       "293   2940377                        Journal of vascular surgery   \n",
       "312  26419196             European journal of clinical nutrition   \n",
       "311  11725215  Neuropsychiatry, neuropsychology, and behavior...   \n",
       "492  35617623                          Journal of patient safety   \n",
       "65   36370926            The Journal of nutritional biochemistry   \n",
       "374   3069749  International journal of clinical pharmacology...   \n",
       "34    8197410                             Schizophrenia bulletin   \n",
       "342  30691779                                Pediatric neurology   \n",
       "173  20058555                            Stapp car crash journal   \n",
       "201  11429087                                       Brain injury   \n",
       "179  28317947                               NeuroImage. Clinical   \n",
       "306  26000815          The International journal of neuroscience   \n",
       "233  29380072         Current neurology and neuroscience reports   \n",
       "442  15608095  Journal of transcultural nursing : official jo...   \n",
       "345  27785533     Social psychiatry and psychiatric epidemiology   \n",
       "128  18787971               International urology and nephrology   \n",
       "277  33604879                                 Neurocritical care   \n",
       "4    29172241                             Depression and anxiety   \n",
       "401   2388643  Movement disorders : official journal of the M...   \n",
       "361  21860044                             Schizophrenia bulletin   \n",
       "326  31075661                                     Gait & posture   \n",
       "430   3060558                       Journal of forensic sciences   \n",
       "467  33484326                               Journal of neurology   \n",
       "213   2366164  Journal of child and adolescent psychiatric an...   \n",
       "330  18519870                                          Neurology   \n",
       "329   8288140                               Health & social work   \n",
       "295  19432386                 Dialogues in clinical neuroscience   \n",
       "416  22939118                 The Journal of clinical psychiatry   \n",
       "406  24524869  Journal of neuroradiology = Journal de neurora...   \n",
       "102  11324179                         Journal of palliative care   \n",
       "\n",
       "                                                 title  \\\n",
       "304  [The research of the heroin and its metabolite...   \n",
       "340  Surveillance of pneumococcal colonization and ...   \n",
       "47   Carotid endarterectomy: a new technique replac...   \n",
       "67   Traditional versus integrative behavioral coup...   \n",
       "479  Vocal fold abductor paralysis as a solitary an...   \n",
       "485  Childhood acute bacterial meningitis in the Su...   \n",
       "310  Psychiatric disorders in mildly and severely m...   \n",
       "31   Assessment of a consultation-liaison psychiatr...   \n",
       "249  Structural basis for synaptic adhesion mediate...   \n",
       "90   Increased cholesterol in Abeta-positive nerve ...   \n",
       "322  Dopamine boosts intention and action awareness...   \n",
       "168  Asymptomatic intraventricular lipid leak from ...   \n",
       "119  Effects of comprehensive education protocol in...   \n",
       "66   Anticoagulant treatment: the end of the old ag...   \n",
       "305  Disengagement from mental health treatment amo...   \n",
       "189    Polyarteritis Nodosa Neurologic Manifestations.   \n",
       "434  Become more optimistic by imagining a best pos...   \n",
       "289  Protein degradation-associated mechanisms that...   \n",
       "142  [A study of neuroleptic malignant syndrome in ...   \n",
       "146  The effect of acute morphine on delay discount...   \n",
       "293  Quantitative common carotid artery blood flow:...   \n",
       "312  Unprocessed red meat and processed meat consum...   \n",
       "311          Behavioral changes in Huntington Disease.   \n",
       "492  Lessons Learned in Implementing a Chronic Opio...   \n",
       "65   Intermittent fasting protects the nigral dopam...   \n",
       "374  Cortisol responses to cholinergic drugs in Alz...   \n",
       "34   Psychometric high-risk paradigm, perceptual ab...   \n",
       "342  Prognostic Value of Electroencephalography in ...   \n",
       "173  A finite element model of region-specific resp...   \n",
       "201  A computer system for continuous long-term rec...   \n",
       "179  Parietal operculum and motor cortex activities...   \n",
       "306  Neural overexpression of multidrug resistance-...   \n",
       "233  Sleep Disturbance and Cognitive Dysfunction in...   \n",
       "442  Baridi: a culture-bound syndrome among the Ben...   \n",
       "345  Who is going to rescue the rescuers? Post-trau...   \n",
       "128  Promoting functioning and well-being in older ...   \n",
       "277  To Decompress or Not? An Expected Utility Insp...   \n",
       "4    The impact of resilience and subsequent stress...   \n",
       "401  Adrenal to caudate transplantation--postmortem...   \n",
       "361  Negative symptoms and social cognition: identi...   \n",
       "326  Comparable walking gait performance during exe...   \n",
       "430  Incidence of cannabinoids in medical examiner ...   \n",
       "467  Contribution of nuclear and mitochondrial gene...   \n",
       "213  Anorexia nervosa. Fluid-electrolyte and acid-b...   \n",
       "330  Relation of NSAIDs to incident AD, change in c...   \n",
       "329  Assessment of dementia patients and their fami...   \n",
       "295  Multiple rare variants in the etiology of auti...   \n",
       "416  Depressive symptoms and suicidal thoughts amon...   \n",
       "406  Comparison of ADC values of intracranial heman...   \n",
       "102  Demoralization syndrome--a relevant psychiatri...   \n",
       "\n",
       "                                              abstract  \\\n",
       "304  Heroin can be metabolized easily in body and t...   \n",
       "340  Following the introduction of pneumococcal con...   \n",
       "47   Carotid endarterectomy has been reported to in...   \n",
       "67   A randomized clinical trial compared the effec...   \n",
       "479  A patient is presented who had bilateral abduc...   \n",
       "485  The aims of the present study were to document...   \n",
       "310  A total of 149 children aged 13-17 years were ...   \n",
       "31   To investigate the relevance of subjective cri...   \n",
       "249  The heterophilic synaptic adhesion molecules n...   \n",
       "90   Synapse loss in Alzheimer's disease (AD) is po...   \n",
       "322  Dopaminergic deficiency in Parkinson's disease...   \n",
       "168  We present a case of pineal teratoma in a symp...   \n",
       "119  Studies have shown that awareness of early str...   \n",
       "66   New oral anticoagulants used as single target ...   \n",
       "305  Disengagement from mental health services can ...   \n",
       "189  Polyarteritis nodosa (PAN) is a necrotizing va...   \n",
       "434  Optimism is a personality trait which has repe...   \n",
       "289  Alzheimer's disease (AD) is the most common ty...   \n",
       "142  Recently, with the increase in elderly populat...   \n",
       "146  Chronic opiate use is associated with increase...   \n",
       "293  Common carotid artery (CCA) blood flow was mea...   \n",
       "312  High intakes of unprocessed red or processed m...   \n",
       "311  This study aimed to gain a better understandin...   \n",
       "492  Opioid misuse has resulted in significant morb...   \n",
       "65   Dietary restriction through low-calorie intake...   \n",
       "374  Patients with Alzheimer's disease participated...   \n",
       "34   The psychometric high-risk strategy represents...   \n",
       "342  Electroencephalography (EEG) background activi...   \n",
       "173  It is well known that rotational loading is re...   \n",
       "201  The objective of this project was to assemble ...   \n",
       "179  While motor recovery following mild stroke has...   \n",
       "306  Overexpression of adenosine triphosphate-bindi...   \n",
       "233  The present review summarizes recent research ...   \n",
       "442  The aim of this ethnographic study is to descr...   \n",
       "345  During the European refugee crisis, numerous G...   \n",
       "128  Osteoporosis, falls, sleep difficulty, cogniti...   \n",
       "277  Patients with large territorial supratentorial...   \n",
       "4    There remains a dearth of research examining t...   \n",
       "401  A patient with Parkinson's disease who had und...   \n",
       "361  How to improve treatment for negative symptoms...   \n",
       "326  Falls are a serious problem among stroke survi...   \n",
       "430  Cannabinoid use was studied in a nonspecific p...   \n",
       "467  Mitochondrial disorders are clinically complex...   \n",
       "213  Psychiatric nurses need to know about the biol...   \n",
       "330  To examine the relation of nonsteroidal anti-i...   \n",
       "329  Demand for assessment and treatment of dementi...   \n",
       "295  Recent studies in autism spectrum disorders (A...   \n",
       "416  Finasteride, a commonly prescribed medication ...   \n",
       "406  This study aimed to determine whether the use ...   \n",
       "102  Hopelessness, loss of meaning, and existential...   \n",
       "\n",
       "                          accepted_label  \n",
       "304                            Remaining  \n",
       "340      Human-non-RCT-drug-intervention  \n",
       "47   Human-non-RCT-non-drug-intervention  \n",
       "67       Human-RCT-non-drug-intervention  \n",
       "479                            Remaining  \n",
       "485                            Remaining  \n",
       "310                            Remaining  \n",
       "31                             Remaining  \n",
       "249                         Animal-other  \n",
       "90                             Remaining  \n",
       "322                            Remaining  \n",
       "168                    Human-case-report  \n",
       "119                            Remaining  \n",
       "66                 Non-systematic-review  \n",
       "305                Non-systematic-review  \n",
       "189                            Remaining  \n",
       "434  Human-non-RCT-non-drug-intervention  \n",
       "289                Non-systematic-review  \n",
       "142                            Remaining  \n",
       "146             Animal-drug-intervention  \n",
       "293                            Remaining  \n",
       "312                            Remaining  \n",
       "311                                  NaN  \n",
       "492      Human-non-RCT-drug-intervention  \n",
       "65          Animal-non-drug-intervention  \n",
       "374      Human-non-RCT-drug-intervention  \n",
       "34                             Remaining  \n",
       "342              Human-systematic-review  \n",
       "173                         Animal-other  \n",
       "201                            Remaining  \n",
       "179                                  NaN  \n",
       "306                Non-systematic-review  \n",
       "233              Human-systematic-review  \n",
       "442                            Remaining  \n",
       "345                            Remaining  \n",
       "128                Non-systematic-review  \n",
       "277  Human-non-RCT-non-drug-intervention  \n",
       "4                              Remaining  \n",
       "401                    Human-case-report  \n",
       "361                            Remaining  \n",
       "326                            Remaining  \n",
       "430                            Remaining  \n",
       "467                            Remaining  \n",
       "213                            Remaining  \n",
       "330                                  NaN  \n",
       "329                Non-systematic-review  \n",
       "295                            Remaining  \n",
       "416                                  NaN  \n",
       "406                            Remaining  \n",
       "102                            Remaining  "
      ]
     },
     "execution_count": 157,
     "metadata": {},
     "output_type": "execute_result"
    }
   ],
   "source": [
    "sampled_df = df.sample(n=50, random_state=1)\n",
    "sampled_df = sampled_df.explode('accepted_label')\n",
    "sampled_df"
   ]
  },
  {
   "cell_type": "markdown",
   "id": "2f4b2967-0b34-4f06-8a2b-e7b6631eed8c",
   "metadata": {},
   "source": [
    "## Run different prompts over the data"
   ]
  },
  {
   "cell_type": "code",
   "execution_count": 159,
   "id": "13f33c08-807c-40f2-808c-f2ec1c25e772",
   "metadata": {},
   "outputs": [
    {
     "name": "stderr",
     "output_type": "stream",
     "text": [
      "Processing dataset:   0%|                                                                                                                                                                    | 0/50 [00:00<?, ?it/s]"
     ]
    },
    {
     "name": "stdout",
     "output_type": "stream",
     "text": [
      "Trying to call OpenAI API...\n"
     ]
    },
    {
     "name": "stderr",
     "output_type": "stream",
     "text": [
      "Processing dataset:   2%|███                                                                                                                                                         | 1/50 [00:00<00:42,  1.15it/s]"
     ]
    },
    {
     "name": "stdout",
     "output_type": "stream",
     "text": [
      "Trying to call OpenAI API...\n"
     ]
    },
    {
     "name": "stderr",
     "output_type": "stream",
     "text": [
      "Processing dataset:   4%|██████▏                                                                                                                                                     | 2/50 [00:01<00:37,  1.28it/s]"
     ]
    },
    {
     "name": "stdout",
     "output_type": "stream",
     "text": [
      "Trying to call OpenAI API...\n"
     ]
    },
    {
     "name": "stderr",
     "output_type": "stream",
     "text": [
      "Processing dataset:   6%|█████████▎                                                                                                                                                  | 3/50 [00:02<00:35,  1.32it/s]"
     ]
    },
    {
     "name": "stdout",
     "output_type": "stream",
     "text": [
      "Trying to call OpenAI API...\n"
     ]
    },
    {
     "name": "stderr",
     "output_type": "stream",
     "text": [
      "Processing dataset:   8%|████████████▍                                                                                                                                               | 4/50 [00:03<00:35,  1.29it/s]"
     ]
    },
    {
     "name": "stdout",
     "output_type": "stream",
     "text": [
      "Trying to call OpenAI API...\n"
     ]
    },
    {
     "name": "stderr",
     "output_type": "stream",
     "text": [
      "Processing dataset:  10%|███████████████▌                                                                                                                                            | 5/50 [00:03<00:34,  1.32it/s]"
     ]
    },
    {
     "name": "stdout",
     "output_type": "stream",
     "text": [
      "Trying to call OpenAI API...\n"
     ]
    },
    {
     "name": "stderr",
     "output_type": "stream",
     "text": [
      "Processing dataset:  12%|██████████████████▋                                                                                                                                         | 6/50 [00:04<00:38,  1.14it/s]"
     ]
    },
    {
     "name": "stdout",
     "output_type": "stream",
     "text": [
      "Trying to call OpenAI API...\n"
     ]
    },
    {
     "name": "stderr",
     "output_type": "stream",
     "text": [
      "Processing dataset:  14%|█████████████████████▊                                                                                                                                      | 7/50 [00:05<00:35,  1.22it/s]"
     ]
    },
    {
     "name": "stdout",
     "output_type": "stream",
     "text": [
      "Trying to call OpenAI API...\n"
     ]
    },
    {
     "name": "stderr",
     "output_type": "stream",
     "text": [
      "Processing dataset:  16%|████████████████████████▉                                                                                                                                   | 8/50 [00:06<00:36,  1.17it/s]"
     ]
    },
    {
     "name": "stdout",
     "output_type": "stream",
     "text": [
      "Trying to call OpenAI API...\n"
     ]
    },
    {
     "name": "stderr",
     "output_type": "stream",
     "text": [
      "Processing dataset:  18%|████████████████████████████                                                                                                                                | 9/50 [00:07<00:35,  1.14it/s]"
     ]
    },
    {
     "name": "stdout",
     "output_type": "stream",
     "text": [
      "Trying to call OpenAI API...\n"
     ]
    },
    {
     "name": "stderr",
     "output_type": "stream",
     "text": [
      "Processing dataset:  20%|███████████████████████████████                                                                                                                            | 10/50 [00:08<00:38,  1.05it/s]"
     ]
    },
    {
     "name": "stdout",
     "output_type": "stream",
     "text": [
      "Trying to call OpenAI API...\n"
     ]
    },
    {
     "name": "stderr",
     "output_type": "stream",
     "text": [
      "Processing dataset:  22%|██████████████████████████████████                                                                                                                         | 11/50 [00:09<00:33,  1.18it/s]"
     ]
    },
    {
     "name": "stdout",
     "output_type": "stream",
     "text": [
      "Trying to call OpenAI API...\n"
     ]
    },
    {
     "name": "stderr",
     "output_type": "stream",
     "text": [
      "Processing dataset:  24%|█████████████████████████████████████▏                                                                                                                     | 12/50 [00:10<00:33,  1.15it/s]"
     ]
    },
    {
     "name": "stdout",
     "output_type": "stream",
     "text": [
      "Trying to call OpenAI API...\n"
     ]
    },
    {
     "name": "stderr",
     "output_type": "stream",
     "text": [
      "Processing dataset:  26%|████████████████████████████████████████▎                                                                                                                  | 13/50 [00:11<00:32,  1.13it/s]"
     ]
    },
    {
     "name": "stdout",
     "output_type": "stream",
     "text": [
      "Trying to call OpenAI API...\n"
     ]
    },
    {
     "name": "stderr",
     "output_type": "stream",
     "text": [
      "Processing dataset:  28%|███████████████████████████████████████████▍                                                                                                               | 14/50 [00:12<00:32,  1.11it/s]"
     ]
    },
    {
     "name": "stdout",
     "output_type": "stream",
     "text": [
      "Trying to call OpenAI API...\n"
     ]
    },
    {
     "name": "stderr",
     "output_type": "stream",
     "text": [
      "Processing dataset:  30%|██████████████████████████████████████████████▌                                                                                                            | 15/50 [00:12<00:30,  1.14it/s]"
     ]
    },
    {
     "name": "stdout",
     "output_type": "stream",
     "text": [
      "Trying to call OpenAI API...\n"
     ]
    },
    {
     "name": "stderr",
     "output_type": "stream",
     "text": [
      "Processing dataset:  32%|█████████████████████████████████████████████████▌                                                                                                         | 16/50 [00:13<00:31,  1.09it/s]"
     ]
    },
    {
     "name": "stdout",
     "output_type": "stream",
     "text": [
      "Trying to call OpenAI API...\n"
     ]
    },
    {
     "name": "stderr",
     "output_type": "stream",
     "text": [
      "Processing dataset:  34%|████████████████████████████████████████████████████▋                                                                                                      | 17/50 [00:14<00:29,  1.12it/s]"
     ]
    },
    {
     "name": "stdout",
     "output_type": "stream",
     "text": [
      "Trying to call OpenAI API...\n"
     ]
    },
    {
     "name": "stderr",
     "output_type": "stream",
     "text": [
      "Processing dataset:  36%|███████████████████████████████████████████████████████▊                                                                                                   | 18/50 [00:15<00:26,  1.19it/s]"
     ]
    },
    {
     "name": "stdout",
     "output_type": "stream",
     "text": [
      "Trying to call OpenAI API...\n"
     ]
    },
    {
     "name": "stderr",
     "output_type": "stream",
     "text": [
      "Processing dataset:  38%|██████████████████████████████████████████████████████████▉                                                                                                | 19/50 [00:16<00:24,  1.25it/s]"
     ]
    },
    {
     "name": "stdout",
     "output_type": "stream",
     "text": [
      "Trying to call OpenAI API...\n"
     ]
    },
    {
     "name": "stderr",
     "output_type": "stream",
     "text": [
      "Processing dataset:  40%|██████████████████████████████████████████████████████████████                                                                                             | 20/50 [00:16<00:22,  1.34it/s]"
     ]
    },
    {
     "name": "stdout",
     "output_type": "stream",
     "text": [
      "Trying to call OpenAI API...\n"
     ]
    },
    {
     "name": "stderr",
     "output_type": "stream",
     "text": [
      "Processing dataset:  42%|█████████████████████████████████████████████████████████████████                                                                                          | 21/50 [00:17<00:24,  1.21it/s]"
     ]
    },
    {
     "name": "stdout",
     "output_type": "stream",
     "text": [
      "Trying to call OpenAI API...\n"
     ]
    },
    {
     "name": "stderr",
     "output_type": "stream",
     "text": [
      "Processing dataset:  44%|████████████████████████████████████████████████████████████████████▏                                                                                      | 22/50 [00:18<00:23,  1.17it/s]"
     ]
    },
    {
     "name": "stdout",
     "output_type": "stream",
     "text": [
      "Trying to call OpenAI API...\n"
     ]
    },
    {
     "name": "stderr",
     "output_type": "stream",
     "text": [
      "Processing dataset:  46%|███████████████████████████████████████████████████████████████████████▎                                                                                   | 23/50 [00:19<00:23,  1.14it/s]"
     ]
    },
    {
     "name": "stdout",
     "output_type": "stream",
     "text": [
      "Trying to call OpenAI API...\n"
     ]
    },
    {
     "name": "stderr",
     "output_type": "stream",
     "text": [
      "Processing dataset:  48%|██████████████████████████████████████████████████████████████████████████▍                                                                                | 24/50 [00:20<00:23,  1.09it/s]"
     ]
    },
    {
     "name": "stdout",
     "output_type": "stream",
     "text": [
      "Trying to call OpenAI API...\n"
     ]
    },
    {
     "name": "stderr",
     "output_type": "stream",
     "text": [
      "Processing dataset:  50%|█████████████████████████████████████████████████████████████████████████████▌                                                                             | 25/50 [00:21<00:22,  1.12it/s]"
     ]
    },
    {
     "name": "stdout",
     "output_type": "stream",
     "text": [
      "Trying to call OpenAI API...\n"
     ]
    },
    {
     "name": "stderr",
     "output_type": "stream",
     "text": [
      "Processing dataset:  52%|████████████████████████████████████████████████████████████████████████████████▌                                                                          | 26/50 [00:22<00:20,  1.20it/s]"
     ]
    },
    {
     "name": "stdout",
     "output_type": "stream",
     "text": [
      "Trying to call OpenAI API...\n"
     ]
    },
    {
     "name": "stderr",
     "output_type": "stream",
     "text": [
      "Processing dataset:  54%|███████████████████████████████████████████████████████████████████████████████████▋                                                                       | 27/50 [00:22<00:19,  1.20it/s]"
     ]
    },
    {
     "name": "stdout",
     "output_type": "stream",
     "text": [
      "Trying to call OpenAI API...\n"
     ]
    },
    {
     "name": "stderr",
     "output_type": "stream",
     "text": [
      "Processing dataset:  56%|██████████████████████████████████████████████████████████████████████████████████████▊                                                                    | 28/50 [00:23<00:18,  1.20it/s]"
     ]
    },
    {
     "name": "stdout",
     "output_type": "stream",
     "text": [
      "Trying to call OpenAI API...\n"
     ]
    },
    {
     "name": "stderr",
     "output_type": "stream",
     "text": [
      "Processing dataset:  58%|█████████████████████████████████████████████████████████████████████████████████████████▉                                                                 | 29/50 [00:24<00:17,  1.22it/s]"
     ]
    },
    {
     "name": "stdout",
     "output_type": "stream",
     "text": [
      "Trying to call OpenAI API...\n"
     ]
    },
    {
     "name": "stderr",
     "output_type": "stream",
     "text": [
      "Processing dataset:  60%|█████████████████████████████████████████████████████████████████████████████████████████████                                                              | 30/50 [00:25<00:16,  1.20it/s]"
     ]
    },
    {
     "name": "stdout",
     "output_type": "stream",
     "text": [
      "Trying to call OpenAI API...\n"
     ]
    },
    {
     "name": "stderr",
     "output_type": "stream",
     "text": [
      "Processing dataset:  62%|████████████████████████████████████████████████████████████████████████████████████████████████                                                           | 31/50 [00:26<00:14,  1.27it/s]"
     ]
    },
    {
     "name": "stdout",
     "output_type": "stream",
     "text": [
      "Trying to call OpenAI API...\n"
     ]
    },
    {
     "name": "stderr",
     "output_type": "stream",
     "text": [
      "Processing dataset:  64%|███████████████████████████████████████████████████████████████████████████████████████████████████▏                                                       | 32/50 [00:26<00:13,  1.31it/s]"
     ]
    },
    {
     "name": "stdout",
     "output_type": "stream",
     "text": [
      "Trying to call OpenAI API...\n"
     ]
    },
    {
     "name": "stderr",
     "output_type": "stream",
     "text": [
      "Processing dataset:  66%|██████████████████████████████████████████████████████████████████████████████████████████████████████▎                                                    | 33/50 [00:27<00:14,  1.19it/s]"
     ]
    },
    {
     "name": "stdout",
     "output_type": "stream",
     "text": [
      "Trying to call OpenAI API...\n"
     ]
    },
    {
     "name": "stderr",
     "output_type": "stream",
     "text": [
      "Processing dataset:  68%|█████████████████████████████████████████████████████████████████████████████████████████████████████████▍                                                 | 34/50 [00:28<00:13,  1.19it/s]"
     ]
    },
    {
     "name": "stdout",
     "output_type": "stream",
     "text": [
      "Trying to call OpenAI API...\n"
     ]
    },
    {
     "name": "stderr",
     "output_type": "stream",
     "text": [
      "Processing dataset:  70%|████████████████████████████████████████████████████████████████████████████████████████████████████████████▌                                              | 35/50 [00:29<00:12,  1.16it/s]"
     ]
    },
    {
     "name": "stdout",
     "output_type": "stream",
     "text": [
      "Trying to call OpenAI API...\n"
     ]
    },
    {
     "name": "stderr",
     "output_type": "stream",
     "text": [
      "Processing dataset:  72%|███████████████████████████████████████████████████████████████████████████████████████████████████████████████▌                                           | 36/50 [00:30<00:12,  1.10it/s]"
     ]
    },
    {
     "name": "stdout",
     "output_type": "stream",
     "text": [
      "Trying to call OpenAI API...\n"
     ]
    },
    {
     "name": "stderr",
     "output_type": "stream",
     "text": [
      "Processing dataset:  74%|██████████████████████████████████████████████████████████████████████████████████████████████████████████████████▋                                        | 37/50 [00:31<00:11,  1.13it/s]"
     ]
    },
    {
     "name": "stdout",
     "output_type": "stream",
     "text": [
      "Trying to call OpenAI API...\n"
     ]
    },
    {
     "name": "stderr",
     "output_type": "stream",
     "text": [
      "Processing dataset:  76%|█████████████████████████████████████████████████████████████████████████████████████████████████████████████████████▊                                     | 38/50 [00:34<00:17,  1.48s/it]"
     ]
    },
    {
     "name": "stdout",
     "output_type": "stream",
     "text": [
      "Trying to call OpenAI API...\n"
     ]
    },
    {
     "name": "stderr",
     "output_type": "stream",
     "text": [
      "Processing dataset:  78%|████████████████████████████████████████████████████████████████████████████████████████████████████████████████████████▉                                  | 39/50 [00:35<00:14,  1.28s/it]"
     ]
    },
    {
     "name": "stdout",
     "output_type": "stream",
     "text": [
      "Trying to call OpenAI API...\n"
     ]
    },
    {
     "name": "stderr",
     "output_type": "stream",
     "text": [
      "Processing dataset:  80%|████████████████████████████████████████████████████████████████████████████████████████████████████████████████████████████                               | 40/50 [00:35<00:10,  1.05s/it]"
     ]
    },
    {
     "name": "stdout",
     "output_type": "stream",
     "text": [
      "Trying to call OpenAI API...\n"
     ]
    },
    {
     "name": "stderr",
     "output_type": "stream",
     "text": [
      "Processing dataset:  82%|███████████████████████████████████████████████████████████████████████████████████████████████████████████████████████████████                            | 41/50 [00:36<00:08,  1.06it/s]"
     ]
    },
    {
     "name": "stdout",
     "output_type": "stream",
     "text": [
      "Trying to call OpenAI API...\n"
     ]
    },
    {
     "name": "stderr",
     "output_type": "stream",
     "text": [
      "Processing dataset:  84%|██████████████████████████████████████████████████████████████████████████████████████████████████████████████████████████████████▏                        | 42/50 [00:37<00:07,  1.14it/s]"
     ]
    },
    {
     "name": "stdout",
     "output_type": "stream",
     "text": [
      "Trying to call OpenAI API...\n"
     ]
    },
    {
     "name": "stderr",
     "output_type": "stream",
     "text": [
      "Processing dataset:  86%|█████████████████████████████████████████████████████████████████████████████████████████████████████████████████████████████████████▎                     | 43/50 [00:37<00:06,  1.16it/s]"
     ]
    },
    {
     "name": "stdout",
     "output_type": "stream",
     "text": [
      "Trying to call OpenAI API...\n"
     ]
    },
    {
     "name": "stderr",
     "output_type": "stream",
     "text": [
      "Processing dataset:  88%|████████████████████████████████████████████████████████████████████████████████████████████████████████████████████████████████████████▍                  | 44/50 [00:38<00:04,  1.22it/s]"
     ]
    },
    {
     "name": "stdout",
     "output_type": "stream",
     "text": [
      "Trying to call OpenAI API...\n"
     ]
    },
    {
     "name": "stderr",
     "output_type": "stream",
     "text": [
      "Processing dataset:  90%|███████████████████████████████████████████████████████████████████████████████████████████████████████████████████████████████████████████▌               | 45/50 [00:39<00:04,  1.22it/s]"
     ]
    },
    {
     "name": "stdout",
     "output_type": "stream",
     "text": [
      "Trying to call OpenAI API...\n"
     ]
    },
    {
     "name": "stderr",
     "output_type": "stream",
     "text": [
      "Processing dataset:  92%|██████████████████████████████████████████████████████████████████████████████████████████████████████████████████████████████████████████████▌            | 46/50 [00:40<00:03,  1.28it/s]"
     ]
    },
    {
     "name": "stdout",
     "output_type": "stream",
     "text": [
      "Trying to call OpenAI API...\n"
     ]
    },
    {
     "name": "stderr",
     "output_type": "stream",
     "text": [
      "Processing dataset:  94%|█████████████████████████████████████████████████████████████████████████████████████████████████████████████████████████████████████████████████▋         | 47/50 [00:40<00:02,  1.30it/s]"
     ]
    },
    {
     "name": "stdout",
     "output_type": "stream",
     "text": [
      "Trying to call OpenAI API...\n"
     ]
    },
    {
     "name": "stderr",
     "output_type": "stream",
     "text": [
      "Processing dataset:  96%|████████████████████████████████████████████████████████████████████████████████████████████████████████████████████████████████████████████████████▊      | 48/50 [00:41<00:01,  1.38it/s]"
     ]
    },
    {
     "name": "stdout",
     "output_type": "stream",
     "text": [
      "Trying to call OpenAI API...\n"
     ]
    },
    {
     "name": "stderr",
     "output_type": "stream",
     "text": [
      "Processing dataset:  98%|███████████████████████████████████████████████████████████████████████████████████████████████████████████████████████████████████████████████████████▉   | 49/50 [00:42<00:00,  1.33it/s]"
     ]
    },
    {
     "name": "stdout",
     "output_type": "stream",
     "text": [
      "Trying to call OpenAI API...\n"
     ]
    },
    {
     "name": "stderr",
     "output_type": "stream",
     "text": [
      "Processing dataset: 100%|███████████████████████████████████████████████████████████████████████████████████████████████████████████████████████████████████████████████████████████| 50/50 [00:43<00:00,  1.16it/s]\n",
      "Processing dataset:   0%|                                                                                                                                                                    | 0/50 [00:00<?, ?it/s]"
     ]
    },
    {
     "name": "stdout",
     "output_type": "stream",
     "text": [
      "Trying to call OpenAI API...\n"
     ]
    },
    {
     "name": "stderr",
     "output_type": "stream",
     "text": [
      "Processing dataset:   2%|███                                                                                                                                                         | 1/50 [00:00<00:34,  1.42it/s]"
     ]
    },
    {
     "name": "stdout",
     "output_type": "stream",
     "text": [
      "Trying to call OpenAI API...\n"
     ]
    },
    {
     "name": "stderr",
     "output_type": "stream",
     "text": [
      "Processing dataset:   4%|██████▏                                                                                                                                                     | 2/50 [00:01<00:37,  1.30it/s]"
     ]
    },
    {
     "name": "stdout",
     "output_type": "stream",
     "text": [
      "Trying to call OpenAI API...\n"
     ]
    },
    {
     "name": "stderr",
     "output_type": "stream",
     "text": [
      "Processing dataset:   6%|█████████▎                                                                                                                                                  | 3/50 [00:02<00:32,  1.43it/s]"
     ]
    },
    {
     "name": "stdout",
     "output_type": "stream",
     "text": [
      "Trying to call OpenAI API...\n"
     ]
    },
    {
     "name": "stderr",
     "output_type": "stream",
     "text": [
      "Processing dataset:   8%|████████████▍                                                                                                                                               | 4/50 [00:02<00:32,  1.41it/s]"
     ]
    },
    {
     "name": "stdout",
     "output_type": "stream",
     "text": [
      "Trying to call OpenAI API...\n"
     ]
    },
    {
     "name": "stderr",
     "output_type": "stream",
     "text": [
      "Processing dataset:  10%|███████████████▌                                                                                                                                            | 5/50 [00:03<00:35,  1.28it/s]"
     ]
    },
    {
     "name": "stdout",
     "output_type": "stream",
     "text": [
      "Trying to call OpenAI API...\n"
     ]
    },
    {
     "name": "stderr",
     "output_type": "stream",
     "text": [
      "Processing dataset:  12%|██████████████████▋                                                                                                                                         | 6/50 [00:04<00:36,  1.20it/s]"
     ]
    },
    {
     "name": "stdout",
     "output_type": "stream",
     "text": [
      "Trying to call OpenAI API...\n"
     ]
    },
    {
     "name": "stderr",
     "output_type": "stream",
     "text": [
      "Processing dataset:  14%|█████████████████████▊                                                                                                                                      | 7/50 [00:08<01:17,  1.80s/it]"
     ]
    },
    {
     "name": "stdout",
     "output_type": "stream",
     "text": [
      "Trying to call OpenAI API...\n"
     ]
    },
    {
     "name": "stderr",
     "output_type": "stream",
     "text": [
      "Processing dataset:  16%|████████████████████████▉                                                                                                                                   | 8/50 [00:09<01:02,  1.49s/it]"
     ]
    },
    {
     "name": "stdout",
     "output_type": "stream",
     "text": [
      "Trying to call OpenAI API...\n"
     ]
    },
    {
     "name": "stderr",
     "output_type": "stream",
     "text": [
      "Processing dataset:  18%|████████████████████████████                                                                                                                                | 9/50 [00:09<00:49,  1.21s/it]"
     ]
    },
    {
     "name": "stdout",
     "output_type": "stream",
     "text": [
      "Trying to call OpenAI API...\n"
     ]
    },
    {
     "name": "stderr",
     "output_type": "stream",
     "text": [
      "Processing dataset:  20%|███████████████████████████████                                                                                                                            | 10/50 [00:10<00:44,  1.12s/it]"
     ]
    },
    {
     "name": "stdout",
     "output_type": "stream",
     "text": [
      "Trying to call OpenAI API...\n"
     ]
    },
    {
     "name": "stderr",
     "output_type": "stream",
     "text": [
      "Processing dataset:  22%|██████████████████████████████████                                                                                                                         | 11/50 [00:11<00:38,  1.00it/s]"
     ]
    },
    {
     "name": "stdout",
     "output_type": "stream",
     "text": [
      "Trying to call OpenAI API...\n"
     ]
    },
    {
     "name": "stderr",
     "output_type": "stream",
     "text": [
      "Processing dataset:  24%|█████████████████████████████████████▏                                                                                                                     | 12/50 [00:12<00:33,  1.13it/s]"
     ]
    },
    {
     "name": "stdout",
     "output_type": "stream",
     "text": [
      "Trying to call OpenAI API...\n"
     ]
    },
    {
     "name": "stderr",
     "output_type": "stream",
     "text": [
      "Processing dataset:  26%|████████████████████████████████████████▎                                                                                                                  | 13/50 [00:12<00:29,  1.25it/s]"
     ]
    },
    {
     "name": "stdout",
     "output_type": "stream",
     "text": [
      "Trying to call OpenAI API...\n"
     ]
    },
    {
     "name": "stderr",
     "output_type": "stream",
     "text": [
      "Processing dataset:  28%|███████████████████████████████████████████▍                                                                                                               | 14/50 [00:13<00:30,  1.19it/s]"
     ]
    },
    {
     "name": "stdout",
     "output_type": "stream",
     "text": [
      "Trying to call OpenAI API...\n"
     ]
    },
    {
     "name": "stderr",
     "output_type": "stream",
     "text": [
      "Processing dataset:  30%|██████████████████████████████████████████████▌                                                                                                            | 15/50 [00:14<00:31,  1.12it/s]"
     ]
    },
    {
     "name": "stdout",
     "output_type": "stream",
     "text": [
      "Trying to call OpenAI API...\n"
     ]
    },
    {
     "name": "stderr",
     "output_type": "stream",
     "text": [
      "Processing dataset:  32%|█████████████████████████████████████████████████▌                                                                                                         | 16/50 [00:15<00:27,  1.24it/s]"
     ]
    },
    {
     "name": "stdout",
     "output_type": "stream",
     "text": [
      "Trying to call OpenAI API...\n"
     ]
    },
    {
     "name": "stderr",
     "output_type": "stream",
     "text": [
      "Processing dataset:  34%|████████████████████████████████████████████████████▋                                                                                                      | 17/50 [00:16<00:25,  1.28it/s]"
     ]
    },
    {
     "name": "stdout",
     "output_type": "stream",
     "text": [
      "Trying to call OpenAI API...\n"
     ]
    },
    {
     "name": "stderr",
     "output_type": "stream",
     "text": [
      "Processing dataset:  36%|███████████████████████████████████████████████████████▊                                                                                                   | 18/50 [00:16<00:23,  1.37it/s]"
     ]
    },
    {
     "name": "stdout",
     "output_type": "stream",
     "text": [
      "Trying to call OpenAI API...\n"
     ]
    },
    {
     "name": "stderr",
     "output_type": "stream",
     "text": [
      "Processing dataset:  38%|██████████████████████████████████████████████████████████▉                                                                                                | 19/50 [00:17<00:22,  1.38it/s]"
     ]
    },
    {
     "name": "stdout",
     "output_type": "stream",
     "text": [
      "Trying to call OpenAI API...\n"
     ]
    },
    {
     "name": "stderr",
     "output_type": "stream",
     "text": [
      "Processing dataset:  40%|██████████████████████████████████████████████████████████████                                                                                             | 20/50 [00:18<00:21,  1.38it/s]"
     ]
    },
    {
     "name": "stdout",
     "output_type": "stream",
     "text": [
      "Trying to call OpenAI API...\n"
     ]
    },
    {
     "name": "stderr",
     "output_type": "stream",
     "text": [
      "Processing dataset:  42%|█████████████████████████████████████████████████████████████████                                                                                          | 21/50 [00:18<00:20,  1.45it/s]"
     ]
    },
    {
     "name": "stdout",
     "output_type": "stream",
     "text": [
      "Trying to call OpenAI API...\n"
     ]
    },
    {
     "name": "stderr",
     "output_type": "stream",
     "text": [
      "Processing dataset:  44%|████████████████████████████████████████████████████████████████████▏                                                                                      | 22/50 [00:19<00:19,  1.43it/s]"
     ]
    },
    {
     "name": "stdout",
     "output_type": "stream",
     "text": [
      "Trying to call OpenAI API...\n"
     ]
    },
    {
     "name": "stderr",
     "output_type": "stream",
     "text": [
      "Processing dataset:  46%|███████████████████████████████████████████████████████████████████████▎                                                                                   | 23/50 [00:20<00:19,  1.36it/s]"
     ]
    },
    {
     "name": "stdout",
     "output_type": "stream",
     "text": [
      "Trying to call OpenAI API...\n"
     ]
    },
    {
     "name": "stderr",
     "output_type": "stream",
     "text": [
      "Processing dataset:  48%|██████████████████████████████████████████████████████████████████████████▍                                                                                | 24/50 [00:21<00:19,  1.31it/s]"
     ]
    },
    {
     "name": "stdout",
     "output_type": "stream",
     "text": [
      "Trying to call OpenAI API...\n"
     ]
    },
    {
     "name": "stderr",
     "output_type": "stream",
     "text": [
      "Processing dataset:  50%|█████████████████████████████████████████████████████████████████████████████▌                                                                             | 25/50 [00:21<00:18,  1.34it/s]"
     ]
    },
    {
     "name": "stdout",
     "output_type": "stream",
     "text": [
      "Trying to call OpenAI API...\n"
     ]
    },
    {
     "name": "stderr",
     "output_type": "stream",
     "text": [
      "Processing dataset:  52%|████████████████████████████████████████████████████████████████████████████████▌                                                                          | 26/50 [00:22<00:17,  1.36it/s]"
     ]
    },
    {
     "name": "stdout",
     "output_type": "stream",
     "text": [
      "Trying to call OpenAI API...\n"
     ]
    },
    {
     "name": "stderr",
     "output_type": "stream",
     "text": [
      "Processing dataset:  54%|███████████████████████████████████████████████████████████████████████████████████▋                                                                       | 27/50 [00:23<00:18,  1.26it/s]"
     ]
    },
    {
     "name": "stdout",
     "output_type": "stream",
     "text": [
      "Trying to call OpenAI API...\n"
     ]
    },
    {
     "name": "stderr",
     "output_type": "stream",
     "text": [
      "Processing dataset:  56%|██████████████████████████████████████████████████████████████████████████████████████▊                                                                    | 28/50 [00:24<00:16,  1.30it/s]"
     ]
    },
    {
     "name": "stdout",
     "output_type": "stream",
     "text": [
      "Trying to call OpenAI API...\n"
     ]
    },
    {
     "name": "stderr",
     "output_type": "stream",
     "text": [
      "Processing dataset:  58%|█████████████████████████████████████████████████████████████████████████████████████████▉                                                                 | 29/50 [00:24<00:16,  1.28it/s]"
     ]
    },
    {
     "name": "stdout",
     "output_type": "stream",
     "text": [
      "Trying to call OpenAI API...\n"
     ]
    },
    {
     "name": "stderr",
     "output_type": "stream",
     "text": [
      "Processing dataset:  60%|█████████████████████████████████████████████████████████████████████████████████████████████                                                              | 30/50 [00:26<00:17,  1.13it/s]"
     ]
    },
    {
     "name": "stdout",
     "output_type": "stream",
     "text": [
      "Trying to call OpenAI API...\n"
     ]
    },
    {
     "name": "stderr",
     "output_type": "stream",
     "text": [
      "Processing dataset:  62%|████████████████████████████████████████████████████████████████████████████████████████████████                                                           | 31/50 [00:26<00:15,  1.20it/s]"
     ]
    },
    {
     "name": "stdout",
     "output_type": "stream",
     "text": [
      "Trying to call OpenAI API...\n"
     ]
    },
    {
     "name": "stderr",
     "output_type": "stream",
     "text": [
      "Processing dataset:  64%|███████████████████████████████████████████████████████████████████████████████████████████████████▏                                                       | 32/50 [00:27<00:14,  1.20it/s]"
     ]
    },
    {
     "name": "stdout",
     "output_type": "stream",
     "text": [
      "Trying to call OpenAI API...\n"
     ]
    },
    {
     "name": "stderr",
     "output_type": "stream",
     "text": [
      "Processing dataset:  66%|██████████████████████████████████████████████████████████████████████████████████████████████████████▎                                                    | 33/50 [00:28<00:14,  1.21it/s]"
     ]
    },
    {
     "name": "stdout",
     "output_type": "stream",
     "text": [
      "Trying to call OpenAI API...\n"
     ]
    },
    {
     "name": "stderr",
     "output_type": "stream",
     "text": [
      "Processing dataset:  68%|█████████████████████████████████████████████████████████████████████████████████████████████████████████▍                                                 | 34/50 [00:29<00:12,  1.32it/s]"
     ]
    },
    {
     "name": "stdout",
     "output_type": "stream",
     "text": [
      "Trying to call OpenAI API...\n"
     ]
    },
    {
     "name": "stderr",
     "output_type": "stream",
     "text": [
      "Processing dataset:  70%|████████████████████████████████████████████████████████████████████████████████████████████████████████████▌                                              | 35/50 [00:29<00:11,  1.33it/s]"
     ]
    },
    {
     "name": "stdout",
     "output_type": "stream",
     "text": [
      "Trying to call OpenAI API...\n"
     ]
    },
    {
     "name": "stderr",
     "output_type": "stream",
     "text": [
      "Processing dataset:  72%|███████████████████████████████████████████████████████████████████████████████████████████████████████████████▌                                           | 36/50 [00:30<00:11,  1.27it/s]"
     ]
    },
    {
     "name": "stdout",
     "output_type": "stream",
     "text": [
      "Trying to call OpenAI API...\n"
     ]
    },
    {
     "name": "stderr",
     "output_type": "stream",
     "text": [
      "Processing dataset:  74%|██████████████████████████████████████████████████████████████████████████████████████████████████████████████████▋                                        | 37/50 [00:31<00:09,  1.32it/s]"
     ]
    },
    {
     "name": "stdout",
     "output_type": "stream",
     "text": [
      "Trying to call OpenAI API...\n"
     ]
    },
    {
     "name": "stderr",
     "output_type": "stream",
     "text": [
      "Processing dataset:  76%|█████████████████████████████████████████████████████████████████████████████████████████████████████████████████████▊                                     | 38/50 [00:31<00:08,  1.38it/s]"
     ]
    },
    {
     "name": "stdout",
     "output_type": "stream",
     "text": [
      "Trying to call OpenAI API...\n"
     ]
    },
    {
     "name": "stderr",
     "output_type": "stream",
     "text": [
      "Processing dataset:  78%|████████████████████████████████████████████████████████████████████████████████████████████████████████████████████████▉                                  | 39/50 [00:32<00:08,  1.30it/s]"
     ]
    },
    {
     "name": "stdout",
     "output_type": "stream",
     "text": [
      "Trying to call OpenAI API...\n"
     ]
    },
    {
     "name": "stderr",
     "output_type": "stream",
     "text": [
      "Processing dataset:  80%|████████████████████████████████████████████████████████████████████████████████████████████████████████████████████████████                               | 40/50 [00:33<00:07,  1.28it/s]"
     ]
    },
    {
     "name": "stdout",
     "output_type": "stream",
     "text": [
      "Trying to call OpenAI API...\n"
     ]
    },
    {
     "name": "stderr",
     "output_type": "stream",
     "text": [
      "Processing dataset:  82%|███████████████████████████████████████████████████████████████████████████████████████████████████████████████████████████████                            | 41/50 [00:34<00:07,  1.26it/s]"
     ]
    },
    {
     "name": "stdout",
     "output_type": "stream",
     "text": [
      "Trying to call OpenAI API...\n"
     ]
    },
    {
     "name": "stderr",
     "output_type": "stream",
     "text": [
      "Processing dataset:  84%|██████████████████████████████████████████████████████████████████████████████████████████████████████████████████████████████████▏                        | 42/50 [00:35<00:05,  1.37it/s]"
     ]
    },
    {
     "name": "stdout",
     "output_type": "stream",
     "text": [
      "Trying to call OpenAI API...\n"
     ]
    },
    {
     "name": "stderr",
     "output_type": "stream",
     "text": [
      "Processing dataset:  86%|█████████████████████████████████████████████████████████████████████████████████████████████████████████████████████████████████████▎                     | 43/50 [00:35<00:05,  1.34it/s]"
     ]
    },
    {
     "name": "stdout",
     "output_type": "stream",
     "text": [
      "Trying to call OpenAI API...\n"
     ]
    },
    {
     "name": "stderr",
     "output_type": "stream",
     "text": [
      "Processing dataset:  88%|████████████████████████████████████████████████████████████████████████████████████████████████████████████████████████████████████████▍                  | 44/50 [00:36<00:04,  1.38it/s]"
     ]
    },
    {
     "name": "stdout",
     "output_type": "stream",
     "text": [
      "Trying to call OpenAI API...\n"
     ]
    },
    {
     "name": "stderr",
     "output_type": "stream",
     "text": [
      "Processing dataset:  90%|███████████████████████████████████████████████████████████████████████████████████████████████████████████████████████████████████████████▌               | 45/50 [00:37<00:03,  1.45it/s]"
     ]
    },
    {
     "name": "stdout",
     "output_type": "stream",
     "text": [
      "Trying to call OpenAI API...\n"
     ]
    },
    {
     "name": "stderr",
     "output_type": "stream",
     "text": [
      "Processing dataset:  92%|██████████████████████████████████████████████████████████████████████████████████████████████████████████████████████████████████████████████▌            | 46/50 [00:37<00:02,  1.50it/s]"
     ]
    },
    {
     "name": "stdout",
     "output_type": "stream",
     "text": [
      "Trying to call OpenAI API...\n"
     ]
    },
    {
     "name": "stderr",
     "output_type": "stream",
     "text": [
      "Processing dataset:  94%|█████████████████████████████████████████████████████████████████████████████████████████████████████████████████████████████████████████████████▋         | 47/50 [00:38<00:02,  1.29it/s]"
     ]
    },
    {
     "name": "stdout",
     "output_type": "stream",
     "text": [
      "Trying to call OpenAI API...\n"
     ]
    },
    {
     "name": "stderr",
     "output_type": "stream",
     "text": [
      "Processing dataset:  96%|████████████████████████████████████████████████████████████████████████████████████████████████████████████████████████████████████████████████████▊      | 48/50 [00:39<00:01,  1.32it/s]"
     ]
    },
    {
     "name": "stdout",
     "output_type": "stream",
     "text": [
      "Trying to call OpenAI API...\n"
     ]
    },
    {
     "name": "stderr",
     "output_type": "stream",
     "text": [
      "Processing dataset:  98%|███████████████████████████████████████████████████████████████████████████████████████████████████████████████████████████████████████████████████████▉   | 49/50 [00:40<00:00,  1.40it/s]"
     ]
    },
    {
     "name": "stdout",
     "output_type": "stream",
     "text": [
      "Trying to call OpenAI API...\n"
     ]
    },
    {
     "name": "stderr",
     "output_type": "stream",
     "text": [
      "Processing dataset: 100%|███████████████████████████████████████████████████████████████████████████████████████████████████████████████████████████████████████████████████████████| 50/50 [00:40<00:00,  1.23it/s]\n",
      "Processing dataset:   0%|                                                                                                                                                                    | 0/50 [00:00<?, ?it/s]"
     ]
    },
    {
     "name": "stdout",
     "output_type": "stream",
     "text": [
      "Trying to call OpenAI API...\n"
     ]
    },
    {
     "name": "stderr",
     "output_type": "stream",
     "text": [
      "Processing dataset:   2%|███                                                                                                                                                         | 1/50 [00:01<00:55,  1.14s/it]"
     ]
    },
    {
     "name": "stdout",
     "output_type": "stream",
     "text": [
      "Trying to call OpenAI API...\n"
     ]
    },
    {
     "name": "stderr",
     "output_type": "stream",
     "text": [
      "Processing dataset:   4%|██████▏                                                                                                                                                     | 2/50 [00:02<01:05,  1.37s/it]"
     ]
    },
    {
     "name": "stdout",
     "output_type": "stream",
     "text": [
      "Trying to call OpenAI API...\n"
     ]
    },
    {
     "name": "stderr",
     "output_type": "stream",
     "text": [
      "Processing dataset:   6%|█████████▎                                                                                                                                                  | 3/50 [00:04<01:09,  1.49s/it]"
     ]
    },
    {
     "name": "stdout",
     "output_type": "stream",
     "text": [
      "Trying to call OpenAI API...\n"
     ]
    },
    {
     "name": "stderr",
     "output_type": "stream",
     "text": [
      "Processing dataset:   8%|████████████▍                                                                                                                                               | 4/50 [00:05<01:05,  1.43s/it]"
     ]
    },
    {
     "name": "stdout",
     "output_type": "stream",
     "text": [
      "Trying to call OpenAI API...\n"
     ]
    },
    {
     "name": "stderr",
     "output_type": "stream",
     "text": [
      "Processing dataset:  10%|███████████████▌                                                                                                                                            | 5/50 [00:07<01:07,  1.51s/it]"
     ]
    },
    {
     "name": "stdout",
     "output_type": "stream",
     "text": [
      "Trying to call OpenAI API...\n"
     ]
    },
    {
     "name": "stderr",
     "output_type": "stream",
     "text": [
      "Processing dataset:  12%|██████████████████▋                                                                                                                                         | 6/50 [00:09<01:11,  1.62s/it]"
     ]
    },
    {
     "name": "stdout",
     "output_type": "stream",
     "text": [
      "Trying to call OpenAI API...\n"
     ]
    },
    {
     "name": "stderr",
     "output_type": "stream",
     "text": [
      "Processing dataset:  14%|█████████████████████▊                                                                                                                                      | 7/50 [00:10<01:08,  1.59s/it]"
     ]
    },
    {
     "name": "stdout",
     "output_type": "stream",
     "text": [
      "Trying to call OpenAI API...\n"
     ]
    },
    {
     "name": "stderr",
     "output_type": "stream",
     "text": [
      "Processing dataset:  16%|████████████████████████▉                                                                                                                                   | 8/50 [01:05<13:02, 18.64s/it]"
     ]
    },
    {
     "name": "stdout",
     "output_type": "stream",
     "text": [
      "Trying to call OpenAI API...\n"
     ]
    },
    {
     "name": "stderr",
     "output_type": "stream",
     "text": [
      "Processing dataset:  18%|████████████████████████████                                                                                                                                | 9/50 [01:07<09:02, 13.23s/it]"
     ]
    },
    {
     "name": "stdout",
     "output_type": "stream",
     "text": [
      "Trying to call OpenAI API...\n"
     ]
    },
    {
     "name": "stderr",
     "output_type": "stream",
     "text": [
      "Processing dataset:  20%|███████████████████████████████                                                                                                                            | 10/50 [01:08<06:21,  9.54s/it]"
     ]
    },
    {
     "name": "stdout",
     "output_type": "stream",
     "text": [
      "Trying to call OpenAI API...\n"
     ]
    },
    {
     "name": "stderr",
     "output_type": "stream",
     "text": [
      "Processing dataset:  22%|██████████████████████████████████                                                                                                                         | 11/50 [01:09<04:34,  7.04s/it]"
     ]
    },
    {
     "name": "stdout",
     "output_type": "stream",
     "text": [
      "Trying to call OpenAI API...\n"
     ]
    },
    {
     "name": "stderr",
     "output_type": "stream",
     "text": [
      "Processing dataset:  24%|█████████████████████████████████████▏                                                                                                                     | 12/50 [01:11<03:21,  5.31s/it]"
     ]
    },
    {
     "name": "stdout",
     "output_type": "stream",
     "text": [
      "Trying to call OpenAI API...\n"
     ]
    },
    {
     "name": "stderr",
     "output_type": "stream",
     "text": [
      "Processing dataset:  26%|████████████████████████████████████████▎                                                                                                                  | 13/50 [01:12<02:29,  4.05s/it]"
     ]
    },
    {
     "name": "stdout",
     "output_type": "stream",
     "text": [
      "Trying to call OpenAI API...\n"
     ]
    },
    {
     "name": "stderr",
     "output_type": "stream",
     "text": [
      "Processing dataset:  28%|███████████████████████████████████████████▍                                                                                                               | 14/50 [01:13<01:56,  3.23s/it]"
     ]
    },
    {
     "name": "stdout",
     "output_type": "stream",
     "text": [
      "Trying to call OpenAI API...\n"
     ]
    },
    {
     "name": "stderr",
     "output_type": "stream",
     "text": [
      "Processing dataset:  30%|██████████████████████████████████████████████▌                                                                                                            | 15/50 [01:14<01:32,  2.65s/it]"
     ]
    },
    {
     "name": "stdout",
     "output_type": "stream",
     "text": [
      "Trying to call OpenAI API...\n"
     ]
    },
    {
     "name": "stderr",
     "output_type": "stream",
     "text": [
      "Processing dataset:  32%|█████████████████████████████████████████████████▌                                                                                                         | 16/50 [01:16<01:14,  2.19s/it]"
     ]
    },
    {
     "name": "stdout",
     "output_type": "stream",
     "text": [
      "Trying to call OpenAI API...\n"
     ]
    },
    {
     "name": "stderr",
     "output_type": "stream",
     "text": [
      "Processing dataset:  34%|████████████████████████████████████████████████████▋                                                                                                      | 17/50 [01:17<01:04,  1.95s/it]"
     ]
    },
    {
     "name": "stdout",
     "output_type": "stream",
     "text": [
      "Trying to call OpenAI API...\n"
     ]
    },
    {
     "name": "stderr",
     "output_type": "stream",
     "text": [
      "Processing dataset:  36%|███████████████████████████████████████████████████████▊                                                                                                   | 18/50 [01:18<00:54,  1.71s/it]"
     ]
    },
    {
     "name": "stdout",
     "output_type": "stream",
     "text": [
      "Trying to call OpenAI API...\n"
     ]
    },
    {
     "name": "stderr",
     "output_type": "stream",
     "text": [
      "Processing dataset:  38%|██████████████████████████████████████████████████████████▉                                                                                                | 19/50 [01:19<00:50,  1.62s/it]"
     ]
    },
    {
     "name": "stdout",
     "output_type": "stream",
     "text": [
      "Trying to call OpenAI API...\n"
     ]
    },
    {
     "name": "stderr",
     "output_type": "stream",
     "text": [
      "Processing dataset:  40%|██████████████████████████████████████████████████████████████                                                                                             | 20/50 [01:21<00:45,  1.53s/it]"
     ]
    },
    {
     "name": "stdout",
     "output_type": "stream",
     "text": [
      "Trying to call OpenAI API...\n"
     ]
    },
    {
     "name": "stderr",
     "output_type": "stream",
     "text": [
      "Processing dataset:  42%|█████████████████████████████████████████████████████████████████                                                                                          | 21/50 [01:22<00:43,  1.51s/it]"
     ]
    },
    {
     "name": "stdout",
     "output_type": "stream",
     "text": [
      "Trying to call OpenAI API...\n"
     ]
    },
    {
     "name": "stderr",
     "output_type": "stream",
     "text": [
      "Processing dataset:  44%|████████████████████████████████████████████████████████████████████▏                                                                                      | 22/50 [01:24<00:43,  1.54s/it]"
     ]
    },
    {
     "name": "stdout",
     "output_type": "stream",
     "text": [
      "Trying to call OpenAI API...\n"
     ]
    },
    {
     "name": "stderr",
     "output_type": "stream",
     "text": [
      "Processing dataset:  46%|███████████████████████████████████████████████████████████████████████▎                                                                                   | 23/50 [01:25<00:39,  1.45s/it]"
     ]
    },
    {
     "name": "stdout",
     "output_type": "stream",
     "text": [
      "Trying to call OpenAI API...\n"
     ]
    },
    {
     "name": "stderr",
     "output_type": "stream",
     "text": [
      "Processing dataset:  48%|██████████████████████████████████████████████████████████████████████████▍                                                                                | 24/50 [01:27<00:38,  1.48s/it]"
     ]
    },
    {
     "name": "stdout",
     "output_type": "stream",
     "text": [
      "Trying to call OpenAI API...\n"
     ]
    },
    {
     "name": "stderr",
     "output_type": "stream",
     "text": [
      "Processing dataset:  50%|█████████████████████████████████████████████████████████████████████████████▌                                                                             | 25/50 [01:28<00:37,  1.49s/it]"
     ]
    },
    {
     "name": "stdout",
     "output_type": "stream",
     "text": [
      "Trying to call OpenAI API...\n"
     ]
    },
    {
     "name": "stderr",
     "output_type": "stream",
     "text": [
      "Processing dataset:  52%|████████████████████████████████████████████████████████████████████████████████▌                                                                          | 26/50 [01:30<00:37,  1.57s/it]"
     ]
    },
    {
     "name": "stdout",
     "output_type": "stream",
     "text": [
      "Trying to call OpenAI API...\n"
     ]
    },
    {
     "name": "stderr",
     "output_type": "stream",
     "text": [
      "Processing dataset:  54%|███████████████████████████████████████████████████████████████████████████████████▋                                                                       | 27/50 [01:32<00:40,  1.74s/it]"
     ]
    },
    {
     "name": "stdout",
     "output_type": "stream",
     "text": [
      "Trying to call OpenAI API...\n"
     ]
    },
    {
     "name": "stderr",
     "output_type": "stream",
     "text": [
      "Processing dataset:  56%|██████████████████████████████████████████████████████████████████████████████████████▊                                                                    | 28/50 [01:34<00:38,  1.74s/it]"
     ]
    },
    {
     "name": "stdout",
     "output_type": "stream",
     "text": [
      "Trying to call OpenAI API...\n"
     ]
    },
    {
     "name": "stderr",
     "output_type": "stream",
     "text": [
      "Processing dataset:  58%|█████████████████████████████████████████████████████████████████████████████████████████▉                                                                 | 29/50 [01:35<00:35,  1.68s/it]"
     ]
    },
    {
     "name": "stdout",
     "output_type": "stream",
     "text": [
      "Trying to call OpenAI API...\n"
     ]
    },
    {
     "name": "stderr",
     "output_type": "stream",
     "text": [
      "Processing dataset:  60%|█████████████████████████████████████████████████████████████████████████████████████████████                                                              | 30/50 [01:37<00:32,  1.64s/it]"
     ]
    },
    {
     "name": "stdout",
     "output_type": "stream",
     "text": [
      "Trying to call OpenAI API...\n"
     ]
    },
    {
     "name": "stderr",
     "output_type": "stream",
     "text": [
      "Processing dataset:  62%|████████████████████████████████████████████████████████████████████████████████████████████████                                                           | 31/50 [01:38<00:28,  1.51s/it]"
     ]
    },
    {
     "name": "stdout",
     "output_type": "stream",
     "text": [
      "Trying to call OpenAI API...\n"
     ]
    },
    {
     "name": "stderr",
     "output_type": "stream",
     "text": [
      "Processing dataset:  64%|███████████████████████████████████████████████████████████████████████████████████████████████████▏                                                       | 32/50 [01:40<00:27,  1.51s/it]"
     ]
    },
    {
     "name": "stdout",
     "output_type": "stream",
     "text": [
      "Trying to call OpenAI API...\n"
     ]
    },
    {
     "name": "stderr",
     "output_type": "stream",
     "text": [
      "Processing dataset:  66%|██████████████████████████████████████████████████████████████████████████████████████████████████████▎                                                    | 33/50 [01:41<00:27,  1.61s/it]"
     ]
    },
    {
     "name": "stdout",
     "output_type": "stream",
     "text": [
      "Trying to call OpenAI API...\n"
     ]
    },
    {
     "name": "stderr",
     "output_type": "stream",
     "text": [
      "Processing dataset:  68%|█████████████████████████████████████████████████████████████████████████████████████████████████████████▍                                                 | 34/50 [01:43<00:25,  1.60s/it]"
     ]
    },
    {
     "name": "stdout",
     "output_type": "stream",
     "text": [
      "Trying to call OpenAI API...\n"
     ]
    },
    {
     "name": "stderr",
     "output_type": "stream",
     "text": [
      "Processing dataset:  70%|████████████████████████████████████████████████████████████████████████████████████████████████████████████▌                                              | 35/50 [01:44<00:23,  1.54s/it]"
     ]
    },
    {
     "name": "stdout",
     "output_type": "stream",
     "text": [
      "Trying to call OpenAI API...\n"
     ]
    },
    {
     "name": "stderr",
     "output_type": "stream",
     "text": [
      "Processing dataset:  72%|███████████████████████████████████████████████████████████████████████████████████████████████████████████████▌                                           | 36/50 [01:46<00:21,  1.54s/it]"
     ]
    },
    {
     "name": "stdout",
     "output_type": "stream",
     "text": [
      "Trying to call OpenAI API...\n"
     ]
    },
    {
     "name": "stderr",
     "output_type": "stream",
     "text": [
      "Processing dataset:  74%|██████████████████████████████████████████████████████████████████████████████████████████████████████████████████▋                                        | 37/50 [01:47<00:19,  1.49s/it]"
     ]
    },
    {
     "name": "stdout",
     "output_type": "stream",
     "text": [
      "Trying to call OpenAI API...\n"
     ]
    },
    {
     "name": "stderr",
     "output_type": "stream",
     "text": [
      "Processing dataset:  76%|█████████████████████████████████████████████████████████████████████████████████████████████████████████████████████▊                                     | 38/50 [01:49<00:16,  1.41s/it]"
     ]
    },
    {
     "name": "stdout",
     "output_type": "stream",
     "text": [
      "Trying to call OpenAI API...\n"
     ]
    },
    {
     "name": "stderr",
     "output_type": "stream",
     "text": [
      "Processing dataset:  78%|████████████████████████████████████████████████████████████████████████████████████████████████████████████████████████▉                                  | 39/50 [01:50<00:15,  1.44s/it]"
     ]
    },
    {
     "name": "stdout",
     "output_type": "stream",
     "text": [
      "Trying to call OpenAI API...\n"
     ]
    },
    {
     "name": "stderr",
     "output_type": "stream",
     "text": [
      "Processing dataset:  80%|████████████████████████████████████████████████████████████████████████████████████████████████████████████████████████████                               | 40/50 [01:52<00:14,  1.48s/it]"
     ]
    },
    {
     "name": "stdout",
     "output_type": "stream",
     "text": [
      "Trying to call OpenAI API...\n"
     ]
    },
    {
     "name": "stderr",
     "output_type": "stream",
     "text": [
      "Processing dataset:  82%|███████████████████████████████████████████████████████████████████████████████████████████████████████████████████████████████                            | 41/50 [01:53<00:13,  1.54s/it]"
     ]
    },
    {
     "name": "stdout",
     "output_type": "stream",
     "text": [
      "Trying to call OpenAI API...\n"
     ]
    },
    {
     "name": "stderr",
     "output_type": "stream",
     "text": [
      "Processing dataset:  84%|██████████████████████████████████████████████████████████████████████████████████████████████████████████████████████████████████▏                        | 42/50 [01:55<00:12,  1.58s/it]"
     ]
    },
    {
     "name": "stdout",
     "output_type": "stream",
     "text": [
      "Trying to call OpenAI API...\n"
     ]
    },
    {
     "name": "stderr",
     "output_type": "stream",
     "text": [
      "Processing dataset:  86%|█████████████████████████████████████████████████████████████████████████████████████████████████████████████████████████████████████▎                     | 43/50 [01:56<00:10,  1.54s/it]"
     ]
    },
    {
     "name": "stdout",
     "output_type": "stream",
     "text": [
      "Trying to call OpenAI API...\n"
     ]
    },
    {
     "name": "stderr",
     "output_type": "stream",
     "text": [
      "Processing dataset:  88%|████████████████████████████████████████████████████████████████████████████████████████████████████████████████████████████████████████▍                  | 44/50 [01:58<00:08,  1.47s/it]"
     ]
    },
    {
     "name": "stdout",
     "output_type": "stream",
     "text": [
      "Trying to call OpenAI API...\n"
     ]
    },
    {
     "name": "stderr",
     "output_type": "stream",
     "text": [
      "Processing dataset:  90%|███████████████████████████████████████████████████████████████████████████████████████████████████████████████████████████████████████████▌               | 45/50 [01:59<00:07,  1.49s/it]"
     ]
    },
    {
     "name": "stdout",
     "output_type": "stream",
     "text": [
      "Trying to call OpenAI API...\n"
     ]
    },
    {
     "name": "stderr",
     "output_type": "stream",
     "text": [
      "Processing dataset:  92%|██████████████████████████████████████████████████████████████████████████████████████████████████████████████████████████████████████████████▌            | 46/50 [02:01<00:05,  1.41s/it]"
     ]
    },
    {
     "name": "stdout",
     "output_type": "stream",
     "text": [
      "Trying to call OpenAI API...\n"
     ]
    },
    {
     "name": "stderr",
     "output_type": "stream",
     "text": [
      "Processing dataset:  94%|█████████████████████████████████████████████████████████████████████████████████████████████████████████████████████████████████████████████████▋         | 47/50 [02:02<00:04,  1.42s/it]"
     ]
    },
    {
     "name": "stdout",
     "output_type": "stream",
     "text": [
      "Trying to call OpenAI API...\n"
     ]
    },
    {
     "name": "stderr",
     "output_type": "stream",
     "text": [
      "Processing dataset:  96%|████████████████████████████████████████████████████████████████████████████████████████████████████████████████████████████████████████████████████▊      | 48/50 [02:03<00:02,  1.43s/it]"
     ]
    },
    {
     "name": "stdout",
     "output_type": "stream",
     "text": [
      "Trying to call OpenAI API...\n"
     ]
    },
    {
     "name": "stderr",
     "output_type": "stream",
     "text": [
      "Processing dataset:  98%|███████████████████████████████████████████████████████████████████████████████████████████████████████████████████████████████████████████████████████▉   | 49/50 [02:05<00:01,  1.36s/it]"
     ]
    },
    {
     "name": "stdout",
     "output_type": "stream",
     "text": [
      "Trying to call OpenAI API...\n"
     ]
    },
    {
     "name": "stderr",
     "output_type": "stream",
     "text": [
      "Processing dataset: 100%|███████████████████████████████████████████████████████████████████████████████████████████████████████████████████████████████████████████████████████████| 50/50 [02:06<00:00,  2.53s/it]\n",
      "Processing dataset:   0%|                                                                                                                                                                    | 0/50 [00:00<?, ?it/s]"
     ]
    },
    {
     "name": "stdout",
     "output_type": "stream",
     "text": [
      "Trying to call OpenAI API...\n"
     ]
    },
    {
     "name": "stderr",
     "output_type": "stream",
     "text": [
      "Processing dataset:   2%|███                                                                                                                                                         | 1/50 [00:00<00:32,  1.51it/s]"
     ]
    },
    {
     "name": "stdout",
     "output_type": "stream",
     "text": [
      "Trying to call OpenAI API...\n"
     ]
    },
    {
     "name": "stderr",
     "output_type": "stream",
     "text": [
      "Processing dataset:   4%|██████▏                                                                                                                                                     | 2/50 [00:01<00:35,  1.34it/s]"
     ]
    },
    {
     "name": "stdout",
     "output_type": "stream",
     "text": [
      "Trying to call OpenAI API...\n"
     ]
    },
    {
     "name": "stderr",
     "output_type": "stream",
     "text": [
      "Processing dataset:   6%|█████████▎                                                                                                                                                  | 3/50 [00:02<00:40,  1.15it/s]"
     ]
    },
    {
     "name": "stdout",
     "output_type": "stream",
     "text": [
      "Trying to call OpenAI API...\n"
     ]
    },
    {
     "name": "stderr",
     "output_type": "stream",
     "text": [
      "Processing dataset:   8%|████████████▍                                                                                                                                               | 4/50 [00:03<00:42,  1.07it/s]"
     ]
    },
    {
     "name": "stdout",
     "output_type": "stream",
     "text": [
      "Trying to call OpenAI API...\n"
     ]
    },
    {
     "name": "stderr",
     "output_type": "stream",
     "text": [
      "Processing dataset:  10%|███████████████▌                                                                                                                                            | 5/50 [00:04<00:37,  1.20it/s]"
     ]
    },
    {
     "name": "stdout",
     "output_type": "stream",
     "text": [
      "Trying to call OpenAI API...\n"
     ]
    },
    {
     "name": "stderr",
     "output_type": "stream",
     "text": [
      "Processing dataset:  12%|██████████████████▋                                                                                                                                         | 6/50 [00:04<00:34,  1.28it/s]"
     ]
    },
    {
     "name": "stdout",
     "output_type": "stream",
     "text": [
      "Trying to call OpenAI API...\n"
     ]
    },
    {
     "name": "stderr",
     "output_type": "stream",
     "text": [
      "Processing dataset:  14%|█████████████████████▊                                                                                                                                      | 7/50 [00:05<00:34,  1.25it/s]"
     ]
    },
    {
     "name": "stdout",
     "output_type": "stream",
     "text": [
      "Trying to call OpenAI API...\n"
     ]
    },
    {
     "name": "stderr",
     "output_type": "stream",
     "text": [
      "Processing dataset:  16%|████████████████████████▉                                                                                                                                   | 8/50 [00:06<00:33,  1.25it/s]"
     ]
    },
    {
     "name": "stdout",
     "output_type": "stream",
     "text": [
      "Trying to call OpenAI API...\n"
     ]
    },
    {
     "name": "stderr",
     "output_type": "stream",
     "text": [
      "Processing dataset:  18%|████████████████████████████                                                                                                                                | 9/50 [00:07<00:34,  1.20it/s]"
     ]
    },
    {
     "name": "stdout",
     "output_type": "stream",
     "text": [
      "Trying to call OpenAI API...\n"
     ]
    },
    {
     "name": "stderr",
     "output_type": "stream",
     "text": [
      "Processing dataset:  20%|███████████████████████████████                                                                                                                            | 10/50 [00:08<00:32,  1.25it/s]"
     ]
    },
    {
     "name": "stdout",
     "output_type": "stream",
     "text": [
      "Trying to call OpenAI API...\n"
     ]
    },
    {
     "name": "stderr",
     "output_type": "stream",
     "text": [
      "Processing dataset:  22%|██████████████████████████████████                                                                                                                         | 11/50 [00:09<00:35,  1.10it/s]"
     ]
    },
    {
     "name": "stdout",
     "output_type": "stream",
     "text": [
      "Trying to call OpenAI API...\n"
     ]
    },
    {
     "name": "stderr",
     "output_type": "stream",
     "text": [
      "Processing dataset:  24%|█████████████████████████████████████▏                                                                                                                     | 12/50 [00:10<00:32,  1.16it/s]"
     ]
    },
    {
     "name": "stdout",
     "output_type": "stream",
     "text": [
      "Trying to call OpenAI API...\n"
     ]
    },
    {
     "name": "stderr",
     "output_type": "stream",
     "text": [
      "Processing dataset:  26%|████████████████████████████████████████▎                                                                                                                  | 13/50 [00:10<00:28,  1.29it/s]"
     ]
    },
    {
     "name": "stdout",
     "output_type": "stream",
     "text": [
      "Trying to call OpenAI API...\n"
     ]
    },
    {
     "name": "stderr",
     "output_type": "stream",
     "text": [
      "Processing dataset:  28%|███████████████████████████████████████████▍                                                                                                               | 14/50 [00:11<00:26,  1.34it/s]"
     ]
    },
    {
     "name": "stdout",
     "output_type": "stream",
     "text": [
      "Trying to call OpenAI API...\n"
     ]
    },
    {
     "name": "stderr",
     "output_type": "stream",
     "text": [
      "Processing dataset:  30%|██████████████████████████████████████████████▌                                                                                                            | 15/50 [00:12<00:28,  1.25it/s]"
     ]
    },
    {
     "name": "stdout",
     "output_type": "stream",
     "text": [
      "Trying to call OpenAI API...\n"
     ]
    },
    {
     "name": "stderr",
     "output_type": "stream",
     "text": [
      "Processing dataset:  32%|█████████████████████████████████████████████████▌                                                                                                         | 16/50 [00:12<00:26,  1.27it/s]"
     ]
    },
    {
     "name": "stdout",
     "output_type": "stream",
     "text": [
      "Trying to call OpenAI API...\n"
     ]
    },
    {
     "name": "stderr",
     "output_type": "stream",
     "text": [
      "Processing dataset:  34%|████████████████████████████████████████████████████▋                                                                                                      | 17/50 [00:13<00:24,  1.35it/s]"
     ]
    },
    {
     "name": "stdout",
     "output_type": "stream",
     "text": [
      "Trying to call OpenAI API...\n"
     ]
    },
    {
     "name": "stderr",
     "output_type": "stream",
     "text": [
      "Processing dataset:  36%|███████████████████████████████████████████████████████▊                                                                                                   | 18/50 [00:14<00:21,  1.46it/s]"
     ]
    },
    {
     "name": "stdout",
     "output_type": "stream",
     "text": [
      "Trying to call OpenAI API...\n"
     ]
    },
    {
     "name": "stderr",
     "output_type": "stream",
     "text": [
      "Processing dataset:  38%|██████████████████████████████████████████████████████████▉                                                                                                | 19/50 [00:14<00:20,  1.50it/s]"
     ]
    },
    {
     "name": "stdout",
     "output_type": "stream",
     "text": [
      "Trying to call OpenAI API...\n"
     ]
    },
    {
     "name": "stderr",
     "output_type": "stream",
     "text": [
      "Processing dataset:  40%|██████████████████████████████████████████████████████████████                                                                                             | 20/50 [00:15<00:23,  1.27it/s]"
     ]
    },
    {
     "name": "stdout",
     "output_type": "stream",
     "text": [
      "Trying to call OpenAI API...\n"
     ]
    },
    {
     "name": "stderr",
     "output_type": "stream",
     "text": [
      "Processing dataset:  42%|█████████████████████████████████████████████████████████████████                                                                                          | 21/50 [00:16<00:20,  1.39it/s]"
     ]
    },
    {
     "name": "stdout",
     "output_type": "stream",
     "text": [
      "Trying to call OpenAI API...\n"
     ]
    },
    {
     "name": "stderr",
     "output_type": "stream",
     "text": [
      "Processing dataset:  44%|████████████████████████████████████████████████████████████████████▏                                                                                      | 22/50 [00:17<00:21,  1.33it/s]"
     ]
    },
    {
     "name": "stdout",
     "output_type": "stream",
     "text": [
      "Trying to call OpenAI API...\n"
     ]
    },
    {
     "name": "stderr",
     "output_type": "stream",
     "text": [
      "Processing dataset:  46%|███████████████████████████████████████████████████████████████████████▎                                                                                   | 23/50 [00:17<00:19,  1.41it/s]"
     ]
    },
    {
     "name": "stdout",
     "output_type": "stream",
     "text": [
      "Trying to call OpenAI API...\n"
     ]
    },
    {
     "name": "stderr",
     "output_type": "stream",
     "text": [
      "Processing dataset:  48%|██████████████████████████████████████████████████████████████████████████▍                                                                                | 24/50 [00:18<00:19,  1.35it/s]"
     ]
    },
    {
     "name": "stdout",
     "output_type": "stream",
     "text": [
      "Trying to call OpenAI API...\n"
     ]
    },
    {
     "name": "stderr",
     "output_type": "stream",
     "text": [
      "Processing dataset:  50%|█████████████████████████████████████████████████████████████████████████████▌                                                                             | 25/50 [00:19<00:19,  1.31it/s]"
     ]
    },
    {
     "name": "stdout",
     "output_type": "stream",
     "text": [
      "Trying to call OpenAI API...\n"
     ]
    },
    {
     "name": "stderr",
     "output_type": "stream",
     "text": [
      "Processing dataset:  52%|████████████████████████████████████████████████████████████████████████████████▌                                                                          | 26/50 [00:20<00:18,  1.33it/s]"
     ]
    },
    {
     "name": "stdout",
     "output_type": "stream",
     "text": [
      "Trying to call OpenAI API...\n"
     ]
    },
    {
     "name": "stderr",
     "output_type": "stream",
     "text": [
      "Processing dataset:  54%|███████████████████████████████████████████████████████████████████████████████████▋                                                                       | 27/50 [00:21<00:17,  1.30it/s]"
     ]
    },
    {
     "name": "stdout",
     "output_type": "stream",
     "text": [
      "Trying to call OpenAI API...\n"
     ]
    },
    {
     "name": "stderr",
     "output_type": "stream",
     "text": [
      "Processing dataset:  56%|██████████████████████████████████████████████████████████████████████████████████████▊                                                                    | 28/50 [00:21<00:17,  1.27it/s]"
     ]
    },
    {
     "name": "stdout",
     "output_type": "stream",
     "text": [
      "Trying to call OpenAI API...\n"
     ]
    },
    {
     "name": "stderr",
     "output_type": "stream",
     "text": [
      "Processing dataset:  58%|█████████████████████████████████████████████████████████████████████████████████████████▉                                                                 | 29/50 [00:22<00:17,  1.21it/s]"
     ]
    },
    {
     "name": "stdout",
     "output_type": "stream",
     "text": [
      "Trying to call OpenAI API...\n"
     ]
    },
    {
     "name": "stderr",
     "output_type": "stream",
     "text": [
      "Processing dataset:  60%|█████████████████████████████████████████████████████████████████████████████████████████████                                                              | 30/50 [00:23<00:15,  1.31it/s]"
     ]
    },
    {
     "name": "stdout",
     "output_type": "stream",
     "text": [
      "Trying to call OpenAI API...\n"
     ]
    },
    {
     "name": "stderr",
     "output_type": "stream",
     "text": [
      "Processing dataset:  62%|████████████████████████████████████████████████████████████████████████████████████████████████                                                           | 31/50 [00:24<00:15,  1.19it/s]"
     ]
    },
    {
     "name": "stdout",
     "output_type": "stream",
     "text": [
      "Trying to call OpenAI API...\n"
     ]
    },
    {
     "name": "stderr",
     "output_type": "stream",
     "text": [
      "Processing dataset:  64%|███████████████████████████████████████████████████████████████████████████████████████████████████▏                                                       | 32/50 [00:25<00:14,  1.23it/s]"
     ]
    },
    {
     "name": "stdout",
     "output_type": "stream",
     "text": [
      "Trying to call OpenAI API...\n"
     ]
    },
    {
     "name": "stderr",
     "output_type": "stream",
     "text": [
      "Processing dataset:  66%|██████████████████████████████████████████████████████████████████████████████████████████████████████▎                                                    | 33/50 [00:25<00:13,  1.26it/s]"
     ]
    },
    {
     "name": "stdout",
     "output_type": "stream",
     "text": [
      "Trying to call OpenAI API...\n"
     ]
    },
    {
     "name": "stderr",
     "output_type": "stream",
     "text": [
      "Processing dataset:  68%|█████████████████████████████████████████████████████████████████████████████████████████████████████████▍                                                 | 34/50 [00:26<00:11,  1.39it/s]"
     ]
    },
    {
     "name": "stdout",
     "output_type": "stream",
     "text": [
      "Trying to call OpenAI API...\n"
     ]
    },
    {
     "name": "stderr",
     "output_type": "stream",
     "text": [
      "Processing dataset:  70%|████████████████████████████████████████████████████████████████████████████████████████████████████████████▌                                              | 35/50 [00:27<00:12,  1.19it/s]"
     ]
    },
    {
     "name": "stdout",
     "output_type": "stream",
     "text": [
      "Trying to call OpenAI API...\n"
     ]
    },
    {
     "name": "stderr",
     "output_type": "stream",
     "text": [
      "Processing dataset:  72%|███████████████████████████████████████████████████████████████████████████████████████████████████████████████▌                                           | 36/50 [00:28<00:11,  1.24it/s]"
     ]
    },
    {
     "name": "stdout",
     "output_type": "stream",
     "text": [
      "Trying to call OpenAI API...\n"
     ]
    },
    {
     "name": "stderr",
     "output_type": "stream",
     "text": [
      "Processing dataset:  74%|██████████████████████████████████████████████████████████████████████████████████████████████████████████████████▋                                        | 37/50 [00:29<00:10,  1.28it/s]"
     ]
    },
    {
     "name": "stdout",
     "output_type": "stream",
     "text": [
      "Trying to call OpenAI API...\n"
     ]
    },
    {
     "name": "stderr",
     "output_type": "stream",
     "text": [
      "Processing dataset:  76%|█████████████████████████████████████████████████████████████████████████████████████████████████████████████████████▊                                     | 38/50 [00:30<00:11,  1.06it/s]"
     ]
    },
    {
     "name": "stdout",
     "output_type": "stream",
     "text": [
      "Trying to call OpenAI API...\n"
     ]
    },
    {
     "name": "stderr",
     "output_type": "stream",
     "text": [
      "Processing dataset:  78%|████████████████████████████████████████████████████████████████████████████████████████████████████████████████████████▉                                  | 39/50 [00:31<00:09,  1.14it/s]"
     ]
    },
    {
     "name": "stdout",
     "output_type": "stream",
     "text": [
      "Trying to call OpenAI API...\n"
     ]
    },
    {
     "name": "stderr",
     "output_type": "stream",
     "text": [
      "Processing dataset:  80%|████████████████████████████████████████████████████████████████████████████████████████████████████████████████████████████                               | 40/50 [00:31<00:08,  1.21it/s]"
     ]
    },
    {
     "name": "stdout",
     "output_type": "stream",
     "text": [
      "Trying to call OpenAI API...\n"
     ]
    },
    {
     "name": "stderr",
     "output_type": "stream",
     "text": [
      "Processing dataset:  82%|███████████████████████████████████████████████████████████████████████████████████████████████████████████████████████████████                            | 41/50 [00:32<00:07,  1.26it/s]"
     ]
    },
    {
     "name": "stdout",
     "output_type": "stream",
     "text": [
      "Trying to call OpenAI API...\n"
     ]
    },
    {
     "name": "stderr",
     "output_type": "stream",
     "text": [
      "Processing dataset:  84%|██████████████████████████████████████████████████████████████████████████████████████████████████████████████████████████████████▏                        | 42/50 [00:33<00:06,  1.30it/s]"
     ]
    },
    {
     "name": "stdout",
     "output_type": "stream",
     "text": [
      "Trying to call OpenAI API...\n"
     ]
    },
    {
     "name": "stderr",
     "output_type": "stream",
     "text": [
      "Processing dataset:  86%|█████████████████████████████████████████████████████████████████████████████████████████████████████████████████████████████████████▎                     | 43/50 [00:34<00:05,  1.27it/s]"
     ]
    },
    {
     "name": "stdout",
     "output_type": "stream",
     "text": [
      "Trying to call OpenAI API...\n"
     ]
    },
    {
     "name": "stderr",
     "output_type": "stream",
     "text": [
      "Processing dataset:  88%|████████████████████████████████████████████████████████████████████████████████████████████████████████████████████████████████████████▍                  | 44/50 [00:34<00:04,  1.36it/s]"
     ]
    },
    {
     "name": "stdout",
     "output_type": "stream",
     "text": [
      "Trying to call OpenAI API...\n"
     ]
    },
    {
     "name": "stderr",
     "output_type": "stream",
     "text": [
      "Processing dataset:  90%|███████████████████████████████████████████████████████████████████████████████████████████████████████████████████████████████████████████▌               | 45/50 [00:35<00:03,  1.32it/s]"
     ]
    },
    {
     "name": "stdout",
     "output_type": "stream",
     "text": [
      "Trying to call OpenAI API...\n"
     ]
    },
    {
     "name": "stderr",
     "output_type": "stream",
     "text": [
      "Processing dataset:  92%|██████████████████████████████████████████████████████████████████████████████████████████████████████████████████████████████████████████████▌            | 46/50 [00:36<00:03,  1.24it/s]"
     ]
    },
    {
     "name": "stdout",
     "output_type": "stream",
     "text": [
      "Trying to call OpenAI API...\n"
     ]
    },
    {
     "name": "stderr",
     "output_type": "stream",
     "text": [
      "Processing dataset:  94%|█████████████████████████████████████████████████████████████████████████████████████████████████████████████████████████████████████████████████▋         | 47/50 [00:37<00:02,  1.19it/s]"
     ]
    },
    {
     "name": "stdout",
     "output_type": "stream",
     "text": [
      "Trying to call OpenAI API...\n"
     ]
    },
    {
     "name": "stderr",
     "output_type": "stream",
     "text": [
      "Processing dataset:  96%|████████████████████████████████████████████████████████████████████████████████████████████████████████████████████████████████████████████████████▊      | 48/50 [00:38<00:01,  1.17it/s]"
     ]
    },
    {
     "name": "stdout",
     "output_type": "stream",
     "text": [
      "Trying to call OpenAI API...\n"
     ]
    },
    {
     "name": "stderr",
     "output_type": "stream",
     "text": [
      "Processing dataset:  98%|███████████████████████████████████████████████████████████████████████████████████████████████████████████████████████████████████████████████████████▉   | 49/50 [00:38<00:00,  1.26it/s]"
     ]
    },
    {
     "name": "stdout",
     "output_type": "stream",
     "text": [
      "Trying to call OpenAI API...\n"
     ]
    },
    {
     "name": "stderr",
     "output_type": "stream",
     "text": [
      "Processing dataset: 100%|███████████████████████████████████████████████████████████████████████████████████████████████████████████████████████████████████████████████████████████| 50/50 [00:39<00:00,  1.27it/s]"
     ]
    },
    {
     "name": "stdout",
     "output_type": "stream",
     "text": [
      "Skipping prompt P5\n"
     ]
    },
    {
     "name": "stderr",
     "output_type": "stream",
     "text": [
      "\n"
     ]
    }
   ],
   "source": [
    "prompt_ids_to_test = [\"P1\", \"P2\", \"P3\", \"P4\"]\n",
    "model = \"gpt-3.5-turbo\"\n",
    "\n",
    "for prompt in prompts_data[\"prompts\"]:\n",
    "    prompt_id = prompt[\"id\"]\n",
    "    prompt_text = prompt[\"text\"]\n",
    "\n",
    "    if prompt_id in prompt_ids_to_test:\n",
    "        # Apply GPT predictions\n",
    "        sampled_df[f'gpt_predictions_{prompt_id}'] = apply_gpt_with_progress(sampled_df['abstract'], prompt_text, model)\n",
    "        sampled_df[f'gpt_predictions_{prompt_id}'] = sampled_df[f'gpt_predictions_{prompt_id}'].apply(lambda x: json.loads(x)['gpt_label'])\n",
    "        sampled_df.to_csv(f\"predictions/{model}_outputs_{'_'.join(prompt_ids_to_test)}.csv\") # saving after each prompt strategy has been run, in order not to loose information in case a later strategy fails\n",
    "    else:\n",
    "        print(f\"Skipping prompt {prompt_id}\")\n",
    "        "
   ]
  },
  {
   "cell_type": "code",
   "execution_count": 169,
   "id": "86a3d121-24d6-418c-abbd-406cbb9c3ce9",
   "metadata": {},
   "outputs": [
    {
     "data": {
      "text/html": [
       "<div>\n",
       "<style scoped>\n",
       "    .dataframe tbody tr th:only-of-type {\n",
       "        vertical-align: middle;\n",
       "    }\n",
       "\n",
       "    .dataframe tbody tr th {\n",
       "        vertical-align: top;\n",
       "    }\n",
       "\n",
       "    .dataframe thead th {\n",
       "        text-align: right;\n",
       "    }\n",
       "</style>\n",
       "<table border=\"1\" class=\"dataframe\">\n",
       "  <thead>\n",
       "    <tr style=\"text-align: right;\">\n",
       "      <th></th>\n",
       "      <th>pmid</th>\n",
       "      <th>journal_name</th>\n",
       "      <th>title</th>\n",
       "      <th>abstract</th>\n",
       "      <th>accepted_label</th>\n",
       "      <th>gpt_predictions_P1</th>\n",
       "      <th>gpt_predictions_P2</th>\n",
       "      <th>gpt_predictions_P3</th>\n",
       "      <th>gpt_predictions_P4</th>\n",
       "      <th>accepted_label_numerical</th>\n",
       "      <th>gpt_predictions_P1_numerical</th>\n",
       "    </tr>\n",
       "  </thead>\n",
       "  <tbody>\n",
       "    <tr>\n",
       "      <th>304</th>\n",
       "      <td>12905582</td>\n",
       "      <td>Fa yi xue za zhi</td>\n",
       "      <td>[The research of the heroin and its metabolite...</td>\n",
       "      <td>Heroin can be metabolized easily in body and t...</td>\n",
       "      <td>Remaining</td>\n",
       "      <td>Remaining</td>\n",
       "      <td>Human-case-report</td>\n",
       "      <td>Human-case-report</td>\n",
       "      <td>Remaining</td>\n",
       "      <td>14</td>\n",
       "      <td>14</td>\n",
       "    </tr>\n",
       "    <tr>\n",
       "      <th>340</th>\n",
       "      <td>28645717</td>\n",
       "      <td>Vaccine</td>\n",
       "      <td>Surveillance of pneumococcal colonization and ...</td>\n",
       "      <td>Following the introduction of pneumococcal con...</td>\n",
       "      <td>Human-non-RCT-drug-intervention</td>\n",
       "      <td>Human-systematic-review</td>\n",
       "      <td>Human-systematic-review</td>\n",
       "      <td>Human-systematic-review</td>\n",
       "      <td>Human, systematic review</td>\n",
       "      <td>5</td>\n",
       "      <td>0</td>\n",
       "    </tr>\n",
       "    <tr>\n",
       "      <th>47</th>\n",
       "      <td>11482695</td>\n",
       "      <td>Acta neurochirurgica</td>\n",
       "      <td>Carotid endarterectomy: a new technique replac...</td>\n",
       "      <td>Carotid endarterectomy has been reported to in...</td>\n",
       "      <td>Human-non-RCT-non-drug-intervention</td>\n",
       "      <td>Human-case-report</td>\n",
       "      <td>Human-case-report</td>\n",
       "      <td>Human-case-report</td>\n",
       "      <td>Non-RCT non-drug-intervention</td>\n",
       "      <td>6</td>\n",
       "      <td>4</td>\n",
       "    </tr>\n",
       "    <tr>\n",
       "      <th>67</th>\n",
       "      <td>15065953</td>\n",
       "      <td>Journal of consulting and clinical psychology</td>\n",
       "      <td>Traditional versus integrative behavioral coup...</td>\n",
       "      <td>A randomized clinical trial compared the effec...</td>\n",
       "      <td>Human-RCT-non-drug-intervention</td>\n",
       "      <td>Human-RCT-non-drug-intervention</td>\n",
       "      <td>Human-RCT-non-drug-intervention</td>\n",
       "      <td>Human-RCT-non-drug-intervention</td>\n",
       "      <td>Human, RCT non-drug-intervention</td>\n",
       "      <td>2</td>\n",
       "      <td>2</td>\n",
       "    </tr>\n",
       "    <tr>\n",
       "      <th>479</th>\n",
       "      <td>9578881</td>\n",
       "      <td>The Journal of laryngology and otology</td>\n",
       "      <td>Vocal fold abductor paralysis as a solitary an...</td>\n",
       "      <td>A patient is presented who had bilateral abduc...</td>\n",
       "      <td>Remaining</td>\n",
       "      <td>Human-case-report</td>\n",
       "      <td>Human-case-report</td>\n",
       "      <td>Human-case-report</td>\n",
       "      <td>Case report</td>\n",
       "      <td>14</td>\n",
       "      <td>4</td>\n",
       "    </tr>\n",
       "  </tbody>\n",
       "</table>\n",
       "</div>"
      ],
      "text/plain": [
       "         pmid                                   journal_name  \\\n",
       "304  12905582                               Fa yi xue za zhi   \n",
       "340  28645717                                        Vaccine   \n",
       "47   11482695                           Acta neurochirurgica   \n",
       "67   15065953  Journal of consulting and clinical psychology   \n",
       "479   9578881         The Journal of laryngology and otology   \n",
       "\n",
       "                                                 title  \\\n",
       "304  [The research of the heroin and its metabolite...   \n",
       "340  Surveillance of pneumococcal colonization and ...   \n",
       "47   Carotid endarterectomy: a new technique replac...   \n",
       "67   Traditional versus integrative behavioral coup...   \n",
       "479  Vocal fold abductor paralysis as a solitary an...   \n",
       "\n",
       "                                              abstract  \\\n",
       "304  Heroin can be metabolized easily in body and t...   \n",
       "340  Following the introduction of pneumococcal con...   \n",
       "47   Carotid endarterectomy has been reported to in...   \n",
       "67   A randomized clinical trial compared the effec...   \n",
       "479  A patient is presented who had bilateral abduc...   \n",
       "\n",
       "                          accepted_label               gpt_predictions_P1  \\\n",
       "304                            Remaining                        Remaining   \n",
       "340      Human-non-RCT-drug-intervention          Human-systematic-review   \n",
       "47   Human-non-RCT-non-drug-intervention                Human-case-report   \n",
       "67       Human-RCT-non-drug-intervention  Human-RCT-non-drug-intervention   \n",
       "479                            Remaining                Human-case-report   \n",
       "\n",
       "                  gpt_predictions_P2               gpt_predictions_P3  \\\n",
       "304                Human-case-report                Human-case-report   \n",
       "340          Human-systematic-review          Human-systematic-review   \n",
       "47                 Human-case-report                Human-case-report   \n",
       "67   Human-RCT-non-drug-intervention  Human-RCT-non-drug-intervention   \n",
       "479                Human-case-report                Human-case-report   \n",
       "\n",
       "                   gpt_predictions_P4  accepted_label_numerical  \\\n",
       "304                         Remaining                        14   \n",
       "340          Human, systematic review                         5   \n",
       "47      Non-RCT non-drug-intervention                         6   \n",
       "67   Human, RCT non-drug-intervention                         2   \n",
       "479                       Case report                        14   \n",
       "\n",
       "     gpt_predictions_P1_numerical  \n",
       "304                            14  \n",
       "340                             0  \n",
       "47                              4  \n",
       "67                              2  \n",
       "479                             4  "
      ]
     },
     "execution_count": 169,
     "metadata": {},
     "output_type": "execute_result"
    }
   ],
   "source": [
    "sampled_df.head()"
   ]
  },
  {
   "cell_type": "code",
   "execution_count": 161,
   "id": "0e5c14d1-16ee-4184-90ae-57afb179a891",
   "metadata": {},
   "outputs": [],
   "source": [
    "import pandas as pd\n",
    "from sklearn.metrics import accuracy_score, balanced_accuracy_score, classification_report\n",
    "import numpy as np"
   ]
  },
  {
   "cell_type": "code",
   "execution_count": 164,
   "id": "e6107bc4-44a4-4662-863c-2d8e5d26c457",
   "metadata": {},
   "outputs": [
    {
     "data": {
      "text/html": [
       "<div>\n",
       "<style scoped>\n",
       "    .dataframe tbody tr th:only-of-type {\n",
       "        vertical-align: middle;\n",
       "    }\n",
       "\n",
       "    .dataframe tbody tr th {\n",
       "        vertical-align: top;\n",
       "    }\n",
       "\n",
       "    .dataframe thead th {\n",
       "        text-align: right;\n",
       "    }\n",
       "</style>\n",
       "<table border=\"1\" class=\"dataframe\">\n",
       "  <thead>\n",
       "    <tr style=\"text-align: right;\">\n",
       "      <th></th>\n",
       "      <th>pmid</th>\n",
       "      <th>journal_name</th>\n",
       "      <th>title</th>\n",
       "      <th>abstract</th>\n",
       "      <th>accepted_label</th>\n",
       "      <th>gpt_predictions_P1</th>\n",
       "      <th>gpt_predictions_P2</th>\n",
       "      <th>gpt_predictions_P3</th>\n",
       "      <th>gpt_predictions_P4</th>\n",
       "      <th>accepted_label_numerical</th>\n",
       "      <th>gpt_predictions_P1_numerical</th>\n",
       "    </tr>\n",
       "  </thead>\n",
       "  <tbody>\n",
       "    <tr>\n",
       "      <th>304</th>\n",
       "      <td>12905582</td>\n",
       "      <td>Fa yi xue za zhi</td>\n",
       "      <td>[The research of the heroin and its metabolite...</td>\n",
       "      <td>Heroin can be metabolized easily in body and t...</td>\n",
       "      <td>Remaining</td>\n",
       "      <td>Remaining</td>\n",
       "      <td>Human-case-report</td>\n",
       "      <td>Human-case-report</td>\n",
       "      <td>Remaining</td>\n",
       "      <td>14</td>\n",
       "      <td>14</td>\n",
       "    </tr>\n",
       "    <tr>\n",
       "      <th>340</th>\n",
       "      <td>28645717</td>\n",
       "      <td>Vaccine</td>\n",
       "      <td>Surveillance of pneumococcal colonization and ...</td>\n",
       "      <td>Following the introduction of pneumococcal con...</td>\n",
       "      <td>Human-non-RCT-drug-intervention</td>\n",
       "      <td>Human-systematic-review</td>\n",
       "      <td>Human-systematic-review</td>\n",
       "      <td>Human-systematic-review</td>\n",
       "      <td>Human, systematic review</td>\n",
       "      <td>5</td>\n",
       "      <td>0</td>\n",
       "    </tr>\n",
       "    <tr>\n",
       "      <th>47</th>\n",
       "      <td>11482695</td>\n",
       "      <td>Acta neurochirurgica</td>\n",
       "      <td>Carotid endarterectomy: a new technique replac...</td>\n",
       "      <td>Carotid endarterectomy has been reported to in...</td>\n",
       "      <td>Human-non-RCT-non-drug-intervention</td>\n",
       "      <td>Human-case-report</td>\n",
       "      <td>Human-case-report</td>\n",
       "      <td>Human-case-report</td>\n",
       "      <td>Non-RCT non-drug-intervention</td>\n",
       "      <td>6</td>\n",
       "      <td>4</td>\n",
       "    </tr>\n",
       "    <tr>\n",
       "      <th>67</th>\n",
       "      <td>15065953</td>\n",
       "      <td>Journal of consulting and clinical psychology</td>\n",
       "      <td>Traditional versus integrative behavioral coup...</td>\n",
       "      <td>A randomized clinical trial compared the effec...</td>\n",
       "      <td>Human-RCT-non-drug-intervention</td>\n",
       "      <td>Human-RCT-non-drug-intervention</td>\n",
       "      <td>Human-RCT-non-drug-intervention</td>\n",
       "      <td>Human-RCT-non-drug-intervention</td>\n",
       "      <td>Human, RCT non-drug-intervention</td>\n",
       "      <td>2</td>\n",
       "      <td>2</td>\n",
       "    </tr>\n",
       "    <tr>\n",
       "      <th>479</th>\n",
       "      <td>9578881</td>\n",
       "      <td>The Journal of laryngology and otology</td>\n",
       "      <td>Vocal fold abductor paralysis as a solitary an...</td>\n",
       "      <td>A patient is presented who had bilateral abduc...</td>\n",
       "      <td>Remaining</td>\n",
       "      <td>Human-case-report</td>\n",
       "      <td>Human-case-report</td>\n",
       "      <td>Human-case-report</td>\n",
       "      <td>Case report</td>\n",
       "      <td>14</td>\n",
       "      <td>4</td>\n",
       "    </tr>\n",
       "  </tbody>\n",
       "</table>\n",
       "</div>"
      ],
      "text/plain": [
       "         pmid                                   journal_name  \\\n",
       "304  12905582                               Fa yi xue za zhi   \n",
       "340  28645717                                        Vaccine   \n",
       "47   11482695                           Acta neurochirurgica   \n",
       "67   15065953  Journal of consulting and clinical psychology   \n",
       "479   9578881         The Journal of laryngology and otology   \n",
       "\n",
       "                                                 title  \\\n",
       "304  [The research of the heroin and its metabolite...   \n",
       "340  Surveillance of pneumococcal colonization and ...   \n",
       "47   Carotid endarterectomy: a new technique replac...   \n",
       "67   Traditional versus integrative behavioral coup...   \n",
       "479  Vocal fold abductor paralysis as a solitary an...   \n",
       "\n",
       "                                              abstract  \\\n",
       "304  Heroin can be metabolized easily in body and t...   \n",
       "340  Following the introduction of pneumococcal con...   \n",
       "47   Carotid endarterectomy has been reported to in...   \n",
       "67   A randomized clinical trial compared the effec...   \n",
       "479  A patient is presented who had bilateral abduc...   \n",
       "\n",
       "                          accepted_label               gpt_predictions_P1  \\\n",
       "304                            Remaining                        Remaining   \n",
       "340      Human-non-RCT-drug-intervention          Human-systematic-review   \n",
       "47   Human-non-RCT-non-drug-intervention                Human-case-report   \n",
       "67       Human-RCT-non-drug-intervention  Human-RCT-non-drug-intervention   \n",
       "479                            Remaining                Human-case-report   \n",
       "\n",
       "                  gpt_predictions_P2               gpt_predictions_P3  \\\n",
       "304                Human-case-report                Human-case-report   \n",
       "340          Human-systematic-review          Human-systematic-review   \n",
       "47                 Human-case-report                Human-case-report   \n",
       "67   Human-RCT-non-drug-intervention  Human-RCT-non-drug-intervention   \n",
       "479                Human-case-report                Human-case-report   \n",
       "\n",
       "                   gpt_predictions_P4  accepted_label_numerical  \\\n",
       "304                         Remaining                        14   \n",
       "340          Human, systematic review                         5   \n",
       "47      Non-RCT non-drug-intervention                         6   \n",
       "67   Human, RCT non-drug-intervention                         2   \n",
       "479                       Case report                        14   \n",
       "\n",
       "     gpt_predictions_P1_numerical  \n",
       "304                            14  \n",
       "340                             0  \n",
       "47                              4  \n",
       "67                              2  \n",
       "479                             4  "
      ]
     },
     "execution_count": 164,
     "metadata": {},
     "output_type": "execute_result"
    }
   ],
   "source": [
    "sampled_df.head(5)"
   ]
  },
  {
   "cell_type": "markdown",
   "id": "fbde6b31-1d28-4a33-afef-729531690a77",
   "metadata": {},
   "source": [
    "## Evaluate each prompt"
   ]
  },
  {
   "cell_type": "code",
   "execution_count": 170,
   "id": "c998614a-10db-42cd-95f3-89973dcd9671",
   "metadata": {},
   "outputs": [
    {
     "name": "stdout",
     "output_type": "stream",
     "text": [
      "Evaluating  P1\n",
      "Evaluating  P2\n",
      "Evaluating  P3\n",
      "Evaluating  P4\n"
     ]
    },
    {
     "name": "stderr",
     "output_type": "stream",
     "text": [
      "/opt/anaconda3/lib/python3.11/site-packages/sklearn/metrics/_classification.py:2184: UserWarning: y_pred contains classes not in y_true\n",
      "  warnings.warn(\"y_pred contains classes not in y_true\")\n",
      "/opt/anaconda3/lib/python3.11/site-packages/sklearn/metrics/_classification.py:2184: UserWarning: y_pred contains classes not in y_true\n",
      "  warnings.warn(\"y_pred contains classes not in y_true\")\n",
      "/opt/anaconda3/lib/python3.11/site-packages/sklearn/metrics/_classification.py:2184: UserWarning: y_pred contains classes not in y_true\n",
      "  warnings.warn(\"y_pred contains classes not in y_true\")\n"
     ]
    }
   ],
   "source": [
    "def map_label_to_numerical(label):\n",
    "    # Check if label is a dictionary\n",
    "    if isinstance(label, dict):\n",
    "        # Extract the label with the highest score/probability\n",
    "        highest_label = max(label, key=label.get)\n",
    "        return label_to_numerical.get(highest_label, -1)\n",
    "    else:\n",
    "        # Directly map string labels to numerical IDs\n",
    "        return label_to_numerical.get(label, -1)\n",
    "        \n",
    "# Convert accepted labels to numerical\n",
    "sampled_df['accepted_label_numerical'] = sampled_df['accepted_label'].apply(lambda x: label_to_numerical.get(x, -1))\n",
    "\n",
    "# Initialize a list to hold DataFrame for each report and summary statistics\n",
    "report_dfs = []\n",
    "summary_stats = []\n",
    "\n",
    "# Iterate over each GPT prediction column\n",
    "for prompt_id in prompt_ids_to_test:\n",
    "    print(\"Evaluating \", prompt_id)\n",
    "    prediction_col = f'gpt_predictions_{prompt_id}'\n",
    "    \n",
    "    # Map GPT predictions to numerical values\n",
    "    sampled_df[f'{prediction_col}_numerical'] = sampled_df[prediction_col].apply(map_label_to_numerical)\n",
    "    \n",
    "    # Extract arrays for evaluation\n",
    "    y_true = sampled_df['accepted_label_numerical'].values\n",
    "    y_pred = sampled_df[f'{prediction_col}_numerical'].values\n",
    "    \n",
    "    # Calculate metrics\n",
    "    accuracy = accuracy_score(y_true, y_pred)\n",
    "    accuracy_balanced = balanced_accuracy_score(y_true, y_pred)\n",
    "    report = classification_report(y_true, y_pred, output_dict=True, zero_division=0, labels=range(len(labels)), target_names=labels)\n",
    "    \n",
    "    # Create DataFrame from report\n",
    "    report_df = pd.DataFrame(report).transpose()\n",
    "    report_df['Prompt ID'] = prompt_id  # Add column to indicate the prompt ID\n",
    "    report_dfs.append(report_df)\n",
    "    \n",
    "    # Extract summary statistics (average precision, recall, F1)\n",
    "    summary = report_df.loc['weighted avg', ['precision', 'recall', 'f1-score']].to_dict()\n",
    "    summary['Prompt ID'] = prompt_id\n",
    "    summary_stats.append(summary)\n",
    "\n",
    "# Combine all report DataFrames\n",
    "all_reports_df = pd.concat(report_dfs)\n",
    "\n",
    "# Create a summary table for average precision, recall, and F1-score\n",
    "summary_df = pd.DataFrame(summary_stats)"
   ]
  },
  {
   "cell_type": "code",
   "execution_count": 171,
   "id": "882459cd-4aaf-432c-b6b4-63024f1e4d6c",
   "metadata": {},
   "outputs": [
    {
     "data": {
      "text/html": [
       "<div>\n",
       "<style scoped>\n",
       "    .dataframe tbody tr th:only-of-type {\n",
       "        vertical-align: middle;\n",
       "    }\n",
       "\n",
       "    .dataframe tbody tr th {\n",
       "        vertical-align: top;\n",
       "    }\n",
       "\n",
       "    .dataframe thead th {\n",
       "        text-align: right;\n",
       "    }\n",
       "</style>\n",
       "<table border=\"1\" class=\"dataframe\">\n",
       "  <thead>\n",
       "    <tr style=\"text-align: right;\">\n",
       "      <th></th>\n",
       "      <th>precision</th>\n",
       "      <th>recall</th>\n",
       "      <th>f1-score</th>\n",
       "      <th>Prompt ID</th>\n",
       "    </tr>\n",
       "  </thead>\n",
       "  <tbody>\n",
       "    <tr>\n",
       "      <th>0</th>\n",
       "      <td>0.599318</td>\n",
       "      <td>0.195652</td>\n",
       "      <td>0.117005</td>\n",
       "      <td>P1</td>\n",
       "    </tr>\n",
       "    <tr>\n",
       "      <th>1</th>\n",
       "      <td>0.102083</td>\n",
       "      <td>0.173913</td>\n",
       "      <td>0.101286</td>\n",
       "      <td>P2</td>\n",
       "    </tr>\n",
       "    <tr>\n",
       "      <th>2</th>\n",
       "      <td>0.074433</td>\n",
       "      <td>0.152174</td>\n",
       "      <td>0.074589</td>\n",
       "      <td>P3</td>\n",
       "    </tr>\n",
       "    <tr>\n",
       "      <th>3</th>\n",
       "      <td>0.543478</td>\n",
       "      <td>0.108696</td>\n",
       "      <td>0.181159</td>\n",
       "      <td>P4</td>\n",
       "    </tr>\n",
       "  </tbody>\n",
       "</table>\n",
       "</div>"
      ],
      "text/plain": [
       "   precision    recall  f1-score Prompt ID\n",
       "0   0.599318  0.195652  0.117005        P1\n",
       "1   0.102083  0.173913  0.101286        P2\n",
       "2   0.074433  0.152174  0.074589        P3\n",
       "3   0.543478  0.108696  0.181159        P4"
      ]
     },
     "execution_count": 171,
     "metadata": {},
     "output_type": "execute_result"
    }
   ],
   "source": [
    "summary_df"
   ]
  },
  {
   "cell_type": "code",
   "execution_count": 173,
   "id": "9a7e2026-67a0-42cd-a994-561f39d07154",
   "metadata": {},
   "outputs": [],
   "source": [
    "all_reports_df.to_csv(f\"evaluations/{model}_per_class_{'_'.join(prompt_ids_to_test)}.csv\") # saving after each prompt strategy has been run, in order not to loose information in case a later strategy fails\n",
    "summary_df.to_csv(f\"evaluations/{model}_summary_{'_'.join(prompt_ids_to_test)}.csv\") # saving after each prompt strategy has been run, in order not to loose information in case a later strategy fails\n"
   ]
  },
  {
   "cell_type": "code",
   "execution_count": 172,
   "id": "b0d3726f-e071-4aa5-b6d6-bd47fbc6c732",
   "metadata": {},
   "outputs": [
    {
     "data": {
      "text/html": [
       "<div>\n",
       "<style scoped>\n",
       "    .dataframe tbody tr th:only-of-type {\n",
       "        vertical-align: middle;\n",
       "    }\n",
       "\n",
       "    .dataframe tbody tr th {\n",
       "        vertical-align: top;\n",
       "    }\n",
       "\n",
       "    .dataframe thead th {\n",
       "        text-align: right;\n",
       "    }\n",
       "</style>\n",
       "<table border=\"1\" class=\"dataframe\">\n",
       "  <thead>\n",
       "    <tr style=\"text-align: right;\">\n",
       "      <th></th>\n",
       "      <th>precision</th>\n",
       "      <th>recall</th>\n",
       "      <th>f1-score</th>\n",
       "      <th>support</th>\n",
       "      <th>Prompt ID</th>\n",
       "    </tr>\n",
       "  </thead>\n",
       "  <tbody>\n",
       "    <tr>\n",
       "      <th>Human-systematic-review</th>\n",
       "      <td>0.117647</td>\n",
       "      <td>1.000000</td>\n",
       "      <td>0.210526</td>\n",
       "      <td>2.0</td>\n",
       "      <td>P1</td>\n",
       "    </tr>\n",
       "    <tr>\n",
       "      <th>Human-RCT-drug-intervention</th>\n",
       "      <td>0.000000</td>\n",
       "      <td>0.000000</td>\n",
       "      <td>0.000000</td>\n",
       "      <td>0.0</td>\n",
       "      <td>P1</td>\n",
       "    </tr>\n",
       "    <tr>\n",
       "      <th>Human-RCT-non-drug-intervention</th>\n",
       "      <td>1.000000</td>\n",
       "      <td>1.000000</td>\n",
       "      <td>1.000000</td>\n",
       "      <td>1.0</td>\n",
       "      <td>P1</td>\n",
       "    </tr>\n",
       "    <tr>\n",
       "      <th>Human-RCT-non-intervention</th>\n",
       "      <td>0.000000</td>\n",
       "      <td>0.000000</td>\n",
       "      <td>0.000000</td>\n",
       "      <td>0.0</td>\n",
       "      <td>P1</td>\n",
       "    </tr>\n",
       "    <tr>\n",
       "      <th>Human-case-report</th>\n",
       "      <td>0.166667</td>\n",
       "      <td>1.000000</td>\n",
       "      <td>0.285714</td>\n",
       "      <td>2.0</td>\n",
       "      <td>P1</td>\n",
       "    </tr>\n",
       "    <tr>\n",
       "      <th>...</th>\n",
       "      <td>...</td>\n",
       "      <td>...</td>\n",
       "      <td>...</td>\n",
       "      <td>...</td>\n",
       "      <td>...</td>\n",
       "    </tr>\n",
       "    <tr>\n",
       "      <th>Clinical-study-protocol</th>\n",
       "      <td>0.000000</td>\n",
       "      <td>0.000000</td>\n",
       "      <td>0.000000</td>\n",
       "      <td>0.0</td>\n",
       "      <td>P4</td>\n",
       "    </tr>\n",
       "    <tr>\n",
       "      <th>Remaining</th>\n",
       "      <td>1.000000</td>\n",
       "      <td>0.200000</td>\n",
       "      <td>0.333333</td>\n",
       "      <td>25.0</td>\n",
       "      <td>P4</td>\n",
       "    </tr>\n",
       "    <tr>\n",
       "      <th>micro avg</th>\n",
       "      <td>1.000000</td>\n",
       "      <td>0.108696</td>\n",
       "      <td>0.196078</td>\n",
       "      <td>46.0</td>\n",
       "      <td>P4</td>\n",
       "    </tr>\n",
       "    <tr>\n",
       "      <th>macro avg</th>\n",
       "      <td>0.066667</td>\n",
       "      <td>0.013333</td>\n",
       "      <td>0.022222</td>\n",
       "      <td>46.0</td>\n",
       "      <td>P4</td>\n",
       "    </tr>\n",
       "    <tr>\n",
       "      <th>weighted avg</th>\n",
       "      <td>0.543478</td>\n",
       "      <td>0.108696</td>\n",
       "      <td>0.181159</td>\n",
       "      <td>46.0</td>\n",
       "      <td>P4</td>\n",
       "    </tr>\n",
       "  </tbody>\n",
       "</table>\n",
       "<p>72 rows × 5 columns</p>\n",
       "</div>"
      ],
      "text/plain": [
       "                                 precision    recall  f1-score  support  \\\n",
       "Human-systematic-review           0.117647  1.000000  0.210526      2.0   \n",
       "Human-RCT-drug-intervention       0.000000  0.000000  0.000000      0.0   \n",
       "Human-RCT-non-drug-intervention   1.000000  1.000000  1.000000      1.0   \n",
       "Human-RCT-non-intervention        0.000000  0.000000  0.000000      0.0   \n",
       "Human-case-report                 0.166667  1.000000  0.285714      2.0   \n",
       "...                                    ...       ...       ...      ...   \n",
       "Clinical-study-protocol           0.000000  0.000000  0.000000      0.0   \n",
       "Remaining                         1.000000  0.200000  0.333333     25.0   \n",
       "micro avg                         1.000000  0.108696  0.196078     46.0   \n",
       "macro avg                         0.066667  0.013333  0.022222     46.0   \n",
       "weighted avg                      0.543478  0.108696  0.181159     46.0   \n",
       "\n",
       "                                Prompt ID  \n",
       "Human-systematic-review                P1  \n",
       "Human-RCT-drug-intervention            P1  \n",
       "Human-RCT-non-drug-intervention        P1  \n",
       "Human-RCT-non-intervention             P1  \n",
       "Human-case-report                      P1  \n",
       "...                                   ...  \n",
       "Clinical-study-protocol                P4  \n",
       "Remaining                              P4  \n",
       "micro avg                              P4  \n",
       "macro avg                              P4  \n",
       "weighted avg                           P4  \n",
       "\n",
       "[72 rows x 5 columns]"
      ]
     },
     "execution_count": 172,
     "metadata": {},
     "output_type": "execute_result"
    }
   ],
   "source": [
    "all_reports_df"
   ]
  },
  {
   "cell_type": "code",
   "execution_count": null,
   "id": "d5d95236-565b-43ed-8442-8b499c92a955",
   "metadata": {},
   "outputs": [],
   "source": []
  }
 ],
 "metadata": {
  "kernelspec": {
   "display_name": "Python 3 (ipykernel)",
   "language": "python",
   "name": "python3"
  },
  "language_info": {
   "codemirror_mode": {
    "name": "ipython",
    "version": 3
   },
   "file_extension": ".py",
   "mimetype": "text/x-python",
   "name": "python",
   "nbconvert_exporter": "python",
   "pygments_lexer": "ipython3",
   "version": "3.11.7"
  }
 },
 "nbformat": 4,
 "nbformat_minor": 5
}
