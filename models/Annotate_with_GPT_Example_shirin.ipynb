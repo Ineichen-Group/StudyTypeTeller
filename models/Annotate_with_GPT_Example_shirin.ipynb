{
 "cells": [
  {
   "cell_type": "code",
   "execution_count": 1,
   "id": "5292809a-a6bf-45b8-bfd6-1589ee42a7b1",
   "metadata": {},
   "outputs": [],
   "source": [
    "import pandas as pd\n",
    "import openai\n",
    "import json\n",
    "import time\n",
    "import matplotlib.pyplot as plt\n",
    "from tqdm import tqdm  # Import tqdm for the progress bar\n"
   ]
  },
  {
   "cell_type": "code",
   "execution_count": 2,
   "id": "0cc1bdb6-331d-4c67-b2ef-055af90ddfbf",
   "metadata": {},
   "outputs": [],
   "source": [
    "#pip install openai"
   ]
  },
  {
   "cell_type": "code",
   "execution_count": 3,
   "id": "1ffebb73-a46a-4783-99fe-cb5ce0a5508a",
   "metadata": {},
   "outputs": [],
   "source": [
    "from openai import OpenAI"
   ]
  },
  {
   "cell_type": "code",
   "execution_count": 4,
   "id": "4fb4ab9c-6f1e-4989-8e89-0b84993330d2",
   "metadata": {},
   "outputs": [
    {
     "data": {
      "text/plain": [
       "'1.1.1'"
      ]
     },
     "execution_count": 4,
     "metadata": {},
     "output_type": "execute_result"
    }
   ],
   "source": [
    "openai.__version__\n"
   ]
  },
  {
   "cell_type": "markdown",
   "id": "c461bf8d-2acf-4c37-b11d-a638e88b9b65",
   "metadata": {},
   "source": [
    "### Read in data"
   ]
  },
  {
   "cell_type": "code",
   "execution_count": 5,
   "id": "bbe461a0-164b-4201-a93d-12e1df9193bb",
   "metadata": {},
   "outputs": [],
   "source": [
    "# Initialize an empty list to store the parsed data\n",
    "data_list = []\n",
    "\n",
    "# Read the JSONL file line by line\n",
    "with open('../data/prodigy/annotated_output/pilot_500_pubmed_abstracts_shirin_correct_id.jsonl', 'r') as file:\n",
    "    for line in file:\n",
    "        # Parse each line as a JSON object\n",
    "        data = json.loads(line.strip())\n",
    "        \n",
    "        # Check if _view_id is \"choice\"// should be review if this was coming from a review prodigy session\n",
    "        if data.get(\"_view_id\") == \"choice\":\n",
    "            # Split text into journal_name, title, and abstract based on ^\\n symbol\n",
    "            text = data.get(\"text\", \"\")\n",
    "            \n",
    "            # Splitting text based on ^\\n for journal_name, title, and abstract\n",
    "            parts = text.split(\"^\\n\", 2)  # Split into three parts based on first two ^\\n occurrences\n",
    "            \n",
    "            journal_name = parts[0].strip() if len(parts) > 0 else \"\"\n",
    "            title = parts[1].strip() if len(parts) > 1 else \"\"\n",
    "            abstract = parts[2].strip() if len(parts) > 2 else \"\"\n",
    "            \n",
    "            # Extract other required fields\n",
    "            pmid = data.get(\"pmid\", \"\")\n",
    "            accept = data.get(\"accept\", [])\n",
    "            \n",
    "            # Append to the list\n",
    "            data_list.append({\n",
    "                \"pmid\": pmid,\n",
    "                \"journal_name\": journal_name,\n",
    "                \"title\": title,\n",
    "                \"abstract\": abstract,\n",
    "                \"accepted_label\": accept\n",
    "            })\n",
    "\n",
    "# Convert the list of dictionaries to a pandas DataFrame\n",
    "df = pd.DataFrame(data_list)"
   ]
  },
  {
   "cell_type": "code",
   "execution_count": 6,
   "id": "b8623523-3916-4522-9999-18931e017571",
   "metadata": {},
   "outputs": [
    {
     "data": {
      "text/html": [
       "<div>\n",
       "<style scoped>\n",
       "    .dataframe tbody tr th:only-of-type {\n",
       "        vertical-align: middle;\n",
       "    }\n",
       "\n",
       "    .dataframe tbody tr th {\n",
       "        vertical-align: top;\n",
       "    }\n",
       "\n",
       "    .dataframe thead th {\n",
       "        text-align: right;\n",
       "    }\n",
       "</style>\n",
       "<table border=\"1\" class=\"dataframe\">\n",
       "  <thead>\n",
       "    <tr style=\"text-align: right;\">\n",
       "      <th></th>\n",
       "      <th>pmid</th>\n",
       "      <th>journal_name</th>\n",
       "      <th>title</th>\n",
       "      <th>abstract</th>\n",
       "      <th>accepted_label</th>\n",
       "    </tr>\n",
       "  </thead>\n",
       "  <tbody>\n",
       "    <tr>\n",
       "      <th>0</th>\n",
       "      <td>37550718</td>\n",
       "      <td>Trials</td>\n",
       "      <td>Can dexamethasone improve postoperative sleep ...</td>\n",
       "      <td>Perioperative sleep disorders (PSD) are an ind...</td>\n",
       "      <td>[Human-RCT-drug-intervention]</td>\n",
       "    </tr>\n",
       "    <tr>\n",
       "      <th>1</th>\n",
       "      <td>2500373</td>\n",
       "      <td>Developmental medicine and child neurology</td>\n",
       "      <td>Effects of puberty on seizure frequency.</td>\n",
       "      <td>Seizure frequency was documented before, durin...</td>\n",
       "      <td>[Remaining]</td>\n",
       "    </tr>\n",
       "    <tr>\n",
       "      <th>2</th>\n",
       "      <td>36189588</td>\n",
       "      <td>Journal of Alzheimer's disease : JAD</td>\n",
       "      <td>Characterization of Mild Cognitive Impairment ...</td>\n",
       "      <td>Despite tremendous advancements in the field, ...</td>\n",
       "      <td>[Remaining]</td>\n",
       "    </tr>\n",
       "    <tr>\n",
       "      <th>3</th>\n",
       "      <td>36314672</td>\n",
       "      <td>Journal of vector ecology : journal of the Soc...</td>\n",
       "      <td>Effects of woody plant encroachment by eastern...</td>\n",
       "      <td>Woody plant encroachment into grasslands is oc...</td>\n",
       "      <td>[Remaining]</td>\n",
       "    </tr>\n",
       "    <tr>\n",
       "      <th>4</th>\n",
       "      <td>29172241</td>\n",
       "      <td>Depression and anxiety</td>\n",
       "      <td>The impact of resilience and subsequent stress...</td>\n",
       "      <td>There remains a dearth of research examining t...</td>\n",
       "      <td>[Remaining]</td>\n",
       "    </tr>\n",
       "  </tbody>\n",
       "</table>\n",
       "</div>"
      ],
      "text/plain": [
       "       pmid                                       journal_name  \\\n",
       "0  37550718                                             Trials   \n",
       "1   2500373         Developmental medicine and child neurology   \n",
       "2  36189588               Journal of Alzheimer's disease : JAD   \n",
       "3  36314672  Journal of vector ecology : journal of the Soc...   \n",
       "4  29172241                             Depression and anxiety   \n",
       "\n",
       "                                               title  \\\n",
       "0  Can dexamethasone improve postoperative sleep ...   \n",
       "1           Effects of puberty on seizure frequency.   \n",
       "2  Characterization of Mild Cognitive Impairment ...   \n",
       "3  Effects of woody plant encroachment by eastern...   \n",
       "4  The impact of resilience and subsequent stress...   \n",
       "\n",
       "                                            abstract  \\\n",
       "0  Perioperative sleep disorders (PSD) are an ind...   \n",
       "1  Seizure frequency was documented before, durin...   \n",
       "2  Despite tremendous advancements in the field, ...   \n",
       "3  Woody plant encroachment into grasslands is oc...   \n",
       "4  There remains a dearth of research examining t...   \n",
       "\n",
       "                  accepted_label  \n",
       "0  [Human-RCT-drug-intervention]  \n",
       "1                    [Remaining]  \n",
       "2                    [Remaining]  \n",
       "3                    [Remaining]  \n",
       "4                    [Remaining]  "
      ]
     },
     "execution_count": 6,
     "metadata": {},
     "output_type": "execute_result"
    }
   ],
   "source": [
    "df.head(5)"
   ]
  },
  {
   "cell_type": "markdown",
   "id": "e0725592-c308-4ec2-a4d3-a8bc89d11878",
   "metadata": {},
   "source": [
    "### Load key for the OpenAI API "
   ]
  },
  {
   "cell_type": "code",
   "execution_count": 7,
   "id": "5410c439-9e4e-4878-90c0-e8ca1d25c2ef",
   "metadata": {},
   "outputs": [],
   "source": [
    "def load_pass(file_path, key_to_find):\n",
    "    with open(file_path, 'r') as file:\n",
    "        for line in file:\n",
    "            parts = line.strip().split(\"=\")\n",
    "            if len(parts) == 2 and parts[0] == key_to_find:\n",
    "                found_password = parts[1]\n",
    "                break\n",
    "    if found_password:\n",
    "        print(\"Found password.\")\n",
    "        return found_password\n",
    "    else:\n",
    "        print(\"Password not found for key:\", key_to_find)"
   ]
  },
  {
   "cell_type": "markdown",
   "id": "7a5933e6-3cb4-4e37-aa85-51ea968919f8",
   "metadata": {},
   "source": [
    "Note: You need to create a credentials.txt file with the following content:  \n",
    "OPENAI=sk-77QXXXXXXXXXXXXXXXXXXXXXXXXXXX  \n",
    "replace the value after the = sign with your API key.  \n",
    "Make sure the credentials.txt is added to .gitignore, you don't want to put your password on Git!"
   ]
  },
  {
   "cell_type": "code",
   "execution_count": 9,
   "id": "7156eb84-1813-4ae3-8dbc-d4084f66afa3",
   "metadata": {},
   "outputs": [
    {
     "name": "stdout",
     "output_type": "stream",
     "text": [
      "Found password.\n"
     ]
    }
   ],
   "source": [
    "openai.api_key = load_pass(\"./credentials.txt\", \"OPENAI\")\n"
   ]
  },
  {
   "cell_type": "code",
   "execution_count": 10,
   "id": "0c11b84b-e9c2-44df-9c6c-ef084bf261f4",
   "metadata": {},
   "outputs": [],
   "source": [
    "client = OpenAI(api_key=openai.api_key)"
   ]
  },
  {
   "cell_type": "markdown",
   "id": "3ad13134-f6eb-491e-b59b-6a705e820619",
   "metadata": {},
   "source": [
    "### Query GPT models"
   ]
  },
  {
   "cell_type": "markdown",
   "id": "ebd02c0b-d4bc-4f23-aaf8-e125821e7c87",
   "metadata": {},
   "source": [
    "To change the task the model is solving, you need to change the text of the prompt and the content text of the system role.  \n",
    "To change the GPT model used, you need to change the text of the model name when initiating the openai API.  \n",
    "The function gets as input the input_raw_text, that will be text for information extraction or classification."
   ]
  },
  {
   "cell_type": "code",
   "execution_count": 11,
   "id": "3ea3f587-8b26-4b55-a423-cad38eb7bad1",
   "metadata": {},
   "outputs": [],
   "source": [
    "import time\n",
    "\n",
    "DEFAULT_TEMPERATURE = 0\n",
    "DEFAULT_MAX_TOKENS = 500\n",
    "DEFAULT_MODEL = \"gpt-3.5-turbo\"\n",
    "\n",
    "def query_gpt(input_raw_text, prompt_text, gpt_model=\"gpt-3.5-turbo\", temperature=0, max_retries=5, retry_delay=3):\n",
    "    # CHANGE gpt_model to the desired model name, see https://platform.openai.com/docs/models (gpt-3.5-turbo and gpt-4-turbo-preview)\n",
    "    \n",
    "    # Add a delay at the beginning of the function to avoid overloading the API if there are multiple calls\n",
    "    # time.sleep(10)  \n",
    "\n",
    "    system_msg = f\"\"\"\n",
    "    You are an assistant that classifies PubMed abstracts. \n",
    "    \"\"\"\n",
    "\n",
    "    retries = 0\n",
    "    while retries < max_retries:\n",
    "        print(\"Trying to call OpenAI API...\")\n",
    "        try:\n",
    "            completion = client.chat.completions.create(\n",
    "                model=gpt_model,  \n",
    "                response_format={\"type\": \"json_object\"},\n",
    "                temperature=temperature,\n",
    "                #max_tokens=2000,\n",
    "                messages=[\n",
    "                    {\"role\": \"system\", \"content\": system_msg},\n",
    "                    {\"role\": \"user\", \"content\": prompt_text + input_raw_text}\n",
    "                ]\n",
    "            )\n",
    "            return completion.choices[0].message.content\n",
    "        except Exception as e:\n",
    "            # Handle API error, e.g., retry or log\n",
    "            print(f\"OpenAI API returned an error: {e}\")\n",
    "            time.sleep(retry_delay)  # Wait before retrying\n",
    "            retries += 1\n",
    "\n",
    "    raise RuntimeError(\"Max retries reached. Unable to complete the API call.\")\n"
   ]
  },
  {
   "cell_type": "code",
   "execution_count": 12,
   "id": "7a71e4d0-1294-403a-9f88-79315921f2df",
   "metadata": {},
   "outputs": [
    {
     "data": {
      "text/plain": [
       "\"Perioperative sleep disorders (PSD) are an independent risk factor for postoperative delirium (POD), which is a common complication after surgery. Elderly patients who undergo robot-assisted radical prostatectomy (RARP) often experience perioperative sleep disorders (PSD). Dexamethasone, a medication that works by inhibiting the hypothalamic-pituitary-suprarenal cortical axis, can reduce the negative effects of surgical stress. The objective of this study was to determine whether intravenous administration of dexamethasone at the time of anesthesia induction could improve postoperative sleep quality in elderly patients, thereby indirectly reducing the risk of postoperative cognitive impairment and accelerating postoperative rehabilitation.\\tThis study is a randomized, double-blind, placebo-controlled trial that was conducted at a single center. A sample size of 116 patients was determined through calculation, and these patients were randomly assigned to either the dexamethasone group (group D, n\\u2009=\\u200958) or the blank control group (group C, n\\u2009=\\u200958). On the day of surgery, the anesthesia nurse prepared either diluted dexamethasone or saline in advance, according to the patient's assigned group. The blinded anesthesiologist administered the medication during induction, and a dedicated person followed up with the patient for three consecutive postoperative days. All other aspects of care were managed equally between the two groups. The primary outcome measure was sleep quality, while secondary outcome measures included postoperative sleep time, postoperative delirium (POD), pain scores, and other complications. Relevant test measures were recorded for analysis.\\tThis study aims to investigate the impact of intravenous dexamethasone on sleep quality and duration of patients undergoing robot-assisted radical prostatectomy (RARP). If the findings of this study protocol are affirmative, it could enhance the sleep quality of elderly patients after surgery, thereby minimizing the risk of postoperative delirium (POD), and providing substantial evidence for the perioperative enhanced recovery management of elderly patients.\\tChinese clinical trial registry: ChiCTR2200063488, Registered on 5 October 2022.\""
      ]
     },
     "execution_count": 12,
     "metadata": {},
     "output_type": "execute_result"
    }
   ],
   "source": [
    "df['abstract'][0]"
   ]
  },
  {
   "cell_type": "markdown",
   "id": "1db96c0d-eab9-4bed-a7aa-d5396f1b3cc3",
   "metadata": {},
   "source": [
    "## Single prompt example"
   ]
  },
  {
   "cell_type": "code",
   "execution_count": 13,
   "id": "491999ea-5200-4233-bafb-cce9972621d0",
   "metadata": {},
   "outputs": [],
   "source": [
    "prompt = (\n",
    "    \"Classify this text, choosing one of these labels: \"\n",
    "    \"Clinical-study-protocol, Human-systematic-review, Non-systematic-review, \"\n",
    "    \"Human-RCT-non-drug-intervention, Human-RCT-drug-intervention, Human-RCT-non-intervention, \"\n",
    "    \"Human-case-report, Human-non-RCT-non-drug-intervention, Human-non-RCT-drug-intervention, \"\n",
    "    \"Animal-systematic-review, Animal-drug-intervention, Animal-non-drug-intervention, \"\n",
    "    \"Animal-other, In-vitro-study, Remaining. \"\n",
    "    \"Respond in json format with the keys: gpt_label and gpt_explanation. \\\n",
    "    The value for gpt_explanation should be a very short explanation for why gpt chose the label.\"\n",
    ")"
   ]
  },
  {
   "cell_type": "code",
   "execution_count": 14,
   "id": "1b46f103-e12e-42e3-8b5c-5e19d6b5401c",
   "metadata": {},
   "outputs": [
    {
     "name": "stdout",
     "output_type": "stream",
     "text": [
      "Trying to call OpenAI API...\n"
     ]
    },
    {
     "data": {
      "text/plain": [
       "'{\\n    \"gpt_label\": \"Human-RCT-drug-intervention\",\\n    \"gpt_explanation\": \"The text describes a randomized, double-blind, placebo-controlled trial investigating the impact of intravenous dexamethasone on sleep quality in elderly patients undergoing robot-assisted radical prostatectomy.\"\\n}'"
      ]
     },
     "execution_count": 14,
     "metadata": {},
     "output_type": "execute_result"
    }
   ],
   "source": [
    "example_input = df['abstract'][0]\n",
    "query_gpt(example_input, prompt)"
   ]
  },
  {
   "cell_type": "markdown",
   "id": "91630249-3734-4659-a003-613d2bfd137c",
   "metadata": {},
   "source": [
    "### Random data sample"
   ]
  },
  {
   "cell_type": "code",
   "execution_count": 15,
   "id": "31e07ac6-90c3-45e6-b7d9-2aee15890eb1",
   "metadata": {},
   "outputs": [],
   "source": [
    "# Sample 10 elements randomly in a reproducible way\n",
    "sampled_df = df.sample(n=10, random_state=1)"
   ]
  },
  {
   "cell_type": "code",
   "execution_count": 16,
   "id": "161bd375-9dbb-415f-a783-0b319402e9f0",
   "metadata": {},
   "outputs": [
    {
     "data": {
      "text/html": [
       "<div>\n",
       "<style scoped>\n",
       "    .dataframe tbody tr th:only-of-type {\n",
       "        vertical-align: middle;\n",
       "    }\n",
       "\n",
       "    .dataframe tbody tr th {\n",
       "        vertical-align: top;\n",
       "    }\n",
       "\n",
       "    .dataframe thead th {\n",
       "        text-align: right;\n",
       "    }\n",
       "</style>\n",
       "<table border=\"1\" class=\"dataframe\">\n",
       "  <thead>\n",
       "    <tr style=\"text-align: right;\">\n",
       "      <th></th>\n",
       "      <th>pmid</th>\n",
       "      <th>journal_name</th>\n",
       "      <th>title</th>\n",
       "      <th>abstract</th>\n",
       "      <th>accepted_label</th>\n",
       "    </tr>\n",
       "  </thead>\n",
       "  <tbody>\n",
       "    <tr>\n",
       "      <th>304</th>\n",
       "      <td>12905582</td>\n",
       "      <td>Fa yi xue za zhi</td>\n",
       "      <td>[The research of the heroin and its metabolite...</td>\n",
       "      <td>Heroin can be metabolized easily in body and t...</td>\n",
       "      <td>[Remaining]</td>\n",
       "    </tr>\n",
       "    <tr>\n",
       "      <th>340</th>\n",
       "      <td>28645717</td>\n",
       "      <td>Vaccine</td>\n",
       "      <td>Surveillance of pneumococcal colonization and ...</td>\n",
       "      <td>Following the introduction of pneumococcal con...</td>\n",
       "      <td>[Human-non-RCT-drug-intervention]</td>\n",
       "    </tr>\n",
       "    <tr>\n",
       "      <th>47</th>\n",
       "      <td>11482695</td>\n",
       "      <td>Acta neurochirurgica</td>\n",
       "      <td>Carotid endarterectomy: a new technique replac...</td>\n",
       "      <td>Carotid endarterectomy has been reported to in...</td>\n",
       "      <td>[Human-non-RCT-non-drug-intervention]</td>\n",
       "    </tr>\n",
       "    <tr>\n",
       "      <th>67</th>\n",
       "      <td>15065953</td>\n",
       "      <td>Journal of consulting and clinical psychology</td>\n",
       "      <td>Traditional versus integrative behavioral coup...</td>\n",
       "      <td>A randomized clinical trial compared the effec...</td>\n",
       "      <td>[Human-RCT-non-drug-intervention]</td>\n",
       "    </tr>\n",
       "    <tr>\n",
       "      <th>479</th>\n",
       "      <td>9578881</td>\n",
       "      <td>The Journal of laryngology and otology</td>\n",
       "      <td>Vocal fold abductor paralysis as a solitary an...</td>\n",
       "      <td>A patient is presented who had bilateral abduc...</td>\n",
       "      <td>[Remaining]</td>\n",
       "    </tr>\n",
       "  </tbody>\n",
       "</table>\n",
       "</div>"
      ],
      "text/plain": [
       "         pmid                                   journal_name  \\\n",
       "304  12905582                               Fa yi xue za zhi   \n",
       "340  28645717                                        Vaccine   \n",
       "47   11482695                           Acta neurochirurgica   \n",
       "67   15065953  Journal of consulting and clinical psychology   \n",
       "479   9578881         The Journal of laryngology and otology   \n",
       "\n",
       "                                                 title  \\\n",
       "304  [The research of the heroin and its metabolite...   \n",
       "340  Surveillance of pneumococcal colonization and ...   \n",
       "47   Carotid endarterectomy: a new technique replac...   \n",
       "67   Traditional versus integrative behavioral coup...   \n",
       "479  Vocal fold abductor paralysis as a solitary an...   \n",
       "\n",
       "                                              abstract  \\\n",
       "304  Heroin can be metabolized easily in body and t...   \n",
       "340  Following the introduction of pneumococcal con...   \n",
       "47   Carotid endarterectomy has been reported to in...   \n",
       "67   A randomized clinical trial compared the effec...   \n",
       "479  A patient is presented who had bilateral abduc...   \n",
       "\n",
       "                            accepted_label  \n",
       "304                            [Remaining]  \n",
       "340      [Human-non-RCT-drug-intervention]  \n",
       "47   [Human-non-RCT-non-drug-intervention]  \n",
       "67       [Human-RCT-non-drug-intervention]  \n",
       "479                            [Remaining]  "
      ]
     },
     "execution_count": 16,
     "metadata": {},
     "output_type": "execute_result"
    }
   ],
   "source": [
    "#shows first few lines of sampled_df\n",
    "sampled_df.head()"
   ]
  },
  {
   "cell_type": "code",
   "execution_count": 17,
   "id": "41b72a4e-142c-4cfc-91f2-d026bd8881e7",
   "metadata": {},
   "outputs": [
    {
     "name": "stdout",
     "output_type": "stream",
     "text": [
      "         pmid                                       journal_name  \\\n",
      "304  12905582                                   Fa yi xue za zhi   \n",
      "340  28645717                                            Vaccine   \n",
      "47   11482695                               Acta neurochirurgica   \n",
      "67   15065953      Journal of consulting and clinical psychology   \n",
      "479   9578881             The Journal of laryngology and otology   \n",
      "485   2115207  Scandinavian journal of infectious diseases. S...   \n",
      "310   2946351  The British journal of psychiatry : the journa...   \n",
      "31   12045804                           Revista de saude publica   \n",
      "249  18084303              Nature structural & molecular biology   \n",
      "90   16332401                              Neurobiology of aging   \n",
      "\n",
      "                                                 title  \\\n",
      "304  [The research of the heroin and its metabolite...   \n",
      "340  Surveillance of pneumococcal colonization and ...   \n",
      "47   Carotid endarterectomy: a new technique replac...   \n",
      "67   Traditional versus integrative behavioral coup...   \n",
      "479  Vocal fold abductor paralysis as a solitary an...   \n",
      "485  Childhood acute bacterial meningitis in the Su...   \n",
      "310  Psychiatric disorders in mildly and severely m...   \n",
      "31   Assessment of a consultation-liaison psychiatr...   \n",
      "249  Structural basis for synaptic adhesion mediate...   \n",
      "90   Increased cholesterol in Abeta-positive nerve ...   \n",
      "\n",
      "                                              abstract  \\\n",
      "304  Heroin can be metabolized easily in body and t...   \n",
      "340  Following the introduction of pneumococcal con...   \n",
      "47   Carotid endarterectomy has been reported to in...   \n",
      "67   A randomized clinical trial compared the effec...   \n",
      "479  A patient is presented who had bilateral abduc...   \n",
      "485  The aims of the present study were to document...   \n",
      "310  A total of 149 children aged 13-17 years were ...   \n",
      "31   To investigate the relevance of subjective cri...   \n",
      "249  The heterophilic synaptic adhesion molecules n...   \n",
      "90   Synapse loss in Alzheimer's disease (AD) is po...   \n",
      "\n",
      "                            accepted_label  \n",
      "304                            [Remaining]  \n",
      "340      [Human-non-RCT-drug-intervention]  \n",
      "47   [Human-non-RCT-non-drug-intervention]  \n",
      "67       [Human-RCT-non-drug-intervention]  \n",
      "479                            [Remaining]  \n",
      "485                            [Remaining]  \n",
      "310                            [Remaining]  \n",
      "31                             [Remaining]  \n",
      "249                         [Animal-other]  \n",
      "90                             [Remaining]  \n"
     ]
    }
   ],
   "source": [
    "#shows entire smampled_df\n",
    "print(sampled_df)"
   ]
  },
  {
   "cell_type": "code",
   "execution_count": null,
   "id": "00585cd3-6bb4-431a-805e-1a095a95642d",
   "metadata": {},
   "outputs": [],
   "source": [
    "# Explode the 'accepted_label' column to have each label as a separate row\n",
    "df_exploded = sampled_df.explode('accepted_label')\n",
    "\n",
    "# Count the occurrences of each label\n",
    "label_counts = sampled_df['accepted_label'].value_counts()\n",
    "\n",
    "# Plot the distribution\n",
    "label_counts.plot(kind='barh')\n",
    "plt.title('Distribution of Accepted Labels')\n",
    "plt.xlabel('Accepted Label')\n",
    "plt.ylabel('Frequency')\n",
    "plt.xticks(rotation=45)\n",
    "plt.show()"
   ]
  },
  {
   "cell_type": "code",
   "execution_count": null,
   "id": "f085dda8-96aa-4735-8f08-cfc2e096cedb",
   "metadata": {},
   "outputs": [],
   "source": [
    "# Define a function to apply GPT queries with a progress bar\n",
    "def apply_gpt_with_progress(data_series, prompt_text, model=\"gpt-3.5-turbo\"):\n",
    "    results = []\n",
    "    total_items = len(data_series)\n",
    "    # Create a tqdm progress bar\n",
    "    with tqdm(total=total_items, desc=f\"Processing dataset\") as pbar:\n",
    "        for text in data_series:\n",
    "            result = query_gpt(text, prompt_text, model)\n",
    "            results.append(result)\n",
    "            pbar.update(1)  # Update the progress bar\n",
    "\n",
    "    return results"
   ]
  },
  {
   "cell_type": "markdown",
   "id": "117065d5-def1-4b51-ba20-5d64ca9265d7",
   "metadata": {},
   "source": [
    "### Run GPT"
   ]
  },
  {
   "cell_type": "code",
   "execution_count": null,
   "id": "efb13710-91c1-4f39-b8ef-cc4e1cfddeba",
   "metadata": {},
   "outputs": [],
   "source": [
    "sampled_df['gpt_predictions'] = apply_gpt_with_progress(sampled_df['abstract'], prompt)"
   ]
  },
  {
   "cell_type": "code",
   "execution_count": null,
   "id": "91a5ebc3-780f-4fd3-bbff-90690d3c3e7d",
   "metadata": {},
   "outputs": [],
   "source": [
    "labels = [\"Human-systematic-review\", \"Human-RCT-drug-intervention\", \"Human-RCT-non-drug-intervention\", \"Human-RCT-non-intervention\", \"Human-case-report\", \"Human-non-RCT-drug-intervention\", \"Human-non-RCT-non-drug-intervention\", \"Animal-systematic-review\", \"Animal-drug-intervention\", \"Animal-non-drug-intervention\", \"Animal-other\", \"Non-systematic-review\", \"In-vitro-study\", \"Clinical-study-protocol\", \"Remaining\"]\n",
    "\n",
    "label_to_numerical = {label: i for i, label in enumerate(labels)}\n",
    "label_to_numerical[\"label missing\"] = -1"
   ]
  },
  {
   "cell_type": "code",
   "execution_count": null,
   "id": "b06a7462-9acf-4018-a02b-b4b3e9261e69",
   "metadata": {},
   "outputs": [],
   "source": [
    "label_to_numerical"
   ]
  },
  {
   "cell_type": "code",
   "execution_count": null,
   "id": "56f1b14b-d788-481a-9f0e-3eeb51ea74f3",
   "metadata": {},
   "outputs": [],
   "source": [
    "df_exploded = sampled_df.explode('accepted_label')\n",
    "df_exploded['gpt_label'] = df_exploded['gpt_predictions'].apply(lambda x: json.loads(x)['gpt_label'])\n",
    "\n",
    "df_exploded.head(3)"
   ]
  },
  {
   "cell_type": "markdown",
   "id": "ddfd6deb-f323-4f98-99b9-adee3c670b51",
   "metadata": {},
   "source": [
    "### Evaluate performance"
   ]
  },
  {
   "cell_type": "code",
   "execution_count": null,
   "id": "9d537053-f45e-40f1-8fbe-565bd4b8a3ca",
   "metadata": {},
   "outputs": [],
   "source": [
    "from sklearn.metrics import accuracy_score, classification_report\n",
    "from sklearn.metrics import balanced_accuracy_score\n"
   ]
  },
  {
   "cell_type": "code",
   "execution_count": null,
   "id": "f7290947-87db-42d5-b30b-81612333f5f2",
   "metadata": {},
   "outputs": [],
   "source": [
    "# Adjust mapping to return -1 for labels not found in the map\n",
    "df_exploded['accepted_label_numerical'] = df_exploded['accepted_label'].apply(lambda x: label_to_numerical.get(x, -1))\n",
    "df_exploded['gpt_predictions_numerical'] = df_exploded['gpt_label'].apply(lambda x: label_to_numerical.get(x, -1))"
   ]
  },
  {
   "cell_type": "code",
   "execution_count": null,
   "id": "05dd3189-9996-44a0-8c2d-9922528cbe94",
   "metadata": {},
   "outputs": [],
   "source": [
    "df_exploded.head()"
   ]
  },
  {
   "cell_type": "code",
   "execution_count": null,
   "id": "7ce2f01c-d1f5-4739-9060-2457af6a44f9",
   "metadata": {},
   "outputs": [],
   "source": [
    "len(labels)"
   ]
  },
  {
   "cell_type": "code",
   "execution_count": null,
   "id": "de7f2e34-1b27-4a10-b54f-ab43a73ad564",
   "metadata": {},
   "outputs": [],
   "source": [
    "# Extract arrays for evaluation\n",
    "y_true = df_exploded['accepted_label_numerical'].values\n",
    "y_pred = df_exploded['gpt_predictions_numerical'].values\n",
    "\n",
    "# Evaluation\n",
    "accuracy = accuracy_score(y_true, y_pred)\n",
    "#report = classification_report(y_true, y_pred,output_dict=True, zero_division=0)\n",
    "accuracy_balanced = balanced_accuracy_score(y_true, y_pred)\n",
    "\n",
    "# Adjusting the classification report to only include relevant labels\n",
    "unique_labels = sorted(set(y_true) | set(y_pred))\n",
    "target_names_adjusted = [labels[i] for i in unique_labels]\n",
    "\n",
    "# Recalculate classification report with adjusted target names\n",
    "report_adjusted = classification_report(y_true, y_pred, output_dict=True, labels=unique_labels, target_names=target_names_adjusted, zero_division=0)\n",
    "\n",
    "accuracy, accuracy_balanced # Note: proportion of correctly predicted observations to the total observations. It's most useful when the classes are balanced but can be misleading when dealing with imbalanced classes."
   ]
  },
  {
   "cell_type": "code",
   "execution_count": null,
   "id": "897044af-35fb-4d02-8753-52987685166d",
   "metadata": {},
   "outputs": [],
   "source": [
    "# Convert the report to a DataFrame for visualization\n",
    "report_df = pd.DataFrame(report_adjusted).transpose()\n",
    "\n",
    "report_df"
   ]
  },
  {
   "cell_type": "code",
   "execution_count": null,
   "id": "0771ef2e-f92f-4d6f-9d66-098e0f17f613",
   "metadata": {},
   "outputs": [],
   "source": [
    "# note: The support is the number of occurrences of each class in y_true.\n",
    "report_adjusted"
   ]
  },
  {
   "cell_type": "code",
   "execution_count": null,
   "id": "d5d95236-565b-43ed-8442-8b499c92a955",
   "metadata": {},
   "outputs": [],
   "source": []
  }
 ],
 "metadata": {
  "kernelspec": {
   "display_name": "Python 3 (ipykernel)",
   "language": "python",
   "name": "python3"
  },
  "language_info": {
   "codemirror_mode": {
    "name": "ipython",
    "version": 3
   },
   "file_extension": ".py",
   "mimetype": "text/x-python",
   "name": "python",
   "nbconvert_exporter": "python",
   "pygments_lexer": "ipython3",
   "version": "3.12.0"
  }
 },
 "nbformat": 4,
 "nbformat_minor": 5
}
