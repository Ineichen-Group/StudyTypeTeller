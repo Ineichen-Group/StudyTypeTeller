{
 "cells": [
  {
   "cell_type": "code",
   "execution_count": 3,
   "id": "5292809a-a6bf-45b8-bfd6-1589ee42a7b1",
   "metadata": {},
   "outputs": [],
   "source": [
    "import pandas as pd\n",
    "import openai\n",
    "import json\n",
    "import time\n",
    "import matplotlib.pyplot as plt\n",
    "from tqdm import tqdm  # Import tqdm for the progress bar\n"
   ]
  },
  {
   "cell_type": "code",
   "execution_count": 5,
   "id": "0cc1bdb6-331d-4c67-b2ef-055af90ddfbf",
   "metadata": {},
   "outputs": [],
   "source": [
    "#pip install openai"
   ]
  },
  {
   "cell_type": "code",
   "execution_count": 6,
   "id": "1ffebb73-a46a-4783-99fe-cb5ce0a5508a",
   "metadata": {},
   "outputs": [],
   "source": [
    "from openai import OpenAI"
   ]
  },
  {
   "cell_type": "code",
   "execution_count": 7,
   "id": "4fb4ab9c-6f1e-4989-8e89-0b84993330d2",
   "metadata": {},
   "outputs": [
    {
     "data": {
      "text/plain": [
       "'1.14.0'"
      ]
     },
     "execution_count": 7,
     "metadata": {},
     "output_type": "execute_result"
    }
   ],
   "source": [
    "openai.__version__\n"
   ]
  },
  {
   "cell_type": "markdown",
   "id": "c461bf8d-2acf-4c37-b11d-a638e88b9b65",
   "metadata": {},
   "source": [
    "### Read in data"
   ]
  },
  {
   "cell_type": "code",
   "execution_count": 10,
   "id": "bbe461a0-164b-4201-a93d-12e1df9193bb",
   "metadata": {},
   "outputs": [],
   "source": [
    "# Initialize an empty list to store the parsed data\n",
    "data_list = []\n",
    "\n",
    "# Read the JSONL file line by line\n",
    "with open('../data/prodigy/annotated_output/pilot_500_pubmed_abstracts_shirin_correct_id.jsonl', 'r') as file:\n",
    "    for line in file:\n",
    "        # Parse each line as a JSON object\n",
    "        data = json.loads(line.strip())\n",
    "        \n",
    "        # Check if _view_id is \"choice\"// should be review if this was coming from a review prodigy session\n",
    "        if data.get(\"_view_id\") == \"choice\":\n",
    "            # Split text into journal_name, title, and abstract based on ^\\n symbol\n",
    "            text = data.get(\"text\", \"\")\n",
    "            \n",
    "            # Splitting text based on ^\\n for journal_name, title, and abstract\n",
    "            parts = text.split(\"^\\n\", 2)  # Split into three parts based on first two ^\\n occurrences\n",
    "            \n",
    "            journal_name = parts[0].strip() if len(parts) > 0 else \"\"\n",
    "            title = parts[1].strip() if len(parts) > 1 else \"\"\n",
    "            abstract = parts[2].strip() if len(parts) > 2 else \"\"\n",
    "            \n",
    "            # Extract other required fields\n",
    "            pmid = data.get(\"pmid\", \"\")\n",
    "            accept = data.get(\"accept\", [])\n",
    "            \n",
    "            # Append to the list\n",
    "            data_list.append({\n",
    "                \"pmid\": pmid,\n",
    "                \"journal_name\": journal_name,\n",
    "                \"title\": title,\n",
    "                \"abstract\": abstract,\n",
    "                \"accepted_label\": accept\n",
    "            })\n",
    "\n",
    "# Convert the list of dictionaries to a pandas DataFrame\n",
    "df = pd.DataFrame(data_list)"
   ]
  },
  {
   "cell_type": "code",
   "execution_count": 11,
   "id": "b8623523-3916-4522-9999-18931e017571",
   "metadata": {},
   "outputs": [
    {
     "data": {
      "text/html": [
       "<div>\n",
       "<style scoped>\n",
       "    .dataframe tbody tr th:only-of-type {\n",
       "        vertical-align: middle;\n",
       "    }\n",
       "\n",
       "    .dataframe tbody tr th {\n",
       "        vertical-align: top;\n",
       "    }\n",
       "\n",
       "    .dataframe thead th {\n",
       "        text-align: right;\n",
       "    }\n",
       "</style>\n",
       "<table border=\"1\" class=\"dataframe\">\n",
       "  <thead>\n",
       "    <tr style=\"text-align: right;\">\n",
       "      <th></th>\n",
       "      <th>pmid</th>\n",
       "      <th>journal_name</th>\n",
       "      <th>title</th>\n",
       "      <th>abstract</th>\n",
       "      <th>accepted_label</th>\n",
       "    </tr>\n",
       "  </thead>\n",
       "  <tbody>\n",
       "    <tr>\n",
       "      <th>0</th>\n",
       "      <td>37550718</td>\n",
       "      <td>Trials</td>\n",
       "      <td>Can dexamethasone improve postoperative sleep ...</td>\n",
       "      <td>Perioperative sleep disorders (PSD) are an ind...</td>\n",
       "      <td>[Human-RCT-drug-intervention]</td>\n",
       "    </tr>\n",
       "    <tr>\n",
       "      <th>1</th>\n",
       "      <td>2500373</td>\n",
       "      <td>Developmental medicine and child neurology</td>\n",
       "      <td>Effects of puberty on seizure frequency.</td>\n",
       "      <td>Seizure frequency was documented before, durin...</td>\n",
       "      <td>[Remaining]</td>\n",
       "    </tr>\n",
       "    <tr>\n",
       "      <th>2</th>\n",
       "      <td>36189588</td>\n",
       "      <td>Journal of Alzheimer's disease : JAD</td>\n",
       "      <td>Characterization of Mild Cognitive Impairment ...</td>\n",
       "      <td>Despite tremendous advancements in the field, ...</td>\n",
       "      <td>[Remaining]</td>\n",
       "    </tr>\n",
       "    <tr>\n",
       "      <th>3</th>\n",
       "      <td>36314672</td>\n",
       "      <td>Journal of vector ecology : journal of the Soc...</td>\n",
       "      <td>Effects of woody plant encroachment by eastern...</td>\n",
       "      <td>Woody plant encroachment into grasslands is oc...</td>\n",
       "      <td>[Remaining]</td>\n",
       "    </tr>\n",
       "    <tr>\n",
       "      <th>4</th>\n",
       "      <td>29172241</td>\n",
       "      <td>Depression and anxiety</td>\n",
       "      <td>The impact of resilience and subsequent stress...</td>\n",
       "      <td>There remains a dearth of research examining t...</td>\n",
       "      <td>[Remaining]</td>\n",
       "    </tr>\n",
       "  </tbody>\n",
       "</table>\n",
       "</div>"
      ],
      "text/plain": [
       "       pmid                                       journal_name  \\\n",
       "0  37550718                                             Trials   \n",
       "1   2500373         Developmental medicine and child neurology   \n",
       "2  36189588               Journal of Alzheimer's disease : JAD   \n",
       "3  36314672  Journal of vector ecology : journal of the Soc...   \n",
       "4  29172241                             Depression and anxiety   \n",
       "\n",
       "                                               title  \\\n",
       "0  Can dexamethasone improve postoperative sleep ...   \n",
       "1           Effects of puberty on seizure frequency.   \n",
       "2  Characterization of Mild Cognitive Impairment ...   \n",
       "3  Effects of woody plant encroachment by eastern...   \n",
       "4  The impact of resilience and subsequent stress...   \n",
       "\n",
       "                                            abstract  \\\n",
       "0  Perioperative sleep disorders (PSD) are an ind...   \n",
       "1  Seizure frequency was documented before, durin...   \n",
       "2  Despite tremendous advancements in the field, ...   \n",
       "3  Woody plant encroachment into grasslands is oc...   \n",
       "4  There remains a dearth of research examining t...   \n",
       "\n",
       "                  accepted_label  \n",
       "0  [Human-RCT-drug-intervention]  \n",
       "1                    [Remaining]  \n",
       "2                    [Remaining]  \n",
       "3                    [Remaining]  \n",
       "4                    [Remaining]  "
      ]
     },
     "execution_count": 11,
     "metadata": {},
     "output_type": "execute_result"
    }
   ],
   "source": [
    "df.head(5)"
   ]
  },
  {
   "cell_type": "markdown",
   "id": "e0725592-c308-4ec2-a4d3-a8bc89d11878",
   "metadata": {},
   "source": [
    "### Load key for the OpenAI API "
   ]
  },
  {
   "cell_type": "code",
   "execution_count": 12,
   "id": "5410c439-9e4e-4878-90c0-e8ca1d25c2ef",
   "metadata": {},
   "outputs": [],
   "source": [
    "def load_pass(file_path, key_to_find):\n",
    "    with open(file_path, 'r') as file:\n",
    "        for line in file:\n",
    "            parts = line.strip().split(\"=\")\n",
    "            if len(parts) == 2 and parts[0] == key_to_find:\n",
    "                found_password = parts[1]\n",
    "                break\n",
    "    if found_password:\n",
    "        print(\"Found password.\")\n",
    "        return found_password\n",
    "    else:\n",
    "        print(\"Password not found for key:\", key_to_find)"
   ]
  },
  {
   "cell_type": "markdown",
   "id": "7a5933e6-3cb4-4e37-aa85-51ea968919f8",
   "metadata": {},
   "source": [
    "Note: You need to create a credentials.txt file with the following content:  \n",
    "OPENAI=sk-77QXXXXXXXXXXXXXXXXXXXXXXXXXXX  \n",
    "replace the value after the = sign with your API key.  \n",
    "Make sure the credentials.txt is added to .gitignore, you don't want to put your password on Git!"
   ]
  },
  {
   "cell_type": "code",
   "execution_count": 14,
   "id": "7156eb84-1813-4ae3-8dbc-d4084f66afa3",
   "metadata": {},
   "outputs": [
    {
     "name": "stdout",
     "output_type": "stream",
     "text": [
      "Found password.\n"
     ]
    }
   ],
   "source": [
    "openai.api_key = load_pass(\"../credentials.txt\", \"OPENAI\")\n"
   ]
  },
  {
   "cell_type": "code",
   "execution_count": 15,
   "id": "0c11b84b-e9c2-44df-9c6c-ef084bf261f4",
   "metadata": {},
   "outputs": [],
   "source": [
    "client = OpenAI(api_key=openai.api_key)"
   ]
  },
  {
   "cell_type": "markdown",
   "id": "3ad13134-f6eb-491e-b59b-6a705e820619",
   "metadata": {},
   "source": [
    "### Query GPT models"
   ]
  },
  {
   "cell_type": "markdown",
   "id": "ebd02c0b-d4bc-4f23-aaf8-e125821e7c87",
   "metadata": {},
   "source": [
    "To change the task the model is solving, you need to change the text of the prompt and the content text of the system role.  \n",
    "To change the GPT model used, you need to change the text of the model name when initiating the openai API.  \n",
    "The function gets as input the input_raw_text, that will be text for information extraction or classification."
   ]
  },
  {
   "cell_type": "code",
   "execution_count": 53,
   "id": "cac539b6-b488-4ff8-9e92-7826c9b266cb",
   "metadata": {},
   "outputs": [
    {
     "ename": "SyntaxError",
     "evalue": "unterminated string literal (detected at line 1) (2113770004.py, line 1)",
     "output_type": "error",
     "traceback": [
      "\u001b[0;36m  Cell \u001b[0;32mIn[53], line 1\u001b[0;36m\u001b[0m\n\u001b[0;31m    system_msg = f\"\u001b[0m\n\u001b[0m                 ^\u001b[0m\n\u001b[0;31mSyntaxError\u001b[0m\u001b[0;31m:\u001b[0m unterminated string literal (detected at line 1)\n"
     ]
    }
   ],
   "source": [
    "system_msg = f\"\"\"\n",
    "    You are an assistant that classifies reviews according to their sentiment. \\\n",
    "    Respond in json format with the keys: gpt_sentiment and gpt_explanation. \\\n",
    "    The value for gpt_sentiment should only be either pos or neg without punctuation: pos if the review is positive, neg otherwise.\\\n",
    "    The value for gpt_explanation should be a very short explanation for the sentiment.\n",
    "    \"\"\""
   ]
  },
  {
   "cell_type": "code",
   "execution_count": 52,
   "id": "9bbe2cf7-b7b9-431b-869e-40a8a6253ba3",
   "metadata": {},
   "outputs": [
    {
     "data": {
      "text/plain": [
       "'\\n    You are an assistant that classifies reviews according to their sentiment.     Respond in json format with the keys: gpt_sentiment and gpt_explanation.     The value for gpt_sentiment should only be either pos or neg without punctuation: pos if the review is positive, neg otherwise.    The value for gpt_explanation should be a very short explanation for the sentiment.\\n    '"
      ]
     },
     "execution_count": 52,
     "metadata": {},
     "output_type": "execute_result"
    }
   ],
   "source": [
    "system_msg"
   ]
  },
  {
   "cell_type": "code",
   "execution_count": 136,
   "id": "3ea3f587-8b26-4b55-a423-cad38eb7bad1",
   "metadata": {},
   "outputs": [],
   "source": [
    "import time\n",
    "\n",
    "DEFAULT_TEMPERATURE = 0\n",
    "DEFAULT_MAX_TOKENS = 500\n",
    "DEFAULT_MODEL = \"gpt-3.5-turbo\"\n",
    "\n",
    "def query_gpt(input_raw_text, prompt_text, gpt_model=\"gpt-3.5-turbo\", temperature=0, max_retries=5, retry_delay=3):\n",
    "\n",
    "    # Add a delay at the beginning of the function to avoid overloading the API if there are multiple calls\n",
    "    # time.sleep(10)  \n",
    "\n",
    "    system_msg = f\"\"\"\n",
    "    You are an assistant that classifies PubMed abstracts. \n",
    "    \"\"\"\n",
    "\n",
    "    retries = 0\n",
    "    while retries < max_retries:\n",
    "        print(\"Trying to call OpenAI API...\")\n",
    "        try:\n",
    "            completion = client.chat.completions.create(\n",
    "                model=gpt_model,  # CHANGE this to the desired model name, see https://platform.openai.com/docs/models (gpt-3.5-turbo and gpt-4-turbo-preview)\n",
    "                response_format={\"type\": \"json_object\"},\n",
    "                temperature=temperature,\n",
    "                #max_tokens=2000,\n",
    "                messages=[\n",
    "                    {\"role\": \"system\", \"content\": system_msg},\n",
    "                    {\"role\": \"user\", \"content\": prompt_text + input_raw_text}\n",
    "                ]\n",
    "            )\n",
    "            return completion.choices[0].message.content\n",
    "        except Exception as e:\n",
    "            # Handle API error, e.g., retry or log\n",
    "            print(f\"OpenAI API returned an error: {e}\")\n",
    "            time.sleep(retry_delay)  # Wait before retrying\n",
    "            retries += 1\n",
    "\n",
    "    raise RuntimeError(\"Max retries reached. Unable to complete the API call.\")\n"
   ]
  },
  {
   "cell_type": "code",
   "execution_count": 120,
   "id": "7a71e4d0-1294-403a-9f88-79315921f2df",
   "metadata": {},
   "outputs": [
    {
     "data": {
      "text/plain": [
       "\"Perioperative sleep disorders (PSD) are an independent risk factor for postoperative delirium (POD), which is a common complication after surgery. Elderly patients who undergo robot-assisted radical prostatectomy (RARP) often experience perioperative sleep disorders (PSD). Dexamethasone, a medication that works by inhibiting the hypothalamic-pituitary-suprarenal cortical axis, can reduce the negative effects of surgical stress. The objective of this study was to determine whether intravenous administration of dexamethasone at the time of anesthesia induction could improve postoperative sleep quality in elderly patients, thereby indirectly reducing the risk of postoperative cognitive impairment and accelerating postoperative rehabilitation.\\tThis study is a randomized, double-blind, placebo-controlled trial that was conducted at a single center. A sample size of 116 patients was determined through calculation, and these patients were randomly assigned to either the dexamethasone group (group D, n\\u2009=\\u200958) or the blank control group (group C, n\\u2009=\\u200958). On the day of surgery, the anesthesia nurse prepared either diluted dexamethasone or saline in advance, according to the patient's assigned group. The blinded anesthesiologist administered the medication during induction, and a dedicated person followed up with the patient for three consecutive postoperative days. All other aspects of care were managed equally between the two groups. The primary outcome measure was sleep quality, while secondary outcome measures included postoperative sleep time, postoperative delirium (POD), pain scores, and other complications. Relevant test measures were recorded for analysis.\\tThis study aims to investigate the impact of intravenous dexamethasone on sleep quality and duration of patients undergoing robot-assisted radical prostatectomy (RARP). If the findings of this study protocol are affirmative, it could enhance the sleep quality of elderly patients after surgery, thereby minimizing the risk of postoperative delirium (POD), and providing substantial evidence for the perioperative enhanced recovery management of elderly patients.\\tChinese clinical trial registry: ChiCTR2200063488, Registered on 5 October 2022.\""
      ]
     },
     "execution_count": 120,
     "metadata": {},
     "output_type": "execute_result"
    }
   ],
   "source": [
    "df['abstract'][0]"
   ]
  },
  {
   "cell_type": "markdown",
   "id": "1db96c0d-eab9-4bed-a7aa-d5396f1b3cc3",
   "metadata": {},
   "source": [
    "## Run the GPT task over the a sample for development"
   ]
  },
  {
   "cell_type": "code",
   "execution_count": 121,
   "id": "491999ea-5200-4233-bafb-cce9972621d0",
   "metadata": {},
   "outputs": [],
   "source": [
    "prompt = (\n",
    "    \"Classify this text, choosing one of these labels: \"\n",
    "    \"Clinical-study-protocol, Human-systematic-review, Non-systematic-review, \"\n",
    "    \"Human-RCT-non-drug-intervention, Human-RCT-drug-intervention, Human-RCT-non-intervention, \"\n",
    "    \"Human-case-report, Human-non-RCT-non-drug-intervention, Human-non-RCT-drug-intervention, \"\n",
    "    \"Animal-systematic-review, Animal-drug-intervention, Animal-non-drug-intervention, \"\n",
    "    \"Animal-other, In-vitro-study, Remaining. \"\n",
    "    \"Respond in json format with the keys: gpt_label and gpt_explanation. \\\n",
    "    The value for gpt_explanation should be a very short explanation for why gpt chose the label.\"\n",
    ")"
   ]
  },
  {
   "cell_type": "code",
   "execution_count": 122,
   "id": "1b46f103-e12e-42e3-8b5c-5e19d6b5401c",
   "metadata": {},
   "outputs": [
    {
     "name": "stdout",
     "output_type": "stream",
     "text": [
      "Classify this text, choosing one of these labels: Clinical-study-protocol, Human-systematic-review, Non-systematic-review, Human-RCT-non-drug-intervention, Human-RCT-drug-intervention, Human-RCT-non-intervention, Human-case-report, Human-non-RCT-non-drug-intervention, Human-non-RCT-drug-intervention, Animal-systematic-review, Animal-drug-intervention, Animal-non-drug-intervention, Animal-other, In-vitro-study, Remaining. Respond in json format with the keys: gpt_label and gpt_explanation.     The value for gpt_explanation should be a very short explanation for why gpt chose the label.\n",
      "Perioperative sleep disorders (PSD) are an independent risk factor for postoperative delirium (POD), which is a common complication after surgery. Elderly patients who undergo robot-assisted radical prostatectomy (RARP) often experience perioperative sleep disorders (PSD). Dexamethasone, a medication that works by inhibiting the hypothalamic-pituitary-suprarenal cortical axis, can reduce the negative effects of surgical stress. The objective of this study was to determine whether intravenous administration of dexamethasone at the time of anesthesia induction could improve postoperative sleep quality in elderly patients, thereby indirectly reducing the risk of postoperative cognitive impairment and accelerating postoperative rehabilitation.\tThis study is a randomized, double-blind, placebo-controlled trial that was conducted at a single center. A sample size of 116 patients was determined through calculation, and these patients were randomly assigned to either the dexamethasone group (group D, n = 58) or the blank control group (group C, n = 58). On the day of surgery, the anesthesia nurse prepared either diluted dexamethasone or saline in advance, according to the patient's assigned group. The blinded anesthesiologist administered the medication during induction, and a dedicated person followed up with the patient for three consecutive postoperative days. All other aspects of care were managed equally between the two groups. The primary outcome measure was sleep quality, while secondary outcome measures included postoperative sleep time, postoperative delirium (POD), pain scores, and other complications. Relevant test measures were recorded for analysis.\tThis study aims to investigate the impact of intravenous dexamethasone on sleep quality and duration of patients undergoing robot-assisted radical prostatectomy (RARP). If the findings of this study protocol are affirmative, it could enhance the sleep quality of elderly patients after surgery, thereby minimizing the risk of postoperative delirium (POD), and providing substantial evidence for the perioperative enhanced recovery management of elderly patients.\tChinese clinical trial registry: ChiCTR2200063488, Registered on 5 October 2022.\n",
      "Trying to call OpenAI API...\n"
     ]
    },
    {
     "data": {
      "text/plain": [
       "'{\\n    \"gpt_label\": \"Human-RCT-drug-intervention\",\\n    \"gpt_explanation\": \"The text describes a randomized, double-blind, placebo-controlled trial investigating the impact of intravenous dexamethasone on sleep quality in elderly patients undergoing robot-assisted radical prostatectomy.\"\\n}'"
      ]
     },
     "execution_count": 122,
     "metadata": {},
     "output_type": "execute_result"
    }
   ],
   "source": [
    "example_input = df['abstract'][0]\n",
    "query_gpt(example_input, prompt)"
   ]
  },
  {
   "cell_type": "markdown",
   "id": "91630249-3734-4659-a003-613d2bfd137c",
   "metadata": {},
   "source": [
    "### random sample"
   ]
  },
  {
   "cell_type": "code",
   "execution_count": 107,
   "id": "31e07ac6-90c3-45e6-b7d9-2aee15890eb1",
   "metadata": {},
   "outputs": [],
   "source": [
    "# Sample 50 elements randomly in a reproducible way\n",
    "sampled_df = df.sample(n=10, random_state=1)"
   ]
  },
  {
   "cell_type": "code",
   "execution_count": 108,
   "id": "161bd375-9dbb-415f-a783-0b319402e9f0",
   "metadata": {},
   "outputs": [
    {
     "data": {
      "text/html": [
       "<div>\n",
       "<style scoped>\n",
       "    .dataframe tbody tr th:only-of-type {\n",
       "        vertical-align: middle;\n",
       "    }\n",
       "\n",
       "    .dataframe tbody tr th {\n",
       "        vertical-align: top;\n",
       "    }\n",
       "\n",
       "    .dataframe thead th {\n",
       "        text-align: right;\n",
       "    }\n",
       "</style>\n",
       "<table border=\"1\" class=\"dataframe\">\n",
       "  <thead>\n",
       "    <tr style=\"text-align: right;\">\n",
       "      <th></th>\n",
       "      <th>pmid</th>\n",
       "      <th>journal_name</th>\n",
       "      <th>title</th>\n",
       "      <th>abstract</th>\n",
       "      <th>accepted_label</th>\n",
       "    </tr>\n",
       "  </thead>\n",
       "  <tbody>\n",
       "    <tr>\n",
       "      <th>304</th>\n",
       "      <td>12905582</td>\n",
       "      <td>Fa yi xue za zhi</td>\n",
       "      <td>[The research of the heroin and its metabolite...</td>\n",
       "      <td>Heroin can be metabolized easily in body and t...</td>\n",
       "      <td>[Remaining]</td>\n",
       "    </tr>\n",
       "    <tr>\n",
       "      <th>340</th>\n",
       "      <td>28645717</td>\n",
       "      <td>Vaccine</td>\n",
       "      <td>Surveillance of pneumococcal colonization and ...</td>\n",
       "      <td>Following the introduction of pneumococcal con...</td>\n",
       "      <td>[Human-non-RCT-drug-intervention]</td>\n",
       "    </tr>\n",
       "    <tr>\n",
       "      <th>47</th>\n",
       "      <td>11482695</td>\n",
       "      <td>Acta neurochirurgica</td>\n",
       "      <td>Carotid endarterectomy: a new technique replac...</td>\n",
       "      <td>Carotid endarterectomy has been reported to in...</td>\n",
       "      <td>[Human-non-RCT-non-drug-intervention]</td>\n",
       "    </tr>\n",
       "    <tr>\n",
       "      <th>67</th>\n",
       "      <td>15065953</td>\n",
       "      <td>Journal of consulting and clinical psychology</td>\n",
       "      <td>Traditional versus integrative behavioral coup...</td>\n",
       "      <td>A randomized clinical trial compared the effec...</td>\n",
       "      <td>[Human-RCT-non-drug-intervention]</td>\n",
       "    </tr>\n",
       "    <tr>\n",
       "      <th>479</th>\n",
       "      <td>9578881</td>\n",
       "      <td>The Journal of laryngology and otology</td>\n",
       "      <td>Vocal fold abductor paralysis as a solitary an...</td>\n",
       "      <td>A patient is presented who had bilateral abduc...</td>\n",
       "      <td>[Remaining]</td>\n",
       "    </tr>\n",
       "  </tbody>\n",
       "</table>\n",
       "</div>"
      ],
      "text/plain": [
       "         pmid                                   journal_name  \\\n",
       "304  12905582                               Fa yi xue za zhi   \n",
       "340  28645717                                        Vaccine   \n",
       "47   11482695                           Acta neurochirurgica   \n",
       "67   15065953  Journal of consulting and clinical psychology   \n",
       "479   9578881         The Journal of laryngology and otology   \n",
       "\n",
       "                                                 title  \\\n",
       "304  [The research of the heroin and its metabolite...   \n",
       "340  Surveillance of pneumococcal colonization and ...   \n",
       "47   Carotid endarterectomy: a new technique replac...   \n",
       "67   Traditional versus integrative behavioral coup...   \n",
       "479  Vocal fold abductor paralysis as a solitary an...   \n",
       "\n",
       "                                              abstract  \\\n",
       "304  Heroin can be metabolized easily in body and t...   \n",
       "340  Following the introduction of pneumococcal con...   \n",
       "47   Carotid endarterectomy has been reported to in...   \n",
       "67   A randomized clinical trial compared the effec...   \n",
       "479  A patient is presented who had bilateral abduc...   \n",
       "\n",
       "                            accepted_label  \n",
       "304                            [Remaining]  \n",
       "340      [Human-non-RCT-drug-intervention]  \n",
       "47   [Human-non-RCT-non-drug-intervention]  \n",
       "67       [Human-RCT-non-drug-intervention]  \n",
       "479                            [Remaining]  "
      ]
     },
     "execution_count": 108,
     "metadata": {},
     "output_type": "execute_result"
    }
   ],
   "source": [
    "sampled_df.head()"
   ]
  },
  {
   "cell_type": "code",
   "execution_count": 93,
   "id": "00585cd3-6bb4-431a-805e-1a095a95642d",
   "metadata": {},
   "outputs": [
    {
     "data": {
      "image/png": "[encoded data removed]",
      "text/plain": [
       "<Figure size 640x480 with 1 Axes>"
      ]
     },
     "metadata": {},
     "output_type": "display_data"
    }
   ],
   "source": [
    "# Explode the 'accepted_label' column to have each label as a separate row\n",
    "df_exploded = sampled_df.explode('accepted_label')\n",
    "\n",
    "# Count the occurrences of each label\n",
    "label_counts = sampled_df['accepted_label'].value_counts()\n",
    "\n",
    "# Plot the distribution\n",
    "label_counts.plot(kind='barh')\n",
    "plt.title('Distribution of Accepted Labels')\n",
    "plt.xlabel('Accepted Label')\n",
    "plt.ylabel('Frequency')\n",
    "plt.xticks(rotation=45)\n",
    "plt.show()"
   ]
  },
  {
   "cell_type": "code",
   "execution_count": 142,
   "id": "f085dda8-96aa-4735-8f08-cfc2e096cedb",
   "metadata": {},
   "outputs": [],
   "source": [
    "# Define a function to apply GPT queries with a progress bar\n",
    "def apply_gpt_with_progress(data_series, prompt_text, model=\"gpt-3.5-turbo\"):\n",
    "    results = []\n",
    "    total_items = len(data_series)\n",
    "    # Create a tqdm progress bar\n",
    "    with tqdm(total=total_items, desc=f\"Processing dataset\") as pbar:\n",
    "        for text in data_series:\n",
    "            result = query_gpt(text, prompt_text, model)\n",
    "            results.append(result)\n",
    "            pbar.update(1)  # Update the progress bar\n",
    "\n",
    "    return results"
   ]
  },
  {
   "cell_type": "markdown",
   "id": "117065d5-def1-4b51-ba20-5d64ca9265d7",
   "metadata": {},
   "source": [
    "### run GPT"
   ]
  },
  {
   "cell_type": "code",
   "execution_count": 105,
   "id": "d4b04255-222c-4ad9-803c-b3410e096538",
   "metadata": {
    "scrolled": true
   },
   "outputs": [
    {
     "name": "stderr",
     "output_type": "stream",
     "text": [
      "Processing dataset:   0%|                                                                                                                                                                    | 0/10 [00:00<?, ?it/s]"
     ]
    },
    {
     "name": "stdout",
     "output_type": "stream",
     "text": [
      "Trying to call OpenAI API...\n"
     ]
    },
    {
     "name": "stderr",
     "output_type": "stream",
     "text": [
      "Processing dataset:  10%|███████████████▌                                                                                                                                            | 1/10 [00:02<00:18,  2.04s/it]"
     ]
    },
    {
     "name": "stdout",
     "output_type": "stream",
     "text": [
      "Trying to call OpenAI API...\n"
     ]
    },
    {
     "name": "stderr",
     "output_type": "stream",
     "text": [
      "Processing dataset:  20%|███████████████████████████████▏                                                                                                                            | 2/10 [00:04<00:16,  2.08s/it]"
     ]
    },
    {
     "name": "stdout",
     "output_type": "stream",
     "text": [
      "Trying to call OpenAI API...\n"
     ]
    },
    {
     "name": "stderr",
     "output_type": "stream",
     "text": [
      "Processing dataset:  30%|██████████████████████████████████████████████▊                                                                                                             | 3/10 [00:06<00:14,  2.04s/it]"
     ]
    },
    {
     "name": "stdout",
     "output_type": "stream",
     "text": [
      "Trying to call OpenAI API...\n"
     ]
    },
    {
     "name": "stderr",
     "output_type": "stream",
     "text": [
      "Processing dataset:  40%|██████████████████████████████████████████████████████████████▍                                                                                             | 4/10 [00:08<00:12,  2.05s/it]"
     ]
    },
    {
     "name": "stdout",
     "output_type": "stream",
     "text": [
      "Trying to call OpenAI API...\n"
     ]
    },
    {
     "name": "stderr",
     "output_type": "stream",
     "text": [
      "Processing dataset:  50%|██████████████████████████████████████████████████████████████████████████████                                                                              | 5/10 [00:10<00:10,  2.06s/it]"
     ]
    },
    {
     "name": "stdout",
     "output_type": "stream",
     "text": [
      "Trying to call OpenAI API...\n"
     ]
    },
    {
     "name": "stderr",
     "output_type": "stream",
     "text": [
      "Processing dataset:  60%|█████████████████████████████████████████████████████████████████████████████████████████████▌                                                              | 6/10 [00:12<00:07,  2.00s/it]"
     ]
    },
    {
     "name": "stdout",
     "output_type": "stream",
     "text": [
      "Trying to call OpenAI API...\n"
     ]
    },
    {
     "name": "stderr",
     "output_type": "stream",
     "text": [
      "Processing dataset:  70%|█████████████████████████████████████████████████████████████████████████████████████████████████████████████▏                                              | 7/10 [00:14<00:06,  2.01s/it]"
     ]
    },
    {
     "name": "stdout",
     "output_type": "stream",
     "text": [
      "Trying to call OpenAI API...\n"
     ]
    },
    {
     "name": "stderr",
     "output_type": "stream",
     "text": [
      "Processing dataset:  80%|████████████████████████████████████████████████████████████████████████████████████████████████████████████████████████████▊                               | 8/10 [00:15<00:03,  1.91s/it]"
     ]
    },
    {
     "name": "stdout",
     "output_type": "stream",
     "text": [
      "Trying to call OpenAI API...\n"
     ]
    },
    {
     "name": "stderr",
     "output_type": "stream",
     "text": [
      "Processing dataset:  90%|████████████████████████████████████████████████████████████████████████████████████████████████████████████████████████████████████████████▍               | 9/10 [00:18<00:01,  1.98s/it]"
     ]
    },
    {
     "name": "stdout",
     "output_type": "stream",
     "text": [
      "Trying to call OpenAI API...\n"
     ]
    },
    {
     "name": "stderr",
     "output_type": "stream",
     "text": [
      "Processing dataset: 100%|███████████████████████████████████████████████████████████████████████████████████████████████████████████████████████████████████████████████████████████| 10/10 [00:19<00:00,  1.98s/it]\n"
     ]
    }
   ],
   "source": [
    "sampled_df['gpt_predictions'] = apply_gpt_with_progress(sampled_df['abstract'], prompt)"
   ]
  },
  {
   "cell_type": "code",
   "execution_count": 100,
   "id": "91a5ebc3-780f-4fd3-bbff-90690d3c3e7d",
   "metadata": {},
   "outputs": [],
   "source": [
    "labels = [\"Human-systematic-review\", \"Human-RCT-drug-intervention\", \"Human-RCT-non-drug-intervention\", \"Human-RCT-non-intervention\", \"Human-case-report\", \"Human-non-RCT-drug-intervention\", \"Human-non-RCT-non-drug-intervention\", \"Animal-systematic-review\", \"Animal-drug-intervention\", \"Animal-non-drug-intervention\", \"Animal-other\", \"Non-systematic-review\", \"In-vitro-study\", \"Clinical-study-protocol\", \"Remaining\"]\n",
    "\n",
    "label_to_numerical = {label: i for i, label in enumerate(labels)}\n",
    "label_to_numerical[\"label missing\"] = -1"
   ]
  },
  {
   "cell_type": "code",
   "execution_count": 101,
   "id": "b06a7462-9acf-4018-a02b-b4b3e9261e69",
   "metadata": {},
   "outputs": [
    {
     "data": {
      "text/plain": [
       "{'Human-systematic-review': 0,\n",
       " 'Human-RCT-drug-intervention': 1,\n",
       " 'Human-RCT-non-drug-intervention': 2,\n",
       " 'Human-RCT-non-intervention': 3,\n",
       " 'Human-case-report': 4,\n",
       " 'Human-non-RCT-drug-intervention': 5,\n",
       " 'Human-non-RCT-non-drug-intervention': 6,\n",
       " 'Animal-systematic-review': 7,\n",
       " 'Animal-drug-intervention': 8,\n",
       " 'Animal-non-drug-intervention': 9,\n",
       " 'Animal-other': 10,\n",
       " 'Non-systematic-review': 11,\n",
       " 'In-vitro-study': 12,\n",
       " 'Clinical-study-protocol': 13,\n",
       " 'Remaining': 14,\n",
       " 'label missing': -1}"
      ]
     },
     "execution_count": 101,
     "metadata": {},
     "output_type": "execute_result"
    }
   ],
   "source": [
    "label_to_numerical"
   ]
  },
  {
   "cell_type": "code",
   "execution_count": 103,
   "id": "56f1b14b-d788-481a-9f0e-3eeb51ea74f3",
   "metadata": {},
   "outputs": [
    {
     "data": {
      "text/html": [
       "<div>\n",
       "<style scoped>\n",
       "    .dataframe tbody tr th:only-of-type {\n",
       "        vertical-align: middle;\n",
       "    }\n",
       "\n",
       "    .dataframe tbody tr th {\n",
       "        vertical-align: top;\n",
       "    }\n",
       "\n",
       "    .dataframe thead th {\n",
       "        text-align: right;\n",
       "    }\n",
       "</style>\n",
       "<table border=\"1\" class=\"dataframe\">\n",
       "  <thead>\n",
       "    <tr style=\"text-align: right;\">\n",
       "      <th></th>\n",
       "      <th>pmid</th>\n",
       "      <th>journal_name</th>\n",
       "      <th>title</th>\n",
       "      <th>abstract</th>\n",
       "      <th>accepted_label</th>\n",
       "      <th>gpt_predictions</th>\n",
       "      <th>gpt_label</th>\n",
       "    </tr>\n",
       "  </thead>\n",
       "  <tbody>\n",
       "    <tr>\n",
       "      <th>304</th>\n",
       "      <td>12905582</td>\n",
       "      <td>Fa yi xue za zhi</td>\n",
       "      <td>[The research of the heroin and its metabolite...</td>\n",
       "      <td>Heroin can be metabolized easily in body and t...</td>\n",
       "      <td>Remaining</td>\n",
       "      <td>{\\n    \"gpt_label\": \"Human-case-report\",\\n    ...</td>\n",
       "      <td>Human-case-report</td>\n",
       "    </tr>\n",
       "    <tr>\n",
       "      <th>340</th>\n",
       "      <td>28645717</td>\n",
       "      <td>Vaccine</td>\n",
       "      <td>Surveillance of pneumococcal colonization and ...</td>\n",
       "      <td>Following the introduction of pneumococcal con...</td>\n",
       "      <td>Human-non-RCT-drug-intervention</td>\n",
       "      <td>{\\n    \"gpt_label\": \"Human-systematic-review\",...</td>\n",
       "      <td>Human-systematic-review</td>\n",
       "    </tr>\n",
       "    <tr>\n",
       "      <th>47</th>\n",
       "      <td>11482695</td>\n",
       "      <td>Acta neurochirurgica</td>\n",
       "      <td>Carotid endarterectomy: a new technique replac...</td>\n",
       "      <td>Carotid endarterectomy has been reported to in...</td>\n",
       "      <td>Human-non-RCT-non-drug-intervention</td>\n",
       "      <td>{\\n    \"gpt_label\": \"Human-case-report\",\\n    ...</td>\n",
       "      <td>Human-case-report</td>\n",
       "    </tr>\n",
       "  </tbody>\n",
       "</table>\n",
       "</div>"
      ],
      "text/plain": [
       "         pmid          journal_name  \\\n",
       "304  12905582      Fa yi xue za zhi   \n",
       "340  28645717               Vaccine   \n",
       "47   11482695  Acta neurochirurgica   \n",
       "\n",
       "                                                 title  \\\n",
       "304  [The research of the heroin and its metabolite...   \n",
       "340  Surveillance of pneumococcal colonization and ...   \n",
       "47   Carotid endarterectomy: a new technique replac...   \n",
       "\n",
       "                                              abstract  \\\n",
       "304  Heroin can be metabolized easily in body and t...   \n",
       "340  Following the introduction of pneumococcal con...   \n",
       "47   Carotid endarterectomy has been reported to in...   \n",
       "\n",
       "                          accepted_label  \\\n",
       "304                            Remaining   \n",
       "340      Human-non-RCT-drug-intervention   \n",
       "47   Human-non-RCT-non-drug-intervention   \n",
       "\n",
       "                                       gpt_predictions  \\\n",
       "304  {\\n    \"gpt_label\": \"Human-case-report\",\\n    ...   \n",
       "340  {\\n    \"gpt_label\": \"Human-systematic-review\",...   \n",
       "47   {\\n    \"gpt_label\": \"Human-case-report\",\\n    ...   \n",
       "\n",
       "                   gpt_label  \n",
       "304        Human-case-report  \n",
       "340  Human-systematic-review  \n",
       "47         Human-case-report  "
      ]
     },
     "execution_count": 103,
     "metadata": {},
     "output_type": "execute_result"
    }
   ],
   "source": [
    "df_exploded = sampled_df.explode('accepted_label')\n",
    "df_exploded['gpt_label'] = df_exploded['gpt_predictions'].apply(lambda x: json.loads(x)['gpt_label'])\n",
    "\n",
    "df_exploded.head(3)"
   ]
  },
  {
   "cell_type": "markdown",
   "id": "ddfd6deb-f323-4f98-99b9-adee3c670b51",
   "metadata": {},
   "source": [
    "### Evaluate performance"
   ]
  },
  {
   "cell_type": "code",
   "execution_count": 58,
   "id": "9d537053-f45e-40f1-8fbe-565bd4b8a3ca",
   "metadata": {},
   "outputs": [],
   "source": [
    "from sklearn.metrics import accuracy_score, classification_report\n",
    "from sklearn.metrics import balanced_accuracy_score\n"
   ]
  },
  {
   "cell_type": "code",
   "execution_count": 59,
   "id": "f7290947-87db-42d5-b30b-81612333f5f2",
   "metadata": {},
   "outputs": [],
   "source": [
    "# Adjust mapping to return -1 for labels not found in the map\n",
    "df_exploded['accepted_label_numerical'] = df_exploded['accepted_label'].apply(lambda x: label_to_numerical.get(x, -1))\n",
    "df_exploded['gpt_predictions_numerical'] = df_exploded['gpt_predictions'].apply(lambda x: label_to_numerical.get(x, -1))"
   ]
  },
  {
   "cell_type": "code",
   "execution_count": 60,
   "id": "7ce2f01c-d1f5-4739-9060-2457af6a44f9",
   "metadata": {},
   "outputs": [
    {
     "data": {
      "text/plain": [
       "15"
      ]
     },
     "execution_count": 60,
     "metadata": {},
     "output_type": "execute_result"
    }
   ],
   "source": [
    "len(labels)"
   ]
  },
  {
   "cell_type": "code",
   "execution_count": 61,
   "id": "de7f2e34-1b27-4a10-b54f-ab43a73ad564",
   "metadata": {},
   "outputs": [
    {
     "name": "stderr",
     "output_type": "stream",
     "text": [
      "/Users/donevas/Library/Caches/pypoetry/virtualenvs/pubmed-abstract-classifier-wiYN7Q0G-py3.9/lib/python3.9/site-packages/sklearn/metrics/_classification.py:2458: UserWarning: y_pred contains classes not in y_true\n",
      "  warnings.warn(\"y_pred contains classes not in y_true\")\n"
     ]
    },
    {
     "data": {
      "text/plain": [
       "(0.2, 0.37575757575757573)"
      ]
     },
     "execution_count": 61,
     "metadata": {},
     "output_type": "execute_result"
    }
   ],
   "source": [
    "# Extract arrays for evaluation\n",
    "y_true = df_exploded['accepted_label_numerical'].values\n",
    "y_pred = df_exploded['gpt_predictions_numerical'].values\n",
    "\n",
    "# Evaluation\n",
    "accuracy = accuracy_score(y_true, y_pred)\n",
    "#report = classification_report(y_true, y_pred,output_dict=True, zero_division=0)\n",
    "accuracy_balanced = balanced_accuracy_score(y_true, y_pred)\n",
    "\n",
    "accuracy, accuracy_balanced # Note: proportion of correctly predicted observations to the total observations. It's most useful when the classes are balanced but can be misleading when dealing with imbalanced classes."
   ]
  },
  {
   "cell_type": "code",
   "execution_count": 62,
   "id": "4a98c671-5c6b-4e81-a86c-3619ae14b84d",
   "metadata": {},
   "outputs": [],
   "source": [
    "# Adjusting the classification report to only include relevant labels\n",
    "unique_labels = sorted(set(y_true) | set(y_pred))\n",
    "target_names_adjusted = [labels[i] for i in unique_labels]\n",
    "\n",
    "# Recalculate classification report with adjusted target names\n",
    "report_adjusted = classification_report(y_true, y_pred, output_dict=True, labels=unique_labels, target_names=target_names_adjusted, zero_division=0)\n"
   ]
  },
  {
   "cell_type": "code",
   "execution_count": 63,
   "id": "897044af-35fb-4d02-8753-52987685166d",
   "metadata": {},
   "outputs": [
    {
     "data": {
      "text/html": [
       "<div>\n",
       "<style scoped>\n",
       "    .dataframe tbody tr th:only-of-type {\n",
       "        vertical-align: middle;\n",
       "    }\n",
       "\n",
       "    .dataframe tbody tr th {\n",
       "        vertical-align: top;\n",
       "    }\n",
       "\n",
       "    .dataframe thead th {\n",
       "        text-align: right;\n",
       "    }\n",
       "</style>\n",
       "<table border=\"1\" class=\"dataframe\">\n",
       "  <thead>\n",
       "    <tr style=\"text-align: right;\">\n",
       "      <th></th>\n",
       "      <th>precision</th>\n",
       "      <th>recall</th>\n",
       "      <th>f1-score</th>\n",
       "      <th>support</th>\n",
       "    </tr>\n",
       "  </thead>\n",
       "  <tbody>\n",
       "    <tr>\n",
       "      <th>Remaining</th>\n",
       "      <td>0.000000</td>\n",
       "      <td>0.000000</td>\n",
       "      <td>0.000000</td>\n",
       "      <td>21.0</td>\n",
       "    </tr>\n",
       "    <tr>\n",
       "      <th>Human-systematic-review</th>\n",
       "      <td>0.333333</td>\n",
       "      <td>1.000000</td>\n",
       "      <td>0.500000</td>\n",
       "      <td>2.0</td>\n",
       "    </tr>\n",
       "    <tr>\n",
       "      <th>Human-RCT-drug-intervention</th>\n",
       "      <td>0.500000</td>\n",
       "      <td>1.000000</td>\n",
       "      <td>0.666667</td>\n",
       "      <td>1.0</td>\n",
       "    </tr>\n",
       "    <tr>\n",
       "      <th>Human-RCT-non-drug-intervention</th>\n",
       "      <td>0.500000</td>\n",
       "      <td>0.333333</td>\n",
       "      <td>0.400000</td>\n",
       "      <td>3.0</td>\n",
       "    </tr>\n",
       "    <tr>\n",
       "      <th>Human-case-report</th>\n",
       "      <td>0.166667</td>\n",
       "      <td>0.500000</td>\n",
       "      <td>0.250000</td>\n",
       "      <td>2.0</td>\n",
       "    </tr>\n",
       "    <tr>\n",
       "      <th>Human-non-RCT-drug-intervention</th>\n",
       "      <td>0.000000</td>\n",
       "      <td>0.000000</td>\n",
       "      <td>0.000000</td>\n",
       "      <td>1.0</td>\n",
       "    </tr>\n",
       "    <tr>\n",
       "      <th>Human-non-RCT-non-drug-intervention</th>\n",
       "      <td>0.166667</td>\n",
       "      <td>0.200000</td>\n",
       "      <td>0.181818</td>\n",
       "      <td>5.0</td>\n",
       "    </tr>\n",
       "    <tr>\n",
       "      <th>Animal-drug-intervention</th>\n",
       "      <td>0.750000</td>\n",
       "      <td>0.600000</td>\n",
       "      <td>0.666667</td>\n",
       "      <td>5.0</td>\n",
       "    </tr>\n",
       "    <tr>\n",
       "      <th>Animal-non-drug-intervention</th>\n",
       "      <td>1.000000</td>\n",
       "      <td>0.500000</td>\n",
       "      <td>0.666667</td>\n",
       "      <td>2.0</td>\n",
       "    </tr>\n",
       "    <tr>\n",
       "      <th>Non-systematic-review</th>\n",
       "      <td>0.000000</td>\n",
       "      <td>0.000000</td>\n",
       "      <td>0.000000</td>\n",
       "      <td>6.0</td>\n",
       "    </tr>\n",
       "    <tr>\n",
       "      <th>In-vitro-study</th>\n",
       "      <td>0.000000</td>\n",
       "      <td>0.000000</td>\n",
       "      <td>0.000000</td>\n",
       "      <td>2.0</td>\n",
       "    </tr>\n",
       "    <tr>\n",
       "      <th>accuracy</th>\n",
       "      <td>0.200000</td>\n",
       "      <td>0.200000</td>\n",
       "      <td>0.200000</td>\n",
       "      <td>0.2</td>\n",
       "    </tr>\n",
       "    <tr>\n",
       "      <th>macro avg</th>\n",
       "      <td>0.284722</td>\n",
       "      <td>0.344444</td>\n",
       "      <td>0.277652</td>\n",
       "      <td>50.0</td>\n",
       "    </tr>\n",
       "    <tr>\n",
       "      <th>weighted avg</th>\n",
       "      <td>0.191667</td>\n",
       "      <td>0.200000</td>\n",
       "      <td>0.178848</td>\n",
       "      <td>50.0</td>\n",
       "    </tr>\n",
       "  </tbody>\n",
       "</table>\n",
       "</div>"
      ],
      "text/plain": [
       "                                     precision    recall  f1-score  support\n",
       "Remaining                             0.000000  0.000000  0.000000     21.0\n",
       "Human-systematic-review               0.333333  1.000000  0.500000      2.0\n",
       "Human-RCT-drug-intervention           0.500000  1.000000  0.666667      1.0\n",
       "Human-RCT-non-drug-intervention       0.500000  0.333333  0.400000      3.0\n",
       "Human-case-report                     0.166667  0.500000  0.250000      2.0\n",
       "Human-non-RCT-drug-intervention       0.000000  0.000000  0.000000      1.0\n",
       "Human-non-RCT-non-drug-intervention   0.166667  0.200000  0.181818      5.0\n",
       "Animal-drug-intervention              0.750000  0.600000  0.666667      5.0\n",
       "Animal-non-drug-intervention          1.000000  0.500000  0.666667      2.0\n",
       "Non-systematic-review                 0.000000  0.000000  0.000000      6.0\n",
       "In-vitro-study                        0.000000  0.000000  0.000000      2.0\n",
       "accuracy                              0.200000  0.200000  0.200000      0.2\n",
       "macro avg                             0.284722  0.344444  0.277652     50.0\n",
       "weighted avg                          0.191667  0.200000  0.178848     50.0"
      ]
     },
     "execution_count": 63,
     "metadata": {},
     "output_type": "execute_result"
    }
   ],
   "source": [
    "# Convert the report to a DataFrame for visualization\n",
    "report_df = pd.DataFrame(report_adjusted).transpose()\n",
    "\n",
    "report_df"
   ]
  },
  {
   "cell_type": "code",
   "execution_count": 64,
   "id": "0771ef2e-f92f-4d6f-9d66-098e0f17f613",
   "metadata": {},
   "outputs": [
    {
     "data": {
      "text/plain": [
       "{'Remaining': {'precision': 0.0,\n",
       "  'recall': 0.0,\n",
       "  'f1-score': 0.0,\n",
       "  'support': 21.0},\n",
       " 'Human-systematic-review': {'precision': 0.3333333333333333,\n",
       "  'recall': 1.0,\n",
       "  'f1-score': 0.5,\n",
       "  'support': 2.0},\n",
       " 'Human-RCT-drug-intervention': {'precision': 0.5,\n",
       "  'recall': 1.0,\n",
       "  'f1-score': 0.6666666666666666,\n",
       "  'support': 1.0},\n",
       " 'Human-RCT-non-drug-intervention': {'precision': 0.5,\n",
       "  'recall': 0.3333333333333333,\n",
       "  'f1-score': 0.4,\n",
       "  'support': 3.0},\n",
       " 'Human-case-report': {'precision': 0.16666666666666666,\n",
       "  'recall': 0.5,\n",
       "  'f1-score': 0.25,\n",
       "  'support': 2.0},\n",
       " 'Human-non-RCT-drug-intervention': {'precision': 0.0,\n",
       "  'recall': 0.0,\n",
       "  'f1-score': 0.0,\n",
       "  'support': 1.0},\n",
       " 'Human-non-RCT-non-drug-intervention': {'precision': 0.16666666666666666,\n",
       "  'recall': 0.2,\n",
       "  'f1-score': 0.18181818181818182,\n",
       "  'support': 5.0},\n",
       " 'Animal-drug-intervention': {'precision': 0.75,\n",
       "  'recall': 0.6,\n",
       "  'f1-score': 0.6666666666666666,\n",
       "  'support': 5.0},\n",
       " 'Animal-non-drug-intervention': {'precision': 1.0,\n",
       "  'recall': 0.5,\n",
       "  'f1-score': 0.6666666666666666,\n",
       "  'support': 2.0},\n",
       " 'Non-systematic-review': {'precision': 0.0,\n",
       "  'recall': 0.0,\n",
       "  'f1-score': 0.0,\n",
       "  'support': 6.0},\n",
       " 'In-vitro-study': {'precision': 0.0,\n",
       "  'recall': 0.0,\n",
       "  'f1-score': 0.0,\n",
       "  'support': 2.0},\n",
       " 'accuracy': 0.2,\n",
       " 'macro avg': {'precision': 0.2847222222222222,\n",
       "  'recall': 0.3444444444444444,\n",
       "  'f1-score': 0.27765151515151515,\n",
       "  'support': 50.0},\n",
       " 'weighted avg': {'precision': 0.19166666666666665,\n",
       "  'recall': 0.2,\n",
       "  'f1-score': 0.17884848484848487,\n",
       "  'support': 50.0}}"
      ]
     },
     "execution_count": 64,
     "metadata": {},
     "output_type": "execute_result"
    }
   ],
   "source": [
    "# note: The support is the number of occurrences of each class in y_true.\n",
    "report_adjusted"
   ]
  },
  {
   "cell_type": "markdown",
   "id": "4df639ce-cd4e-4e20-8059-76c86cbb5565",
   "metadata": {},
   "source": [
    "## Run the GPT task over the whole dataset"
   ]
  },
  {
   "cell_type": "code",
   "execution_count": 45,
   "id": "0dbbd227-0520-4a52-bcd2-4aca38229e3c",
   "metadata": {},
   "outputs": [
    {
     "name": "stderr",
     "output_type": "stream",
     "text": [
      "Processing classify: 100%|██████████████████████████████████████████████████████████████████████████████████████████████████████████████████████████████████████████| 3/3 [00:11<00:00,  3.88s/it]\n"
     ]
    }
   ],
   "source": [
    "# gpt_predictions_conditions is the column\n",
    "df['gpt_predictions'] = apply_gpt_with_progress(df['abstract'], \"classify\")"
   ]
  },
  {
   "cell_type": "code",
   "execution_count": 46,
   "id": "54888db1-016a-4b0c-9dfe-2e18d71f2124",
   "metadata": {},
   "outputs": [
    {
     "data": {
      "text/html": [
       "<div>\n",
       "<style scoped>\n",
       "    .dataframe tbody tr th:only-of-type {\n",
       "        vertical-align: middle;\n",
       "    }\n",
       "\n",
       "    .dataframe tbody tr th {\n",
       "        vertical-align: top;\n",
       "    }\n",
       "\n",
       "    .dataframe thead th {\n",
       "        text-align: right;\n",
       "    }\n",
       "</style>\n",
       "<table border=\"1\" class=\"dataframe\">\n",
       "  <thead>\n",
       "    <tr style=\"text-align: right;\">\n",
       "      <th></th>\n",
       "      <th>pmid</th>\n",
       "      <th>journal_name</th>\n",
       "      <th>title</th>\n",
       "      <th>abstract</th>\n",
       "      <th>accepted_label</th>\n",
       "      <th>gpt_predictions</th>\n",
       "    </tr>\n",
       "  </thead>\n",
       "  <tbody>\n",
       "    <tr>\n",
       "      <th>0</th>\n",
       "      <td>37550718</td>\n",
       "      <td>Trials</td>\n",
       "      <td>Can dexamethasone improve postoperative sleep ...</td>\n",
       "      <td>Perioperative sleep disorders (PSD) are an ind...</td>\n",
       "      <td>[Animal-other]</td>\n",
       "      <td>Human-RCT-drug-intervention</td>\n",
       "    </tr>\n",
       "    <tr>\n",
       "      <th>1</th>\n",
       "      <td>2500373</td>\n",
       "      <td>Developmental medicine and child neurology</td>\n",
       "      <td>Effects of puberty on seizure frequency.</td>\n",
       "      <td>Seizure frequency was documented before, durin...</td>\n",
       "      <td>[Remaining]</td>\n",
       "      <td>Human-case-report</td>\n",
       "    </tr>\n",
       "    <tr>\n",
       "      <th>2</th>\n",
       "      <td>36189588</td>\n",
       "      <td>Journal of Alzheimer's disease : JAD</td>\n",
       "      <td>Characterization of Mild Cognitive Impairment ...</td>\n",
       "      <td>Despite tremendous advancements in the field, ...</td>\n",
       "      <td>[Human-systematic-review]</td>\n",
       "      <td>Human-case-report</td>\n",
       "    </tr>\n",
       "  </tbody>\n",
       "</table>\n",
       "</div>"
      ],
      "text/plain": [
       "       pmid                                journal_name  \\\n",
       "0  37550718                                      Trials   \n",
       "1   2500373  Developmental medicine and child neurology   \n",
       "2  36189588        Journal of Alzheimer's disease : JAD   \n",
       "\n",
       "                                               title  \\\n",
       "0  Can dexamethasone improve postoperative sleep ...   \n",
       "1           Effects of puberty on seizure frequency.   \n",
       "2  Characterization of Mild Cognitive Impairment ...   \n",
       "\n",
       "                                            abstract  \\\n",
       "0  Perioperative sleep disorders (PSD) are an ind...   \n",
       "1  Seizure frequency was documented before, durin...   \n",
       "2  Despite tremendous advancements in the field, ...   \n",
       "\n",
       "              accepted_label              gpt_predictions  \n",
       "0             [Animal-other]  Human-RCT-drug-intervention  \n",
       "1                [Remaining]            Human-case-report  \n",
       "2  [Human-systematic-review]            Human-case-report  "
      ]
     },
     "execution_count": 46,
     "metadata": {},
     "output_type": "execute_result"
    }
   ],
   "source": [
    "df"
   ]
  },
  {
   "cell_type": "code",
   "execution_count": 47,
   "id": "daca730b-d2af-4ddb-ad8c-37cd9d69bd74",
   "metadata": {},
   "outputs": [],
   "source": [
    "ds_annotated_full_copy = df.copy()"
   ]
  },
  {
   "cell_type": "markdown",
   "id": "22120aed-0d00-4677-b0d8-0838e26bc2a2",
   "metadata": {},
   "source": [
    "# Read prompts from file and query GPT"
   ]
  },
  {
   "cell_type": "code",
   "execution_count": 123,
   "id": "b15b1a3e-4a26-4939-b804-86b3a6e54197",
   "metadata": {},
   "outputs": [],
   "source": [
    "json_file_path = \"./prompt_strategies.json\"\n",
    "# Load the JSON file\n",
    "with open(json_file_path, 'r') as file:\n",
    "    prompts_data = json.load(file)"
   ]
  },
  {
   "cell_type": "code",
   "execution_count": 124,
   "id": "b4993ff4-c59f-4150-a977-e2990a111cf5",
   "metadata": {},
   "outputs": [
    {
     "data": {
      "text/html": [
       "<div>\n",
       "<style scoped>\n",
       "    .dataframe tbody tr th:only-of-type {\n",
       "        vertical-align: middle;\n",
       "    }\n",
       "\n",
       "    .dataframe tbody tr th {\n",
       "        vertical-align: top;\n",
       "    }\n",
       "\n",
       "    .dataframe thead th {\n",
       "        text-align: right;\n",
       "    }\n",
       "</style>\n",
       "<table border=\"1\" class=\"dataframe\">\n",
       "  <thead>\n",
       "    <tr style=\"text-align: right;\">\n",
       "      <th></th>\n",
       "      <th>pmid</th>\n",
       "      <th>journal_name</th>\n",
       "      <th>title</th>\n",
       "      <th>abstract</th>\n",
       "      <th>accepted_label</th>\n",
       "    </tr>\n",
       "  </thead>\n",
       "  <tbody>\n",
       "    <tr>\n",
       "      <th>304</th>\n",
       "      <td>12905582</td>\n",
       "      <td>Fa yi xue za zhi</td>\n",
       "      <td>[The research of the heroin and its metabolite...</td>\n",
       "      <td>Heroin can be metabolized easily in body and t...</td>\n",
       "      <td>[Remaining]</td>\n",
       "    </tr>\n",
       "    <tr>\n",
       "      <th>340</th>\n",
       "      <td>28645717</td>\n",
       "      <td>Vaccine</td>\n",
       "      <td>Surveillance of pneumococcal colonization and ...</td>\n",
       "      <td>Following the introduction of pneumococcal con...</td>\n",
       "      <td>[Human-non-RCT-drug-intervention]</td>\n",
       "    </tr>\n",
       "    <tr>\n",
       "      <th>47</th>\n",
       "      <td>11482695</td>\n",
       "      <td>Acta neurochirurgica</td>\n",
       "      <td>Carotid endarterectomy: a new technique replac...</td>\n",
       "      <td>Carotid endarterectomy has been reported to in...</td>\n",
       "      <td>[Human-non-RCT-non-drug-intervention]</td>\n",
       "    </tr>\n",
       "    <tr>\n",
       "      <th>67</th>\n",
       "      <td>15065953</td>\n",
       "      <td>Journal of consulting and clinical psychology</td>\n",
       "      <td>Traditional versus integrative behavioral coup...</td>\n",
       "      <td>A randomized clinical trial compared the effec...</td>\n",
       "      <td>[Human-RCT-non-drug-intervention]</td>\n",
       "    </tr>\n",
       "    <tr>\n",
       "      <th>479</th>\n",
       "      <td>9578881</td>\n",
       "      <td>The Journal of laryngology and otology</td>\n",
       "      <td>Vocal fold abductor paralysis as a solitary an...</td>\n",
       "      <td>A patient is presented who had bilateral abduc...</td>\n",
       "      <td>[Remaining]</td>\n",
       "    </tr>\n",
       "  </tbody>\n",
       "</table>\n",
       "</div>"
      ],
      "text/plain": [
       "         pmid                                   journal_name  \\\n",
       "304  12905582                               Fa yi xue za zhi   \n",
       "340  28645717                                        Vaccine   \n",
       "47   11482695                           Acta neurochirurgica   \n",
       "67   15065953  Journal of consulting and clinical psychology   \n",
       "479   9578881         The Journal of laryngology and otology   \n",
       "\n",
       "                                                 title  \\\n",
       "304  [The research of the heroin and its metabolite...   \n",
       "340  Surveillance of pneumococcal colonization and ...   \n",
       "47   Carotid endarterectomy: a new technique replac...   \n",
       "67   Traditional versus integrative behavioral coup...   \n",
       "479  Vocal fold abductor paralysis as a solitary an...   \n",
       "\n",
       "                                              abstract  \\\n",
       "304  Heroin can be metabolized easily in body and t...   \n",
       "340  Following the introduction of pneumococcal con...   \n",
       "47   Carotid endarterectomy has been reported to in...   \n",
       "67   A randomized clinical trial compared the effec...   \n",
       "479  A patient is presented who had bilateral abduc...   \n",
       "\n",
       "                            accepted_label  \n",
       "304                            [Remaining]  \n",
       "340      [Human-non-RCT-drug-intervention]  \n",
       "47   [Human-non-RCT-non-drug-intervention]  \n",
       "67       [Human-RCT-non-drug-intervention]  \n",
       "479                            [Remaining]  "
      ]
     },
     "execution_count": 124,
     "metadata": {},
     "output_type": "execute_result"
    }
   ],
   "source": [
    "sampled_df = df.sample(n=5, random_state=1)\n",
    "sampled_df.head()"
   ]
  },
  {
   "cell_type": "code",
   "execution_count": 143,
   "id": "13f33c08-807c-40f2-808c-f2ec1c25e772",
   "metadata": {},
   "outputs": [
    {
     "name": "stderr",
     "output_type": "stream",
     "text": [
      "Processing dataset:   0%|                                                                                                                                                                     | 0/5 [00:00<?, ?it/s]"
     ]
    },
    {
     "name": "stdout",
     "output_type": "stream",
     "text": [
      "Trying to call OpenAI API...\n"
     ]
    },
    {
     "name": "stderr",
     "output_type": "stream",
     "text": [
      "Processing dataset:  20%|███████████████████████████████▍                                                                                                                             | 1/5 [00:01<00:04,  1.09s/it]"
     ]
    },
    {
     "name": "stdout",
     "output_type": "stream",
     "text": [
      "Trying to call OpenAI API...\n"
     ]
    },
    {
     "name": "stderr",
     "output_type": "stream",
     "text": [
      "Processing dataset:  40%|██████████████████████████████████████████████████████████████▊                                                                                              | 2/5 [00:02<00:03,  1.05s/it]"
     ]
    },
    {
     "name": "stdout",
     "output_type": "stream",
     "text": [
      "Trying to call OpenAI API...\n"
     ]
    },
    {
     "name": "stderr",
     "output_type": "stream",
     "text": [
      "Processing dataset:  60%|██████████████████████████████████████████████████████████████████████████████████████████████▏                                                              | 3/5 [00:02<00:01,  1.06it/s]"
     ]
    },
    {
     "name": "stdout",
     "output_type": "stream",
     "text": [
      "Trying to call OpenAI API...\n"
     ]
    },
    {
     "name": "stderr",
     "output_type": "stream",
     "text": [
      "Processing dataset:  80%|█████████████████████████████████████████████████████████████████████████████████████████████████████████████████████████████▌                               | 4/5 [00:03<00:00,  1.12it/s]"
     ]
    },
    {
     "name": "stdout",
     "output_type": "stream",
     "text": [
      "Trying to call OpenAI API...\n"
     ]
    },
    {
     "name": "stderr",
     "output_type": "stream",
     "text": [
      "Processing dataset: 100%|█████████████████████████████████████████████████████████████████████████████████████████████████████████████████████████████████████████████████████████████| 5/5 [00:04<00:00,  1.09it/s]\n",
      "Processing dataset:   0%|                                                                                                                                                                     | 0/5 [00:00<?, ?it/s]"
     ]
    },
    {
     "name": "stdout",
     "output_type": "stream",
     "text": [
      "Trying to call OpenAI API...\n"
     ]
    },
    {
     "name": "stderr",
     "output_type": "stream",
     "text": [
      "Processing dataset:  20%|███████████████████████████████▍                                                                                                                             | 1/5 [00:00<00:03,  1.23it/s]"
     ]
    },
    {
     "name": "stdout",
     "output_type": "stream",
     "text": [
      "Trying to call OpenAI API...\n"
     ]
    },
    {
     "name": "stderr",
     "output_type": "stream",
     "text": [
      "Processing dataset:  40%|██████████████████████████████████████████████████████████████▊                                                                                              | 2/5 [00:01<00:02,  1.30it/s]"
     ]
    },
    {
     "name": "stdout",
     "output_type": "stream",
     "text": [
      "Trying to call OpenAI API...\n"
     ]
    },
    {
     "name": "stderr",
     "output_type": "stream",
     "text": [
      "Processing dataset:  60%|██████████████████████████████████████████████████████████████████████████████████████████████▏                                                              | 3/5 [00:02<00:01,  1.31it/s]"
     ]
    },
    {
     "name": "stdout",
     "output_type": "stream",
     "text": [
      "Trying to call OpenAI API...\n"
     ]
    },
    {
     "name": "stderr",
     "output_type": "stream",
     "text": [
      "Processing dataset:  80%|█████████████████████████████████████████████████████████████████████████████████████████████████████████████████████████████▌                               | 4/5 [00:02<00:00,  1.38it/s]"
     ]
    },
    {
     "name": "stdout",
     "output_type": "stream",
     "text": [
      "Trying to call OpenAI API...\n"
     ]
    },
    {
     "name": "stderr",
     "output_type": "stream",
     "text": [
      "Processing dataset: 100%|█████████████████████████████████████████████████████████████████████████████████████████████████████████████████████████████████████████████████████████████| 5/5 [00:03<00:00,  1.37it/s]"
     ]
    },
    {
     "name": "stdout",
     "output_type": "stream",
     "text": [
      "Skipping prompt P3\n",
      "Skipping prompt P4\n",
      "Skipping prompt P5\n"
     ]
    },
    {
     "name": "stderr",
     "output_type": "stream",
     "text": [
      "\n"
     ]
    }
   ],
   "source": [
    "prompt_ids_to_test = [\"P1\", \"P2\"]\n",
    "model = \"gpt-3.5-turbo\"\n",
    "\n",
    "for prompt in prompts_data[\"prompts\"]:\n",
    "    prompt_id = prompt[\"id\"]\n",
    "    prompt_text = prompt[\"text\"]\n",
    "\n",
    "    if prompt_id in prompt_ids_to_test:\n",
    "        # Apply GPT predictions\n",
    "        sampled_df[f'gpt_predictions_{prompt_id}'] = apply_gpt_with_progress(sampled_df['abstract'], prompt_text, model)\n",
    "        sampled_df[f'gpt_predictions_{prompt_id}'] = sampled_df[f'gpt_predictions_{prompt_id}'].apply(lambda x: json.loads(x)['gpt_label'])\n",
    "        sampled_df.to_csv(f\"predictions/{model}_outputs_{'_'.join(prompt_ids_to_test)}.csv\")\n",
    "    else:\n",
    "        print(f\"Skipping prompt {prompt_id}\")\n",
    "        "
   ]
  },
  {
   "cell_type": "code",
   "execution_count": 144,
   "id": "86a3d121-24d6-418c-abbd-406cbb9c3ce9",
   "metadata": {},
   "outputs": [
    {
     "data": {
      "text/html": [
       "<div>\n",
       "<style scoped>\n",
       "    .dataframe tbody tr th:only-of-type {\n",
       "        vertical-align: middle;\n",
       "    }\n",
       "\n",
       "    .dataframe tbody tr th {\n",
       "        vertical-align: top;\n",
       "    }\n",
       "\n",
       "    .dataframe thead th {\n",
       "        text-align: right;\n",
       "    }\n",
       "</style>\n",
       "<table border=\"1\" class=\"dataframe\">\n",
       "  <thead>\n",
       "    <tr style=\"text-align: right;\">\n",
       "      <th></th>\n",
       "      <th>pmid</th>\n",
       "      <th>journal_name</th>\n",
       "      <th>title</th>\n",
       "      <th>abstract</th>\n",
       "      <th>accepted_label</th>\n",
       "      <th>gpt_predictions_P1</th>\n",
       "      <th>gpt_predictions_P2</th>\n",
       "      <th>gpt_predictions_P3</th>\n",
       "      <th>gpt_predictions_P4</th>\n",
       "      <th>gpt_predictions_P5</th>\n",
       "    </tr>\n",
       "  </thead>\n",
       "  <tbody>\n",
       "    <tr>\n",
       "      <th>304</th>\n",
       "      <td>12905582</td>\n",
       "      <td>Fa yi xue za zhi</td>\n",
       "      <td>[The research of the heroin and its metabolite...</td>\n",
       "      <td>Heroin can be metabolized easily in body and t...</td>\n",
       "      <td>[Remaining]</td>\n",
       "      <td>Human-non-RCT-non-drug-intervention</td>\n",
       "      <td>Human-case-report</td>\n",
       "      <td>Human-case-report</td>\n",
       "      <td>Remaining</td>\n",
       "      <td>Non-systematic review</td>\n",
       "    </tr>\n",
       "    <tr>\n",
       "      <th>340</th>\n",
       "      <td>28645717</td>\n",
       "      <td>Vaccine</td>\n",
       "      <td>Surveillance of pneumococcal colonization and ...</td>\n",
       "      <td>Following the introduction of pneumococcal con...</td>\n",
       "      <td>[Human-non-RCT-drug-intervention]</td>\n",
       "      <td>Human-systematic-review</td>\n",
       "      <td>Human-systematic-review</td>\n",
       "      <td>Human-systematic-review</td>\n",
       "      <td>Human, systematic review</td>\n",
       "      <td>Human, systematic review</td>\n",
       "    </tr>\n",
       "    <tr>\n",
       "      <th>47</th>\n",
       "      <td>11482695</td>\n",
       "      <td>Acta neurochirurgica</td>\n",
       "      <td>Carotid endarterectomy: a new technique replac...</td>\n",
       "      <td>Carotid endarterectomy has been reported to in...</td>\n",
       "      <td>[Human-non-RCT-non-drug-intervention]</td>\n",
       "      <td>Human-case-report</td>\n",
       "      <td>Human-case-report</td>\n",
       "      <td>Human-case-report</td>\n",
       "      <td>Case report</td>\n",
       "      <td>Non-RCT non-drug-intervention</td>\n",
       "    </tr>\n",
       "    <tr>\n",
       "      <th>67</th>\n",
       "      <td>15065953</td>\n",
       "      <td>Journal of consulting and clinical psychology</td>\n",
       "      <td>Traditional versus integrative behavioral coup...</td>\n",
       "      <td>A randomized clinical trial compared the effec...</td>\n",
       "      <td>[Human-RCT-non-drug-intervention]</td>\n",
       "      <td>Human-RCT-non-drug-intervention</td>\n",
       "      <td>Human-RCT-non-drug-intervention</td>\n",
       "      <td>Human-RCT-non-drug-intervention</td>\n",
       "      <td>Human, RCT non-drug-intervention</td>\n",
       "      <td>Human, RCT non-drug-intervention</td>\n",
       "    </tr>\n",
       "    <tr>\n",
       "      <th>479</th>\n",
       "      <td>9578881</td>\n",
       "      <td>The Journal of laryngology and otology</td>\n",
       "      <td>Vocal fold abductor paralysis as a solitary an...</td>\n",
       "      <td>A patient is presented who had bilateral abduc...</td>\n",
       "      <td>[Remaining]</td>\n",
       "      <td>Human-case-report</td>\n",
       "      <td>Human-case-report</td>\n",
       "      <td>Human-case-report</td>\n",
       "      <td>Case report</td>\n",
       "      <td>Case report</td>\n",
       "    </tr>\n",
       "  </tbody>\n",
       "</table>\n",
       "</div>"
      ],
      "text/plain": [
       "         pmid                                   journal_name  \\\n",
       "304  12905582                               Fa yi xue za zhi   \n",
       "340  28645717                                        Vaccine   \n",
       "47   11482695                           Acta neurochirurgica   \n",
       "67   15065953  Journal of consulting and clinical psychology   \n",
       "479   9578881         The Journal of laryngology and otology   \n",
       "\n",
       "                                                 title  \\\n",
       "304  [The research of the heroin and its metabolite...   \n",
       "340  Surveillance of pneumococcal colonization and ...   \n",
       "47   Carotid endarterectomy: a new technique replac...   \n",
       "67   Traditional versus integrative behavioral coup...   \n",
       "479  Vocal fold abductor paralysis as a solitary an...   \n",
       "\n",
       "                                              abstract  \\\n",
       "304  Heroin can be metabolized easily in body and t...   \n",
       "340  Following the introduction of pneumococcal con...   \n",
       "47   Carotid endarterectomy has been reported to in...   \n",
       "67   A randomized clinical trial compared the effec...   \n",
       "479  A patient is presented who had bilateral abduc...   \n",
       "\n",
       "                            accepted_label  \\\n",
       "304                            [Remaining]   \n",
       "340      [Human-non-RCT-drug-intervention]   \n",
       "47   [Human-non-RCT-non-drug-intervention]   \n",
       "67       [Human-RCT-non-drug-intervention]   \n",
       "479                            [Remaining]   \n",
       "\n",
       "                      gpt_predictions_P1               gpt_predictions_P2  \\\n",
       "304  Human-non-RCT-non-drug-intervention                Human-case-report   \n",
       "340              Human-systematic-review          Human-systematic-review   \n",
       "47                     Human-case-report                Human-case-report   \n",
       "67       Human-RCT-non-drug-intervention  Human-RCT-non-drug-intervention   \n",
       "479                    Human-case-report                Human-case-report   \n",
       "\n",
       "                  gpt_predictions_P3                gpt_predictions_P4  \\\n",
       "304                Human-case-report                         Remaining   \n",
       "340          Human-systematic-review          Human, systematic review   \n",
       "47                 Human-case-report                       Case report   \n",
       "67   Human-RCT-non-drug-intervention  Human, RCT non-drug-intervention   \n",
       "479                Human-case-report                       Case report   \n",
       "\n",
       "                   gpt_predictions_P5  \n",
       "304             Non-systematic review  \n",
       "340          Human, systematic review  \n",
       "47      Non-RCT non-drug-intervention  \n",
       "67   Human, RCT non-drug-intervention  \n",
       "479                       Case report  "
      ]
     },
     "execution_count": 144,
     "metadata": {},
     "output_type": "execute_result"
    }
   ],
   "source": [
    "sampled_df"
   ]
  },
  {
   "cell_type": "code",
   "execution_count": null,
   "id": "39276e19-77f0-40d3-98e3-34f1d0bed036",
   "metadata": {},
   "outputs": [],
   "source": []
  }
 ],
 "metadata": {
  "kernelspec": {
   "display_name": "Python 3 (ipykernel)",
   "language": "python",
   "name": "python3"
  },
  "language_info": {
   "codemirror_mode": {
    "name": "ipython",
    "version": 3
   },
   "file_extension": ".py",
   "mimetype": "text/x-python",
   "name": "python",
   "nbconvert_exporter": "python",
   "pygments_lexer": "ipython3",
   "version": "3.11.7"
  }
 },
 "nbformat": 4,
 "nbformat_minor": 5
}
