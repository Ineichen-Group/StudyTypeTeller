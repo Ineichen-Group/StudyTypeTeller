{
 "cells": [
  {
   "cell_type": "code",
   "execution_count": 1,
   "id": "5292809a-a6bf-45b8-bfd6-1589ee42a7b1",
   "metadata": {},
   "outputs": [
    {
     "name": "stderr",
     "output_type": "stream",
     "text": [
      "/var/folders/px/wtj901jn7z9f26xgbys4l7jh0000gp/T/ipykernel_16873/3411647144.py:1: DeprecationWarning: \n",
      "Pyarrow will become a required dependency of pandas in the next major release of pandas (pandas 3.0),\n",
      "(to allow more performant data types, such as the Arrow string type, and better interoperability with other libraries)\n",
      "but was not found to be installed on your system.\n",
      "If this would cause problems for you,\n",
      "please provide us feedback at https://github.com/pandas-dev/pandas/issues/54466\n",
      "        \n",
      "  import pandas as pd\n"
     ]
    }
   ],
   "source": [
    "import pandas as pd\n",
    "import openai\n",
    "import json\n",
    "import time\n",
    "import matplotlib.pyplot as plt\n",
    "from tqdm import tqdm  # Import tqdm for the progress bar\n"
   ]
  },
  {
   "cell_type": "code",
   "execution_count": 2,
   "id": "1ffebb73-a46a-4783-99fe-cb5ce0a5508a",
   "metadata": {},
   "outputs": [],
   "source": [
    "from openai import OpenAI"
   ]
  },
  {
   "cell_type": "code",
   "execution_count": 3,
   "id": "4fb4ab9c-6f1e-4989-8e89-0b84993330d2",
   "metadata": {},
   "outputs": [
    {
     "data": {
      "text/plain": [
       "'1.12.0'"
      ]
     },
     "execution_count": 3,
     "metadata": {},
     "output_type": "execute_result"
    }
   ],
   "source": [
    "openai.__version__\n"
   ]
  },
  {
   "cell_type": "markdown",
   "id": "c461bf8d-2acf-4c37-b11d-a638e88b9b65",
   "metadata": {},
   "source": [
    "### Read in data"
   ]
  },
  {
   "cell_type": "code",
   "execution_count": 5,
   "id": "bbe461a0-164b-4201-a93d-12e1df9193bb",
   "metadata": {},
   "outputs": [],
   "source": [
    "# Initialize an empty list to store the parsed data\n",
    "data_list = []\n",
    "\n",
    "# Read the JSONL file line by line\n",
    "with open('../data/prodigy/annotated_output/remaining_1300_pubmed_abstracts_shirin.jsonl', 'r') as file:\n",
    "    for line in file:\n",
    "        # Parse each line as a JSON object\n",
    "        data = json.loads(line.strip())\n",
    "        \n",
    "        # Check if _view_id is \"choice\"// should be review if this was coming from a review prodigy session\n",
    "        if data.get(\"_view_id\") == \"choice\":\n",
    "            # Split text into journal_name, title, and abstract based on ^\\n symbol\n",
    "            text = data.get(\"text\", \"\")\n",
    "            \n",
    "            # Splitting text based on ^\\n for journal_name, title, and abstract\n",
    "            parts = text.split(\"^\\n\", 2)  # Split into three parts based on first two ^\\n occurrences\n",
    "            \n",
    "            journal_name = parts[0].strip() if len(parts) > 0 else \"\"\n",
    "            title = parts[1].strip() if len(parts) > 1 else \"\"\n",
    "            abstract = parts[2].strip() if len(parts) > 2 else \"\"\n",
    "            \n",
    "            # Extract other required fields\n",
    "            pmid = data.get(\"pmid\", \"\")\n",
    "            accept = data.get(\"accept\", [])\n",
    "            \n",
    "            # Append to the list\n",
    "            data_list.append({\n",
    "                \"pmid\": pmid,\n",
    "                \"journal_name\": journal_name,\n",
    "                \"title\": title,\n",
    "                \"abstract\": abstract,\n",
    "                \"accepted_label\": accept\n",
    "            })\n",
    "\n",
    "# Convert the list of dictionaries to a pandas DataFrame\n",
    "df = pd.DataFrame(data_list)"
   ]
  },
  {
   "cell_type": "code",
   "execution_count": 42,
   "id": "b8623523-3916-4522-9999-18931e017571",
   "metadata": {},
   "outputs": [
    {
     "data": {
      "text/html": [
       "<div>\n",
       "<style scoped>\n",
       "    .dataframe tbody tr th:only-of-type {\n",
       "        vertical-align: middle;\n",
       "    }\n",
       "\n",
       "    .dataframe tbody tr th {\n",
       "        vertical-align: top;\n",
       "    }\n",
       "\n",
       "    .dataframe thead th {\n",
       "        text-align: right;\n",
       "    }\n",
       "</style>\n",
       "<table border=\"1\" class=\"dataframe\">\n",
       "  <thead>\n",
       "    <tr style=\"text-align: right;\">\n",
       "      <th></th>\n",
       "      <th>pmid</th>\n",
       "      <th>journal_name</th>\n",
       "      <th>title</th>\n",
       "      <th>abstract</th>\n",
       "      <th>accepted_label</th>\n",
       "    </tr>\n",
       "  </thead>\n",
       "  <tbody>\n",
       "    <tr>\n",
       "      <th>0</th>\n",
       "      <td>18379746</td>\n",
       "      <td>Der Radiologe</td>\n",
       "      <td>[Pediatric stroke].</td>\n",
       "      <td>Stroke in childhood has gained increasingly mo...</td>\n",
       "      <td>[Non-systematic-review]</td>\n",
       "    </tr>\n",
       "    <tr>\n",
       "      <th>1</th>\n",
       "      <td>24660674</td>\n",
       "      <td>Journal of consulting and clinical psychology</td>\n",
       "      <td>Treatment engagement and response to CBT among...</td>\n",
       "      <td>In the current study, we compared measures of ...</td>\n",
       "      <td>[Human-RCT-non-drug-intervention]</td>\n",
       "    </tr>\n",
       "    <tr>\n",
       "      <th>2</th>\n",
       "      <td>20159133</td>\n",
       "      <td>Archives of physical medicine and rehabilitation</td>\n",
       "      <td>Relationship between perceived exertion and ph...</td>\n",
       "      <td>To investigate the strength of the relationshi...</td>\n",
       "      <td>[Remaining]</td>\n",
       "    </tr>\n",
       "    <tr>\n",
       "      <th>3</th>\n",
       "      <td>11781147</td>\n",
       "      <td>Biochimica et biophysica acta</td>\n",
       "      <td>Characterization of a missense mutation at his...</td>\n",
       "      <td>Genetic defects in pyruvate dehydrogenase comp...</td>\n",
       "      <td>[Remaining]</td>\n",
       "    </tr>\n",
       "    <tr>\n",
       "      <th>4</th>\n",
       "      <td>31706919</td>\n",
       "      <td>Epilepsy &amp; behavior : E&amp;B</td>\n",
       "      <td>The role of P-glycoprotein (P-gp) and inwardly...</td>\n",
       "      <td>Sudden unexpected death in epilepsy (SUDEP) is...</td>\n",
       "      <td>[Non-systematic-review]</td>\n",
       "    </tr>\n",
       "  </tbody>\n",
       "</table>\n",
       "</div>"
      ],
      "text/plain": [
       "       pmid                                      journal_name  \\\n",
       "0  18379746                                     Der Radiologe   \n",
       "1  24660674     Journal of consulting and clinical psychology   \n",
       "2  20159133  Archives of physical medicine and rehabilitation   \n",
       "3  11781147                     Biochimica et biophysica acta   \n",
       "4  31706919                         Epilepsy & behavior : E&B   \n",
       "\n",
       "                                               title  \\\n",
       "0                                [Pediatric stroke].   \n",
       "1  Treatment engagement and response to CBT among...   \n",
       "2  Relationship between perceived exertion and ph...   \n",
       "3  Characterization of a missense mutation at his...   \n",
       "4  The role of P-glycoprotein (P-gp) and inwardly...   \n",
       "\n",
       "                                            abstract  \\\n",
       "0  Stroke in childhood has gained increasingly mo...   \n",
       "1  In the current study, we compared measures of ...   \n",
       "2  To investigate the strength of the relationshi...   \n",
       "3  Genetic defects in pyruvate dehydrogenase comp...   \n",
       "4  Sudden unexpected death in epilepsy (SUDEP) is...   \n",
       "\n",
       "                      accepted_label  \n",
       "0            [Non-systematic-review]  \n",
       "1  [Human-RCT-non-drug-intervention]  \n",
       "2                        [Remaining]  \n",
       "3                        [Remaining]  \n",
       "4            [Non-systematic-review]  "
      ]
     },
     "execution_count": 42,
     "metadata": {},
     "output_type": "execute_result"
    }
   ],
   "source": [
    "df.head(5)"
   ]
  },
  {
   "cell_type": "markdown",
   "id": "e0725592-c308-4ec2-a4d3-a8bc89d11878",
   "metadata": {},
   "source": [
    "### Load key for the OpenAI API "
   ]
  },
  {
   "cell_type": "code",
   "execution_count": 7,
   "id": "5410c439-9e4e-4878-90c0-e8ca1d25c2ef",
   "metadata": {},
   "outputs": [],
   "source": [
    "def load_pass(file_path, key_to_find):\n",
    "    with open(file_path, 'r') as file:\n",
    "        for line in file:\n",
    "            parts = line.strip().split(\"=\")\n",
    "            if len(parts) == 2 and parts[0] == key_to_find:\n",
    "                found_password = parts[1]\n",
    "                break\n",
    "    if found_password:\n",
    "        print(\"Found password.\")\n",
    "        return found_password\n",
    "    else:\n",
    "        print(\"Password not found for key:\", key_to_find)"
   ]
  },
  {
   "cell_type": "markdown",
   "id": "7a5933e6-3cb4-4e37-aa85-51ea968919f8",
   "metadata": {},
   "source": [
    "Note: You need to create a credentials.txt file with the following content:  \n",
    "OPENAI=sk-77QXXXXXXXXXXXXXXXXXXXXXXXXXXX  \n",
    "replace the value after the = sign with your API key.  \n",
    "Make sure the credentials.txt is added to .gitignore, you don't want to put your password on Git!"
   ]
  },
  {
   "cell_type": "code",
   "execution_count": 8,
   "id": "7156eb84-1813-4ae3-8dbc-d4084f66afa3",
   "metadata": {},
   "outputs": [
    {
     "name": "stdout",
     "output_type": "stream",
     "text": [
      "Found password.\n"
     ]
    }
   ],
   "source": [
    "openai.api_key = load_pass(\"../credentials.txt\", \"OPENAI\")\n"
   ]
  },
  {
   "cell_type": "code",
   "execution_count": 9,
   "id": "0c11b84b-e9c2-44df-9c6c-ef084bf261f4",
   "metadata": {},
   "outputs": [],
   "source": [
    "client = OpenAI(api_key=openai.api_key)"
   ]
  },
  {
   "cell_type": "markdown",
   "id": "3ad13134-f6eb-491e-b59b-6a705e820619",
   "metadata": {},
   "source": [
    "### Query GPT models"
   ]
  },
  {
   "cell_type": "markdown",
   "id": "ebd02c0b-d4bc-4f23-aaf8-e125821e7c87",
   "metadata": {},
   "source": [
    "To change the task the model is solving, you need to change the text of the prompt and the content text of the system role.  \n",
    "To change the GPT model used, you need to change the text of the model name when initiating the openai API.  \n",
    "The function gets as input the input_raw_text, that will be text for information extraction or classification."
   ]
  },
  {
   "cell_type": "code",
   "execution_count": 43,
   "id": "3ea3f587-8b26-4b55-a423-cad38eb7bad1",
   "metadata": {},
   "outputs": [],
   "source": [
    "import time\n",
    "\n",
    "def query_gpt(input_raw_text, task, prompt_text, max_retries=5, retry_delay=2):\n",
    "    \"\"\"\n",
    "    Queries GPT model with the provided input text for a specified task.\n",
    "    \n",
    "    Parameters:\n",
    "    - input_raw_text (str): The text to process.\n",
    "    - task (str): The type of task to perform, e.g., \"classify\".\n",
    "    - prompt_text (str): The prompt to use in addition to the input text.\n",
    "    - max_retries (int): Maximum number of retries if API call fails.\n",
    "    - retry_delay (int): Seconds to wait before retrying the API call.\n",
    "    \n",
    "    Returns:\n",
    "    - str: The result from the GPT model, or an error message if the task is unknown or retries are exceeded.\n",
    "    \"\"\"\n",
    "    \n",
    "    # Add a delay at the beginning of the function to avoid overloading the API if there are multiple calls\n",
    "    time.sleep(20)  # Corrected to 20 seconds as per the comment\n",
    "    \n",
    "    if task == \"classify\":\n",
    "        prompt = prompt_text\n",
    "    else:\n",
    "        return \"Task not known.\"\n",
    "    \n",
    "    retries = 0\n",
    "    while retries < max_retries:\n",
    "        print(\"Trying to call OpenAI API...\")\n",
    "        try:\n",
    "            completion = client.chat.completions.create(\n",
    "                model=\"gpt-3.5-turbo\",  # CHANGE this to the desired model name, see https://platform.openai.com/docs/models\n",
    "                temperature=0.6,\n",
    "                max_tokens=2000,\n",
    "                messages=[\n",
    "                    {\"role\": \"system\", \"content\": \"You are an expert information extraction assistant from clinical trials.\"},\n",
    "                    {\"role\": \"user\", \"content\": prompt + input_raw_text}\n",
    "                ]\n",
    "            )\n",
    "            return completion.choices[0].message.content\n",
    "        except Exception as e:\n",
    "            # Handle API error, e.g., retry or log\n",
    "            print(f\"OpenAI API returned an error: {e}\")\n",
    "            time.sleep(retry_delay)  # Wait before retrying\n",
    "            retries += 1\n",
    "\n",
    "    raise RuntimeError(\"Max retries reached. Unable to complete the API call.\")\n"
   ]
  },
  {
   "cell_type": "code",
   "execution_count": 45,
   "id": "7a71e4d0-1294-403a-9f88-79315921f2df",
   "metadata": {},
   "outputs": [
    {
     "data": {
      "text/plain": [
       "'Stroke in childhood has gained increasingly more attention and is accepted as an important disease in childhood. The reasons for this severe event and the consequences for the rest of the life are totally different than for adults. This is also true for the diagnosis and therapy. This paper gives a comprehensive overview on the characteristics of pediatric stroke to assist radiologists in making a rapid and safe diagnosis in order to identify the underlying disease.'"
      ]
     },
     "execution_count": 45,
     "metadata": {},
     "output_type": "execute_result"
    }
   ],
   "source": [
    "df['abstract'][0]"
   ]
  },
  {
   "cell_type": "markdown",
   "id": "1db96c0d-eab9-4bed-a7aa-d5396f1b3cc3",
   "metadata": {},
   "source": [
    "## Run the GPT task over the a sample for development"
   ]
  },
  {
   "cell_type": "code",
   "execution_count": 52,
   "id": "491999ea-5200-4233-bafb-cce9972621d0",
   "metadata": {},
   "outputs": [],
   "source": [
    "prompt = (\n",
    "    \"Classify this text to one of these labels: \"\n",
    "    \"Clinical-study-protocol, Human-systematic-review, Non-systematic-review, \"\n",
    "    \"Human-RCT-non-drug-intervention, Human-RCT-drug-intervention, Human-RCT-non-intervention, \"\n",
    "    \"Human-case-report, Human-non-RCT-non-drug-intervention, Human-non-RCT-drug-intervention, \"\n",
    "    \"Animal-systematic-review, Animal-drug-intervention, Animal-non-drug-intervention, \"\n",
    "    \"Animal-other, In-vitro-study, Remaining: \"\n",
    ")"
   ]
  },
  {
   "cell_type": "code",
   "execution_count": 47,
   "id": "1b46f103-e12e-42e3-8b5c-5e19d6b5401c",
   "metadata": {},
   "outputs": [
    {
     "name": "stdout",
     "output_type": "stream",
     "text": [
      "Trying to call OpenAI API...\n"
     ]
    },
    {
     "data": {
      "text/plain": [
       "'Human-systematic-review'"
      ]
     },
     "execution_count": 47,
     "metadata": {},
     "output_type": "execute_result"
    }
   ],
   "source": [
    "example_input = df['abstract'][0]\n",
    "query_gpt(example_input, \"classify\", prompt)"
   ]
  },
  {
   "cell_type": "markdown",
   "id": "91630249-3734-4659-a003-613d2bfd137c",
   "metadata": {},
   "source": [
    "### random sample"
   ]
  },
  {
   "cell_type": "code",
   "execution_count": 48,
   "id": "31e07ac6-90c3-45e6-b7d9-2aee15890eb1",
   "metadata": {},
   "outputs": [],
   "source": [
    "# Sample 50 elements randomly in a reproducible way\n",
    "sampled_df = df.sample(n=50, random_state=1)"
   ]
  },
  {
   "cell_type": "code",
   "execution_count": 49,
   "id": "00585cd3-6bb4-431a-805e-1a095a95642d",
   "metadata": {},
   "outputs": [
    {
     "data": {
      "image/png": "[encoded data removed]",
      "text/plain": [
       "<Figure size 640x480 with 1 Axes>"
      ]
     },
     "metadata": {},
     "output_type": "display_data"
    }
   ],
   "source": [
    "# Explode the 'accepted_label' column to have each label as a separate row\n",
    "df_exploded = sampled_df.explode('accepted_label')\n",
    "\n",
    "# Count the occurrences of each label\n",
    "label_counts = sampled_df['accepted_label'].value_counts()\n",
    "\n",
    "# Plot the distribution\n",
    "label_counts.plot(kind='barh')\n",
    "plt.title('Distribution of Accepted Labels')\n",
    "plt.xlabel('Accepted Label')\n",
    "plt.ylabel('Frequency')\n",
    "plt.xticks(rotation=45)\n",
    "plt.show()"
   ]
  },
  {
   "cell_type": "code",
   "execution_count": 50,
   "id": "f085dda8-96aa-4735-8f08-cfc2e096cedb",
   "metadata": {},
   "outputs": [],
   "source": [
    "# Define a function to apply GPT queries with a progress bar\n",
    "def apply_gpt_with_progress(data_series, task, prompt):\n",
    "    results = []\n",
    "    total_items = len(data_series)\n",
    "    \n",
    "    # Create a tqdm progress bar\n",
    "    with tqdm(total=total_items, desc=f\"Processing {task}\") as pbar:\n",
    "        for text in data_series:\n",
    "            result = query_gpt(text, task, prompt)\n",
    "            results.append(result)\n",
    "            pbar.update(1)  # Update the progress bar\n",
    "\n",
    "    return results"
   ]
  },
  {
   "cell_type": "markdown",
   "id": "117065d5-def1-4b51-ba20-5d64ca9265d7",
   "metadata": {},
   "source": [
    "### run GPT"
   ]
  },
  {
   "cell_type": "code",
   "execution_count": null,
   "id": "d4b04255-222c-4ad9-803c-b3410e096538",
   "metadata": {
    "scrolled": true
   },
   "outputs": [
    {
     "name": "stderr",
     "output_type": "stream",
     "text": [
      "Processing classify:   0%|                                                                                                                   | 0/50 [00:00<?, ?it/s]"
     ]
    },
    {
     "name": "stdout",
     "output_type": "stream",
     "text": [
      "Trying to call OpenAI API...\n"
     ]
    },
    {
     "name": "stderr",
     "output_type": "stream",
     "text": [
      "Processing classify:   2%|██▏                                                                                                        | 1/50 [00:20<16:59, 20.81s/it]"
     ]
    },
    {
     "name": "stdout",
     "output_type": "stream",
     "text": [
      "Trying to call OpenAI API...\n"
     ]
    },
    {
     "name": "stderr",
     "output_type": "stream",
     "text": [
      "Processing classify:   4%|████▎                                                                                                      | 2/50 [00:41<16:28, 20.59s/it]"
     ]
    },
    {
     "name": "stdout",
     "output_type": "stream",
     "text": [
      "Trying to call OpenAI API...\n"
     ]
    },
    {
     "name": "stderr",
     "output_type": "stream",
     "text": [
      "Processing classify:   6%|██████▍                                                                                                    | 3/50 [01:03<16:51, 21.52s/it]"
     ]
    },
    {
     "name": "stdout",
     "output_type": "stream",
     "text": [
      "Trying to call OpenAI API...\n"
     ]
    },
    {
     "name": "stderr",
     "output_type": "stream",
     "text": [
      "Processing classify:   8%|████████▌                                                                                                  | 4/50 [01:24<16:18, 21.28s/it]"
     ]
    },
    {
     "name": "stdout",
     "output_type": "stream",
     "text": [
      "Trying to call OpenAI API...\n"
     ]
    },
    {
     "name": "stderr",
     "output_type": "stream",
     "text": [
      "Processing classify:  10%|██████████▋                                                                                                | 5/50 [01:45<15:54, 21.22s/it]"
     ]
    },
    {
     "name": "stdout",
     "output_type": "stream",
     "text": [
      "Trying to call OpenAI API...\n"
     ]
    },
    {
     "name": "stderr",
     "output_type": "stream",
     "text": [
      "Processing classify:  12%|████████████▊                                                                                              | 6/50 [02:06<15:26, 21.05s/it]"
     ]
    },
    {
     "name": "stdout",
     "output_type": "stream",
     "text": [
      "Trying to call OpenAI API...\n"
     ]
    },
    {
     "name": "stderr",
     "output_type": "stream",
     "text": [
      "Processing classify:  14%|██████████████▉                                                                                            | 7/50 [02:27<15:01, 20.97s/it]"
     ]
    },
    {
     "name": "stdout",
     "output_type": "stream",
     "text": [
      "Trying to call OpenAI API...\n"
     ]
    },
    {
     "name": "stderr",
     "output_type": "stream",
     "text": [
      "Processing classify:  16%|█████████████████                                                                                          | 8/50 [02:48<14:38, 20.92s/it]"
     ]
    },
    {
     "name": "stdout",
     "output_type": "stream",
     "text": [
      "Trying to call OpenAI API...\n"
     ]
    },
    {
     "name": "stderr",
     "output_type": "stream",
     "text": [
      "Processing classify:  18%|███████████████████▎                                                                                       | 9/50 [03:08<14:12, 20.79s/it]"
     ]
    },
    {
     "name": "stdout",
     "output_type": "stream",
     "text": [
      "Trying to call OpenAI API...\n"
     ]
    },
    {
     "name": "stderr",
     "output_type": "stream",
     "text": [
      "Processing classify:  20%|█████████████████████▏                                                                                    | 10/50 [03:29<13:52, 20.81s/it]"
     ]
    },
    {
     "name": "stdout",
     "output_type": "stream",
     "text": [
      "Trying to call OpenAI API...\n"
     ]
    },
    {
     "name": "stderr",
     "output_type": "stream",
     "text": [
      "Processing classify:  22%|███████████████████████▎                                                                                  | 11/50 [03:50<13:37, 20.97s/it]"
     ]
    },
    {
     "name": "stdout",
     "output_type": "stream",
     "text": [
      "Trying to call OpenAI API...\n"
     ]
    },
    {
     "name": "stderr",
     "output_type": "stream",
     "text": [
      "Processing classify:  24%|█████████████████████████▍                                                                                | 12/50 [04:12<13:18, 21.01s/it]"
     ]
    },
    {
     "name": "stdout",
     "output_type": "stream",
     "text": [
      "Trying to call OpenAI API...\n"
     ]
    },
    {
     "name": "stderr",
     "output_type": "stream",
     "text": [
      "Processing classify:  26%|███████████████████████████▌                                                                              | 13/50 [04:33<12:58, 21.04s/it]"
     ]
    },
    {
     "name": "stdout",
     "output_type": "stream",
     "text": [
      "Trying to call OpenAI API...\n"
     ]
    },
    {
     "name": "stderr",
     "output_type": "stream",
     "text": [
      "Processing classify:  28%|█████████████████████████████▋                                                                            | 14/50 [04:53<12:33, 20.94s/it]"
     ]
    },
    {
     "name": "stdout",
     "output_type": "stream",
     "text": [
      "Trying to call OpenAI API...\n"
     ]
    },
    {
     "name": "stderr",
     "output_type": "stream",
     "text": [
      "Processing classify:  30%|███████████████████████████████▊                                                                          | 15/50 [05:15<12:17, 21.06s/it]"
     ]
    },
    {
     "name": "stdout",
     "output_type": "stream",
     "text": [
      "Trying to call OpenAI API...\n"
     ]
    },
    {
     "name": "stderr",
     "output_type": "stream",
     "text": [
      "Processing classify:  32%|█████████████████████████████████▉                                                                        | 16/50 [05:36<11:59, 21.18s/it]"
     ]
    },
    {
     "name": "stdout",
     "output_type": "stream",
     "text": [
      "Trying to call OpenAI API...\n"
     ]
    },
    {
     "name": "stderr",
     "output_type": "stream",
     "text": [
      "Processing classify:  34%|████████████████████████████████████                                                                      | 17/50 [06:03<12:32, 22.79s/it]"
     ]
    },
    {
     "name": "stdout",
     "output_type": "stream",
     "text": [
      "Trying to call OpenAI API...\n"
     ]
    },
    {
     "name": "stderr",
     "output_type": "stream",
     "text": [
      "Processing classify:  36%|██████████████████████████████████████▏                                                                   | 18/50 [06:24<11:52, 22.25s/it]"
     ]
    },
    {
     "name": "stdout",
     "output_type": "stream",
     "text": [
      "Trying to call OpenAI API...\n"
     ]
    },
    {
     "name": "stderr",
     "output_type": "stream",
     "text": [
      "Processing classify:  38%|████████████████████████████████████████▎                                                                 | 19/50 [06:46<11:27, 22.19s/it]"
     ]
    },
    {
     "name": "stdout",
     "output_type": "stream",
     "text": [
      "Trying to call OpenAI API...\n"
     ]
    },
    {
     "name": "stderr",
     "output_type": "stream",
     "text": [
      "Processing classify:  40%|██████████████████████████████████████████▍                                                               | 20/50 [07:06<10:52, 21.75s/it]"
     ]
    },
    {
     "name": "stdout",
     "output_type": "stream",
     "text": [
      "Trying to call OpenAI API...\n"
     ]
    },
    {
     "name": "stderr",
     "output_type": "stream",
     "text": [
      "Processing classify:  42%|████████████████████████████████████████████▌                                                             | 21/50 [07:27<10:22, 21.48s/it]"
     ]
    },
    {
     "name": "stdout",
     "output_type": "stream",
     "text": [
      "Trying to call OpenAI API...\n"
     ]
    },
    {
     "name": "stderr",
     "output_type": "stream",
     "text": [
      "Processing classify:  44%|██████████████████████████████████████████████▋                                                           | 22/50 [07:49<09:59, 21.42s/it]"
     ]
    },
    {
     "name": "stdout",
     "output_type": "stream",
     "text": [
      "Trying to call OpenAI API...\n"
     ]
    },
    {
     "name": "stderr",
     "output_type": "stream",
     "text": [
      "Processing classify:  46%|████████████████████████████████████████████████▊                                                         | 23/50 [08:10<09:39, 21.48s/it]"
     ]
    },
    {
     "name": "stdout",
     "output_type": "stream",
     "text": [
      "Trying to call OpenAI API...\n"
     ]
    },
    {
     "name": "stderr",
     "output_type": "stream",
     "text": [
      "Processing classify:  48%|██████████████████████████████████████████████████▉                                                       | 24/50 [08:31<09:13, 21.28s/it]"
     ]
    },
    {
     "name": "stdout",
     "output_type": "stream",
     "text": [
      "Trying to call OpenAI API...\n"
     ]
    },
    {
     "name": "stderr",
     "output_type": "stream",
     "text": [
      "Processing classify:  50%|█████████████████████████████████████████████████████                                                     | 25/50 [08:52<08:51, 21.25s/it]"
     ]
    },
    {
     "name": "stdout",
     "output_type": "stream",
     "text": [
      "Trying to call OpenAI API...\n"
     ]
    },
    {
     "name": "stderr",
     "output_type": "stream",
     "text": [
      "Processing classify:  52%|███████████████████████████████████████████████████████                                                   | 26/50 [09:13<08:28, 21.17s/it]"
     ]
    },
    {
     "name": "stdout",
     "output_type": "stream",
     "text": [
      "Trying to call OpenAI API...\n"
     ]
    },
    {
     "name": "stderr",
     "output_type": "stream",
     "text": [
      "Processing classify:  54%|█████████████████████████████████████████████████████████▏                                                | 27/50 [09:35<08:09, 21.29s/it]"
     ]
    },
    {
     "name": "stdout",
     "output_type": "stream",
     "text": [
      "Trying to call OpenAI API...\n"
     ]
    },
    {
     "name": "stderr",
     "output_type": "stream",
     "text": [
      "Processing classify:  56%|███████████████████████████████████████████████████████████▎                                              | 28/50 [09:55<07:44, 21.12s/it]"
     ]
    },
    {
     "name": "stdout",
     "output_type": "stream",
     "text": [
      "Trying to call OpenAI API...\n"
     ]
    },
    {
     "name": "stderr",
     "output_type": "stream",
     "text": [
      "Processing classify:  58%|█████████████████████████████████████████████████████████████▍                                            | 29/50 [10:16<07:22, 21.09s/it]"
     ]
    },
    {
     "name": "stdout",
     "output_type": "stream",
     "text": [
      "Trying to call OpenAI API...\n"
     ]
    },
    {
     "name": "stderr",
     "output_type": "stream",
     "text": [
      "Processing classify:  60%|███████████████████████████████████████████████████████████████▌                                          | 30/50 [10:38<07:01, 21.09s/it]"
     ]
    },
    {
     "name": "stdout",
     "output_type": "stream",
     "text": [
      "Trying to call OpenAI API...\n"
     ]
    },
    {
     "name": "stderr",
     "output_type": "stream",
     "text": [
      "Processing classify:  62%|█████████████████████████████████████████████████████████████████▋                                        | 31/50 [10:58<06:37, 20.92s/it]"
     ]
    },
    {
     "name": "stdout",
     "output_type": "stream",
     "text": [
      "Trying to call OpenAI API...\n"
     ]
    },
    {
     "name": "stderr",
     "output_type": "stream",
     "text": [
      "Processing classify:  64%|███████████████████████████████████████████████████████████████████▊                                      | 32/50 [11:19<06:16, 20.92s/it]"
     ]
    },
    {
     "name": "stdout",
     "output_type": "stream",
     "text": [
      "Trying to call OpenAI API...\n"
     ]
    },
    {
     "name": "stderr",
     "output_type": "stream",
     "text": [
      "Processing classify:  66%|█████████████████████████████████████████████████████████████████████▉                                    | 33/50 [11:40<05:57, 21.01s/it]"
     ]
    },
    {
     "name": "stdout",
     "output_type": "stream",
     "text": [
      "Trying to call OpenAI API...\n"
     ]
    },
    {
     "name": "stderr",
     "output_type": "stream",
     "text": [
      "Processing classify:  68%|████████████████████████████████████████████████████████████████████████                                  | 34/50 [12:01<05:36, 21.03s/it]"
     ]
    }
   ],
   "source": [
    "sampled_df['gpt_predictions'] = apply_gpt_with_progress(sampled_df['abstract'], \"classify\", prompt)"
   ]
  },
  {
   "cell_type": "code",
   "execution_count": 15,
   "id": "91a5ebc3-780f-4fd3-bbff-90690d3c3e7d",
   "metadata": {},
   "outputs": [],
   "source": [
    "labels = [\"Human-systematic-review\", \"Human-RCT-drug-intervention\", \"Human-RCT-non-drug-intervention\", \"Human-RCT-non-intervention\", \"Human-case-report\", \"Human-non-RCT-drug-intervention\", \"Human-non-RCT-non-drug-intervention\", \"Animal-systematic-review\", \"Animal-drug-intervention\", \"Animal-non-drug-intervention\", \"Animal-other\", \"Non-systematic-review\", \"In-vitro-study\", \"Clinical-study-protocol\", \"Remaining\"]\n",
    "\n",
    "label_to_numerical = {label: i for i, label in enumerate(labels)}\n",
    "label_to_numerical[\"label missing\"] = -1"
   ]
  },
  {
   "cell_type": "code",
   "execution_count": 16,
   "id": "b06a7462-9acf-4018-a02b-b4b3e9261e69",
   "metadata": {},
   "outputs": [
    {
     "data": {
      "text/plain": [
       "{'Human-systematic-review': 0,\n",
       " 'Human-RCT-drug-intervention': 1,\n",
       " 'Human-RCT-non-drug-intervention': 2,\n",
       " 'Human-RCT-non-intervention': 3,\n",
       " 'Human-case-report': 4,\n",
       " 'Human-non-RCT-drug-intervention': 5,\n",
       " 'Human-non-RCT-non-drug-intervention': 6,\n",
       " 'Animal-systematic-review': 7,\n",
       " 'Animal-drug-intervention': 8,\n",
       " 'Animal-non-drug-intervention': 9,\n",
       " 'Animal-other': 10,\n",
       " 'Non-systematic-review': 11,\n",
       " 'In-vitro-study': 12,\n",
       " 'Clinical-study-protocol': 13,\n",
       " 'Remaining': 14,\n",
       " 'label missing': -1}"
      ]
     },
     "execution_count": 16,
     "metadata": {},
     "output_type": "execute_result"
    }
   ],
   "source": [
    "label_to_numerical"
   ]
  },
  {
   "cell_type": "code",
   "execution_count": 17,
   "id": "56f1b14b-d788-481a-9f0e-3eeb51ea74f3",
   "metadata": {},
   "outputs": [
    {
     "data": {
      "text/html": [
       "<div>\n",
       "<style scoped>\n",
       "    .dataframe tbody tr th:only-of-type {\n",
       "        vertical-align: middle;\n",
       "    }\n",
       "\n",
       "    .dataframe tbody tr th {\n",
       "        vertical-align: top;\n",
       "    }\n",
       "\n",
       "    .dataframe thead th {\n",
       "        text-align: right;\n",
       "    }\n",
       "</style>\n",
       "<table border=\"1\" class=\"dataframe\">\n",
       "  <thead>\n",
       "    <tr style=\"text-align: right;\">\n",
       "      <th></th>\n",
       "      <th>pmid</th>\n",
       "      <th>journal_name</th>\n",
       "      <th>title</th>\n",
       "      <th>abstract</th>\n",
       "      <th>accepted_label</th>\n",
       "      <th>gpt_predictions</th>\n",
       "    </tr>\n",
       "  </thead>\n",
       "  <tbody>\n",
       "    <tr>\n",
       "      <th>1109</th>\n",
       "      <td>23926278</td>\n",
       "      <td>Journal of neurology, neurosurgery, and psychi...</td>\n",
       "      <td>Sera from patients with multifocal motor neuro...</td>\n",
       "      <td>In multifocal motor neuropathy (MMN), the dest...</td>\n",
       "      <td>In-vitro-study</td>\n",
       "      <td>Human-case-report</td>\n",
       "    </tr>\n",
       "    <tr>\n",
       "      <th>370</th>\n",
       "      <td>31446316</td>\n",
       "      <td>NeuroImage. Clinical</td>\n",
       "      <td>White matter microstructural abnormalities in ...</td>\n",
       "      <td>This study assessed white matter microstructur...</td>\n",
       "      <td>Remaining</td>\n",
       "      <td>Human-non-RCT-non-drug-intervention</td>\n",
       "    </tr>\n",
       "    <tr>\n",
       "      <th>572</th>\n",
       "      <td>12472824</td>\n",
       "      <td>Journal of psychiatric and mental health nursing</td>\n",
       "      <td>Women's experiences of hospital admission.</td>\n",
       "      <td>The primary aim of this study was to examine w...</td>\n",
       "      <td>Remaining</td>\n",
       "      <td>Human-non-RCT-non-drug-intervention</td>\n",
       "    </tr>\n",
       "  </tbody>\n",
       "</table>\n",
       "</div>"
      ],
      "text/plain": [
       "          pmid                                       journal_name  \\\n",
       "1109  23926278  Journal of neurology, neurosurgery, and psychi...   \n",
       "370   31446316                               NeuroImage. Clinical   \n",
       "572   12472824   Journal of psychiatric and mental health nursing   \n",
       "\n",
       "                                                  title  \\\n",
       "1109  Sera from patients with multifocal motor neuro...   \n",
       "370   White matter microstructural abnormalities in ...   \n",
       "572          Women's experiences of hospital admission.   \n",
       "\n",
       "                                               abstract  accepted_label  \\\n",
       "1109  In multifocal motor neuropathy (MMN), the dest...  In-vitro-study   \n",
       "370   This study assessed white matter microstructur...       Remaining   \n",
       "572   The primary aim of this study was to examine w...       Remaining   \n",
       "\n",
       "                          gpt_predictions  \n",
       "1109                    Human-case-report  \n",
       "370   Human-non-RCT-non-drug-intervention  \n",
       "572   Human-non-RCT-non-drug-intervention  "
      ]
     },
     "execution_count": 17,
     "metadata": {},
     "output_type": "execute_result"
    }
   ],
   "source": [
    "df_exploded = sampled_df.explode('accepted_label')\n",
    "df_exploded.head(3)"
   ]
  },
  {
   "cell_type": "markdown",
   "id": "ddfd6deb-f323-4f98-99b9-adee3c670b51",
   "metadata": {},
   "source": [
    "### Evaluate performance"
   ]
  },
  {
   "cell_type": "code",
   "execution_count": 37,
   "id": "9d537053-f45e-40f1-8fbe-565bd4b8a3ca",
   "metadata": {},
   "outputs": [],
   "source": [
    "from sklearn.metrics import accuracy_score, classification_report\n",
    "from sklearn.metrics import balanced_accuracy_score\n"
   ]
  },
  {
   "cell_type": "code",
   "execution_count": 19,
   "id": "f7290947-87db-42d5-b30b-81612333f5f2",
   "metadata": {},
   "outputs": [],
   "source": [
    "# Adjust mapping to return -1 for labels not found in the map\n",
    "df_exploded['accepted_label_numerical'] = df_exploded['accepted_label'].apply(lambda x: label_to_numerical.get(x, -1))\n",
    "df_exploded['gpt_predictions_numerical'] = df_exploded['gpt_predictions'].apply(lambda x: label_to_numerical.get(x, -1))"
   ]
  },
  {
   "cell_type": "code",
   "execution_count": 23,
   "id": "7ce2f01c-d1f5-4739-9060-2457af6a44f9",
   "metadata": {},
   "outputs": [
    {
     "data": {
      "text/plain": [
       "15"
      ]
     },
     "execution_count": 23,
     "metadata": {},
     "output_type": "execute_result"
    }
   ],
   "source": [
    "len(labels)"
   ]
  },
  {
   "cell_type": "code",
   "execution_count": 39,
   "id": "de7f2e34-1b27-4a10-b54f-ab43a73ad564",
   "metadata": {},
   "outputs": [
    {
     "name": "stderr",
     "output_type": "stream",
     "text": [
      "/Users/donevas/Library/Caches/pypoetry/virtualenvs/pubmed-abstract-classifier-wiYN7Q0G-py3.9/lib/python3.9/site-packages/sklearn/metrics/_classification.py:2458: UserWarning: y_pred contains classes not in y_true\n",
      "  warnings.warn(\"y_pred contains classes not in y_true\")\n"
     ]
    },
    {
     "data": {
      "text/plain": [
       "(0.24, 0.4242424242424242)"
      ]
     },
     "execution_count": 39,
     "metadata": {},
     "output_type": "execute_result"
    }
   ],
   "source": [
    "# Extract arrays for evaluation\n",
    "y_true = df_exploded['accepted_label_numerical'].values\n",
    "y_pred = df_exploded['gpt_predictions_numerical'].values\n",
    "\n",
    "# Evaluation\n",
    "accuracy = accuracy_score(y_true, y_pred)\n",
    "#report = classification_report(y_true, y_pred,output_dict=True, zero_division=0)\n",
    "accuracy_balanced = balanced_accuracy_score(y_true, y_pred)\n",
    "\n",
    "accuracy, accuracy_balanced # Note: proportion of correctly predicted observations to the total observations. It's most useful when the classes are balanced but can be misleading when dealing with imbalanced classes."
   ]
  },
  {
   "cell_type": "code",
   "execution_count": 40,
   "id": "4a98c671-5c6b-4e81-a86c-3619ae14b84d",
   "metadata": {},
   "outputs": [],
   "source": [
    "# Adjusting the classification report to only include relevant labels\n",
    "unique_labels = sorted(set(y_true) | set(y_pred))\n",
    "target_names_adjusted = [labels[i] for i in unique_labels]\n",
    "\n",
    "# Recalculate classification report with adjusted target names\n",
    "report_adjusted = classification_report(y_true, y_pred, output_dict=True, labels=unique_labels, target_names=target_names_adjusted, zero_division=0)\n"
   ]
  },
  {
   "cell_type": "code",
   "execution_count": null,
   "id": "897044af-35fb-4d02-8753-52987685166d",
   "metadata": {},
   "outputs": [],
   "source": [
    "# Convert the report to a DataFrame for visualization\n",
    "report_df = pd.DataFrame(report_adjusted).transpose()\n",
    "\n",
    "report_df"
   ]
  },
  {
   "cell_type": "code",
   "execution_count": 41,
   "id": "0771ef2e-f92f-4d6f-9d66-098e0f17f613",
   "metadata": {},
   "outputs": [
    {
     "data": {
      "text/plain": [
       "{'Remaining': {'precision': 0.0,\n",
       "  'recall': 0.0,\n",
       "  'f1-score': 0.0,\n",
       "  'support': 21.0},\n",
       " 'Human-systematic-review': {'precision': 0.6666666666666666,\n",
       "  'recall': 1.0,\n",
       "  'f1-score': 0.8,\n",
       "  'support': 2.0},\n",
       " 'Human-RCT-drug-intervention': {'precision': 0.25,\n",
       "  'recall': 1.0,\n",
       "  'f1-score': 0.4,\n",
       "  'support': 1.0},\n",
       " 'Human-RCT-non-drug-intervention': {'precision': 0.5,\n",
       "  'recall': 0.6666666666666666,\n",
       "  'f1-score': 0.5714285714285714,\n",
       "  'support': 3.0},\n",
       " 'Human-case-report': {'precision': 0.14285714285714285,\n",
       "  'recall': 1.0,\n",
       "  'f1-score': 0.25,\n",
       "  'support': 2.0},\n",
       " 'Human-non-RCT-drug-intervention': {'precision': 0.0,\n",
       "  'recall': 0.0,\n",
       "  'f1-score': 0.0,\n",
       "  'support': 1.0},\n",
       " 'Human-non-RCT-non-drug-intervention': {'precision': 0.15384615384615385,\n",
       "  'recall': 0.4,\n",
       "  'f1-score': 0.2222222222222222,\n",
       "  'support': 5.0},\n",
       " 'Animal-drug-intervention': {'precision': 0.75,\n",
       "  'recall': 0.6,\n",
       "  'f1-score': 0.6666666666666666,\n",
       "  'support': 5.0},\n",
       " 'Animal-non-drug-intervention': {'precision': 0.0,\n",
       "  'recall': 0.0,\n",
       "  'f1-score': 0.0,\n",
       "  'support': 2.0},\n",
       " 'Non-systematic-review': {'precision': 0.0,\n",
       "  'recall': 0.0,\n",
       "  'f1-score': 0.0,\n",
       "  'support': 6.0},\n",
       " 'In-vitro-study': {'precision': 0.0,\n",
       "  'recall': 0.0,\n",
       "  'f1-score': 0.0,\n",
       "  'support': 2.0},\n",
       " 'accuracy': 0.24,\n",
       " 'macro avg': {'precision': 0.2052808302808303,\n",
       "  'recall': 0.38888888888888884,\n",
       "  'f1-score': 0.242526455026455,\n",
       "  'support': 50.0},\n",
       " 'weighted avg': {'precision': 0.15776556776556774,\n",
       "  'recall': 0.24,\n",
       "  'f1-score': 0.17317460317460318,\n",
       "  'support': 50.0}}"
      ]
     },
     "execution_count": 41,
     "metadata": {},
     "output_type": "execute_result"
    }
   ],
   "source": [
    "# note: The support is the number of occurrences of each class in y_true.\n",
    "report_adjusted"
   ]
  },
  {
   "cell_type": "markdown",
   "id": "4df639ce-cd4e-4e20-8059-76c86cbb5565",
   "metadata": {},
   "source": [
    "## Run the GPT task over the whole dataset"
   ]
  },
  {
   "cell_type": "code",
   "execution_count": 45,
   "id": "0dbbd227-0520-4a52-bcd2-4aca38229e3c",
   "metadata": {},
   "outputs": [
    {
     "name": "stderr",
     "output_type": "stream",
     "text": [
      "Processing classify: 100%|██████████████████████████████████████████████████████████████████████████████████████████████████████████████████████████████████████████| 3/3 [00:11<00:00,  3.88s/it]\n"
     ]
    }
   ],
   "source": [
    "# gpt_predictions_conditions is the column\n",
    "df['gpt_predictions'] = apply_gpt_with_progress(df['abstract'], \"classify\")"
   ]
  },
  {
   "cell_type": "code",
   "execution_count": 46,
   "id": "54888db1-016a-4b0c-9dfe-2e18d71f2124",
   "metadata": {},
   "outputs": [
    {
     "data": {
      "text/html": [
       "<div>\n",
       "<style scoped>\n",
       "    .dataframe tbody tr th:only-of-type {\n",
       "        vertical-align: middle;\n",
       "    }\n",
       "\n",
       "    .dataframe tbody tr th {\n",
       "        vertical-align: top;\n",
       "    }\n",
       "\n",
       "    .dataframe thead th {\n",
       "        text-align: right;\n",
       "    }\n",
       "</style>\n",
       "<table border=\"1\" class=\"dataframe\">\n",
       "  <thead>\n",
       "    <tr style=\"text-align: right;\">\n",
       "      <th></th>\n",
       "      <th>pmid</th>\n",
       "      <th>journal_name</th>\n",
       "      <th>title</th>\n",
       "      <th>abstract</th>\n",
       "      <th>accepted_label</th>\n",
       "      <th>gpt_predictions</th>\n",
       "    </tr>\n",
       "  </thead>\n",
       "  <tbody>\n",
       "    <tr>\n",
       "      <th>0</th>\n",
       "      <td>37550718</td>\n",
       "      <td>Trials</td>\n",
       "      <td>Can dexamethasone improve postoperative sleep ...</td>\n",
       "      <td>Perioperative sleep disorders (PSD) are an ind...</td>\n",
       "      <td>[Animal-other]</td>\n",
       "      <td>Human-RCT-drug-intervention</td>\n",
       "    </tr>\n",
       "    <tr>\n",
       "      <th>1</th>\n",
       "      <td>2500373</td>\n",
       "      <td>Developmental medicine and child neurology</td>\n",
       "      <td>Effects of puberty on seizure frequency.</td>\n",
       "      <td>Seizure frequency was documented before, durin...</td>\n",
       "      <td>[Remaining]</td>\n",
       "      <td>Human-case-report</td>\n",
       "    </tr>\n",
       "    <tr>\n",
       "      <th>2</th>\n",
       "      <td>36189588</td>\n",
       "      <td>Journal of Alzheimer's disease : JAD</td>\n",
       "      <td>Characterization of Mild Cognitive Impairment ...</td>\n",
       "      <td>Despite tremendous advancements in the field, ...</td>\n",
       "      <td>[Human-systematic-review]</td>\n",
       "      <td>Human-case-report</td>\n",
       "    </tr>\n",
       "  </tbody>\n",
       "</table>\n",
       "</div>"
      ],
      "text/plain": [
       "       pmid                                journal_name  \\\n",
       "0  37550718                                      Trials   \n",
       "1   2500373  Developmental medicine and child neurology   \n",
       "2  36189588        Journal of Alzheimer's disease : JAD   \n",
       "\n",
       "                                               title  \\\n",
       "0  Can dexamethasone improve postoperative sleep ...   \n",
       "1           Effects of puberty on seizure frequency.   \n",
       "2  Characterization of Mild Cognitive Impairment ...   \n",
       "\n",
       "                                            abstract  \\\n",
       "0  Perioperative sleep disorders (PSD) are an ind...   \n",
       "1  Seizure frequency was documented before, durin...   \n",
       "2  Despite tremendous advancements in the field, ...   \n",
       "\n",
       "              accepted_label              gpt_predictions  \n",
       "0             [Animal-other]  Human-RCT-drug-intervention  \n",
       "1                [Remaining]            Human-case-report  \n",
       "2  [Human-systematic-review]            Human-case-report  "
      ]
     },
     "execution_count": 46,
     "metadata": {},
     "output_type": "execute_result"
    }
   ],
   "source": [
    "df"
   ]
  },
  {
   "cell_type": "code",
   "execution_count": 47,
   "id": "daca730b-d2af-4ddb-ad8c-37cd9d69bd74",
   "metadata": {},
   "outputs": [],
   "source": [
    "ds_annotated_full_copy = df.copy()"
   ]
  },
  {
   "cell_type": "code",
   "execution_count": null,
   "id": "f24853f9-690b-4d88-88ea-7a35503830a5",
   "metadata": {},
   "outputs": [],
   "source": []
  }
 ],
 "metadata": {
  "kernelspec": {
   "display_name": "Python 3 (ipykernel)",
   "language": "python",
   "name": "python3"
  },
  "language_info": {
   "codemirror_mode": {
    "name": "ipython",
    "version": 3
   },
   "file_extension": ".py",
   "mimetype": "text/x-python",
   "name": "python",
   "nbconvert_exporter": "python",
   "pygments_lexer": "ipython3",
   "version": "3.9.3"
  }
 },
 "nbformat": 4,
 "nbformat_minor": 5
}
