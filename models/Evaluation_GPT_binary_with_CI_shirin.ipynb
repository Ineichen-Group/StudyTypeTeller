{
 "cells": [
  {
   "cell_type": "code",
   "execution_count": 98,
   "id": "e861e18f-284f-4bd3-a15d-c2d83f82f090",
   "metadata": {
    "scrolled": true
   },
   "outputs": [],
   "source": [
    "import pandas as pd\n",
    "import json\n",
    "import time\n",
    "import matplotlib.pyplot as plt\n",
    "from tqdm import tqdm  # Import tqdm for the progress bar\n",
    "from sklearn.metrics import balanced_accuracy_score\n",
    "from sklearn.metrics import confusion_matrix, accuracy_score, balanced_accuracy_score, classification_report\n",
    "import seaborn as sns\n",
    "import numpy as np\n",
    "import sklearn"
   ]
  },
  {
   "cell_type": "code",
   "execution_count": 99,
   "id": "62cf70b9-0b24-44b1-9f09-b4537aa968e9",
   "metadata": {},
   "outputs": [],
   "source": [
    "from confidenceinterval import classification_report_with_ci\n",
    "from confidenceinterval.bootstrap import bootstrap_ci\n"
   ]
  },
  {
   "cell_type": "markdown",
   "id": "23737756-37bc-4ece-8f25-d613023365a1",
   "metadata": {},
   "source": [
    "# Evaluate Multi-Class\n"
   ]
  },
  {
   "cell_type": "markdown",
   "id": "72c1f875-9e49-4012-ad47-80c82660e8c5",
   "metadata": {},
   "source": [
    "## Load individual file with predictions"
   ]
  },
  {
   "cell_type": "markdown",
   "id": "fdb26c4e-9f42-4762-82b9-dbfbb73915d3",
   "metadata": {},
   "source": [
    "Skip the below if you have already loaded multiple files!"
   ]
  },
  {
   "cell_type": "code",
   "execution_count": 100,
   "id": "fac99f9a-f33f-444c-b35f-75e9de6f4ee9",
   "metadata": {},
   "outputs": [],
   "source": [
    "prompt_ids_to_eval = [\"P2\", \"P3\"] # [\"P6\", \"P7\", \"P11_3\", \"P11_4\"]\n",
    "model = \"gpt-3.5-turbo\" #\"gpt-3.5-turbo\" \"gpt-4-turbo-preview\"\n",
    "data_type = \"enriched_kw\" # change when evaluating enriched without kw/ not enriched to be able to load and save the correct names"
   ]
  },
  {
   "cell_type": "code",
   "execution_count": 101,
   "id": "3451a2a7-aa01-4423-b816-d628e324ac69",
   "metadata": {},
   "outputs": [],
   "source": [
    "# Create the list of prediction columns based on the prompt IDs\n",
    "prediction_columns = [f'gpt_predictions_{prompt_id}' for prompt_id in prompt_ids_to_eval]\n",
    "# Specify the basic columns to include in the DataFrame\n",
    "basic_columns = ['pmid', 'accepted_label', 'multi_label', 'binary_label']\n",
    "# Combine basic columns with the dynamically generated prediction columns\n",
    "columns_to_read = basic_columns + prediction_columns\n",
    "\n",
    "df_binary = pd.read_csv(f\"predictions/{model}_{data_type}_test_outputs_{'_'.join(prompt_ids_to_eval)}_binary.csv\")[columns_to_read]"
   ]
  },
  {
   "cell_type": "code",
   "execution_count": 102,
   "id": "1e4415f3-b7d4-4b30-88db-2381d25714f3",
   "metadata": {},
   "outputs": [
    {
     "data": {
      "text/plain": [
       "['pmid', 'accepted_label', 'multi_label', 'binary_label', 'gpt_predictions_P3']"
      ]
     },
     "execution_count": 102,
     "metadata": {},
     "output_type": "execute_result"
    }
   ],
   "source": [
    "columns_to_read"
   ]
  },
  {
   "cell_type": "code",
   "execution_count": 103,
   "id": "3f4d208e-7607-4467-8bee-642018fea708",
   "metadata": {},
   "outputs": [
    {
     "data": {
      "text/plain": [
       "(534, 5)"
      ]
     },
     "execution_count": 103,
     "metadata": {},
     "output_type": "execute_result"
    }
   ],
   "source": [
    "df_binary.shape"
   ]
  },
  {
   "cell_type": "code",
   "execution_count": 104,
   "id": "c421e880-ddc3-4dc5-be01-72f97a9ee980",
   "metadata": {},
   "outputs": [
    {
     "data": {
      "text/html": [
       "<div>\n",
       "<style scoped>\n",
       "    .dataframe tbody tr th:only-of-type {\n",
       "        vertical-align: middle;\n",
       "    }\n",
       "\n",
       "    .dataframe tbody tr th {\n",
       "        vertical-align: top;\n",
       "    }\n",
       "\n",
       "    .dataframe thead th {\n",
       "        text-align: right;\n",
       "    }\n",
       "</style>\n",
       "<table border=\"1\" class=\"dataframe\">\n",
       "  <thead>\n",
       "    <tr style=\"text-align: right;\">\n",
       "      <th></th>\n",
       "      <th>pmid</th>\n",
       "      <th>accepted_label</th>\n",
       "      <th>multi_label</th>\n",
       "      <th>binary_label</th>\n",
       "      <th>gpt_predictions_P3</th>\n",
       "    </tr>\n",
       "  </thead>\n",
       "  <tbody>\n",
       "    <tr>\n",
       "      <th>0</th>\n",
       "      <td>12047012</td>\n",
       "      <td>Non-systematic-review</td>\n",
       "      <td>1</td>\n",
       "      <td>0</td>\n",
       "      <td>OTHER</td>\n",
       "    </tr>\n",
       "    <tr>\n",
       "      <th>1</th>\n",
       "      <td>28832188</td>\n",
       "      <td>Non-systematic-review</td>\n",
       "      <td>1</td>\n",
       "      <td>0</td>\n",
       "      <td>OTHER</td>\n",
       "    </tr>\n",
       "    <tr>\n",
       "      <th>2</th>\n",
       "      <td>17678496</td>\n",
       "      <td>Non-systematic-review</td>\n",
       "      <td>1</td>\n",
       "      <td>0</td>\n",
       "      <td>OTHER</td>\n",
       "    </tr>\n",
       "    <tr>\n",
       "      <th>3</th>\n",
       "      <td>25649308</td>\n",
       "      <td>Non-systematic-review</td>\n",
       "      <td>1</td>\n",
       "      <td>0</td>\n",
       "      <td>OTHER</td>\n",
       "    </tr>\n",
       "    <tr>\n",
       "      <th>4</th>\n",
       "      <td>6312596</td>\n",
       "      <td>Non-systematic-review</td>\n",
       "      <td>1</td>\n",
       "      <td>0</td>\n",
       "      <td>OTHER</td>\n",
       "    </tr>\n",
       "  </tbody>\n",
       "</table>\n",
       "</div>"
      ],
      "text/plain": [
       "       pmid         accepted_label  multi_label  binary_label  \\\n",
       "0  12047012  Non-systematic-review            1             0   \n",
       "1  28832188  Non-systematic-review            1             0   \n",
       "2  17678496  Non-systematic-review            1             0   \n",
       "3  25649308  Non-systematic-review            1             0   \n",
       "4   6312596  Non-systematic-review            1             0   \n",
       "\n",
       "  gpt_predictions_P3  \n",
       "0              OTHER  \n",
       "1              OTHER  \n",
       "2              OTHER  \n",
       "3              OTHER  \n",
       "4              OTHER  "
      ]
     },
     "execution_count": 104,
     "metadata": {},
     "output_type": "execute_result"
    }
   ],
   "source": [
    "df_binary.head()"
   ]
  },
  {
   "cell_type": "markdown",
   "id": "8ae89110-d694-4650-8b3c-81e46a8b6471",
   "metadata": {},
   "source": [
    "## Map predictions to numerical"
   ]
  },
  {
   "cell_type": "code",
   "execution_count": 105,
   "id": "de860b2b-86a3-4fc3-bd0e-1556a2ac89e7",
   "metadata": {},
   "outputs": [],
   "source": [
    "label_to_numerical = {\n",
    "    'Remaining': 0,\n",
    "    'Non-systematic-review': 1,\n",
    "    'Human-non-RCT-non-drug-intervention': 2,\n",
    "    'Human-non-RCT-drug-intervention': 3,\n",
    "    'Human-case-report': 4,\n",
    "    'Animal-other': 5,\n",
    "    'Animal-drug-intervention': 6,\n",
    "    'Human-systematic-review': 7,\n",
    "    'In-vitro-study': 8,\n",
    "    'Human-RCT-non-drug-intervention': 9,\n",
    "    'Animal-non-drug-intervention': 10,\n",
    "    'Human-RCT-drug-intervention': 11,\n",
    "    'Clinical-study-protocol': 12,\n",
    "    'Human-RCT-non-intervention': 13\n",
    "}"
   ]
  },
  {
   "cell_type": "code",
   "execution_count": 106,
   "id": "33bf7b15-4a76-46f6-a687-19952dd8c57b",
   "metadata": {},
   "outputs": [],
   "source": [
    "numerical_to_label = {v: f\"{v} - {k}\" for k, v in label_to_numerical.items()}"
   ]
  },
  {
   "cell_type": "code",
   "execution_count": 107,
   "id": "8657b963-b35c-4d0a-9b5d-aa8ddeb267d1",
   "metadata": {},
   "outputs": [],
   "source": [
    "import difflib\n",
    "def map_label_fuzzy(label, label_dict):\n",
    "    #label = label.lower().replace('-', '').replace('_', ' ').strip()\n",
    "    best_match = difflib.get_close_matches(label, label_dict.keys(), n=1, cutoff=0.6)\n",
    "    if best_match:\n",
    "        #print(f'{label} matched to {best_match[0]}')\n",
    "        return label_dict[best_match[0]]\n",
    "    return -1"
   ]
  },
  {
   "cell_type": "code",
   "execution_count": 108,
   "id": "5ca5de33-4fc2-40b9-adfe-b972b17f1c65",
   "metadata": {},
   "outputs": [
    {
     "data": {
      "text/plain": [
       "11"
      ]
     },
     "execution_count": 108,
     "metadata": {},
     "output_type": "execute_result"
    }
   ],
   "source": [
    "map_label_fuzzy(\"RCT-drug-intervention\", label_to_numerical)"
   ]
  },
  {
   "cell_type": "code",
   "execution_count": 109,
   "id": "6941ae98-24fd-427f-b649-edbb5718fbd7",
   "metadata": {},
   "outputs": [
    {
     "data": {
      "text/html": [
       "<div>\n",
       "<style scoped>\n",
       "    .dataframe tbody tr th:only-of-type {\n",
       "        vertical-align: middle;\n",
       "    }\n",
       "\n",
       "    .dataframe tbody tr th {\n",
       "        vertical-align: top;\n",
       "    }\n",
       "\n",
       "    .dataframe thead th {\n",
       "        text-align: right;\n",
       "    }\n",
       "</style>\n",
       "<table border=\"1\" class=\"dataframe\">\n",
       "  <thead>\n",
       "    <tr style=\"text-align: right;\">\n",
       "      <th></th>\n",
       "      <th>pmid</th>\n",
       "      <th>accepted_label</th>\n",
       "      <th>multi_label</th>\n",
       "      <th>binary_label</th>\n",
       "      <th>gpt_predictions_P1</th>\n",
       "    </tr>\n",
       "  </thead>\n",
       "  <tbody>\n",
       "    <tr>\n",
       "      <th>0</th>\n",
       "      <td>12047012</td>\n",
       "      <td>Non-systematic-review</td>\n",
       "      <td>1</td>\n",
       "      <td>0</td>\n",
       "      <td>OTHER</td>\n",
       "    </tr>\n",
       "    <tr>\n",
       "      <th>1</th>\n",
       "      <td>28832188</td>\n",
       "      <td>Non-systematic-review</td>\n",
       "      <td>1</td>\n",
       "      <td>0</td>\n",
       "      <td>OTHER</td>\n",
       "    </tr>\n",
       "    <tr>\n",
       "      <th>2</th>\n",
       "      <td>17678496</td>\n",
       "      <td>Non-systematic-review</td>\n",
       "      <td>1</td>\n",
       "      <td>0</td>\n",
       "      <td>OTHER</td>\n",
       "    </tr>\n",
       "    <tr>\n",
       "      <th>3</th>\n",
       "      <td>25649308</td>\n",
       "      <td>Non-systematic-review</td>\n",
       "      <td>1</td>\n",
       "      <td>0</td>\n",
       "      <td>OTHER</td>\n",
       "    </tr>\n",
       "    <tr>\n",
       "      <th>4</th>\n",
       "      <td>6312596</td>\n",
       "      <td>Non-systematic-review</td>\n",
       "      <td>1</td>\n",
       "      <td>0</td>\n",
       "      <td>OTHER</td>\n",
       "    </tr>\n",
       "  </tbody>\n",
       "</table>\n",
       "</div>"
      ],
      "text/plain": [
       "       pmid         accepted_label  multi_label  binary_label  \\\n",
       "0  12047012  Non-systematic-review            1             0   \n",
       "1  28832188  Non-systematic-review            1             0   \n",
       "2  17678496  Non-systematic-review            1             0   \n",
       "3  25649308  Non-systematic-review            1             0   \n",
       "4   6312596  Non-systematic-review            1             0   \n",
       "\n",
       "  gpt_predictions_P1  \n",
       "0              OTHER  \n",
       "1              OTHER  \n",
       "2              OTHER  \n",
       "3              OTHER  \n",
       "4              OTHER  "
      ]
     },
     "execution_count": 109,
     "metadata": {},
     "output_type": "execute_result"
    }
   ],
   "source": [
    "def map_label_to_numerical(label, label_dict):\n",
    "    # Check if label is a dictionary\n",
    "    if isinstance(label, dict):\n",
    "        print(label)\n",
    "        # Extract the label with the highest score/probability\n",
    "        highest_label = max(normalized_label, key=label.get)\n",
    "        return label_dict.get(highest_label, -1)\n",
    "    else:\n",
    "         # Normalize label\n",
    "        normalized_label = label.replace(',', '').strip().replace(' ', '-')#.strip()\n",
    "        # Directly map string labels to numerical IDs\n",
    "        numerical_label = label_dict.get(label, -1)\n",
    "        # Fuzzy match if no direct mapping possible\n",
    "        if numerical_label == -1:\n",
    "            numerical_label = map_label_fuzzy(normalized_label, label_dict)\n",
    "        # If fuzzy match did not work, check if the label string contains the key 'label' and use it to split the string; keep everything to the right as the potential label\n",
    "        if numerical_label == -1:\n",
    "            if 'label' in label:\n",
    "                label_part = label.split('label')[1]\n",
    "                numerical_label = map_label_fuzzy(label_part, label_dict)\n",
    "        return numerical_label\n",
    "        \n",
    "# Convert accepted labels to numerical\n",
    "#df['accepted_label_numerical'] = df['accepted_label'].apply(lambda x: map_label_to_numerical(x, label_to_numerical))\n",
    "\n",
    "\n",
    "#for col in prediction_columns:\n",
    "    df[f'{col}_numerical'] = df[col].apply(lambda x: map_label_to_numerical(x, label_to_numerical))\n",
    "\n",
    "df.head()"
   ]
  },
  {
   "cell_type": "code",
   "execution_count": 110,
   "id": "63e63a06-20aa-411e-b65a-a17c0424946b",
   "metadata": {},
   "outputs": [],
   "source": [
    "def is_list_of_lists(lst):\n",
    "    return all(isinstance(sublist, list) for sublist in lst)\n",
    "\n",
    "if is_list_of_lists(prompt_ids_to_eval):\n",
    "    # Flatten the list of lists\n",
    "    prompt_ids_to_eval_flat = [item for sublist in prompt_ids_to_eval for item in sublist]\n",
    "    # Create a string suffix for the CSV file name\n",
    "    csv_file_suffix = '_'.join(prompt_ids_to_eval_flat)\n",
    "else:\n",
    "    csv_file_suffix = '_'.join(prompt_ids_to_eval)"
   ]
  },
  {
   "cell_type": "code",
   "execution_count": 111,
   "id": "41037782-adf1-4715-99d0-c25423b4afc7",
   "metadata": {},
   "outputs": [],
   "source": [
    "df_binary.to_csv(f\"predictions/{model}_{data_type}_test_outputs_{'_'.join(csv_file_suffix)}_binary_structured.csv\")"
   ]
  },
  {
   "cell_type": "markdown",
   "id": "b61c5fbb-23c4-48b8-be3b-a700d0667854",
   "metadata": {},
   "source": [
    "#### Important: some labels from GPT could not be mapped to a target label"
   ]
  },
  {
   "cell_type": "code",
   "execution_count": 112,
   "id": "64c9a4b8-fe40-4b75-aa4b-47874029ba25",
   "metadata": {},
   "outputs": [],
   "source": [
    "#rows_with_minus_one = df[(df == -1).any(axis=1)]\n",
    "#rows_with_minus_one"
   ]
  },
  {
   "cell_type": "markdown",
   "id": "9c211f76-a138-41a2-a16a-97cdaf21a5bd",
   "metadata": {},
   "source": [
    "## Evaluate prompts"
   ]
  },
  {
   "cell_type": "code",
   "execution_count": 113,
   "id": "b1de7219-5c25-4042-b2c1-236f65150fd1",
   "metadata": {},
   "outputs": [],
   "source": [
    "def evaluate_predictions_with_ci(df, target_label_col, prompt_ids_to_eval, model, eval_type, label_to_numerical, numerical_to_label, csv_file_suffix=None, digits=3):\n",
    "    report_dfs = []\n",
    "    summary_stats = []\n",
    "\n",
    "    for prompt_id in prompt_ids_to_eval:\n",
    "        print(\"Evaluating \", prompt_id)\n",
    "        prediction_col = f'gpt_predictions_{prompt_id}'\n",
    "\n",
    "        # Extract arrays for evaluation\n",
    "        y_true = df[target_label_col].values\n",
    "        y_pred = df[f'{prediction_col}_numerical'].values\n",
    "        cm = confusion_matrix(y_true, y_pred, labels=range(len(label_to_numerical)))\n",
    "        \n",
    "        # Calculate metrics\n",
    "        accuracy = accuracy_score(y_true, y_pred)\n",
    "        accuracy_balanced = balanced_accuracy_score(y_true, y_pred)\n",
    "        report = classification_report_with_ci(y_true, y_pred, numerical_to_label_map=numerical_to_label, round_ndigits = digits)\n",
    "        #from old notebook: report = classification_report(y_true, y_pred, output_dict=True, zero_division=0, labels=range(len(label_to_numerical)), target_names=[numerical_to_label[i] for i in range(len(label_to_numerical))])\n",
    "        \n",
    "        # Create DataFrame from report\n",
    "        report_df = pd.DataFrame(report)\n",
    "        report_df['Prompt ID'] = prompt_id\n",
    "        report_dfs.append(report_df)\n",
    "        \n",
    "        # Extract summary statistics\n",
    "        report_df.set_index('class', inplace=True)\n",
    "        summary = report_df.loc['weighted avg', ['precision', 'precision CI', 'recall', 'recall CI', 'f1-score', 'f1-score CI', 'accuracy', 'accuracy CI']].to_dict()\n",
    "        summary['Prompt ID'] = prompt_id\n",
    "        summary_stats.append(summary)\n",
    "\n",
    "        # Plotting confusion matrix\n",
    "        plt.figure(figsize=(10, 6))\n",
    "        ax = sns.heatmap(cm, annot=True, fmt='d', cmap='Blues', xticklabels=range(len(label_to_numerical)), yticklabels=range(len(label_to_numerical)))\n",
    "        ax.set_yticklabels(ax.get_yticklabels(), rotation=0, fontsize=13)\n",
    "        ax.set_xticklabels(ax.get_xticklabels(), rotation=0, fontsize=13)\n",
    "        plt.title(f'Confusion Matrix for Model {model} and Prompt {prompt_id}', fontsize=14)\n",
    "        plt.xlabel('Predicted Labels', fontsize=13)\n",
    "        plt.ylabel('True Labels', fontsize=13)\n",
    "\n",
    "        # Add an inset with label mapping\n",
    "        textstr = '\\n'.join([f'{v}: {k}' for k, v in label_to_numerical.items()])\n",
    "        props = dict(boxstyle='round', facecolor='wheat', alpha=0.5)\n",
    "        ax.text(1.16, 1.0, textstr, transform=ax.transAxes, fontsize=10, verticalalignment='top', bbox=props)\n",
    "        plt.tight_layout()\n",
    "        plt.savefig(f'plots/confusion_matrix_{model}_{data_type}_{prompt_id}_{eval_type}_with_ci.pdf')  # Save to PDF\n",
    "\n",
    "    # Combine all report DataFrames\n",
    "    all_reports_df = pd.concat(report_dfs)\n",
    "\n",
    "    # Create a summary table for average precision, recall, and F1-score\n",
    "    summary_df = pd.DataFrame(summary_stats)\n",
    "\n",
    "    if not csv_file_suffix:\n",
    "        csv_file_suffix = '_'.join(prompt_ids_to_eval) + \"_\" + eval_type\n",
    "    \n",
    "    # Save results to CSV files\n",
    "    all_reports_df.to_csv(f\"evaluations/{model}_{data_type}_test_per_class_{csv_file_suffix}_{eval_type}_with_ci.csv\")\n",
    "    summary_df.to_csv(f\"evaluations/{model}_{data_type}_test_summary_{csv_file_suffix}_{eval_type}_with_ci.csv\")\n",
    "    \n",
    "    print(\"Results saved to evaluations/ and plots/ folders.\")\n",
    "\n",
    "    return all_reports_df, summary_df\n"
   ]
  },
  {
   "cell_type": "markdown",
   "id": "782475ee-5a2a-4abe-847e-49626c95d5db",
   "metadata": {},
   "source": [
    "## Map to numerical"
   ]
  },
  {
   "cell_type": "code",
   "execution_count": 114,
   "id": "b8be95f1-32fa-4aef-916f-fe9ff51d3f48",
   "metadata": {},
   "outputs": [],
   "source": [
    "label_to_numerical_binary= {\n",
    "    'OTHER': 0,\n",
    "    'ANIMAL': 1,\n",
    "}\n",
    "numerical_to_label_binary = {v: f\"{v} - {k}\" for k, v in label_to_numerical_binary.items()}\n"
   ]
  },
  {
   "cell_type": "code",
   "execution_count": 115,
   "id": "6f403122-319f-4945-8d5c-00f6561173ac",
   "metadata": {},
   "outputs": [],
   "source": [
    "for col in prediction_columns:\n",
    "    df_binary[f'{col}_numerical'] = df_binary[col].apply(lambda x: map_label_to_numerical(x, label_to_numerical_binary))"
   ]
  },
  {
   "cell_type": "code",
   "execution_count": 116,
   "id": "99387a60-ff71-44a9-9322-dd44ac6f2ee4",
   "metadata": {},
   "outputs": [
    {
     "data": {
      "text/html": [
       "<div>\n",
       "<style scoped>\n",
       "    .dataframe tbody tr th:only-of-type {\n",
       "        vertical-align: middle;\n",
       "    }\n",
       "\n",
       "    .dataframe tbody tr th {\n",
       "        vertical-align: top;\n",
       "    }\n",
       "\n",
       "    .dataframe thead th {\n",
       "        text-align: right;\n",
       "    }\n",
       "</style>\n",
       "<table border=\"1\" class=\"dataframe\">\n",
       "  <thead>\n",
       "    <tr style=\"text-align: right;\">\n",
       "      <th></th>\n",
       "      <th>pmid</th>\n",
       "      <th>accepted_label</th>\n",
       "      <th>multi_label</th>\n",
       "      <th>binary_label</th>\n",
       "      <th>gpt_predictions_P3</th>\n",
       "      <th>gpt_predictions_P3_numerical</th>\n",
       "    </tr>\n",
       "  </thead>\n",
       "  <tbody>\n",
       "    <tr>\n",
       "      <th>0</th>\n",
       "      <td>12047012</td>\n",
       "      <td>Non-systematic-review</td>\n",
       "      <td>1</td>\n",
       "      <td>0</td>\n",
       "      <td>OTHER</td>\n",
       "      <td>0</td>\n",
       "    </tr>\n",
       "    <tr>\n",
       "      <th>1</th>\n",
       "      <td>28832188</td>\n",
       "      <td>Non-systematic-review</td>\n",
       "      <td>1</td>\n",
       "      <td>0</td>\n",
       "      <td>OTHER</td>\n",
       "      <td>0</td>\n",
       "    </tr>\n",
       "    <tr>\n",
       "      <th>2</th>\n",
       "      <td>17678496</td>\n",
       "      <td>Non-systematic-review</td>\n",
       "      <td>1</td>\n",
       "      <td>0</td>\n",
       "      <td>OTHER</td>\n",
       "      <td>0</td>\n",
       "    </tr>\n",
       "    <tr>\n",
       "      <th>3</th>\n",
       "      <td>25649308</td>\n",
       "      <td>Non-systematic-review</td>\n",
       "      <td>1</td>\n",
       "      <td>0</td>\n",
       "      <td>OTHER</td>\n",
       "      <td>0</td>\n",
       "    </tr>\n",
       "    <tr>\n",
       "      <th>4</th>\n",
       "      <td>6312596</td>\n",
       "      <td>Non-systematic-review</td>\n",
       "      <td>1</td>\n",
       "      <td>0</td>\n",
       "      <td>OTHER</td>\n",
       "      <td>0</td>\n",
       "    </tr>\n",
       "  </tbody>\n",
       "</table>\n",
       "</div>"
      ],
      "text/plain": [
       "       pmid         accepted_label  multi_label  binary_label  \\\n",
       "0  12047012  Non-systematic-review            1             0   \n",
       "1  28832188  Non-systematic-review            1             0   \n",
       "2  17678496  Non-systematic-review            1             0   \n",
       "3  25649308  Non-systematic-review            1             0   \n",
       "4   6312596  Non-systematic-review            1             0   \n",
       "\n",
       "  gpt_predictions_P3  gpt_predictions_P3_numerical  \n",
       "0              OTHER                             0  \n",
       "1              OTHER                             0  \n",
       "2              OTHER                             0  \n",
       "3              OTHER                             0  \n",
       "4              OTHER                             0  "
      ]
     },
     "execution_count": 116,
     "metadata": {},
     "output_type": "execute_result"
    }
   ],
   "source": [
    "df_binary.head()"
   ]
  },
  {
   "cell_type": "code",
   "execution_count": 117,
   "id": "f22ee38a-5b87-4fe6-93a9-d940045e2454",
   "metadata": {},
   "outputs": [
    {
     "data": {
      "text/html": [
       "<div>\n",
       "<style scoped>\n",
       "    .dataframe tbody tr th:only-of-type {\n",
       "        vertical-align: middle;\n",
       "    }\n",
       "\n",
       "    .dataframe tbody tr th {\n",
       "        vertical-align: top;\n",
       "    }\n",
       "\n",
       "    .dataframe thead th {\n",
       "        text-align: right;\n",
       "    }\n",
       "</style>\n",
       "<table border=\"1\" class=\"dataframe\">\n",
       "  <thead>\n",
       "    <tr style=\"text-align: right;\">\n",
       "      <th></th>\n",
       "      <th>pmid</th>\n",
       "      <th>accepted_label</th>\n",
       "      <th>multi_label</th>\n",
       "      <th>binary_label</th>\n",
       "      <th>gpt_predictions_P3</th>\n",
       "      <th>gpt_predictions_P3_numerical</th>\n",
       "    </tr>\n",
       "  </thead>\n",
       "  <tbody>\n",
       "  </tbody>\n",
       "</table>\n",
       "</div>"
      ],
      "text/plain": [
       "Empty DataFrame\n",
       "Columns: [pmid, accepted_label, multi_label, binary_label, gpt_predictions_P3, gpt_predictions_P3_numerical]\n",
       "Index: []"
      ]
     },
     "execution_count": 117,
     "metadata": {},
     "output_type": "execute_result"
    }
   ],
   "source": [
    "rows_with_minus_one = df_binary[(df_binary == -1).any(axis=1)]\n",
    "rows_with_minus_one"
   ]
  },
  {
   "cell_type": "markdown",
   "id": "d2a82c83-9465-4619-bb26-3950c399db0c",
   "metadata": {},
   "source": [
    "## Evaluate"
   ]
  },
  {
   "cell_type": "code",
   "execution_count": 118,
   "id": "dd952a58-ea4c-4e58-b0a6-fbafc043f336",
   "metadata": {},
   "outputs": [
    {
     "data": {
      "text/plain": [
       "'P3'"
      ]
     },
     "execution_count": 118,
     "metadata": {},
     "output_type": "execute_result"
    }
   ],
   "source": [
    "csv_file_suffix"
   ]
  },
  {
   "cell_type": "code",
   "execution_count": 119,
   "id": "f8942176-4e7e-4df1-853f-37a6e1dadfbd",
   "metadata": {},
   "outputs": [
    {
     "data": {
      "text/plain": [
       "['P3']"
      ]
     },
     "execution_count": 119,
     "metadata": {},
     "output_type": "execute_result"
    }
   ],
   "source": [
    "prompt_ids_to_eval"
   ]
  },
  {
   "cell_type": "code",
   "execution_count": 120,
   "id": "efa2c904-2156-4069-9141-398732642c79",
   "metadata": {},
   "outputs": [
    {
     "name": "stdout",
     "output_type": "stream",
     "text": [
      "Evaluating  P3\n",
      "Results saved to evaluations/ and plots/ folders.\n"
     ]
    },
    {
     "data": {
      "image/png": "[encoded data removed]",
      "text/plain": [
       "<Figure size 1000x600 with 2 Axes>"
      ]
     },
     "metadata": {},
     "output_type": "display_data"
    }
   ],
   "source": [
    "target_label_col = 'binary_label'\n",
    "eval_type = 'binary_label'\n",
    "all_reports_df, summary_df = evaluate_predictions_with_ci(df_binary, target_label_col, prompt_ids_to_eval, model, eval_type, label_to_numerical_binary, numerical_to_label_binary, csv_file_suffix)\n"
   ]
  },
  {
   "cell_type": "code",
   "execution_count": 121,
   "id": "9acb3349-56a7-438f-81da-172bda7f9d40",
   "metadata": {},
   "outputs": [
    {
     "data": {
      "text/html": [
       "<div>\n",
       "<style scoped>\n",
       "    .dataframe tbody tr th:only-of-type {\n",
       "        vertical-align: middle;\n",
       "    }\n",
       "\n",
       "    .dataframe tbody tr th {\n",
       "        vertical-align: top;\n",
       "    }\n",
       "\n",
       "    .dataframe thead th {\n",
       "        text-align: right;\n",
       "    }\n",
       "</style>\n",
       "<table border=\"1\" class=\"dataframe\">\n",
       "  <thead>\n",
       "    <tr style=\"text-align: right;\">\n",
       "      <th></th>\n",
       "      <th>precision</th>\n",
       "      <th>precision CI</th>\n",
       "      <th>recall</th>\n",
       "      <th>recall CI</th>\n",
       "      <th>f1-score</th>\n",
       "      <th>f1-score CI</th>\n",
       "      <th>accuracy</th>\n",
       "      <th>accuracy CI</th>\n",
       "      <th>Prompt ID</th>\n",
       "    </tr>\n",
       "  </thead>\n",
       "  <tbody>\n",
       "    <tr>\n",
       "      <th>0</th>\n",
       "      <td>0.979</td>\n",
       "      <td>(0.968, 0.988)</td>\n",
       "      <td>0.976</td>\n",
       "      <td>(0.961, 0.987)</td>\n",
       "      <td>0.976</td>\n",
       "      <td>(0.962, 0.987)</td>\n",
       "      <td>0.976</td>\n",
       "      <td>(0.961, 0.987)</td>\n",
       "      <td>P3</td>\n",
       "    </tr>\n",
       "  </tbody>\n",
       "</table>\n",
       "</div>"
      ],
      "text/plain": [
       "   precision    precision CI  recall       recall CI  f1-score  \\\n",
       "0      0.979  (0.968, 0.988)   0.976  (0.961, 0.987)     0.976   \n",
       "\n",
       "      f1-score CI  accuracy     accuracy CI Prompt ID  \n",
       "0  (0.962, 0.987)     0.976  (0.961, 0.987)        P3  "
      ]
     },
     "execution_count": 121,
     "metadata": {},
     "output_type": "execute_result"
    }
   ],
   "source": [
    "summary_df"
   ]
  },
  {
   "cell_type": "code",
   "execution_count": 122,
   "id": "cf933f0c-b02b-4356-8b22-045d9fcb1e4e",
   "metadata": {},
   "outputs": [
    {
     "data": {
      "text/html": [
       "<div>\n",
       "<style scoped>\n",
       "    .dataframe tbody tr th:only-of-type {\n",
       "        vertical-align: middle;\n",
       "    }\n",
       "\n",
       "    .dataframe tbody tr th {\n",
       "        vertical-align: top;\n",
       "    }\n",
       "\n",
       "    .dataframe thead th {\n",
       "        text-align: right;\n",
       "    }\n",
       "</style>\n",
       "<table border=\"1\" class=\"dataframe\">\n",
       "  <thead>\n",
       "    <tr style=\"text-align: right;\">\n",
       "      <th></th>\n",
       "      <th>precision</th>\n",
       "      <th>recall</th>\n",
       "      <th>f1-score</th>\n",
       "      <th>accuracy</th>\n",
       "      <th>precision CI</th>\n",
       "      <th>recall CI</th>\n",
       "      <th>f1-score CI</th>\n",
       "      <th>accuracy CI</th>\n",
       "      <th>support</th>\n",
       "      <th>Prompt ID</th>\n",
       "    </tr>\n",
       "    <tr>\n",
       "      <th>class</th>\n",
       "      <th></th>\n",
       "      <th></th>\n",
       "      <th></th>\n",
       "      <th></th>\n",
       "      <th></th>\n",
       "      <th></th>\n",
       "      <th></th>\n",
       "      <th></th>\n",
       "      <th></th>\n",
       "      <th></th>\n",
       "    </tr>\n",
       "  </thead>\n",
       "  <tbody>\n",
       "    <tr>\n",
       "      <th>0 - OTHER</th>\n",
       "      <td>1.000</td>\n",
       "      <td>0.972</td>\n",
       "      <td>0.986</td>\n",
       "      <td>0.976</td>\n",
       "      <td>(0.991, 1.0)</td>\n",
       "      <td>(0.952, 0.983)</td>\n",
       "      <td>(0.973, 0.998)</td>\n",
       "      <td>(0.959, 0.986)</td>\n",
       "      <td>457</td>\n",
       "      <td>P3</td>\n",
       "    </tr>\n",
       "    <tr>\n",
       "      <th>1 - ANIMAL</th>\n",
       "      <td>0.856</td>\n",
       "      <td>1.000</td>\n",
       "      <td>0.922</td>\n",
       "      <td>0.976</td>\n",
       "      <td>(0.768, 0.914)</td>\n",
       "      <td>(0.952, 1.0)</td>\n",
       "      <td>(0.876, 0.968)</td>\n",
       "      <td>(0.959, 0.986)</td>\n",
       "      <td>77</td>\n",
       "      <td>P3</td>\n",
       "    </tr>\n",
       "    <tr>\n",
       "      <th>micro</th>\n",
       "      <td>0.976</td>\n",
       "      <td>0.976</td>\n",
       "      <td>0.976</td>\n",
       "      <td>NaN</td>\n",
       "      <td>(0.963, 0.989)</td>\n",
       "      <td>(0.963, 0.989)</td>\n",
       "      <td>(0.963, 0.989)</td>\n",
       "      <td>NaN</td>\n",
       "      <td>534</td>\n",
       "      <td>P3</td>\n",
       "    </tr>\n",
       "    <tr>\n",
       "      <th>macro</th>\n",
       "      <td>0.928</td>\n",
       "      <td>0.986</td>\n",
       "      <td>0.954</td>\n",
       "      <td>NaN</td>\n",
       "      <td>(0.894, 0.961)</td>\n",
       "      <td>(0.968, 1.004)</td>\n",
       "      <td>(0.892, 1.016)</td>\n",
       "      <td>NaN</td>\n",
       "      <td>534</td>\n",
       "      <td>P3</td>\n",
       "    </tr>\n",
       "    <tr>\n",
       "      <th>weighted avg</th>\n",
       "      <td>0.979</td>\n",
       "      <td>0.976</td>\n",
       "      <td>0.976</td>\n",
       "      <td>0.976</td>\n",
       "      <td>(0.968, 0.988)</td>\n",
       "      <td>(0.961, 0.987)</td>\n",
       "      <td>(0.962, 0.987)</td>\n",
       "      <td>(0.961, 0.987)</td>\n",
       "      <td>534</td>\n",
       "      <td>P3</td>\n",
       "    </tr>\n",
       "    <tr>\n",
       "      <th>accuracy</th>\n",
       "      <td>0.976</td>\n",
       "      <td>0.976</td>\n",
       "      <td>0.976</td>\n",
       "      <td>0.976</td>\n",
       "      <td>(0.961, 0.987)</td>\n",
       "      <td>(0.961, 0.987)</td>\n",
       "      <td>(0.961, 0.987)</td>\n",
       "      <td>(0.961, 0.987)</td>\n",
       "      <td>534</td>\n",
       "      <td>P3</td>\n",
       "    </tr>\n",
       "  </tbody>\n",
       "</table>\n",
       "</div>"
      ],
      "text/plain": [
       "              precision  recall  f1-score  accuracy    precision CI  \\\n",
       "class                                                                 \n",
       "0 - OTHER         1.000   0.972     0.986     0.976    (0.991, 1.0)   \n",
       "1 - ANIMAL        0.856   1.000     0.922     0.976  (0.768, 0.914)   \n",
       "micro             0.976   0.976     0.976       NaN  (0.963, 0.989)   \n",
       "macro             0.928   0.986     0.954       NaN  (0.894, 0.961)   \n",
       "weighted avg      0.979   0.976     0.976     0.976  (0.968, 0.988)   \n",
       "accuracy          0.976   0.976     0.976     0.976  (0.961, 0.987)   \n",
       "\n",
       "                   recall CI     f1-score CI     accuracy CI  support  \\\n",
       "class                                                                   \n",
       "0 - OTHER     (0.952, 0.983)  (0.973, 0.998)  (0.959, 0.986)      457   \n",
       "1 - ANIMAL      (0.952, 1.0)  (0.876, 0.968)  (0.959, 0.986)       77   \n",
       "micro         (0.963, 0.989)  (0.963, 0.989)             NaN      534   \n",
       "macro         (0.968, 1.004)  (0.892, 1.016)             NaN      534   \n",
       "weighted avg  (0.961, 0.987)  (0.962, 0.987)  (0.961, 0.987)      534   \n",
       "accuracy      (0.961, 0.987)  (0.961, 0.987)  (0.961, 0.987)      534   \n",
       "\n",
       "             Prompt ID  \n",
       "class                   \n",
       "0 - OTHER           P3  \n",
       "1 - ANIMAL          P3  \n",
       "micro               P3  \n",
       "macro               P3  \n",
       "weighted avg        P3  \n",
       "accuracy            P3  "
      ]
     },
     "execution_count": 122,
     "metadata": {},
     "output_type": "execute_result"
    }
   ],
   "source": [
    "all_reports_df"
   ]
  },
  {
   "cell_type": "markdown",
   "id": "f320f53e-2a57-440e-ac4b-290805dd7d18",
   "metadata": {},
   "source": [
    "## Format Results and Generate LateX"
   ]
  },
  {
   "cell_type": "code",
   "execution_count": 93,
   "id": "68aab970-6097-4e73-9d8c-2d39904fe9d2",
   "metadata": {},
   "outputs": [
    {
     "data": {
      "text/html": [
       "<div>\n",
       "<style scoped>\n",
       "    .dataframe tbody tr th:only-of-type {\n",
       "        vertical-align: middle;\n",
       "    }\n",
       "\n",
       "    .dataframe tbody tr th {\n",
       "        vertical-align: top;\n",
       "    }\n",
       "\n",
       "    .dataframe thead th {\n",
       "        text-align: right;\n",
       "    }\n",
       "</style>\n",
       "<table border=\"1\" class=\"dataframe\">\n",
       "  <thead>\n",
       "    <tr style=\"text-align: right;\">\n",
       "      <th></th>\n",
       "      <th>precision</th>\n",
       "      <th>precision CI</th>\n",
       "      <th>recall</th>\n",
       "      <th>recall CI</th>\n",
       "      <th>f1-score</th>\n",
       "      <th>f1-score CI</th>\n",
       "      <th>accuracy</th>\n",
       "      <th>accuracy CI</th>\n",
       "      <th>Prompt ID</th>\n",
       "    </tr>\n",
       "  </thead>\n",
       "  <tbody>\n",
       "    <tr>\n",
       "      <th>0</th>\n",
       "      <td>0.918</td>\n",
       "      <td>(0.888, 0.94)</td>\n",
       "      <td>0.921</td>\n",
       "      <td>(0.897, 0.942)</td>\n",
       "      <td>0.914</td>\n",
       "      <td>(0.884, 0.938)</td>\n",
       "      <td>0.921</td>\n",
       "      <td>(0.897, 0.942)</td>\n",
       "      <td>P1</td>\n",
       "    </tr>\n",
       "    <tr>\n",
       "      <th>0</th>\n",
       "      <td>0.912</td>\n",
       "      <td>(0.883, 0.935)</td>\n",
       "      <td>0.916</td>\n",
       "      <td>(0.89, 0.936)</td>\n",
       "      <td>0.906</td>\n",
       "      <td>(0.875, 0.932)</td>\n",
       "      <td>0.916</td>\n",
       "      <td>(0.89, 0.936)</td>\n",
       "      <td>P2</td>\n",
       "    </tr>\n",
       "    <tr>\n",
       "      <th>1</th>\n",
       "      <td>0.948</td>\n",
       "      <td>(0.927, 0.964)</td>\n",
       "      <td>0.946</td>\n",
       "      <td>(0.923, 0.963)</td>\n",
       "      <td>0.947</td>\n",
       "      <td>(0.925, 0.963)</td>\n",
       "      <td>0.946</td>\n",
       "      <td>(0.923, 0.963)</td>\n",
       "      <td>P3</td>\n",
       "    </tr>\n",
       "  </tbody>\n",
       "</table>\n",
       "</div>"
      ],
      "text/plain": [
       "   precision    precision CI  recall       recall CI  f1-score  \\\n",
       "0      0.918   (0.888, 0.94)   0.921  (0.897, 0.942)     0.914   \n",
       "0      0.912  (0.883, 0.935)   0.916   (0.89, 0.936)     0.906   \n",
       "1      0.948  (0.927, 0.964)   0.946  (0.923, 0.963)     0.947   \n",
       "\n",
       "      f1-score CI  accuracy     accuracy CI Prompt ID  \n",
       "0  (0.884, 0.938)     0.921  (0.897, 0.942)        P1  \n",
       "0  (0.875, 0.932)     0.916   (0.89, 0.936)        P2  \n",
       "1  (0.925, 0.963)     0.946  (0.923, 0.963)        P3  "
      ]
     },
     "execution_count": 93,
     "metadata": {},
     "output_type": "execute_result"
    }
   ],
   "source": [
    "# Case of combining separately evaluated prompt files\n",
    "\n",
    "model = \"gpt-3.5-turbo\"\n",
    "\n",
    "prompt_ids_to_eval = [\"P1\"]\n",
    "summary_gpt3_raw_1 = pd.read_csv(f\"evaluations/{model}_{data_type}_test_summary_{'_'.join(prompt_ids_to_eval)}_{eval_type}_with_ci.csv\", index_col=0)\n",
    "\n",
    "prompt_ids_to_eval = [\"P2\", \"P3\"]\n",
    "summary_gpt3_raw_2 = pd.read_csv(f\"evaluations/{model}_{data_type}_test_summary_{'_'.join(prompt_ids_to_eval)}_{eval_type}_with_ci.csv\", index_col=0)\n",
    "\n",
    "summary_gpt3_raw = pd.concat([summary_gpt3_raw_1,summary_gpt3_raw_2]) \n",
    "summary_gpt3_raw"
   ]
  },
  {
   "cell_type": "code",
   "execution_count": 94,
   "id": "9c32739f-f08b-4e9d-8a99-d1aec44e9a62",
   "metadata": {},
   "outputs": [],
   "source": [
    "map_prompt_to_concept = {\n",
    "    'P1': 'zero-shot',\n",
    "    'P2': 'zero-shot',\n",
    "    'P3': 'zero-shot'\n",
    "}"
   ]
  },
  {
   "cell_type": "code",
   "execution_count": 95,
   "id": "2f8ffb79-ff55-452c-bd25-a94511c35956",
   "metadata": {},
   "outputs": [],
   "source": [
    "# Custom sorting function\n",
    "def custom_sort(prompt):\n",
    "    import re\n",
    "    # Extract numbers from the prompt\n",
    "    numbers = re.findall(r'\\d+', prompt)\n",
    "    if numbers:\n",
    "        # Primary sort by the first number, secondary sort by the full string\n",
    "        return (int(numbers[0]), prompt)\n",
    "    return (float('inf'), prompt)  # Handles cases without numbers\n",
    "    \n",
    "def format_summary_for_latex_report(summary_df, map_prompt_to_concept):\n",
    "    summary_df = summary_df.copy()\n",
    "    \n",
    "    # Concatenating each metric with its CI\n",
    "    summary_df['Precision (CI)'] = summary_df['precision'].astype(str) + ' ' + summary_df['precision CI'].astype(str)\n",
    "    summary_df['Recall (CI)'] = summary_df['recall'].astype(str) + ' ' + summary_df['recall CI'].astype(str)\n",
    "    summary_df['F1-Score (CI)'] = summary_df['f1-score'].astype(str) + ' ' + summary_df['f1-score CI'].astype(str)\n",
    "    summary_df['Accuracy (CI)'] = summary_df['accuracy'].astype(str) + ' ' + summary_df['accuracy CI'].astype(str)\n",
    "    \n",
    "    # Dropping old columns\n",
    "    summary_df.drop(columns=['precision', 'precision CI', 'recall', 'recall CI', 'f1-score', 'f1-score CI', 'accuracy', 'accuracy CI'], inplace=True)\n",
    "    \n",
    "    # Rename 'Prompt ID' to 'Prompt'\n",
    "    summary_df.rename(columns={'Prompt ID': 'Prompt'}, inplace=True)\n",
    "    \n",
    "    # Apply the mapping\n",
    "    summary_df['Concept'] = summary_df['Prompt'].map(map_prompt_to_concept)\n",
    "    \n",
    "    # Rearrange the columns to put 'Concept' after 'Prompt'\n",
    "    summary_df = summary_df[['Prompt', 'Concept', 'Precision (CI)', 'Recall (CI)', 'F1-Score (CI)', 'Accuracy (CI)']]\n",
    "\n",
    "    summary_df['sort_key'] = summary_df['Prompt'].apply(custom_sort)\n",
    "    summary_df.sort_values('sort_key', inplace=True)\n",
    "    summary_df.drop('sort_key', inplace=True, axis=1)\n",
    "    \n",
    "    return summary_df\n",
    "    "
   ]
  },
  {
   "cell_type": "code",
   "execution_count": 96,
   "id": "5ab2be62-9f1d-4a62-a807-dd1ead802c8a",
   "metadata": {},
   "outputs": [
    {
     "data": {
      "text/html": [
       "<div>\n",
       "<style scoped>\n",
       "    .dataframe tbody tr th:only-of-type {\n",
       "        vertical-align: middle;\n",
       "    }\n",
       "\n",
       "    .dataframe tbody tr th {\n",
       "        vertical-align: top;\n",
       "    }\n",
       "\n",
       "    .dataframe thead th {\n",
       "        text-align: right;\n",
       "    }\n",
       "</style>\n",
       "<table border=\"1\" class=\"dataframe\">\n",
       "  <thead>\n",
       "    <tr style=\"text-align: right;\">\n",
       "      <th></th>\n",
       "      <th>Prompt</th>\n",
       "      <th>Concept</th>\n",
       "      <th>Precision (CI)</th>\n",
       "      <th>Recall (CI)</th>\n",
       "      <th>F1-Score (CI)</th>\n",
       "      <th>Accuracy (CI)</th>\n",
       "      <th>Model</th>\n",
       "    </tr>\n",
       "  </thead>\n",
       "  <tbody>\n",
       "    <tr>\n",
       "      <th>0</th>\n",
       "      <td>P1</td>\n",
       "      <td>zero-shot</td>\n",
       "      <td>0.918 (0.888, 0.94)</td>\n",
       "      <td>0.921 (0.897, 0.942)</td>\n",
       "      <td>0.914 (0.884, 0.938)</td>\n",
       "      <td>0.921 (0.897, 0.942)</td>\n",
       "      <td>gpt-3.5</td>\n",
       "    </tr>\n",
       "    <tr>\n",
       "      <th>0</th>\n",
       "      <td>P2</td>\n",
       "      <td>zero-shot</td>\n",
       "      <td>0.912 (0.883, 0.935)</td>\n",
       "      <td>0.916 (0.89, 0.936)</td>\n",
       "      <td>0.906 (0.875, 0.932)</td>\n",
       "      <td>0.916 (0.89, 0.936)</td>\n",
       "      <td>gpt-3.5</td>\n",
       "    </tr>\n",
       "    <tr>\n",
       "      <th>1</th>\n",
       "      <td>P3</td>\n",
       "      <td>zero-shot</td>\n",
       "      <td>0.948 (0.927, 0.964)</td>\n",
       "      <td>0.946 (0.923, 0.963)</td>\n",
       "      <td>0.947 (0.925, 0.963)</td>\n",
       "      <td>0.946 (0.923, 0.963)</td>\n",
       "      <td>gpt-3.5</td>\n",
       "    </tr>\n",
       "  </tbody>\n",
       "</table>\n",
       "</div>"
      ],
      "text/plain": [
       "  Prompt    Concept        Precision (CI)           Recall (CI)  \\\n",
       "0     P1  zero-shot   0.918 (0.888, 0.94)  0.921 (0.897, 0.942)   \n",
       "0     P2  zero-shot  0.912 (0.883, 0.935)   0.916 (0.89, 0.936)   \n",
       "1     P3  zero-shot  0.948 (0.927, 0.964)  0.946 (0.923, 0.963)   \n",
       "\n",
       "          F1-Score (CI)         Accuracy (CI)    Model  \n",
       "0  0.914 (0.884, 0.938)  0.921 (0.897, 0.942)  gpt-3.5  \n",
       "0  0.906 (0.875, 0.932)   0.916 (0.89, 0.936)  gpt-3.5  \n",
       "1  0.947 (0.925, 0.963)  0.946 (0.923, 0.963)  gpt-3.5  "
      ]
     },
     "execution_count": 96,
     "metadata": {},
     "output_type": "execute_result"
    }
   ],
   "source": [
    "summary_gpt3 = format_summary_for_latex_report(summary_gpt3_raw, map_prompt_to_concept)\n",
    "summary_gpt3['Model'] = 'gpt-3.5'\n",
    "summary_gpt3 = summary_gpt3.dropna(subset=['Concept'])\n",
    "summary_gpt3"
   ]
  },
  {
   "cell_type": "code",
   "execution_count": 97,
   "id": "b511106a-7789-4bdb-8064-fd01214fb387",
   "metadata": {},
   "outputs": [
    {
     "name": "stdout",
     "output_type": "stream",
     "text": [
      "\\begin{tabular}{lllll}\n",
      "\\toprule\n",
      "Prompt & Concept & Precision (CI) & Recall (CI) & F1-Score (CI) \\\\\n",
      "\\midrule\n",
      "P1 & zero-shot & 0.918 (0.888, 0.94) & 0.921 (0.897, 0.942) & 0.914 (0.884, 0.938) \\\\\n",
      "P2 & zero-shot & 0.912 (0.883, 0.935) & 0.916 (0.89, 0.936) & 0.906 (0.875, 0.932) \\\\\n",
      "P3 & zero-shot & 0.948 (0.927, 0.964) & 0.946 (0.923, 0.963) & 0.947 (0.925, 0.963) \\\\\n",
      "\\bottomrule\n",
      "\\end{tabular}\n",
      "\n"
     ]
    }
   ],
   "source": [
    "summary_gpt3.drop(columns=['Model', 'Accuracy (CI)'], inplace=True)\n",
    "\n",
    "print(summary_gpt3.to_latex(float_format=\"%.3f\", index=False, formatters={'Prompt': lambda x: x.replace('_', r'\\_')}))"
   ]
  },
  {
   "cell_type": "code",
   "execution_count": null,
   "id": "8e8b0e83-8cb5-422b-ae61-0d96578295e9",
   "metadata": {},
   "outputs": [],
   "source": []
  }
 ],
 "metadata": {
  "kernelspec": {
   "display_name": "prodigy",
   "language": "python",
   "name": "prodigy"
  },
  "language_info": {
   "codemirror_mode": {
    "name": "ipython",
    "version": 3
   },
   "file_extension": ".py",
   "mimetype": "text/x-python",
   "name": "python",
   "nbconvert_exporter": "python",
   "pygments_lexer": "ipython3",
   "version": "3.10.11"
  }
 },
 "nbformat": 4,
 "nbformat_minor": 5
}
