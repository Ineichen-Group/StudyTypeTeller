{
 "cells": [
  {
   "cell_type": "code",
   "execution_count": 1,
   "metadata": {},
   "outputs": [],
   "source": [
    "import pandas as pd"
   ]
  },
  {
   "cell_type": "code",
   "execution_count": 2,
   "metadata": {},
   "outputs": [],
   "source": [
    "filepath = './../../data/data_splits_stratified/6-2-2_all_classes_enriched_with_kw/'"
   ]
  },
  {
   "cell_type": "code",
   "execution_count": 3,
   "metadata": {},
   "outputs": [
    {
     "name": "stdout",
     "output_type": "stream",
     "text": [
      "********** Split statisistics **********\n",
      "Train: 1581\n",
      "Val: 530\n",
      "Test: 534\n",
      "Total: 2645\n"
     ]
    }
   ],
   "source": [
    "train_file = f\"{filepath}train.csv\"\n",
    "val_file = f\"{filepath}val.csv\"\n",
    "test_file = f\"{filepath}test.csv\"\n",
    "# Read train, val, and test data\n",
    "train_data = pd.read_csv(train_file)\n",
    "val_data = pd.read_csv(val_file)\n",
    "test_data = pd.read_csv(test_file)\n",
    "df = pd.concat([train_data, val_data, test_data])\n",
    "print(10*'*', 'Split statisistics', 10*'*')\n",
    "print('Train:', len(train_data))\n",
    "print('Val:', len(val_data))\n",
    "print('Test:', len(test_data))\n",
    "print('Total:', len(df))"
   ]
  },
  {
   "cell_type": "code",
   "execution_count": 4,
   "metadata": {},
   "outputs": [
    {
     "name": "stdout",
     "output_type": "stream",
     "text": [
      "<class 'pandas.core.frame.DataFrame'>\n",
      "Index: 2645 entries, 0 to 533\n",
      "Data columns (total 9 columns):\n",
      " #   Column          Non-Null Count  Dtype \n",
      "---  ------          --------------  ----- \n",
      " 0   idx             2645 non-null   int64 \n",
      " 1   pmid            2645 non-null   int64 \n",
      " 2   journal_name    2639 non-null   object\n",
      " 3   title           2645 non-null   object\n",
      " 4   abstract        2645 non-null   object\n",
      " 5   keywords        866 non-null    object\n",
      " 6   accepted_label  2645 non-null   object\n",
      " 7   multi_label     2645 non-null   int64 \n",
      " 8   binary_label    2645 non-null   int64 \n",
      "dtypes: int64(4), object(5)\n",
      "memory usage: 206.6+ KB\n"
     ]
    }
   ],
   "source": [
    "df.info()"
   ]
  },
  {
   "cell_type": "code",
   "execution_count": 8,
   "metadata": {},
   "outputs": [
    {
     "name": "stdout",
     "output_type": "stream",
     "text": [
      "Total n journals: 1262\n"
     ]
    }
   ],
   "source": [
    "print('Total n journals:',df.journal_name.nunique())"
   ]
  },
  {
   "cell_type": "code",
   "execution_count": 5,
   "metadata": {},
   "outputs": [
    {
     "name": "stdout",
     "output_type": "stream",
     "text": [
      "journal_name\n",
      "Scientific reports                                                        31\n",
      "PloS one                                                                  26\n",
      "The Journal of clinical psychiatry                                        21\n",
      "Journal of affective disorders                                            20\n",
      "Journal of Alzheimer's disease : JAD                                      19\n",
      "Neurology                                                                 17\n",
      "Psychiatry research                                                       17\n",
      "Epilepsy & behavior : E&B                                                 16\n",
      "Journal of neurosurgery                                                   16\n",
      "Neurosurgery                                                              16\n",
      "Brain research                                                            15\n",
      "Psychopharmacology                                                        14\n",
      "Journal of neurology, neurosurgery, and psychiatry                        14\n",
      "Alcoholism, clinical and experimental research                            14\n",
      "BMJ open                                                                  14\n",
      "Trials                                                                    13\n",
      "Neuroscience letters                                                      13\n",
      "Movement disorders : official journal of the Movement Disorder Society    13\n",
      "The American journal of psychiatry                                        13\n",
      "Schizophrenia bulletin                                                    12\n",
      "dtype: int64\n"
     ]
    }
   ],
   "source": [
    "jounral_counts = df.groupby('journal_name').size().sort_values(ascending=False)\n",
    "print(jounral_counts[:20])"
   ]
  },
  {
   "cell_type": "code",
   "execution_count": 6,
   "metadata": {},
   "outputs": [
    {
     "data": {
      "text/plain": [
       "binary_label\n",
       "0    2266\n",
       "1     379\n",
       "Name: count, dtype: int64"
      ]
     },
     "execution_count": 6,
     "metadata": {},
     "output_type": "execute_result"
    }
   ],
   "source": [
    "df.binary_label.value_counts()"
   ]
  },
  {
   "cell_type": "code",
   "execution_count": 7,
   "metadata": {},
   "outputs": [
    {
     "data": {
      "text/plain": [
       "accepted_label\n",
       "Remaining                              858\n",
       "Non-systematic-review                  371\n",
       "Human-non-RCT-non-drug-intervention    206\n",
       "Human-non-RCT-drug-intervention        179\n",
       "Human-case-report                      165\n",
       "Animal-other                           155\n",
       "Animal-drug-intervention               147\n",
       "Human-systematic-review                110\n",
       "In-vitro-study                         104\n",
       "Human-RCT-non-drug-intervention         88\n",
       "Animal-non-drug-intervention            77\n",
       "Human-RCT-drug-intervention             73\n",
       "Clinical-study-protocol                 58\n",
       "Human-RCT-non-intervention              54\n",
       "Name: count, dtype: int64"
      ]
     },
     "execution_count": 7,
     "metadata": {},
     "output_type": "execute_result"
    }
   ],
   "source": [
    "df.accepted_label.value_counts()"
   ]
  },
  {
   "cell_type": "code",
   "execution_count": 8,
   "metadata": {},
   "outputs": [
    {
     "name": "stderr",
     "output_type": "stream",
     "text": [
      "[nltk_data] Downloading package punkt to /Users/shtosti/nltk_data...\n",
      "[nltk_data]   Package punkt is already up-to-date!\n"
     ]
    }
   ],
   "source": [
    "import nltk\n",
    "from nltk.tokenize import word_tokenize\n",
    "nltk.download('punkt')\n",
    "\n",
    "def compute_stats(df, col):\n",
    "    def compute_length(text):\n",
    "        return len(word_tokenize(text))\n",
    "    \n",
    "    # for the whole dataset\n",
    "    df['abstract_length'] = df.abstract.apply(compute_length)\n",
    "    dataset_stats = {\n",
    "        'Whole Dataset': {\n",
    "        'Min': df.abstract_length.min(),\n",
    "        'Mean': int(df.abstract_length.mean()),\n",
    "        'Max': df.abstract_length.max()\n",
    "        }\n",
    "    }\n",
    "\n",
    "    class_stats = {}\n",
    "    for label, group in df.groupby(col):\n",
    "        class_stats[label] = {\n",
    "            'Min': group['abstract_length'].min(),\n",
    "            'Mean': int(group['abstract_length'].mean()),\n",
    "            'Max': group['abstract_length'].max()\n",
    "        }\n",
    "\n",
    "    stats_df = pd.DataFrame({\n",
    "        'Label': ['Whole Dataset'] + list(class_stats.keys()),\n",
    "        'Min': [dataset_stats['Whole Dataset']['Min']] + [class_stats[label]['Min'] for label in class_stats],\n",
    "        'Mean': [dataset_stats['Whole Dataset']['Mean']] + [class_stats[label]['Mean'] for label in class_stats],\n",
    "        'Max': [dataset_stats['Whole Dataset']['Max']] + [class_stats[label]['Max'] for label in class_stats],\n",
    "    })\n",
    "\n",
    "\n",
    "    return stats_df\n",
    "\n",
    "    \n"
   ]
  },
  {
   "cell_type": "code",
   "execution_count": 9,
   "metadata": {},
   "outputs": [
    {
     "data": {
      "text/html": [
       "<div>\n",
       "<style scoped>\n",
       "    .dataframe tbody tr th:only-of-type {\n",
       "        vertical-align: middle;\n",
       "    }\n",
       "\n",
       "    .dataframe tbody tr th {\n",
       "        vertical-align: top;\n",
       "    }\n",
       "\n",
       "    .dataframe thead th {\n",
       "        text-align: right;\n",
       "    }\n",
       "</style>\n",
       "<table border=\"1\" class=\"dataframe\">\n",
       "  <thead>\n",
       "    <tr style=\"text-align: right;\">\n",
       "      <th></th>\n",
       "      <th>Label</th>\n",
       "      <th>Min</th>\n",
       "      <th>Mean</th>\n",
       "      <th>Max</th>\n",
       "    </tr>\n",
       "  </thead>\n",
       "  <tbody>\n",
       "    <tr>\n",
       "      <th>0</th>\n",
       "      <td>Whole Dataset</td>\n",
       "      <td>17</td>\n",
       "      <td>237</td>\n",
       "      <td>1040</td>\n",
       "    </tr>\n",
       "    <tr>\n",
       "      <th>1</th>\n",
       "      <td>Animal-drug-intervention</td>\n",
       "      <td>68</td>\n",
       "      <td>237</td>\n",
       "      <td>509</td>\n",
       "    </tr>\n",
       "    <tr>\n",
       "      <th>2</th>\n",
       "      <td>Animal-non-drug-intervention</td>\n",
       "      <td>29</td>\n",
       "      <td>258</td>\n",
       "      <td>459</td>\n",
       "    </tr>\n",
       "    <tr>\n",
       "      <th>3</th>\n",
       "      <td>Animal-other</td>\n",
       "      <td>69</td>\n",
       "      <td>244</td>\n",
       "      <td>468</td>\n",
       "    </tr>\n",
       "    <tr>\n",
       "      <th>4</th>\n",
       "      <td>Clinical-study-protocol</td>\n",
       "      <td>154</td>\n",
       "      <td>318</td>\n",
       "      <td>605</td>\n",
       "    </tr>\n",
       "    <tr>\n",
       "      <th>5</th>\n",
       "      <td>Human-RCT-drug-intervention</td>\n",
       "      <td>58</td>\n",
       "      <td>312</td>\n",
       "      <td>1040</td>\n",
       "    </tr>\n",
       "    <tr>\n",
       "      <th>6</th>\n",
       "      <td>Human-RCT-non-drug-intervention</td>\n",
       "      <td>95</td>\n",
       "      <td>249</td>\n",
       "      <td>574</td>\n",
       "    </tr>\n",
       "    <tr>\n",
       "      <th>7</th>\n",
       "      <td>Human-RCT-non-intervention</td>\n",
       "      <td>124</td>\n",
       "      <td>313</td>\n",
       "      <td>570</td>\n",
       "    </tr>\n",
       "    <tr>\n",
       "      <th>8</th>\n",
       "      <td>Human-case-report</td>\n",
       "      <td>17</td>\n",
       "      <td>162</td>\n",
       "      <td>432</td>\n",
       "    </tr>\n",
       "    <tr>\n",
       "      <th>9</th>\n",
       "      <td>Human-non-RCT-drug-intervention</td>\n",
       "      <td>52</td>\n",
       "      <td>258</td>\n",
       "      <td>605</td>\n",
       "    </tr>\n",
       "    <tr>\n",
       "      <th>10</th>\n",
       "      <td>Human-non-RCT-non-drug-intervention</td>\n",
       "      <td>55</td>\n",
       "      <td>248</td>\n",
       "      <td>682</td>\n",
       "    </tr>\n",
       "    <tr>\n",
       "      <th>11</th>\n",
       "      <td>Human-systematic-review</td>\n",
       "      <td>102</td>\n",
       "      <td>327</td>\n",
       "      <td>928</td>\n",
       "    </tr>\n",
       "    <tr>\n",
       "      <th>12</th>\n",
       "      <td>In-vitro-study</td>\n",
       "      <td>53</td>\n",
       "      <td>237</td>\n",
       "      <td>433</td>\n",
       "    </tr>\n",
       "    <tr>\n",
       "      <th>13</th>\n",
       "      <td>Non-systematic-review</td>\n",
       "      <td>30</td>\n",
       "      <td>185</td>\n",
       "      <td>751</td>\n",
       "    </tr>\n",
       "    <tr>\n",
       "      <th>14</th>\n",
       "      <td>Remaining</td>\n",
       "      <td>24</td>\n",
       "      <td>233</td>\n",
       "      <td>700</td>\n",
       "    </tr>\n",
       "  </tbody>\n",
       "</table>\n",
       "</div>"
      ],
      "text/plain": [
       "                                  Label  Min  Mean   Max\n",
       "0                         Whole Dataset   17   237  1040\n",
       "1              Animal-drug-intervention   68   237   509\n",
       "2          Animal-non-drug-intervention   29   258   459\n",
       "3                          Animal-other   69   244   468\n",
       "4               Clinical-study-protocol  154   318   605\n",
       "5           Human-RCT-drug-intervention   58   312  1040\n",
       "6       Human-RCT-non-drug-intervention   95   249   574\n",
       "7            Human-RCT-non-intervention  124   313   570\n",
       "8                     Human-case-report   17   162   432\n",
       "9       Human-non-RCT-drug-intervention   52   258   605\n",
       "10  Human-non-RCT-non-drug-intervention   55   248   682\n",
       "11              Human-systematic-review  102   327   928\n",
       "12                       In-vitro-study   53   237   433\n",
       "13                Non-systematic-review   30   185   751\n",
       "14                            Remaining   24   233   700"
      ]
     },
     "execution_count": 9,
     "metadata": {},
     "output_type": "execute_result"
    }
   ],
   "source": [
    "stats_df = compute_stats(df, col='accepted_label')\n",
    "stats_df"
   ]
  },
  {
   "cell_type": "code",
   "execution_count": 10,
   "metadata": {},
   "outputs": [
    {
     "data": {
      "text/html": [
       "<div>\n",
       "<style scoped>\n",
       "    .dataframe tbody tr th:only-of-type {\n",
       "        vertical-align: middle;\n",
       "    }\n",
       "\n",
       "    .dataframe tbody tr th {\n",
       "        vertical-align: top;\n",
       "    }\n",
       "\n",
       "    .dataframe thead th {\n",
       "        text-align: right;\n",
       "    }\n",
       "</style>\n",
       "<table border=\"1\" class=\"dataframe\">\n",
       "  <thead>\n",
       "    <tr style=\"text-align: right;\">\n",
       "      <th></th>\n",
       "      <th>Label</th>\n",
       "      <th>Min</th>\n",
       "      <th>Mean</th>\n",
       "      <th>Max</th>\n",
       "    </tr>\n",
       "  </thead>\n",
       "  <tbody>\n",
       "    <tr>\n",
       "      <th>0</th>\n",
       "      <td>Whole Dataset</td>\n",
       "      <td>17</td>\n",
       "      <td>237</td>\n",
       "      <td>1040</td>\n",
       "    </tr>\n",
       "    <tr>\n",
       "      <th>1</th>\n",
       "      <td>0</td>\n",
       "      <td>17</td>\n",
       "      <td>235</td>\n",
       "      <td>1040</td>\n",
       "    </tr>\n",
       "    <tr>\n",
       "      <th>2</th>\n",
       "      <td>1</td>\n",
       "      <td>29</td>\n",
       "      <td>244</td>\n",
       "      <td>509</td>\n",
       "    </tr>\n",
       "  </tbody>\n",
       "</table>\n",
       "</div>"
      ],
      "text/plain": [
       "           Label  Min  Mean   Max\n",
       "0  Whole Dataset   17   237  1040\n",
       "1              0   17   235  1040\n",
       "2              1   29   244   509"
      ]
     },
     "execution_count": 10,
     "metadata": {},
     "output_type": "execute_result"
    }
   ],
   "source": [
    "stats_df = compute_stats(df, col='binary_label')\n",
    "stats_df"
   ]
  },
  {
   "cell_type": "code",
   "execution_count": 17,
   "metadata": {},
   "outputs": [],
   "source": [
    "from matplotlib import pyplot as plt\n",
    "\n",
    "\n",
    "def computeVisualizeStats(df, level='char'):\n",
    "    \"\"\"Function to compute and visualize text statistics:\n",
    "    - on char level\n",
    "    - on token level\n",
    "    \"\"\"\n",
    "\n",
    "    def compute_lengths(text):\n",
    "        if level == 'char':\n",
    "            return len(text)\n",
    "        elif level == 'token':\n",
    "            return len(word_tokenize(text))\n",
    "        else:\n",
    "            raise ValueError(\"specify 'char' or 'token'\")\n",
    "\n",
    "    label_statistics = {}\n",
    "    for label, group in df.groupby('accepted_label'):\n",
    "        title_lengths = group['title'].apply(compute_lengths)\n",
    "        abstract_lengths = group['abstract'].apply(compute_lengths)\n",
    "        label_statistics[label] = {\n",
    "            'Abstract': {\n",
    "                'Mean': abstract_lengths.mean(),\n",
    "                'Min': abstract_lengths.min(),\n",
    "                'Max': abstract_lengths.max()\n",
    "            }\n",
    "        }\n",
    "\n",
    "    # Visualization\n",
    "    labels = []\n",
    "    abstract_means = []\n",
    "    abstract_mins = []\n",
    "    abstract_maxs = []\n",
    "\n",
    "    for label, stats in label_statistics.items():\n",
    "        labels.append(label)\n",
    "        abstract_means.append(stats['Abstract']['Mean'])\n",
    "        abstract_mins.append(stats['Abstract']['Min'])\n",
    "        abstract_maxs.append(stats['Abstract']['Max'])\n",
    "\n",
    "\n",
    "    # plt.subplot(1, 2, 2)\n",
    "    plt.scatter(abstract_mins, labels, color='seagreen', label='Min')\n",
    "    plt.scatter(abstract_means, labels, color='mediumvioletred', label='Mean')\n",
    "    plt.scatter(abstract_maxs, labels, color='steelblue', label='Max')\n",
    "    # plt.title('ABSTRACT Length Statistics\\n')\n",
    "    plt.xlabel('Length (n tokens)', fontsize=14)\n",
    "    plt.ylabel('Labels', fontsize=14)\n",
    "    plt.grid(axis='x', linestyle='--', alpha=0.7)\n",
    "    plt.xticks(rotation=0)\n",
    "    plt.legend(loc='center left', bbox_to_anchor=(1, 0.5))\n",
    "    plt.tight_layout()\n",
    "    plt.savefig('abstract_length.pdf')\n",
    "    plt.show()"
   ]
  },
  {
   "cell_type": "code",
   "execution_count": 18,
   "metadata": {},
   "outputs": [
    {
     "data": {
      "image/png": "[encoded data removed]",
      "text/plain": [
       "<Figure size 640x480 with 1 Axes>"
      ]
     },
     "metadata": {},
     "output_type": "display_data"
    }
   ],
   "source": [
    "computeVisualizeStats(df, level='token')"
   ]
  },
  {
   "cell_type": "code",
   "execution_count": null,
   "metadata": {},
   "outputs": [],
   "source": []
  }
 ],
 "metadata": {
  "kernelspec": {
   "display_name": "Python 3.11.5 ('goodluck')",
   "language": "python",
   "name": "python3"
  },
  "language_info": {
   "codemirror_mode": {
    "name": "ipython",
    "version": 3
   },
   "file_extension": ".py",
   "mimetype": "text/x-python",
   "name": "python",
   "nbconvert_exporter": "python",
   "pygments_lexer": "ipython3",
   "version": "3.11.5"
  },
  "orig_nbformat": 4,
  "vscode": {
   "interpreter": {
    "hash": "07a26d6f3746d282639633122feb76393d490d5e13c413afacfe2f9fb1ddfe8c"
   }
  }
 },
 "nbformat": 4,
 "nbformat_minor": 2
}
